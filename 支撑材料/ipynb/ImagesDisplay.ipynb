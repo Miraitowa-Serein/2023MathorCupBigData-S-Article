{
 "cells": [
  {
   "cell_type": "code",
   "execution_count": 1,
   "id": "initial_id",
   "metadata": {
    "ExecuteTime": {
     "end_time": "2023-11-02T12:27:54.113984800Z",
     "start_time": "2023-11-02T12:27:53.899559800Z"
    },
    "collapsed": false,
    "jupyter": {
     "outputs_hidden": false
    }
   },
   "outputs": [
    {
     "data": {
      "text/plain": [
       "True"
      ]
     },
     "execution_count": 1,
     "metadata": {},
     "output_type": "execute_result"
    }
   ],
   "source": [
    "import cv2\n",
    "\n",
    "img = cv2.imread(\"DATA\\\\potholes\\\\potholes1.jpg\",cv2.IMREAD_COLOR)\n",
    "img = cv2.resize(img, [256,256])\n",
    "\n",
    "Gaussian = cv2.GaussianBlur(img,(3,3),1)\n",
    "Bilateral = cv2.bilateralFilter(img, 9, 75, 75)\n",
    "Rotate = cv2.warpAffine(img, cv2.getRotationMatrix2D((img.shape[1] / 2, img.shape[0] / 2), 30, 1), (img.shape[1], img.shape[0]))\n",
    "\n",
    "cv2.imwrite(\"potholes1_Gaussian.jpg\", Gaussian)\n",
    "cv2.imwrite(\"potholes1_Bilateral.jpg\", Bilateral)\n",
    "cv2.imwrite(\"potholes1_Rotate.jpg\", Rotate)"
   ]
  }
 ],
 "metadata": {
  "kernelspec": {
   "display_name": "Python 3 (ipykernel)",
   "language": "python",
   "name": "python3"
  },
  "language_info": {
   "codemirror_mode": {
    "name": "ipython",
    "version": 3
   },
   "file_extension": ".py",
   "mimetype": "text/x-python",
   "name": "python",
   "nbconvert_exporter": "python",
   "pygments_lexer": "ipython3",
   "version": "3.10.4"
  }
 },
 "nbformat": 4,
 "nbformat_minor": 5
}
