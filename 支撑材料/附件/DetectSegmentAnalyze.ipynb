{
 "cells": [
  {
   "cell_type": "code",
   "execution_count": 1,
   "id": "initial_id",
   "metadata": {
    "ExecuteTime": {
     "end_time": "2023-12-11T08:03:08.068631400Z",
     "start_time": "2023-12-11T08:03:07.648607400Z"
    },
    "collapsed": true,
    "jupyter": {
     "outputs_hidden": true
    }
   },
   "outputs": [],
   "source": [
    "import pandas as pd\n",
    "dataDetect=pd.read_csv('detectResults.txt',sep=' ',header=None)\n",
    "dataSegment=pd.read_csv('segmentResults.txt',sep=' ',header=None)"
   ]
  },
  {
   "cell_type": "code",
   "execution_count": 2,
   "id": "53f47fb86408d9d7",
   "metadata": {
    "ExecuteTime": {
     "end_time": "2023-12-11T08:03:08.102541100Z",
     "start_time": "2023-12-11T08:03:08.069630100Z"
    },
    "collapsed": false,
    "jupyter": {
     "outputs_hidden": false
    }
   },
   "outputs": [
    {
     "data": {
      "text/html": [
       "<div>\n",
       "<style scoped>\n",
       "    .dataframe tbody tr th:only-of-type {\n",
       "        vertical-align: middle;\n",
       "    }\n",
       "\n",
       "    .dataframe tbody tr th {\n",
       "        vertical-align: top;\n",
       "    }\n",
       "\n",
       "    .dataframe thead th {\n",
       "        text-align: right;\n",
       "    }\n",
       "</style>\n",
       "<table border=\"1\" class=\"dataframe\">\n",
       "  <thead>\n",
       "    <tr style=\"text-align: right;\">\n",
       "      <th></th>\n",
       "      <th>fnames</th>\n",
       "      <th>Detect-Npotholes</th>\n",
       "    </tr>\n",
       "  </thead>\n",
       "  <tbody>\n",
       "    <tr>\n",
       "      <th>0</th>\n",
       "      <td>00c9sdfq.jpg</td>\n",
       "      <td>2</td>\n",
       "    </tr>\n",
       "    <tr>\n",
       "      <th>1</th>\n",
       "      <td>00yf8rxj.jpg</td>\n",
       "      <td>1</td>\n",
       "    </tr>\n",
       "    <tr>\n",
       "      <th>2</th>\n",
       "      <td>01lx7dej.jpg</td>\n",
       "      <td>1</td>\n",
       "    </tr>\n",
       "    <tr>\n",
       "      <th>3</th>\n",
       "      <td>01paoyy0.jpg</td>\n",
       "      <td>1</td>\n",
       "    </tr>\n",
       "    <tr>\n",
       "      <th>4</th>\n",
       "      <td>02oxhx7t.jpg</td>\n",
       "      <td>1</td>\n",
       "    </tr>\n",
       "    <tr>\n",
       "      <th>...</th>\n",
       "      <td>...</td>\n",
       "      <td>...</td>\n",
       "    </tr>\n",
       "    <tr>\n",
       "      <th>3940</th>\n",
       "      <td>zynixpux.jpg</td>\n",
       "      <td>3</td>\n",
       "    </tr>\n",
       "    <tr>\n",
       "      <th>3941</th>\n",
       "      <td>zyylqfs0.jpg</td>\n",
       "      <td>1</td>\n",
       "    </tr>\n",
       "    <tr>\n",
       "      <th>3942</th>\n",
       "      <td>zzhe6767.jpg</td>\n",
       "      <td>0</td>\n",
       "    </tr>\n",
       "    <tr>\n",
       "      <th>3943</th>\n",
       "      <td>zzipq9zn.jpg</td>\n",
       "      <td>0</td>\n",
       "    </tr>\n",
       "    <tr>\n",
       "      <th>3944</th>\n",
       "      <td>zzvom0ax.jpg</td>\n",
       "      <td>1</td>\n",
       "    </tr>\n",
       "  </tbody>\n",
       "</table>\n",
       "<p>3945 rows × 2 columns</p>\n",
       "</div>"
      ],
      "text/plain": [
       "            fnames  Detect-Npotholes\n",
       "0     00c9sdfq.jpg                 2\n",
       "1     00yf8rxj.jpg                 1\n",
       "2     01lx7dej.jpg                 1\n",
       "3     01paoyy0.jpg                 1\n",
       "4     02oxhx7t.jpg                 1\n",
       "...            ...               ...\n",
       "3940  zynixpux.jpg                 3\n",
       "3941  zyylqfs0.jpg                 1\n",
       "3942  zzhe6767.jpg                 0\n",
       "3943  zzipq9zn.jpg                 0\n",
       "3944  zzvom0ax.jpg                 1\n",
       "\n",
       "[3945 rows x 2 columns]"
      ]
     },
     "execution_count": 2,
     "metadata": {},
     "output_type": "execute_result"
    }
   ],
   "source": [
    "dataDetect=dataDetect.drop([0,1,3,5,6],axis=1)\n",
    "dataDetect.columns=['fnames','Detect-Npotholes']\n",
    "dataDetect['fnames']=dataDetect['fnames'].str.split('\\\\').str[-1]\n",
    "dataDetect['Detect-Npotholes']=dataDetect['Detect-Npotholes'].str.replace('(','')\n",
    "dataDetect['fnames']=dataDetect['fnames'].str.replace(':','')\n",
    "dataDetect['Detect-Npotholes']=dataDetect['Detect-Npotholes'].str.replace('no','0')\n",
    "dataDetect['Detect-Npotholes']=dataDetect['Detect-Npotholes'].astype('int')\n",
    "dataDetect"
   ]
  },
  {
   "cell_type": "code",
   "execution_count": 3,
   "id": "da436c685ecd8d0b",
   "metadata": {
    "ExecuteTime": {
     "end_time": "2023-12-11T08:03:08.153405100Z",
     "start_time": "2023-12-11T08:03:08.099549100Z"
    },
    "collapsed": false,
    "jupyter": {
     "outputs_hidden": false
    }
   },
   "outputs": [
    {
     "data": {
      "text/html": [
       "<div>\n",
       "<style scoped>\n",
       "    .dataframe tbody tr th:only-of-type {\n",
       "        vertical-align: middle;\n",
       "    }\n",
       "\n",
       "    .dataframe tbody tr th {\n",
       "        vertical-align: top;\n",
       "    }\n",
       "\n",
       "    .dataframe thead th {\n",
       "        text-align: right;\n",
       "    }\n",
       "</style>\n",
       "<table border=\"1\" class=\"dataframe\">\n",
       "  <thead>\n",
       "    <tr style=\"text-align: right;\">\n",
       "      <th></th>\n",
       "      <th>fnames</th>\n",
       "      <th>Segment-Npotholes</th>\n",
       "    </tr>\n",
       "  </thead>\n",
       "  <tbody>\n",
       "    <tr>\n",
       "      <th>0</th>\n",
       "      <td>00c9sdfq.jpg</td>\n",
       "      <td>1</td>\n",
       "    </tr>\n",
       "    <tr>\n",
       "      <th>1</th>\n",
       "      <td>00yf8rxj.jpg</td>\n",
       "      <td>1</td>\n",
       "    </tr>\n",
       "    <tr>\n",
       "      <th>2</th>\n",
       "      <td>01lx7dej.jpg</td>\n",
       "      <td>1</td>\n",
       "    </tr>\n",
       "    <tr>\n",
       "      <th>3</th>\n",
       "      <td>01paoyy0.jpg</td>\n",
       "      <td>2</td>\n",
       "    </tr>\n",
       "    <tr>\n",
       "      <th>4</th>\n",
       "      <td>02oxhx7t.jpg</td>\n",
       "      <td>1</td>\n",
       "    </tr>\n",
       "    <tr>\n",
       "      <th>...</th>\n",
       "      <td>...</td>\n",
       "      <td>...</td>\n",
       "    </tr>\n",
       "    <tr>\n",
       "      <th>3940</th>\n",
       "      <td>zynixpux.jpg</td>\n",
       "      <td>0</td>\n",
       "    </tr>\n",
       "    <tr>\n",
       "      <th>3941</th>\n",
       "      <td>zyylqfs0.jpg</td>\n",
       "      <td>2</td>\n",
       "    </tr>\n",
       "    <tr>\n",
       "      <th>3942</th>\n",
       "      <td>zzhe6767.jpg</td>\n",
       "      <td>0</td>\n",
       "    </tr>\n",
       "    <tr>\n",
       "      <th>3943</th>\n",
       "      <td>zzipq9zn.jpg</td>\n",
       "      <td>1</td>\n",
       "    </tr>\n",
       "    <tr>\n",
       "      <th>3944</th>\n",
       "      <td>zzvom0ax.jpg</td>\n",
       "      <td>1</td>\n",
       "    </tr>\n",
       "  </tbody>\n",
       "</table>\n",
       "<p>3945 rows × 2 columns</p>\n",
       "</div>"
      ],
      "text/plain": [
       "            fnames  Segment-Npotholes\n",
       "0     00c9sdfq.jpg                  1\n",
       "1     00yf8rxj.jpg                  1\n",
       "2     01lx7dej.jpg                  1\n",
       "3     01paoyy0.jpg                  2\n",
       "4     02oxhx7t.jpg                  1\n",
       "...            ...                ...\n",
       "3940  zynixpux.jpg                  0\n",
       "3941  zyylqfs0.jpg                  2\n",
       "3942  zzhe6767.jpg                  0\n",
       "3943  zzipq9zn.jpg                  1\n",
       "3944  zzvom0ax.jpg                  1\n",
       "\n",
       "[3945 rows x 2 columns]"
      ]
     },
     "execution_count": 3,
     "metadata": {},
     "output_type": "execute_result"
    }
   ],
   "source": [
    "dataSegment=dataSegment.drop([0,1,3,5,6],axis=1)\n",
    "dataSegment.columns=['fnames','Segment-Npotholes']\n",
    "dataSegment['fnames']=dataSegment['fnames'].str.split('\\\\').str[-1]\n",
    "dataSegment['Segment-Npotholes']=dataSegment['Segment-Npotholes'].str.replace('(','')\n",
    "dataSegment['fnames']=dataSegment['fnames'].str.replace(':','')\n",
    "dataSegment['Segment-Npotholes']=dataSegment['Segment-Npotholes'].str.replace('no','0')\n",
    "dataSegment['Segment-Npotholes']=dataSegment['Segment-Npotholes'].astype('int')\n",
    "dataSegment"
   ]
  },
  {
   "cell_type": "code",
   "execution_count": 4,
   "id": "769a51a0ac748cce",
   "metadata": {
    "ExecuteTime": {
     "end_time": "2023-12-11T08:03:08.227206900Z",
     "start_time": "2023-12-11T08:03:08.133459400Z"
    },
    "collapsed": false,
    "jupyter": {
     "outputs_hidden": false
    }
   },
   "outputs": [
    {
     "data": {
      "text/html": [
       "<div>\n",
       "<style scoped>\n",
       "    .dataframe tbody tr th:only-of-type {\n",
       "        vertical-align: middle;\n",
       "    }\n",
       "\n",
       "    .dataframe tbody tr th {\n",
       "        vertical-align: top;\n",
       "    }\n",
       "\n",
       "    .dataframe thead th {\n",
       "        text-align: right;\n",
       "    }\n",
       "</style>\n",
       "<table border=\"1\" class=\"dataframe\">\n",
       "  <thead>\n",
       "    <tr style=\"text-align: right;\">\n",
       "      <th></th>\n",
       "      <th>fnames</th>\n",
       "      <th>Detect-Npotholes</th>\n",
       "      <th>Segment-Npotholes</th>\n",
       "    </tr>\n",
       "  </thead>\n",
       "  <tbody>\n",
       "    <tr>\n",
       "      <th>0</th>\n",
       "      <td>00c9sdfq.jpg</td>\n",
       "      <td>2</td>\n",
       "      <td>1</td>\n",
       "    </tr>\n",
       "    <tr>\n",
       "      <th>1</th>\n",
       "      <td>00yf8rxj.jpg</td>\n",
       "      <td>1</td>\n",
       "      <td>1</td>\n",
       "    </tr>\n",
       "    <tr>\n",
       "      <th>2</th>\n",
       "      <td>01lx7dej.jpg</td>\n",
       "      <td>1</td>\n",
       "      <td>1</td>\n",
       "    </tr>\n",
       "    <tr>\n",
       "      <th>3</th>\n",
       "      <td>01paoyy0.jpg</td>\n",
       "      <td>1</td>\n",
       "      <td>2</td>\n",
       "    </tr>\n",
       "    <tr>\n",
       "      <th>4</th>\n",
       "      <td>02oxhx7t.jpg</td>\n",
       "      <td>1</td>\n",
       "      <td>1</td>\n",
       "    </tr>\n",
       "    <tr>\n",
       "      <th>...</th>\n",
       "      <td>...</td>\n",
       "      <td>...</td>\n",
       "      <td>...</td>\n",
       "    </tr>\n",
       "    <tr>\n",
       "      <th>3940</th>\n",
       "      <td>zynixpux.jpg</td>\n",
       "      <td>3</td>\n",
       "      <td>0</td>\n",
       "    </tr>\n",
       "    <tr>\n",
       "      <th>3941</th>\n",
       "      <td>zyylqfs0.jpg</td>\n",
       "      <td>1</td>\n",
       "      <td>2</td>\n",
       "    </tr>\n",
       "    <tr>\n",
       "      <th>3942</th>\n",
       "      <td>zzhe6767.jpg</td>\n",
       "      <td>0</td>\n",
       "      <td>0</td>\n",
       "    </tr>\n",
       "    <tr>\n",
       "      <th>3943</th>\n",
       "      <td>zzipq9zn.jpg</td>\n",
       "      <td>0</td>\n",
       "      <td>1</td>\n",
       "    </tr>\n",
       "    <tr>\n",
       "      <th>3944</th>\n",
       "      <td>zzvom0ax.jpg</td>\n",
       "      <td>1</td>\n",
       "      <td>1</td>\n",
       "    </tr>\n",
       "  </tbody>\n",
       "</table>\n",
       "<p>3945 rows × 3 columns</p>\n",
       "</div>"
      ],
      "text/plain": [
       "            fnames  Detect-Npotholes  Segment-Npotholes\n",
       "0     00c9sdfq.jpg                 2                  1\n",
       "1     00yf8rxj.jpg                 1                  1\n",
       "2     01lx7dej.jpg                 1                  1\n",
       "3     01paoyy0.jpg                 1                  2\n",
       "4     02oxhx7t.jpg                 1                  1\n",
       "...            ...               ...                ...\n",
       "3940  zynixpux.jpg                 3                  0\n",
       "3941  zyylqfs0.jpg                 1                  2\n",
       "3942  zzhe6767.jpg                 0                  0\n",
       "3943  zzipq9zn.jpg                 0                  1\n",
       "3944  zzvom0ax.jpg                 1                  1\n",
       "\n",
       "[3945 rows x 3 columns]"
      ]
     },
     "execution_count": 4,
     "metadata": {},
     "output_type": "execute_result"
    }
   ],
   "source": [
    "data=pd.merge(dataDetect,dataSegment,on='fnames',how='left')\n",
    "data"
   ]
  },
  {
   "cell_type": "code",
   "execution_count": 5,
   "id": "1ff65a6290b39bc1",
   "metadata": {
    "ExecuteTime": {
     "end_time": "2023-12-11T08:03:08.287047600Z",
     "start_time": "2023-12-11T08:03:08.161385Z"
    },
    "collapsed": false,
    "jupyter": {
     "outputs_hidden": false
    }
   },
   "outputs": [],
   "source": [
    "# DetectFalse为Detect-Npotholes为0的个数\n",
    "# DetectTrue为Detect-Npotholes不为0的个数\n",
    "# SegmentFalse为Segment-Npotholes为0的个数\n",
    "# SegmentTrue为Segment-Npotholes不为0的个数\n",
    "DetectFalse=0\n",
    "DetectTrue=0\n",
    "SegmentFalse=0\n",
    "SegmentTrue=0\n",
    "for i in range(len(data)):\n",
    "    if data['Detect-Npotholes'][i]==0:\n",
    "        DetectFalse+=1\n",
    "    else:\n",
    "        DetectTrue+=1\n",
    "    if data['Segment-Npotholes'][i]==0:\n",
    "        SegmentFalse+=1\n",
    "    else:\n",
    "        SegmentTrue+=1"
   ]
  },
  {
   "cell_type": "code",
   "execution_count": 6,
   "id": "ddd2bc5135f7ec78",
   "metadata": {
    "ExecuteTime": {
     "end_time": "2023-12-11T08:03:08.287047600Z",
     "start_time": "2023-12-11T08:03:08.208258900Z"
    },
    "collapsed": false,
    "jupyter": {
     "outputs_hidden": false
    }
   },
   "outputs": [
    {
     "data": {
      "text/plain": [
       "0.7799746514575412"
      ]
     },
     "execution_count": 6,
     "metadata": {},
     "output_type": "execute_result"
    }
   ],
   "source": [
    "DetectTrue/(DetectFalse+DetectTrue)"
   ]
  },
  {
   "cell_type": "code",
   "execution_count": 7,
   "id": "fbfa5f7918b39085",
   "metadata": {
    "ExecuteTime": {
     "end_time": "2023-12-11T08:03:08.288044500Z",
     "start_time": "2023-12-11T08:03:08.225214Z"
    },
    "collapsed": false,
    "jupyter": {
     "outputs_hidden": false
    }
   },
   "outputs": [
    {
     "data": {
      "text/plain": [
       "0.7743979721166033"
      ]
     },
     "execution_count": 7,
     "metadata": {},
     "output_type": "execute_result"
    }
   ],
   "source": [
    "SegmentTrue/(SegmentFalse+SegmentTrue)"
   ]
  }
 ],
 "metadata": {
  "kernelspec": {
   "display_name": "Python 3 (ipykernel)",
   "language": "python",
   "name": "python3"
  },
  "language_info": {
   "codemirror_mode": {
    "name": "ipython",
    "version": 3
   },
   "file_extension": ".py",
   "mimetype": "text/x-python",
   "name": "python",
   "nbconvert_exporter": "python",
   "pygments_lexer": "ipython3",
   "version": "3.10.4"
  }
 },
 "nbformat": 4,
 "nbformat_minor": 5
}
