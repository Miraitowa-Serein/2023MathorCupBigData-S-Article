{
 "cells": [
  {
   "cell_type": "code",
   "execution_count": 1,
   "id": "d775bcbfd99326bb",
   "metadata": {
    "ExecuteTime": {
     "end_time": "2023-12-11T06:27:03.639833900Z",
     "start_time": "2023-12-11T06:27:00.455271300Z"
    },
    "collapsed": false,
    "jupyter": {
     "outputs_hidden": false
    }
   },
   "outputs": [],
   "source": [
    "from ultralytics import YOLO"
   ]
  },
  {
   "cell_type": "code",
   "execution_count": 3,
   "id": "4e24df59d61a9142",
   "metadata": {
    "ExecuteTime": {
     "end_time": "2023-12-10T22:24:03.756344700Z",
     "start_time": "2023-12-10T14:57:56.318272100Z"
    },
    "collapsed": false,
    "jupyter": {
     "outputs_hidden": false
    }
   },
   "outputs": [
    {
     "name": "stdout",
     "output_type": "stream",
     "text": [
      "Ultralytics YOLOv8.0.225 🚀 Python-3.10.4 torch-2.0.1+cu117 CPU (Intel Core(TM) i5-10200H 2.40GHz)\n",
      "\u001b[34m\u001b[1mengine\\trainer: \u001b[0mtask=segment, mode=train, model=yolov8s-seg.pt, data=dataset/VOCdevkit/datasets/potholes.yaml, epochs=300, patience=50, batch=16, imgsz=640, save=True, save_period=-1, cache=False, device=cpu, workers=8, project=None, name=train2, exist_ok=False, pretrained=True, optimizer=auto, verbose=True, seed=0, deterministic=True, single_cls=False, rect=False, cos_lr=False, close_mosaic=10, resume=False, amp=True, fraction=1.0, profile=False, freeze=None, overlap_mask=True, mask_ratio=4, dropout=0.0, val=True, split=val, save_json=False, save_hybrid=False, conf=None, iou=0.7, max_det=300, half=False, dnn=False, plots=True, source=None, vid_stride=1, stream_buffer=False, visualize=False, augment=False, agnostic_nms=False, classes=None, retina_masks=False, show=False, save_frames=False, save_txt=False, save_conf=False, save_crop=False, show_labels=True, show_conf=True, show_boxes=True, line_width=None, format=torchscript, keras=False, optimize=False, int8=False, dynamic=False, simplify=False, opset=None, workspace=4, nms=False, lr0=0.01, lrf=0.01, momentum=0.937, weight_decay=0.0005, warmup_epochs=3.0, warmup_momentum=0.8, warmup_bias_lr=0.1, box=7.5, cls=0.5, dfl=1.5, pose=12.0, kobj=1.0, label_smoothing=0.0, nbs=64, hsv_h=0.015, hsv_s=0.7, hsv_v=0.4, degrees=0.0, translate=0.1, scale=0.5, shear=0.0, perspective=0.0, flipud=0.0, fliplr=0.5, mosaic=1.0, mixup=0.0, copy_paste=0.0, cfg=None, tracker=botsort.yaml, save_dir=runs\\segment\\train2\n",
      "Overriding model.yaml nc=80 with nc=1\n",
      "\n",
      "                   from  n    params  module                                       arguments                     \n",
      "  0                  -1  1       928  ultralytics.nn.modules.conv.Conv             [3, 32, 3, 2]                 \n",
      "  1                  -1  1     18560  ultralytics.nn.modules.conv.Conv             [32, 64, 3, 2]                \n",
      "  2                  -1  1     29056  ultralytics.nn.modules.block.C2f             [64, 64, 1, True]             \n",
      "  3                  -1  1     73984  ultralytics.nn.modules.conv.Conv             [64, 128, 3, 2]               \n",
      "  4                  -1  2    197632  ultralytics.nn.modules.block.C2f             [128, 128, 2, True]           \n",
      "  5                  -1  1    295424  ultralytics.nn.modules.conv.Conv             [128, 256, 3, 2]              \n",
      "  6                  -1  2    788480  ultralytics.nn.modules.block.C2f             [256, 256, 2, True]           \n",
      "  7                  -1  1   1180672  ultralytics.nn.modules.conv.Conv             [256, 512, 3, 2]              \n",
      "  8                  -1  1   1838080  ultralytics.nn.modules.block.C2f             [512, 512, 1, True]           \n",
      "  9                  -1  1    656896  ultralytics.nn.modules.block.SPPF            [512, 512, 5]                 \n",
      " 10                  -1  1         0  torch.nn.modules.upsampling.Upsample         [None, 2, 'nearest']          \n",
      " 11             [-1, 6]  1         0  ultralytics.nn.modules.conv.Concat           [1]                           \n",
      " 12                  -1  1    591360  ultralytics.nn.modules.block.C2f             [768, 256, 1]                 \n",
      " 13                  -1  1         0  torch.nn.modules.upsampling.Upsample         [None, 2, 'nearest']          \n",
      " 14             [-1, 4]  1         0  ultralytics.nn.modules.conv.Concat           [1]                           \n",
      " 15                  -1  1    148224  ultralytics.nn.modules.block.C2f             [384, 128, 1]                 \n",
      " 16                  -1  1    147712  ultralytics.nn.modules.conv.Conv             [128, 128, 3, 2]              \n",
      " 17            [-1, 12]  1         0  ultralytics.nn.modules.conv.Concat           [1]                           \n",
      " 18                  -1  1    493056  ultralytics.nn.modules.block.C2f             [384, 256, 1]                 \n",
      " 19                  -1  1    590336  ultralytics.nn.modules.conv.Conv             [256, 256, 3, 2]              \n",
      " 20             [-1, 9]  1         0  ultralytics.nn.modules.conv.Concat           [1]                           \n",
      " 21                  -1  1   1969152  ultralytics.nn.modules.block.C2f             [768, 512, 1]                 \n",
      " 22        [15, 18, 21]  1   2770931  ultralytics.nn.modules.head.Segment          [1, 32, 128, [128, 256, 512]] \n",
      "YOLOv8s-seg summary: 261 layers, 11790483 parameters, 11790467 gradients, 42.7 GFLOPs\n",
      "\n",
      "Transferred 411/417 items from pretrained weights\n",
      "Freezing layer 'model.22.dfl.conv.weight'\n"
     ]
    },
    {
     "name": "stderr",
     "output_type": "stream",
     "text": [
      "\u001b[34m\u001b[1mtrain: \u001b[0mScanning E:\\University\\PythonProject\\UltralyticsPotholes\\dataset\\VOCdevkit\\datasets\\train\\labels... 140 images, 3 backgrounds, 0 corrupt: 100%|██████████| 140/140 [00:00<00:00, 1105.32it/s]"
     ]
    },
    {
     "name": "stdout",
     "output_type": "stream",
     "text": [
      "\u001b[34m\u001b[1mtrain: \u001b[0mWARNING ⚠️ E:\\University\\PythonProject\\UltralyticsPotholes\\dataset\\VOCdevkit\\datasets\\train\\images\\1 (4).jpg: 1 duplicate labels removed\n",
      "\u001b[34m\u001b[1mtrain: \u001b[0mWARNING ⚠️ E:\\University\\PythonProject\\UltralyticsPotholes\\dataset\\VOCdevkit\\datasets\\train\\images\\potholes32.jpg: 1 duplicate labels removed\n",
      "\u001b[34m\u001b[1mtrain: \u001b[0mNew cache created: E:\\University\\PythonProject\\UltralyticsPotholes\\dataset\\VOCdevkit\\datasets\\train\\labels.cache\n"
     ]
    },
    {
     "name": "stderr",
     "output_type": "stream",
     "text": [
      "\n",
      "\u001b[34m\u001b[1mval: \u001b[0mScanning E:\\University\\PythonProject\\UltralyticsPotholes\\dataset\\VOCdevkit\\datasets\\valid\\labels... 32 images, 0 backgrounds, 0 corrupt: 100%|██████████| 32/32 [00:00<00:00, 916.72it/s]"
     ]
    },
    {
     "name": "stdout",
     "output_type": "stream",
     "text": [
      "\u001b[34m\u001b[1mval: \u001b[0mWARNING ⚠️ E:\\University\\PythonProject\\UltralyticsPotholes\\dataset\\VOCdevkit\\datasets\\valid\\images\\1 (48).jpg: 1 duplicate labels removed\n",
      "\u001b[34m\u001b[1mval: \u001b[0mNew cache created: E:\\University\\PythonProject\\UltralyticsPotholes\\dataset\\VOCdevkit\\datasets\\valid\\labels.cache\n"
     ]
    },
    {
     "name": "stderr",
     "output_type": "stream",
     "text": [
      "\n"
     ]
    },
    {
     "name": "stdout",
     "output_type": "stream",
     "text": [
      "Plotting labels to runs\\segment\\train2\\labels.jpg... \n",
      "\u001b[34m\u001b[1moptimizer:\u001b[0m 'optimizer=auto' found, ignoring 'lr0=0.01' and 'momentum=0.937' and determining best 'optimizer', 'lr0' and 'momentum' automatically... \n",
      "\u001b[34m\u001b[1moptimizer:\u001b[0m AdamW(lr=0.002, momentum=0.9) with parameter groups 66 weight(decay=0.0), 77 weight(decay=0.0005), 76 bias(decay=0.0)\n",
      "Image sizes 640 train, 640 val\n",
      "Using 0 dataloader workers\n",
      "Logging results to \u001b[1mruns\\segment\\train2\u001b[0m\n",
      "Starting training for 300 epochs...\n",
      "\n",
      "      Epoch    GPU_mem   box_loss   seg_loss   cls_loss   dfl_loss  Instances       Size\n"
     ]
    },
    {
     "name": "stderr",
     "output_type": "stream",
     "text": [
      "      1/300         0G      1.589      3.739      3.952      1.547         60        640: 100%|██████████| 9/9 [03:32<00:00, 23.62s/it]\n",
      "                 Class     Images  Instances      Box(P          R      mAP50  mAP50-95)     Mask(P          R      mAP50  mAP50-95): 100%|██████████| 1/1 [00:19<00:00, 19.83s/it]"
     ]
    },
    {
     "name": "stdout",
     "output_type": "stream",
     "text": [
      "                   all         32        110      0.258      0.281      0.154     0.0869      0.219      0.236      0.126     0.0558\n"
     ]
    },
    {
     "name": "stderr",
     "output_type": "stream",
     "text": [
      "\n"
     ]
    },
    {
     "name": "stdout",
     "output_type": "stream",
     "text": [
      "\n",
      "      Epoch    GPU_mem   box_loss   seg_loss   cls_loss   dfl_loss  Instances       Size\n"
     ]
    },
    {
     "name": "stderr",
     "output_type": "stream",
     "text": [
      "      2/300         0G      1.339      2.549      2.091      1.329         53        640: 100%|██████████| 9/9 [03:26<00:00, 22.90s/it]\n",
      "                 Class     Images  Instances      Box(P          R      mAP50  mAP50-95)     Mask(P          R      mAP50  mAP50-95): 100%|██████████| 1/1 [00:22<00:00, 22.27s/it]"
     ]
    },
    {
     "name": "stdout",
     "output_type": "stream",
     "text": [
      "                   all         32        110      0.386      0.336       0.29      0.175      0.376      0.327      0.263      0.126\n"
     ]
    },
    {
     "name": "stderr",
     "output_type": "stream",
     "text": [
      "\n"
     ]
    },
    {
     "name": "stdout",
     "output_type": "stream",
     "text": [
      "\n",
      "      Epoch    GPU_mem   box_loss   seg_loss   cls_loss   dfl_loss  Instances       Size\n"
     ]
    },
    {
     "name": "stderr",
     "output_type": "stream",
     "text": [
      "      3/300         0G      1.353      2.499      1.892      1.363         72        640: 100%|██████████| 9/9 [03:27<00:00, 23.00s/it]\n",
      "                 Class     Images  Instances      Box(P          R      mAP50  mAP50-95)     Mask(P          R      mAP50  mAP50-95): 100%|██████████| 1/1 [00:19<00:00, 19.22s/it]"
     ]
    },
    {
     "name": "stdout",
     "output_type": "stream",
     "text": [
      "                   all         32        110      0.395      0.409      0.322      0.175      0.462      0.309      0.287      0.139\n"
     ]
    },
    {
     "name": "stderr",
     "output_type": "stream",
     "text": [
      "\n"
     ]
    },
    {
     "name": "stdout",
     "output_type": "stream",
     "text": [
      "\n",
      "      Epoch    GPU_mem   box_loss   seg_loss   cls_loss   dfl_loss  Instances       Size\n"
     ]
    },
    {
     "name": "stderr",
     "output_type": "stream",
     "text": [
      "      4/300         0G      1.365      2.416      1.769      1.348         50        640: 100%|██████████| 9/9 [03:23<00:00, 22.58s/it]\n",
      "                 Class     Images  Instances      Box(P          R      mAP50  mAP50-95)     Mask(P          R      mAP50  mAP50-95): 100%|██████████| 1/1 [00:18<00:00, 18.55s/it]"
     ]
    },
    {
     "name": "stdout",
     "output_type": "stream",
     "text": [
      "                   all         32        110      0.288      0.282      0.187     0.0788      0.227      0.218      0.122     0.0632\n"
     ]
    },
    {
     "name": "stderr",
     "output_type": "stream",
     "text": [
      "\n"
     ]
    },
    {
     "name": "stdout",
     "output_type": "stream",
     "text": [
      "\n",
      "      Epoch    GPU_mem   box_loss   seg_loss   cls_loss   dfl_loss  Instances       Size\n"
     ]
    },
    {
     "name": "stderr",
     "output_type": "stream",
     "text": [
      "      5/300         0G      1.503      2.605      1.805      1.482         49        640: 100%|██████████| 9/9 [02:57<00:00, 19.76s/it]\n",
      "                 Class     Images  Instances      Box(P          R      mAP50  mAP50-95)     Mask(P          R      mAP50  mAP50-95): 100%|██████████| 1/1 [00:19<00:00, 19.43s/it]"
     ]
    },
    {
     "name": "stdout",
     "output_type": "stream",
     "text": [
      "                   all         32        110      0.076      0.345      0.074     0.0291     0.0597      0.364     0.0527      0.023\n"
     ]
    },
    {
     "name": "stderr",
     "output_type": "stream",
     "text": [
      "\n"
     ]
    },
    {
     "name": "stdout",
     "output_type": "stream",
     "text": [
      "\n",
      "      Epoch    GPU_mem   box_loss   seg_loss   cls_loss   dfl_loss  Instances       Size\n"
     ]
    },
    {
     "name": "stderr",
     "output_type": "stream",
     "text": [
      "      6/300         0G       1.56      2.554      1.688      1.439         79        640: 100%|██████████| 9/9 [03:03<00:00, 20.34s/it]\n",
      "                 Class     Images  Instances      Box(P          R      mAP50  mAP50-95)     Mask(P          R      mAP50  mAP50-95): 100%|██████████| 1/1 [00:18<00:00, 18.38s/it]"
     ]
    },
    {
     "name": "stdout",
     "output_type": "stream",
     "text": [
      "                   all         32        110     0.0405      0.318     0.0247     0.0108     0.0302      0.264     0.0144    0.00577\n"
     ]
    },
    {
     "name": "stderr",
     "output_type": "stream",
     "text": [
      "\n"
     ]
    },
    {
     "name": "stdout",
     "output_type": "stream",
     "text": [
      "\n",
      "      Epoch    GPU_mem   box_loss   seg_loss   cls_loss   dfl_loss  Instances       Size\n"
     ]
    },
    {
     "name": "stderr",
     "output_type": "stream",
     "text": [
      "      7/300         0G      1.499      2.561      1.699       1.47         79        640: 100%|██████████| 9/9 [03:05<00:00, 20.65s/it]\n",
      "                 Class     Images  Instances      Box(P          R      mAP50  mAP50-95)     Mask(P          R      mAP50  mAP50-95): 100%|██████████| 1/1 [00:18<00:00, 18.17s/it]"
     ]
    },
    {
     "name": "stdout",
     "output_type": "stream",
     "text": [
      "                   all         32        110     0.0328        0.2     0.0313     0.0139     0.0202      0.164     0.0157    0.00723\n"
     ]
    },
    {
     "name": "stderr",
     "output_type": "stream",
     "text": [
      "\n"
     ]
    },
    {
     "name": "stdout",
     "output_type": "stream",
     "text": [
      "\n",
      "      Epoch    GPU_mem   box_loss   seg_loss   cls_loss   dfl_loss  Instances       Size\n"
     ]
    },
    {
     "name": "stderr",
     "output_type": "stream",
     "text": [
      "      8/300         0G      1.508      2.429      1.811      1.432         81        640: 100%|██████████| 9/9 [03:00<00:00, 20.05s/it]\n",
      "                 Class     Images  Instances      Box(P          R      mAP50  mAP50-95)     Mask(P          R      mAP50  mAP50-95): 100%|██████████| 1/1 [00:18<00:00, 18.05s/it]"
     ]
    },
    {
     "name": "stdout",
     "output_type": "stream",
     "text": [
      "                   all         32        110     0.0335      0.118     0.0212    0.00863     0.0188      0.145     0.0133    0.00754\n"
     ]
    },
    {
     "name": "stderr",
     "output_type": "stream",
     "text": [
      "\n"
     ]
    },
    {
     "name": "stdout",
     "output_type": "stream",
     "text": [
      "\n",
      "      Epoch    GPU_mem   box_loss   seg_loss   cls_loss   dfl_loss  Instances       Size\n"
     ]
    },
    {
     "name": "stderr",
     "output_type": "stream",
     "text": [
      "      9/300         0G      1.587       2.68      1.724      1.528         59        640: 100%|██████████| 9/9 [02:59<00:00, 19.90s/it]\n",
      "                 Class     Images  Instances      Box(P          R      mAP50  mAP50-95)     Mask(P          R      mAP50  mAP50-95): 100%|██████████| 1/1 [00:20<00:00, 20.05s/it]"
     ]
    },
    {
     "name": "stdout",
     "output_type": "stream",
     "text": [
      "                   all         32        110      0.081      0.136     0.0325     0.0145      0.148     0.0818     0.0271     0.0109\n"
     ]
    },
    {
     "name": "stderr",
     "output_type": "stream",
     "text": [
      "\n"
     ]
    },
    {
     "name": "stdout",
     "output_type": "stream",
     "text": [
      "\n",
      "      Epoch    GPU_mem   box_loss   seg_loss   cls_loss   dfl_loss  Instances       Size\n"
     ]
    },
    {
     "name": "stderr",
     "output_type": "stream",
     "text": [
      "     10/300         0G      1.469      2.485      1.619      1.461         53        640: 100%|██████████| 9/9 [03:06<00:00, 20.67s/it]\n",
      "                 Class     Images  Instances      Box(P          R      mAP50  mAP50-95)     Mask(P          R      mAP50  mAP50-95): 100%|██████████| 1/1 [00:18<00:00, 18.01s/it]"
     ]
    },
    {
     "name": "stdout",
     "output_type": "stream",
     "text": [
      "                   all         32        110     0.0223        0.1    0.00999    0.00374     0.0227     0.0909     0.0129    0.00363\n"
     ]
    },
    {
     "name": "stderr",
     "output_type": "stream",
     "text": [
      "\n"
     ]
    },
    {
     "name": "stdout",
     "output_type": "stream",
     "text": [
      "\n",
      "      Epoch    GPU_mem   box_loss   seg_loss   cls_loss   dfl_loss  Instances       Size\n"
     ]
    },
    {
     "name": "stderr",
     "output_type": "stream",
     "text": [
      "     11/300         0G      1.632      2.685      1.676      1.536         47        640: 100%|██████████| 9/9 [03:10<00:00, 21.16s/it]\n",
      "                 Class     Images  Instances      Box(P          R      mAP50  mAP50-95)     Mask(P          R      mAP50  mAP50-95): 100%|██████████| 1/1 [00:18<00:00, 18.57s/it]"
     ]
    },
    {
     "name": "stdout",
     "output_type": "stream",
     "text": [
      "                   all         32        110    0.00583      0.136    0.00396    0.00173    0.00502      0.155    0.00275    0.00141\n"
     ]
    },
    {
     "name": "stderr",
     "output_type": "stream",
     "text": [
      "\n"
     ]
    },
    {
     "name": "stdout",
     "output_type": "stream",
     "text": [
      "\n",
      "      Epoch    GPU_mem   box_loss   seg_loss   cls_loss   dfl_loss  Instances       Size\n"
     ]
    },
    {
     "name": "stderr",
     "output_type": "stream",
     "text": [
      "     12/300         0G      1.618      2.736      1.775      1.496         58        640: 100%|██████████| 9/9 [02:59<00:00, 19.97s/it]\n",
      "                 Class     Images  Instances      Box(P          R      mAP50  mAP50-95)     Mask(P          R      mAP50  mAP50-95): 100%|██████████| 1/1 [00:17<00:00, 17.59s/it]"
     ]
    },
    {
     "name": "stdout",
     "output_type": "stream",
     "text": [
      "                   all         32        110    0.00817      0.155    0.00394    0.00142    0.00319     0.0636    0.00129   0.000692\n"
     ]
    },
    {
     "name": "stderr",
     "output_type": "stream",
     "text": [
      "\n"
     ]
    },
    {
     "name": "stdout",
     "output_type": "stream",
     "text": [
      "\n",
      "      Epoch    GPU_mem   box_loss   seg_loss   cls_loss   dfl_loss  Instances       Size\n"
     ]
    },
    {
     "name": "stderr",
     "output_type": "stream",
     "text": [
      "     13/300         0G      1.706       2.63      1.817      1.537         55        640: 100%|██████████| 9/9 [02:57<00:00, 19.73s/it]\n",
      "                 Class     Images  Instances      Box(P          R      mAP50  mAP50-95)     Mask(P          R      mAP50  mAP50-95): 100%|██████████| 1/1 [00:17<00:00, 17.90s/it]"
     ]
    },
    {
     "name": "stdout",
     "output_type": "stream",
     "text": [
      "                   all         32        110     0.0216      0.218     0.0117    0.00416     0.0107      0.109    0.00382    0.00172\n"
     ]
    },
    {
     "name": "stderr",
     "output_type": "stream",
     "text": [
      "\n"
     ]
    },
    {
     "name": "stdout",
     "output_type": "stream",
     "text": [
      "\n",
      "      Epoch    GPU_mem   box_loss   seg_loss   cls_loss   dfl_loss  Instances       Size\n"
     ]
    },
    {
     "name": "stderr",
     "output_type": "stream",
     "text": [
      "     14/300         0G       1.65      2.747       1.74       1.57         65        640: 100%|██████████| 9/9 [02:58<00:00, 19.87s/it]\n",
      "                 Class     Images  Instances      Box(P          R      mAP50  mAP50-95)     Mask(P          R      mAP50  mAP50-95): 100%|██████████| 1/1 [00:17<00:00, 17.63s/it]"
     ]
    },
    {
     "name": "stdout",
     "output_type": "stream",
     "text": [
      "                   all         32        110     0.0737     0.0727     0.0187    0.00616     0.0554     0.0545       0.01    0.00356\n"
     ]
    },
    {
     "name": "stderr",
     "output_type": "stream",
     "text": [
      "\n"
     ]
    },
    {
     "name": "stdout",
     "output_type": "stream",
     "text": [
      "\n",
      "      Epoch    GPU_mem   box_loss   seg_loss   cls_loss   dfl_loss  Instances       Size\n"
     ]
    },
    {
     "name": "stderr",
     "output_type": "stream",
     "text": [
      "     15/300         0G      1.553      2.602      1.633      1.489         57        640: 100%|██████████| 9/9 [02:57<00:00, 19.72s/it]\n",
      "                 Class     Images  Instances      Box(P          R      mAP50  mAP50-95)     Mask(P          R      mAP50  mAP50-95): 100%|██████████| 1/1 [00:16<00:00, 16.03s/it]"
     ]
    },
    {
     "name": "stdout",
     "output_type": "stream",
     "text": [
      "                   all         32        110      0.905     0.0273     0.0311     0.0115      0.905     0.0273     0.0286    0.00566\n"
     ]
    },
    {
     "name": "stderr",
     "output_type": "stream",
     "text": [
      "\n"
     ]
    },
    {
     "name": "stdout",
     "output_type": "stream",
     "text": [
      "\n",
      "      Epoch    GPU_mem   box_loss   seg_loss   cls_loss   dfl_loss  Instances       Size\n"
     ]
    },
    {
     "name": "stderr",
     "output_type": "stream",
     "text": [
      "     16/300         0G      1.658      2.747      1.741      1.533         57        640: 100%|██████████| 9/9 [02:59<00:00, 19.91s/it]\n",
      "                 Class     Images  Instances      Box(P          R      mAP50  mAP50-95)     Mask(P          R      mAP50  mAP50-95): 100%|██████████| 1/1 [00:17<00:00, 17.37s/it]"
     ]
    },
    {
     "name": "stdout",
     "output_type": "stream",
     "text": [
      "                   all         32        110      0.141     0.0636     0.0299     0.0157      0.141     0.0636     0.0307     0.0144\n"
     ]
    },
    {
     "name": "stderr",
     "output_type": "stream",
     "text": [
      "\n"
     ]
    },
    {
     "name": "stdout",
     "output_type": "stream",
     "text": [
      "\n",
      "      Epoch    GPU_mem   box_loss   seg_loss   cls_loss   dfl_loss  Instances       Size\n"
     ]
    },
    {
     "name": "stderr",
     "output_type": "stream",
     "text": [
      "     17/300         0G      1.514      2.571      1.562      1.476         71        640: 100%|██████████| 9/9 [02:58<00:00, 19.85s/it]\n",
      "                 Class     Images  Instances      Box(P          R      mAP50  mAP50-95)     Mask(P          R      mAP50  mAP50-95): 100%|██████████| 1/1 [00:18<00:00, 18.16s/it]"
     ]
    },
    {
     "name": "stdout",
     "output_type": "stream",
     "text": [
      "                   all         32        110      0.237      0.182      0.108     0.0569      0.241      0.173      0.103     0.0502\n"
     ]
    },
    {
     "name": "stderr",
     "output_type": "stream",
     "text": [
      "\n"
     ]
    },
    {
     "name": "stdout",
     "output_type": "stream",
     "text": [
      "\n",
      "      Epoch    GPU_mem   box_loss   seg_loss   cls_loss   dfl_loss  Instances       Size\n"
     ]
    },
    {
     "name": "stderr",
     "output_type": "stream",
     "text": [
      "     18/300         0G      1.566      2.702       1.62      1.499         48        640: 100%|██████████| 9/9 [02:58<00:00, 19.88s/it]\n",
      "                 Class     Images  Instances      Box(P          R      mAP50  mAP50-95)     Mask(P          R      mAP50  mAP50-95): 100%|██████████| 1/1 [00:17<00:00, 17.73s/it]"
     ]
    },
    {
     "name": "stdout",
     "output_type": "stream",
     "text": [
      "                   all         32        110     0.0241      0.155    0.00956    0.00378      0.021      0.145     0.0069    0.00231\n"
     ]
    },
    {
     "name": "stderr",
     "output_type": "stream",
     "text": [
      "\n"
     ]
    },
    {
     "name": "stdout",
     "output_type": "stream",
     "text": [
      "\n",
      "      Epoch    GPU_mem   box_loss   seg_loss   cls_loss   dfl_loss  Instances       Size\n"
     ]
    },
    {
     "name": "stderr",
     "output_type": "stream",
     "text": [
      "     19/300         0G       1.55      2.535      1.591      1.483         70        640: 100%|██████████| 9/9 [03:06<00:00, 20.69s/it]\n",
      "                 Class     Images  Instances      Box(P          R      mAP50  mAP50-95)     Mask(P          R      mAP50  mAP50-95): 100%|██████████| 1/1 [00:17<00:00, 17.28s/it]"
     ]
    },
    {
     "name": "stdout",
     "output_type": "stream",
     "text": [
      "                   all         32        110     0.0559        0.1     0.0256     0.0122     0.0559        0.1     0.0205    0.00871\n"
     ]
    },
    {
     "name": "stderr",
     "output_type": "stream",
     "text": [
      "\n"
     ]
    },
    {
     "name": "stdout",
     "output_type": "stream",
     "text": [
      "\n",
      "      Epoch    GPU_mem   box_loss   seg_loss   cls_loss   dfl_loss  Instances       Size\n"
     ]
    },
    {
     "name": "stderr",
     "output_type": "stream",
     "text": [
      "     20/300         0G      1.594      2.526      1.651      1.507         63        640: 100%|██████████| 9/9 [03:06<00:00, 20.73s/it]\n",
      "                 Class     Images  Instances      Box(P          R      mAP50  mAP50-95)     Mask(P          R      mAP50  mAP50-95): 100%|██████████| 1/1 [00:17<00:00, 17.33s/it]"
     ]
    },
    {
     "name": "stdout",
     "output_type": "stream",
     "text": [
      "                   all         32        110     0.0654      0.145     0.0285     0.0107     0.0507      0.109     0.0177    0.00776\n"
     ]
    },
    {
     "name": "stderr",
     "output_type": "stream",
     "text": [
      "\n"
     ]
    },
    {
     "name": "stdout",
     "output_type": "stream",
     "text": [
      "\n",
      "      Epoch    GPU_mem   box_loss   seg_loss   cls_loss   dfl_loss  Instances       Size\n"
     ]
    },
    {
     "name": "stderr",
     "output_type": "stream",
     "text": [
      "     21/300         0G      1.508      2.338      1.541       1.43         57        640: 100%|██████████| 9/9 [02:58<00:00, 19.88s/it]\n",
      "                 Class     Images  Instances      Box(P          R      mAP50  mAP50-95)     Mask(P          R      mAP50  mAP50-95): 100%|██████████| 1/1 [00:17<00:00, 17.65s/it]"
     ]
    },
    {
     "name": "stdout",
     "output_type": "stream",
     "text": [
      "                   all         32        110      0.114      0.155     0.0535     0.0185     0.0943      0.127     0.0309     0.0116\n"
     ]
    },
    {
     "name": "stderr",
     "output_type": "stream",
     "text": [
      "\n"
     ]
    },
    {
     "name": "stdout",
     "output_type": "stream",
     "text": [
      "\n",
      "      Epoch    GPU_mem   box_loss   seg_loss   cls_loss   dfl_loss  Instances       Size\n"
     ]
    },
    {
     "name": "stderr",
     "output_type": "stream",
     "text": [
      "     22/300         0G      1.489      2.316      1.498      1.427         68        640: 100%|██████████| 9/9 [02:57<00:00, 19.67s/it]\n",
      "                 Class     Images  Instances      Box(P          R      mAP50  mAP50-95)     Mask(P          R      mAP50  mAP50-95): 100%|██████████| 1/1 [00:17<00:00, 17.19s/it]"
     ]
    },
    {
     "name": "stdout",
     "output_type": "stream",
     "text": [
      "                   all         32        110      0.165      0.182     0.0965      0.045      0.115      0.127     0.0633     0.0322\n"
     ]
    },
    {
     "name": "stderr",
     "output_type": "stream",
     "text": [
      "\n"
     ]
    },
    {
     "name": "stdout",
     "output_type": "stream",
     "text": [
      "\n",
      "      Epoch    GPU_mem   box_loss   seg_loss   cls_loss   dfl_loss  Instances       Size\n"
     ]
    },
    {
     "name": "stderr",
     "output_type": "stream",
     "text": [
      "     23/300         0G      1.506        2.4      1.521      1.452         55        640: 100%|██████████| 9/9 [02:57<00:00, 19.71s/it]\n",
      "                 Class     Images  Instances      Box(P          R      mAP50  mAP50-95)     Mask(P          R      mAP50  mAP50-95): 100%|██████████| 1/1 [00:17<00:00, 17.14s/it]"
     ]
    },
    {
     "name": "stdout",
     "output_type": "stream",
     "text": [
      "                   all         32        110     0.0836      0.273     0.0564     0.0281      0.094      0.191     0.0697     0.0291\n"
     ]
    },
    {
     "name": "stderr",
     "output_type": "stream",
     "text": [
      "\n"
     ]
    },
    {
     "name": "stdout",
     "output_type": "stream",
     "text": [
      "\n",
      "      Epoch    GPU_mem   box_loss   seg_loss   cls_loss   dfl_loss  Instances       Size\n"
     ]
    },
    {
     "name": "stderr",
     "output_type": "stream",
     "text": [
      "     24/300         0G      1.546      2.539      1.511      1.483         53        640: 100%|██████████| 9/9 [03:01<00:00, 20.18s/it]\n",
      "                 Class     Images  Instances      Box(P          R      mAP50  mAP50-95)     Mask(P          R      mAP50  mAP50-95): 100%|██████████| 1/1 [00:16<00:00, 16.86s/it]"
     ]
    },
    {
     "name": "stdout",
     "output_type": "stream",
     "text": [
      "                   all         32        110      0.198      0.291      0.138      0.055      0.207      0.238      0.103     0.0419\n"
     ]
    },
    {
     "name": "stderr",
     "output_type": "stream",
     "text": [
      "\n"
     ]
    },
    {
     "name": "stdout",
     "output_type": "stream",
     "text": [
      "\n",
      "      Epoch    GPU_mem   box_loss   seg_loss   cls_loss   dfl_loss  Instances       Size\n"
     ]
    },
    {
     "name": "stderr",
     "output_type": "stream",
     "text": [
      "     25/300         0G      1.471      2.416      1.514      1.391         51        640: 100%|██████████| 9/9 [02:57<00:00, 19.77s/it]\n",
      "                 Class     Images  Instances      Box(P          R      mAP50  mAP50-95)     Mask(P          R      mAP50  mAP50-95): 100%|██████████| 1/1 [00:17<00:00, 17.64s/it]"
     ]
    },
    {
     "name": "stdout",
     "output_type": "stream",
     "text": [
      "                   all         32        110      0.378       0.26      0.219      0.123      0.354      0.244      0.195     0.0918\n"
     ]
    },
    {
     "name": "stderr",
     "output_type": "stream",
     "text": [
      "\n"
     ]
    },
    {
     "name": "stdout",
     "output_type": "stream",
     "text": [
      "\n",
      "      Epoch    GPU_mem   box_loss   seg_loss   cls_loss   dfl_loss  Instances       Size\n"
     ]
    },
    {
     "name": "stderr",
     "output_type": "stream",
     "text": [
      "     26/300         0G      1.429      2.296      1.454      1.367         71        640: 100%|██████████| 9/9 [02:57<00:00, 19.78s/it]\n",
      "                 Class     Images  Instances      Box(P          R      mAP50  mAP50-95)     Mask(P          R      mAP50  mAP50-95): 100%|██████████| 1/1 [00:17<00:00, 17.81s/it]"
     ]
    },
    {
     "name": "stdout",
     "output_type": "stream",
     "text": [
      "                   all         32        110       0.26        0.3      0.177     0.0947      0.251      0.253      0.156     0.0766\n"
     ]
    },
    {
     "name": "stderr",
     "output_type": "stream",
     "text": [
      "\n"
     ]
    },
    {
     "name": "stdout",
     "output_type": "stream",
     "text": [
      "\n",
      "      Epoch    GPU_mem   box_loss   seg_loss   cls_loss   dfl_loss  Instances       Size\n"
     ]
    },
    {
     "name": "stderr",
     "output_type": "stream",
     "text": [
      "     27/300         0G      1.377      2.221      1.428      1.357         56        640: 100%|██████████| 9/9 [02:57<00:00, 19.67s/it]\n",
      "                 Class     Images  Instances      Box(P          R      mAP50  mAP50-95)     Mask(P          R      mAP50  mAP50-95): 100%|██████████| 1/1 [00:17<00:00, 17.62s/it]"
     ]
    },
    {
     "name": "stdout",
     "output_type": "stream",
     "text": [
      "                   all         32        110       0.28      0.245       0.16     0.0824      0.301      0.264      0.169     0.0805\n"
     ]
    },
    {
     "name": "stderr",
     "output_type": "stream",
     "text": [
      "\n"
     ]
    },
    {
     "name": "stdout",
     "output_type": "stream",
     "text": [
      "\n",
      "      Epoch    GPU_mem   box_loss   seg_loss   cls_loss   dfl_loss  Instances       Size\n"
     ]
    },
    {
     "name": "stderr",
     "output_type": "stream",
     "text": [
      "     28/300         0G       1.54      2.607      1.611      1.459         65        640: 100%|██████████| 9/9 [02:55<00:00, 19.54s/it]\n",
      "                 Class     Images  Instances      Box(P          R      mAP50  mAP50-95)     Mask(P          R      mAP50  mAP50-95): 100%|██████████| 1/1 [00:17<00:00, 17.16s/it]"
     ]
    },
    {
     "name": "stdout",
     "output_type": "stream",
     "text": [
      "                   all         32        110      0.504      0.245      0.262       0.13      0.539      0.255      0.271      0.144\n"
     ]
    },
    {
     "name": "stderr",
     "output_type": "stream",
     "text": [
      "\n"
     ]
    },
    {
     "name": "stdout",
     "output_type": "stream",
     "text": [
      "\n",
      "      Epoch    GPU_mem   box_loss   seg_loss   cls_loss   dfl_loss  Instances       Size\n"
     ]
    },
    {
     "name": "stderr",
     "output_type": "stream",
     "text": [
      "     29/300         0G      1.454      2.262      1.473      1.382         61        640: 100%|██████████| 9/9 [02:59<00:00, 19.95s/it]\n",
      "                 Class     Images  Instances      Box(P          R      mAP50  mAP50-95)     Mask(P          R      mAP50  mAP50-95): 100%|██████████| 1/1 [00:16<00:00, 16.90s/it]"
     ]
    },
    {
     "name": "stdout",
     "output_type": "stream",
     "text": [
      "                   all         32        110      0.239      0.218      0.145     0.0727      0.281      0.191      0.123     0.0582\n"
     ]
    },
    {
     "name": "stderr",
     "output_type": "stream",
     "text": [
      "\n"
     ]
    },
    {
     "name": "stdout",
     "output_type": "stream",
     "text": [
      "\n",
      "      Epoch    GPU_mem   box_loss   seg_loss   cls_loss   dfl_loss  Instances       Size\n"
     ]
    },
    {
     "name": "stderr",
     "output_type": "stream",
     "text": [
      "     30/300         0G      1.397      2.253      1.436      1.356         83        640: 100%|██████████| 9/9 [02:59<00:00, 19.94s/it]\n",
      "                 Class     Images  Instances      Box(P          R      mAP50  mAP50-95)     Mask(P          R      mAP50  mAP50-95): 100%|██████████| 1/1 [00:17<00:00, 17.57s/it]"
     ]
    },
    {
     "name": "stdout",
     "output_type": "stream",
     "text": [
      "                   all         32        110      0.345      0.255      0.258      0.124      0.335      0.245      0.228      0.123\n"
     ]
    },
    {
     "name": "stderr",
     "output_type": "stream",
     "text": [
      "\n"
     ]
    },
    {
     "name": "stdout",
     "output_type": "stream",
     "text": [
      "\n",
      "      Epoch    GPU_mem   box_loss   seg_loss   cls_loss   dfl_loss  Instances       Size\n"
     ]
    },
    {
     "name": "stderr",
     "output_type": "stream",
     "text": [
      "     31/300         0G      1.517      2.342      1.451      1.436         75        640: 100%|██████████| 9/9 [03:05<00:00, 20.63s/it]\n",
      "                 Class     Images  Instances      Box(P          R      mAP50  mAP50-95)     Mask(P          R      mAP50  mAP50-95): 100%|██████████| 1/1 [00:17<00:00, 17.30s/it]"
     ]
    },
    {
     "name": "stdout",
     "output_type": "stream",
     "text": [
      "                   all         32        110      0.452      0.364      0.314      0.136       0.44      0.355      0.297      0.133\n"
     ]
    },
    {
     "name": "stderr",
     "output_type": "stream",
     "text": [
      "\n"
     ]
    },
    {
     "name": "stdout",
     "output_type": "stream",
     "text": [
      "\n",
      "      Epoch    GPU_mem   box_loss   seg_loss   cls_loss   dfl_loss  Instances       Size\n"
     ]
    },
    {
     "name": "stderr",
     "output_type": "stream",
     "text": [
      "     32/300         0G      1.418      2.155      1.377      1.355         64        640: 100%|██████████| 9/9 [03:13<00:00, 21.46s/it]\n",
      "                 Class     Images  Instances      Box(P          R      mAP50  mAP50-95)     Mask(P          R      mAP50  mAP50-95): 100%|██████████| 1/1 [00:16<00:00, 16.79s/it]"
     ]
    },
    {
     "name": "stdout",
     "output_type": "stream",
     "text": [
      "                   all         32        110      0.522      0.355      0.334      0.155      0.476      0.318      0.296      0.142\n"
     ]
    },
    {
     "name": "stderr",
     "output_type": "stream",
     "text": [
      "\n"
     ]
    },
    {
     "name": "stdout",
     "output_type": "stream",
     "text": [
      "\n",
      "      Epoch    GPU_mem   box_loss   seg_loss   cls_loss   dfl_loss  Instances       Size\n"
     ]
    },
    {
     "name": "stderr",
     "output_type": "stream",
     "text": [
      "     33/300         0G      1.463       2.27      1.358      1.393         73        640: 100%|██████████| 9/9 [03:21<00:00, 22.43s/it]\n",
      "                 Class     Images  Instances      Box(P          R      mAP50  mAP50-95)     Mask(P          R      mAP50  mAP50-95): 100%|██████████| 1/1 [00:16<00:00, 16.10s/it]"
     ]
    },
    {
     "name": "stdout",
     "output_type": "stream",
     "text": [
      "                   all         32        110      0.463      0.336      0.319      0.138      0.408      0.382      0.323      0.163\n"
     ]
    },
    {
     "name": "stderr",
     "output_type": "stream",
     "text": [
      "\n"
     ]
    },
    {
     "name": "stdout",
     "output_type": "stream",
     "text": [
      "\n",
      "      Epoch    GPU_mem   box_loss   seg_loss   cls_loss   dfl_loss  Instances       Size\n"
     ]
    },
    {
     "name": "stderr",
     "output_type": "stream",
     "text": [
      "     34/300         0G      1.433      2.178      1.318      1.379         57        640: 100%|██████████| 9/9 [03:11<00:00, 21.27s/it]\n",
      "                 Class     Images  Instances      Box(P          R      mAP50  mAP50-95)     Mask(P          R      mAP50  mAP50-95): 100%|██████████| 1/1 [00:16<00:00, 16.35s/it]"
     ]
    },
    {
     "name": "stdout",
     "output_type": "stream",
     "text": [
      "                   all         32        110      0.391        0.4      0.347      0.169      0.469      0.364      0.335      0.164\n"
     ]
    },
    {
     "name": "stderr",
     "output_type": "stream",
     "text": [
      "\n"
     ]
    },
    {
     "name": "stdout",
     "output_type": "stream",
     "text": [
      "\n",
      "      Epoch    GPU_mem   box_loss   seg_loss   cls_loss   dfl_loss  Instances       Size\n"
     ]
    },
    {
     "name": "stderr",
     "output_type": "stream",
     "text": [
      "     35/300         0G      1.364      2.168      1.323      1.331         70        640: 100%|██████████| 9/9 [03:06<00:00, 20.70s/it]\n",
      "                 Class     Images  Instances      Box(P          R      mAP50  mAP50-95)     Mask(P          R      mAP50  mAP50-95): 100%|██████████| 1/1 [00:16<00:00, 16.01s/it]"
     ]
    },
    {
     "name": "stdout",
     "output_type": "stream",
     "text": [
      "                   all         32        110        0.4      0.373      0.307      0.125      0.337      0.318      0.254      0.122\n"
     ]
    },
    {
     "name": "stderr",
     "output_type": "stream",
     "text": [
      "\n"
     ]
    },
    {
     "name": "stdout",
     "output_type": "stream",
     "text": [
      "\n",
      "      Epoch    GPU_mem   box_loss   seg_loss   cls_loss   dfl_loss  Instances       Size\n"
     ]
    },
    {
     "name": "stderr",
     "output_type": "stream",
     "text": [
      "     36/300         0G      1.399      2.369      1.324       1.39         44        640: 100%|██████████| 9/9 [03:13<00:00, 21.50s/it]\n",
      "                 Class     Images  Instances      Box(P          R      mAP50  mAP50-95)     Mask(P          R      mAP50  mAP50-95): 100%|██████████| 1/1 [00:16<00:00, 16.38s/it]"
     ]
    },
    {
     "name": "stdout",
     "output_type": "stream",
     "text": [
      "                   all         32        110      0.511      0.264      0.249      0.124      0.529      0.273      0.245       0.12\n"
     ]
    },
    {
     "name": "stderr",
     "output_type": "stream",
     "text": [
      "\n"
     ]
    },
    {
     "name": "stdout",
     "output_type": "stream",
     "text": [
      "\n",
      "      Epoch    GPU_mem   box_loss   seg_loss   cls_loss   dfl_loss  Instances       Size\n"
     ]
    },
    {
     "name": "stderr",
     "output_type": "stream",
     "text": [
      "     37/300         0G      1.358      2.158      1.324      1.356         43        640: 100%|██████████| 9/9 [03:22<00:00, 22.45s/it]\n",
      "                 Class     Images  Instances      Box(P          R      mAP50  mAP50-95)     Mask(P          R      mAP50  mAP50-95): 100%|██████████| 1/1 [00:16<00:00, 16.63s/it]"
     ]
    },
    {
     "name": "stdout",
     "output_type": "stream",
     "text": [
      "                   all         32        110      0.469      0.291      0.282      0.143      0.487      0.291      0.279      0.138\n"
     ]
    },
    {
     "name": "stderr",
     "output_type": "stream",
     "text": [
      "\n"
     ]
    },
    {
     "name": "stdout",
     "output_type": "stream",
     "text": [
      "\n",
      "      Epoch    GPU_mem   box_loss   seg_loss   cls_loss   dfl_loss  Instances       Size\n"
     ]
    },
    {
     "name": "stderr",
     "output_type": "stream",
     "text": [
      "     38/300         0G      1.326      2.073      1.227      1.294         71        640: 100%|██████████| 9/9 [03:15<00:00, 21.72s/it]\n",
      "                 Class     Images  Instances      Box(P          R      mAP50  mAP50-95)     Mask(P          R      mAP50  mAP50-95): 100%|██████████| 1/1 [00:16<00:00, 16.96s/it]"
     ]
    },
    {
     "name": "stdout",
     "output_type": "stream",
     "text": [
      "                   all         32        110      0.521      0.336      0.354      0.193      0.677        0.3      0.332      0.172\n"
     ]
    },
    {
     "name": "stderr",
     "output_type": "stream",
     "text": [
      "\n"
     ]
    },
    {
     "name": "stdout",
     "output_type": "stream",
     "text": [
      "\n",
      "      Epoch    GPU_mem   box_loss   seg_loss   cls_loss   dfl_loss  Instances       Size\n"
     ]
    },
    {
     "name": "stderr",
     "output_type": "stream",
     "text": [
      "     39/300         0G      1.349      2.172      1.317      1.346         59        640: 100%|██████████| 9/9 [03:26<00:00, 22.92s/it]\n",
      "                 Class     Images  Instances      Box(P          R      mAP50  mAP50-95)     Mask(P          R      mAP50  mAP50-95): 100%|██████████| 1/1 [00:16<00:00, 16.75s/it]"
     ]
    },
    {
     "name": "stdout",
     "output_type": "stream",
     "text": [
      "                   all         32        110      0.522      0.336      0.324      0.153      0.475      0.313      0.294      0.142\n"
     ]
    },
    {
     "name": "stderr",
     "output_type": "stream",
     "text": [
      "\n"
     ]
    },
    {
     "name": "stdout",
     "output_type": "stream",
     "text": [
      "\n",
      "      Epoch    GPU_mem   box_loss   seg_loss   cls_loss   dfl_loss  Instances       Size\n"
     ]
    },
    {
     "name": "stderr",
     "output_type": "stream",
     "text": [
      "     40/300         0G      1.364      2.209      1.329      1.344         70        640: 100%|██████████| 9/9 [03:05<00:00, 20.64s/it]\n",
      "                 Class     Images  Instances      Box(P          R      mAP50  mAP50-95)     Mask(P          R      mAP50  mAP50-95): 100%|██████████| 1/1 [00:16<00:00, 16.83s/it]"
     ]
    },
    {
     "name": "stdout",
     "output_type": "stream",
     "text": [
      "                   all         32        110      0.402      0.354      0.303      0.138      0.458        0.3      0.269      0.115\n"
     ]
    },
    {
     "name": "stderr",
     "output_type": "stream",
     "text": [
      "\n"
     ]
    },
    {
     "name": "stdout",
     "output_type": "stream",
     "text": [
      "\n",
      "      Epoch    GPU_mem   box_loss   seg_loss   cls_loss   dfl_loss  Instances       Size\n"
     ]
    },
    {
     "name": "stderr",
     "output_type": "stream",
     "text": [
      "     41/300         0G       1.32      2.191      1.274       1.33         66        640: 100%|██████████| 9/9 [03:03<00:00, 20.35s/it]\n",
      "                 Class     Images  Instances      Box(P          R      mAP50  mAP50-95)     Mask(P          R      mAP50  mAP50-95): 100%|██████████| 1/1 [00:16<00:00, 16.30s/it]"
     ]
    },
    {
     "name": "stdout",
     "output_type": "stream",
     "text": [
      "                   all         32        110      0.435      0.382       0.33      0.171      0.467      0.327      0.293      0.141\n"
     ]
    },
    {
     "name": "stderr",
     "output_type": "stream",
     "text": [
      "\n"
     ]
    },
    {
     "name": "stdout",
     "output_type": "stream",
     "text": [
      "\n",
      "      Epoch    GPU_mem   box_loss   seg_loss   cls_loss   dfl_loss  Instances       Size\n"
     ]
    },
    {
     "name": "stderr",
     "output_type": "stream",
     "text": [
      "     42/300         0G      1.322      2.019      1.211       1.34         39        640: 100%|██████████| 9/9 [03:26<00:00, 22.93s/it]\n",
      "                 Class     Images  Instances      Box(P          R      mAP50  mAP50-95)     Mask(P          R      mAP50  mAP50-95): 100%|██████████| 1/1 [00:16<00:00, 16.36s/it]"
     ]
    },
    {
     "name": "stdout",
     "output_type": "stream",
     "text": [
      "                   all         32        110      0.367      0.382      0.235      0.122      0.352      0.309      0.217     0.0925\n"
     ]
    },
    {
     "name": "stderr",
     "output_type": "stream",
     "text": [
      "\n"
     ]
    },
    {
     "name": "stdout",
     "output_type": "stream",
     "text": [
      "\n",
      "      Epoch    GPU_mem   box_loss   seg_loss   cls_loss   dfl_loss  Instances       Size\n"
     ]
    },
    {
     "name": "stderr",
     "output_type": "stream",
     "text": [
      "     43/300         0G      1.266      2.055      1.187      1.271         63        640: 100%|██████████| 9/9 [03:21<00:00, 22.44s/it]\n",
      "                 Class     Images  Instances      Box(P          R      mAP50  mAP50-95)     Mask(P          R      mAP50  mAP50-95): 100%|██████████| 1/1 [00:16<00:00, 17.00s/it]"
     ]
    },
    {
     "name": "stdout",
     "output_type": "stream",
     "text": [
      "                   all         32        110      0.495      0.318      0.319      0.147      0.495      0.318      0.312      0.143\n"
     ]
    },
    {
     "name": "stderr",
     "output_type": "stream",
     "text": [
      "\n"
     ]
    },
    {
     "name": "stdout",
     "output_type": "stream",
     "text": [
      "\n",
      "      Epoch    GPU_mem   box_loss   seg_loss   cls_loss   dfl_loss  Instances       Size\n"
     ]
    },
    {
     "name": "stderr",
     "output_type": "stream",
     "text": [
      "     44/300         0G      1.307      2.035      1.229       1.31         53        640: 100%|██████████| 9/9 [03:17<00:00, 21.91s/it]\n",
      "                 Class     Images  Instances      Box(P          R      mAP50  mAP50-95)     Mask(P          R      mAP50  mAP50-95): 100%|██████████| 1/1 [00:16<00:00, 16.30s/it]"
     ]
    },
    {
     "name": "stdout",
     "output_type": "stream",
     "text": [
      "                   all         32        110      0.394      0.291      0.229      0.106      0.458      0.255      0.213     0.0911\n"
     ]
    },
    {
     "name": "stderr",
     "output_type": "stream",
     "text": [
      "\n"
     ]
    },
    {
     "name": "stdout",
     "output_type": "stream",
     "text": [
      "\n",
      "      Epoch    GPU_mem   box_loss   seg_loss   cls_loss   dfl_loss  Instances       Size\n"
     ]
    },
    {
     "name": "stderr",
     "output_type": "stream",
     "text": [
      "     45/300         0G      1.296       2.04      1.243      1.296         72        640: 100%|██████████| 9/9 [03:14<00:00, 21.64s/it]\n",
      "                 Class     Images  Instances      Box(P          R      mAP50  mAP50-95)     Mask(P          R      mAP50  mAP50-95): 100%|██████████| 1/1 [00:16<00:00, 16.48s/it]"
     ]
    },
    {
     "name": "stdout",
     "output_type": "stream",
     "text": [
      "                   all         32        110      0.446      0.391      0.366      0.189      0.561      0.291      0.333      0.161\n"
     ]
    },
    {
     "name": "stderr",
     "output_type": "stream",
     "text": [
      "\n"
     ]
    },
    {
     "name": "stdout",
     "output_type": "stream",
     "text": [
      "\n",
      "      Epoch    GPU_mem   box_loss   seg_loss   cls_loss   dfl_loss  Instances       Size\n"
     ]
    },
    {
     "name": "stderr",
     "output_type": "stream",
     "text": [
      "     46/300         0G      1.279      2.114      1.255      1.296         79        640: 100%|██████████| 9/9 [03:18<00:00, 22.01s/it]\n",
      "                 Class     Images  Instances      Box(P          R      mAP50  mAP50-95)     Mask(P          R      mAP50  mAP50-95): 100%|██████████| 1/1 [00:16<00:00, 16.61s/it]"
     ]
    },
    {
     "name": "stdout",
     "output_type": "stream",
     "text": [
      "                   all         32        110       0.47      0.391      0.348      0.185      0.547      0.345      0.318       0.15\n"
     ]
    },
    {
     "name": "stderr",
     "output_type": "stream",
     "text": [
      "\n"
     ]
    },
    {
     "name": "stdout",
     "output_type": "stream",
     "text": [
      "\n",
      "      Epoch    GPU_mem   box_loss   seg_loss   cls_loss   dfl_loss  Instances       Size\n"
     ]
    },
    {
     "name": "stderr",
     "output_type": "stream",
     "text": [
      "     47/300         0G      1.265      2.061      1.178      1.283         50        640: 100%|██████████| 9/9 [03:24<00:00, 22.76s/it]\n",
      "                 Class     Images  Instances      Box(P          R      mAP50  mAP50-95)     Mask(P          R      mAP50  mAP50-95): 100%|██████████| 1/1 [00:17<00:00, 17.17s/it]"
     ]
    },
    {
     "name": "stdout",
     "output_type": "stream",
     "text": [
      "                   all         32        110      0.482      0.398      0.344      0.189      0.569      0.345      0.357      0.149\n"
     ]
    },
    {
     "name": "stderr",
     "output_type": "stream",
     "text": [
      "\n"
     ]
    },
    {
     "name": "stdout",
     "output_type": "stream",
     "text": [
      "\n",
      "      Epoch    GPU_mem   box_loss   seg_loss   cls_loss   dfl_loss  Instances       Size\n"
     ]
    },
    {
     "name": "stderr",
     "output_type": "stream",
     "text": [
      "     48/300         0G      1.306      2.029       1.23       1.31         55        640: 100%|██████████| 9/9 [03:24<00:00, 22.69s/it]\n",
      "                 Class     Images  Instances      Box(P          R      mAP50  mAP50-95)     Mask(P          R      mAP50  mAP50-95): 100%|██████████| 1/1 [00:17<00:00, 17.00s/it]"
     ]
    },
    {
     "name": "stdout",
     "output_type": "stream",
     "text": [
      "                   all         32        110       0.42      0.427      0.364       0.19       0.59      0.336      0.326      0.149\n"
     ]
    },
    {
     "name": "stderr",
     "output_type": "stream",
     "text": [
      "\n"
     ]
    },
    {
     "name": "stdout",
     "output_type": "stream",
     "text": [
      "\n",
      "      Epoch    GPU_mem   box_loss   seg_loss   cls_loss   dfl_loss  Instances       Size\n"
     ]
    },
    {
     "name": "stderr",
     "output_type": "stream",
     "text": [
      "     49/300         0G      1.224      2.062      1.142      1.248         53        640: 100%|██████████| 9/9 [03:13<00:00, 21.54s/it]\n",
      "                 Class     Images  Instances      Box(P          R      mAP50  mAP50-95)     Mask(P          R      mAP50  mAP50-95): 100%|██████████| 1/1 [00:16<00:00, 16.27s/it]"
     ]
    },
    {
     "name": "stdout",
     "output_type": "stream",
     "text": [
      "                   all         32        110      0.555      0.418       0.38      0.197      0.523        0.4      0.339       0.16\n"
     ]
    },
    {
     "name": "stderr",
     "output_type": "stream",
     "text": [
      "\n"
     ]
    },
    {
     "name": "stdout",
     "output_type": "stream",
     "text": [
      "\n",
      "      Epoch    GPU_mem   box_loss   seg_loss   cls_loss   dfl_loss  Instances       Size\n"
     ]
    },
    {
     "name": "stderr",
     "output_type": "stream",
     "text": [
      "     50/300         0G      1.225      2.029      1.111      1.254         55        640: 100%|██████████| 9/9 [03:26<00:00, 22.92s/it]\n",
      "                 Class     Images  Instances      Box(P          R      mAP50  mAP50-95)     Mask(P          R      mAP50  mAP50-95): 100%|██████████| 1/1 [00:16<00:00, 16.40s/it]"
     ]
    },
    {
     "name": "stdout",
     "output_type": "stream",
     "text": [
      "                   all         32        110      0.523      0.436      0.361      0.176      0.523      0.409      0.336       0.15\n"
     ]
    },
    {
     "name": "stderr",
     "output_type": "stream",
     "text": [
      "\n"
     ]
    },
    {
     "name": "stdout",
     "output_type": "stream",
     "text": [
      "\n",
      "      Epoch    GPU_mem   box_loss   seg_loss   cls_loss   dfl_loss  Instances       Size\n"
     ]
    },
    {
     "name": "stderr",
     "output_type": "stream",
     "text": [
      "     51/300         0G      1.247      2.033      1.122      1.261         63        640: 100%|██████████| 9/9 [03:23<00:00, 22.65s/it]\n",
      "                 Class     Images  Instances      Box(P          R      mAP50  mAP50-95)     Mask(P          R      mAP50  mAP50-95): 100%|██████████| 1/1 [00:16<00:00, 16.75s/it]"
     ]
    },
    {
     "name": "stdout",
     "output_type": "stream",
     "text": [
      "                   all         32        110      0.468      0.425      0.356      0.182      0.452        0.4      0.339      0.165\n"
     ]
    },
    {
     "name": "stderr",
     "output_type": "stream",
     "text": [
      "\n"
     ]
    },
    {
     "name": "stdout",
     "output_type": "stream",
     "text": [
      "\n",
      "      Epoch    GPU_mem   box_loss   seg_loss   cls_loss   dfl_loss  Instances       Size\n"
     ]
    },
    {
     "name": "stderr",
     "output_type": "stream",
     "text": [
      "     52/300         0G      1.246      1.935      1.131      1.267         69        640: 100%|██████████| 9/9 [03:17<00:00, 21.93s/it]\n",
      "                 Class     Images  Instances      Box(P          R      mAP50  mAP50-95)     Mask(P          R      mAP50  mAP50-95): 100%|██████████| 1/1 [00:16<00:00, 16.59s/it]"
     ]
    },
    {
     "name": "stdout",
     "output_type": "stream",
     "text": [
      "                   all         32        110      0.312      0.391      0.277       0.15       0.48      0.236      0.235      0.117\n"
     ]
    },
    {
     "name": "stderr",
     "output_type": "stream",
     "text": [
      "\n"
     ]
    },
    {
     "name": "stdout",
     "output_type": "stream",
     "text": [
      "\n",
      "      Epoch    GPU_mem   box_loss   seg_loss   cls_loss   dfl_loss  Instances       Size\n"
     ]
    },
    {
     "name": "stderr",
     "output_type": "stream",
     "text": [
      "     53/300         0G      1.201      1.937      1.073      1.233         58        640: 100%|██████████| 9/9 [03:07<00:00, 20.84s/it]\n",
      "                 Class     Images  Instances      Box(P          R      mAP50  mAP50-95)     Mask(P          R      mAP50  mAP50-95): 100%|██████████| 1/1 [00:16<00:00, 16.42s/it]"
     ]
    },
    {
     "name": "stdout",
     "output_type": "stream",
     "text": [
      "                   all         32        110      0.396      0.364      0.272       0.16      0.397      0.299      0.261      0.147\n"
     ]
    },
    {
     "name": "stderr",
     "output_type": "stream",
     "text": [
      "\n"
     ]
    },
    {
     "name": "stdout",
     "output_type": "stream",
     "text": [
      "\n",
      "      Epoch    GPU_mem   box_loss   seg_loss   cls_loss   dfl_loss  Instances       Size\n"
     ]
    },
    {
     "name": "stderr",
     "output_type": "stream",
     "text": [
      "     54/300         0G       1.15      1.813      1.014      1.209         61        640: 100%|██████████| 9/9 [03:12<00:00, 21.34s/it]\n",
      "                 Class     Images  Instances      Box(P          R      mAP50  mAP50-95)     Mask(P          R      mAP50  mAP50-95): 100%|██████████| 1/1 [00:16<00:00, 16.29s/it]"
     ]
    },
    {
     "name": "stdout",
     "output_type": "stream",
     "text": [
      "                   all         32        110      0.372      0.336      0.303      0.171      0.376      0.336       0.29      0.158\n"
     ]
    },
    {
     "name": "stderr",
     "output_type": "stream",
     "text": [
      "\n"
     ]
    },
    {
     "name": "stdout",
     "output_type": "stream",
     "text": [
      "\n",
      "      Epoch    GPU_mem   box_loss   seg_loss   cls_loss   dfl_loss  Instances       Size\n"
     ]
    },
    {
     "name": "stderr",
     "output_type": "stream",
     "text": [
      "     55/300         0G       1.23      1.913      1.101      1.272         72        640: 100%|██████████| 9/9 [03:05<00:00, 20.65s/it]\n",
      "                 Class     Images  Instances      Box(P          R      mAP50  mAP50-95)     Mask(P          R      mAP50  mAP50-95): 100%|██████████| 1/1 [00:16<00:00, 16.45s/it]"
     ]
    },
    {
     "name": "stdout",
     "output_type": "stream",
     "text": [
      "                   all         32        110       0.48      0.327      0.356      0.196      0.507       0.29      0.311      0.167\n"
     ]
    },
    {
     "name": "stderr",
     "output_type": "stream",
     "text": [
      "\n"
     ]
    },
    {
     "name": "stdout",
     "output_type": "stream",
     "text": [
      "\n",
      "      Epoch    GPU_mem   box_loss   seg_loss   cls_loss   dfl_loss  Instances       Size\n"
     ]
    },
    {
     "name": "stderr",
     "output_type": "stream",
     "text": [
      "     56/300         0G      1.191      1.949      1.084      1.242         53        640: 100%|██████████| 9/9 [03:01<00:00, 20.19s/it]\n",
      "                 Class     Images  Instances      Box(P          R      mAP50  mAP50-95)     Mask(P          R      mAP50  mAP50-95): 100%|██████████| 1/1 [00:16<00:00, 16.43s/it]"
     ]
    },
    {
     "name": "stdout",
     "output_type": "stream",
     "text": [
      "                   all         32        110      0.567      0.318      0.343      0.174      0.569        0.3      0.316      0.172\n"
     ]
    },
    {
     "name": "stderr",
     "output_type": "stream",
     "text": [
      "\n"
     ]
    },
    {
     "name": "stdout",
     "output_type": "stream",
     "text": [
      "\n",
      "      Epoch    GPU_mem   box_loss   seg_loss   cls_loss   dfl_loss  Instances       Size\n"
     ]
    },
    {
     "name": "stderr",
     "output_type": "stream",
     "text": [
      "     57/300         0G      1.192      1.838      1.041      1.243         60        640: 100%|██████████| 9/9 [02:59<00:00, 19.98s/it]\n",
      "                 Class     Images  Instances      Box(P          R      mAP50  mAP50-95)     Mask(P          R      mAP50  mAP50-95): 100%|██████████| 1/1 [00:16<00:00, 16.33s/it]"
     ]
    },
    {
     "name": "stdout",
     "output_type": "stream",
     "text": [
      "                   all         32        110      0.565      0.364      0.391      0.196      0.591      0.273      0.316      0.163\n"
     ]
    },
    {
     "name": "stderr",
     "output_type": "stream",
     "text": [
      "\n"
     ]
    },
    {
     "name": "stdout",
     "output_type": "stream",
     "text": [
      "\n",
      "      Epoch    GPU_mem   box_loss   seg_loss   cls_loss   dfl_loss  Instances       Size\n"
     ]
    },
    {
     "name": "stderr",
     "output_type": "stream",
     "text": [
      "     58/300         0G      1.168      1.881      1.028      1.221         68        640: 100%|██████████| 9/9 [03:09<00:00, 21.11s/it]\n",
      "                 Class     Images  Instances      Box(P          R      mAP50  mAP50-95)     Mask(P          R      mAP50  mAP50-95): 100%|██████████| 1/1 [00:16<00:00, 16.15s/it]"
     ]
    },
    {
     "name": "stdout",
     "output_type": "stream",
     "text": [
      "                   all         32        110      0.419      0.367      0.327      0.162      0.516      0.264      0.253      0.128\n"
     ]
    },
    {
     "name": "stderr",
     "output_type": "stream",
     "text": [
      "\n"
     ]
    },
    {
     "name": "stdout",
     "output_type": "stream",
     "text": [
      "\n",
      "      Epoch    GPU_mem   box_loss   seg_loss   cls_loss   dfl_loss  Instances       Size\n"
     ]
    },
    {
     "name": "stderr",
     "output_type": "stream",
     "text": [
      "     59/300         0G        1.2      1.927      1.041      1.219         63        640: 100%|██████████| 9/9 [03:11<00:00, 21.23s/it]\n",
      "                 Class     Images  Instances      Box(P          R      mAP50  mAP50-95)     Mask(P          R      mAP50  mAP50-95): 100%|██████████| 1/1 [00:16<00:00, 16.29s/it]"
     ]
    },
    {
     "name": "stdout",
     "output_type": "stream",
     "text": [
      "                   all         32        110      0.495      0.418      0.386      0.195      0.473      0.375      0.363      0.156\n"
     ]
    },
    {
     "name": "stderr",
     "output_type": "stream",
     "text": [
      "\n"
     ]
    },
    {
     "name": "stdout",
     "output_type": "stream",
     "text": [
      "\n",
      "      Epoch    GPU_mem   box_loss   seg_loss   cls_loss   dfl_loss  Instances       Size\n"
     ]
    },
    {
     "name": "stderr",
     "output_type": "stream",
     "text": [
      "     60/300         0G       1.22      2.006       1.11      1.259         73        640: 100%|██████████| 9/9 [03:11<00:00, 21.30s/it]\n",
      "                 Class     Images  Instances      Box(P          R      mAP50  mAP50-95)     Mask(P          R      mAP50  mAP50-95): 100%|██████████| 1/1 [00:16<00:00, 16.27s/it]"
     ]
    },
    {
     "name": "stdout",
     "output_type": "stream",
     "text": [
      "                   all         32        110      0.432      0.409      0.338      0.172      0.511      0.295      0.302      0.148\n"
     ]
    },
    {
     "name": "stderr",
     "output_type": "stream",
     "text": [
      "\n"
     ]
    },
    {
     "name": "stdout",
     "output_type": "stream",
     "text": [
      "\n",
      "      Epoch    GPU_mem   box_loss   seg_loss   cls_loss   dfl_loss  Instances       Size\n"
     ]
    },
    {
     "name": "stderr",
     "output_type": "stream",
     "text": [
      "     61/300         0G      1.188      1.916      1.026      1.243         71        640: 100%|██████████| 9/9 [03:12<00:00, 21.37s/it]\n",
      "                 Class     Images  Instances      Box(P          R      mAP50  mAP50-95)     Mask(P          R      mAP50  mAP50-95): 100%|██████████| 1/1 [00:16<00:00, 16.35s/it]"
     ]
    },
    {
     "name": "stdout",
     "output_type": "stream",
     "text": [
      "                   all         32        110      0.365      0.288       0.25      0.119      0.326      0.273      0.221      0.108\n"
     ]
    },
    {
     "name": "stderr",
     "output_type": "stream",
     "text": [
      "\n"
     ]
    },
    {
     "name": "stdout",
     "output_type": "stream",
     "text": [
      "\n",
      "      Epoch    GPU_mem   box_loss   seg_loss   cls_loss   dfl_loss  Instances       Size\n"
     ]
    },
    {
     "name": "stderr",
     "output_type": "stream",
     "text": [
      "     62/300         0G      1.153       1.85     0.9763      1.177         75        640: 100%|██████████| 9/9 [03:00<00:00, 20.01s/it]\n",
      "                 Class     Images  Instances      Box(P          R      mAP50  mAP50-95)     Mask(P          R      mAP50  mAP50-95): 100%|██████████| 1/1 [00:16<00:00, 16.03s/it]"
     ]
    },
    {
     "name": "stdout",
     "output_type": "stream",
     "text": [
      "                   all         32        110      0.482      0.355      0.315      0.152      0.427        0.3      0.254      0.116\n"
     ]
    },
    {
     "name": "stderr",
     "output_type": "stream",
     "text": [
      "\n"
     ]
    },
    {
     "name": "stdout",
     "output_type": "stream",
     "text": [
      "\n",
      "      Epoch    GPU_mem   box_loss   seg_loss   cls_loss   dfl_loss  Instances       Size\n"
     ]
    },
    {
     "name": "stderr",
     "output_type": "stream",
     "text": [
      "     63/300         0G      1.202      1.862      1.019      1.223         72        640: 100%|██████████| 9/9 [03:01<00:00, 20.15s/it]\n",
      "                 Class     Images  Instances      Box(P          R      mAP50  mAP50-95)     Mask(P          R      mAP50  mAP50-95): 100%|██████████| 1/1 [00:15<00:00, 15.98s/it]"
     ]
    },
    {
     "name": "stdout",
     "output_type": "stream",
     "text": [
      "                   all         32        110      0.635      0.373      0.386      0.206      0.597      0.336      0.336      0.161\n"
     ]
    },
    {
     "name": "stderr",
     "output_type": "stream",
     "text": [
      "\n"
     ]
    },
    {
     "name": "stdout",
     "output_type": "stream",
     "text": [
      "\n",
      "      Epoch    GPU_mem   box_loss   seg_loss   cls_loss   dfl_loss  Instances       Size\n"
     ]
    },
    {
     "name": "stderr",
     "output_type": "stream",
     "text": [
      "     64/300         0G      1.243      1.883      1.033      1.233         72        640: 100%|██████████| 9/9 [03:07<00:00, 20.85s/it]\n",
      "                 Class     Images  Instances      Box(P          R      mAP50  mAP50-95)     Mask(P          R      mAP50  mAP50-95): 100%|██████████| 1/1 [00:16<00:00, 16.33s/it]"
     ]
    },
    {
     "name": "stdout",
     "output_type": "stream",
     "text": [
      "                   all         32        110        0.6      0.373       0.39       0.18      0.583      0.364      0.352       0.18\n"
     ]
    },
    {
     "name": "stderr",
     "output_type": "stream",
     "text": [
      "\n"
     ]
    },
    {
     "name": "stdout",
     "output_type": "stream",
     "text": [
      "\n",
      "      Epoch    GPU_mem   box_loss   seg_loss   cls_loss   dfl_loss  Instances       Size\n"
     ]
    },
    {
     "name": "stderr",
     "output_type": "stream",
     "text": [
      "     65/300         0G      1.131      1.849     0.9912      1.179         63        640: 100%|██████████| 9/9 [03:12<00:00, 21.42s/it]\n",
      "                 Class     Images  Instances      Box(P          R      mAP50  mAP50-95)     Mask(P          R      mAP50  mAP50-95): 100%|██████████| 1/1 [00:16<00:00, 16.08s/it]"
     ]
    },
    {
     "name": "stdout",
     "output_type": "stream",
     "text": [
      "                   all         32        110      0.581      0.355      0.368      0.183      0.536      0.327      0.321      0.173\n"
     ]
    },
    {
     "name": "stderr",
     "output_type": "stream",
     "text": [
      "\n"
     ]
    },
    {
     "name": "stdout",
     "output_type": "stream",
     "text": [
      "\n",
      "      Epoch    GPU_mem   box_loss   seg_loss   cls_loss   dfl_loss  Instances       Size\n"
     ]
    },
    {
     "name": "stderr",
     "output_type": "stream",
     "text": [
      "     66/300         0G      1.135      1.788     0.9707       1.18         71        640: 100%|██████████| 9/9 [03:14<00:00, 21.62s/it]\n",
      "                 Class     Images  Instances      Box(P          R      mAP50  mAP50-95)     Mask(P          R      mAP50  mAP50-95): 100%|██████████| 1/1 [00:16<00:00, 16.05s/it]"
     ]
    },
    {
     "name": "stdout",
     "output_type": "stream",
     "text": [
      "                   all         32        110      0.584      0.345      0.355      0.172      0.569      0.336      0.313      0.172\n"
     ]
    },
    {
     "name": "stderr",
     "output_type": "stream",
     "text": [
      "\n"
     ]
    },
    {
     "name": "stdout",
     "output_type": "stream",
     "text": [
      "\n",
      "      Epoch    GPU_mem   box_loss   seg_loss   cls_loss   dfl_loss  Instances       Size\n"
     ]
    },
    {
     "name": "stderr",
     "output_type": "stream",
     "text": [
      "     67/300         0G      1.157       1.87     0.9825       1.19         71        640: 100%|██████████| 9/9 [03:15<00:00, 21.75s/it]\n",
      "                 Class     Images  Instances      Box(P          R      mAP50  mAP50-95)     Mask(P          R      mAP50  mAP50-95): 100%|██████████| 1/1 [00:16<00:00, 16.08s/it]"
     ]
    },
    {
     "name": "stdout",
     "output_type": "stream",
     "text": [
      "                   all         32        110      0.614      0.382        0.4      0.196      0.531      0.336      0.347      0.176\n"
     ]
    },
    {
     "name": "stderr",
     "output_type": "stream",
     "text": [
      "\n"
     ]
    },
    {
     "name": "stdout",
     "output_type": "stream",
     "text": [
      "\n",
      "      Epoch    GPU_mem   box_loss   seg_loss   cls_loss   dfl_loss  Instances       Size\n"
     ]
    },
    {
     "name": "stderr",
     "output_type": "stream",
     "text": [
      "     68/300         0G      1.154       1.81     0.9731      1.204         41        640: 100%|██████████| 9/9 [03:17<00:00, 21.99s/it]\n",
      "                 Class     Images  Instances      Box(P          R      mAP50  mAP50-95)     Mask(P          R      mAP50  mAP50-95): 100%|██████████| 1/1 [00:16<00:00, 16.26s/it]"
     ]
    },
    {
     "name": "stdout",
     "output_type": "stream",
     "text": [
      "                   all         32        110      0.699      0.309      0.417      0.207      0.762      0.273      0.368      0.189\n"
     ]
    },
    {
     "name": "stderr",
     "output_type": "stream",
     "text": [
      "\n"
     ]
    },
    {
     "name": "stdout",
     "output_type": "stream",
     "text": [
      "\n",
      "      Epoch    GPU_mem   box_loss   seg_loss   cls_loss   dfl_loss  Instances       Size\n"
     ]
    },
    {
     "name": "stderr",
     "output_type": "stream",
     "text": [
      "     69/300         0G      1.144      1.778     0.9628      1.182         51        640: 100%|██████████| 9/9 [03:16<00:00, 21.88s/it]\n",
      "                 Class     Images  Instances      Box(P          R      mAP50  mAP50-95)     Mask(P          R      mAP50  mAP50-95): 100%|██████████| 1/1 [00:16<00:00, 16.48s/it]"
     ]
    },
    {
     "name": "stdout",
     "output_type": "stream",
     "text": [
      "                   all         32        110       0.47      0.418      0.423      0.217      0.429      0.382      0.356      0.184\n"
     ]
    },
    {
     "name": "stderr",
     "output_type": "stream",
     "text": [
      "\n"
     ]
    },
    {
     "name": "stdout",
     "output_type": "stream",
     "text": [
      "\n",
      "      Epoch    GPU_mem   box_loss   seg_loss   cls_loss   dfl_loss  Instances       Size\n"
     ]
    },
    {
     "name": "stderr",
     "output_type": "stream",
     "text": [
      "     70/300         0G      1.087      1.802     0.9399      1.177         63        640: 100%|██████████| 9/9 [02:57<00:00, 19.71s/it]\n",
      "                 Class     Images  Instances      Box(P          R      mAP50  mAP50-95)     Mask(P          R      mAP50  mAP50-95): 100%|██████████| 1/1 [00:16<00:00, 16.14s/it]"
     ]
    },
    {
     "name": "stdout",
     "output_type": "stream",
     "text": [
      "                   all         32        110      0.514      0.327      0.311      0.171      0.484      0.318      0.253      0.124\n"
     ]
    },
    {
     "name": "stderr",
     "output_type": "stream",
     "text": [
      "\n"
     ]
    },
    {
     "name": "stdout",
     "output_type": "stream",
     "text": [
      "\n",
      "      Epoch    GPU_mem   box_loss   seg_loss   cls_loss   dfl_loss  Instances       Size\n"
     ]
    },
    {
     "name": "stderr",
     "output_type": "stream",
     "text": [
      "     71/300         0G      1.038      1.619     0.9044      1.149         58        640: 100%|██████████| 9/9 [03:11<00:00, 21.32s/it]\n",
      "                 Class     Images  Instances      Box(P          R      mAP50  mAP50-95)     Mask(P          R      mAP50  mAP50-95): 100%|██████████| 1/1 [00:16<00:00, 16.44s/it]"
     ]
    },
    {
     "name": "stdout",
     "output_type": "stream",
     "text": [
      "                   all         32        110      0.481      0.355      0.335      0.194      0.444      0.318      0.298      0.161\n"
     ]
    },
    {
     "name": "stderr",
     "output_type": "stream",
     "text": [
      "\n"
     ]
    },
    {
     "name": "stdout",
     "output_type": "stream",
     "text": [
      "\n",
      "      Epoch    GPU_mem   box_loss   seg_loss   cls_loss   dfl_loss  Instances       Size\n"
     ]
    },
    {
     "name": "stderr",
     "output_type": "stream",
     "text": [
      "     72/300         0G      1.133      1.784      0.953        1.2         54        640: 100%|██████████| 9/9 [03:00<00:00, 20.08s/it]\n",
      "                 Class     Images  Instances      Box(P          R      mAP50  mAP50-95)     Mask(P          R      mAP50  mAP50-95): 100%|██████████| 1/1 [00:16<00:00, 16.37s/it]"
     ]
    },
    {
     "name": "stdout",
     "output_type": "stream",
     "text": [
      "                   all         32        110      0.503        0.4      0.373      0.184      0.433      0.345      0.313      0.161\n"
     ]
    },
    {
     "name": "stderr",
     "output_type": "stream",
     "text": [
      "\n"
     ]
    },
    {
     "name": "stdout",
     "output_type": "stream",
     "text": [
      "\n",
      "      Epoch    GPU_mem   box_loss   seg_loss   cls_loss   dfl_loss  Instances       Size\n"
     ]
    },
    {
     "name": "stderr",
     "output_type": "stream",
     "text": [
      "     73/300         0G      1.102      1.782     0.9478      1.183         73        640: 100%|██████████| 9/9 [03:04<00:00, 20.50s/it]\n",
      "                 Class     Images  Instances      Box(P          R      mAP50  mAP50-95)     Mask(P          R      mAP50  mAP50-95): 100%|██████████| 1/1 [00:16<00:00, 16.68s/it]"
     ]
    },
    {
     "name": "stdout",
     "output_type": "stream",
     "text": [
      "                   all         32        110      0.557      0.345      0.374      0.187      0.526      0.327      0.323       0.15\n"
     ]
    },
    {
     "name": "stderr",
     "output_type": "stream",
     "text": [
      "\n"
     ]
    },
    {
     "name": "stdout",
     "output_type": "stream",
     "text": [
      "\n",
      "      Epoch    GPU_mem   box_loss   seg_loss   cls_loss   dfl_loss  Instances       Size\n"
     ]
    },
    {
     "name": "stderr",
     "output_type": "stream",
     "text": [
      "     74/300         0G      1.085      1.763     0.9431      1.192         52        640: 100%|██████████| 9/9 [03:04<00:00, 20.45s/it]\n",
      "                 Class     Images  Instances      Box(P          R      mAP50  mAP50-95)     Mask(P          R      mAP50  mAP50-95): 100%|██████████| 1/1 [00:16<00:00, 16.12s/it]"
     ]
    },
    {
     "name": "stdout",
     "output_type": "stream",
     "text": [
      "                   all         32        110      0.421      0.343      0.323      0.165      0.499      0.273      0.296      0.139\n"
     ]
    },
    {
     "name": "stderr",
     "output_type": "stream",
     "text": [
      "\n"
     ]
    },
    {
     "name": "stdout",
     "output_type": "stream",
     "text": [
      "\n",
      "      Epoch    GPU_mem   box_loss   seg_loss   cls_loss   dfl_loss  Instances       Size\n"
     ]
    },
    {
     "name": "stderr",
     "output_type": "stream",
     "text": [
      "     75/300         0G      1.087      1.707     0.9329      1.152         78        640: 100%|██████████| 9/9 [03:03<00:00, 20.40s/it]\n",
      "                 Class     Images  Instances      Box(P          R      mAP50  mAP50-95)     Mask(P          R      mAP50  mAP50-95): 100%|██████████| 1/1 [00:16<00:00, 16.12s/it]"
     ]
    },
    {
     "name": "stdout",
     "output_type": "stream",
     "text": [
      "                   all         32        110      0.617      0.318      0.362      0.198      0.573      0.282      0.316      0.167\n"
     ]
    },
    {
     "name": "stderr",
     "output_type": "stream",
     "text": [
      "\n"
     ]
    },
    {
     "name": "stdout",
     "output_type": "stream",
     "text": [
      "\n",
      "      Epoch    GPU_mem   box_loss   seg_loss   cls_loss   dfl_loss  Instances       Size\n"
     ]
    },
    {
     "name": "stderr",
     "output_type": "stream",
     "text": [
      "     76/300         0G      1.071      1.739     0.9028      1.176         67        640: 100%|██████████| 9/9 [02:58<00:00, 19.79s/it]\n",
      "                 Class     Images  Instances      Box(P          R      mAP50  mAP50-95)     Mask(P          R      mAP50  mAP50-95): 100%|██████████| 1/1 [00:16<00:00, 16.38s/it]"
     ]
    },
    {
     "name": "stdout",
     "output_type": "stream",
     "text": [
      "                   all         32        110      0.466        0.4      0.377       0.21      0.483      0.373      0.356      0.186\n"
     ]
    },
    {
     "name": "stderr",
     "output_type": "stream",
     "text": [
      "\n"
     ]
    },
    {
     "name": "stdout",
     "output_type": "stream",
     "text": [
      "\n",
      "      Epoch    GPU_mem   box_loss   seg_loss   cls_loss   dfl_loss  Instances       Size\n"
     ]
    },
    {
     "name": "stderr",
     "output_type": "stream",
     "text": [
      "     77/300         0G      1.008      1.604      0.822       1.12         54        640: 100%|██████████| 9/9 [02:59<00:00, 19.89s/it]\n",
      "                 Class     Images  Instances      Box(P          R      mAP50  mAP50-95)     Mask(P          R      mAP50  mAP50-95): 100%|██████████| 1/1 [00:16<00:00, 16.02s/it]"
     ]
    },
    {
     "name": "stdout",
     "output_type": "stream",
     "text": [
      "                   all         32        110      0.425      0.464      0.423       0.23      0.672      0.309      0.386      0.214\n"
     ]
    },
    {
     "name": "stderr",
     "output_type": "stream",
     "text": [
      "\n"
     ]
    },
    {
     "name": "stdout",
     "output_type": "stream",
     "text": [
      "\n",
      "      Epoch    GPU_mem   box_loss   seg_loss   cls_loss   dfl_loss  Instances       Size\n"
     ]
    },
    {
     "name": "stderr",
     "output_type": "stream",
     "text": [
      "     78/300         0G      1.074      1.744     0.8898      1.151         71        640: 100%|██████████| 9/9 [02:58<00:00, 19.83s/it]\n",
      "                 Class     Images  Instances      Box(P          R      mAP50  mAP50-95)     Mask(P          R      mAP50  mAP50-95): 100%|██████████| 1/1 [00:16<00:00, 16.38s/it]"
     ]
    },
    {
     "name": "stdout",
     "output_type": "stream",
     "text": [
      "                   all         32        110      0.624        0.4      0.433       0.23      0.584      0.373      0.403      0.189\n"
     ]
    },
    {
     "name": "stderr",
     "output_type": "stream",
     "text": [
      "\n"
     ]
    },
    {
     "name": "stdout",
     "output_type": "stream",
     "text": [
      "\n",
      "      Epoch    GPU_mem   box_loss   seg_loss   cls_loss   dfl_loss  Instances       Size\n"
     ]
    },
    {
     "name": "stderr",
     "output_type": "stream",
     "text": [
      "     79/300         0G      1.047      1.796     0.8762      1.155         70        640: 100%|██████████| 9/9 [03:02<00:00, 20.23s/it]\n",
      "                 Class     Images  Instances      Box(P          R      mAP50  mAP50-95)     Mask(P          R      mAP50  mAP50-95): 100%|██████████| 1/1 [00:16<00:00, 16.11s/it]"
     ]
    },
    {
     "name": "stdout",
     "output_type": "stream",
     "text": [
      "                   all         32        110      0.751      0.382       0.48      0.251      0.644      0.394      0.435      0.203\n"
     ]
    },
    {
     "name": "stderr",
     "output_type": "stream",
     "text": [
      "\n"
     ]
    },
    {
     "name": "stdout",
     "output_type": "stream",
     "text": [
      "\n",
      "      Epoch    GPU_mem   box_loss   seg_loss   cls_loss   dfl_loss  Instances       Size\n"
     ]
    },
    {
     "name": "stderr",
     "output_type": "stream",
     "text": [
      "     80/300         0G      1.124      1.732     0.9411      1.188         71        640: 100%|██████████| 9/9 [03:09<00:00, 21.10s/it]\n",
      "                 Class     Images  Instances      Box(P          R      mAP50  mAP50-95)     Mask(P          R      mAP50  mAP50-95): 100%|██████████| 1/1 [00:15<00:00, 15.81s/it]"
     ]
    },
    {
     "name": "stdout",
     "output_type": "stream",
     "text": [
      "                   all         32        110      0.624      0.464      0.491      0.265       0.55        0.4      0.387      0.195\n"
     ]
    },
    {
     "name": "stderr",
     "output_type": "stream",
     "text": [
      "\n"
     ]
    },
    {
     "name": "stdout",
     "output_type": "stream",
     "text": [
      "\n",
      "      Epoch    GPU_mem   box_loss   seg_loss   cls_loss   dfl_loss  Instances       Size\n"
     ]
    },
    {
     "name": "stderr",
     "output_type": "stream",
     "text": [
      "     81/300         0G      1.048      1.628     0.8969       1.14         72        640: 100%|██████████| 9/9 [03:10<00:00, 21.19s/it]\n",
      "                 Class     Images  Instances      Box(P          R      mAP50  mAP50-95)     Mask(P          R      mAP50  mAP50-95): 100%|██████████| 1/1 [00:16<00:00, 16.12s/it]"
     ]
    },
    {
     "name": "stdout",
     "output_type": "stream",
     "text": [
      "                   all         32        110       0.67      0.464      0.448      0.245      0.586      0.409      0.376      0.196\n"
     ]
    },
    {
     "name": "stderr",
     "output_type": "stream",
     "text": [
      "\n"
     ]
    },
    {
     "name": "stdout",
     "output_type": "stream",
     "text": [
      "\n",
      "      Epoch    GPU_mem   box_loss   seg_loss   cls_loss   dfl_loss  Instances       Size\n"
     ]
    },
    {
     "name": "stderr",
     "output_type": "stream",
     "text": [
      "     82/300         0G      1.037       1.69     0.8648       1.15         58        640: 100%|██████████| 9/9 [03:14<00:00, 21.60s/it]\n",
      "                 Class     Images  Instances      Box(P          R      mAP50  mAP50-95)     Mask(P          R      mAP50  mAP50-95): 100%|██████████| 1/1 [00:16<00:00, 16.12s/it]"
     ]
    },
    {
     "name": "stdout",
     "output_type": "stream",
     "text": [
      "                   all         32        110      0.491      0.455      0.406      0.198       0.48      0.409      0.347      0.161\n"
     ]
    },
    {
     "name": "stderr",
     "output_type": "stream",
     "text": [
      "\n"
     ]
    },
    {
     "name": "stdout",
     "output_type": "stream",
     "text": [
      "\n",
      "      Epoch    GPU_mem   box_loss   seg_loss   cls_loss   dfl_loss  Instances       Size\n"
     ]
    },
    {
     "name": "stderr",
     "output_type": "stream",
     "text": [
      "     83/300         0G      1.031      1.655     0.8608      1.161         62        640: 100%|██████████| 9/9 [03:09<00:00, 21.05s/it]\n",
      "                 Class     Images  Instances      Box(P          R      mAP50  mAP50-95)     Mask(P          R      mAP50  mAP50-95): 100%|██████████| 1/1 [00:16<00:00, 16.15s/it]"
     ]
    },
    {
     "name": "stdout",
     "output_type": "stream",
     "text": [
      "                   all         32        110      0.533      0.418       0.41      0.206      0.462      0.364      0.342      0.164\n"
     ]
    },
    {
     "name": "stderr",
     "output_type": "stream",
     "text": [
      "\n"
     ]
    },
    {
     "name": "stdout",
     "output_type": "stream",
     "text": [
      "\n",
      "      Epoch    GPU_mem   box_loss   seg_loss   cls_loss   dfl_loss  Instances       Size\n"
     ]
    },
    {
     "name": "stderr",
     "output_type": "stream",
     "text": [
      "     84/300         0G      1.077      1.711     0.9005      1.169         40        640: 100%|██████████| 9/9 [03:12<00:00, 21.38s/it]\n",
      "                 Class     Images  Instances      Box(P          R      mAP50  mAP50-95)     Mask(P          R      mAP50  mAP50-95): 100%|██████████| 1/1 [00:15<00:00, 15.83s/it]"
     ]
    },
    {
     "name": "stdout",
     "output_type": "stream",
     "text": [
      "                   all         32        110      0.553      0.359      0.384      0.181      0.589      0.273      0.327      0.158\n"
     ]
    },
    {
     "name": "stderr",
     "output_type": "stream",
     "text": [
      "\n"
     ]
    },
    {
     "name": "stdout",
     "output_type": "stream",
     "text": [
      "\n",
      "      Epoch    GPU_mem   box_loss   seg_loss   cls_loss   dfl_loss  Instances       Size\n"
     ]
    },
    {
     "name": "stderr",
     "output_type": "stream",
     "text": [
      "     85/300         0G      1.036      1.728     0.8498      1.135         51        640: 100%|██████████| 9/9 [03:10<00:00, 21.14s/it]\n",
      "                 Class     Images  Instances      Box(P          R      mAP50  mAP50-95)     Mask(P          R      mAP50  mAP50-95): 100%|██████████| 1/1 [00:15<00:00, 15.88s/it]"
     ]
    },
    {
     "name": "stdout",
     "output_type": "stream",
     "text": [
      "                   all         32        110      0.721      0.327      0.368      0.186      0.638      0.291       0.31      0.159\n"
     ]
    },
    {
     "name": "stderr",
     "output_type": "stream",
     "text": [
      "\n"
     ]
    },
    {
     "name": "stdout",
     "output_type": "stream",
     "text": [
      "\n",
      "      Epoch    GPU_mem   box_loss   seg_loss   cls_loss   dfl_loss  Instances       Size\n"
     ]
    },
    {
     "name": "stderr",
     "output_type": "stream",
     "text": [
      "     86/300         0G     0.9984      1.637     0.8624      1.118         67        640: 100%|██████████| 9/9 [03:08<00:00, 20.91s/it]\n",
      "                 Class     Images  Instances      Box(P          R      mAP50  mAP50-95)     Mask(P          R      mAP50  mAP50-95): 100%|██████████| 1/1 [00:15<00:00, 15.80s/it]"
     ]
    },
    {
     "name": "stdout",
     "output_type": "stream",
     "text": [
      "                   all         32        110      0.604      0.291      0.284       0.16      0.552      0.273      0.249      0.133\n"
     ]
    },
    {
     "name": "stderr",
     "output_type": "stream",
     "text": [
      "\n"
     ]
    },
    {
     "name": "stdout",
     "output_type": "stream",
     "text": [
      "\n",
      "      Epoch    GPU_mem   box_loss   seg_loss   cls_loss   dfl_loss  Instances       Size\n"
     ]
    },
    {
     "name": "stderr",
     "output_type": "stream",
     "text": [
      "     87/300         0G     0.9768      1.651      0.825      1.135         59        640: 100%|██████████| 9/9 [03:10<00:00, 21.19s/it]\n",
      "                 Class     Images  Instances      Box(P          R      mAP50  mAP50-95)     Mask(P          R      mAP50  mAP50-95): 100%|██████████| 1/1 [00:15<00:00, 15.57s/it]"
     ]
    },
    {
     "name": "stdout",
     "output_type": "stream",
     "text": [
      "                   all         32        110      0.611      0.291      0.329      0.175      0.573      0.273        0.3      0.153\n"
     ]
    },
    {
     "name": "stderr",
     "output_type": "stream",
     "text": [
      "\n"
     ]
    },
    {
     "name": "stdout",
     "output_type": "stream",
     "text": [
      "\n",
      "      Epoch    GPU_mem   box_loss   seg_loss   cls_loss   dfl_loss  Instances       Size\n"
     ]
    },
    {
     "name": "stderr",
     "output_type": "stream",
     "text": [
      "     88/300         0G          1      1.676     0.8521      1.136         58        640: 100%|██████████| 9/9 [03:02<00:00, 20.27s/it]\n",
      "                 Class     Images  Instances      Box(P          R      mAP50  mAP50-95)     Mask(P          R      mAP50  mAP50-95): 100%|██████████| 1/1 [00:16<00:00, 16.09s/it]"
     ]
    },
    {
     "name": "stdout",
     "output_type": "stream",
     "text": [
      "                   all         32        110      0.664      0.318      0.399      0.211      0.698      0.273      0.356      0.175\n"
     ]
    },
    {
     "name": "stderr",
     "output_type": "stream",
     "text": [
      "\n"
     ]
    },
    {
     "name": "stdout",
     "output_type": "stream",
     "text": [
      "\n",
      "      Epoch    GPU_mem   box_loss   seg_loss   cls_loss   dfl_loss  Instances       Size\n"
     ]
    },
    {
     "name": "stderr",
     "output_type": "stream",
     "text": [
      "     89/300         0G      1.023      1.685     0.8523      1.127         66        640: 100%|██████████| 9/9 [03:07<00:00, 20.81s/it]\n",
      "                 Class     Images  Instances      Box(P          R      mAP50  mAP50-95)     Mask(P          R      mAP50  mAP50-95): 100%|██████████| 1/1 [00:16<00:00, 16.08s/it]"
     ]
    },
    {
     "name": "stdout",
     "output_type": "stream",
     "text": [
      "                   all         32        110      0.471        0.4      0.365      0.202       0.44       0.35      0.321       0.15\n"
     ]
    },
    {
     "name": "stderr",
     "output_type": "stream",
     "text": [
      "\n"
     ]
    },
    {
     "name": "stdout",
     "output_type": "stream",
     "text": [
      "\n",
      "      Epoch    GPU_mem   box_loss   seg_loss   cls_loss   dfl_loss  Instances       Size\n"
     ]
    },
    {
     "name": "stderr",
     "output_type": "stream",
     "text": [
      "     90/300         0G     0.9898      1.585     0.8235       1.13         60        640: 100%|██████████| 9/9 [03:06<00:00, 20.71s/it]\n",
      "                 Class     Images  Instances      Box(P          R      mAP50  mAP50-95)     Mask(P          R      mAP50  mAP50-95): 100%|██████████| 1/1 [00:16<00:00, 16.09s/it]"
     ]
    },
    {
     "name": "stdout",
     "output_type": "stream",
     "text": [
      "                   all         32        110       0.59      0.391      0.391      0.223      0.564      0.409      0.368      0.189\n"
     ]
    },
    {
     "name": "stderr",
     "output_type": "stream",
     "text": [
      "\n"
     ]
    },
    {
     "name": "stdout",
     "output_type": "stream",
     "text": [
      "\n",
      "      Epoch    GPU_mem   box_loss   seg_loss   cls_loss   dfl_loss  Instances       Size\n"
     ]
    },
    {
     "name": "stderr",
     "output_type": "stream",
     "text": [
      "     91/300         0G      1.032      1.614     0.8478      1.149         69        640: 100%|██████████| 9/9 [03:15<00:00, 21.73s/it]\n",
      "                 Class     Images  Instances      Box(P          R      mAP50  mAP50-95)     Mask(P          R      mAP50  mAP50-95): 100%|██████████| 1/1 [00:16<00:00, 16.11s/it]"
     ]
    },
    {
     "name": "stdout",
     "output_type": "stream",
     "text": [
      "                   all         32        110      0.544      0.436      0.407       0.22      0.597      0.378      0.384      0.204\n"
     ]
    },
    {
     "name": "stderr",
     "output_type": "stream",
     "text": [
      "\n"
     ]
    },
    {
     "name": "stdout",
     "output_type": "stream",
     "text": [
      "\n",
      "      Epoch    GPU_mem   box_loss   seg_loss   cls_loss   dfl_loss  Instances       Size\n"
     ]
    },
    {
     "name": "stderr",
     "output_type": "stream",
     "text": [
      "     92/300         0G      1.021       1.53     0.8084      1.129         48        640: 100%|██████████| 9/9 [03:04<00:00, 20.52s/it]\n",
      "                 Class     Images  Instances      Box(P          R      mAP50  mAP50-95)     Mask(P          R      mAP50  mAP50-95): 100%|██████████| 1/1 [00:16<00:00, 16.19s/it]"
     ]
    },
    {
     "name": "stdout",
     "output_type": "stream",
     "text": [
      "                   all         32        110      0.479      0.382      0.349      0.194      0.602      0.291      0.314      0.163\n"
     ]
    },
    {
     "name": "stderr",
     "output_type": "stream",
     "text": [
      "\n"
     ]
    },
    {
     "name": "stdout",
     "output_type": "stream",
     "text": [
      "\n",
      "      Epoch    GPU_mem   box_loss   seg_loss   cls_loss   dfl_loss  Instances       Size\n"
     ]
    },
    {
     "name": "stderr",
     "output_type": "stream",
     "text": [
      "     93/300         0G     0.9504      1.655     0.8185      1.098         80        640: 100%|██████████| 9/9 [03:00<00:00, 20.00s/it]\n",
      "                 Class     Images  Instances      Box(P          R      mAP50  mAP50-95)     Mask(P          R      mAP50  mAP50-95): 100%|██████████| 1/1 [00:16<00:00, 16.08s/it]"
     ]
    },
    {
     "name": "stdout",
     "output_type": "stream",
     "text": [
      "                   all         32        110      0.557      0.364      0.414      0.198      0.482      0.382      0.364      0.172\n"
     ]
    },
    {
     "name": "stderr",
     "output_type": "stream",
     "text": [
      "\n"
     ]
    },
    {
     "name": "stdout",
     "output_type": "stream",
     "text": [
      "\n",
      "      Epoch    GPU_mem   box_loss   seg_loss   cls_loss   dfl_loss  Instances       Size\n"
     ]
    },
    {
     "name": "stderr",
     "output_type": "stream",
     "text": [
      "     94/300         0G     0.9583      1.576     0.8131       1.08         65        640: 100%|██████████| 9/9 [03:08<00:00, 20.96s/it]\n",
      "                 Class     Images  Instances      Box(P          R      mAP50  mAP50-95)     Mask(P          R      mAP50  mAP50-95): 100%|██████████| 1/1 [00:16<00:00, 16.12s/it]"
     ]
    },
    {
     "name": "stdout",
     "output_type": "stream",
     "text": [
      "                   all         32        110      0.555      0.382      0.375       0.19      0.514      0.355      0.357      0.174\n"
     ]
    },
    {
     "name": "stderr",
     "output_type": "stream",
     "text": [
      "\n"
     ]
    },
    {
     "name": "stdout",
     "output_type": "stream",
     "text": [
      "\n",
      "      Epoch    GPU_mem   box_loss   seg_loss   cls_loss   dfl_loss  Instances       Size\n"
     ]
    },
    {
     "name": "stderr",
     "output_type": "stream",
     "text": [
      "     95/300         0G     0.9527      1.677     0.8126      1.107         65        640: 100%|██████████| 9/9 [03:11<00:00, 21.24s/it]\n",
      "                 Class     Images  Instances      Box(P          R      mAP50  mAP50-95)     Mask(P          R      mAP50  mAP50-95): 100%|██████████| 1/1 [00:16<00:00, 16.00s/it]"
     ]
    },
    {
     "name": "stdout",
     "output_type": "stream",
     "text": [
      "                   all         32        110      0.571      0.327      0.363      0.196      0.617      0.327      0.345      0.181\n"
     ]
    },
    {
     "name": "stderr",
     "output_type": "stream",
     "text": [
      "\n"
     ]
    },
    {
     "name": "stdout",
     "output_type": "stream",
     "text": [
      "\n",
      "      Epoch    GPU_mem   box_loss   seg_loss   cls_loss   dfl_loss  Instances       Size\n"
     ]
    },
    {
     "name": "stderr",
     "output_type": "stream",
     "text": [
      "     96/300         0G      0.946      1.621     0.7886      1.073         52        640: 100%|██████████| 9/9 [03:17<00:00, 21.92s/it]\n",
      "                 Class     Images  Instances      Box(P          R      mAP50  mAP50-95)     Mask(P          R      mAP50  mAP50-95): 100%|██████████| 1/1 [00:16<00:00, 16.19s/it]"
     ]
    },
    {
     "name": "stdout",
     "output_type": "stream",
     "text": [
      "                   all         32        110      0.535        0.4      0.376      0.193      0.562      0.318      0.334      0.177\n"
     ]
    },
    {
     "name": "stderr",
     "output_type": "stream",
     "text": [
      "\n"
     ]
    },
    {
     "name": "stdout",
     "output_type": "stream",
     "text": [
      "\n",
      "      Epoch    GPU_mem   box_loss   seg_loss   cls_loss   dfl_loss  Instances       Size\n"
     ]
    },
    {
     "name": "stderr",
     "output_type": "stream",
     "text": [
      "     97/300         0G     0.9018      1.464     0.7052      1.058         79        640: 100%|██████████| 9/9 [03:14<00:00, 21.64s/it]\n",
      "                 Class     Images  Instances      Box(P          R      mAP50  mAP50-95)     Mask(P          R      mAP50  mAP50-95): 100%|██████████| 1/1 [00:16<00:00, 16.02s/it]"
     ]
    },
    {
     "name": "stdout",
     "output_type": "stream",
     "text": [
      "                   all         32        110      0.562      0.391      0.376      0.205      0.536      0.364      0.339      0.188\n"
     ]
    },
    {
     "name": "stderr",
     "output_type": "stream",
     "text": [
      "\n"
     ]
    },
    {
     "name": "stdout",
     "output_type": "stream",
     "text": [
      "\n",
      "      Epoch    GPU_mem   box_loss   seg_loss   cls_loss   dfl_loss  Instances       Size\n"
     ]
    },
    {
     "name": "stderr",
     "output_type": "stream",
     "text": [
      "     98/300         0G     0.9115      1.504     0.7316      1.072         66        640: 100%|██████████| 9/9 [03:13<00:00, 21.52s/it]\n",
      "                 Class     Images  Instances      Box(P          R      mAP50  mAP50-95)     Mask(P          R      mAP50  mAP50-95): 100%|██████████| 1/1 [00:16<00:00, 16.29s/it]"
     ]
    },
    {
     "name": "stdout",
     "output_type": "stream",
     "text": [
      "                   all         32        110      0.589      0.391      0.406      0.221      0.589      0.391      0.384      0.193\n"
     ]
    },
    {
     "name": "stderr",
     "output_type": "stream",
     "text": [
      "\n"
     ]
    },
    {
     "name": "stdout",
     "output_type": "stream",
     "text": [
      "\n",
      "      Epoch    GPU_mem   box_loss   seg_loss   cls_loss   dfl_loss  Instances       Size\n"
     ]
    },
    {
     "name": "stderr",
     "output_type": "stream",
     "text": [
      "     99/300         0G     0.9309      1.512     0.7334      1.086         79        640: 100%|██████████| 9/9 [03:10<00:00, 21.14s/it]\n",
      "                 Class     Images  Instances      Box(P          R      mAP50  mAP50-95)     Mask(P          R      mAP50  mAP50-95): 100%|██████████| 1/1 [00:16<00:00, 16.13s/it]"
     ]
    },
    {
     "name": "stdout",
     "output_type": "stream",
     "text": [
      "                   all         32        110      0.618      0.418      0.428      0.231      0.576      0.391       0.39      0.191\n"
     ]
    },
    {
     "name": "stderr",
     "output_type": "stream",
     "text": [
      "\n"
     ]
    },
    {
     "name": "stdout",
     "output_type": "stream",
     "text": [
      "\n",
      "      Epoch    GPU_mem   box_loss   seg_loss   cls_loss   dfl_loss  Instances       Size\n"
     ]
    },
    {
     "name": "stderr",
     "output_type": "stream",
     "text": [
      "    100/300         0G     0.9078      1.619     0.7367      1.054         71        640: 100%|██████████| 9/9 [03:17<00:00, 21.91s/it]\n",
      "                 Class     Images  Instances      Box(P          R      mAP50  mAP50-95)     Mask(P          R      mAP50  mAP50-95): 100%|██████████| 1/1 [00:16<00:00, 16.03s/it]"
     ]
    },
    {
     "name": "stdout",
     "output_type": "stream",
     "text": [
      "                   all         32        110       0.44      0.373      0.329      0.182       0.43      0.336      0.302      0.164\n"
     ]
    },
    {
     "name": "stderr",
     "output_type": "stream",
     "text": [
      "\n"
     ]
    },
    {
     "name": "stdout",
     "output_type": "stream",
     "text": [
      "\n",
      "      Epoch    GPU_mem   box_loss   seg_loss   cls_loss   dfl_loss  Instances       Size\n"
     ]
    },
    {
     "name": "stderr",
     "output_type": "stream",
     "text": [
      "    101/300         0G     0.8826      1.533     0.7532      1.057         52        640: 100%|██████████| 9/9 [03:18<00:00, 22.03s/it]\n",
      "                 Class     Images  Instances      Box(P          R      mAP50  mAP50-95)     Mask(P          R      mAP50  mAP50-95): 100%|██████████| 1/1 [00:15<00:00, 15.70s/it]"
     ]
    },
    {
     "name": "stdout",
     "output_type": "stream",
     "text": [
      "                   all         32        110      0.719      0.382      0.434      0.218      0.604      0.345       0.38      0.197\n"
     ]
    },
    {
     "name": "stderr",
     "output_type": "stream",
     "text": [
      "\n"
     ]
    },
    {
     "name": "stdout",
     "output_type": "stream",
     "text": [
      "\n",
      "      Epoch    GPU_mem   box_loss   seg_loss   cls_loss   dfl_loss  Instances       Size\n"
     ]
    },
    {
     "name": "stderr",
     "output_type": "stream",
     "text": [
      "    102/300         0G     0.8829      1.466     0.7197      1.052         78        640: 100%|██████████| 9/9 [03:01<00:00, 20.19s/it]\n",
      "                 Class     Images  Instances      Box(P          R      mAP50  mAP50-95)     Mask(P          R      mAP50  mAP50-95): 100%|██████████| 1/1 [00:15<00:00, 15.58s/it]"
     ]
    },
    {
     "name": "stdout",
     "output_type": "stream",
     "text": [
      "                   all         32        110      0.673      0.445      0.478      0.244      0.594      0.391      0.412      0.208\n"
     ]
    },
    {
     "name": "stderr",
     "output_type": "stream",
     "text": [
      "\n"
     ]
    },
    {
     "name": "stdout",
     "output_type": "stream",
     "text": [
      "\n",
      "      Epoch    GPU_mem   box_loss   seg_loss   cls_loss   dfl_loss  Instances       Size\n"
     ]
    },
    {
     "name": "stderr",
     "output_type": "stream",
     "text": [
      "    103/300         0G     0.9433      1.604     0.7672       1.09         55        640: 100%|██████████| 9/9 [03:08<00:00, 20.98s/it]\n",
      "                 Class     Images  Instances      Box(P          R      mAP50  mAP50-95)     Mask(P          R      mAP50  mAP50-95): 100%|██████████| 1/1 [00:15<00:00, 15.64s/it]"
     ]
    },
    {
     "name": "stdout",
     "output_type": "stream",
     "text": [
      "                   all         32        110        0.5      0.464      0.453      0.245      0.474      0.391      0.389      0.197\n"
     ]
    },
    {
     "name": "stderr",
     "output_type": "stream",
     "text": [
      "\n"
     ]
    },
    {
     "name": "stdout",
     "output_type": "stream",
     "text": [
      "\n",
      "      Epoch    GPU_mem   box_loss   seg_loss   cls_loss   dfl_loss  Instances       Size\n"
     ]
    },
    {
     "name": "stderr",
     "output_type": "stream",
     "text": [
      "    104/300         0G     0.9173      1.615     0.7795      1.087         61        640: 100%|██████████| 9/9 [03:15<00:00, 21.75s/it]\n",
      "                 Class     Images  Instances      Box(P          R      mAP50  mAP50-95)     Mask(P          R      mAP50  mAP50-95): 100%|██████████| 1/1 [00:15<00:00, 15.67s/it]"
     ]
    },
    {
     "name": "stdout",
     "output_type": "stream",
     "text": [
      "                   all         32        110      0.425        0.5      0.415      0.207      0.399      0.446      0.357      0.175\n"
     ]
    },
    {
     "name": "stderr",
     "output_type": "stream",
     "text": [
      "\n"
     ]
    },
    {
     "name": "stdout",
     "output_type": "stream",
     "text": [
      "\n",
      "      Epoch    GPU_mem   box_loss   seg_loss   cls_loss   dfl_loss  Instances       Size\n"
     ]
    },
    {
     "name": "stderr",
     "output_type": "stream",
     "text": [
      "    105/300         0G     0.9276      1.508     0.7491      1.087         63        640: 100%|██████████| 9/9 [03:09<00:00, 21.06s/it]\n",
      "                 Class     Images  Instances      Box(P          R      mAP50  mAP50-95)     Mask(P          R      mAP50  mAP50-95): 100%|██████████| 1/1 [00:15<00:00, 15.73s/it]"
     ]
    },
    {
     "name": "stdout",
     "output_type": "stream",
     "text": [
      "                   all         32        110      0.564      0.382      0.389      0.193      0.523      0.355      0.341      0.163\n"
     ]
    },
    {
     "name": "stderr",
     "output_type": "stream",
     "text": [
      "\n"
     ]
    },
    {
     "name": "stdout",
     "output_type": "stream",
     "text": [
      "\n",
      "      Epoch    GPU_mem   box_loss   seg_loss   cls_loss   dfl_loss  Instances       Size\n"
     ]
    },
    {
     "name": "stderr",
     "output_type": "stream",
     "text": [
      "    106/300         0G     0.9168      1.569     0.7546      1.087         75        640: 100%|██████████| 9/9 [03:09<00:00, 21.02s/it]\n",
      "                 Class     Images  Instances      Box(P          R      mAP50  mAP50-95)     Mask(P          R      mAP50  mAP50-95): 100%|██████████| 1/1 [00:15<00:00, 15.96s/it]"
     ]
    },
    {
     "name": "stdout",
     "output_type": "stream",
     "text": [
      "                   all         32        110      0.654      0.382      0.412      0.199      0.599      0.327      0.346       0.17\n"
     ]
    },
    {
     "name": "stderr",
     "output_type": "stream",
     "text": [
      "\n"
     ]
    },
    {
     "name": "stdout",
     "output_type": "stream",
     "text": [
      "\n",
      "      Epoch    GPU_mem   box_loss   seg_loss   cls_loss   dfl_loss  Instances       Size\n"
     ]
    },
    {
     "name": "stderr",
     "output_type": "stream",
     "text": [
      "    107/300         0G     0.9185      1.541     0.7473      1.085         52        640: 100%|██████████| 9/9 [03:06<00:00, 20.76s/it]\n",
      "                 Class     Images  Instances      Box(P          R      mAP50  mAP50-95)     Mask(P          R      mAP50  mAP50-95): 100%|██████████| 1/1 [00:16<00:00, 16.10s/it]"
     ]
    },
    {
     "name": "stdout",
     "output_type": "stream",
     "text": [
      "                   all         32        110      0.533      0.473      0.437      0.218      0.693      0.355       0.38      0.192\n"
     ]
    },
    {
     "name": "stderr",
     "output_type": "stream",
     "text": [
      "\n"
     ]
    },
    {
     "name": "stdout",
     "output_type": "stream",
     "text": [
      "\n",
      "      Epoch    GPU_mem   box_loss   seg_loss   cls_loss   dfl_loss  Instances       Size\n"
     ]
    },
    {
     "name": "stderr",
     "output_type": "stream",
     "text": [
      "    108/300         0G     0.9427      1.532      0.772      1.069         73        640: 100%|██████████| 9/9 [03:10<00:00, 21.22s/it]\n",
      "                 Class     Images  Instances      Box(P          R      mAP50  mAP50-95)     Mask(P          R      mAP50  mAP50-95): 100%|██████████| 1/1 [00:15<00:00, 15.91s/it]"
     ]
    },
    {
     "name": "stdout",
     "output_type": "stream",
     "text": [
      "                   all         32        110      0.469      0.455      0.402      0.194      0.665      0.318      0.359      0.183\n"
     ]
    },
    {
     "name": "stderr",
     "output_type": "stream",
     "text": [
      "\n"
     ]
    },
    {
     "name": "stdout",
     "output_type": "stream",
     "text": [
      "\n",
      "      Epoch    GPU_mem   box_loss   seg_loss   cls_loss   dfl_loss  Instances       Size\n"
     ]
    },
    {
     "name": "stderr",
     "output_type": "stream",
     "text": [
      "    109/300         0G     0.8674      1.465     0.7239      1.056         58        640: 100%|██████████| 9/9 [03:14<00:00, 21.64s/it]\n",
      "                 Class     Images  Instances      Box(P          R      mAP50  mAP50-95)     Mask(P          R      mAP50  mAP50-95): 100%|██████████| 1/1 [00:15<00:00, 15.92s/it]"
     ]
    },
    {
     "name": "stdout",
     "output_type": "stream",
     "text": [
      "                   all         32        110      0.557      0.409      0.431      0.224      0.624      0.364      0.395      0.204\n"
     ]
    },
    {
     "name": "stderr",
     "output_type": "stream",
     "text": [
      "\n"
     ]
    },
    {
     "name": "stdout",
     "output_type": "stream",
     "text": [
      "\n",
      "      Epoch    GPU_mem   box_loss   seg_loss   cls_loss   dfl_loss  Instances       Size\n"
     ]
    },
    {
     "name": "stderr",
     "output_type": "stream",
     "text": [
      "    110/300         0G     0.8957      1.492     0.7168      1.066         58        640: 100%|██████████| 9/9 [03:10<00:00, 21.12s/it]\n",
      "                 Class     Images  Instances      Box(P          R      mAP50  mAP50-95)     Mask(P          R      mAP50  mAP50-95): 100%|██████████| 1/1 [00:15<00:00, 15.87s/it]"
     ]
    },
    {
     "name": "stdout",
     "output_type": "stream",
     "text": [
      "                   all         32        110      0.599      0.427      0.426      0.231      0.589      0.409      0.397      0.217\n"
     ]
    },
    {
     "name": "stderr",
     "output_type": "stream",
     "text": [
      "\n"
     ]
    },
    {
     "name": "stdout",
     "output_type": "stream",
     "text": [
      "\n",
      "      Epoch    GPU_mem   box_loss   seg_loss   cls_loss   dfl_loss  Instances       Size\n"
     ]
    },
    {
     "name": "stderr",
     "output_type": "stream",
     "text": [
      "    111/300         0G     0.9086      1.466     0.7228      1.048         70        640: 100%|██████████| 9/9 [03:17<00:00, 21.89s/it]\n",
      "                 Class     Images  Instances      Box(P          R      mAP50  mAP50-95)     Mask(P          R      mAP50  mAP50-95): 100%|██████████| 1/1 [00:15<00:00, 15.76s/it]"
     ]
    },
    {
     "name": "stdout",
     "output_type": "stream",
     "text": [
      "                   all         32        110      0.595      0.445      0.404      0.236      0.567      0.427      0.385      0.216\n"
     ]
    },
    {
     "name": "stderr",
     "output_type": "stream",
     "text": [
      "\n"
     ]
    },
    {
     "name": "stdout",
     "output_type": "stream",
     "text": [
      "\n",
      "      Epoch    GPU_mem   box_loss   seg_loss   cls_loss   dfl_loss  Instances       Size\n"
     ]
    },
    {
     "name": "stderr",
     "output_type": "stream",
     "text": [
      "    112/300         0G     0.9519      1.537     0.7799      1.098         63        640: 100%|██████████| 9/9 [02:57<00:00, 19.72s/it]\n",
      "                 Class     Images  Instances      Box(P          R      mAP50  mAP50-95)     Mask(P          R      mAP50  mAP50-95): 100%|██████████| 1/1 [00:16<00:00, 16.05s/it]"
     ]
    },
    {
     "name": "stdout",
     "output_type": "stream",
     "text": [
      "                   all         32        110      0.654      0.391      0.387       0.21      0.638      0.382      0.386      0.174\n"
     ]
    },
    {
     "name": "stderr",
     "output_type": "stream",
     "text": [
      "\n"
     ]
    },
    {
     "name": "stdout",
     "output_type": "stream",
     "text": [
      "\n",
      "      Epoch    GPU_mem   box_loss   seg_loss   cls_loss   dfl_loss  Instances       Size\n"
     ]
    },
    {
     "name": "stderr",
     "output_type": "stream",
     "text": [
      "    113/300         0G      0.927      1.606     0.7397      1.099         57        640: 100%|██████████| 9/9 [03:15<00:00, 21.71s/it]\n",
      "                 Class     Images  Instances      Box(P          R      mAP50  mAP50-95)     Mask(P          R      mAP50  mAP50-95): 100%|██████████| 1/1 [00:16<00:00, 16.04s/it]"
     ]
    },
    {
     "name": "stdout",
     "output_type": "stream",
     "text": [
      "                   all         32        110      0.662      0.356      0.395      0.204      0.569      0.364      0.366      0.173\n"
     ]
    },
    {
     "name": "stderr",
     "output_type": "stream",
     "text": [
      "\n"
     ]
    },
    {
     "name": "stdout",
     "output_type": "stream",
     "text": [
      "\n",
      "      Epoch    GPU_mem   box_loss   seg_loss   cls_loss   dfl_loss  Instances       Size\n"
     ]
    },
    {
     "name": "stderr",
     "output_type": "stream",
     "text": [
      "    114/300         0G     0.8914      1.503     0.7179       1.05         67        640: 100%|██████████| 9/9 [03:08<00:00, 20.91s/it]\n",
      "                 Class     Images  Instances      Box(P          R      mAP50  mAP50-95)     Mask(P          R      mAP50  mAP50-95): 100%|██████████| 1/1 [00:15<00:00, 15.86s/it]"
     ]
    },
    {
     "name": "stdout",
     "output_type": "stream",
     "text": [
      "                   all         32        110      0.657      0.373       0.42      0.215      0.626      0.373      0.394      0.189\n"
     ]
    },
    {
     "name": "stderr",
     "output_type": "stream",
     "text": [
      "\n"
     ]
    },
    {
     "name": "stdout",
     "output_type": "stream",
     "text": [
      "\n",
      "      Epoch    GPU_mem   box_loss   seg_loss   cls_loss   dfl_loss  Instances       Size\n"
     ]
    },
    {
     "name": "stderr",
     "output_type": "stream",
     "text": [
      "    115/300         0G     0.8564      1.409     0.6991      1.049         57        640: 100%|██████████| 9/9 [03:03<00:00, 20.44s/it]\n",
      "                 Class     Images  Instances      Box(P          R      mAP50  mAP50-95)     Mask(P          R      mAP50  mAP50-95): 100%|██████████| 1/1 [00:16<00:00, 16.03s/it]"
     ]
    },
    {
     "name": "stdout",
     "output_type": "stream",
     "text": [
      "                   all         32        110      0.591      0.445      0.431      0.232      0.551      0.455      0.405      0.207\n"
     ]
    },
    {
     "name": "stderr",
     "output_type": "stream",
     "text": [
      "\n"
     ]
    },
    {
     "name": "stdout",
     "output_type": "stream",
     "text": [
      "\n",
      "      Epoch    GPU_mem   box_loss   seg_loss   cls_loss   dfl_loss  Instances       Size\n"
     ]
    },
    {
     "name": "stderr",
     "output_type": "stream",
     "text": [
      "    116/300         0G     0.8708      1.387     0.6786      1.065         51        640: 100%|██████████| 9/9 [02:59<00:00, 19.90s/it]\n",
      "                 Class     Images  Instances      Box(P          R      mAP50  mAP50-95)     Mask(P          R      mAP50  mAP50-95): 100%|██████████| 1/1 [00:15<00:00, 15.76s/it]"
     ]
    },
    {
     "name": "stdout",
     "output_type": "stream",
     "text": [
      "                   all         32        110      0.565      0.449      0.434      0.241       0.63      0.418      0.417       0.21\n"
     ]
    },
    {
     "name": "stderr",
     "output_type": "stream",
     "text": [
      "\n"
     ]
    },
    {
     "name": "stdout",
     "output_type": "stream",
     "text": [
      "\n",
      "      Epoch    GPU_mem   box_loss   seg_loss   cls_loss   dfl_loss  Instances       Size\n"
     ]
    },
    {
     "name": "stderr",
     "output_type": "stream",
     "text": [
      "    117/300         0G     0.8841      1.645     0.7106      1.052         71        640: 100%|██████████| 9/9 [02:56<00:00, 19.65s/it]\n",
      "                 Class     Images  Instances      Box(P          R      mAP50  mAP50-95)     Mask(P          R      mAP50  mAP50-95): 100%|██████████| 1/1 [00:15<00:00, 15.90s/it]"
     ]
    },
    {
     "name": "stdout",
     "output_type": "stream",
     "text": [
      "                   all         32        110      0.661      0.355      0.411      0.217      0.715      0.345       0.41      0.211\n"
     ]
    },
    {
     "name": "stderr",
     "output_type": "stream",
     "text": [
      "\n"
     ]
    },
    {
     "name": "stdout",
     "output_type": "stream",
     "text": [
      "\n",
      "      Epoch    GPU_mem   box_loss   seg_loss   cls_loss   dfl_loss  Instances       Size\n"
     ]
    },
    {
     "name": "stderr",
     "output_type": "stream",
     "text": [
      "    118/300         0G     0.8565      1.441     0.6789      1.045         85        640: 100%|██████████| 9/9 [02:57<00:00, 19.70s/it]\n",
      "                 Class     Images  Instances      Box(P          R      mAP50  mAP50-95)     Mask(P          R      mAP50  mAP50-95): 100%|██████████| 1/1 [00:15<00:00, 15.84s/it]"
     ]
    },
    {
     "name": "stdout",
     "output_type": "stream",
     "text": [
      "                   all         32        110      0.551      0.409      0.402      0.205      0.555      0.409      0.415      0.208\n"
     ]
    },
    {
     "name": "stderr",
     "output_type": "stream",
     "text": [
      "\n"
     ]
    },
    {
     "name": "stdout",
     "output_type": "stream",
     "text": [
      "\n",
      "      Epoch    GPU_mem   box_loss   seg_loss   cls_loss   dfl_loss  Instances       Size\n"
     ]
    },
    {
     "name": "stderr",
     "output_type": "stream",
     "text": [
      "    119/300         0G     0.8777      1.367     0.6993      1.052         75        640: 100%|██████████| 9/9 [03:01<00:00, 20.14s/it]\n",
      "                 Class     Images  Instances      Box(P          R      mAP50  mAP50-95)     Mask(P          R      mAP50  mAP50-95): 100%|██████████| 1/1 [00:15<00:00, 15.85s/it]"
     ]
    },
    {
     "name": "stdout",
     "output_type": "stream",
     "text": [
      "                   all         32        110      0.489      0.491      0.407      0.216      0.658        0.4      0.428      0.205\n"
     ]
    },
    {
     "name": "stderr",
     "output_type": "stream",
     "text": [
      "\n"
     ]
    },
    {
     "name": "stdout",
     "output_type": "stream",
     "text": [
      "\n",
      "      Epoch    GPU_mem   box_loss   seg_loss   cls_loss   dfl_loss  Instances       Size\n"
     ]
    },
    {
     "name": "stderr",
     "output_type": "stream",
     "text": [
      "    120/300         0G     0.8597      1.417     0.7148      1.043         79        640: 100%|██████████| 9/9 [03:00<00:00, 20.03s/it]\n",
      "                 Class     Images  Instances      Box(P          R      mAP50  mAP50-95)     Mask(P          R      mAP50  mAP50-95): 100%|██████████| 1/1 [00:15<00:00, 15.70s/it]"
     ]
    },
    {
     "name": "stdout",
     "output_type": "stream",
     "text": [
      "                   all         32        110      0.618      0.426      0.458      0.245      0.591      0.391       0.42      0.207\n"
     ]
    },
    {
     "name": "stderr",
     "output_type": "stream",
     "text": [
      "\n"
     ]
    },
    {
     "name": "stdout",
     "output_type": "stream",
     "text": [
      "\n",
      "      Epoch    GPU_mem   box_loss   seg_loss   cls_loss   dfl_loss  Instances       Size\n"
     ]
    },
    {
     "name": "stderr",
     "output_type": "stream",
     "text": [
      "    121/300         0G      0.891      1.446     0.6751      1.057         68        640: 100%|██████████| 9/9 [03:09<00:00, 21.06s/it]\n",
      "                 Class     Images  Instances      Box(P          R      mAP50  mAP50-95)     Mask(P          R      mAP50  mAP50-95): 100%|██████████| 1/1 [00:15<00:00, 15.81s/it]"
     ]
    },
    {
     "name": "stdout",
     "output_type": "stream",
     "text": [
      "                   all         32        110      0.561      0.455      0.466      0.247      0.689      0.355      0.411      0.204\n"
     ]
    },
    {
     "name": "stderr",
     "output_type": "stream",
     "text": [
      "\n"
     ]
    },
    {
     "name": "stdout",
     "output_type": "stream",
     "text": [
      "\n",
      "      Epoch    GPU_mem   box_loss   seg_loss   cls_loss   dfl_loss  Instances       Size\n"
     ]
    },
    {
     "name": "stderr",
     "output_type": "stream",
     "text": [
      "    122/300         0G     0.8632      1.349     0.6637      1.049         62        640: 100%|██████████| 9/9 [03:05<00:00, 20.60s/it]\n",
      "                 Class     Images  Instances      Box(P          R      mAP50  mAP50-95)     Mask(P          R      mAP50  mAP50-95): 100%|██████████| 1/1 [00:15<00:00, 15.74s/it]"
     ]
    },
    {
     "name": "stdout",
     "output_type": "stream",
     "text": [
      "                   all         32        110      0.721      0.376      0.454      0.233       0.68      0.355      0.404      0.187\n"
     ]
    },
    {
     "name": "stderr",
     "output_type": "stream",
     "text": [
      "\n"
     ]
    },
    {
     "name": "stdout",
     "output_type": "stream",
     "text": [
      "\n",
      "      Epoch    GPU_mem   box_loss   seg_loss   cls_loss   dfl_loss  Instances       Size\n"
     ]
    },
    {
     "name": "stderr",
     "output_type": "stream",
     "text": [
      "    123/300         0G     0.8958      1.481     0.7085      1.071         74        640: 100%|██████████| 9/9 [03:03<00:00, 20.38s/it]\n",
      "                 Class     Images  Instances      Box(P          R      mAP50  mAP50-95)     Mask(P          R      mAP50  mAP50-95): 100%|██████████| 1/1 [00:15<00:00, 15.37s/it]"
     ]
    },
    {
     "name": "stdout",
     "output_type": "stream",
     "text": [
      "                   all         32        110      0.701      0.409      0.454      0.225      0.592      0.336       0.36      0.159\n"
     ]
    },
    {
     "name": "stderr",
     "output_type": "stream",
     "text": [
      "\n"
     ]
    },
    {
     "name": "stdout",
     "output_type": "stream",
     "text": [
      "\n",
      "      Epoch    GPU_mem   box_loss   seg_loss   cls_loss   dfl_loss  Instances       Size\n"
     ]
    },
    {
     "name": "stderr",
     "output_type": "stream",
     "text": [
      "    124/300         0G     0.8702       1.35     0.6792       1.04         70        640: 100%|██████████| 9/9 [03:04<00:00, 20.52s/it]\n",
      "                 Class     Images  Instances      Box(P          R      mAP50  mAP50-95)     Mask(P          R      mAP50  mAP50-95): 100%|██████████| 1/1 [00:15<00:00, 15.72s/it]"
     ]
    },
    {
     "name": "stdout",
     "output_type": "stream",
     "text": [
      "                   all         32        110      0.583      0.464      0.464       0.23       0.62      0.391      0.385      0.169\n"
     ]
    },
    {
     "name": "stderr",
     "output_type": "stream",
     "text": [
      "\n"
     ]
    },
    {
     "name": "stdout",
     "output_type": "stream",
     "text": [
      "\n",
      "      Epoch    GPU_mem   box_loss   seg_loss   cls_loss   dfl_loss  Instances       Size\n"
     ]
    },
    {
     "name": "stderr",
     "output_type": "stream",
     "text": [
      "    125/300         0G     0.8103      1.418     0.6287      1.012         57        640: 100%|██████████| 9/9 [03:15<00:00, 21.67s/it]\n",
      "                 Class     Images  Instances      Box(P          R      mAP50  mAP50-95)     Mask(P          R      mAP50  mAP50-95): 100%|██████████| 1/1 [00:15<00:00, 15.98s/it]"
     ]
    },
    {
     "name": "stdout",
     "output_type": "stream",
     "text": [
      "                   all         32        110      0.669      0.418      0.452      0.234      0.698      0.399      0.406      0.201\n"
     ]
    },
    {
     "name": "stderr",
     "output_type": "stream",
     "text": [
      "\n"
     ]
    },
    {
     "name": "stdout",
     "output_type": "stream",
     "text": [
      "\n",
      "      Epoch    GPU_mem   box_loss   seg_loss   cls_loss   dfl_loss  Instances       Size\n"
     ]
    },
    {
     "name": "stderr",
     "output_type": "stream",
     "text": [
      "    126/300         0G     0.8431      1.411     0.6244      1.037         59        640: 100%|██████████| 9/9 [03:12<00:00, 21.36s/it]\n",
      "                 Class     Images  Instances      Box(P          R      mAP50  mAP50-95)     Mask(P          R      mAP50  mAP50-95): 100%|██████████| 1/1 [00:15<00:00, 15.86s/it]"
     ]
    },
    {
     "name": "stdout",
     "output_type": "stream",
     "text": [
      "                   all         32        110      0.729      0.445      0.495      0.241      0.731      0.436       0.44      0.201\n"
     ]
    },
    {
     "name": "stderr",
     "output_type": "stream",
     "text": [
      "\n"
     ]
    },
    {
     "name": "stdout",
     "output_type": "stream",
     "text": [
      "\n",
      "      Epoch    GPU_mem   box_loss   seg_loss   cls_loss   dfl_loss  Instances       Size\n"
     ]
    },
    {
     "name": "stderr",
     "output_type": "stream",
     "text": [
      "    127/300         0G     0.8661       1.31      0.627      1.052         46        640: 100%|██████████| 9/9 [03:11<00:00, 21.26s/it]\n",
      "                 Class     Images  Instances      Box(P          R      mAP50  mAP50-95)     Mask(P          R      mAP50  mAP50-95): 100%|██████████| 1/1 [00:16<00:00, 16.02s/it]"
     ]
    },
    {
     "name": "stdout",
     "output_type": "stream",
     "text": [
      "                   all         32        110      0.822      0.462      0.495      0.238       0.75      0.427      0.432      0.184\n"
     ]
    },
    {
     "name": "stderr",
     "output_type": "stream",
     "text": [
      "\n"
     ]
    },
    {
     "name": "stdout",
     "output_type": "stream",
     "text": [
      "\n",
      "      Epoch    GPU_mem   box_loss   seg_loss   cls_loss   dfl_loss  Instances       Size\n"
     ]
    },
    {
     "name": "stderr",
     "output_type": "stream",
     "text": [
      "    128/300         0G     0.8658      1.384     0.6413      1.046         56        640: 100%|██████████| 9/9 [03:12<00:00, 21.36s/it]\n",
      "                 Class     Images  Instances      Box(P          R      mAP50  mAP50-95)     Mask(P          R      mAP50  mAP50-95): 100%|██████████| 1/1 [00:15<00:00, 15.83s/it]"
     ]
    },
    {
     "name": "stdout",
     "output_type": "stream",
     "text": [
      "                   all         32        110      0.613      0.489      0.469      0.246      0.636      0.445      0.418      0.201\n"
     ]
    },
    {
     "name": "stderr",
     "output_type": "stream",
     "text": [
      "\n"
     ]
    },
    {
     "name": "stdout",
     "output_type": "stream",
     "text": [
      "\n",
      "      Epoch    GPU_mem   box_loss   seg_loss   cls_loss   dfl_loss  Instances       Size\n"
     ]
    },
    {
     "name": "stderr",
     "output_type": "stream",
     "text": [
      "    129/300         0G     0.8207       1.34     0.6217      1.034         84        640: 100%|██████████| 9/9 [03:07<00:00, 20.84s/it]\n",
      "                 Class     Images  Instances      Box(P          R      mAP50  mAP50-95)     Mask(P          R      mAP50  mAP50-95): 100%|██████████| 1/1 [00:15<00:00, 15.69s/it]"
     ]
    },
    {
     "name": "stdout",
     "output_type": "stream",
     "text": [
      "                   all         32        110      0.687       0.48      0.464      0.237      0.606      0.436      0.408      0.206\n"
     ]
    },
    {
     "name": "stderr",
     "output_type": "stream",
     "text": [
      "\n"
     ]
    },
    {
     "name": "stdout",
     "output_type": "stream",
     "text": [
      "\n",
      "      Epoch    GPU_mem   box_loss   seg_loss   cls_loss   dfl_loss  Instances       Size\n"
     ]
    },
    {
     "name": "stderr",
     "output_type": "stream",
     "text": [
      "    130/300         0G     0.8587      1.471     0.6696      1.027         46        640: 100%|██████████| 9/9 [03:09<00:00, 21.07s/it]\n",
      "                 Class     Images  Instances      Box(P          R      mAP50  mAP50-95)     Mask(P          R      mAP50  mAP50-95): 100%|██████████| 1/1 [00:15<00:00, 15.62s/it]"
     ]
    },
    {
     "name": "stdout",
     "output_type": "stream",
     "text": [
      "                   all         32        110      0.603      0.473      0.443      0.232      0.566      0.445      0.415      0.209\n",
      "Stopping training early as no improvement observed in last 50 epochs. Best results observed at epoch 80, best model saved as best.pt.\n",
      "To update EarlyStopping(patience=50) pass a new patience value, i.e. `patience=300` or use `patience=0` to disable EarlyStopping.\n"
     ]
    },
    {
     "name": "stderr",
     "output_type": "stream",
     "text": [
      "\n"
     ]
    },
    {
     "name": "stdout",
     "output_type": "stream",
     "text": [
      "\n",
      "130 epochs completed in 7.427 hours.\n",
      "Optimizer stripped from runs\\segment\\train2\\weights\\last.pt, 23.9MB\n",
      "Optimizer stripped from runs\\segment\\train2\\weights\\best.pt, 23.9MB\n",
      "\n",
      "Validating runs\\segment\\train2\\weights\\best.pt...\n",
      "Ultralytics YOLOv8.0.225 🚀 Python-3.10.4 torch-2.0.1+cu117 CPU (Intel Core(TM) i5-10200H 2.40GHz)\n",
      "YOLOv8s-seg summary (fused): 195 layers, 11779987 parameters, 0 gradients, 42.4 GFLOPs\n"
     ]
    },
    {
     "name": "stderr",
     "output_type": "stream",
     "text": [
      "                 Class     Images  Instances      Box(P          R      mAP50  mAP50-95)     Mask(P          R      mAP50  mAP50-95): 100%|██████████| 1/1 [00:13<00:00, 13.50s/it]\n"
     ]
    },
    {
     "name": "stdout",
     "output_type": "stream",
     "text": [
      "                   all         32        110      0.634      0.457      0.492      0.264      0.558        0.4      0.388      0.194\n",
      "Speed: 2.2ms preprocess, 391.1ms inference, 0.0ms loss, 1.0ms postprocess per image\n",
      "Results saved to \u001b[1mruns\\segment\\train2\u001b[0m\n"
     ]
    }
   ],
   "source": [
    "model = YOLO('yolov8s-seg.pt')\n",
    "results = model.train(data=\"dataset/VOCdevkit/datasets/potholes.yaml\", epochs=300, device='cpu')"
   ]
  },
  {
   "cell_type": "code",
   "execution_count": 2,
   "id": "ba7d1ec556af5026",
   "metadata": {
    "ExecuteTime": {
     "end_time": "2023-12-11T06:27:13.126708600Z",
     "start_time": "2023-12-11T06:27:12.995061200Z"
    },
    "collapsed": false,
    "jupyter": {
     "outputs_hidden": false
    }
   },
   "outputs": [],
   "source": [
    "model=YOLO('potholesSegment.pt')"
   ]
  },
  {
   "cell_type": "code",
   "execution_count": 3,
   "id": "11eb0e56f2b6d3ef",
   "metadata": {
    "ExecuteTime": {
     "end_time": "2023-12-11T06:12:36.025388500Z",
     "start_time": "2023-12-11T06:11:58.058341Z"
    },
    "collapsed": false,
    "jupyter": {
     "outputs_hidden": false
    }
   },
   "outputs": [
    {
     "name": "stdout",
     "output_type": "stream",
     "text": [
      "image 1/448 E:\\University\\PythonProject\\UltralyticsPotholes\\potholes\\part1\\00c9sdfq.jpg: 640x480 1 potholes, 88.8ms\n",
      "image 2/448 E:\\University\\PythonProject\\UltralyticsPotholes\\potholes\\part1\\00yf8rxj.jpg: 384x640 1 potholes, 97.7ms\n",
      "image 3/448 E:\\University\\PythonProject\\UltralyticsPotholes\\potholes\\part1\\01lx7dej.jpg: 640x480 1 potholes, 25.9ms\n",
      "image 4/448 E:\\University\\PythonProject\\UltralyticsPotholes\\potholes\\part1\\01paoyy0.jpg: 448x640 2 potholess, 83.7ms\n",
      "image 5/448 E:\\University\\PythonProject\\UltralyticsPotholes\\potholes\\part1\\02oxhx7t.jpg: 384x640 1 potholes, 20.9ms\n",
      "image 6/448 E:\\University\\PythonProject\\UltralyticsPotholes\\potholes\\part1\\02p3im8e.jpg: 640x480 1 potholes, 25.9ms\n",
      "image 7/448 E:\\University\\PythonProject\\UltralyticsPotholes\\potholes\\part1\\02tbllvk.jpg: 352x640 (no detections), 71.8ms\n",
      "image 8/448 E:\\University\\PythonProject\\UltralyticsPotholes\\potholes\\part1\\03ktj7hp.jpg: 384x640 3 potholess, 20.9ms\n",
      "image 9/448 E:\\University\\PythonProject\\UltralyticsPotholes\\potholes\\part1\\04tuacho.jpg: 448x640 1 potholes, 26.9ms\n",
      "image 10/448 E:\\University\\PythonProject\\UltralyticsPotholes\\potholes\\part1\\04v26w5i.jpg: 352x640 (no detections), 20.9ms\n",
      "image 11/448 E:\\University\\PythonProject\\UltralyticsPotholes\\potholes\\part1\\05kp6zwl.jpg: 384x640 1 potholes, 20.9ms\n",
      "image 12/448 E:\\University\\PythonProject\\UltralyticsPotholes\\potholes\\part1\\05vpdhwn.jpg: 384x640 (no detections), 20.9ms\n",
      "image 13/448 E:\\University\\PythonProject\\UltralyticsPotholes\\potholes\\part1\\0a9kzasw.jpg: 640x640 (no detections), 30.9ms\n",
      "image 14/448 E:\\University\\PythonProject\\UltralyticsPotholes\\potholes\\part1\\0av740bq.jpg: 448x640 (no detections), 26.9ms\n",
      "image 15/448 E:\\University\\PythonProject\\UltralyticsPotholes\\potholes\\part1\\0b28dz29.jpg: 384x640 (no detections), 19.0ms\n",
      "image 16/448 E:\\University\\PythonProject\\UltralyticsPotholes\\potholes\\part1\\0bep6k5v.jpg: 448x640 3 potholess, 22.9ms\n",
      "image 17/448 E:\\University\\PythonProject\\UltralyticsPotholes\\potholes\\part1\\0bn0qmym.jpg: 384x640 1 potholes, 18.9ms\n",
      "image 18/448 E:\\University\\PythonProject\\UltralyticsPotholes\\potholes\\part1\\0c14jivc.jpg: 384x640 2 potholess, 17.0ms\n",
      "image 19/448 E:\\University\\PythonProject\\UltralyticsPotholes\\potholes\\part1\\0ckafs2j.jpg: 448x640 6 potholess, 22.9ms\n",
      "image 20/448 E:\\University\\PythonProject\\UltralyticsPotholes\\potholes\\part1\\0d1kpoj9.jpg: 384x640 1 potholes, 18.9ms\n",
      "image 21/448 E:\\University\\PythonProject\\UltralyticsPotholes\\potholes\\part1\\0ddbexw5.jpg: 480x640 1 potholes, 94.7ms\n",
      "image 22/448 E:\\University\\PythonProject\\UltralyticsPotholes\\potholes\\part1\\0dfm50lg.jpg: 640x480 1 potholes, 20.9ms\n",
      "image 23/448 E:\\University\\PythonProject\\UltralyticsPotholes\\potholes\\part1\\0dfn9sju.jpg: 640x640 1 potholes, 23.9ms\n",
      "image 24/448 E:\\University\\PythonProject\\UltralyticsPotholes\\potholes\\part1\\0dpfk39j.jpg: 512x640 (no detections), 72.8ms\n",
      "image 25/448 E:\\University\\PythonProject\\UltralyticsPotholes\\potholes\\part1\\0du5icfr.jpg: 384x640 2 potholess, 17.0ms\n",
      "image 26/448 E:\\University\\PythonProject\\UltralyticsPotholes\\potholes\\part1\\0e3kidbx.jpg: 448x640 1 potholes, 22.9ms\n",
      "image 27/448 E:\\University\\PythonProject\\UltralyticsPotholes\\potholes\\part1\\0e49wb5l.jpg: 480x640 2 potholess, 20.9ms\n",
      "image 28/448 E:\\University\\PythonProject\\UltralyticsPotholes\\potholes\\part1\\0e9ut2l7.jpg: 448x640 1 potholes, 20.9ms\n",
      "image 29/448 E:\\University\\PythonProject\\UltralyticsPotholes\\potholes\\part1\\0f2av95u.jpg: 640x640 2 potholess, 24.9ms\n",
      "image 30/448 E:\\University\\PythonProject\\UltralyticsPotholes\\potholes\\part1\\0fot9xkx.jpg: 384x640 1 potholes, 17.0ms\n",
      "image 31/448 E:\\University\\PythonProject\\UltralyticsPotholes\\potholes\\part1\\0fsdvfdw.jpg: 384x640 2 potholess, 16.0ms\n",
      "image 32/448 E:\\University\\PythonProject\\UltralyticsPotholes\\potholes\\part1\\0fu23ahc.jpg: 480x640 1 potholes, 21.9ms\n",
      "image 33/448 E:\\University\\PythonProject\\UltralyticsPotholes\\potholes\\part1\\0fudotuv.jpg: 640x480 1 potholes, 19.9ms\n",
      "image 34/448 E:\\University\\PythonProject\\UltralyticsPotholes\\potholes\\part1\\0fup8312.jpg: 384x640 (no detections), 17.0ms\n",
      "image 35/448 E:\\University\\PythonProject\\UltralyticsPotholes\\potholes\\part1\\0gnxokvi.jpg: 640x480 1 potholes, 20.9ms\n",
      "image 36/448 E:\\University\\PythonProject\\UltralyticsPotholes\\potholes\\part1\\0gzzp0qx.jpg: 352x640 1 potholes, 17.0ms\n",
      "image 37/448 E:\\University\\PythonProject\\UltralyticsPotholes\\potholes\\part1\\0hcsdjnu.jpg: 640x480 3 potholess, 20.9ms\n",
      "image 38/448 E:\\University\\PythonProject\\UltralyticsPotholes\\potholes\\part1\\0hhhtqli.jpg: 480x640 1 potholes, 21.9ms\n",
      "image 39/448 E:\\University\\PythonProject\\UltralyticsPotholes\\potholes\\part1\\0i4iakfv.jpg: 640x480 1 potholes, 20.9ms\n",
      "image 40/448 E:\\University\\PythonProject\\UltralyticsPotholes\\potholes\\part1\\0ib8nkkv.jpg: 640x640 (no detections), 22.9ms\n",
      "image 41/448 E:\\University\\PythonProject\\UltralyticsPotholes\\potholes\\part1\\0ixyu5r3.jpg: 448x640 3 potholess, 21.9ms\n",
      "image 42/448 E:\\University\\PythonProject\\UltralyticsPotholes\\potholes\\part1\\0jdpuelo.jpg: 384x640 1 potholes, 17.0ms\n",
      "image 43/448 E:\\University\\PythonProject\\UltralyticsPotholes\\potholes\\part1\\0kf0vfiw.jpg: 640x640 3 potholess, 23.9ms\n",
      "image 44/448 E:\\University\\PythonProject\\UltralyticsPotholes\\potholes\\part1\\0kkvp6ub.jpg: 384x640 (no detections), 17.0ms\n",
      "image 45/448 E:\\University\\PythonProject\\UltralyticsPotholes\\potholes\\part1\\0km71apf.jpg: 384x640 4 potholess, 15.0ms\n",
      "image 46/448 E:\\University\\PythonProject\\UltralyticsPotholes\\potholes\\part1\\0l2x26ir.jpg: 384x640 2 potholess, 14.0ms\n",
      "image 47/448 E:\\University\\PythonProject\\UltralyticsPotholes\\potholes\\part1\\0l5k5my7.jpg: 480x640 1 potholes, 20.9ms\n",
      "image 48/448 E:\\University\\PythonProject\\UltralyticsPotholes\\potholes\\part1\\0l67kefu.jpg: 640x544 1 potholes, 77.8ms\n",
      "image 49/448 E:\\University\\PythonProject\\UltralyticsPotholes\\potholes\\part1\\0lcyvfws.jpg: 640x640 (no detections), 22.9ms\n",
      "image 50/448 E:\\University\\PythonProject\\UltralyticsPotholes\\potholes\\part1\\0lfa00z0.jpg: 448x640 2 potholess, 20.9ms\n",
      "image 51/448 E:\\University\\PythonProject\\UltralyticsPotholes\\potholes\\part1\\0m4hcijg.jpg: 448x640 (no detections), 20.9ms\n",
      "image 52/448 E:\\University\\PythonProject\\UltralyticsPotholes\\potholes\\part1\\0mbhbw2j.jpg: 640x480 1 potholes, 18.9ms\n",
      "image 53/448 E:\\University\\PythonProject\\UltralyticsPotholes\\potholes\\part1\\0mn50784.jpg: 640x640 (no detections), 23.9ms\n",
      "image 54/448 E:\\University\\PythonProject\\UltralyticsPotholes\\potholes\\part1\\0n4iv2wy.jpg: 480x640 1 potholes, 20.9ms\n",
      "image 55/448 E:\\University\\PythonProject\\UltralyticsPotholes\\potholes\\part1\\0ohxzjk1.jpg: 480x640 (no detections), 20.9ms\n",
      "image 56/448 E:\\University\\PythonProject\\UltralyticsPotholes\\potholes\\part1\\0oq0bmaq.jpg: 480x640 (no detections), 20.9ms\n",
      "image 57/448 E:\\University\\PythonProject\\UltralyticsPotholes\\potholes\\part1\\0p0jprga.jpg: 640x480 2 potholess, 18.9ms\n",
      "image 58/448 E:\\University\\PythonProject\\UltralyticsPotholes\\potholes\\part1\\0p7owgt2.jpg: 448x640 11 potholess, 29.9ms\n",
      "image 59/448 E:\\University\\PythonProject\\UltralyticsPotholes\\potholes\\part1\\0pdzaxwk.jpg: 448x640 2 potholess, 28.9ms\n",
      "image 60/448 E:\\University\\PythonProject\\UltralyticsPotholes\\potholes\\part1\\0qcty84w.jpg: 384x640 2 potholess, 23.9ms\n",
      "image 61/448 E:\\University\\PythonProject\\UltralyticsPotholes\\potholes\\part1\\0qipshhp.jpg: 448x640 1 potholes, 30.9ms\n",
      "image 62/448 E:\\University\\PythonProject\\UltralyticsPotholes\\potholes\\part1\\0qjhaz00.jpg: 480x640 22 potholess, 30.9ms\n",
      "image 63/448 E:\\University\\PythonProject\\UltralyticsPotholes\\potholes\\part1\\0r0hr6zl.jpg: 480x640 (no detections), 24.9ms\n",
      "image 64/448 E:\\University\\PythonProject\\UltralyticsPotholes\\potholes\\part1\\0r0phzkz.jpg: 448x640 2 potholess, 25.9ms\n",
      "image 65/448 E:\\University\\PythonProject\\UltralyticsPotholes\\potholes\\part1\\0r5j874g.jpg: 512x640 2 potholess, 25.9ms\n",
      "image 66/448 E:\\University\\PythonProject\\UltralyticsPotholes\\potholes\\part1\\0rr0ir7q.jpg: 416x640 1 potholes, 85.8ms\n",
      "image 67/448 E:\\University\\PythonProject\\UltralyticsPotholes\\potholes\\part1\\0ru4f61k.jpg: 448x640 1 potholes, 26.9ms\n",
      "image 68/448 E:\\University\\PythonProject\\UltralyticsPotholes\\potholes\\part1\\0s6ygyps.jpg: 384x640 3 potholess, 20.9ms\n",
      "image 69/448 E:\\University\\PythonProject\\UltralyticsPotholes\\potholes\\part1\\0t1brdpw.jpg: 448x640 2 potholess, 26.9ms\n",
      "image 70/448 E:\\University\\PythonProject\\UltralyticsPotholes\\potholes\\part1\\0t2a9xco.jpg: 480x640 (no detections), 27.9ms\n",
      "image 71/448 E:\\University\\PythonProject\\UltralyticsPotholes\\potholes\\part1\\0to7zwln.jpg: 480x640 2 potholess, 26.9ms\n",
      "image 72/448 E:\\University\\PythonProject\\UltralyticsPotholes\\potholes\\part1\\0u3qadhq.jpg: 480x640 2 potholess, 23.9ms\n",
      "image 73/448 E:\\University\\PythonProject\\UltralyticsPotholes\\potholes\\part1\\0v3gk5yt.jpg: 448x640 3 potholess, 23.9ms\n",
      "image 74/448 E:\\University\\PythonProject\\UltralyticsPotholes\\potholes\\part1\\0vjiilzn.jpg: 640x480 3 potholess, 22.9ms\n",
      "image 75/448 E:\\University\\PythonProject\\UltralyticsPotholes\\potholes\\part1\\0vsj9aad.jpg: 640x640 4 potholess, 28.9ms\n",
      "image 76/448 E:\\University\\PythonProject\\UltralyticsPotholes\\potholes\\part1\\0wbvofjx.jpg: 480x640 2 potholess, 25.9ms\n",
      "image 77/448 E:\\University\\PythonProject\\UltralyticsPotholes\\potholes\\part1\\0wn7edls.jpg: 448x640 1 potholes, 25.9ms\n",
      "image 78/448 E:\\University\\PythonProject\\UltralyticsPotholes\\potholes\\part1\\0wsdiq2h.jpg: 448x640 2 potholess, 23.9ms\n",
      "image 79/448 E:\\University\\PythonProject\\UltralyticsPotholes\\potholes\\part1\\0wxxx4p4.jpg: 640x640 1 potholes, 28.9ms\n",
      "image 80/448 E:\\University\\PythonProject\\UltralyticsPotholes\\potholes\\part1\\0x9tpmg7.jpg: 640x480 1 potholes, 23.9ms\n",
      "image 81/448 E:\\University\\PythonProject\\UltralyticsPotholes\\potholes\\part1\\0xej33it.jpg: 352x640 3 potholess, 17.0ms\n",
      "image 82/448 E:\\University\\PythonProject\\UltralyticsPotholes\\potholes\\part1\\0xj66lys.jpg: 448x640 5 potholess, 20.9ms\n",
      "image 83/448 E:\\University\\PythonProject\\UltralyticsPotholes\\potholes\\part1\\0xpu8y13.jpg: 640x480 (no detections), 19.9ms\n",
      "image 84/448 E:\\University\\PythonProject\\UltralyticsPotholes\\potholes\\part1\\0y6ql9yx.jpg: 480x640 (no detections), 21.9ms\n",
      "image 85/448 E:\\University\\PythonProject\\UltralyticsPotholes\\potholes\\part1\\0ya7sch0.jpg: 448x640 5 potholess, 20.9ms\n",
      "image 86/448 E:\\University\\PythonProject\\UltralyticsPotholes\\potholes\\part1\\0yfazukx.jpg: 352x640 3 potholess, 17.0ms\n",
      "image 87/448 E:\\University\\PythonProject\\UltralyticsPotholes\\potholes\\part1\\0yfbieot.jpg: 480x640 2 potholess, 21.9ms\n",
      "image 88/448 E:\\University\\PythonProject\\UltralyticsPotholes\\potholes\\part1\\0ylt8zjf.jpg: 480x640 1 potholes, 21.9ms\n",
      "image 89/448 E:\\University\\PythonProject\\UltralyticsPotholes\\potholes\\part1\\0zv5ywrc.jpg: 448x640 (no detections), 22.9ms\n",
      "image 90/448 E:\\University\\PythonProject\\UltralyticsPotholes\\potholes\\part1\\1a2boa2x.jpg: 352x640 2 potholess, 18.0ms\n",
      "image 91/448 E:\\University\\PythonProject\\UltralyticsPotholes\\potholes\\part1\\1agdhww0.jpg: 384x640 (no detections), 17.0ms\n",
      "image 92/448 E:\\University\\PythonProject\\UltralyticsPotholes\\potholes\\part1\\1aimlwpb.jpg: 448x640 4 potholess, 22.9ms\n",
      "image 93/448 E:\\University\\PythonProject\\UltralyticsPotholes\\potholes\\part1\\1bi0tk5h.jpg: 384x640 (no detections), 17.0ms\n",
      "image 94/448 E:\\University\\PythonProject\\UltralyticsPotholes\\potholes\\part1\\1bk7u769.jpg: 384x640 (no detections), 16.0ms\n",
      "image 95/448 E:\\University\\PythonProject\\UltralyticsPotholes\\potholes\\part1\\1bwzlg1b.jpg: 352x640 1 potholes, 16.0ms\n",
      "image 96/448 E:\\University\\PythonProject\\UltralyticsPotholes\\potholes\\part1\\1c4l2vda.jpg: 448x640 1 potholes, 20.9ms\n",
      "image 97/448 E:\\University\\PythonProject\\UltralyticsPotholes\\potholes\\part1\\1c8d4j64.jpg: 448x640 1 potholes, 19.9ms\n",
      "image 98/448 E:\\University\\PythonProject\\UltralyticsPotholes\\potholes\\part1\\1ceyep8j.jpg: 416x640 1 potholes, 20.9ms\n",
      "image 99/448 E:\\University\\PythonProject\\UltralyticsPotholes\\potholes\\part1\\1cpegdkj.jpg: 320x640 1 potholes, 71.8ms\n",
      "image 100/448 E:\\University\\PythonProject\\UltralyticsPotholes\\potholes\\part1\\1cu3802z.jpg: 640x544 2 potholess, 20.9ms\n",
      "image 101/448 E:\\University\\PythonProject\\UltralyticsPotholes\\potholes\\part1\\1dn781d1.jpg: 480x640 1 potholes, 20.9ms\n",
      "image 102/448 E:\\University\\PythonProject\\UltralyticsPotholes\\potholes\\part1\\1eaytwgf.jpg: 384x640 11 potholess, 16.0ms\n",
      "image 103/448 E:\\University\\PythonProject\\UltralyticsPotholes\\potholes\\part1\\1erq9trp.jpg: 448x640 1 potholes, 20.9ms\n",
      "image 104/448 E:\\University\\PythonProject\\UltralyticsPotholes\\potholes\\part1\\1f1odmgv.jpg: 480x640 1 potholes, 21.9ms\n",
      "image 105/448 E:\\University\\PythonProject\\UltralyticsPotholes\\potholes\\part1\\1f3jzjjf.jpg: 416x640 2 potholess, 19.9ms\n",
      "image 106/448 E:\\University\\PythonProject\\UltralyticsPotholes\\potholes\\part1\\1ftc9rkv.jpg: 448x640 1 potholes, 21.9ms\n",
      "image 107/448 E:\\University\\PythonProject\\UltralyticsPotholes\\potholes\\part1\\1g9yv3hc.jpg: 480x640 1 potholes, 22.9ms\n",
      "image 108/448 E:\\University\\PythonProject\\UltralyticsPotholes\\potholes\\part1\\1h1d2l6p.jpg: 480x640 1 potholes, 20.9ms\n",
      "image 109/448 E:\\University\\PythonProject\\UltralyticsPotholes\\potholes\\part1\\1h5rh175.jpg: 544x640 2 potholess, 73.8ms\n",
      "image 110/448 E:\\University\\PythonProject\\UltralyticsPotholes\\potholes\\part1\\1hsda9ml.jpg: 480x640 (no detections), 21.9ms\n",
      "image 111/448 E:\\University\\PythonProject\\UltralyticsPotholes\\potholes\\part1\\1i04a6e7.jpg: 640x640 (no detections), 24.9ms\n",
      "image 112/448 E:\\University\\PythonProject\\UltralyticsPotholes\\potholes\\part1\\1iqwv24m.jpg: 416x640 2 potholess, 19.9ms\n",
      "image 113/448 E:\\University\\PythonProject\\UltralyticsPotholes\\potholes\\part1\\1j5y0094.jpg: 384x640 2 potholess, 16.0ms\n",
      "image 114/448 E:\\University\\PythonProject\\UltralyticsPotholes\\potholes\\part1\\1ji7p5g6.jpg: 640x512 2 potholess, 66.5ms\n",
      "image 115/448 E:\\University\\PythonProject\\UltralyticsPotholes\\potholes\\part1\\1jvo3vd3.jpg: 384x640 1 potholes, 17.0ms\n",
      "image 116/448 E:\\University\\PythonProject\\UltralyticsPotholes\\potholes\\part1\\1kx4i5wi.jpg: 384x640 (no detections), 15.0ms\n",
      "image 117/448 E:\\University\\PythonProject\\UltralyticsPotholes\\potholes\\part1\\1l4gnx7t.jpg: 352x640 3 potholess, 17.0ms\n",
      "image 118/448 E:\\University\\PythonProject\\UltralyticsPotholes\\potholes\\part1\\1l9bt6jl.jpg: 640x640 2 potholess, 24.9ms\n",
      "image 119/448 E:\\University\\PythonProject\\UltralyticsPotholes\\potholes\\part1\\1lexyb64.jpg: 416x640 1 potholes, 20.9ms\n",
      "image 120/448 E:\\University\\PythonProject\\UltralyticsPotholes\\potholes\\part1\\1lkcv0gi.jpg: 448x640 2 potholess, 21.9ms\n",
      "image 121/448 E:\\University\\PythonProject\\UltralyticsPotholes\\potholes\\part1\\1lmvdsf3.jpg: 352x640 2 potholess, 17.0ms\n",
      "image 122/448 E:\\University\\PythonProject\\UltralyticsPotholes\\potholes\\part1\\1lqlkojl.jpg: 448x640 1 potholes, 20.9ms\n",
      "image 123/448 E:\\University\\PythonProject\\UltralyticsPotholes\\potholes\\part1\\1m65wixk.jpg: 384x640 4 potholess, 16.0ms\n",
      "image 124/448 E:\\University\\PythonProject\\UltralyticsPotholes\\potholes\\part1\\1m8nv1sa.jpg: 384x640 1 potholes, 15.0ms\n",
      "image 125/448 E:\\University\\PythonProject\\UltralyticsPotholes\\potholes\\part1\\1mfshpos.jpg: 384x640 2 potholess, 16.0ms\n",
      "image 126/448 E:\\University\\PythonProject\\UltralyticsPotholes\\potholes\\part1\\1mk0lg0l.jpg: 384x640 1 potholes, 16.0ms\n",
      "image 127/448 E:\\University\\PythonProject\\UltralyticsPotholes\\potholes\\part1\\1mnaa3p7.jpg: 416x640 (no detections), 20.9ms\n",
      "image 128/448 E:\\University\\PythonProject\\UltralyticsPotholes\\potholes\\part1\\1o57x0qq.jpg: 640x480 3 potholess, 20.9ms\n",
      "image 129/448 E:\\University\\PythonProject\\UltralyticsPotholes\\potholes\\part1\\1og75cxi.jpg: 480x640 1 potholes, 20.9ms\n",
      "image 130/448 E:\\University\\PythonProject\\UltralyticsPotholes\\potholes\\part1\\1p60mwqt.jpg: 480x640 1 potholes, 19.9ms\n",
      "image 131/448 E:\\University\\PythonProject\\UltralyticsPotholes\\potholes\\part1\\1pc7fa41.jpg: 640x640 2 potholess, 23.9ms\n",
      "image 132/448 E:\\University\\PythonProject\\UltralyticsPotholes\\potholes\\part1\\1pridnos.jpg: 448x640 6 potholess, 20.9ms\n",
      "image 133/448 E:\\University\\PythonProject\\UltralyticsPotholes\\potholes\\part1\\1pux5m9q.jpg: 448x640 2 potholess, 18.9ms\n",
      "image 134/448 E:\\University\\PythonProject\\UltralyticsPotholes\\potholes\\part1\\1qbe3qg4.jpg: 480x640 2 potholess, 20.9ms\n",
      "image 135/448 E:\\University\\PythonProject\\UltralyticsPotholes\\potholes\\part1\\1qgkw60u.jpg: 640x480 3 potholess, 95.7ms\n",
      "image 136/448 E:\\University\\PythonProject\\UltralyticsPotholes\\potholes\\part1\\1qogvcxz.jpg: 448x640 9 potholess, 20.9ms\n",
      "image 137/448 E:\\University\\PythonProject\\UltralyticsPotholes\\potholes\\part1\\1qt3f6fc.jpg: 576x640 2 potholess, 71.8ms\n",
      "image 138/448 E:\\University\\PythonProject\\UltralyticsPotholes\\potholes\\part1\\1rkxkvjv.jpg: 640x640 1 potholes, 23.9ms\n",
      "image 139/448 E:\\University\\PythonProject\\UltralyticsPotholes\\potholes\\part1\\1rnfhayt.jpg: 480x640 2 potholess, 21.9ms\n",
      "image 140/448 E:\\University\\PythonProject\\UltralyticsPotholes\\potholes\\part1\\1s5wwgyj.jpg: 352x640 3 potholess, 16.0ms\n",
      "image 141/448 E:\\University\\PythonProject\\UltralyticsPotholes\\potholes\\part1\\1s86ln26.jpg: 384x640 2 potholess, 17.0ms\n",
      "image 142/448 E:\\University\\PythonProject\\UltralyticsPotholes\\potholes\\part1\\1s902aem.jpg: 480x640 3 potholess, 21.9ms\n",
      "image 143/448 E:\\University\\PythonProject\\UltralyticsPotholes\\potholes\\part1\\1skodsf2.jpg: 480x640 2 potholess, 21.9ms\n",
      "image 144/448 E:\\University\\PythonProject\\UltralyticsPotholes\\potholes\\part1\\1tg58hhd.jpg: 448x640 (no detections), 21.9ms\n",
      "image 145/448 E:\\University\\PythonProject\\UltralyticsPotholes\\potholes\\part1\\1th9iu0b.jpg: 512x640 1 potholes, 21.9ms\n",
      "image 146/448 E:\\University\\PythonProject\\UltralyticsPotholes\\potholes\\part1\\1tjls5zk.jpg: 448x640 2 potholess, 20.9ms\n",
      "image 147/448 E:\\University\\PythonProject\\UltralyticsPotholes\\potholes\\part1\\1tkb0yly.jpg: 448x640 5 potholess, 19.9ms\n",
      "image 148/448 E:\\University\\PythonProject\\UltralyticsPotholes\\potholes\\part1\\1ue22rw9.jpg: 384x640 (no detections), 16.9ms\n",
      "image 149/448 E:\\University\\PythonProject\\UltralyticsPotholes\\potholes\\part1\\1uw6wtot.jpg: 448x640 2 potholess, 20.9ms\n",
      "image 150/448 E:\\University\\PythonProject\\UltralyticsPotholes\\potholes\\part1\\1uzk2ia2.jpg: 448x640 (no detections), 18.9ms\n",
      "image 151/448 E:\\University\\PythonProject\\UltralyticsPotholes\\potholes\\part1\\1vfb24sk.jpg: 384x640 1 potholes, 17.0ms\n",
      "image 152/448 E:\\University\\PythonProject\\UltralyticsPotholes\\potholes\\part1\\1vmuqc5t.jpg: 640x384 1 potholes, 70.8ms\n",
      "image 153/448 E:\\University\\PythonProject\\UltralyticsPotholes\\potholes\\part1\\1voor3od.jpg: 640x640 3 potholess, 23.9ms\n",
      "image 154/448 E:\\University\\PythonProject\\UltralyticsPotholes\\potholes\\part1\\1w6myuwi.jpg: 384x640 1 potholes, 17.0ms\n",
      "image 155/448 E:\\University\\PythonProject\\UltralyticsPotholes\\potholes\\part1\\1x08id5r.jpg: 640x480 1 potholes, 19.9ms\n",
      "image 156/448 E:\\University\\PythonProject\\UltralyticsPotholes\\potholes\\part1\\1x9azzbv.jpg: 448x640 2 potholess, 21.9ms\n",
      "image 157/448 E:\\University\\PythonProject\\UltralyticsPotholes\\potholes\\part1\\1xajfxqp.jpg: 480x640 2 potholess, 20.9ms\n",
      "image 158/448 E:\\University\\PythonProject\\UltralyticsPotholes\\potholes\\part1\\1xya005c.jpg: 480x640 2 potholess, 19.9ms\n",
      "image 159/448 E:\\University\\PythonProject\\UltralyticsPotholes\\potholes\\part1\\1yalsl7e.jpg: 384x640 (no detections), 18.9ms\n",
      "image 160/448 E:\\University\\PythonProject\\UltralyticsPotholes\\potholes\\part1\\1yu6apcb.jpg: 448x640 1 potholes, 20.9ms\n",
      "image 161/448 E:\\University\\PythonProject\\UltralyticsPotholes\\potholes\\part1\\1zajtf19.jpg: 640x480 (no detections), 20.9ms\n",
      "image 162/448 E:\\University\\PythonProject\\UltralyticsPotholes\\potholes\\part1\\1ztujaar.jpg: 480x640 2 potholess, 21.9ms\n",
      "image 163/448 E:\\University\\PythonProject\\UltralyticsPotholes\\potholes\\part1\\2a5m2nus.jpg: 640x480 3 potholess, 18.9ms\n",
      "image 164/448 E:\\University\\PythonProject\\UltralyticsPotholes\\potholes\\part1\\2agofj8q.jpg: 448x640 1 potholes, 19.9ms\n",
      "image 165/448 E:\\University\\PythonProject\\UltralyticsPotholes\\potholes\\part1\\2atnuxv9.jpg: 640x640 3 potholess, 22.9ms\n",
      "image 166/448 E:\\University\\PythonProject\\UltralyticsPotholes\\potholes\\part1\\2axzbx4n.jpg: 448x640 1 potholes, 21.9ms\n",
      "image 167/448 E:\\University\\PythonProject\\UltralyticsPotholes\\potholes\\part1\\2b7w9tgf.jpg: 384x640 2 potholess, 16.0ms\n",
      "image 168/448 E:\\University\\PythonProject\\UltralyticsPotholes\\potholes\\part1\\2bsvr9be.jpg: 384x640 2 potholess, 16.0ms\n",
      "image 169/448 E:\\University\\PythonProject\\UltralyticsPotholes\\potholes\\part1\\2bwt5b7c.jpg: 384x640 (no detections), 16.0ms\n",
      "image 170/448 E:\\University\\PythonProject\\UltralyticsPotholes\\potholes\\part1\\2c0dgt6z.jpg: 448x640 1 potholes, 22.9ms\n",
      "image 171/448 E:\\University\\PythonProject\\UltralyticsPotholes\\potholes\\part1\\2cmd0yno.jpg: 640x640 1 potholes, 27.9ms\n",
      "image 172/448 E:\\University\\PythonProject\\UltralyticsPotholes\\potholes\\part1\\2ctfz7iu.jpg: 480x640 1 potholes, 26.9ms\n",
      "image 173/448 E:\\University\\PythonProject\\UltralyticsPotholes\\potholes\\part1\\2d2b2r6i.jpg: 640x640 (no detections), 29.9ms\n",
      "image 174/448 E:\\University\\PythonProject\\UltralyticsPotholes\\potholes\\part1\\2d6pm7bt.jpg: 640x640 5 potholess, 28.9ms\n",
      "image 175/448 E:\\University\\PythonProject\\UltralyticsPotholes\\potholes\\part1\\2dxdssi4.jpg: 384x640 1 potholes, 17.0ms\n",
      "image 176/448 E:\\University\\PythonProject\\UltralyticsPotholes\\potholes\\part1\\2e032at4.jpg: 256x640 4 potholess, 83.8ms\n",
      "image 177/448 E:\\University\\PythonProject\\UltralyticsPotholes\\potholes\\part1\\2eg528li.jpg: 480x640 2 potholess, 21.0ms\n",
      "image 178/448 E:\\University\\PythonProject\\UltralyticsPotholes\\potholes\\part1\\2ein1fw2.jpg: 640x640 1 potholes, 23.9ms\n",
      "image 179/448 E:\\University\\PythonProject\\UltralyticsPotholes\\potholes\\part1\\2eoo94sr.jpg: 448x640 5 potholess, 19.9ms\n",
      "image 180/448 E:\\University\\PythonProject\\UltralyticsPotholes\\potholes\\part1\\2erxjdk7.jpg: 480x640 1 potholes, 21.9ms\n",
      "image 181/448 E:\\University\\PythonProject\\UltralyticsPotholes\\potholes\\part1\\2foo3vmw.jpg: 288x640 4 potholess, 70.8ms\n",
      "image 182/448 E:\\University\\PythonProject\\UltralyticsPotholes\\potholes\\part1\\2goucg83.jpg: 448x640 (no detections), 19.9ms\n",
      "image 183/448 E:\\University\\PythonProject\\UltralyticsPotholes\\potholes\\part1\\2gwfllzf.jpg: 384x640 6 potholess, 17.0ms\n",
      "image 184/448 E:\\University\\PythonProject\\UltralyticsPotholes\\potholes\\part1\\2i2qkd4o.jpg: 384x640 (no detections), 16.0ms\n",
      "image 185/448 E:\\University\\PythonProject\\UltralyticsPotholes\\potholes\\part1\\2icntcqe.jpg: 448x640 1 potholes, 20.9ms\n",
      "image 186/448 E:\\University\\PythonProject\\UltralyticsPotholes\\potholes\\part1\\2ii6syta.jpg: 352x640 2 potholess, 17.0ms\n",
      "image 187/448 E:\\University\\PythonProject\\UltralyticsPotholes\\potholes\\part1\\2j8xg4vh.jpg: 352x640 1 potholes, 16.0ms\n",
      "image 188/448 E:\\University\\PythonProject\\UltralyticsPotholes\\potholes\\part1\\2jfyaeev.jpg: 448x640 5 potholess, 20.9ms\n",
      "image 189/448 E:\\University\\PythonProject\\UltralyticsPotholes\\potholes\\part1\\2klntr72.jpg: 480x640 1 potholes, 21.9ms\n",
      "image 190/448 E:\\University\\PythonProject\\UltralyticsPotholes\\potholes\\part1\\2kmb9ja1.jpg: 384x640 1 potholes, 16.0ms\n",
      "image 191/448 E:\\University\\PythonProject\\UltralyticsPotholes\\potholes\\part1\\2l07dd2a.jpg: 352x640 3 potholess, 16.0ms\n",
      "image 192/448 E:\\University\\PythonProject\\UltralyticsPotholes\\potholes\\part1\\2l1kgp6h.jpg: 288x640 2 potholess, 16.0ms\n",
      "image 193/448 E:\\University\\PythonProject\\UltralyticsPotholes\\potholes\\part1\\2l2ltyzm.jpg: 416x640 3 potholess, 20.9ms\n",
      "image 194/448 E:\\University\\PythonProject\\UltralyticsPotholes\\potholes\\part1\\2lbjtw8v.jpg: 480x640 (no detections), 21.9ms\n",
      "image 195/448 E:\\University\\PythonProject\\UltralyticsPotholes\\potholes\\part1\\2lmyqp3i.jpg: 416x640 1 potholes, 20.9ms\n",
      "image 196/448 E:\\University\\PythonProject\\UltralyticsPotholes\\potholes\\part1\\2lvrvk6h.jpg: 448x640 3 potholess, 20.9ms\n",
      "image 197/448 E:\\University\\PythonProject\\UltralyticsPotholes\\potholes\\part1\\2lykv3b1.jpg: 448x640 1 potholes, 19.9ms\n",
      "image 198/448 E:\\University\\PythonProject\\UltralyticsPotholes\\potholes\\part1\\2mipfykh.jpg: 480x640 8 potholess, 22.9ms\n",
      "image 199/448 E:\\University\\PythonProject\\UltralyticsPotholes\\potholes\\part1\\2mwtay7f.jpg: 448x640 1 potholes, 20.9ms\n",
      "image 200/448 E:\\University\\PythonProject\\UltralyticsPotholes\\potholes\\part1\\2oiw142g.jpg: 480x640 (no detections), 21.9ms\n",
      "image 201/448 E:\\University\\PythonProject\\UltralyticsPotholes\\potholes\\part1\\2opx9qe9.jpg: 416x640 (no detections), 20.9ms\n",
      "image 202/448 E:\\University\\PythonProject\\UltralyticsPotholes\\potholes\\part1\\2oze4znd.jpg: 384x640 1 potholes, 18.0ms\n",
      "image 203/448 E:\\University\\PythonProject\\UltralyticsPotholes\\potholes\\part1\\2p4pwqx9.jpg: 640x640 2 potholess, 23.9ms\n",
      "image 204/448 E:\\University\\PythonProject\\UltralyticsPotholes\\potholes\\part1\\2q87nyc3.jpg: 480x640 2 potholess, 22.9ms\n",
      "image 205/448 E:\\University\\PythonProject\\UltralyticsPotholes\\potholes\\part1\\2qi8fhfz.jpg: 448x640 (no detections), 20.9ms\n",
      "image 206/448 E:\\University\\PythonProject\\UltralyticsPotholes\\potholes\\part1\\2qm0on6f.jpg: 480x640 5 potholess, 21.9ms\n",
      "image 207/448 E:\\University\\PythonProject\\UltralyticsPotholes\\potholes\\part1\\2sff1ifs.jpg: 480x640 (no detections), 20.9ms\n",
      "image 208/448 E:\\University\\PythonProject\\UltralyticsPotholes\\potholes\\part1\\2spm4n05.jpg: 480x640 1 potholes, 20.9ms\n",
      "image 209/448 E:\\University\\PythonProject\\UltralyticsPotholes\\potholes\\part1\\2t1m2qw2.jpg: 576x640 4 potholess, 21.9ms\n",
      "image 210/448 E:\\University\\PythonProject\\UltralyticsPotholes\\potholes\\part1\\2tdoq251.jpg: 480x640 3 potholess, 21.9ms\n",
      "image 211/448 E:\\University\\PythonProject\\UltralyticsPotholes\\potholes\\part1\\2u281661.jpg: 640x640 2 potholess, 24.9ms\n",
      "image 212/448 E:\\University\\PythonProject\\UltralyticsPotholes\\potholes\\part1\\2u5t8wbn.jpg: 448x640 2 potholess, 21.9ms\n",
      "image 213/448 E:\\University\\PythonProject\\UltralyticsPotholes\\potholes\\part1\\2u9i70i2.jpg: 448x640 4 potholess, 19.9ms\n",
      "image 214/448 E:\\University\\PythonProject\\UltralyticsPotholes\\potholes\\part1\\2ue88ii6.jpg: 448x640 1 potholes, 20.9ms\n",
      "image 215/448 E:\\University\\PythonProject\\UltralyticsPotholes\\potholes\\part1\\2v7vzxzn.jpg: 640x640 1 potholes, 24.9ms\n",
      "image 216/448 E:\\University\\PythonProject\\UltralyticsPotholes\\potholes\\part1\\2velblzo.jpg: 640x512 (no detections), 19.9ms\n",
      "image 217/448 E:\\University\\PythonProject\\UltralyticsPotholes\\potholes\\part1\\2vn6tz1u.jpg: 640x544 1 potholes, 21.9ms\n",
      "image 218/448 E:\\University\\PythonProject\\UltralyticsPotholes\\potholes\\part1\\2wbkc6mt.jpg: 384x640 10 potholess, 17.0ms\n",
      "image 219/448 E:\\University\\PythonProject\\UltralyticsPotholes\\potholes\\part1\\2wcliir8.jpg: 384x640 6 potholess, 17.0ms\n",
      "image 220/448 E:\\University\\PythonProject\\UltralyticsPotholes\\potholes\\part1\\2wkf0x6n.jpg: 640x480 2 potholess, 19.9ms\n",
      "image 221/448 E:\\University\\PythonProject\\UltralyticsPotholes\\potholes\\part1\\2wkjp10i.jpg: 352x640 (no detections), 16.0ms\n",
      "image 222/448 E:\\University\\PythonProject\\UltralyticsPotholes\\potholes\\part1\\2wsxvxhj.jpg: 640x640 (no detections), 24.9ms\n",
      "image 223/448 E:\\University\\PythonProject\\UltralyticsPotholes\\potholes\\part1\\2xcgrfro.jpg: 480x640 3 potholess, 22.9ms\n",
      "image 224/448 E:\\University\\PythonProject\\UltralyticsPotholes\\potholes\\part1\\2xow1l7e.jpg: 384x640 1 potholes, 16.0ms\n",
      "image 225/448 E:\\University\\PythonProject\\UltralyticsPotholes\\potholes\\part1\\2xry06k5.jpg: 640x640 1 potholes, 24.9ms\n",
      "image 226/448 E:\\University\\PythonProject\\UltralyticsPotholes\\potholes\\part1\\2xyqsgjg.jpg: 448x640 1 potholes, 26.9ms\n",
      "image 227/448 E:\\University\\PythonProject\\UltralyticsPotholes\\potholes\\part1\\2z6sx3ql.jpg: 640x640 3 potholess, 24.9ms\n",
      "image 228/448 E:\\University\\PythonProject\\UltralyticsPotholes\\potholes\\part1\\2zn7sg9s.jpg: 384x640 6 potholess, 18.0ms\n",
      "image 229/448 E:\\University\\PythonProject\\UltralyticsPotholes\\potholes\\part1\\2zr1kafv.jpg: 640x640 (no detections), 23.9ms\n",
      "image 230/448 E:\\University\\PythonProject\\UltralyticsPotholes\\potholes\\part1\\2zwhhxy4.jpg: 640x640 (no detections), 25.9ms\n",
      "image 231/448 E:\\University\\PythonProject\\UltralyticsPotholes\\potholes\\part1\\3aqa4y00.jpg: 352x640 2 potholess, 18.0ms\n",
      "image 232/448 E:\\University\\PythonProject\\UltralyticsPotholes\\potholes\\part1\\3avrtdnr.jpg: 640x640 2 potholess, 24.9ms\n",
      "image 233/448 E:\\University\\PythonProject\\UltralyticsPotholes\\potholes\\part1\\3b29kt7q.jpg: 352x640 (no detections), 16.0ms\n",
      "image 234/448 E:\\University\\PythonProject\\UltralyticsPotholes\\potholes\\part1\\3bgyp5u1.jpg: 384x640 (no detections), 17.0ms\n",
      "image 235/448 E:\\University\\PythonProject\\UltralyticsPotholes\\potholes\\part1\\3bypnwh6.jpg: 448x640 5 potholess, 20.9ms\n",
      "image 236/448 E:\\University\\PythonProject\\UltralyticsPotholes\\potholes\\part1\\3cc6kd7a.jpg: 640x640 1 potholes, 23.9ms\n",
      "image 237/448 E:\\University\\PythonProject\\UltralyticsPotholes\\potholes\\part1\\3cv3hgaz.jpg: 640x384 1 potholes, 17.0ms\n",
      "image 238/448 E:\\University\\PythonProject\\UltralyticsPotholes\\potholes\\part1\\3d46dvvw.jpg: 384x640 2 potholess, 17.0ms\n",
      "image 239/448 E:\\University\\PythonProject\\UltralyticsPotholes\\potholes\\part1\\3dfahvdc.jpg: 480x640 (no detections), 22.9ms\n",
      "image 240/448 E:\\University\\PythonProject\\UltralyticsPotholes\\potholes\\part1\\3dgsfanf.jpg: 640x640 (no detections), 24.9ms\n",
      "image 241/448 E:\\University\\PythonProject\\UltralyticsPotholes\\potholes\\part1\\3dhp094p.jpg: 640x480 2 potholess, 20.9ms\n",
      "image 242/448 E:\\University\\PythonProject\\UltralyticsPotholes\\potholes\\part1\\3dsrl4c9.jpg: 448x640 (no detections), 20.9ms\n",
      "image 243/448 E:\\University\\PythonProject\\UltralyticsPotholes\\potholes\\part1\\3ehr4ppg.jpg: 640x640 (no detections), 23.9ms\n",
      "image 244/448 E:\\University\\PythonProject\\UltralyticsPotholes\\potholes\\part1\\3f6kdqpf.jpg: 384x640 1 potholes, 17.0ms\n",
      "image 245/448 E:\\University\\PythonProject\\UltralyticsPotholes\\potholes\\part1\\3f845o7q.jpg: 480x640 1 potholes, 21.9ms\n",
      "image 246/448 E:\\University\\PythonProject\\UltralyticsPotholes\\potholes\\part1\\3fju5yk5.jpg: 416x640 1 potholes, 20.9ms\n",
      "image 247/448 E:\\University\\PythonProject\\UltralyticsPotholes\\potholes\\part1\\3fn0hxst.jpg: 480x640 (no detections), 21.9ms\n",
      "image 248/448 E:\\University\\PythonProject\\UltralyticsPotholes\\potholes\\part1\\3fou7z5y.jpg: 480x640 1 potholes, 20.9ms\n",
      "image 249/448 E:\\University\\PythonProject\\UltralyticsPotholes\\potholes\\part1\\3fwghg9b.jpg: 384x640 2 potholess, 17.0ms\n",
      "image 250/448 E:\\University\\PythonProject\\UltralyticsPotholes\\potholes\\part1\\3fzhm8sj.jpg: 512x640 1 potholes, 19.9ms\n",
      "image 251/448 E:\\University\\PythonProject\\UltralyticsPotholes\\potholes\\part1\\3g5ntd29.jpg: 384x640 2 potholess, 16.0ms\n",
      "image 252/448 E:\\University\\PythonProject\\UltralyticsPotholes\\potholes\\part1\\3ggt5bho.jpg: 480x640 (no detections), 21.9ms\n",
      "image 253/448 E:\\University\\PythonProject\\UltralyticsPotholes\\potholes\\part1\\3hhdmmyi.jpg: 640x512 5 potholess, 20.9ms\n",
      "image 254/448 E:\\University\\PythonProject\\UltralyticsPotholes\\potholes\\part1\\3hjnrdby.jpg: 448x640 3 potholess, 20.9ms\n",
      "image 255/448 E:\\University\\PythonProject\\UltralyticsPotholes\\potholes\\part1\\3i6e5q30.jpg: 640x640 2 potholess, 24.9ms\n",
      "image 256/448 E:\\University\\PythonProject\\UltralyticsPotholes\\potholes\\part1\\3ibtzemi.jpg: 384x640 1 potholes, 17.0ms\n",
      "image 257/448 E:\\University\\PythonProject\\UltralyticsPotholes\\potholes\\part1\\3inaj8fa.jpg: 384x640 2 potholess, 15.0ms\n",
      "image 258/448 E:\\University\\PythonProject\\UltralyticsPotholes\\potholes\\part1\\3ipyd93v.jpg: 448x640 1 potholes, 20.9ms\n",
      "image 259/448 E:\\University\\PythonProject\\UltralyticsPotholes\\potholes\\part1\\3izc6idj.jpg: 640x640 (no detections), 22.9ms\n",
      "image 260/448 E:\\University\\PythonProject\\UltralyticsPotholes\\potholes\\part1\\3j7epzfy.jpg: 448x640 1 potholes, 21.9ms\n",
      "image 261/448 E:\\University\\PythonProject\\UltralyticsPotholes\\potholes\\part1\\3je539xt.jpg: 640x480 4 potholess, 18.9ms\n",
      "image 262/448 E:\\University\\PythonProject\\UltralyticsPotholes\\potholes\\part1\\3jt48285.jpg: 384x640 1 potholes, 16.3ms\n",
      "image 263/448 E:\\University\\PythonProject\\UltralyticsPotholes\\potholes\\part1\\3k3w3vmb.jpg: 448x640 4 potholess, 21.9ms\n",
      "image 264/448 E:\\University\\PythonProject\\UltralyticsPotholes\\potholes\\part1\\3kasaxb3.jpg: 384x640 19 potholess, 18.0ms\n",
      "image 265/448 E:\\University\\PythonProject\\UltralyticsPotholes\\potholes\\part1\\3kzsu266.jpg: 448x640 8 potholess, 20.9ms\n",
      "image 266/448 E:\\University\\PythonProject\\UltralyticsPotholes\\potholes\\part1\\3lb1pfdu.jpg: 384x640 2 potholess, 16.0ms\n",
      "image 267/448 E:\\University\\PythonProject\\UltralyticsPotholes\\potholes\\part1\\3lgb56mh.jpg: 480x640 8 potholess, 21.9ms\n",
      "image 268/448 E:\\University\\PythonProject\\UltralyticsPotholes\\potholes\\part1\\3lll4s1s.jpg: 384x640 1 potholes, 17.0ms\n",
      "image 269/448 E:\\University\\PythonProject\\UltralyticsPotholes\\potholes\\part1\\3lsj71vg.jpg: 640x512 3 potholess, 20.9ms\n",
      "image 270/448 E:\\University\\PythonProject\\UltralyticsPotholes\\potholes\\part1\\3m3ubot4.jpg: 480x640 3 potholess, 22.9ms\n",
      "image 271/448 E:\\University\\PythonProject\\UltralyticsPotholes\\potholes\\part1\\3mszecxg.jpg: 448x640 2 potholess, 20.9ms\n",
      "image 272/448 E:\\University\\PythonProject\\UltralyticsPotholes\\potholes\\part1\\3n720haj.jpg: 640x640 (no detections), 24.9ms\n",
      "image 273/448 E:\\University\\PythonProject\\UltralyticsPotholes\\potholes\\part1\\3o563sni.jpg: 640x640 3 potholess, 22.9ms\n",
      "image 274/448 E:\\University\\PythonProject\\UltralyticsPotholes\\potholes\\part1\\3pey5dpq.jpg: 384x640 (no detections), 17.0ms\n",
      "image 275/448 E:\\University\\PythonProject\\UltralyticsPotholes\\potholes\\part1\\3phm2w7s.jpg: 640x480 2 potholess, 20.9ms\n",
      "image 276/448 E:\\University\\PythonProject\\UltralyticsPotholes\\potholes\\part1\\3pmib70k.jpg: 384x640 6 potholess, 17.0ms\n",
      "image 277/448 E:\\University\\PythonProject\\UltralyticsPotholes\\potholes\\part1\\3puacusz.jpg: 384x640 2 potholess, 15.0ms\n",
      "image 278/448 E:\\University\\PythonProject\\UltralyticsPotholes\\potholes\\part1\\3qm3y21j.jpg: 448x640 (no detections), 20.9ms\n",
      "image 279/448 E:\\University\\PythonProject\\UltralyticsPotholes\\potholes\\part1\\3qpo06rm.jpg: 640x640 (no detections), 23.9ms\n",
      "image 280/448 E:\\University\\PythonProject\\UltralyticsPotholes\\potholes\\part1\\3rptlwkm.jpg: 640x480 1 potholes, 19.9ms\n",
      "image 281/448 E:\\University\\PythonProject\\UltralyticsPotholes\\potholes\\part1\\3s7ravyc.jpg: 640x640 1 potholes, 23.9ms\n",
      "image 282/448 E:\\University\\PythonProject\\UltralyticsPotholes\\potholes\\part1\\3s8yp1r2.jpg: 448x640 5 potholess, 21.9ms\n",
      "image 283/448 E:\\University\\PythonProject\\UltralyticsPotholes\\potholes\\part1\\3sgsvelt.jpg: 384x640 4 potholess, 17.0ms\n",
      "image 284/448 E:\\University\\PythonProject\\UltralyticsPotholes\\potholes\\part1\\3stkn066.jpg: 448x640 (no detections), 21.9ms\n",
      "image 285/448 E:\\University\\PythonProject\\UltralyticsPotholes\\potholes\\part1\\3su6j3ah.jpg: 448x640 2 potholess, 20.9ms\n",
      "image 286/448 E:\\University\\PythonProject\\UltralyticsPotholes\\potholes\\part1\\3sv0ombz.jpg: 384x640 1 potholes, 17.0ms\n",
      "image 287/448 E:\\University\\PythonProject\\UltralyticsPotholes\\potholes\\part1\\3sz9erhb.jpg: 384x640 2 potholess, 16.0ms\n",
      "image 288/448 E:\\University\\PythonProject\\UltralyticsPotholes\\potholes\\part1\\3t5n2of3.jpg: 480x640 2 potholess, 21.9ms\n",
      "image 289/448 E:\\University\\PythonProject\\UltralyticsPotholes\\potholes\\part1\\3t5rmtr9.jpg: 448x640 3 potholess, 21.9ms\n",
      "image 290/448 E:\\University\\PythonProject\\UltralyticsPotholes\\potholes\\part1\\3uevfrx8.jpg: 384x640 3 potholess, 16.0ms\n",
      "image 291/448 E:\\University\\PythonProject\\UltralyticsPotholes\\potholes\\part1\\3ufkm82o.jpg: 640x640 2 potholess, 24.9ms\n",
      "image 292/448 E:\\University\\PythonProject\\UltralyticsPotholes\\potholes\\part1\\3urrzlud.jpg: 384x640 1 potholes, 17.0ms\n",
      "image 293/448 E:\\University\\PythonProject\\UltralyticsPotholes\\potholes\\part1\\3uzdp9w2.jpg: 448x640 2 potholess, 21.9ms\n",
      "image 294/448 E:\\University\\PythonProject\\UltralyticsPotholes\\potholes\\part1\\3v3k2igt.jpg: 448x640 (no detections), 19.9ms\n",
      "image 295/448 E:\\University\\PythonProject\\UltralyticsPotholes\\potholes\\part1\\3v6viw36.jpg: 640x512 4 potholess, 21.9ms\n",
      "image 296/448 E:\\University\\PythonProject\\UltralyticsPotholes\\potholes\\part1\\3v87qllg.jpg: 640x512 3 potholess, 20.9ms\n",
      "image 297/448 E:\\University\\PythonProject\\UltralyticsPotholes\\potholes\\part1\\3vj4gaa9.jpg: 384x640 1 potholes, 17.0ms\n",
      "image 298/448 E:\\University\\PythonProject\\UltralyticsPotholes\\potholes\\part1\\3w4jpkrl.jpg: 448x640 1 potholes, 20.9ms\n",
      "image 299/448 E:\\University\\PythonProject\\UltralyticsPotholes\\potholes\\part1\\3wktdntu.jpg: 384x640 (no detections), 17.0ms\n",
      "image 300/448 E:\\University\\PythonProject\\UltralyticsPotholes\\potholes\\part1\\3wsots2s.jpg: 416x640 3 potholess, 20.9ms\n",
      "image 301/448 E:\\University\\PythonProject\\UltralyticsPotholes\\potholes\\part1\\3wxnm1br.jpg: 640x480 1 potholes, 19.9ms\n",
      "image 302/448 E:\\University\\PythonProject\\UltralyticsPotholes\\potholes\\part1\\3x1qi0rt.jpg: 448x640 4 potholess, 20.9ms\n",
      "image 303/448 E:\\University\\PythonProject\\UltralyticsPotholes\\potholes\\part1\\3xe2isd9.jpg: 384x640 1 potholes, 18.0ms\n",
      "image 304/448 E:\\University\\PythonProject\\UltralyticsPotholes\\potholes\\part1\\3xg3d2q6.jpg: 448x640 (no detections), 22.9ms\n",
      "image 305/448 E:\\University\\PythonProject\\UltralyticsPotholes\\potholes\\part1\\3xvp6x9e.jpg: 640x480 1 potholes, 18.9ms\n",
      "image 306/448 E:\\University\\PythonProject\\UltralyticsPotholes\\potholes\\part1\\3y3qmqou.jpg: 416x640 1 potholes, 19.9ms\n",
      "image 307/448 E:\\University\\PythonProject\\UltralyticsPotholes\\potholes\\part1\\3ycn7wrz.jpg: 640x640 5 potholess, 24.9ms\n",
      "image 308/448 E:\\University\\PythonProject\\UltralyticsPotholes\\potholes\\part1\\3z7k710p.jpg: 384x640 3 potholess, 16.0ms\n",
      "image 309/448 E:\\University\\PythonProject\\UltralyticsPotholes\\potholes\\part1\\3zaztb44.jpg: 480x640 2 potholess, 21.9ms\n",
      "image 310/448 E:\\University\\PythonProject\\UltralyticsPotholes\\potholes\\part1\\3zgatlpq.jpg: 384x640 6 potholess, 17.0ms\n",
      "image 311/448 E:\\University\\PythonProject\\UltralyticsPotholes\\potholes\\part1\\3zvlsdpe.jpg: 384x640 1 potholes, 16.0ms\n",
      "image 312/448 E:\\University\\PythonProject\\UltralyticsPotholes\\potholes\\part1\\4a57rot8.jpg: 480x640 2 potholess, 20.9ms\n",
      "image 313/448 E:\\University\\PythonProject\\UltralyticsPotholes\\potholes\\part1\\4adex7fz.jpg: 352x640 23 potholess, 17.0ms\n",
      "image 314/448 E:\\University\\PythonProject\\UltralyticsPotholes\\potholes\\part1\\4alknn5d.jpg: 640x640 1 potholes, 23.9ms\n",
      "image 315/448 E:\\University\\PythonProject\\UltralyticsPotholes\\potholes\\part1\\4am82s4z.jpg: 384x640 (no detections), 18.0ms\n",
      "image 316/448 E:\\University\\PythonProject\\UltralyticsPotholes\\potholes\\part1\\4aogeho5.jpg: 384x640 (no detections), 16.0ms\n",
      "image 317/448 E:\\University\\PythonProject\\UltralyticsPotholes\\potholes\\part1\\4b7hfikh.jpg: 640x480 2 potholess, 19.9ms\n",
      "image 318/448 E:\\University\\PythonProject\\UltralyticsPotholes\\potholes\\part1\\4bb65u9s.jpg: 384x640 (no detections), 17.0ms\n",
      "image 319/448 E:\\University\\PythonProject\\UltralyticsPotholes\\potholes\\part1\\4bce1sjm.jpg: 448x640 1 potholes, 20.9ms\n",
      "image 320/448 E:\\University\\PythonProject\\UltralyticsPotholes\\potholes\\part1\\4bwiar17.jpg: 448x640 2 potholess, 20.9ms\n",
      "image 321/448 E:\\University\\PythonProject\\UltralyticsPotholes\\potholes\\part1\\4c5plxyk.jpg: 448x640 1 potholes, 20.9ms\n",
      "image 322/448 E:\\University\\PythonProject\\UltralyticsPotholes\\potholes\\part1\\4cbo3y8b.jpg: 448x640 3 potholess, 19.9ms\n",
      "image 323/448 E:\\University\\PythonProject\\UltralyticsPotholes\\potholes\\part1\\4dppsfet.jpg: 256x640 (no detections), 13.0ms\n",
      "image 324/448 E:\\University\\PythonProject\\UltralyticsPotholes\\potholes\\part1\\4dyykkrv.jpg: 448x640 1 potholes, 20.9ms\n",
      "image 325/448 E:\\University\\PythonProject\\UltralyticsPotholes\\potholes\\part1\\4e3b2doh.jpg: 448x640 4 potholess, 21.9ms\n",
      "image 326/448 E:\\University\\PythonProject\\UltralyticsPotholes\\potholes\\part1\\4f81ml23.jpg: 640x480 2 potholess, 19.9ms\n",
      "image 327/448 E:\\University\\PythonProject\\UltralyticsPotholes\\potholes\\part1\\4fykmtvl.jpg: 640x480 1 potholes, 19.9ms\n",
      "image 328/448 E:\\University\\PythonProject\\UltralyticsPotholes\\potholes\\part1\\4g710ow5.jpg: 448x640 (no detections), 20.9ms\n",
      "image 329/448 E:\\University\\PythonProject\\UltralyticsPotholes\\potholes\\part1\\4gbt7v1m.jpg: 448x640 (no detections), 19.9ms\n",
      "image 330/448 E:\\University\\PythonProject\\UltralyticsPotholes\\potholes\\part1\\4gi34es2.jpg: 448x640 3 potholess, 20.9ms\n",
      "image 331/448 E:\\University\\PythonProject\\UltralyticsPotholes\\potholes\\part1\\4gih3w9b.jpg: 480x640 10 potholess, 21.9ms\n",
      "image 332/448 E:\\University\\PythonProject\\UltralyticsPotholes\\potholes\\part1\\4gvjaqx5.jpg: 640x640 2 potholess, 23.9ms\n",
      "image 333/448 E:\\University\\PythonProject\\UltralyticsPotholes\\potholes\\part1\\4hythccd.jpg: 448x640 2 potholess, 21.9ms\n",
      "image 334/448 E:\\University\\PythonProject\\UltralyticsPotholes\\potholes\\part1\\4jhx8375.jpg: 448x640 2 potholess, 19.9ms\n",
      "image 335/448 E:\\University\\PythonProject\\UltralyticsPotholes\\potholes\\part1\\4jlg8f58.jpg: 416x640 2 potholess, 20.9ms\n",
      "image 336/448 E:\\University\\PythonProject\\UltralyticsPotholes\\potholes\\part1\\4jmu3qo9.jpg: 640x512 6 potholess, 20.9ms\n",
      "image 337/448 E:\\University\\PythonProject\\UltralyticsPotholes\\potholes\\part1\\4ktvd1cn.jpg: 640x640 (no detections), 24.9ms\n",
      "image 338/448 E:\\University\\PythonProject\\UltralyticsPotholes\\potholes\\part1\\4le81fef.jpg: 480x640 2 potholess, 22.9ms\n",
      "image 339/448 E:\\University\\PythonProject\\UltralyticsPotholes\\potholes\\part1\\4led3l4w.jpg: 480x640 (no detections), 20.9ms\n",
      "image 340/448 E:\\University\\PythonProject\\UltralyticsPotholes\\potholes\\part1\\4m7ghyzr.jpg: 640x640 2 potholess, 24.9ms\n",
      "image 341/448 E:\\University\\PythonProject\\UltralyticsPotholes\\potholes\\part1\\4miu5ode.jpg: 640x384 1 potholes, 17.0ms\n",
      "image 342/448 E:\\University\\PythonProject\\UltralyticsPotholes\\potholes\\part1\\4mk0vdrc.jpg: 384x640 4 potholess, 17.0ms\n",
      "image 343/448 E:\\University\\PythonProject\\UltralyticsPotholes\\potholes\\part1\\4msrl8s7.jpg: 640x640 1 potholes, 22.9ms\n",
      "image 344/448 E:\\University\\PythonProject\\UltralyticsPotholes\\potholes\\part1\\4n8gb4xy.jpg: 480x640 1 potholes, 21.9ms\n",
      "image 345/448 E:\\University\\PythonProject\\UltralyticsPotholes\\potholes\\part1\\4nrd7pix.jpg: 384x640 9 potholess, 17.0ms\n",
      "image 346/448 E:\\University\\PythonProject\\UltralyticsPotholes\\potholes\\part1\\4nv5mxag.jpg: 640x480 1 potholes, 18.9ms\n",
      "image 347/448 E:\\University\\PythonProject\\UltralyticsPotholes\\potholes\\part1\\4oaztjhu.jpg: 640x640 1 potholes, 23.9ms\n",
      "image 348/448 E:\\University\\PythonProject\\UltralyticsPotholes\\potholes\\part1\\4ohl8trj.jpg: 448x640 1 potholes, 21.9ms\n",
      "image 349/448 E:\\University\\PythonProject\\UltralyticsPotholes\\potholes\\part1\\4op657vl.jpg: 448x640 5 potholess, 19.9ms\n",
      "image 350/448 E:\\University\\PythonProject\\UltralyticsPotholes\\potholes\\part1\\4py5myq5.jpg: 448x640 2 potholess, 19.9ms\n",
      "image 351/448 E:\\University\\PythonProject\\UltralyticsPotholes\\potholes\\part1\\4q3fmkor.jpg: 480x640 (no detections), 21.9ms\n",
      "image 352/448 E:\\University\\PythonProject\\UltralyticsPotholes\\potholes\\part1\\4qdr37y0.jpg: 480x640 (no detections), 19.9ms\n",
      "image 353/448 E:\\University\\PythonProject\\UltralyticsPotholes\\potholes\\part1\\4qsljhic.jpg: 480x640 (no detections), 20.9ms\n",
      "image 354/448 E:\\University\\PythonProject\\UltralyticsPotholes\\potholes\\part1\\4qtu1nes.jpg: 640x640 1 potholes, 23.9ms\n",
      "image 355/448 E:\\University\\PythonProject\\UltralyticsPotholes\\potholes\\part1\\4qxgt6f5.jpg: 480x640 4 potholess, 22.9ms\n",
      "image 356/448 E:\\University\\PythonProject\\UltralyticsPotholes\\potholes\\part1\\4rig923h.jpg: 384x640 2 potholess, 17.9ms\n",
      "image 357/448 E:\\University\\PythonProject\\UltralyticsPotholes\\potholes\\part1\\4rr6oafi.jpg: 384x640 3 potholess, 16.0ms\n",
      "image 358/448 E:\\University\\PythonProject\\UltralyticsPotholes\\potholes\\part1\\4rv2w5ba.jpg: 384x640 (no detections), 16.0ms\n",
      "image 359/448 E:\\University\\PythonProject\\UltralyticsPotholes\\potholes\\part1\\4ry9qdvq.jpg: 320x640 3 potholess, 16.0ms\n",
      "image 360/448 E:\\University\\PythonProject\\UltralyticsPotholes\\potholes\\part1\\4s0f6cnl.jpg: 640x640 1 potholes, 23.9ms\n",
      "image 361/448 E:\\University\\PythonProject\\UltralyticsPotholes\\potholes\\part1\\4s3dfiai.jpg: 352x640 2 potholess, 16.0ms\n",
      "image 362/448 E:\\University\\PythonProject\\UltralyticsPotholes\\potholes\\part1\\4sexgbot.jpg: 448x640 (no detections), 21.9ms\n",
      "image 363/448 E:\\University\\PythonProject\\UltralyticsPotholes\\potholes\\part1\\4swqot39.jpg: 640x640 4 potholess, 24.9ms\n",
      "image 364/448 E:\\University\\PythonProject\\UltralyticsPotholes\\potholes\\part1\\4syh58ce.jpg: 384x640 1 potholes, 18.0ms\n",
      "image 365/448 E:\\University\\PythonProject\\UltralyticsPotholes\\potholes\\part1\\4tbhdue3.jpg: 640x640 2 potholess, 24.9ms\n",
      "image 366/448 E:\\University\\PythonProject\\UltralyticsPotholes\\potholes\\part1\\4tfi05ph.jpg: 448x640 5 potholess, 20.9ms\n",
      "image 367/448 E:\\University\\PythonProject\\UltralyticsPotholes\\potholes\\part1\\4thzrcup.jpg: 480x640 4 potholess, 21.9ms\n",
      "image 368/448 E:\\University\\PythonProject\\UltralyticsPotholes\\potholes\\part1\\4udsus8z.jpg: 640x640 (no detections), 23.9ms\n",
      "image 369/448 E:\\University\\PythonProject\\UltralyticsPotholes\\potholes\\part1\\4ul4jjx8.jpg: 640x384 2 potholess, 16.0ms\n",
      "image 370/448 E:\\University\\PythonProject\\UltralyticsPotholes\\potholes\\part1\\4v38rrq1.jpg: 640x640 (no detections), 23.9ms\n",
      "image 371/448 E:\\University\\PythonProject\\UltralyticsPotholes\\potholes\\part1\\4v4d6qir.jpg: 640x640 (no detections), 23.9ms\n",
      "image 372/448 E:\\University\\PythonProject\\UltralyticsPotholes\\potholes\\part1\\4v6aopf5.jpg: 416x640 5 potholess, 20.9ms\n",
      "image 373/448 E:\\University\\PythonProject\\UltralyticsPotholes\\potholes\\part1\\4v6rzifk.jpg: 640x640 (no detections), 23.9ms\n",
      "image 374/448 E:\\University\\PythonProject\\UltralyticsPotholes\\potholes\\part1\\4vg8m40a.jpg: 384x640 3 potholess, 17.0ms\n",
      "image 375/448 E:\\University\\PythonProject\\UltralyticsPotholes\\potholes\\part1\\4vq8lzw4.jpg: 640x640 1 potholes, 23.9ms\n",
      "image 376/448 E:\\University\\PythonProject\\UltralyticsPotholes\\potholes\\part1\\4vuavkk8.jpg: 480x640 2 potholess, 21.9ms\n",
      "image 377/448 E:\\University\\PythonProject\\UltralyticsPotholes\\potholes\\part1\\4vuvdj9e.jpg: 288x640 3 potholess, 15.0ms\n",
      "image 378/448 E:\\University\\PythonProject\\UltralyticsPotholes\\potholes\\part1\\4w7le8xs.jpg: 448x640 2 potholess, 20.9ms\n",
      "image 379/448 E:\\University\\PythonProject\\UltralyticsPotholes\\potholes\\part1\\4wcw3mp6.jpg: 448x640 (no detections), 19.9ms\n",
      "image 380/448 E:\\University\\PythonProject\\UltralyticsPotholes\\potholes\\part1\\4we9uxei.jpg: 480x640 2 potholess, 22.9ms\n",
      "image 381/448 E:\\University\\PythonProject\\UltralyticsPotholes\\potholes\\part1\\4wm3o9hh.jpg: 384x640 1 potholes, 17.0ms\n",
      "image 382/448 E:\\University\\PythonProject\\UltralyticsPotholes\\potholes\\part1\\4wvgeohj.jpg: 384x640 1 potholes, 16.0ms\n",
      "image 383/448 E:\\University\\PythonProject\\UltralyticsPotholes\\potholes\\part1\\4wy8nvgl.jpg: 384x640 1 potholes, 16.0ms\n",
      "image 384/448 E:\\University\\PythonProject\\UltralyticsPotholes\\potholes\\part1\\4x4t1d65.jpg: 640x480 4 potholess, 19.9ms\n",
      "image 385/448 E:\\University\\PythonProject\\UltralyticsPotholes\\potholes\\part1\\4xbc7zp5.jpg: 480x640 1 potholes, 22.9ms\n",
      "image 386/448 E:\\University\\PythonProject\\UltralyticsPotholes\\potholes\\part1\\4xljbo1j.jpg: 640x480 2 potholess, 19.9ms\n",
      "image 387/448 E:\\University\\PythonProject\\UltralyticsPotholes\\potholes\\part1\\4xvtgyni.jpg: 640x480 2 potholess, 20.9ms\n",
      "image 388/448 E:\\University\\PythonProject\\UltralyticsPotholes\\potholes\\part1\\4y1mnpd4.jpg: 384x640 1 potholes, 18.0ms\n",
      "image 389/448 E:\\University\\PythonProject\\UltralyticsPotholes\\potholes\\part1\\4y8hvk10.jpg: 640x480 9 potholess, 19.9ms\n",
      "image 390/448 E:\\University\\PythonProject\\UltralyticsPotholes\\potholes\\part1\\4yedoumh.jpg: 640x640 1 potholes, 24.9ms\n",
      "image 391/448 E:\\University\\PythonProject\\UltralyticsPotholes\\potholes\\part1\\4ykclqer.jpg: 640x640 2 potholess, 23.9ms\n",
      "image 392/448 E:\\University\\PythonProject\\UltralyticsPotholes\\potholes\\part1\\4yl3wds5.jpg: 448x640 2 potholess, 20.9ms\n",
      "image 393/448 E:\\University\\PythonProject\\UltralyticsPotholes\\potholes\\part1\\4yqzk6sk.jpg: 640x640 1 potholes, 23.9ms\n",
      "image 394/448 E:\\University\\PythonProject\\UltralyticsPotholes\\potholes\\part1\\4yyufen8.jpg: 640x480 4 potholess, 18.9ms\n",
      "image 395/448 E:\\University\\PythonProject\\UltralyticsPotholes\\potholes\\part1\\4zai67bx.jpg: 480x640 (no detections), 21.9ms\n",
      "image 396/448 E:\\University\\PythonProject\\UltralyticsPotholes\\potholes\\part1\\4zbn5gqs.jpg: 352x640 1 potholes, 16.0ms\n",
      "image 397/448 E:\\University\\PythonProject\\UltralyticsPotholes\\potholes\\part1\\4zho8oz4.jpg: 416x640 1 potholes, 21.9ms\n",
      "image 398/448 E:\\University\\PythonProject\\UltralyticsPotholes\\potholes\\part1\\4zhrk643.jpg: 640x480 1 potholes, 19.9ms\n",
      "image 399/448 E:\\University\\PythonProject\\UltralyticsPotholes\\potholes\\part1\\4zm77a9n.jpg: 352x640 6 potholess, 16.0ms\n",
      "image 400/448 E:\\University\\PythonProject\\UltralyticsPotholes\\potholes\\part1\\4zr1yl1y.jpg: 448x640 (no detections), 21.9ms\n",
      "image 401/448 E:\\University\\PythonProject\\UltralyticsPotholes\\potholes\\part1\\4zsiz03w.jpg: 640x480 (no detections), 24.9ms\n",
      "image 402/448 E:\\University\\PythonProject\\UltralyticsPotholes\\potholes\\part1\\5a0cj8wt.jpg: 384x640 1 potholes, 22.9ms\n",
      "image 403/448 E:\\University\\PythonProject\\UltralyticsPotholes\\potholes\\part1\\5a5h3mq6.jpg: 320x640 8 potholess, 22.9ms\n",
      "image 404/448 E:\\University\\PythonProject\\UltralyticsPotholes\\potholes\\part1\\5acoh760.jpg: 448x640 2 potholess, 29.9ms\n",
      "image 405/448 E:\\University\\PythonProject\\UltralyticsPotholes\\potholes\\part1\\5ag49n9l.jpg: 384x640 4 potholess, 24.9ms\n",
      "image 406/448 E:\\University\\PythonProject\\UltralyticsPotholes\\potholes\\part1\\5amgmga2.jpg: 480x640 (no detections), 25.9ms\n",
      "image 407/448 E:\\University\\PythonProject\\UltralyticsPotholes\\potholes\\part1\\5amkw92k.jpg: 640x640 3 potholess, 28.9ms\n",
      "image 408/448 E:\\University\\PythonProject\\UltralyticsPotholes\\potholes\\part1\\5an4b5uf.jpg: 480x640 (no detections), 25.9ms\n",
      "image 409/448 E:\\University\\PythonProject\\UltralyticsPotholes\\potholes\\part1\\5aoajqru.jpg: 640x640 (no detections), 29.9ms\n",
      "image 410/448 E:\\University\\PythonProject\\UltralyticsPotholes\\potholes\\part1\\5b72ja3u.jpg: 640x640 (no detections), 28.9ms\n",
      "image 411/448 E:\\University\\PythonProject\\UltralyticsPotholes\\potholes\\part1\\5b7qat3y.jpg: 352x640 1 potholes, 19.9ms\n",
      "image 412/448 E:\\University\\PythonProject\\UltralyticsPotholes\\potholes\\part1\\5bf9xdfe.jpg: 448x640 1 potholes, 22.9ms\n",
      "image 413/448 E:\\University\\PythonProject\\UltralyticsPotholes\\potholes\\part1\\5crjjqhh.jpg: 480x640 2 potholess, 21.9ms\n",
      "image 414/448 E:\\University\\PythonProject\\UltralyticsPotholes\\potholes\\part1\\5dszhzmh.jpg: 448x640 1 potholes, 20.9ms\n",
      "image 415/448 E:\\University\\PythonProject\\UltralyticsPotholes\\potholes\\part1\\5ea7kgbo.jpg: 416x640 1 potholes, 20.9ms\n",
      "image 416/448 E:\\University\\PythonProject\\UltralyticsPotholes\\potholes\\part1\\5eac9h2l.jpg: 416x640 1 potholes, 19.9ms\n",
      "image 417/448 E:\\University\\PythonProject\\UltralyticsPotholes\\potholes\\part1\\5ef6jag9.jpg: 640x640 1 potholes, 24.9ms\n",
      "image 418/448 E:\\University\\PythonProject\\UltralyticsPotholes\\potholes\\part1\\5f8qcsl2.jpg: 448x640 1 potholes, 21.9ms\n",
      "image 419/448 E:\\University\\PythonProject\\UltralyticsPotholes\\potholes\\part1\\5fbqz47w.jpg: 480x640 (no detections), 22.9ms\n",
      "image 420/448 E:\\University\\PythonProject\\UltralyticsPotholes\\potholes\\part1\\5fc8k9dn.jpg: 384x640 2 potholess, 17.0ms\n",
      "image 421/448 E:\\University\\PythonProject\\UltralyticsPotholes\\potholes\\part1\\5ffuo0h8.jpg: 448x640 3 potholess, 20.9ms\n",
      "image 422/448 E:\\University\\PythonProject\\UltralyticsPotholes\\potholes\\part1\\5fkdiguc.jpg: 352x640 (no detections), 16.0ms\n",
      "image 423/448 E:\\University\\PythonProject\\UltralyticsPotholes\\potholes\\part1\\5fnau18d.jpg: 640x640 1 potholes, 24.9ms\n",
      "image 424/448 E:\\University\\PythonProject\\UltralyticsPotholes\\potholes\\part1\\5ft5syz9.jpg: 512x640 2 potholess, 19.9ms\n",
      "image 425/448 E:\\University\\PythonProject\\UltralyticsPotholes\\potholes\\part1\\5fzdg2e2.jpg: 352x640 1 potholes, 16.0ms\n",
      "image 426/448 E:\\University\\PythonProject\\UltralyticsPotholes\\potholes\\part1\\5g65stv3.jpg: 640x448 (no detections), 89.8ms\n",
      "image 427/448 E:\\University\\PythonProject\\UltralyticsPotholes\\potholes\\part1\\5gmyvxmq.jpg: 448x640 2 potholess, 20.9ms\n",
      "image 428/448 E:\\University\\PythonProject\\UltralyticsPotholes\\potholes\\part1\\5gp4yeem.jpg: 384x640 2 potholess, 17.0ms\n",
      "image 429/448 E:\\University\\PythonProject\\UltralyticsPotholes\\potholes\\part1\\5gsetf25.jpg: 320x640 1 potholes, 16.0ms\n",
      "image 430/448 E:\\University\\PythonProject\\UltralyticsPotholes\\potholes\\part1\\5gt15frj.jpg: 384x640 (no detections), 17.0ms\n",
      "image 431/448 E:\\University\\PythonProject\\UltralyticsPotholes\\potholes\\part1\\5hvntkwh.jpg: 640x640 3 potholess, 23.9ms\n",
      "image 432/448 E:\\University\\PythonProject\\UltralyticsPotholes\\potholes\\part1\\5hvyeqcd.jpg: 384x640 1 potholes, 17.9ms\n",
      "image 433/448 E:\\University\\PythonProject\\UltralyticsPotholes\\potholes\\part1\\5il030oj.jpg: 448x640 (no detections), 20.9ms\n",
      "image 434/448 E:\\University\\PythonProject\\UltralyticsPotholes\\potholes\\part1\\5j6q4cnr.jpg: 480x640 (no detections), 19.9ms\n",
      "image 435/448 E:\\University\\PythonProject\\UltralyticsPotholes\\potholes\\part1\\5ji65ux5.jpg: 480x640 1 potholes, 19.9ms\n",
      "image 436/448 E:\\University\\PythonProject\\UltralyticsPotholes\\potholes\\part1\\5jl5w756.jpg: 480x640 2 potholess, 20.9ms\n",
      "image 437/448 E:\\University\\PythonProject\\UltralyticsPotholes\\potholes\\part1\\5jlw0xcx.jpg: 480x640 2 potholess, 19.9ms\n",
      "image 438/448 E:\\University\\PythonProject\\UltralyticsPotholes\\potholes\\part1\\5l1ns2jp.jpg: 288x640 (no detections), 16.0ms\n",
      "image 439/448 E:\\University\\PythonProject\\UltralyticsPotholes\\potholes\\part1\\5l2vu0yw.jpg: 384x640 1 potholes, 17.0ms\n",
      "image 440/448 E:\\University\\PythonProject\\UltralyticsPotholes\\potholes\\part1\\5l74sfva.jpg: 640x512 (no detections), 20.9ms\n",
      "image 441/448 E:\\University\\PythonProject\\UltralyticsPotholes\\potholes\\part1\\5lpxo9l4.jpg: 640x640 1 potholes, 23.9ms\n",
      "image 442/448 E:\\University\\PythonProject\\UltralyticsPotholes\\potholes\\part1\\5lrr1r1g.jpg: 448x640 1 potholes, 21.9ms\n",
      "image 443/448 E:\\University\\PythonProject\\UltralyticsPotholes\\potholes\\part1\\5lu4j10u.jpg: 384x640 1 potholes, 17.0ms\n",
      "image 444/448 E:\\University\\PythonProject\\UltralyticsPotholes\\potholes\\part1\\5nf1ohx2.jpg: 640x512 6 potholess, 20.9ms\n",
      "image 445/448 E:\\University\\PythonProject\\UltralyticsPotholes\\potholes\\part1\\5niqmvu4.jpg: 416x640 (no detections), 19.9ms\n",
      "image 446/448 E:\\University\\PythonProject\\UltralyticsPotholes\\potholes\\part1\\5nv86m6p.jpg: 640x640 2 potholess, 24.9ms\n",
      "image 447/448 E:\\University\\PythonProject\\UltralyticsPotholes\\potholes\\part1\\5ovbml9b.jpg: 448x640 2 potholess, 20.9ms\n",
      "image 448/448 E:\\University\\PythonProject\\UltralyticsPotholes\\potholes\\part1\\5ovsoguv.jpg: 448x640 3 potholess, 19.9ms\n",
      "Speed: 2.3ms preprocess, 23.1ms inference, 2.1ms postprocess per image at shape (1, 3, 448, 640)\n",
      "Results saved to \u001b[1mruns\\segment\\predict\u001b[0m\n"
     ]
    }
   ],
   "source": [
    "resultOne = model('potholes\\\\part1',save=True)"
   ]
  },
  {
   "cell_type": "code",
   "execution_count": 4,
   "id": "6765d05a7cd1b58f",
   "metadata": {
    "ExecuteTime": {
     "end_time": "2023-12-11T06:13:31.079265900Z",
     "start_time": "2023-12-11T06:12:51.410057200Z"
    },
    "collapsed": false,
    "jupyter": {
     "outputs_hidden": false
    }
   },
   "outputs": [
    {
     "name": "stdout",
     "output_type": "stream",
     "text": [
      "image 1/504 E:\\University\\PythonProject\\UltralyticsPotholes\\potholes\\part2\\033mywd5.jpg: 352x640 2 potholess, 174.5ms\n",
      "image 2/504 E:\\University\\PythonProject\\UltralyticsPotholes\\potholes\\part2\\059v7dfr.jpg: 640x512 2 potholess, 25.9ms\n",
      "image 3/504 E:\\University\\PythonProject\\UltralyticsPotholes\\potholes\\part2\\062rpsl7.jpg: 384x640 (no detections), 19.9ms\n",
      "image 4/504 E:\\University\\PythonProject\\UltralyticsPotholes\\potholes\\part2\\068kigkq.jpg: 640x480 1 potholes, 25.9ms\n",
      "image 5/504 E:\\University\\PythonProject\\UltralyticsPotholes\\potholes\\part2\\06vef9s7.jpg: 640x480 4 potholess, 24.9ms\n",
      "image 6/504 E:\\University\\PythonProject\\UltralyticsPotholes\\potholes\\part2\\06wemho2.jpg: 480x640 4 potholess, 28.9ms\n",
      "image 7/504 E:\\University\\PythonProject\\UltralyticsPotholes\\potholes\\part2\\08bradgz.jpg: 640x640 (no detections), 29.9ms\n",
      "image 8/504 E:\\University\\PythonProject\\UltralyticsPotholes\\potholes\\part2\\08eekqwh.jpg: 480x640 2 potholess, 25.9ms\n",
      "image 9/504 E:\\University\\PythonProject\\UltralyticsPotholes\\potholes\\part2\\08kliu69.jpg: 640x480 1 potholes, 22.9ms\n",
      "image 10/504 E:\\University\\PythonProject\\UltralyticsPotholes\\potholes\\part2\\08kp3r6m.jpg: 480x640 (no detections), 24.9ms\n",
      "image 11/504 E:\\University\\PythonProject\\UltralyticsPotholes\\potholes\\part2\\08mhulk6.jpg: 416x640 6 potholess, 24.9ms\n",
      "image 12/504 E:\\University\\PythonProject\\UltralyticsPotholes\\potholes\\part2\\10rjzyid.jpg: 448x640 1 potholes, 24.9ms\n",
      "image 13/504 E:\\University\\PythonProject\\UltralyticsPotholes\\potholes\\part2\\10xehm2g.jpg: 288x640 (no detections), 17.0ms\n",
      "image 14/504 E:\\University\\PythonProject\\UltralyticsPotholes\\potholes\\part2\\11lm3qw2.jpg: 640x640 (no detections), 29.9ms\n",
      "image 15/504 E:\\University\\PythonProject\\UltralyticsPotholes\\potholes\\part2\\12dn1jc8.jpg: 480x640 1 potholes, 24.9ms\n",
      "image 16/504 E:\\University\\PythonProject\\UltralyticsPotholes\\potholes\\part2\\12ewp8nz.jpg: 384x640 (no detections), 18.9ms\n",
      "image 17/504 E:\\University\\PythonProject\\UltralyticsPotholes\\potholes\\part2\\12hj8djs.jpg: 640x640 3 potholess, 27.9ms\n",
      "image 18/504 E:\\University\\PythonProject\\UltralyticsPotholes\\potholes\\part2\\14bxpebf.jpg: 448x640 (no detections), 24.9ms\n",
      "image 19/504 E:\\University\\PythonProject\\UltralyticsPotholes\\potholes\\part2\\14cn3i9i.jpg: 448x640 2 potholess, 23.9ms\n",
      "image 20/504 E:\\University\\PythonProject\\UltralyticsPotholes\\potholes\\part2\\14gq8muy.jpg: 384x640 1 potholes, 19.9ms\n",
      "image 21/504 E:\\University\\PythonProject\\UltralyticsPotholes\\potholes\\part2\\14s98kyb.jpg: 640x640 1 potholes, 27.9ms\n",
      "image 22/504 E:\\University\\PythonProject\\UltralyticsPotholes\\potholes\\part2\\14ssbvxh.jpg: 384x640 2 potholess, 18.9ms\n",
      "image 23/504 E:\\University\\PythonProject\\UltralyticsPotholes\\potholes\\part2\\14u7zxmq.jpg: 448x640 3 potholess, 21.9ms\n",
      "image 24/504 E:\\University\\PythonProject\\UltralyticsPotholes\\potholes\\part2\\15fc2xyb.jpg: 448x640 1 potholes, 22.9ms\n",
      "image 25/504 E:\\University\\PythonProject\\UltralyticsPotholes\\potholes\\part2\\15nugrcs.jpg: 640x480 3 potholess, 22.9ms\n",
      "image 26/504 E:\\University\\PythonProject\\UltralyticsPotholes\\potholes\\part2\\15pqcy2f.jpg: 384x640 (no detections), 17.0ms\n",
      "image 27/504 E:\\University\\PythonProject\\UltralyticsPotholes\\potholes\\part2\\15sct1sz.jpg: 384x640 5 potholess, 16.0ms\n",
      "image 28/504 E:\\University\\PythonProject\\UltralyticsPotholes\\potholes\\part2\\15v3mphx.jpg: 384x640 (no detections), 17.9ms\n",
      "image 29/504 E:\\University\\PythonProject\\UltralyticsPotholes\\potholes\\part2\\16e9mbsi.jpg: 352x640 1 potholes, 18.0ms\n",
      "image 30/504 E:\\University\\PythonProject\\UltralyticsPotholes\\potholes\\part2\\16tgic48.jpg: 448x640 2 potholess, 23.9ms\n",
      "image 31/504 E:\\University\\PythonProject\\UltralyticsPotholes\\potholes\\part2\\17shajnd.jpg: 384x640 (no detections), 18.0ms\n",
      "image 32/504 E:\\University\\PythonProject\\UltralyticsPotholes\\potholes\\part2\\18xenf2c.jpg: 448x640 3 potholess, 22.9ms\n",
      "image 33/504 E:\\University\\PythonProject\\UltralyticsPotholes\\potholes\\part2\\19he638h.jpg: 480x640 3 potholess, 23.9ms\n",
      "image 34/504 E:\\University\\PythonProject\\UltralyticsPotholes\\potholes\\part2\\19kdkail.jpg: 384x640 12 potholess, 19.0ms\n",
      "image 35/504 E:\\University\\PythonProject\\UltralyticsPotholes\\potholes\\part2\\20edu6s7.jpg: 448x640 7 potholess, 21.9ms\n",
      "image 36/504 E:\\University\\PythonProject\\UltralyticsPotholes\\potholes\\part2\\21qbljkk.jpg: 448x640 2 potholess, 21.9ms\n",
      "image 37/504 E:\\University\\PythonProject\\UltralyticsPotholes\\potholes\\part2\\22gstl10.jpg: 640x480 3 potholess, 20.9ms\n",
      "image 38/504 E:\\University\\PythonProject\\UltralyticsPotholes\\potholes\\part2\\22raxrdn.jpg: 448x640 3 potholess, 22.9ms\n",
      "image 39/504 E:\\University\\PythonProject\\UltralyticsPotholes\\potholes\\part2\\23gnmjcy.jpg: 384x640 2 potholess, 18.0ms\n",
      "image 40/504 E:\\University\\PythonProject\\UltralyticsPotholes\\potholes\\part2\\23no3rdk.jpg: 640x640 (no detections), 26.9ms\n",
      "image 41/504 E:\\University\\PythonProject\\UltralyticsPotholes\\potholes\\part2\\23r1sfz3.jpg: 480x640 1 potholes, 23.9ms\n",
      "image 42/504 E:\\University\\PythonProject\\UltralyticsPotholes\\potholes\\part2\\23se5k2f.jpg: 512x640 2 potholess, 22.9ms\n",
      "image 43/504 E:\\University\\PythonProject\\UltralyticsPotholes\\potholes\\part2\\23t2i5gb.jpg: 448x640 (no detections), 23.9ms\n",
      "image 44/504 E:\\University\\PythonProject\\UltralyticsPotholes\\potholes\\part2\\24dyo7oc.jpg: 640x640 2 potholess, 28.9ms\n",
      "image 45/504 E:\\University\\PythonProject\\UltralyticsPotholes\\potholes\\part2\\24kj9s1f.jpg: 640x640 1 potholes, 26.9ms\n",
      "image 46/504 E:\\University\\PythonProject\\UltralyticsPotholes\\potholes\\part2\\25r3ic1e.jpg: 288x640 (no detections), 17.0ms\n",
      "image 47/504 E:\\University\\PythonProject\\UltralyticsPotholes\\potholes\\part2\\25sw5agx.jpg: 384x640 1 potholes, 19.9ms\n",
      "image 48/504 E:\\University\\PythonProject\\UltralyticsPotholes\\potholes\\part2\\26v64z2x.jpg: 448x640 7 potholess, 23.9ms\n",
      "image 49/504 E:\\University\\PythonProject\\UltralyticsPotholes\\potholes\\part2\\27wsxnyd.jpg: 288x640 1 potholes, 15.0ms\n",
      "image 50/504 E:\\University\\PythonProject\\UltralyticsPotholes\\potholes\\part2\\28zfjaj7.jpg: 448x640 (no detections), 22.9ms\n",
      "image 51/504 E:\\University\\PythonProject\\UltralyticsPotholes\\potholes\\part2\\29acjt8z.jpg: 352x640 3 potholess, 18.0ms\n",
      "image 52/504 E:\\University\\PythonProject\\UltralyticsPotholes\\potholes\\part2\\29djp5qq.jpg: 480x640 (no detections), 21.9ms\n",
      "image 53/504 E:\\University\\PythonProject\\UltralyticsPotholes\\potholes\\part2\\29jpq2ts.jpg: 384x640 3 potholess, 18.0ms\n",
      "image 54/504 E:\\University\\PythonProject\\UltralyticsPotholes\\potholes\\part2\\29pslpvk.jpg: 640x640 5 potholess, 24.9ms\n",
      "image 55/504 E:\\University\\PythonProject\\UltralyticsPotholes\\potholes\\part2\\30ick3rb.jpg: 640x640 4 potholess, 31.9ms\n",
      "image 56/504 E:\\University\\PythonProject\\UltralyticsPotholes\\potholes\\part2\\30yw506b.jpg: 640x608 (no detections), 71.8ms\n",
      "image 57/504 E:\\University\\PythonProject\\UltralyticsPotholes\\potholes\\part2\\30zis8ku.jpg: 448x640 1 potholes, 21.9ms\n",
      "image 58/504 E:\\University\\PythonProject\\UltralyticsPotholes\\potholes\\part2\\31kt9xby.jpg: 416x640 (no detections), 20.9ms\n",
      "image 59/504 E:\\University\\PythonProject\\UltralyticsPotholes\\potholes\\part2\\31tces7h.jpg: 384x640 3 potholess, 18.0ms\n",
      "image 60/504 E:\\University\\PythonProject\\UltralyticsPotholes\\potholes\\part2\\32k3ag2d.jpg: 352x640 (no detections), 17.9ms\n",
      "image 61/504 E:\\University\\PythonProject\\UltralyticsPotholes\\potholes\\part2\\32wi3inw.jpg: 480x640 3 potholess, 23.9ms\n",
      "image 62/504 E:\\University\\PythonProject\\UltralyticsPotholes\\potholes\\part2\\33i0hmfb.jpg: 448x640 2 potholess, 21.9ms\n",
      "image 63/504 E:\\University\\PythonProject\\UltralyticsPotholes\\potholes\\part2\\33ign4ws.jpg: 384x640 2 potholess, 18.0ms\n",
      "image 64/504 E:\\University\\PythonProject\\UltralyticsPotholes\\potholes\\part2\\33qm5p4l.jpg: 448x640 (no detections), 22.9ms\n",
      "image 65/504 E:\\University\\PythonProject\\UltralyticsPotholes\\potholes\\part2\\34bkbpmc.jpg: 640x640 (no detections), 24.9ms\n",
      "image 66/504 E:\\University\\PythonProject\\UltralyticsPotholes\\potholes\\part2\\34nobr25.jpg: 640x640 (no detections), 24.9ms\n",
      "image 67/504 E:\\University\\PythonProject\\UltralyticsPotholes\\potholes\\part2\\34pv8zdy.jpg: 448x640 (no detections), 21.9ms\n",
      "image 68/504 E:\\University\\PythonProject\\UltralyticsPotholes\\potholes\\part2\\34u9iowe.jpg: 416x640 6 potholess, 19.9ms\n",
      "image 69/504 E:\\University\\PythonProject\\UltralyticsPotholes\\potholes\\part2\\34vxrxxd.jpg: 448x640 1 potholes, 20.9ms\n",
      "image 70/504 E:\\University\\PythonProject\\UltralyticsPotholes\\potholes\\part2\\35xx2qwt.jpg: 640x512 (no detections), 19.9ms\n",
      "image 71/504 E:\\University\\PythonProject\\UltralyticsPotholes\\potholes\\part2\\36nd09t1.jpg: 640x640 (no detections), 23.9ms\n",
      "image 72/504 E:\\University\\PythonProject\\UltralyticsPotholes\\potholes\\part2\\36qid2yz.jpg: 416x640 (no detections), 21.9ms\n",
      "image 73/504 E:\\University\\PythonProject\\UltralyticsPotholes\\potholes\\part2\\37g0tso2.jpg: 448x640 2 potholess, 20.9ms\n",
      "image 74/504 E:\\University\\PythonProject\\UltralyticsPotholes\\potholes\\part2\\37hkkx3a.jpg: 384x640 2 potholess, 16.0ms\n",
      "image 75/504 E:\\University\\PythonProject\\UltralyticsPotholes\\potholes\\part2\\37r8wzqb.jpg: 352x640 4 potholess, 16.0ms\n",
      "image 76/504 E:\\University\\PythonProject\\UltralyticsPotholes\\potholes\\part2\\37rl2694.jpg: 480x640 2 potholess, 21.0ms\n",
      "image 77/504 E:\\University\\PythonProject\\UltralyticsPotholes\\potholes\\part2\\38ljymlj.jpg: 448x640 3 potholess, 20.9ms\n",
      "image 78/504 E:\\University\\PythonProject\\UltralyticsPotholes\\potholes\\part2\\38t9ebvq.jpg: 640x640 (no detections), 23.9ms\n",
      "image 79/504 E:\\University\\PythonProject\\UltralyticsPotholes\\potholes\\part2\\39roqny3.jpg: 640x640 (no detections), 21.9ms\n",
      "image 80/504 E:\\University\\PythonProject\\UltralyticsPotholes\\potholes\\part2\\40edv8fa.jpg: 448x640 1 potholes, 19.9ms\n",
      "image 81/504 E:\\University\\PythonProject\\UltralyticsPotholes\\potholes\\part2\\40x910zg.jpg: 384x640 1 potholes, 18.0ms\n",
      "image 82/504 E:\\University\\PythonProject\\UltralyticsPotholes\\potholes\\part2\\41q9bxkp.jpg: 640x480 4 potholess, 20.9ms\n",
      "image 83/504 E:\\University\\PythonProject\\UltralyticsPotholes\\potholes\\part2\\41rdjzza.jpg: 384x640 (no detections), 16.0ms\n",
      "image 84/504 E:\\University\\PythonProject\\UltralyticsPotholes\\potholes\\part2\\45imhldr.jpg: 640x640 (no detections), 23.9ms\n",
      "image 85/504 E:\\University\\PythonProject\\UltralyticsPotholes\\potholes\\part2\\45j26ftk.jpg: 352x640 1 potholes, 16.0ms\n",
      "image 86/504 E:\\University\\PythonProject\\UltralyticsPotholes\\potholes\\part2\\45taoc74.jpg: 640x480 2 potholess, 19.9ms\n",
      "image 87/504 E:\\University\\PythonProject\\UltralyticsPotholes\\potholes\\part2\\46e2epbc.jpg: 640x640 1 potholes, 23.9ms\n",
      "image 88/504 E:\\University\\PythonProject\\UltralyticsPotholes\\potholes\\part2\\46i9savp.jpg: 384x640 (no detections), 17.0ms\n",
      "image 89/504 E:\\University\\PythonProject\\UltralyticsPotholes\\potholes\\part2\\46s3tivm.jpg: 448x640 3 potholess, 21.9ms\n",
      "image 90/504 E:\\University\\PythonProject\\UltralyticsPotholes\\potholes\\part2\\46tve39b.jpg: 640x640 (no detections), 23.9ms\n",
      "image 91/504 E:\\University\\PythonProject\\UltralyticsPotholes\\potholes\\part2\\47z4pch8.jpg: 384x640 1 potholes, 17.0ms\n",
      "image 92/504 E:\\University\\PythonProject\\UltralyticsPotholes\\potholes\\part2\\47zk0enn.jpg: 448x640 22 potholess, 21.9ms\n",
      "image 93/504 E:\\University\\PythonProject\\UltralyticsPotholes\\potholes\\part2\\48uybuxp.jpg: 640x640 1 potholes, 23.9ms\n",
      "image 94/504 E:\\University\\PythonProject\\UltralyticsPotholes\\potholes\\part2\\49d9mogg.jpg: 640x480 4 potholess, 18.9ms\n",
      "image 95/504 E:\\University\\PythonProject\\UltralyticsPotholes\\potholes\\part2\\49njehml.jpg: 640x480 3 potholess, 19.0ms\n",
      "image 96/504 E:\\University\\PythonProject\\UltralyticsPotholes\\potholes\\part2\\49xq8vpf.jpg: 640x480 2 potholess, 18.0ms\n",
      "image 97/504 E:\\University\\PythonProject\\UltralyticsPotholes\\potholes\\part2\\50s1im7u.jpg: 480x640 4 potholess, 25.9ms\n",
      "image 98/504 E:\\University\\PythonProject\\UltralyticsPotholes\\potholes\\part2\\50sbrm9b.jpg: 448x640 (no detections), 27.9ms\n",
      "image 99/504 E:\\University\\PythonProject\\UltralyticsPotholes\\potholes\\part2\\50xtmx5x.jpg: 384x640 7 potholess, 21.9ms\n",
      "image 100/504 E:\\University\\PythonProject\\UltralyticsPotholes\\potholes\\part2\\51a62sn2.jpg: 416x640 1 potholes, 27.9ms\n",
      "image 101/504 E:\\University\\PythonProject\\UltralyticsPotholes\\potholes\\part2\\51b5ij6u.jpg: 640x384 2 potholess, 18.0ms\n",
      "image 102/504 E:\\University\\PythonProject\\UltralyticsPotholes\\potholes\\part2\\51dkrtt0.jpg: 640x512 1 potholes, 21.9ms\n",
      "image 103/504 E:\\University\\PythonProject\\UltralyticsPotholes\\potholes\\part2\\51imqiht.jpg: 384x640 1 potholes, 18.0ms\n",
      "image 104/504 E:\\University\\PythonProject\\UltralyticsPotholes\\potholes\\part2\\52gq6o4v.jpg: 448x640 2 potholess, 21.9ms\n",
      "image 105/504 E:\\University\\PythonProject\\UltralyticsPotholes\\potholes\\part2\\52nmewbz.jpg: 384x640 17 potholess, 17.0ms\n",
      "image 106/504 E:\\University\\PythonProject\\UltralyticsPotholes\\potholes\\part2\\53gem788.jpg: 448x640 2 potholess, 20.9ms\n",
      "image 107/504 E:\\University\\PythonProject\\UltralyticsPotholes\\potholes\\part2\\53iax3w6.jpg: 416x640 6 potholess, 20.9ms\n",
      "image 108/504 E:\\University\\PythonProject\\UltralyticsPotholes\\potholes\\part2\\53yxklbl.jpg: 640x480 (no detections), 21.9ms\n",
      "image 109/504 E:\\University\\PythonProject\\UltralyticsPotholes\\potholes\\part2\\54qmvci2.jpg: 640x480 2 potholess, 18.0ms\n",
      "image 110/504 E:\\University\\PythonProject\\UltralyticsPotholes\\potholes\\part2\\54rzj894.jpg: 640x640 1 potholes, 22.9ms\n",
      "image 111/504 E:\\University\\PythonProject\\UltralyticsPotholes\\potholes\\part2\\55dgy9i8.jpg: 384x640 1 potholes, 17.0ms\n",
      "image 112/504 E:\\University\\PythonProject\\UltralyticsPotholes\\potholes\\part2\\55iftkl6.jpg: 448x640 4 potholess, 21.9ms\n",
      "image 113/504 E:\\University\\PythonProject\\UltralyticsPotholes\\potholes\\part2\\55o1x14e.jpg: 640x480 (no detections), 19.9ms\n",
      "image 114/504 E:\\University\\PythonProject\\UltralyticsPotholes\\potholes\\part2\\56smam1e.jpg: 640x640 1 potholes, 23.9ms\n",
      "image 115/504 E:\\University\\PythonProject\\UltralyticsPotholes\\potholes\\part2\\57a24fic.jpg: 416x640 1 potholes, 19.9ms\n",
      "image 116/504 E:\\University\\PythonProject\\UltralyticsPotholes\\potholes\\part2\\57fsdj6s.jpg: 448x640 1 potholes, 19.9ms\n",
      "image 117/504 E:\\University\\PythonProject\\UltralyticsPotholes\\potholes\\part2\\57pi8ay4.jpg: 448x640 1 potholes, 20.9ms\n",
      "image 118/504 E:\\University\\PythonProject\\UltralyticsPotholes\\potholes\\part2\\58iz0wqy.jpg: 640x640 1 potholes, 23.9ms\n",
      "image 119/504 E:\\University\\PythonProject\\UltralyticsPotholes\\potholes\\part2\\58wo7lwk.jpg: 448x640 1 potholes, 21.9ms\n",
      "image 120/504 E:\\University\\PythonProject\\UltralyticsPotholes\\potholes\\part2\\59dk1x1a.jpg: 480x640 2 potholess, 21.9ms\n",
      "image 121/504 E:\\University\\PythonProject\\UltralyticsPotholes\\potholes\\part2\\59kzup44.jpg: 640x640 1 potholes, 22.9ms\n",
      "image 122/504 E:\\University\\PythonProject\\UltralyticsPotholes\\potholes\\part2\\59torgiv.jpg: 352x640 5 potholess, 17.0ms\n",
      "image 123/504 E:\\University\\PythonProject\\UltralyticsPotholes\\potholes\\part2\\5pk2gan3.jpg: 480x640 (no detections), 20.9ms\n",
      "image 124/504 E:\\University\\PythonProject\\UltralyticsPotholes\\potholes\\part2\\5pxcta1f.jpg: 352x640 3 potholess, 17.0ms\n",
      "image 125/504 E:\\University\\PythonProject\\UltralyticsPotholes\\potholes\\part2\\5q1t1j69.jpg: 448x640 3 potholess, 20.9ms\n",
      "image 126/504 E:\\University\\PythonProject\\UltralyticsPotholes\\potholes\\part2\\5q5t4s14.jpg: 640x640 1 potholes, 23.9ms\n",
      "image 127/504 E:\\University\\PythonProject\\UltralyticsPotholes\\potholes\\part2\\5q67zuar.jpg: 480x640 3 potholess, 22.9ms\n",
      "image 128/504 E:\\University\\PythonProject\\UltralyticsPotholes\\potholes\\part2\\5qdn9b2v.jpg: 384x640 6 potholess, 18.0ms\n",
      "image 129/504 E:\\University\\PythonProject\\UltralyticsPotholes\\potholes\\part2\\5qtftldu.jpg: 480x640 12 potholess, 21.9ms\n",
      "image 130/504 E:\\University\\PythonProject\\UltralyticsPotholes\\potholes\\part2\\5r2qalfk.jpg: 448x640 1 potholes, 20.9ms\n",
      "image 131/504 E:\\University\\PythonProject\\UltralyticsPotholes\\potholes\\part2\\5rdxb5n0.jpg: 480x640 2 potholess, 21.9ms\n",
      "image 132/504 E:\\University\\PythonProject\\UltralyticsPotholes\\potholes\\part2\\5rfglroc.jpg: 640x640 2 potholess, 23.9ms\n",
      "image 133/504 E:\\University\\PythonProject\\UltralyticsPotholes\\potholes\\part2\\5s6n4oop.jpg: 384x640 1 potholes, 16.0ms\n",
      "image 134/504 E:\\University\\PythonProject\\UltralyticsPotholes\\potholes\\part2\\5ss3x4tg.jpg: 640x480 1 potholes, 18.9ms\n",
      "image 135/504 E:\\University\\PythonProject\\UltralyticsPotholes\\potholes\\part2\\5sues0es.jpg: 640x640 2 potholess, 23.9ms\n",
      "image 136/504 E:\\University\\PythonProject\\UltralyticsPotholes\\potholes\\part2\\5t717kwo.jpg: 640x480 (no detections), 19.9ms\n",
      "image 137/504 E:\\University\\PythonProject\\UltralyticsPotholes\\potholes\\part2\\5tb3jdoq.jpg: 416x640 4 potholess, 18.9ms\n",
      "image 138/504 E:\\University\\PythonProject\\UltralyticsPotholes\\potholes\\part2\\5tclewq1.jpg: 384x640 (no detections), 16.0ms\n",
      "image 139/504 E:\\University\\PythonProject\\UltralyticsPotholes\\potholes\\part2\\5u15a0bh.jpg: 640x480 2 potholess, 20.9ms\n",
      "image 140/504 E:\\University\\PythonProject\\UltralyticsPotholes\\potholes\\part2\\5uhrnffg.jpg: 576x640 1 potholes, 21.9ms\n",
      "image 141/504 E:\\University\\PythonProject\\UltralyticsPotholes\\potholes\\part2\\5unu5knq.jpg: 480x640 2 potholess, 21.9ms\n",
      "image 142/504 E:\\University\\PythonProject\\UltralyticsPotholes\\potholes\\part2\\5v72lm8x.jpg: 416x640 3 potholess, 20.9ms\n",
      "image 143/504 E:\\University\\PythonProject\\UltralyticsPotholes\\potholes\\part2\\5vevfxvl.jpg: 448x640 (no detections), 20.9ms\n",
      "image 144/504 E:\\University\\PythonProject\\UltralyticsPotholes\\potholes\\part2\\5vh0rfle.jpg: 448x640 1 potholes, 20.0ms\n",
      "image 145/504 E:\\University\\PythonProject\\UltralyticsPotholes\\potholes\\part2\\5vmt2pjs.jpg: 288x640 (no detections), 15.0ms\n",
      "image 146/504 E:\\University\\PythonProject\\UltralyticsPotholes\\potholes\\part2\\5vzo6ia5.jpg: 384x640 2 potholess, 15.0ms\n",
      "image 147/504 E:\\University\\PythonProject\\UltralyticsPotholes\\potholes\\part2\\5w5q8tku.jpg: 416x640 11 potholess, 19.9ms\n",
      "image 148/504 E:\\University\\PythonProject\\UltralyticsPotholes\\potholes\\part2\\5wa2gjh2.jpg: 480x640 (no detections), 21.9ms\n",
      "image 149/504 E:\\University\\PythonProject\\UltralyticsPotholes\\potholes\\part2\\5wgfw1zc.jpg: 640x480 1 potholes, 19.9ms\n",
      "image 150/504 E:\\University\\PythonProject\\UltralyticsPotholes\\potholes\\part2\\5wjxenwe.jpg: 448x640 1 potholes, 20.9ms\n",
      "image 151/504 E:\\University\\PythonProject\\UltralyticsPotholes\\potholes\\part2\\5x2aqf59.jpg: 384x640 4 potholess, 16.0ms\n",
      "image 152/504 E:\\University\\PythonProject\\UltralyticsPotholes\\potholes\\part2\\5x4ugfkz.jpg: 640x640 2 potholess, 24.9ms\n",
      "image 153/504 E:\\University\\PythonProject\\UltralyticsPotholes\\potholes\\part2\\5x8h1fon.jpg: 640x480 (no detections), 19.0ms\n",
      "image 154/504 E:\\University\\PythonProject\\UltralyticsPotholes\\potholes\\part2\\5xlpwqlq.jpg: 480x640 2 potholess, 19.9ms\n",
      "image 155/504 E:\\University\\PythonProject\\UltralyticsPotholes\\potholes\\part2\\5xmzksjb.jpg: 448x640 2 potholess, 20.9ms\n",
      "image 156/504 E:\\University\\PythonProject\\UltralyticsPotholes\\potholes\\part2\\5xp9hplp.jpg: 384x640 12 potholess, 17.0ms\n",
      "image 157/504 E:\\University\\PythonProject\\UltralyticsPotholes\\potholes\\part2\\5y10qprj.jpg: 384x640 1 potholes, 16.0ms\n",
      "image 158/504 E:\\University\\PythonProject\\UltralyticsPotholes\\potholes\\part2\\5y3wwb0x.jpg: 448x640 1 potholes, 20.9ms\n",
      "image 159/504 E:\\University\\PythonProject\\UltralyticsPotholes\\potholes\\part2\\5y8jlwai.jpg: 384x640 (no detections), 17.0ms\n",
      "image 160/504 E:\\University\\PythonProject\\UltralyticsPotholes\\potholes\\part2\\5yq6d158.jpg: 480x640 2 potholess, 21.9ms\n",
      "image 161/504 E:\\University\\PythonProject\\UltralyticsPotholes\\potholes\\part2\\5zkn52j2.jpg: 448x640 1 potholes, 20.9ms\n",
      "image 162/504 E:\\University\\PythonProject\\UltralyticsPotholes\\potholes\\part2\\60a91dw4.jpg: 640x480 2 potholess, 21.0ms\n",
      "image 163/504 E:\\University\\PythonProject\\UltralyticsPotholes\\potholes\\part2\\60qzzqyf.jpg: 640x480 (no detections), 19.9ms\n",
      "image 164/504 E:\\University\\PythonProject\\UltralyticsPotholes\\potholes\\part2\\61c9zm0n.jpg: 448x640 1 potholes, 20.9ms\n",
      "image 165/504 E:\\University\\PythonProject\\UltralyticsPotholes\\potholes\\part2\\61ct9lkq.jpg: 416x640 2 potholess, 19.9ms\n",
      "image 166/504 E:\\University\\PythonProject\\UltralyticsPotholes\\potholes\\part2\\63fpxsjc.jpg: 448x640 2 potholess, 20.9ms\n",
      "image 167/504 E:\\University\\PythonProject\\UltralyticsPotholes\\potholes\\part2\\63vofy1w.jpg: 384x640 2 potholess, 17.0ms\n",
      "image 168/504 E:\\University\\PythonProject\\UltralyticsPotholes\\potholes\\part2\\64b8e6i9.jpg: 640x480 1 potholes, 19.9ms\n",
      "image 169/504 E:\\University\\PythonProject\\UltralyticsPotholes\\potholes\\part2\\65l8uvc8.jpg: 384x640 (no detections), 17.0ms\n",
      "image 170/504 E:\\University\\PythonProject\\UltralyticsPotholes\\potholes\\part2\\65me3y2g.jpg: 640x480 1 potholes, 19.9ms\n",
      "image 171/504 E:\\University\\PythonProject\\UltralyticsPotholes\\potholes\\part2\\65qmrev7.jpg: 480x640 2 potholess, 21.9ms\n",
      "image 172/504 E:\\University\\PythonProject\\UltralyticsPotholes\\potholes\\part2\\66hhz3b1.jpg: 480x640 1 potholes, 26.9ms\n",
      "image 173/504 E:\\University\\PythonProject\\UltralyticsPotholes\\potholes\\part2\\66u080rf.jpg: 448x640 (no detections), 21.9ms\n",
      "image 174/504 E:\\University\\PythonProject\\UltralyticsPotholes\\potholes\\part2\\67bfg3dp.jpg: 640x640 1 potholes, 23.9ms\n",
      "image 175/504 E:\\University\\PythonProject\\UltralyticsPotholes\\potholes\\part2\\67cvvnb7.jpg: 640x480 1 potholes, 19.0ms\n",
      "image 176/504 E:\\University\\PythonProject\\UltralyticsPotholes\\potholes\\part2\\67nip8uw.jpg: 448x640 5 potholess, 22.9ms\n",
      "image 177/504 E:\\University\\PythonProject\\UltralyticsPotholes\\potholes\\part2\\67rlilol.jpg: 384x640 1 potholes, 17.0ms\n",
      "image 178/504 E:\\University\\PythonProject\\UltralyticsPotholes\\potholes\\part2\\68bnxyfx.jpg: 480x640 1 potholes, 21.9ms\n",
      "image 179/504 E:\\University\\PythonProject\\UltralyticsPotholes\\potholes\\part2\\69h0w7s5.jpg: 352x640 2 potholess, 16.0ms\n",
      "image 180/504 E:\\University\\PythonProject\\UltralyticsPotholes\\potholes\\part2\\69h7ioal.jpg: 640x640 1 potholes, 23.9ms\n",
      "image 181/504 E:\\University\\PythonProject\\UltralyticsPotholes\\potholes\\part2\\69qebokj.jpg: 384x640 3 potholess, 17.0ms\n",
      "image 182/504 E:\\University\\PythonProject\\UltralyticsPotholes\\potholes\\part2\\69wijw8k.jpg: 448x640 (no detections), 22.9ms\n",
      "image 183/504 E:\\University\\PythonProject\\UltralyticsPotholes\\potholes\\part2\\69xonr0c.jpg: 640x640 2 potholess, 24.9ms\n",
      "image 184/504 E:\\University\\PythonProject\\UltralyticsPotholes\\potholes\\part2\\6a0543bo.jpg: 448x640 3 potholess, 20.9ms\n",
      "image 185/504 E:\\University\\PythonProject\\UltralyticsPotholes\\potholes\\part2\\6a4jrw62.jpg: 416x640 (no detections), 19.9ms\n",
      "image 186/504 E:\\University\\PythonProject\\UltralyticsPotholes\\potholes\\part2\\6aadsc42.jpg: 640x480 1 potholes, 19.9ms\n",
      "image 187/504 E:\\University\\PythonProject\\UltralyticsPotholes\\potholes\\part2\\6ao21kst.jpg: 448x640 2 potholess, 21.9ms\n",
      "image 188/504 E:\\University\\PythonProject\\UltralyticsPotholes\\potholes\\part2\\6asfylu2.jpg: 384x640 2 potholess, 17.0ms\n",
      "image 189/504 E:\\University\\PythonProject\\UltralyticsPotholes\\potholes\\part2\\6b0lk4f0.jpg: 352x640 1 potholes, 17.0ms\n",
      "image 190/504 E:\\University\\PythonProject\\UltralyticsPotholes\\potholes\\part2\\6b15t7u3.jpg: 384x640 (no detections), 16.0ms\n",
      "image 191/504 E:\\University\\PythonProject\\UltralyticsPotholes\\potholes\\part2\\6bicd9g4.jpg: 640x640 2 potholess, 24.9ms\n",
      "image 192/504 E:\\University\\PythonProject\\UltralyticsPotholes\\potholes\\part2\\6blto1xw.jpg: 448x640 1 potholes, 20.9ms\n",
      "image 193/504 E:\\University\\PythonProject\\UltralyticsPotholes\\potholes\\part2\\6c4sbsuw.jpg: 640x640 2 potholess, 23.9ms\n",
      "image 194/504 E:\\University\\PythonProject\\UltralyticsPotholes\\potholes\\part2\\6clf5qkv.jpg: 384x640 1 potholes, 17.0ms\n",
      "image 195/504 E:\\University\\PythonProject\\UltralyticsPotholes\\potholes\\part2\\6coveq19.jpg: 384x640 2 potholess, 17.1ms\n",
      "image 196/504 E:\\University\\PythonProject\\UltralyticsPotholes\\potholes\\part2\\6cq8mlbp.jpg: 416x640 (no detections), 20.9ms\n",
      "image 197/504 E:\\University\\PythonProject\\UltralyticsPotholes\\potholes\\part2\\6ctthgmf.jpg: 384x640 (no detections), 17.0ms\n",
      "image 198/504 E:\\University\\PythonProject\\UltralyticsPotholes\\potholes\\part2\\6dn3f3uh.jpg: 384x640 2 potholess, 16.0ms\n",
      "image 199/504 E:\\University\\PythonProject\\UltralyticsPotholes\\potholes\\part2\\6ds5o84l.jpg: 640x512 1 potholes, 20.9ms\n",
      "image 200/504 E:\\University\\PythonProject\\UltralyticsPotholes\\potholes\\part2\\6dvlkhbd.jpg: 480x640 1 potholes, 20.9ms\n",
      "image 201/504 E:\\University\\PythonProject\\UltralyticsPotholes\\potholes\\part2\\6e6om6rb.jpg: 352x640 (no detections), 16.0ms\n",
      "image 202/504 E:\\University\\PythonProject\\UltralyticsPotholes\\potholes\\part2\\6e9cbd7p.jpg: 544x640 2 potholess, 21.9ms\n",
      "image 203/504 E:\\University\\PythonProject\\UltralyticsPotholes\\potholes\\part2\\6ethi8rq.jpg: 448x640 (no detections), 21.9ms\n",
      "image 204/504 E:\\University\\PythonProject\\UltralyticsPotholes\\potholes\\part2\\6ewtthab.jpg: 384x640 4 potholess, 17.0ms\n",
      "image 205/504 E:\\University\\PythonProject\\UltralyticsPotholes\\potholes\\part2\\6ezitpwp.jpg: 384x640 (no detections), 16.0ms\n",
      "image 206/504 E:\\University\\PythonProject\\UltralyticsPotholes\\potholes\\part2\\6f3ujemp.jpg: 448x640 (no detections), 20.9ms\n",
      "image 207/504 E:\\University\\PythonProject\\UltralyticsPotholes\\potholes\\part2\\6fah9o7u.jpg: 416x640 1 potholes, 21.9ms\n",
      "image 208/504 E:\\University\\PythonProject\\UltralyticsPotholes\\potholes\\part2\\6fpixgih.jpg: 384x640 2 potholess, 18.0ms\n",
      "image 209/504 E:\\University\\PythonProject\\UltralyticsPotholes\\potholes\\part2\\6fv5sqti.jpg: 640x480 3 potholess, 18.9ms\n",
      "image 210/504 E:\\University\\PythonProject\\UltralyticsPotholes\\potholes\\part2\\6g6fvnmu.jpg: 640x384 (no detections), 16.0ms\n",
      "image 211/504 E:\\University\\PythonProject\\UltralyticsPotholes\\potholes\\part2\\6gnr4brx.jpg: 384x640 2 potholess, 16.0ms\n",
      "image 212/504 E:\\University\\PythonProject\\UltralyticsPotholes\\potholes\\part2\\6hakdj7h.jpg: 352x640 1 potholes, 16.0ms\n",
      "image 213/504 E:\\University\\PythonProject\\UltralyticsPotholes\\potholes\\part2\\6ibj1whc.jpg: 640x480 1 potholes, 20.9ms\n",
      "image 214/504 E:\\University\\PythonProject\\UltralyticsPotholes\\potholes\\part2\\6idytcjs.jpg: 448x640 2 potholess, 21.9ms\n",
      "image 215/504 E:\\University\\PythonProject\\UltralyticsPotholes\\potholes\\part2\\6igjky34.jpg: 448x640 3 potholess, 20.9ms\n",
      "image 216/504 E:\\University\\PythonProject\\UltralyticsPotholes\\potholes\\part2\\6jnb14ck.jpg: 480x640 1 potholes, 21.9ms\n",
      "image 217/504 E:\\University\\PythonProject\\UltralyticsPotholes\\potholes\\part2\\6jqk12cg.jpg: 640x480 3 potholess, 19.9ms\n",
      "image 218/504 E:\\University\\PythonProject\\UltralyticsPotholes\\potholes\\part2\\6jvx3rce.jpg: 640x480 3 potholess, 18.9ms\n",
      "image 219/504 E:\\University\\PythonProject\\UltralyticsPotholes\\potholes\\part2\\6k6ivegw.jpg: 480x640 2 potholess, 20.9ms\n",
      "image 220/504 E:\\University\\PythonProject\\UltralyticsPotholes\\potholes\\part2\\6kb9sqd6.jpg: 320x640 3 potholess, 15.0ms\n",
      "image 221/504 E:\\University\\PythonProject\\UltralyticsPotholes\\potholes\\part2\\6lwds1q2.jpg: 448x640 3 potholess, 19.9ms\n",
      "image 222/504 E:\\University\\PythonProject\\UltralyticsPotholes\\potholes\\part2\\6mc1tkmj.jpg: 640x640 1 potholes, 22.9ms\n",
      "image 223/504 E:\\University\\PythonProject\\UltralyticsPotholes\\potholes\\part2\\6mdxugk8.jpg: 480x640 3 potholess, 21.9ms\n",
      "image 224/504 E:\\University\\PythonProject\\UltralyticsPotholes\\potholes\\part2\\6mwadu3g.jpg: 352x640 (no detections), 16.0ms\n",
      "image 225/504 E:\\University\\PythonProject\\UltralyticsPotholes\\potholes\\part2\\6n9fj5mq.jpg: 480x640 8 potholess, 21.9ms\n",
      "image 226/504 E:\\University\\PythonProject\\UltralyticsPotholes\\potholes\\part2\\6ncyjnhy.jpg: 448x640 2 potholess, 20.9ms\n",
      "image 227/504 E:\\University\\PythonProject\\UltralyticsPotholes\\potholes\\part2\\6nga14t8.jpg: 448x640 4 potholess, 20.9ms\n",
      "image 228/504 E:\\University\\PythonProject\\UltralyticsPotholes\\potholes\\part2\\6oparxh2.jpg: 480x640 21 potholess, 22.9ms\n",
      "image 229/504 E:\\University\\PythonProject\\UltralyticsPotholes\\potholes\\part2\\6p248v41.jpg: 640x640 1 potholes, 23.9ms\n",
      "image 230/504 E:\\University\\PythonProject\\UltralyticsPotholes\\potholes\\part2\\6p902udt.jpg: 352x640 1 potholes, 16.0ms\n",
      "image 231/504 E:\\University\\PythonProject\\UltralyticsPotholes\\potholes\\part2\\6prm47nj.jpg: 384x640 2 potholess, 16.0ms\n",
      "image 232/504 E:\\University\\PythonProject\\UltralyticsPotholes\\potholes\\part2\\6ptqbg4t.jpg: 448x640 (no detections), 20.9ms\n",
      "image 233/504 E:\\University\\PythonProject\\UltralyticsPotholes\\potholes\\part2\\6pu1gq2y.jpg: 480x640 1 potholes, 20.9ms\n",
      "image 234/504 E:\\University\\PythonProject\\UltralyticsPotholes\\potholes\\part2\\6q6su08a.jpg: 640x640 1 potholes, 23.9ms\n",
      "image 235/504 E:\\University\\PythonProject\\UltralyticsPotholes\\potholes\\part2\\6qe1ykey.jpg: 416x640 (no detections), 19.9ms\n",
      "image 236/504 E:\\University\\PythonProject\\UltralyticsPotholes\\potholes\\part2\\6qk5de01.jpg: 384x640 (no detections), 16.0ms\n",
      "image 237/504 E:\\University\\PythonProject\\UltralyticsPotholes\\potholes\\part2\\6qta9629.jpg: 480x640 1 potholes, 22.9ms\n",
      "image 238/504 E:\\University\\PythonProject\\UltralyticsPotholes\\potholes\\part2\\6r22ngfw.jpg: 640x640 2 potholess, 23.9ms\n",
      "image 239/504 E:\\University\\PythonProject\\UltralyticsPotholes\\potholes\\part2\\6rfxfcsm.jpg: 640x640 (no detections), 23.9ms\n",
      "image 240/504 E:\\University\\PythonProject\\UltralyticsPotholes\\potholes\\part2\\6roinquk.jpg: 448x640 1 potholes, 20.9ms\n",
      "image 241/504 E:\\University\\PythonProject\\UltralyticsPotholes\\potholes\\part2\\6rvcch0t.jpg: 640x640 (no detections), 23.9ms\n",
      "image 242/504 E:\\University\\PythonProject\\UltralyticsPotholes\\potholes\\part2\\6sfj7hat.jpg: 640x640 1 potholes, 21.9ms\n",
      "image 243/504 E:\\University\\PythonProject\\UltralyticsPotholes\\potholes\\part2\\6si542cs.jpg: 480x640 3 potholess, 21.9ms\n",
      "image 244/504 E:\\University\\PythonProject\\UltralyticsPotholes\\potholes\\part2\\6soaeipz.jpg: 384x640 4 potholess, 17.0ms\n",
      "image 245/504 E:\\University\\PythonProject\\UltralyticsPotholes\\potholes\\part2\\6te6woxi.jpg: 480x640 (no detections), 21.9ms\n",
      "image 246/504 E:\\University\\PythonProject\\UltralyticsPotholes\\potholes\\part2\\6uc4s3k9.jpg: 448x640 1 potholes, 21.9ms\n",
      "image 247/504 E:\\University\\PythonProject\\UltralyticsPotholes\\potholes\\part2\\6upfvlp2.jpg: 384x640 (no detections), 18.0ms\n",
      "image 248/504 E:\\University\\PythonProject\\UltralyticsPotholes\\potholes\\part2\\6uu31zx7.jpg: 480x640 2 potholess, 21.9ms\n",
      "image 249/504 E:\\University\\PythonProject\\UltralyticsPotholes\\potholes\\part2\\6v6ubu81.jpg: 320x640 2 potholess, 14.9ms\n",
      "image 250/504 E:\\University\\PythonProject\\UltralyticsPotholes\\potholes\\part2\\6vp3bcbl.jpg: 640x480 1 potholes, 18.9ms\n",
      "image 251/504 E:\\University\\PythonProject\\UltralyticsPotholes\\potholes\\part2\\6wee9ikn.jpg: 448x640 1 potholes, 20.0ms\n",
      "image 252/504 E:\\University\\PythonProject\\UltralyticsPotholes\\potholes\\part2\\6wk9rdkj.jpg: 416x640 3 potholess, 19.9ms\n",
      "image 253/504 E:\\University\\PythonProject\\UltralyticsPotholes\\potholes\\part2\\6wmbaalo.jpg: 640x640 1 potholes, 24.9ms\n",
      "image 254/504 E:\\University\\PythonProject\\UltralyticsPotholes\\potholes\\part2\\6x4gvaql.jpg: 640x640 (no detections), 22.9ms\n",
      "image 255/504 E:\\University\\PythonProject\\UltralyticsPotholes\\potholes\\part2\\6xlfwv5a.jpg: 480x640 2 potholess, 22.9ms\n",
      "image 256/504 E:\\University\\PythonProject\\UltralyticsPotholes\\potholes\\part2\\6xms35og.jpg: 448x640 (no detections), 21.9ms\n",
      "image 257/504 E:\\University\\PythonProject\\UltralyticsPotholes\\potholes\\part2\\6xrtpzso.jpg: 448x640 2 potholess, 20.9ms\n",
      "image 258/504 E:\\University\\PythonProject\\UltralyticsPotholes\\potholes\\part2\\6xut0vbq.jpg: 448x640 3 potholess, 19.9ms\n",
      "image 259/504 E:\\University\\PythonProject\\UltralyticsPotholes\\potholes\\part2\\6xxog1rm.jpg: 320x640 9 potholess, 15.0ms\n",
      "image 260/504 E:\\University\\PythonProject\\UltralyticsPotholes\\potholes\\part2\\6yiludoy.jpg: 320x640 (no detections), 16.0ms\n",
      "image 261/504 E:\\University\\PythonProject\\UltralyticsPotholes\\potholes\\part2\\6zdm8mzo.jpg: 448x640 1 potholes, 20.9ms\n",
      "image 262/504 E:\\University\\PythonProject\\UltralyticsPotholes\\potholes\\part2\\6zqt95m1.jpg: 416x640 2 potholess, 19.9ms\n",
      "image 263/504 E:\\University\\PythonProject\\UltralyticsPotholes\\potholes\\part2\\6zwlpbu5.jpg: 512x640 2 potholess, 20.9ms\n",
      "image 264/504 E:\\University\\PythonProject\\UltralyticsPotholes\\potholes\\part2\\71cvb7s0.jpg: 640x480 4 potholess, 18.0ms\n",
      "image 265/504 E:\\University\\PythonProject\\UltralyticsPotholes\\potholes\\part2\\71rtecy5.jpg: 640x640 2 potholess, 23.9ms\n",
      "image 266/504 E:\\University\\PythonProject\\UltralyticsPotholes\\potholes\\part2\\71umehj4.jpg: 480x640 4 potholess, 22.9ms\n",
      "image 267/504 E:\\University\\PythonProject\\UltralyticsPotholes\\potholes\\part2\\72qiyixr.jpg: 320x640 2 potholess, 15.0ms\n",
      "image 268/504 E:\\University\\PythonProject\\UltralyticsPotholes\\potholes\\part2\\72sdctho.jpg: 480x640 3 potholess, 20.9ms\n",
      "image 269/504 E:\\University\\PythonProject\\UltralyticsPotholes\\potholes\\part2\\73hdy8xg.jpg: 480x640 2 potholess, 19.9ms\n",
      "image 270/504 E:\\University\\PythonProject\\UltralyticsPotholes\\potholes\\part2\\73jtydbp.jpg: 512x640 2 potholess, 21.9ms\n",
      "image 271/504 E:\\University\\PythonProject\\UltralyticsPotholes\\potholes\\part2\\73lu0ycx.jpg: 640x640 1 potholes, 24.9ms\n",
      "image 272/504 E:\\University\\PythonProject\\UltralyticsPotholes\\potholes\\part2\\73rn3lak.jpg: 384x640 1 potholes, 16.0ms\n",
      "image 273/504 E:\\University\\PythonProject\\UltralyticsPotholes\\potholes\\part2\\74d3aspn.jpg: 384x640 2 potholess, 15.0ms\n",
      "image 274/504 E:\\University\\PythonProject\\UltralyticsPotholes\\potholes\\part2\\74kfqpjo.jpg: 640x480 3 potholess, 18.9ms\n",
      "image 275/504 E:\\University\\PythonProject\\UltralyticsPotholes\\potholes\\part2\\75jfxe0i.jpg: 448x640 5 potholess, 19.9ms\n",
      "image 276/504 E:\\University\\PythonProject\\UltralyticsPotholes\\potholes\\part2\\75k1ub7u.jpg: 640x640 2 potholess, 23.9ms\n",
      "image 277/504 E:\\University\\PythonProject\\UltralyticsPotholes\\potholes\\part2\\75ta376s.jpg: 416x640 2 potholess, 19.9ms\n",
      "image 278/504 E:\\University\\PythonProject\\UltralyticsPotholes\\potholes\\part2\\75u1l6rx.jpg: 640x640 2 potholess, 23.9ms\n",
      "image 279/504 E:\\University\\PythonProject\\UltralyticsPotholes\\potholes\\part2\\76i8gmyd.jpg: 480x640 1 potholes, 20.9ms\n",
      "image 280/504 E:\\University\\PythonProject\\UltralyticsPotholes\\potholes\\part2\\77ew3rjl.jpg: 384x640 2 potholess, 16.0ms\n",
      "image 281/504 E:\\University\\PythonProject\\UltralyticsPotholes\\potholes\\part2\\77jb5i3d.jpg: 384x640 1 potholes, 16.0ms\n",
      "image 282/504 E:\\University\\PythonProject\\UltralyticsPotholes\\potholes\\part2\\77tp2mp4.jpg: 448x640 1 potholes, 22.9ms\n",
      "image 283/504 E:\\University\\PythonProject\\UltralyticsPotholes\\potholes\\part2\\77u8h4cg.jpg: 640x640 1 potholes, 23.9ms\n",
      "image 284/504 E:\\University\\PythonProject\\UltralyticsPotholes\\potholes\\part2\\77zpxv3n.jpg: 480x640 (no detections), 21.9ms\n",
      "image 285/504 E:\\University\\PythonProject\\UltralyticsPotholes\\potholes\\part2\\78piwtop.jpg: 320x640 (no detections), 17.0ms\n",
      "image 286/504 E:\\University\\PythonProject\\UltralyticsPotholes\\potholes\\part2\\79iiqaud.jpg: 384x640 1 potholes, 17.0ms\n",
      "image 287/504 E:\\University\\PythonProject\\UltralyticsPotholes\\potholes\\part2\\79oy77qp.jpg: 640x640 2 potholess, 22.9ms\n",
      "image 288/504 E:\\University\\PythonProject\\UltralyticsPotholes\\potholes\\part2\\79wfbg0k.jpg: 384x640 2 potholess, 17.0ms\n",
      "image 289/504 E:\\University\\PythonProject\\UltralyticsPotholes\\potholes\\part2\\7adfp347.jpg: 384x640 2 potholess, 15.0ms\n",
      "image 290/504 E:\\University\\PythonProject\\UltralyticsPotholes\\potholes\\part2\\7afkypct.jpg: 384x640 (no detections), 17.0ms\n",
      "image 291/504 E:\\University\\PythonProject\\UltralyticsPotholes\\potholes\\part2\\7av27j7m.jpg: 480x640 (no detections), 21.9ms\n",
      "image 292/504 E:\\University\\PythonProject\\UltralyticsPotholes\\potholes\\part2\\7bggjhwz.jpg: 384x640 10 potholess, 17.0ms\n",
      "image 293/504 E:\\University\\PythonProject\\UltralyticsPotholes\\potholes\\part2\\7bnpnskp.jpg: 480x640 2 potholess, 21.9ms\n",
      "image 294/504 E:\\University\\PythonProject\\UltralyticsPotholes\\potholes\\part2\\7bttwwqs.jpg: 416x640 (no detections), 19.9ms\n",
      "image 295/504 E:\\University\\PythonProject\\UltralyticsPotholes\\potholes\\part2\\7c6yhprg.jpg: 384x640 2 potholess, 17.0ms\n",
      "image 296/504 E:\\University\\PythonProject\\UltralyticsPotholes\\potholes\\part2\\7djmrf4o.jpg: 448x640 5 potholess, 19.9ms\n",
      "image 297/504 E:\\University\\PythonProject\\UltralyticsPotholes\\potholes\\part2\\7dlbpnwy.jpg: 480x640 (no detections), 22.9ms\n",
      "image 298/504 E:\\University\\PythonProject\\UltralyticsPotholes\\potholes\\part2\\7e9vf2v4.jpg: 448x640 6 potholess, 21.9ms\n",
      "image 299/504 E:\\University\\PythonProject\\UltralyticsPotholes\\potholes\\part2\\7ej7vylf.jpg: 480x640 1 potholes, 22.9ms\n",
      "image 300/504 E:\\University\\PythonProject\\UltralyticsPotholes\\potholes\\part2\\7entpno3.jpg: 384x640 3 potholess, 16.0ms\n",
      "image 301/504 E:\\University\\PythonProject\\UltralyticsPotholes\\potholes\\part2\\7f0e7hgq.jpg: 448x640 2 potholess, 19.9ms\n",
      "image 302/504 E:\\University\\PythonProject\\UltralyticsPotholes\\potholes\\part2\\7foskx88.jpg: 384x640 2 potholess, 17.0ms\n",
      "image 303/504 E:\\University\\PythonProject\\UltralyticsPotholes\\potholes\\part2\\7fsdz383.jpg: 448x640 2 potholess, 21.9ms\n",
      "image 304/504 E:\\University\\PythonProject\\UltralyticsPotholes\\potholes\\part2\\7gaapl5v.jpg: 448x640 (no detections), 19.9ms\n",
      "image 305/504 E:\\University\\PythonProject\\UltralyticsPotholes\\potholes\\part2\\7gip7lwn.jpg: 352x640 2 potholess, 17.0ms\n",
      "image 306/504 E:\\University\\PythonProject\\UltralyticsPotholes\\potholes\\part2\\7gkv6m4c.jpg: 640x640 2 potholess, 23.9ms\n",
      "image 307/504 E:\\University\\PythonProject\\UltralyticsPotholes\\potholes\\part2\\7hqf24ta.jpg: 448x640 2 potholess, 20.9ms\n",
      "image 308/504 E:\\University\\PythonProject\\UltralyticsPotholes\\potholes\\part2\\7hre8eb9.jpg: 480x640 4 potholess, 21.9ms\n",
      "image 309/504 E:\\University\\PythonProject\\UltralyticsPotholes\\potholes\\part2\\7hysby1x.jpg: 544x640 2 potholess, 21.9ms\n",
      "image 310/504 E:\\University\\PythonProject\\UltralyticsPotholes\\potholes\\part2\\7ibyczoe.jpg: 480x640 5 potholess, 22.9ms\n",
      "image 311/504 E:\\University\\PythonProject\\UltralyticsPotholes\\potholes\\part2\\7jtapiy9.jpg: 384x640 (no detections), 17.0ms\n",
      "image 312/504 E:\\University\\PythonProject\\UltralyticsPotholes\\potholes\\part2\\7jwo8khx.jpg: 640x640 2 potholess, 24.9ms\n",
      "image 313/504 E:\\University\\PythonProject\\UltralyticsPotholes\\potholes\\part2\\7k07vn08.jpg: 640x480 2 potholess, 18.9ms\n",
      "image 314/504 E:\\University\\PythonProject\\UltralyticsPotholes\\potholes\\part2\\7l7vx11a.jpg: 640x640 1 potholes, 23.9ms\n",
      "image 315/504 E:\\University\\PythonProject\\UltralyticsPotholes\\potholes\\part2\\7lzgz084.jpg: 448x640 1 potholes, 19.9ms\n",
      "image 316/504 E:\\University\\PythonProject\\UltralyticsPotholes\\potholes\\part2\\7mt53os7.jpg: 384x640 2 potholess, 17.0ms\n",
      "image 317/504 E:\\University\\PythonProject\\UltralyticsPotholes\\potholes\\part2\\7my5tn8f.jpg: 640x480 (no detections), 19.9ms\n",
      "image 318/504 E:\\University\\PythonProject\\UltralyticsPotholes\\potholes\\part2\\7namgo2h.jpg: 448x640 3 potholess, 20.9ms\n",
      "image 319/504 E:\\University\\PythonProject\\UltralyticsPotholes\\potholes\\part2\\7nibjmm7.jpg: 480x640 1 potholes, 20.9ms\n",
      "image 320/504 E:\\University\\PythonProject\\UltralyticsPotholes\\potholes\\part2\\7nmc7mtr.jpg: 640x640 (no detections), 23.9ms\n",
      "image 321/504 E:\\University\\PythonProject\\UltralyticsPotholes\\potholes\\part2\\7ntw56di.jpg: 640x640 (no detections), 22.9ms\n",
      "image 322/504 E:\\University\\PythonProject\\UltralyticsPotholes\\potholes\\part2\\7nuvhjin.jpg: 448x640 (no detections), 21.9ms\n",
      "image 323/504 E:\\University\\PythonProject\\UltralyticsPotholes\\potholes\\part2\\7nwk0j0x.jpg: 640x480 (no detections), 19.8ms\n",
      "image 324/504 E:\\University\\PythonProject\\UltralyticsPotholes\\potholes\\part2\\7nz1pkf3.jpg: 448x640 2 potholess, 20.9ms\n",
      "image 325/504 E:\\University\\PythonProject\\UltralyticsPotholes\\potholes\\part2\\7od5qlrd.jpg: 480x640 (no detections), 21.9ms\n",
      "image 326/504 E:\\University\\PythonProject\\UltralyticsPotholes\\potholes\\part2\\7ogh0f1k.jpg: 448x640 3 potholess, 21.9ms\n",
      "image 327/504 E:\\University\\PythonProject\\UltralyticsPotholes\\potholes\\part2\\7ombddum.jpg: 384x640 2 potholess, 16.0ms\n",
      "image 328/504 E:\\University\\PythonProject\\UltralyticsPotholes\\potholes\\part2\\7oonsrq9.jpg: 448x640 2 potholess, 21.9ms\n",
      "image 329/504 E:\\University\\PythonProject\\UltralyticsPotholes\\potholes\\part2\\7p3xazp5.jpg: 448x640 1 potholes, 20.9ms\n",
      "image 330/504 E:\\University\\PythonProject\\UltralyticsPotholes\\potholes\\part2\\7pky5uvn.jpg: 480x640 (no detections), 22.9ms\n",
      "image 331/504 E:\\University\\PythonProject\\UltralyticsPotholes\\potholes\\part2\\7pwi2yok.jpg: 480x640 4 potholess, 20.9ms\n",
      "image 332/504 E:\\University\\PythonProject\\UltralyticsPotholes\\potholes\\part2\\7q1r4v9e.jpg: 448x640 1 potholes, 21.9ms\n",
      "image 333/504 E:\\University\\PythonProject\\UltralyticsPotholes\\potholes\\part2\\7qfa0r0e.jpg: 224x640 3 potholess, 91.8ms\n",
      "image 334/504 E:\\University\\PythonProject\\UltralyticsPotholes\\potholes\\part2\\7rlgs6eq.jpg: 480x640 3 potholess, 22.9ms\n",
      "image 335/504 E:\\University\\PythonProject\\UltralyticsPotholes\\potholes\\part2\\7s4s14s0.jpg: 384x640 (no detections), 17.0ms\n",
      "image 336/504 E:\\University\\PythonProject\\UltralyticsPotholes\\potholes\\part2\\7sontm3d.jpg: 416x640 1 potholes, 20.9ms\n",
      "image 337/504 E:\\University\\PythonProject\\UltralyticsPotholes\\potholes\\part2\\7spt3dzi.jpg: 640x640 2 potholess, 24.9ms\n",
      "image 338/504 E:\\University\\PythonProject\\UltralyticsPotholes\\potholes\\part2\\7t9g0dm0.jpg: 544x640 (no detections), 21.9ms\n",
      "image 339/504 E:\\University\\PythonProject\\UltralyticsPotholes\\potholes\\part2\\7tv84pza.jpg: 384x640 (no detections), 17.0ms\n",
      "image 340/504 E:\\University\\PythonProject\\UltralyticsPotholes\\potholes\\part2\\7tvn7no2.jpg: 448x640 2 potholess, 20.9ms\n",
      "image 341/504 E:\\University\\PythonProject\\UltralyticsPotholes\\potholes\\part2\\7u41itfy.jpg: 416x640 1 potholes, 19.9ms\n",
      "image 342/504 E:\\University\\PythonProject\\UltralyticsPotholes\\potholes\\part2\\7u8u7rym.jpg: 448x640 (no detections), 20.9ms\n",
      "image 343/504 E:\\University\\PythonProject\\UltralyticsPotholes\\potholes\\part2\\7udlfw0d.jpg: 480x640 4 potholess, 22.9ms\n",
      "image 344/504 E:\\University\\PythonProject\\UltralyticsPotholes\\potholes\\part2\\7uj4qn5t.jpg: 480x640 6 potholess, 20.9ms\n",
      "image 345/504 E:\\University\\PythonProject\\UltralyticsPotholes\\potholes\\part2\\7ur6u58d.jpg: 480x640 (no detections), 20.9ms\n",
      "image 346/504 E:\\University\\PythonProject\\UltralyticsPotholes\\potholes\\part2\\7valknaw.jpg: 640x640 (no detections), 23.9ms\n",
      "image 347/504 E:\\University\\PythonProject\\UltralyticsPotholes\\potholes\\part2\\7vph6ovg.jpg: 448x640 2 potholess, 20.9ms\n",
      "image 348/504 E:\\University\\PythonProject\\UltralyticsPotholes\\potholes\\part2\\7w7i2ie4.jpg: 448x640 2 potholess, 20.9ms\n",
      "image 349/504 E:\\University\\PythonProject\\UltralyticsPotholes\\potholes\\part2\\7wbpfqc5.jpg: 384x640 11 potholess, 16.0ms\n",
      "image 350/504 E:\\University\\PythonProject\\UltralyticsPotholes\\potholes\\part2\\7wj5imnp.jpg: 640x480 5 potholess, 19.9ms\n",
      "image 351/504 E:\\University\\PythonProject\\UltralyticsPotholes\\potholes\\part2\\7wk99kq4.jpg: 480x640 1 potholes, 21.9ms\n",
      "image 352/504 E:\\University\\PythonProject\\UltralyticsPotholes\\potholes\\part2\\7wy9sj8h.jpg: 352x640 1 potholes, 16.0ms\n",
      "image 353/504 E:\\University\\PythonProject\\UltralyticsPotholes\\potholes\\part2\\7xc1g23k.jpg: 384x640 2 potholess, 17.0ms\n",
      "image 354/504 E:\\University\\PythonProject\\UltralyticsPotholes\\potholes\\part2\\7xma7t3r.jpg: 640x480 (no detections), 19.9ms\n",
      "image 355/504 E:\\University\\PythonProject\\UltralyticsPotholes\\potholes\\part2\\7y6oju94.jpg: 448x640 13 potholess, 20.9ms\n",
      "image 356/504 E:\\University\\PythonProject\\UltralyticsPotholes\\potholes\\part2\\7y8tjsyx.jpg: 384x640 1 potholes, 16.0ms\n",
      "image 357/504 E:\\University\\PythonProject\\UltralyticsPotholes\\potholes\\part2\\7yh9px6a.jpg: 352x640 4 potholess, 17.0ms\n",
      "image 358/504 E:\\University\\PythonProject\\UltralyticsPotholes\\potholes\\part2\\7ykvyh1a.jpg: 640x640 1 potholes, 22.9ms\n",
      "image 359/504 E:\\University\\PythonProject\\UltralyticsPotholes\\potholes\\part2\\7zh4tn3v.jpg: 448x640 1 potholes, 20.9ms\n",
      "image 360/504 E:\\University\\PythonProject\\UltralyticsPotholes\\potholes\\part2\\7znp4w3r.jpg: 416x640 2 potholess, 20.9ms\n",
      "image 361/504 E:\\University\\PythonProject\\UltralyticsPotholes\\potholes\\part2\\7zp8pty6.jpg: 352x640 2 potholess, 17.0ms\n",
      "image 362/504 E:\\University\\PythonProject\\UltralyticsPotholes\\potholes\\part2\\80h9adqy.jpg: 384x640 2 potholess, 16.0ms\n",
      "image 363/504 E:\\University\\PythonProject\\UltralyticsPotholes\\potholes\\part2\\80rl9mn3.jpg: 416x640 3 potholess, 20.9ms\n",
      "image 364/504 E:\\University\\PythonProject\\UltralyticsPotholes\\potholes\\part2\\80zs5yju.jpg: 448x640 3 potholess, 20.9ms\n",
      "image 365/504 E:\\University\\PythonProject\\UltralyticsPotholes\\potholes\\part2\\81a4khf3.jpg: 384x640 4 potholess, 17.0ms\n",
      "image 366/504 E:\\University\\PythonProject\\UltralyticsPotholes\\potholes\\part2\\8ak27ayp.jpg: 384x640 1 potholes, 15.0ms\n",
      "image 367/504 E:\\University\\PythonProject\\UltralyticsPotholes\\potholes\\part2\\8al77bnz.jpg: 384x640 15 potholess, 16.0ms\n",
      "image 368/504 E:\\University\\PythonProject\\UltralyticsPotholes\\potholes\\part2\\8b56uia6.jpg: 384x640 4 potholess, 16.0ms\n",
      "image 369/504 E:\\University\\PythonProject\\UltralyticsPotholes\\potholes\\part2\\8bh0onzy.jpg: 352x640 (no detections), 16.0ms\n",
      "image 370/504 E:\\University\\PythonProject\\UltralyticsPotholes\\potholes\\part2\\8buipm93.jpg: 448x640 2 potholess, 22.9ms\n",
      "image 371/504 E:\\University\\PythonProject\\UltralyticsPotholes\\potholes\\part2\\8bwzlb7w.jpg: 384x640 (no detections), 17.0ms\n",
      "image 372/504 E:\\University\\PythonProject\\UltralyticsPotholes\\potholes\\part2\\8c0j356l.jpg: 640x640 3 potholess, 23.9ms\n",
      "image 373/504 E:\\University\\PythonProject\\UltralyticsPotholes\\potholes\\part2\\8c48juxo.jpg: 448x640 1 potholes, 20.9ms\n",
      "image 374/504 E:\\University\\PythonProject\\UltralyticsPotholes\\potholes\\part2\\8c49n48i.jpg: 480x640 (no detections), 21.9ms\n",
      "image 375/504 E:\\University\\PythonProject\\UltralyticsPotholes\\potholes\\part2\\8cx9ahmx.jpg: 352x640 1 potholes, 16.0ms\n",
      "image 376/504 E:\\University\\PythonProject\\UltralyticsPotholes\\potholes\\part2\\8d8f1aj9.jpg: 640x480 (no detections), 19.9ms\n",
      "image 377/504 E:\\University\\PythonProject\\UltralyticsPotholes\\potholes\\part2\\8dnyd5iz.jpg: 480x640 3 potholess, 24.9ms\n",
      "image 378/504 E:\\University\\PythonProject\\UltralyticsPotholes\\potholes\\part2\\8e95zp8t.jpg: 384x640 1 potholes, 17.0ms\n",
      "image 379/504 E:\\University\\PythonProject\\UltralyticsPotholes\\potholes\\part2\\8emrlx0s.jpg: 480x640 2 potholess, 21.9ms\n",
      "image 380/504 E:\\University\\PythonProject\\UltralyticsPotholes\\potholes\\part2\\8f382zmi.jpg: 448x640 (no detections), 19.9ms\n",
      "image 381/504 E:\\University\\PythonProject\\UltralyticsPotholes\\potholes\\part2\\8f5bsphp.jpg: 384x640 1 potholes, 17.0ms\n",
      "image 382/504 E:\\University\\PythonProject\\UltralyticsPotholes\\potholes\\part2\\8f5swau1.jpg: 448x640 2 potholess, 21.9ms\n",
      "image 383/504 E:\\University\\PythonProject\\UltralyticsPotholes\\potholes\\part2\\8f6a522i.jpg: 480x640 (no detections), 21.9ms\n",
      "image 384/504 E:\\University\\PythonProject\\UltralyticsPotholes\\potholes\\part2\\8fjtudt3.jpg: 480x640 3 potholess, 20.9ms\n",
      "image 385/504 E:\\University\\PythonProject\\UltralyticsPotholes\\potholes\\part2\\8g311nec.jpg: 640x640 (no detections), 24.9ms\n",
      "image 386/504 E:\\University\\PythonProject\\UltralyticsPotholes\\potholes\\part2\\8gg6zjth.jpg: 480x640 3 potholess, 21.9ms\n",
      "image 387/504 E:\\University\\PythonProject\\UltralyticsPotholes\\potholes\\part2\\8gmfll7m.jpg: 640x480 6 potholess, 19.9ms\n",
      "image 388/504 E:\\University\\PythonProject\\UltralyticsPotholes\\potholes\\part2\\8gzb0k8y.jpg: 416x640 (no detections), 20.9ms\n",
      "image 389/504 E:\\University\\PythonProject\\UltralyticsPotholes\\potholes\\part2\\8h2kplxm.jpg: 448x640 1 potholes, 21.9ms\n",
      "image 390/504 E:\\University\\PythonProject\\UltralyticsPotholes\\potholes\\part2\\8h3mj57u.jpg: 384x640 1 potholes, 16.0ms\n",
      "image 391/504 E:\\University\\PythonProject\\UltralyticsPotholes\\potholes\\part2\\8h5m0hfk.jpg: 448x640 5 potholess, 19.9ms\n",
      "image 392/504 E:\\University\\PythonProject\\UltralyticsPotholes\\potholes\\part2\\8hd3s2sn.jpg: 640x640 1 potholes, 23.9ms\n",
      "image 393/504 E:\\University\\PythonProject\\UltralyticsPotholes\\potholes\\part2\\8hvst2pa.jpg: 640x640 6 potholess, 22.9ms\n",
      "image 394/504 E:\\University\\PythonProject\\UltralyticsPotholes\\potholes\\part2\\8iep4qmc.jpg: 384x640 2 potholess, 19.0ms\n",
      "image 395/504 E:\\University\\PythonProject\\UltralyticsPotholes\\potholes\\part2\\8ifda5yh.jpg: 384x640 1 potholes, 16.0ms\n",
      "image 396/504 E:\\University\\PythonProject\\UltralyticsPotholes\\potholes\\part2\\8ih7avy9.jpg: 512x640 (no detections), 21.9ms\n",
      "image 397/504 E:\\University\\PythonProject\\UltralyticsPotholes\\potholes\\part2\\8iians93.jpg: 384x640 3 potholess, 17.0ms\n",
      "image 398/504 E:\\University\\PythonProject\\UltralyticsPotholes\\potholes\\part2\\8jba55ei.jpg: 448x640 8 potholess, 20.9ms\n",
      "image 399/504 E:\\University\\PythonProject\\UltralyticsPotholes\\potholes\\part2\\8jj0p7x1.jpg: 384x640 11 potholess, 17.0ms\n",
      "image 400/504 E:\\University\\PythonProject\\UltralyticsPotholes\\potholes\\part2\\8js4kl0l.jpg: 384x640 1 potholes, 15.0ms\n",
      "image 401/504 E:\\University\\PythonProject\\UltralyticsPotholes\\potholes\\part2\\8ju1xeo6.jpg: 640x640 (no detections), 24.9ms\n",
      "image 402/504 E:\\University\\PythonProject\\UltralyticsPotholes\\potholes\\part2\\8k7zc20c.jpg: 288x640 (no detections), 16.0ms\n",
      "image 403/504 E:\\University\\PythonProject\\UltralyticsPotholes\\potholes\\part2\\8kj5qa18.jpg: 480x640 (no detections), 20.9ms\n",
      "image 404/504 E:\\University\\PythonProject\\UltralyticsPotholes\\potholes\\part2\\8kuj7ok2.jpg: 448x640 (no detections), 21.9ms\n",
      "image 405/504 E:\\University\\PythonProject\\UltralyticsPotholes\\potholes\\part2\\8ky74sik.jpg: 480x640 4 potholess, 23.9ms\n",
      "image 406/504 E:\\University\\PythonProject\\UltralyticsPotholes\\potholes\\part2\\8l21n4d2.jpg: 640x480 (no detections), 20.9ms\n",
      "image 407/504 E:\\University\\PythonProject\\UltralyticsPotholes\\potholes\\part2\\8lw5k0sz.jpg: 448x640 2 potholess, 20.9ms\n",
      "image 408/504 E:\\University\\PythonProject\\UltralyticsPotholes\\potholes\\part2\\8mx5gdfk.jpg: 448x640 1 potholes, 19.9ms\n",
      "image 409/504 E:\\University\\PythonProject\\UltralyticsPotholes\\potholes\\part2\\8nhh8bn2.jpg: 416x640 1 potholes, 19.9ms\n",
      "image 410/504 E:\\University\\PythonProject\\UltralyticsPotholes\\potholes\\part2\\8nm2562u.jpg: 416x640 2 potholess, 18.9ms\n",
      "image 411/504 E:\\University\\PythonProject\\UltralyticsPotholes\\potholes\\part2\\8nxcubb9.jpg: 384x640 2 potholess, 17.0ms\n",
      "image 412/504 E:\\University\\PythonProject\\UltralyticsPotholes\\potholes\\part2\\8o0vn4bc.jpg: 640x480 11 potholess, 19.9ms\n",
      "image 413/504 E:\\University\\PythonProject\\UltralyticsPotholes\\potholes\\part2\\8o84u2ed.jpg: 576x640 (no detections), 21.9ms\n",
      "image 414/504 E:\\University\\PythonProject\\UltralyticsPotholes\\potholes\\part2\\8pg7ojqj.jpg: 384x640 1 potholes, 17.0ms\n",
      "image 415/504 E:\\University\\PythonProject\\UltralyticsPotholes\\potholes\\part2\\8pq8n6wi.jpg: 448x640 1 potholes, 20.9ms\n",
      "image 416/504 E:\\University\\PythonProject\\UltralyticsPotholes\\potholes\\part2\\8qfo1req.jpg: 416x640 (no detections), 19.9ms\n",
      "image 417/504 E:\\University\\PythonProject\\UltralyticsPotholes\\potholes\\part2\\8rj5oakv.jpg: 640x640 (no detections), 22.9ms\n",
      "image 418/504 E:\\University\\PythonProject\\UltralyticsPotholes\\potholes\\part2\\8rosmqwp.jpg: 384x640 (no detections), 17.0ms\n",
      "image 419/504 E:\\University\\PythonProject\\UltralyticsPotholes\\potholes\\part2\\8rs3fjry.jpg: 384x640 1 potholes, 16.0ms\n",
      "image 420/504 E:\\University\\PythonProject\\UltralyticsPotholes\\potholes\\part2\\8tbncj7g.jpg: 640x640 4 potholess, 23.9ms\n",
      "image 421/504 E:\\University\\PythonProject\\UltralyticsPotholes\\potholes\\part2\\8tbziqv4.jpg: 448x640 2 potholess, 21.9ms\n",
      "image 422/504 E:\\University\\PythonProject\\UltralyticsPotholes\\potholes\\part2\\8tg2bjqv.jpg: 384x640 2 potholess, 16.0ms\n",
      "image 423/504 E:\\University\\PythonProject\\UltralyticsPotholes\\potholes\\part2\\8tyl1luo.jpg: 640x640 (no detections), 26.9ms\n",
      "image 424/504 E:\\University\\PythonProject\\UltralyticsPotholes\\potholes\\part2\\8u9d1oo7.jpg: 448x640 2 potholess, 23.9ms\n",
      "image 425/504 E:\\University\\PythonProject\\UltralyticsPotholes\\potholes\\part2\\8v0lntk8.jpg: 448x640 4 potholess, 22.9ms\n",
      "image 426/504 E:\\University\\PythonProject\\UltralyticsPotholes\\potholes\\part2\\8vad297h.jpg: 480x640 1 potholes, 23.9ms\n",
      "image 427/504 E:\\University\\PythonProject\\UltralyticsPotholes\\potholes\\part2\\8vkdjcy8.jpg: 640x480 1 potholes, 19.9ms\n",
      "image 428/504 E:\\University\\PythonProject\\UltralyticsPotholes\\potholes\\part2\\8vmkcxdg.jpg: 640x480 2 potholess, 19.0ms\n",
      "image 429/504 E:\\University\\PythonProject\\UltralyticsPotholes\\potholes\\part2\\8vsn1ui7.jpg: 640x544 1 potholes, 22.0ms\n",
      "image 430/504 E:\\University\\PythonProject\\UltralyticsPotholes\\potholes\\part2\\8wgjjh06.jpg: 416x640 1 potholes, 20.9ms\n",
      "image 431/504 E:\\University\\PythonProject\\UltralyticsPotholes\\potholes\\part2\\8wphnyyo.jpg: 384x640 2 potholess, 17.0ms\n",
      "image 432/504 E:\\University\\PythonProject\\UltralyticsPotholes\\potholes\\part2\\8wprtzka.jpg: 480x640 3 potholess, 20.9ms\n",
      "image 433/504 E:\\University\\PythonProject\\UltralyticsPotholes\\potholes\\part2\\8xu5e9vb.jpg: 544x640 1 potholes, 20.9ms\n",
      "image 434/504 E:\\University\\PythonProject\\UltralyticsPotholes\\potholes\\part2\\8xy3f683.jpg: 448x640 (no detections), 21.9ms\n",
      "image 435/504 E:\\University\\PythonProject\\UltralyticsPotholes\\potholes\\part2\\8yapwv2g.jpg: 640x448 4 potholess, 18.9ms\n",
      "image 436/504 E:\\University\\PythonProject\\UltralyticsPotholes\\potholes\\part2\\8zl8zsle.jpg: 448x640 2 potholess, 20.9ms\n",
      "image 437/504 E:\\University\\PythonProject\\UltralyticsPotholes\\potholes\\part2\\8zowgzhi.jpg: 640x640 (no detections), 24.9ms\n",
      "image 438/504 E:\\University\\PythonProject\\UltralyticsPotholes\\potholes\\part2\\9a8q09xx.jpg: 448x640 (no detections), 22.9ms\n",
      "image 439/504 E:\\University\\PythonProject\\UltralyticsPotholes\\potholes\\part2\\9av19rhy.jpg: 448x640 3 potholess, 20.9ms\n",
      "image 440/504 E:\\University\\PythonProject\\UltralyticsPotholes\\potholes\\part2\\9awvy0ue.jpg: 640x512 (no detections), 20.9ms\n",
      "image 441/504 E:\\University\\PythonProject\\UltralyticsPotholes\\potholes\\part2\\9b8yhgzq.jpg: 640x480 1 potholes, 19.9ms\n",
      "image 442/504 E:\\University\\PythonProject\\UltralyticsPotholes\\potholes\\part2\\9cen1u3q.jpg: 384x640 3 potholess, 17.0ms\n",
      "image 443/504 E:\\University\\PythonProject\\UltralyticsPotholes\\potholes\\part2\\9cfcon9d.jpg: 640x640 2 potholess, 23.9ms\n",
      "image 444/504 E:\\University\\PythonProject\\UltralyticsPotholes\\potholes\\part2\\9d35cm8z.jpg: 384x640 1 potholes, 17.0ms\n",
      "image 445/504 E:\\University\\PythonProject\\UltralyticsPotholes\\potholes\\part2\\9eqivjr0.jpg: 352x640 1 potholes, 16.0ms\n",
      "image 446/504 E:\\University\\PythonProject\\UltralyticsPotholes\\potholes\\part2\\9f2gn0n3.jpg: 480x640 5 potholess, 20.9ms\n",
      "image 447/504 E:\\University\\PythonProject\\UltralyticsPotholes\\potholes\\part2\\9faj7g3p.jpg: 352x640 1 potholes, 16.0ms\n",
      "image 448/504 E:\\University\\PythonProject\\UltralyticsPotholes\\potholes\\part2\\9flo6b40.jpg: 416x640 3 potholess, 20.9ms\n",
      "image 449/504 E:\\University\\PythonProject\\UltralyticsPotholes\\potholes\\part2\\9fluqxh4.jpg: 416x640 1 potholes, 18.9ms\n",
      "image 450/504 E:\\University\\PythonProject\\UltralyticsPotholes\\potholes\\part2\\9fwtdn6y.jpg: 448x640 (no detections), 21.9ms\n",
      "image 451/504 E:\\University\\PythonProject\\UltralyticsPotholes\\potholes\\part2\\9gcsvdy5.jpg: 480x640 3 potholess, 22.9ms\n",
      "image 452/504 E:\\University\\PythonProject\\UltralyticsPotholes\\potholes\\part2\\9h159sqe.jpg: 640x480 2 potholess, 19.9ms\n",
      "image 453/504 E:\\University\\PythonProject\\UltralyticsPotholes\\potholes\\part2\\9h2cam9v.jpg: 448x640 3 potholess, 19.9ms\n",
      "image 454/504 E:\\University\\PythonProject\\UltralyticsPotholes\\potholes\\part2\\9hk80kjz.jpg: 384x640 1 potholes, 18.0ms\n",
      "image 455/504 E:\\University\\PythonProject\\UltralyticsPotholes\\potholes\\part2\\9ilfc3nr.jpg: 480x640 (no detections), 22.9ms\n",
      "image 456/504 E:\\University\\PythonProject\\UltralyticsPotholes\\potholes\\part2\\9ipopkfr.jpg: 448x640 1 potholes, 20.9ms\n",
      "image 457/504 E:\\University\\PythonProject\\UltralyticsPotholes\\potholes\\part2\\9jhjl998.jpg: 480x640 (no detections), 21.9ms\n",
      "image 458/504 E:\\University\\PythonProject\\UltralyticsPotholes\\potholes\\part2\\9jjhwb1f.jpg: 416x640 (no detections), 19.9ms\n",
      "image 459/504 E:\\University\\PythonProject\\UltralyticsPotholes\\potholes\\part2\\9jklblex.jpg: 384x640 2 potholess, 17.0ms\n",
      "image 460/504 E:\\University\\PythonProject\\UltralyticsPotholes\\potholes\\part2\\9jv9uolv.jpg: 480x640 (no detections), 21.9ms\n",
      "image 461/504 E:\\University\\PythonProject\\UltralyticsPotholes\\potholes\\part2\\9knwmtgt.jpg: 352x640 2 potholess, 16.0ms\n",
      "image 462/504 E:\\University\\PythonProject\\UltralyticsPotholes\\potholes\\part2\\9kv77454.jpg: 384x640 2 potholess, 16.0ms\n",
      "image 463/504 E:\\University\\PythonProject\\UltralyticsPotholes\\potholes\\part2\\9lds1sdq.jpg: 448x640 3 potholess, 19.9ms\n",
      "image 464/504 E:\\University\\PythonProject\\UltralyticsPotholes\\potholes\\part2\\9lgbwslp.jpg: 384x640 3 potholess, 17.0ms\n",
      "image 465/504 E:\\University\\PythonProject\\UltralyticsPotholes\\potholes\\part2\\9lhmzp4x.jpg: 640x512 4 potholess, 20.9ms\n",
      "image 466/504 E:\\University\\PythonProject\\UltralyticsPotholes\\potholes\\part2\\9mhouz5a.jpg: 384x640 2 potholess, 17.0ms\n",
      "image 467/504 E:\\University\\PythonProject\\UltralyticsPotholes\\potholes\\part2\\9mye5csi.jpg: 512x640 4 potholess, 19.9ms\n",
      "image 468/504 E:\\University\\PythonProject\\UltralyticsPotholes\\potholes\\part2\\9n160ivi.jpg: 512x640 (no detections), 19.9ms\n",
      "image 469/504 E:\\University\\PythonProject\\UltralyticsPotholes\\potholes\\part2\\9o6t5qsu.jpg: 448x640 1 potholes, 21.9ms\n",
      "image 470/504 E:\\University\\PythonProject\\UltralyticsPotholes\\potholes\\part2\\9ofb8drp.jpg: 384x640 3 potholess, 17.0ms\n",
      "image 471/504 E:\\University\\PythonProject\\UltralyticsPotholes\\potholes\\part2\\9ol7yf28.jpg: 288x640 3 potholess, 15.0ms\n",
      "image 472/504 E:\\University\\PythonProject\\UltralyticsPotholes\\potholes\\part2\\9os4ev57.jpg: 480x640 (no detections), 21.9ms\n",
      "image 473/504 E:\\University\\PythonProject\\UltralyticsPotholes\\potholes\\part2\\9pksxs96.jpg: 384x640 1 potholes, 17.0ms\n",
      "image 474/504 E:\\University\\PythonProject\\UltralyticsPotholes\\potholes\\part2\\9q5bk4us.jpg: 384x640 1 potholes, 15.0ms\n",
      "image 475/504 E:\\University\\PythonProject\\UltralyticsPotholes\\potholes\\part2\\9qjk7lxp.jpg: 448x640 3 potholess, 21.9ms\n",
      "image 476/504 E:\\University\\PythonProject\\UltralyticsPotholes\\potholes\\part2\\9qn1zmai.jpg: 640x640 1 potholes, 24.9ms\n",
      "image 477/504 E:\\University\\PythonProject\\UltralyticsPotholes\\potholes\\part2\\9qnh6wcl.jpg: 480x640 1 potholes, 25.9ms\n",
      "image 478/504 E:\\University\\PythonProject\\UltralyticsPotholes\\potholes\\part2\\9qr0alvu.jpg: 640x640 1 potholes, 24.9ms\n",
      "image 479/504 E:\\University\\PythonProject\\UltralyticsPotholes\\potholes\\part2\\9rfipbcc.jpg: 416x640 14 potholess, 22.9ms\n",
      "image 480/504 E:\\University\\PythonProject\\UltralyticsPotholes\\potholes\\part2\\9seh7a2k.jpg: 384x640 3 potholess, 17.0ms\n",
      "image 481/504 E:\\University\\PythonProject\\UltralyticsPotholes\\potholes\\part2\\9sma9n7z.jpg: 640x640 (no detections), 23.9ms\n",
      "image 482/504 E:\\University\\PythonProject\\UltralyticsPotholes\\potholes\\part2\\9sw7wcr4.jpg: 384x640 (no detections), 18.0ms\n",
      "image 483/504 E:\\University\\PythonProject\\UltralyticsPotholes\\potholes\\part2\\9t45eypz.jpg: 448x640 1 potholes, 20.9ms\n",
      "image 484/504 E:\\University\\PythonProject\\UltralyticsPotholes\\potholes\\part2\\9t6ig47r.jpg: 480x640 22 potholess, 20.9ms\n",
      "image 485/504 E:\\University\\PythonProject\\UltralyticsPotholes\\potholes\\part2\\9thz6o6o.jpg: 384x640 7 potholess, 17.0ms\n",
      "image 486/504 E:\\University\\PythonProject\\UltralyticsPotholes\\potholes\\part2\\9u0ectp6.jpg: 384x640 1 potholes, 16.0ms\n",
      "image 487/504 E:\\University\\PythonProject\\UltralyticsPotholes\\potholes\\part2\\9u5skmo3.jpg: 640x640 3 potholess, 24.9ms\n",
      "image 488/504 E:\\University\\PythonProject\\UltralyticsPotholes\\potholes\\part2\\9uclcoka.jpg: 448x640 1 potholes, 21.9ms\n",
      "image 489/504 E:\\University\\PythonProject\\UltralyticsPotholes\\potholes\\part2\\9uqok1ps.jpg: 480x640 2 potholess, 22.9ms\n",
      "image 490/504 E:\\University\\PythonProject\\UltralyticsPotholes\\potholes\\part2\\9uxjaj6o.jpg: 640x480 3 potholess, 18.9ms\n",
      "image 491/504 E:\\University\\PythonProject\\UltralyticsPotholes\\potholes\\part2\\9vpka1fy.jpg: 416x640 1 potholes, 18.9ms\n",
      "image 492/504 E:\\University\\PythonProject\\UltralyticsPotholes\\potholes\\part2\\9vrqqomg.jpg: 640x640 4 potholess, 23.9ms\n",
      "image 493/504 E:\\University\\PythonProject\\UltralyticsPotholes\\potholes\\part2\\9vuj28j5.jpg: 384x640 2 potholess, 17.0ms\n",
      "image 494/504 E:\\University\\PythonProject\\UltralyticsPotholes\\potholes\\part2\\9vv7bdrp.jpg: 448x640 1 potholes, 20.9ms\n",
      "image 495/504 E:\\University\\PythonProject\\UltralyticsPotholes\\potholes\\part2\\9w4mgwtk.jpg: 640x480 1 potholes, 19.9ms\n",
      "image 496/504 E:\\University\\PythonProject\\UltralyticsPotholes\\potholes\\part2\\9w5ru7z0.jpg: 448x640 3 potholess, 19.9ms\n",
      "image 497/504 E:\\University\\PythonProject\\UltralyticsPotholes\\potholes\\part2\\9w7hhetc.jpg: 224x640 1 potholes, 24.9ms\n",
      "image 498/504 E:\\University\\PythonProject\\UltralyticsPotholes\\potholes\\part2\\9whm4p29.jpg: 448x640 1 potholes, 38.9ms\n",
      "image 499/504 E:\\University\\PythonProject\\UltralyticsPotholes\\potholes\\part2\\9wsuaxj3.jpg: 448x640 2 potholess, 38.9ms\n",
      "image 500/504 E:\\University\\PythonProject\\UltralyticsPotholes\\potholes\\part2\\9y94xfro.jpg: 640x640 4 potholess, 45.9ms\n",
      "image 501/504 E:\\University\\PythonProject\\UltralyticsPotholes\\potholes\\part2\\9ymetdar.jpg: 640x640 2 potholess, 42.9ms\n",
      "image 502/504 E:\\University\\PythonProject\\UltralyticsPotholes\\potholes\\part2\\9z5aqcty.jpg: 448x640 1 potholes, 23.9ms\n",
      "image 503/504 E:\\University\\PythonProject\\UltralyticsPotholes\\potholes\\part2\\9zr3g2pn.jpg: 640x640 (no detections), 28.9ms\n",
      "image 504/504 E:\\University\\PythonProject\\UltralyticsPotholes\\potholes\\part2\\9zzxq427.jpg: 384x640 2 potholess, 19.9ms\n",
      "Speed: 2.4ms preprocess, 21.3ms inference, 2.0ms postprocess per image at shape (1, 3, 384, 640)\n",
      "Results saved to \u001b[1mruns\\segment\\predict\u001b[0m\n"
     ]
    }
   ],
   "source": [
    "resultTwo = model('potholes\\\\part2',save=True)"
   ]
  },
  {
   "cell_type": "code",
   "execution_count": 5,
   "id": "9c7a7e9a2366131a",
   "metadata": {
    "ExecuteTime": {
     "end_time": "2023-12-11T06:15:10.240596900Z",
     "start_time": "2023-12-11T06:14:07.292862600Z"
    },
    "collapsed": false,
    "jupyter": {
     "outputs_hidden": false
    }
   },
   "outputs": [
    {
     "name": "stdout",
     "output_type": "stream",
     "text": [
      "image 1/490 E:\\University\\PythonProject\\UltralyticsPotholes\\potholes\\part3\\0486wull.jpg: 640x640 2 potholess, 193.5ms\n",
      "image 2/490 E:\\University\\PythonProject\\UltralyticsPotholes\\potholes\\part3\\05539ldd.jpg: 640x640 4 potholess, 28.9ms\n",
      "image 3/490 E:\\University\\PythonProject\\UltralyticsPotholes\\potholes\\part3\\06248sj2.jpg: 640x640 (no detections), 31.9ms\n",
      "image 4/490 E:\\University\\PythonProject\\UltralyticsPotholes\\potholes\\part3\\0836y8b5.jpg: 640x640 1 potholes, 26.9ms\n",
      "image 5/490 E:\\University\\PythonProject\\UltralyticsPotholes\\potholes\\part3\\088afxq7.jpg: 448x640 (no detections), 27.9ms\n",
      "image 6/490 E:\\University\\PythonProject\\UltralyticsPotholes\\potholes\\part3\\089psive.jpg: 640x640 1 potholes, 25.9ms\n",
      "image 7/490 E:\\University\\PythonProject\\UltralyticsPotholes\\potholes\\part3\\096j0dg4.jpg: 256x640 1 potholes, 15.0ms\n",
      "image 8/490 E:\\University\\PythonProject\\UltralyticsPotholes\\potholes\\part3\\100ekfvj.jpg: 448x640 2 potholess, 23.9ms\n",
      "image 9/490 E:\\University\\PythonProject\\UltralyticsPotholes\\potholes\\part3\\108xz7on.jpg: 480x640 3 potholess, 22.9ms\n",
      "image 10/490 E:\\University\\PythonProject\\UltralyticsPotholes\\potholes\\part3\\114pfj02.jpg: 448x640 (no detections), 21.9ms\n",
      "image 11/490 E:\\University\\PythonProject\\UltralyticsPotholes\\potholes\\part3\\120tvj1e.jpg: 640x640 (no detections), 24.9ms\n",
      "image 12/490 E:\\University\\PythonProject\\UltralyticsPotholes\\potholes\\part3\\1251fng9.jpg: 640x640 1 potholes, 22.9ms\n",
      "image 13/490 E:\\University\\PythonProject\\UltralyticsPotholes\\potholes\\part3\\1269ty2b.jpg: 384x640 4 potholess, 17.0ms\n",
      "image 14/490 E:\\University\\PythonProject\\UltralyticsPotholes\\potholes\\part3\\126ujqsa.jpg: 448x640 1 potholes, 19.9ms\n",
      "image 15/490 E:\\University\\PythonProject\\UltralyticsPotholes\\potholes\\part3\\14325lro.jpg: 480x640 1 potholes, 20.9ms\n",
      "image 16/490 E:\\University\\PythonProject\\UltralyticsPotholes\\potholes\\part3\\1479ukpo.jpg: 416x640 1 potholes, 20.9ms\n",
      "image 17/490 E:\\University\\PythonProject\\UltralyticsPotholes\\potholes\\part3\\150jlihn.jpg: 640x416 4 potholess, 87.8ms\n",
      "image 18/490 E:\\University\\PythonProject\\UltralyticsPotholes\\potholes\\part3\\190i2ufr.jpg: 640x608 10 potholess, 22.9ms\n",
      "image 19/490 E:\\University\\PythonProject\\UltralyticsPotholes\\potholes\\part3\\20290d5z.jpg: 480x640 2 potholess, 22.9ms\n",
      "image 20/490 E:\\University\\PythonProject\\UltralyticsPotholes\\potholes\\part3\\23462wuq.jpg: 480x640 1 potholes, 20.9ms\n",
      "image 21/490 E:\\University\\PythonProject\\UltralyticsPotholes\\potholes\\part3\\25048gds.jpg: 480x640 (no detections), 19.9ms\n",
      "image 22/490 E:\\University\\PythonProject\\UltralyticsPotholes\\potholes\\part3\\250j1b0z.jpg: 640x480 (no detections), 23.9ms\n",
      "image 23/490 E:\\University\\PythonProject\\UltralyticsPotholes\\potholes\\part3\\296nhy4g.jpg: 448x640 (no detections), 20.9ms\n",
      "image 24/490 E:\\University\\PythonProject\\UltralyticsPotholes\\potholes\\part3\\30323va3.jpg: 480x640 2 potholess, 26.9ms\n",
      "image 25/490 E:\\University\\PythonProject\\UltralyticsPotholes\\potholes\\part3\\309n9696.jpg: 640x640 (no detections), 24.9ms\n",
      "image 26/490 E:\\University\\PythonProject\\UltralyticsPotholes\\potholes\\part3\\314fk8gr.jpg: 448x640 2 potholess, 39.9ms\n",
      "image 27/490 E:\\University\\PythonProject\\UltralyticsPotholes\\potholes\\part3\\347ossv2.jpg: 384x640 1 potholes, 37.9ms\n",
      "image 28/490 E:\\University\\PythonProject\\UltralyticsPotholes\\potholes\\part3\\359tcg2m.jpg: 480x640 (no detections), 46.9ms\n",
      "image 29/490 E:\\University\\PythonProject\\UltralyticsPotholes\\potholes\\part3\\367mfe9j.jpg: 480x640 4 potholess, 41.9ms\n",
      "image 30/490 E:\\University\\PythonProject\\UltralyticsPotholes\\potholes\\part3\\373uzxny.jpg: 512x640 1 potholes, 43.9ms\n",
      "image 31/490 E:\\University\\PythonProject\\UltralyticsPotholes\\potholes\\part3\\3820gkmx.jpg: 480x640 (no detections), 43.9ms\n",
      "image 32/490 E:\\University\\PythonProject\\UltralyticsPotholes\\potholes\\part3\\384cdpj3.jpg: 448x640 2 potholess, 43.9ms\n",
      "image 33/490 E:\\University\\PythonProject\\UltralyticsPotholes\\potholes\\part3\\386eqf81.jpg: 480x640 (no detections), 46.9ms\n",
      "image 34/490 E:\\University\\PythonProject\\UltralyticsPotholes\\potholes\\part3\\390xsydo.jpg: 448x640 1 potholes, 44.8ms\n",
      "image 35/490 E:\\University\\PythonProject\\UltralyticsPotholes\\potholes\\part3\\405yn6xw.jpg: 384x640 1 potholes, 28.9ms\n",
      "image 36/490 E:\\University\\PythonProject\\UltralyticsPotholes\\potholes\\part3\\4215d5vv.jpg: 640x480 6 potholess, 23.9ms\n",
      "image 37/490 E:\\University\\PythonProject\\UltralyticsPotholes\\potholes\\part3\\4229dbpz.jpg: 448x640 1 potholes, 26.9ms\n",
      "image 38/490 E:\\University\\PythonProject\\UltralyticsPotholes\\potholes\\part3\\4252ihbr.jpg: 640x640 3 potholess, 29.9ms\n",
      "image 39/490 E:\\University\\PythonProject\\UltralyticsPotholes\\potholes\\part3\\432r73zf.jpg: 448x640 1 potholes, 24.9ms\n",
      "image 40/490 E:\\University\\PythonProject\\UltralyticsPotholes\\potholes\\part3\\442b9660.jpg: 448x640 (no detections), 24.9ms\n",
      "image 41/490 E:\\University\\PythonProject\\UltralyticsPotholes\\potholes\\part3\\462nmv94.jpg: 384x640 1 potholes, 70.8ms\n",
      "image 42/490 E:\\University\\PythonProject\\UltralyticsPotholes\\potholes\\part3\\468svj3e.jpg: 416x640 2 potholess, 24.9ms\n",
      "image 43/490 E:\\University\\PythonProject\\UltralyticsPotholes\\potholes\\part3\\478joudd.jpg: 640x544 1 potholes, 25.9ms\n",
      "image 44/490 E:\\University\\PythonProject\\UltralyticsPotholes\\potholes\\part3\\485smuzm.jpg: 640x640 1 potholes, 32.9ms\n",
      "image 45/490 E:\\University\\PythonProject\\UltralyticsPotholes\\potholes\\part3\\511920be.jpg: 448x640 3 potholess, 27.9ms\n",
      "image 46/490 E:\\University\\PythonProject\\UltralyticsPotholes\\potholes\\part3\\534m9srt.jpg: 384x640 4 potholess, 19.9ms\n",
      "image 47/490 E:\\University\\PythonProject\\UltralyticsPotholes\\potholes\\part3\\5372tj4p.jpg: 480x640 (no detections), 55.9ms\n",
      "image 48/490 E:\\University\\PythonProject\\UltralyticsPotholes\\potholes\\part3\\55473nvf.jpg: 384x640 2 potholess, 20.9ms\n",
      "image 49/490 E:\\University\\PythonProject\\UltralyticsPotholes\\potholes\\part3\\557g0nyi.jpg: 448x640 3 potholess, 25.9ms\n",
      "image 50/490 E:\\University\\PythonProject\\UltralyticsPotholes\\potholes\\part3\\560z5eml.jpg: 480x640 1 potholes, 27.9ms\n",
      "image 51/490 E:\\University\\PythonProject\\UltralyticsPotholes\\potholes\\part3\\567fw46j.jpg: 384x640 2 potholess, 25.9ms\n",
      "image 52/490 E:\\University\\PythonProject\\UltralyticsPotholes\\potholes\\part3\\583sjho4.jpg: 384x640 1 potholes, 33.9ms\n",
      "image 53/490 E:\\University\\PythonProject\\UltralyticsPotholes\\potholes\\part3\\585cj6nl.jpg: 448x640 1 potholes, 23.9ms\n",
      "image 54/490 E:\\University\\PythonProject\\UltralyticsPotholes\\potholes\\part3\\637cisqv.jpg: 640x640 1 potholes, 28.9ms\n",
      "image 55/490 E:\\University\\PythonProject\\UltralyticsPotholes\\potholes\\part3\\6459hg8o.jpg: 448x640 3 potholess, 23.9ms\n",
      "image 56/490 E:\\University\\PythonProject\\UltralyticsPotholes\\potholes\\part3\\654kbgpk.jpg: 448x640 3 potholess, 21.9ms\n",
      "image 57/490 E:\\University\\PythonProject\\UltralyticsPotholes\\potholes\\part3\\661bbhbb.jpg: 640x480 1 potholes, 22.9ms\n",
      "image 58/490 E:\\University\\PythonProject\\UltralyticsPotholes\\potholes\\part3\\670241nf.jpg: 448x640 3 potholess, 47.9ms\n",
      "image 59/490 E:\\University\\PythonProject\\UltralyticsPotholes\\potholes\\part3\\6852u2i9.jpg: 448x640 2 potholess, 28.9ms\n",
      "image 60/490 E:\\University\\PythonProject\\UltralyticsPotholes\\potholes\\part3\\712e8gct.jpg: 480x640 (no detections), 36.9ms\n",
      "image 61/490 E:\\University\\PythonProject\\UltralyticsPotholes\\potholes\\part3\\712lb0b3.jpg: 352x640 2 potholess, 30.9ms\n",
      "image 62/490 E:\\University\\PythonProject\\UltralyticsPotholes\\potholes\\part3\\718prbkh.jpg: 448x640 1 potholes, 67.8ms\n",
      "image 63/490 E:\\University\\PythonProject\\UltralyticsPotholes\\potholes\\part3\\736niyw7.jpg: 640x640 (no detections), 58.8ms\n",
      "image 64/490 E:\\University\\PythonProject\\UltralyticsPotholes\\potholes\\part3\\750hfujy.jpg: 640x640 2 potholess, 41.9ms\n",
      "image 65/490 E:\\University\\PythonProject\\UltralyticsPotholes\\potholes\\part3\\762vubpy.jpg: 640x640 2 potholess, 43.9ms\n",
      "image 66/490 E:\\University\\PythonProject\\UltralyticsPotholes\\potholes\\part3\\76698pyt.jpg: 448x640 (no detections), 32.9ms\n",
      "image 67/490 E:\\University\\PythonProject\\UltralyticsPotholes\\potholes\\part3\\767zugfg.jpg: 352x640 1 potholes, 25.9ms\n",
      "image 68/490 E:\\University\\PythonProject\\UltralyticsPotholes\\potholes\\part3\\79449kld.jpg: 448x640 (no detections), 35.9ms\n",
      "image 69/490 E:\\University\\PythonProject\\UltralyticsPotholes\\potholes\\part3\\79987u22.jpg: 384x640 (no detections), 25.9ms\n",
      "image 70/490 E:\\University\\PythonProject\\UltralyticsPotholes\\potholes\\part3\\804lqwe9.jpg: 384x640 2 potholess, 20.9ms\n",
      "image 71/490 E:\\University\\PythonProject\\UltralyticsPotholes\\potholes\\part3\\807vlk0z.jpg: 640x480 3 potholess, 27.9ms\n",
      "image 72/490 E:\\University\\PythonProject\\UltralyticsPotholes\\potholes\\part3\\81ao4ooj.jpg: 384x640 2 potholess, 35.9ms\n",
      "image 73/490 E:\\University\\PythonProject\\UltralyticsPotholes\\potholes\\part3\\81mjyutp.jpg: 448x640 1 potholes, 28.9ms\n",
      "image 74/490 E:\\University\\PythonProject\\UltralyticsPotholes\\potholes\\part3\\81tdqnw1.jpg: 640x480 8 potholess, 26.9ms\n",
      "image 75/490 E:\\University\\PythonProject\\UltralyticsPotholes\\potholes\\part3\\81zhmuld.jpg: 640x640 1 potholes, 31.9ms\n",
      "image 76/490 E:\\University\\PythonProject\\UltralyticsPotholes\\potholes\\part3\\821lqava.jpg: 256x640 1 potholes, 19.9ms\n",
      "image 77/490 E:\\University\\PythonProject\\UltralyticsPotholes\\potholes\\part3\\82497ya0.jpg: 480x640 2 potholess, 28.9ms\n",
      "image 78/490 E:\\University\\PythonProject\\UltralyticsPotholes\\potholes\\part3\\83om5eti.jpg: 640x480 2 potholess, 26.9ms\n",
      "image 79/490 E:\\University\\PythonProject\\UltralyticsPotholes\\potholes\\part3\\840s5ya8.jpg: 640x640 (no detections), 31.9ms\n",
      "image 80/490 E:\\University\\PythonProject\\UltralyticsPotholes\\potholes\\part3\\842u7iah.jpg: 288x640 (no detections), 19.9ms\n",
      "image 81/490 E:\\University\\PythonProject\\UltralyticsPotholes\\potholes\\part3\\84azr84v.jpg: 352x640 3 potholess, 18.0ms\n",
      "image 82/490 E:\\University\\PythonProject\\UltralyticsPotholes\\potholes\\part3\\84z6n0h6.jpg: 640x640 3 potholess, 43.9ms\n",
      "image 83/490 E:\\University\\PythonProject\\UltralyticsPotholes\\potholes\\part3\\85lnz4ib.jpg: 640x640 (no detections), 43.9ms\n",
      "image 84/490 E:\\University\\PythonProject\\UltralyticsPotholes\\potholes\\part3\\85sqk9fk.jpg: 384x640 (no detections), 25.9ms\n",
      "image 85/490 E:\\University\\PythonProject\\UltralyticsPotholes\\potholes\\part3\\863frwfw.jpg: 544x640 1 potholes, 26.9ms\n",
      "image 86/490 E:\\University\\PythonProject\\UltralyticsPotholes\\potholes\\part3\\86ca7ikh.jpg: 640x480 (no detections), 22.9ms\n",
      "image 87/490 E:\\University\\PythonProject\\UltralyticsPotholes\\potholes\\part3\\86f1o7hu.jpg: 480x640 1 potholes, 80.8ms\n",
      "image 88/490 E:\\University\\PythonProject\\UltralyticsPotholes\\potholes\\part3\\86fmg7dk.jpg: 384x640 (no detections), 18.0ms\n",
      "image 89/490 E:\\University\\PythonProject\\UltralyticsPotholes\\potholes\\part3\\86xr3msv.jpg: 480x640 (no detections), 21.9ms\n",
      "image 90/490 E:\\University\\PythonProject\\UltralyticsPotholes\\potholes\\part3\\87p0dwlp.jpg: 384x640 1 potholes, 29.9ms\n",
      "image 91/490 E:\\University\\PythonProject\\UltralyticsPotholes\\potholes\\part3\\87uyn7dp.jpg: 384x640 3 potholess, 28.9ms\n",
      "image 92/490 E:\\University\\PythonProject\\UltralyticsPotholes\\potholes\\part3\\885wa3zt.jpg: 640x480 (no detections), 35.9ms\n",
      "image 93/490 E:\\University\\PythonProject\\UltralyticsPotholes\\potholes\\part3\\886imayl.jpg: 384x640 3 potholess, 55.9ms\n",
      "image 94/490 E:\\University\\PythonProject\\UltralyticsPotholes\\potholes\\part3\\8874q2cz.jpg: 480x640 1 potholes, 48.9ms\n",
      "image 95/490 E:\\University\\PythonProject\\UltralyticsPotholes\\potholes\\part3\\88nqdri7.jpg: 448x640 (no detections), 47.9ms\n",
      "image 96/490 E:\\University\\PythonProject\\UltralyticsPotholes\\potholes\\part3\\88y93p2q.jpg: 448x640 (no detections), 46.9ms\n",
      "image 97/490 E:\\University\\PythonProject\\UltralyticsPotholes\\potholes\\part3\\88yupy95.jpg: 480x640 (no detections), 47.9ms\n",
      "image 98/490 E:\\University\\PythonProject\\UltralyticsPotholes\\potholes\\part3\\896sq24e.jpg: 640x640 (no detections), 33.9ms\n",
      "image 99/490 E:\\University\\PythonProject\\UltralyticsPotholes\\potholes\\part3\\898gqjrb.jpg: 448x640 1 potholes, 29.9ms\n",
      "image 100/490 E:\\University\\PythonProject\\UltralyticsPotholes\\potholes\\part3\\89g2bkjn.jpg: 384x640 10 potholess, 22.9ms\n",
      "image 101/490 E:\\University\\PythonProject\\UltralyticsPotholes\\potholes\\part3\\89ou5w1w.jpg: 384x640 (no detections), 21.9ms\n",
      "image 102/490 E:\\University\\PythonProject\\UltralyticsPotholes\\potholes\\part3\\89vvdkiv.jpg: 416x640 1 potholes, 28.9ms\n",
      "image 103/490 E:\\University\\PythonProject\\UltralyticsPotholes\\potholes\\part3\\902r2adi.jpg: 288x640 (no detections), 20.9ms\n",
      "image 104/490 E:\\University\\PythonProject\\UltralyticsPotholes\\potholes\\part3\\90oxkgtm.jpg: 640x640 (no detections), 33.9ms\n",
      "image 105/490 E:\\University\\PythonProject\\UltralyticsPotholes\\potholes\\part3\\9109z2m0.jpg: 448x640 1 potholes, 29.9ms\n",
      "image 106/490 E:\\University\\PythonProject\\UltralyticsPotholes\\potholes\\part3\\91g26gqg.jpg: 384x640 (no detections), 23.9ms\n",
      "image 107/490 E:\\University\\PythonProject\\UltralyticsPotholes\\potholes\\part3\\91ox5jim.jpg: 640x640 (no detections), 25.9ms\n",
      "image 108/490 E:\\University\\PythonProject\\UltralyticsPotholes\\potholes\\part3\\91p1ypy3.jpg: 480x640 1 potholes, 25.9ms\n",
      "image 109/490 E:\\University\\PythonProject\\UltralyticsPotholes\\potholes\\part3\\91y9t5k1.jpg: 384x640 1 potholes, 18.9ms\n",
      "image 110/490 E:\\University\\PythonProject\\UltralyticsPotholes\\potholes\\part3\\92h0udm8.jpg: 640x480 3 potholess, 34.9ms\n",
      "image 111/490 E:\\University\\PythonProject\\UltralyticsPotholes\\potholes\\part3\\92hn1pgq.jpg: 480x640 (no detections), 23.9ms\n",
      "image 112/490 E:\\University\\PythonProject\\UltralyticsPotholes\\potholes\\part3\\92ucbcqg.jpg: 640x480 1 potholes, 48.9ms\n",
      "image 113/490 E:\\University\\PythonProject\\UltralyticsPotholes\\potholes\\part3\\93278l6l.jpg: 320x640 3 potholess, 42.9ms\n",
      "image 114/490 E:\\University\\PythonProject\\UltralyticsPotholes\\potholes\\part3\\935n2fqp.jpg: 384x640 4 potholess, 45.9ms\n",
      "image 115/490 E:\\University\\PythonProject\\UltralyticsPotholes\\potholes\\part3\\93dmwsh0.jpg: 640x480 1 potholes, 49.9ms\n",
      "image 116/490 E:\\University\\PythonProject\\UltralyticsPotholes\\potholes\\part3\\93flkloe.jpg: 640x480 4 potholess, 43.9ms\n",
      "image 117/490 E:\\University\\PythonProject\\UltralyticsPotholes\\potholes\\part3\\93kaihd7.jpg: 448x640 (no detections), 93.7ms\n",
      "image 118/490 E:\\University\\PythonProject\\UltralyticsPotholes\\potholes\\part3\\93xmhgqz.jpg: 480x640 1 potholes, 91.8ms\n",
      "image 119/490 E:\\University\\PythonProject\\UltralyticsPotholes\\potholes\\part3\\94bxs3xs.jpg: 384x640 (no detections), 20.9ms\n",
      "image 120/490 E:\\University\\PythonProject\\UltralyticsPotholes\\potholes\\part3\\94n7f31h.jpg: 448x640 (no detections), 26.9ms\n",
      "image 121/490 E:\\University\\PythonProject\\UltralyticsPotholes\\potholes\\part3\\94p1v1on.jpg: 448x640 (no detections), 24.9ms\n",
      "image 122/490 E:\\University\\PythonProject\\UltralyticsPotholes\\potholes\\part3\\951vyu2r.jpg: 448x640 (no detections), 24.9ms\n",
      "image 123/490 E:\\University\\PythonProject\\UltralyticsPotholes\\potholes\\part3\\95bmpkou.jpg: 448x640 (no detections), 20.9ms\n",
      "image 124/490 E:\\University\\PythonProject\\UltralyticsPotholes\\potholes\\part3\\95bsvd7v.jpg: 448x640 2 potholess, 19.9ms\n",
      "image 125/490 E:\\University\\PythonProject\\UltralyticsPotholes\\potholes\\part3\\95xn0wdo.jpg: 256x640 3 potholess, 14.0ms\n",
      "image 126/490 E:\\University\\PythonProject\\UltralyticsPotholes\\potholes\\part3\\95y7xeac.jpg: 640x512 1 potholes, 21.9ms\n",
      "image 127/490 E:\\University\\PythonProject\\UltralyticsPotholes\\potholes\\part3\\95ygni89.jpg: 416x640 (no detections), 21.9ms\n",
      "image 128/490 E:\\University\\PythonProject\\UltralyticsPotholes\\potholes\\part3\\96j4d489.jpg: 640x480 1 potholes, 21.9ms\n",
      "image 129/490 E:\\University\\PythonProject\\UltralyticsPotholes\\potholes\\part3\\96llhfqz.jpg: 352x640 3 potholess, 17.0ms\n",
      "image 130/490 E:\\University\\PythonProject\\UltralyticsPotholes\\potholes\\part3\\96oiuma8.jpg: 640x640 2 potholess, 24.9ms\n",
      "image 131/490 E:\\University\\PythonProject\\UltralyticsPotholes\\potholes\\part3\\97v1njuz.jpg: 416x640 (no detections), 21.9ms\n",
      "image 132/490 E:\\University\\PythonProject\\UltralyticsPotholes\\potholes\\part3\\98546qkb.jpg: 384x640 3 potholess, 17.3ms\n",
      "image 133/490 E:\\University\\PythonProject\\UltralyticsPotholes\\potholes\\part3\\98ppnu2y.jpg: 416x640 2 potholess, 20.9ms\n",
      "image 134/490 E:\\University\\PythonProject\\UltralyticsPotholes\\potholes\\part3\\9918y681.jpg: 384x640 11 potholess, 18.0ms\n",
      "image 135/490 E:\\University\\PythonProject\\UltralyticsPotholes\\potholes\\part3\\999xwmqk.jpg: 480x640 1 potholes, 22.9ms\n",
      "image 136/490 E:\\University\\PythonProject\\UltralyticsPotholes\\potholes\\part3\\99d7q5l5.jpg: 480x640 1 potholes, 20.9ms\n",
      "image 137/490 E:\\University\\PythonProject\\UltralyticsPotholes\\potholes\\part3\\99i4yuma.jpg: 480x640 2 potholess, 20.9ms\n",
      "image 138/490 E:\\University\\PythonProject\\UltralyticsPotholes\\potholes\\part3\\99j0hvzb.jpg: 416x640 4 potholess, 23.9ms\n",
      "image 139/490 E:\\University\\PythonProject\\UltralyticsPotholes\\potholes\\part3\\a04hpj3w.jpg: 448x640 1 potholes, 22.9ms\n",
      "image 140/490 E:\\University\\PythonProject\\UltralyticsPotholes\\potholes\\part3\\a0lgotxr.jpg: 384x640 3 potholess, 18.9ms\n",
      "image 141/490 E:\\University\\PythonProject\\UltralyticsPotholes\\potholes\\part3\\a1mf1sj6.jpg: 480x640 (no detections), 26.9ms\n",
      "image 142/490 E:\\University\\PythonProject\\UltralyticsPotholes\\potholes\\part3\\a1pglekn.jpg: 480x640 (no detections), 21.9ms\n",
      "image 143/490 E:\\University\\PythonProject\\UltralyticsPotholes\\potholes\\part3\\a1pwtgzp.jpg: 480x640 2 potholess, 21.9ms\n",
      "image 144/490 E:\\University\\PythonProject\\UltralyticsPotholes\\potholes\\part3\\a2r5oz2o.jpg: 416x640 1 potholes, 22.9ms\n",
      "image 145/490 E:\\University\\PythonProject\\UltralyticsPotholes\\potholes\\part3\\a32akzgx.jpg: 352x640 (no detections), 21.9ms\n",
      "image 146/490 E:\\University\\PythonProject\\UltralyticsPotholes\\potholes\\part3\\a39yfzk1.jpg: 640x640 1 potholes, 25.9ms\n",
      "image 147/490 E:\\University\\PythonProject\\UltralyticsPotholes\\potholes\\part3\\a4qe9wj0.jpg: 448x640 3 potholess, 22.9ms\n",
      "image 148/490 E:\\University\\PythonProject\\UltralyticsPotholes\\potholes\\part3\\a5h97c1r.jpg: 640x640 1 potholes, 31.9ms\n",
      "image 149/490 E:\\University\\PythonProject\\UltralyticsPotholes\\potholes\\part3\\a5kmcr7k.jpg: 384x640 (no detections), 18.0ms\n",
      "image 150/490 E:\\University\\PythonProject\\UltralyticsPotholes\\potholes\\part3\\a5l5723r.jpg: 384x640 (no detections), 17.0ms\n",
      "image 151/490 E:\\University\\PythonProject\\UltralyticsPotholes\\potholes\\part3\\a5m96m5x.jpg: 640x480 5 potholess, 25.9ms\n",
      "image 152/490 E:\\University\\PythonProject\\UltralyticsPotholes\\potholes\\part3\\a6n5yzjr.jpg: 480x640 1 potholes, 25.9ms\n",
      "image 153/490 E:\\University\\PythonProject\\UltralyticsPotholes\\potholes\\part3\\a6vawgek.jpg: 480x640 (no detections), 23.9ms\n",
      "image 154/490 E:\\University\\PythonProject\\UltralyticsPotholes\\potholes\\part3\\a70ilc31.jpg: 640x480 4 potholess, 21.9ms\n",
      "image 155/490 E:\\University\\PythonProject\\UltralyticsPotholes\\potholes\\part3\\a74rs889.jpg: 448x640 1 potholes, 27.9ms\n",
      "image 156/490 E:\\University\\PythonProject\\UltralyticsPotholes\\potholes\\part3\\a7squfi5.jpg: 352x640 (no detections), 20.9ms\n",
      "image 157/490 E:\\University\\PythonProject\\UltralyticsPotholes\\potholes\\part3\\a83be39l.jpg: 384x640 2 potholess, 20.9ms\n",
      "image 158/490 E:\\University\\PythonProject\\UltralyticsPotholes\\potholes\\part3\\a8cuiol7.jpg: 480x640 1 potholes, 27.9ms\n",
      "image 159/490 E:\\University\\PythonProject\\UltralyticsPotholes\\potholes\\part3\\a8y1kowb.jpg: 480x640 (no detections), 63.9ms\n",
      "image 160/490 E:\\University\\PythonProject\\UltralyticsPotholes\\potholes\\part3\\a92o7whf.jpg: 480x640 1 potholes, 33.9ms\n",
      "image 161/490 E:\\University\\PythonProject\\UltralyticsPotholes\\potholes\\part3\\a9ssldo4.jpg: 384x640 2 potholess, 25.9ms\n",
      "image 162/490 E:\\University\\PythonProject\\UltralyticsPotholes\\potholes\\part3\\a9xb0fay.jpg: 448x640 (no detections), 32.9ms\n",
      "image 163/490 E:\\University\\PythonProject\\UltralyticsPotholes\\potholes\\part3\\aac642vm.jpg: 448x640 (no detections), 33.9ms\n",
      "image 164/490 E:\\University\\PythonProject\\UltralyticsPotholes\\potholes\\part3\\aaotqerj.jpg: 480x640 (no detections), 26.9ms\n",
      "image 165/490 E:\\University\\PythonProject\\UltralyticsPotholes\\potholes\\part3\\aatb8qpa.jpg: 480x640 1 potholes, 24.9ms\n",
      "image 166/490 E:\\University\\PythonProject\\UltralyticsPotholes\\potholes\\part3\\aatuu64l.jpg: 448x640 (no detections), 25.9ms\n",
      "image 167/490 E:\\University\\PythonProject\\UltralyticsPotholes\\potholes\\part3\\aavmx770.jpg: 384x640 (no detections), 22.9ms\n",
      "image 168/490 E:\\University\\PythonProject\\UltralyticsPotholes\\potholes\\part3\\abb7jjuc.jpg: 384x640 2 potholess, 19.9ms\n",
      "image 169/490 E:\\University\\PythonProject\\UltralyticsPotholes\\potholes\\part3\\abrshlyx.jpg: 640x640 (no detections), 30.9ms\n",
      "image 170/490 E:\\University\\PythonProject\\UltralyticsPotholes\\potholes\\part3\\abs34l8y.jpg: 640x480 (no detections), 24.9ms\n",
      "image 171/490 E:\\University\\PythonProject\\UltralyticsPotholes\\potholes\\part3\\abw1gmx3.jpg: 448x640 (no detections), 24.9ms\n",
      "image 172/490 E:\\University\\PythonProject\\UltralyticsPotholes\\potholes\\part3\\ac2p903u.jpg: 480x640 (no detections), 23.9ms\n",
      "image 173/490 E:\\University\\PythonProject\\UltralyticsPotholes\\potholes\\part3\\acrerak1.jpg: 352x640 (no detections), 19.9ms\n",
      "image 174/490 E:\\University\\PythonProject\\UltralyticsPotholes\\potholes\\part3\\acye3cmb.jpg: 640x640 4 potholess, 27.9ms\n",
      "image 175/490 E:\\University\\PythonProject\\UltralyticsPotholes\\potholes\\part3\\ad7zj7pp.jpg: 480x640 3 potholess, 50.9ms\n",
      "image 176/490 E:\\University\\PythonProject\\UltralyticsPotholes\\potholes\\part3\\adfonurl.jpg: 640x480 6 potholess, 22.9ms\n",
      "image 177/490 E:\\University\\PythonProject\\UltralyticsPotholes\\potholes\\part3\\ae128zbb.jpg: 384x640 3 potholess, 31.9ms\n",
      "image 178/490 E:\\University\\PythonProject\\UltralyticsPotholes\\potholes\\part3\\ae7kui15.jpg: 384x640 3 potholess, 17.0ms\n",
      "image 179/490 E:\\University\\PythonProject\\UltralyticsPotholes\\potholes\\part3\\aehuyahw.jpg: 640x480 (no detections), 24.9ms\n",
      "image 180/490 E:\\University\\PythonProject\\UltralyticsPotholes\\potholes\\part3\\aeqkcgfl.jpg: 480x640 2 potholess, 24.9ms\n",
      "image 181/490 E:\\University\\PythonProject\\UltralyticsPotholes\\potholes\\part3\\aeutcjus.jpg: 384x640 2 potholess, 19.9ms\n",
      "image 182/490 E:\\University\\PythonProject\\UltralyticsPotholes\\potholes\\part3\\af7kqpx0.jpg: 384x640 2 potholess, 18.0ms\n",
      "image 183/490 E:\\University\\PythonProject\\UltralyticsPotholes\\potholes\\part3\\afbvjqtw.jpg: 640x544 1 potholes, 31.9ms\n",
      "image 184/490 E:\\University\\PythonProject\\UltralyticsPotholes\\potholes\\part3\\agrsszcq.jpg: 352x640 1 potholes, 25.9ms\n",
      "image 185/490 E:\\University\\PythonProject\\UltralyticsPotholes\\potholes\\part3\\ahaehpk4.jpg: 448x640 1 potholes, 33.9ms\n",
      "image 186/490 E:\\University\\PythonProject\\UltralyticsPotholes\\potholes\\part3\\ahd3ws0y.jpg: 384x640 2 potholess, 28.9ms\n",
      "image 187/490 E:\\University\\PythonProject\\UltralyticsPotholes\\potholes\\part3\\aici7jmi.jpg: 480x640 (no detections), 35.9ms\n",
      "image 188/490 E:\\University\\PythonProject\\UltralyticsPotholes\\potholes\\part3\\aji32hew.jpg: 640x512 2 potholess, 33.9ms\n",
      "image 189/490 E:\\University\\PythonProject\\UltralyticsPotholes\\potholes\\part3\\ajpphvtd.jpg: 448x640 2 potholess, 33.9ms\n",
      "image 190/490 E:\\University\\PythonProject\\UltralyticsPotholes\\potholes\\part3\\ak4yblg3.jpg: 416x640 5 potholess, 28.9ms\n",
      "image 191/490 E:\\University\\PythonProject\\UltralyticsPotholes\\potholes\\part3\\akf8rjsh.jpg: 352x640 1 potholes, 21.9ms\n",
      "image 192/490 E:\\University\\PythonProject\\UltralyticsPotholes\\potholes\\part3\\akhlxwh5.jpg: 448x640 4 potholess, 27.9ms\n",
      "image 193/490 E:\\University\\PythonProject\\UltralyticsPotholes\\potholes\\part3\\akuzhtw3.jpg: 448x640 (no detections), 26.9ms\n",
      "image 194/490 E:\\University\\PythonProject\\UltralyticsPotholes\\potholes\\part3\\akylbr3g.jpg: 480x640 1 potholes, 68.8ms\n",
      "image 195/490 E:\\University\\PythonProject\\UltralyticsPotholes\\potholes\\part3\\al3jgar8.jpg: 640x480 2 potholess, 21.9ms\n",
      "image 196/490 E:\\University\\PythonProject\\UltralyticsPotholes\\potholes\\part3\\alylg3lk.jpg: 384x640 1 potholes, 38.9ms\n",
      "image 197/490 E:\\University\\PythonProject\\UltralyticsPotholes\\potholes\\part3\\amnr3rhl.jpg: 640x640 1 potholes, 58.8ms\n",
      "image 198/490 E:\\University\\PythonProject\\UltralyticsPotholes\\potholes\\part3\\amupbcxi.jpg: 448x640 2 potholess, 21.9ms\n",
      "image 199/490 E:\\University\\PythonProject\\UltralyticsPotholes\\potholes\\part3\\an0yebit.jpg: 640x480 5 potholess, 21.9ms\n",
      "image 200/490 E:\\University\\PythonProject\\UltralyticsPotholes\\potholes\\part3\\an4id2uu.jpg: 640x480 (no detections), 19.9ms\n",
      "image 201/490 E:\\University\\PythonProject\\UltralyticsPotholes\\potholes\\part3\\an7illub.jpg: 352x640 2 potholess, 18.0ms\n",
      "image 202/490 E:\\University\\PythonProject\\UltralyticsPotholes\\potholes\\part3\\anf59y1a.jpg: 480x640 2 potholess, 22.9ms\n",
      "image 203/490 E:\\University\\PythonProject\\UltralyticsPotholes\\potholes\\part3\\aofmtxah.jpg: 416x640 1 potholes, 21.9ms\n",
      "image 204/490 E:\\University\\PythonProject\\UltralyticsPotholes\\potholes\\part3\\ap8gdi1h.jpg: 384x640 (no detections), 18.0ms\n",
      "image 205/490 E:\\University\\PythonProject\\UltralyticsPotholes\\potholes\\part3\\ap9o18vg.jpg: 288x640 2 potholess, 24.9ms\n",
      "image 206/490 E:\\University\\PythonProject\\UltralyticsPotholes\\potholes\\part3\\apenlmrn.jpg: 384x640 1 potholes, 18.9ms\n",
      "image 207/490 E:\\University\\PythonProject\\UltralyticsPotholes\\potholes\\part3\\aptpks6u.jpg: 640x480 5 potholess, 23.9ms\n",
      "image 208/490 E:\\University\\PythonProject\\UltralyticsPotholes\\potholes\\part3\\aq10ek4z.jpg: 640x640 3 potholess, 39.9ms\n",
      "image 209/490 E:\\University\\PythonProject\\UltralyticsPotholes\\potholes\\part3\\aq4joijl.jpg: 384x640 1 potholes, 24.9ms\n",
      "image 210/490 E:\\University\\PythonProject\\UltralyticsPotholes\\potholes\\part3\\aq5drrd5.jpg: 448x640 3 potholess, 33.9ms\n",
      "image 211/490 E:\\University\\PythonProject\\UltralyticsPotholes\\potholes\\part3\\aq5kdd50.jpg: 640x480 1 potholes, 34.9ms\n",
      "image 212/490 E:\\University\\PythonProject\\UltralyticsPotholes\\potholes\\part3\\aqgzjtc6.jpg: 480x640 1 potholes, 37.9ms\n",
      "image 213/490 E:\\University\\PythonProject\\UltralyticsPotholes\\potholes\\part3\\aqyc06hq.jpg: 384x640 (no detections), 29.9ms\n",
      "image 214/490 E:\\University\\PythonProject\\UltralyticsPotholes\\potholes\\part3\\ar4v4nmy.jpg: 640x640 2 potholess, 42.9ms\n",
      "image 215/490 E:\\University\\PythonProject\\UltralyticsPotholes\\potholes\\part3\\ar5s6x5a.jpg: 640x640 1 potholes, 39.9ms\n",
      "image 216/490 E:\\University\\PythonProject\\UltralyticsPotholes\\potholes\\part3\\arg7uas7.jpg: 352x640 (no detections), 27.9ms\n",
      "image 217/490 E:\\University\\PythonProject\\UltralyticsPotholes\\potholes\\part3\\asfwz4cz.jpg: 480x640 (no detections), 30.9ms\n",
      "image 218/490 E:\\University\\PythonProject\\UltralyticsPotholes\\potholes\\part3\\at4akq41.jpg: 384x640 2 potholess, 19.9ms\n",
      "image 219/490 E:\\University\\PythonProject\\UltralyticsPotholes\\potholes\\part3\\atk45r26.jpg: 384x640 (no detections), 18.9ms\n",
      "image 220/490 E:\\University\\PythonProject\\UltralyticsPotholes\\potholes\\part3\\auhh5ab3.jpg: 640x640 (no detections), 28.9ms\n",
      "image 221/490 E:\\University\\PythonProject\\UltralyticsPotholes\\potholes\\part3\\aujz6fi1.jpg: 640x640 (no detections), 24.9ms\n",
      "image 222/490 E:\\University\\PythonProject\\UltralyticsPotholes\\potholes\\part3\\av0hpbpg.jpg: 352x640 2 potholess, 18.9ms\n",
      "image 223/490 E:\\University\\PythonProject\\UltralyticsPotholes\\potholes\\part3\\avaq35gx.jpg: 640x640 1 potholes, 25.9ms\n",
      "image 224/490 E:\\University\\PythonProject\\UltralyticsPotholes\\potholes\\part3\\avw6rnfa.jpg: 288x640 1 potholes, 17.0ms\n",
      "image 225/490 E:\\University\\PythonProject\\UltralyticsPotholes\\potholes\\part3\\aw9xjptm.jpg: 416x640 2 potholess, 20.9ms\n",
      "image 226/490 E:\\University\\PythonProject\\UltralyticsPotholes\\potholes\\part3\\awirw8te.jpg: 480x640 25 potholess, 22.9ms\n",
      "image 227/490 E:\\University\\PythonProject\\UltralyticsPotholes\\potholes\\part3\\awmk53sd.jpg: 640x640 (no detections), 25.9ms\n",
      "image 228/490 E:\\University\\PythonProject\\UltralyticsPotholes\\potholes\\part3\\awq2i0us.jpg: 448x640 4 potholess, 21.9ms\n",
      "image 229/490 E:\\University\\PythonProject\\UltralyticsPotholes\\potholes\\part3\\awsfzaw0.jpg: 448x640 11 potholess, 22.9ms\n",
      "image 230/490 E:\\University\\PythonProject\\UltralyticsPotholes\\potholes\\part3\\awvmmabn.jpg: 480x640 3 potholess, 23.9ms\n",
      "image 231/490 E:\\University\\PythonProject\\UltralyticsPotholes\\potholes\\part3\\ayh4bkzg.jpg: 448x640 1 potholes, 23.9ms\n",
      "image 232/490 E:\\University\\PythonProject\\UltralyticsPotholes\\potholes\\part3\\ayngs4uj.jpg: 640x576 2 potholess, 313.2ms\n",
      "image 233/490 E:\\University\\PythonProject\\UltralyticsPotholes\\potholes\\part3\\ayx0rdh0.jpg: 640x640 (no detections), 25.9ms\n",
      "image 234/490 E:\\University\\PythonProject\\UltralyticsPotholes\\potholes\\part3\\ayyfgohz.jpg: 448x640 1 potholes, 23.9ms\n",
      "image 235/490 E:\\University\\PythonProject\\UltralyticsPotholes\\potholes\\part3\\ayysu862.jpg: 448x640 1 potholes, 27.9ms\n",
      "image 236/490 E:\\University\\PythonProject\\UltralyticsPotholes\\potholes\\part3\\aza7r1j6.jpg: 640x640 2 potholess, 26.9ms\n",
      "image 237/490 E:\\University\\PythonProject\\UltralyticsPotholes\\potholes\\part3\\b0483vj1.jpg: 448x640 (no detections), 23.9ms\n",
      "image 238/490 E:\\University\\PythonProject\\UltralyticsPotholes\\potholes\\part3\\b0obfcbk.jpg: 640x640 1 potholes, 26.9ms\n",
      "image 239/490 E:\\University\\PythonProject\\UltralyticsPotholes\\potholes\\part3\\b0qwolyo.jpg: 448x640 2 potholess, 55.9ms\n",
      "image 240/490 E:\\University\\PythonProject\\UltralyticsPotholes\\potholes\\part3\\b1pibc52.jpg: 384x640 3 potholess, 24.9ms\n",
      "image 241/490 E:\\University\\PythonProject\\UltralyticsPotholes\\potholes\\part3\\b21dw3re.jpg: 448x640 3 potholess, 24.9ms\n",
      "image 242/490 E:\\University\\PythonProject\\UltralyticsPotholes\\potholes\\part3\\b23fws6u.jpg: 640x640 4 potholess, 28.9ms\n",
      "image 243/490 E:\\University\\PythonProject\\UltralyticsPotholes\\potholes\\part3\\b2io9f8k.jpg: 448x640 2 potholess, 24.9ms\n",
      "image 244/490 E:\\University\\PythonProject\\UltralyticsPotholes\\potholes\\part3\\b2tx77tc.jpg: 448x640 1 potholes, 43.9ms\n",
      "image 245/490 E:\\University\\PythonProject\\UltralyticsPotholes\\potholes\\part3\\b2z6ucns.jpg: 448x640 1 potholes, 22.9ms\n",
      "image 246/490 E:\\University\\PythonProject\\UltralyticsPotholes\\potholes\\part3\\b3m7dbwd.jpg: 640x640 (no detections), 27.9ms\n",
      "image 247/490 E:\\University\\PythonProject\\UltralyticsPotholes\\potholes\\part3\\b3p6j0fh.jpg: 448x640 (no detections), 25.9ms\n",
      "image 248/490 E:\\University\\PythonProject\\UltralyticsPotholes\\potholes\\part3\\b4dhh72i.jpg: 384x640 3 potholess, 18.0ms\n",
      "image 249/490 E:\\University\\PythonProject\\UltralyticsPotholes\\potholes\\part3\\b4x541ga.jpg: 448x640 2 potholess, 23.9ms\n",
      "image 250/490 E:\\University\\PythonProject\\UltralyticsPotholes\\potholes\\part3\\b59alij5.jpg: 384x640 1 potholes, 19.0ms\n",
      "image 251/490 E:\\University\\PythonProject\\UltralyticsPotholes\\potholes\\part3\\b5bdzekg.jpg: 384x640 3 potholess, 18.9ms\n",
      "image 252/490 E:\\University\\PythonProject\\UltralyticsPotholes\\potholes\\part3\\b5gu4k65.jpg: 448x640 5 potholess, 28.9ms\n",
      "image 253/490 E:\\University\\PythonProject\\UltralyticsPotholes\\potholes\\part3\\b617kxof.jpg: 448x640 1 potholes, 34.9ms\n",
      "image 254/490 E:\\University\\PythonProject\\UltralyticsPotholes\\potholes\\part3\\b64sd6c0.jpg: 384x640 1 potholes, 26.9ms\n",
      "image 255/490 E:\\University\\PythonProject\\UltralyticsPotholes\\potholes\\part3\\b6em1v7n.jpg: 384x640 2 potholess, 25.9ms\n",
      "image 256/490 E:\\University\\PythonProject\\UltralyticsPotholes\\potholes\\part3\\b6h2pkj8.jpg: 320x640 1 potholes, 25.9ms\n",
      "image 257/490 E:\\University\\PythonProject\\UltralyticsPotholes\\potholes\\part3\\b6ihwukl.jpg: 320x640 1 potholes, 25.9ms\n",
      "image 258/490 E:\\University\\PythonProject\\UltralyticsPotholes\\potholes\\part3\\b6mpvslv.jpg: 320x640 1 potholes, 23.9ms\n",
      "image 259/490 E:\\University\\PythonProject\\UltralyticsPotholes\\potholes\\part3\\b75jsnvx.jpg: 384x640 1 potholes, 25.9ms\n",
      "image 260/490 E:\\University\\PythonProject\\UltralyticsPotholes\\potholes\\part3\\b76886wh.jpg: 384x640 (no detections), 22.9ms\n",
      "image 261/490 E:\\University\\PythonProject\\UltralyticsPotholes\\potholes\\part3\\b778oi0h.jpg: 480x640 2 potholess, 33.9ms\n",
      "image 262/490 E:\\University\\PythonProject\\UltralyticsPotholes\\potholes\\part3\\b79gdnoj.jpg: 384x640 (no detections), 21.9ms\n",
      "image 263/490 E:\\University\\PythonProject\\UltralyticsPotholes\\potholes\\part3\\b7g2ii41.jpg: 640x480 3 potholess, 26.9ms\n",
      "image 264/490 E:\\University\\PythonProject\\UltralyticsPotholes\\potholes\\part3\\b7je45fu.jpg: 480x640 4 potholess, 26.9ms\n",
      "image 265/490 E:\\University\\PythonProject\\UltralyticsPotholes\\potholes\\part3\\b7wh1fbw.jpg: 384x640 3 potholess, 65.8ms\n",
      "image 266/490 E:\\University\\PythonProject\\UltralyticsPotholes\\potholes\\part3\\b80g03m1.jpg: 448x640 2 potholess, 31.9ms\n",
      "image 267/490 E:\\University\\PythonProject\\UltralyticsPotholes\\potholes\\part3\\b8u20dqx.jpg: 448x640 4 potholess, 25.9ms\n",
      "image 268/490 E:\\University\\PythonProject\\UltralyticsPotholes\\potholes\\part3\\b903oxt7.jpg: 352x640 4 potholess, 20.9ms\n",
      "image 269/490 E:\\University\\PythonProject\\UltralyticsPotholes\\potholes\\part3\\b90daya2.jpg: 384x640 1 potholes, 22.9ms\n",
      "image 270/490 E:\\University\\PythonProject\\UltralyticsPotholes\\potholes\\part3\\b98ho1ez.jpg: 448x640 1 potholes, 25.9ms\n",
      "image 271/490 E:\\University\\PythonProject\\UltralyticsPotholes\\potholes\\part3\\ba4vfxh6.jpg: 448x640 3 potholess, 24.9ms\n",
      "image 272/490 E:\\University\\PythonProject\\UltralyticsPotholes\\potholes\\part3\\ba8sqjbd.jpg: 640x640 1 potholes, 31.9ms\n",
      "image 273/490 E:\\University\\PythonProject\\UltralyticsPotholes\\potholes\\part3\\balau19m.jpg: 640x480 3 potholess, 28.9ms\n",
      "image 274/490 E:\\University\\PythonProject\\UltralyticsPotholes\\potholes\\part3\\bauy2lhd.jpg: 640x640 (no detections), 29.9ms\n",
      "image 275/490 E:\\University\\PythonProject\\UltralyticsPotholes\\potholes\\part3\\bavsha2m.jpg: 480x640 (no detections), 27.9ms\n",
      "image 276/490 E:\\University\\PythonProject\\UltralyticsPotholes\\potholes\\part3\\bb9oa1ku.jpg: 448x640 3 potholess, 26.9ms\n",
      "image 277/490 E:\\University\\PythonProject\\UltralyticsPotholes\\potholes\\part3\\bbf7ldca.jpg: 352x640 3 potholess, 19.9ms\n",
      "image 278/490 E:\\University\\PythonProject\\UltralyticsPotholes\\potholes\\part3\\bbif47qc.jpg: 416x640 (no detections), 25.9ms\n",
      "image 279/490 E:\\University\\PythonProject\\UltralyticsPotholes\\potholes\\part3\\bbpdyrii.jpg: 480x640 2 potholess, 25.9ms\n",
      "image 280/490 E:\\University\\PythonProject\\UltralyticsPotholes\\potholes\\part3\\bbyhm5qz.jpg: 448x640 (no detections), 24.9ms\n",
      "image 281/490 E:\\University\\PythonProject\\UltralyticsPotholes\\potholes\\part3\\bc388nlu.jpg: 640x544 1 potholes, 30.9ms\n",
      "image 282/490 E:\\University\\PythonProject\\UltralyticsPotholes\\potholes\\part3\\bce6n4v9.jpg: 640x640 1 potholes, 27.9ms\n",
      "image 283/490 E:\\University\\PythonProject\\UltralyticsPotholes\\potholes\\part3\\bd9rwwyh.jpg: 416x640 1 potholes, 22.9ms\n",
      "image 284/490 E:\\University\\PythonProject\\UltralyticsPotholes\\potholes\\part3\\bddddkqh.jpg: 448x640 1 potholes, 23.9ms\n",
      "image 285/490 E:\\University\\PythonProject\\UltralyticsPotholes\\potholes\\part3\\bdx0wfee.jpg: 320x640 1 potholes, 17.9ms\n",
      "image 286/490 E:\\University\\PythonProject\\UltralyticsPotholes\\potholes\\part3\\be3yjdoi.jpg: 640x448 3 potholess, 22.9ms\n",
      "image 287/490 E:\\University\\PythonProject\\UltralyticsPotholes\\potholes\\part3\\beehrqy7.jpg: 640x640 3 potholess, 26.9ms\n",
      "image 288/490 E:\\University\\PythonProject\\UltralyticsPotholes\\potholes\\part3\\beoqnc8i.jpg: 640x640 3 potholess, 99.7ms\n",
      "image 289/490 E:\\University\\PythonProject\\UltralyticsPotholes\\potholes\\part3\\bfa647m8.jpg: 384x640 2 potholess, 38.9ms\n",
      "image 290/490 E:\\University\\PythonProject\\UltralyticsPotholes\\potholes\\part3\\bfr6eq03.jpg: 480x640 3 potholess, 25.9ms\n",
      "image 291/490 E:\\University\\PythonProject\\UltralyticsPotholes\\potholes\\part3\\bg7w5071.jpg: 448x640 3 potholess, 22.9ms\n",
      "image 292/490 E:\\University\\PythonProject\\UltralyticsPotholes\\potholes\\part3\\bgoavtsb.jpg: 640x480 7 potholess, 21.9ms\n",
      "image 293/490 E:\\University\\PythonProject\\UltralyticsPotholes\\potholes\\part3\\bh1bzfjz.jpg: 384x640 2 potholess, 18.9ms\n",
      "image 294/490 E:\\University\\PythonProject\\UltralyticsPotholes\\potholes\\part3\\bhowpdsa.jpg: 384x640 (no detections), 17.0ms\n",
      "image 295/490 E:\\University\\PythonProject\\UltralyticsPotholes\\potholes\\part3\\bigts2xn.jpg: 384x640 3 potholess, 18.9ms\n",
      "image 296/490 E:\\University\\PythonProject\\UltralyticsPotholes\\potholes\\part3\\bipc2axy.jpg: 640x512 2 potholess, 27.9ms\n",
      "image 297/490 E:\\University\\PythonProject\\UltralyticsPotholes\\potholes\\part3\\biv6z5rm.jpg: 384x640 3 potholess, 22.9ms\n",
      "image 298/490 E:\\University\\PythonProject\\UltralyticsPotholes\\potholes\\part3\\bj9aesbz.jpg: 480x640 4 potholess, 29.9ms\n",
      "image 299/490 E:\\University\\PythonProject\\UltralyticsPotholes\\potholes\\part3\\bjec6q83.jpg: 640x480 5 potholess, 37.9ms\n",
      "image 300/490 E:\\University\\PythonProject\\UltralyticsPotholes\\potholes\\part3\\bjmqgkvb.jpg: 416x640 3 potholess, 48.9ms\n",
      "image 301/490 E:\\University\\PythonProject\\UltralyticsPotholes\\potholes\\part3\\bk0xcjy1.jpg: 640x640 (no detections), 52.9ms\n",
      "image 302/490 E:\\University\\PythonProject\\UltralyticsPotholes\\potholes\\part3\\bkujtcsn.jpg: 640x384 5 potholess, 29.9ms\n",
      "image 303/490 E:\\University\\PythonProject\\UltralyticsPotholes\\potholes\\part3\\bkw2kd75.jpg: 640x576 (no detections), 40.9ms\n",
      "image 304/490 E:\\University\\PythonProject\\UltralyticsPotholes\\potholes\\part3\\bkycfvzv.jpg: 416x640 1 potholes, 38.9ms\n",
      "image 305/490 E:\\University\\PythonProject\\UltralyticsPotholes\\potholes\\part3\\bl6xol8b.jpg: 448x640 1 potholes, 29.9ms\n",
      "image 306/490 E:\\University\\PythonProject\\UltralyticsPotholes\\potholes\\part3\\blxgiv0n.jpg: 352x640 (no detections), 21.9ms\n",
      "image 307/490 E:\\University\\PythonProject\\UltralyticsPotholes\\potholes\\part3\\bm5yudvl.jpg: 416x640 (no detections), 27.9ms\n",
      "image 308/490 E:\\University\\PythonProject\\UltralyticsPotholes\\potholes\\part3\\bma3dt1m.jpg: 320x640 1 potholes, 32.9ms\n",
      "image 309/490 E:\\University\\PythonProject\\UltralyticsPotholes\\potholes\\part3\\bmcqa8pb.jpg: 480x640 2 potholess, 39.9ms\n",
      "image 310/490 E:\\University\\PythonProject\\UltralyticsPotholes\\potholes\\part3\\bmgbudui.jpg: 448x640 1 potholes, 27.9ms\n",
      "image 311/490 E:\\University\\PythonProject\\UltralyticsPotholes\\potholes\\part3\\bmv6qy66.jpg: 480x640 (no detections), 28.9ms\n",
      "image 312/490 E:\\University\\PythonProject\\UltralyticsPotholes\\potholes\\part3\\bmvouue9.jpg: 448x640 6 potholess, 27.9ms\n",
      "image 313/490 E:\\University\\PythonProject\\UltralyticsPotholes\\potholes\\part3\\bn18gtme.jpg: 352x640 2 potholess, 20.9ms\n",
      "image 314/490 E:\\University\\PythonProject\\UltralyticsPotholes\\potholes\\part3\\bn6kva5i.jpg: 320x640 1 potholes, 20.9ms\n",
      "image 315/490 E:\\University\\PythonProject\\UltralyticsPotholes\\potholes\\part3\\bnh5s17n.jpg: 448x640 1 potholes, 26.9ms\n",
      "image 316/490 E:\\University\\PythonProject\\UltralyticsPotholes\\potholes\\part3\\bntg2s7h.jpg: 384x640 1 potholes, 21.9ms\n",
      "image 317/490 E:\\University\\PythonProject\\UltralyticsPotholes\\potholes\\part3\\bochmcmj.jpg: 384x640 12 potholess, 39.9ms\n",
      "image 318/490 E:\\University\\PythonProject\\UltralyticsPotholes\\potholes\\part3\\bp2ib7tv.jpg: 448x640 2 potholess, 108.2ms\n",
      "image 319/490 E:\\University\\PythonProject\\UltralyticsPotholes\\potholes\\part3\\bpcjo7lj.jpg: 480x640 (no detections), 80.8ms\n",
      "image 320/490 E:\\University\\PythonProject\\UltralyticsPotholes\\potholes\\part3\\bpnjbf44.jpg: 640x640 (no detections), 56.8ms\n",
      "image 321/490 E:\\University\\PythonProject\\UltralyticsPotholes\\potholes\\part3\\bqadbnum.jpg: 448x640 3 potholess, 25.9ms\n",
      "image 322/490 E:\\University\\PythonProject\\UltralyticsPotholes\\potholes\\part3\\bqtcplgc.jpg: 640x640 (no detections), 27.9ms\n",
      "image 323/490 E:\\University\\PythonProject\\UltralyticsPotholes\\potholes\\part3\\brfww3e8.jpg: 384x640 4 potholess, 20.9ms\n",
      "image 324/490 E:\\University\\PythonProject\\UltralyticsPotholes\\potholes\\part3\\brqri1u6.jpg: 384x640 (no detections), 18.9ms\n",
      "image 325/490 E:\\University\\PythonProject\\UltralyticsPotholes\\potholes\\part3\\brs8tn42.jpg: 384x640 3 potholess, 21.9ms\n",
      "image 326/490 E:\\University\\PythonProject\\UltralyticsPotholes\\potholes\\part3\\bs13bj9f.jpg: 448x640 1 potholes, 26.9ms\n",
      "image 327/490 E:\\University\\PythonProject\\UltralyticsPotholes\\potholes\\part3\\bsbil0vk.jpg: 384x640 (no detections), 19.0ms\n",
      "image 328/490 E:\\University\\PythonProject\\UltralyticsPotholes\\potholes\\part3\\bsgqinb5.jpg: 640x480 2 potholess, 24.9ms\n",
      "image 329/490 E:\\University\\PythonProject\\UltralyticsPotholes\\potholes\\part3\\bswb9urm.jpg: 480x640 (no detections), 23.9ms\n",
      "image 330/490 E:\\University\\PythonProject\\UltralyticsPotholes\\potholes\\part3\\bswi48h8.jpg: 320x640 1 potholes, 20.9ms\n",
      "image 331/490 E:\\University\\PythonProject\\UltralyticsPotholes\\potholes\\part3\\bt3kzmml.jpg: 448x640 1 potholes, 24.9ms\n",
      "image 332/490 E:\\University\\PythonProject\\UltralyticsPotholes\\potholes\\part3\\btc9w5yu.jpg: 640x480 2 potholess, 22.9ms\n",
      "image 333/490 E:\\University\\PythonProject\\UltralyticsPotholes\\potholes\\part3\\bts5lc4c.jpg: 640x640 2 potholess, 25.9ms\n",
      "image 334/490 E:\\University\\PythonProject\\UltralyticsPotholes\\potholes\\part3\\btttf93y.jpg: 640x448 3 potholess, 20.9ms\n",
      "image 335/490 E:\\University\\PythonProject\\UltralyticsPotholes\\potholes\\part3\\bucf55cm.jpg: 352x640 (no detections), 18.0ms\n",
      "image 336/490 E:\\University\\PythonProject\\UltralyticsPotholes\\potholes\\part3\\bugigghk.jpg: 480x640 (no detections), 23.9ms\n",
      "image 337/490 E:\\University\\PythonProject\\UltralyticsPotholes\\potholes\\part3\\bv8xq7cd.jpg: 384x640 (no detections), 64.8ms\n",
      "image 338/490 E:\\University\\PythonProject\\UltralyticsPotholes\\potholes\\part3\\bvu2y8u6.jpg: 640x640 (no detections), 63.8ms\n",
      "image 339/490 E:\\University\\PythonProject\\UltralyticsPotholes\\potholes\\part3\\bvupvop6.jpg: 288x640 (no detections), 16.0ms\n",
      "image 340/490 E:\\University\\PythonProject\\UltralyticsPotholes\\potholes\\part3\\bw3hdtwj.jpg: 640x640 1 potholes, 25.9ms\n",
      "image 341/490 E:\\University\\PythonProject\\UltralyticsPotholes\\potholes\\part3\\bxq2m3q3.jpg: 384x640 1 potholes, 24.9ms\n",
      "image 342/490 E:\\University\\PythonProject\\UltralyticsPotholes\\potholes\\part3\\byus3bl8.jpg: 384x640 3 potholess, 30.9ms\n",
      "image 343/490 E:\\University\\PythonProject\\UltralyticsPotholes\\potholes\\part3\\bzeshwfg.jpg: 448x640 1 potholes, 24.9ms\n",
      "image 344/490 E:\\University\\PythonProject\\UltralyticsPotholes\\potholes\\part3\\bznrgynn.jpg: 480x640 2 potholess, 25.9ms\n",
      "image 345/490 E:\\University\\PythonProject\\UltralyticsPotholes\\potholes\\part3\\bzwmyaxj.jpg: 640x640 2 potholess, 31.9ms\n",
      "image 346/490 E:\\University\\PythonProject\\UltralyticsPotholes\\potholes\\part3\\c0vlep2c.jpg: 384x640 1 potholes, 21.9ms\n",
      "image 347/490 E:\\University\\PythonProject\\UltralyticsPotholes\\potholes\\part3\\c11a79tr.jpg: 640x480 (no detections), 25.9ms\n",
      "image 348/490 E:\\University\\PythonProject\\UltralyticsPotholes\\potholes\\part3\\c139j0hp.jpg: 384x640 (no detections), 24.9ms\n",
      "image 349/490 E:\\University\\PythonProject\\UltralyticsPotholes\\potholes\\part3\\c1h5aoy9.jpg: 416x640 5 potholess, 33.9ms\n",
      "image 350/490 E:\\University\\PythonProject\\UltralyticsPotholes\\potholes\\part3\\c1n13pss.jpg: 416x640 (no detections), 29.9ms\n",
      "image 351/490 E:\\University\\PythonProject\\UltralyticsPotholes\\potholes\\part3\\c1t8k82c.jpg: 448x640 5 potholess, 34.9ms\n",
      "image 352/490 E:\\University\\PythonProject\\UltralyticsPotholes\\potholes\\part3\\c1tnok6h.jpg: 352x640 2 potholess, 25.9ms\n",
      "image 353/490 E:\\University\\PythonProject\\UltralyticsPotholes\\potholes\\part3\\c1vvnkow.jpg: 384x640 1 potholes, 24.9ms\n",
      "image 354/490 E:\\University\\PythonProject\\UltralyticsPotholes\\potholes\\part3\\c22msux1.jpg: 384x640 1 potholes, 23.9ms\n",
      "image 355/490 E:\\University\\PythonProject\\UltralyticsPotholes\\potholes\\part3\\c2zeq8tw.jpg: 448x640 (no detections), 33.9ms\n",
      "image 356/490 E:\\University\\PythonProject\\UltralyticsPotholes\\potholes\\part3\\c36sauyo.jpg: 640x640 2 potholess, 78.8ms\n",
      "image 357/490 E:\\University\\PythonProject\\UltralyticsPotholes\\potholes\\part3\\c3d4rzpo.jpg: 352x640 1 potholes, 55.9ms\n",
      "image 358/490 E:\\University\\PythonProject\\UltralyticsPotholes\\potholes\\part3\\c3mwmc20.jpg: 640x640 2 potholess, 40.9ms\n",
      "image 359/490 E:\\University\\PythonProject\\UltralyticsPotholes\\potholes\\part3\\c4hut3sr.jpg: 480x640 (no detections), 39.9ms\n",
      "image 360/490 E:\\University\\PythonProject\\UltralyticsPotholes\\potholes\\part3\\c4p6196j.jpg: 480x640 3 potholess, 40.9ms\n",
      "image 361/490 E:\\University\\PythonProject\\UltralyticsPotholes\\potholes\\part3\\c4z5ai0k.jpg: 448x640 2 potholess, 42.9ms\n",
      "image 362/490 E:\\University\\PythonProject\\UltralyticsPotholes\\potholes\\part3\\c565d3wv.jpg: 640x640 1 potholes, 49.9ms\n",
      "image 363/490 E:\\University\\PythonProject\\UltralyticsPotholes\\potholes\\part3\\c5irg09j.jpg: 448x640 5 potholess, 41.9ms\n",
      "image 364/490 E:\\University\\PythonProject\\UltralyticsPotholes\\potholes\\part3\\c5nqh4xu.jpg: 448x640 6 potholess, 26.9ms\n",
      "image 365/490 E:\\University\\PythonProject\\UltralyticsPotholes\\potholes\\part3\\c5sm584i.jpg: 384x640 3 potholess, 21.9ms\n",
      "image 366/490 E:\\University\\PythonProject\\UltralyticsPotholes\\potholes\\part3\\c6fm6mbm.jpg: 448x640 1 potholes, 30.9ms\n",
      "image 367/490 E:\\University\\PythonProject\\UltralyticsPotholes\\potholes\\part3\\c6ljsmoa.jpg: 352x640 2 potholess, 21.9ms\n",
      "image 368/490 E:\\University\\PythonProject\\UltralyticsPotholes\\potholes\\part3\\c6ng5tuq.jpg: 640x480 2 potholess, 27.9ms\n",
      "image 369/490 E:\\University\\PythonProject\\UltralyticsPotholes\\potholes\\part3\\c7ih3aqv.jpg: 448x640 2 potholess, 26.9ms\n",
      "image 370/490 E:\\University\\PythonProject\\UltralyticsPotholes\\potholes\\part3\\c86yghub.jpg: 416x640 1 potholes, 28.9ms\n",
      "image 371/490 E:\\University\\PythonProject\\UltralyticsPotholes\\potholes\\part3\\c89htbb8.jpg: 640x480 1 potholes, 26.9ms\n",
      "image 372/490 E:\\University\\PythonProject\\UltralyticsPotholes\\potholes\\part3\\c9crcb0z.jpg: 448x640 5 potholess, 57.8ms\n",
      "image 373/490 E:\\University\\PythonProject\\UltralyticsPotholes\\potholes\\part3\\c9kb6mss.jpg: 480x640 2 potholess, 59.8ms\n",
      "image 374/490 E:\\University\\PythonProject\\UltralyticsPotholes\\potholes\\part3\\c9oowub9.jpg: 352x640 (no detections), 43.9ms\n",
      "image 375/490 E:\\University\\PythonProject\\UltralyticsPotholes\\potholes\\part3\\c9sbba80.jpg: 448x640 (no detections), 44.9ms\n",
      "image 376/490 E:\\University\\PythonProject\\UltralyticsPotholes\\potholes\\part3\\ca1hzwdw.jpg: 448x640 (no detections), 45.9ms\n",
      "image 377/490 E:\\University\\PythonProject\\UltralyticsPotholes\\potholes\\part3\\cab4jo4j.jpg: 480x640 1 potholes, 75.8ms\n",
      "image 378/490 E:\\University\\PythonProject\\UltralyticsPotholes\\potholes\\part3\\cavok3ea.jpg: 352x640 1 potholes, 22.9ms\n",
      "image 379/490 E:\\University\\PythonProject\\UltralyticsPotholes\\potholes\\part3\\cc80wfoi.jpg: 448x640 3 potholess, 28.9ms\n",
      "image 380/490 E:\\University\\PythonProject\\UltralyticsPotholes\\potholes\\part3\\cc82zh11.jpg: 640x640 (no detections), 31.9ms\n",
      "image 381/490 E:\\University\\PythonProject\\UltralyticsPotholes\\potholes\\part3\\ccpir5if.jpg: 640x640 (no detections), 28.9ms\n",
      "image 382/490 E:\\University\\PythonProject\\UltralyticsPotholes\\potholes\\part3\\cd85c2mg.jpg: 288x640 (no detections), 16.0ms\n",
      "image 383/490 E:\\University\\PythonProject\\UltralyticsPotholes\\potholes\\part3\\ceh1ntf5.jpg: 576x640 3 potholess, 24.9ms\n",
      "image 384/490 E:\\University\\PythonProject\\UltralyticsPotholes\\potholes\\part3\\celxiawn.jpg: 640x640 1 potholes, 25.9ms\n",
      "image 385/490 E:\\University\\PythonProject\\UltralyticsPotholes\\potholes\\part3\\cf2e9qg2.jpg: 480x640 1 potholes, 21.9ms\n",
      "image 386/490 E:\\University\\PythonProject\\UltralyticsPotholes\\potholes\\part3\\cf5bxb1m.jpg: 320x640 4 potholess, 17.0ms\n",
      "image 387/490 E:\\University\\PythonProject\\UltralyticsPotholes\\potholes\\part3\\cf8y9m68.jpg: 384x640 4 potholess, 17.0ms\n",
      "image 388/490 E:\\University\\PythonProject\\UltralyticsPotholes\\potholes\\part3\\cfkmf1he.jpg: 448x640 5 potholess, 21.9ms\n",
      "image 389/490 E:\\University\\PythonProject\\UltralyticsPotholes\\potholes\\part3\\cgjo31mz.jpg: 480x640 1 potholes, 23.9ms\n",
      "image 390/490 E:\\University\\PythonProject\\UltralyticsPotholes\\potholes\\part3\\cgx9q84z.jpg: 640x640 1 potholes, 32.2ms\n",
      "image 391/490 E:\\University\\PythonProject\\UltralyticsPotholes\\potholes\\part3\\chfrumnv.jpg: 448x640 2 potholess, 20.9ms\n",
      "image 392/490 E:\\University\\PythonProject\\UltralyticsPotholes\\potholes\\part3\\cho5mljc.jpg: 448x640 5 potholess, 19.9ms\n",
      "image 393/490 E:\\University\\PythonProject\\UltralyticsPotholes\\potholes\\part3\\ci9w0tvb.jpg: 448x640 3 potholess, 20.9ms\n",
      "image 394/490 E:\\University\\PythonProject\\UltralyticsPotholes\\potholes\\part3\\ciaw8kx6.jpg: 480x640 1 potholes, 20.9ms\n",
      "image 395/490 E:\\University\\PythonProject\\UltralyticsPotholes\\potholes\\part3\\ciewrdop.jpg: 640x448 1 potholes, 18.9ms\n",
      "image 396/490 E:\\University\\PythonProject\\UltralyticsPotholes\\potholes\\part3\\cihmru2s.jpg: 384x640 1 potholes, 17.0ms\n",
      "image 397/490 E:\\University\\PythonProject\\UltralyticsPotholes\\potholes\\part3\\ciovx95e.jpg: 352x640 (no detections), 30.9ms\n",
      "image 398/490 E:\\University\\PythonProject\\UltralyticsPotholes\\potholes\\part3\\cit1vbva.jpg: 480x640 (no detections), 22.9ms\n",
      "image 399/490 E:\\University\\PythonProject\\UltralyticsPotholes\\potholes\\part3\\cit70vna.jpg: 448x640 (no detections), 23.9ms\n",
      "image 400/490 E:\\University\\PythonProject\\UltralyticsPotholes\\potholes\\part3\\civmaj2k.jpg: 288x640 2 potholess, 17.0ms\n",
      "image 401/490 E:\\University\\PythonProject\\UltralyticsPotholes\\potholes\\part3\\cj4k5ix5.jpg: 480x640 2 potholess, 42.9ms\n",
      "image 402/490 E:\\University\\PythonProject\\UltralyticsPotholes\\potholes\\part3\\cjg0keli.jpg: 448x640 1 potholes, 37.9ms\n",
      "image 403/490 E:\\University\\PythonProject\\UltralyticsPotholes\\potholes\\part3\\cji8armx.jpg: 448x640 2 potholess, 126.7ms\n",
      "image 404/490 E:\\University\\PythonProject\\UltralyticsPotholes\\potholes\\part3\\cju5qb9t.jpg: 640x480 4 potholess, 37.9ms\n",
      "image 405/490 E:\\University\\PythonProject\\UltralyticsPotholes\\potholes\\part3\\cko4qf7p.jpg: 640x640 2 potholess, 31.9ms\n",
      "image 406/490 E:\\University\\PythonProject\\UltralyticsPotholes\\potholes\\part3\\cl1txd9b.jpg: 256x640 1 potholes, 19.9ms\n",
      "image 407/490 E:\\University\\PythonProject\\UltralyticsPotholes\\potholes\\part3\\cl2id5ir.jpg: 640x480 4 potholess, 28.9ms\n",
      "image 408/490 E:\\University\\PythonProject\\UltralyticsPotholes\\potholes\\part3\\cl9uu3uz.jpg: 384x640 (no detections), 23.9ms\n",
      "image 409/490 E:\\University\\PythonProject\\UltralyticsPotholes\\potholes\\part3\\clb44kyr.jpg: 448x640 (no detections), 28.9ms\n",
      "image 410/490 E:\\University\\PythonProject\\UltralyticsPotholes\\potholes\\part3\\cljzy6ke.jpg: 480x640 1 potholes, 450.8ms\n",
      "image 411/490 E:\\University\\PythonProject\\UltralyticsPotholes\\potholes\\part3\\cm8e0oeg.jpg: 448x640 1 potholes, 21.9ms\n",
      "image 412/490 E:\\University\\PythonProject\\UltralyticsPotholes\\potholes\\part3\\cmf6e7fp.jpg: 448x640 1 potholes, 21.9ms\n",
      "image 413/490 E:\\University\\PythonProject\\UltralyticsPotholes\\potholes\\part3\\cmfltycy.jpg: 640x480 4 potholess, 19.9ms\n",
      "image 414/490 E:\\University\\PythonProject\\UltralyticsPotholes\\potholes\\part3\\co0989bl.jpg: 640x480 3 potholess, 37.9ms\n",
      "image 415/490 E:\\University\\PythonProject\\UltralyticsPotholes\\potholes\\part3\\cojumhit.jpg: 640x512 5 potholess, 20.9ms\n",
      "image 416/490 E:\\University\\PythonProject\\UltralyticsPotholes\\potholes\\part3\\copg9n1u.jpg: 640x480 1 potholes, 21.9ms\n",
      "image 417/490 E:\\University\\PythonProject\\UltralyticsPotholes\\potholes\\part3\\cp63vcvz.jpg: 448x640 5 potholess, 21.9ms\n",
      "image 418/490 E:\\University\\PythonProject\\UltralyticsPotholes\\potholes\\part3\\cpd7obzw.jpg: 448x640 4 potholess, 20.9ms\n",
      "image 419/490 E:\\University\\PythonProject\\UltralyticsPotholes\\potholes\\part3\\cpnezba0.jpg: 384x640 (no detections), 17.0ms\n",
      "image 420/490 E:\\University\\PythonProject\\UltralyticsPotholes\\potholes\\part3\\cpotatl6.jpg: 352x640 1 potholes, 18.0ms\n",
      "image 421/490 E:\\University\\PythonProject\\UltralyticsPotholes\\potholes\\part3\\cppiet1e.jpg: 448x640 1 potholes, 22.9ms\n",
      "image 422/490 E:\\University\\PythonProject\\UltralyticsPotholes\\potholes\\part3\\cppzytmj.jpg: 384x640 5 potholess, 17.0ms\n",
      "image 423/490 E:\\University\\PythonProject\\UltralyticsPotholes\\potholes\\part3\\cpt6m240.jpg: 640x640 (no detections), 25.9ms\n",
      "image 424/490 E:\\University\\PythonProject\\UltralyticsPotholes\\potholes\\part3\\cpxmzdum.jpg: 448x640 1 potholes, 20.9ms\n",
      "image 425/490 E:\\University\\PythonProject\\UltralyticsPotholes\\potholes\\part3\\cqahn5bu.jpg: 640x640 (no detections), 23.9ms\n",
      "image 426/490 E:\\University\\PythonProject\\UltralyticsPotholes\\potholes\\part3\\cqduoavt.jpg: 448x640 2 potholess, 21.9ms\n",
      "image 427/490 E:\\University\\PythonProject\\UltralyticsPotholes\\potholes\\part3\\cr8k5g8u.jpg: 448x640 1 potholes, 19.9ms\n",
      "image 428/490 E:\\University\\PythonProject\\UltralyticsPotholes\\potholes\\part3\\crdalaj4.jpg: 448x640 2 potholess, 19.9ms\n",
      "image 429/490 E:\\University\\PythonProject\\UltralyticsPotholes\\potholes\\part3\\crm7fxkr.jpg: 640x480 1 potholes, 20.9ms\n",
      "image 430/490 E:\\University\\PythonProject\\UltralyticsPotholes\\potholes\\part3\\crn4b7sw.jpg: 448x640 3 potholess, 20.9ms\n",
      "image 431/490 E:\\University\\PythonProject\\UltralyticsPotholes\\potholes\\part3\\cs0pu7hj.jpg: 416x640 1 potholes, 20.9ms\n",
      "image 432/490 E:\\University\\PythonProject\\UltralyticsPotholes\\potholes\\part3\\cs20o6t4.jpg: 352x640 (no detections), 53.9ms\n",
      "image 433/490 E:\\University\\PythonProject\\UltralyticsPotholes\\potholes\\part3\\cse4neji.jpg: 384x640 7 potholess, 16.0ms\n",
      "image 434/490 E:\\University\\PythonProject\\UltralyticsPotholes\\potholes\\part3\\cskc6zwy.jpg: 448x640 (no detections), 22.9ms\n",
      "image 435/490 E:\\University\\PythonProject\\UltralyticsPotholes\\potholes\\part3\\ctz6y1co.jpg: 640x480 7 potholess, 25.9ms\n",
      "image 436/490 E:\\University\\PythonProject\\UltralyticsPotholes\\potholes\\part3\\cuiekybs.jpg: 320x640 3 potholess, 25.9ms\n",
      "image 437/490 E:\\University\\PythonProject\\UltralyticsPotholes\\potholes\\part3\\culq9nud.jpg: 448x640 3 potholess, 35.9ms\n",
      "image 438/490 E:\\University\\PythonProject\\UltralyticsPotholes\\potholes\\part3\\cv3cv47x.jpg: 448x640 1 potholes, 32.9ms\n",
      "image 439/490 E:\\University\\PythonProject\\UltralyticsPotholes\\potholes\\part3\\cvltipjf.jpg: 640x640 2 potholess, 34.9ms\n",
      "image 440/490 E:\\University\\PythonProject\\UltralyticsPotholes\\potholes\\part3\\cw4pr77t.jpg: 448x640 (no detections), 28.9ms\n",
      "image 441/490 E:\\University\\PythonProject\\UltralyticsPotholes\\potholes\\part3\\cx20r67t.jpg: 384x640 2 potholess, 22.9ms\n",
      "image 442/490 E:\\University\\PythonProject\\UltralyticsPotholes\\potholes\\part3\\cx96ls93.jpg: 384x640 10 potholess, 27.9ms\n",
      "image 443/490 E:\\University\\PythonProject\\UltralyticsPotholes\\potholes\\part3\\cxm5d6xb.jpg: 448x640 1 potholes, 142.6ms\n",
      "image 444/490 E:\\University\\PythonProject\\UltralyticsPotholes\\potholes\\part3\\cys55c99.jpg: 384x640 (no detections), 50.9ms\n",
      "image 445/490 E:\\University\\PythonProject\\UltralyticsPotholes\\potholes\\part3\\cz9jb224.jpg: 384x640 4 potholess, 31.9ms\n",
      "image 446/490 E:\\University\\PythonProject\\UltralyticsPotholes\\potholes\\part3\\czbd8qx7.jpg: 384x640 9 potholess, 20.9ms\n",
      "image 447/490 E:\\University\\PythonProject\\UltralyticsPotholes\\potholes\\part3\\czm669jh.jpg: 640x480 5 potholess, 25.9ms\n",
      "image 448/490 E:\\University\\PythonProject\\UltralyticsPotholes\\potholes\\part3\\czxjqyws.jpg: 640x480 (no detections), 25.9ms\n",
      "image 449/490 E:\\University\\PythonProject\\UltralyticsPotholes\\potholes\\part3\\d05yzdhp.jpg: 640x576 1 potholes, 29.9ms\n",
      "image 450/490 E:\\University\\PythonProject\\UltralyticsPotholes\\potholes\\part3\\d0j6n2s1.jpg: 416x640 14 potholess, 28.9ms\n",
      "image 451/490 E:\\University\\PythonProject\\UltralyticsPotholes\\potholes\\part3\\d0lyglzm.jpg: 384x640 (no detections), 22.9ms\n",
      "image 452/490 E:\\University\\PythonProject\\UltralyticsPotholes\\potholes\\part3\\d0tinbct.jpg: 640x480 1 potholes, 27.9ms\n",
      "image 453/490 E:\\University\\PythonProject\\UltralyticsPotholes\\potholes\\part3\\d16b9swo.jpg: 352x640 2 potholess, 21.9ms\n",
      "image 454/490 E:\\University\\PythonProject\\UltralyticsPotholes\\potholes\\part3\\d1qymo89.jpg: 640x640 (no detections), 32.9ms\n",
      "image 455/490 E:\\University\\PythonProject\\UltralyticsPotholes\\potholes\\part3\\d304b0z0.jpg: 480x640 13 potholess, 54.9ms\n",
      "image 456/490 E:\\University\\PythonProject\\UltralyticsPotholes\\potholes\\part3\\d34376yt.jpg: 640x480 3 potholess, 41.9ms\n",
      "image 457/490 E:\\University\\PythonProject\\UltralyticsPotholes\\potholes\\part3\\d372i98a.jpg: 640x640 1 potholes, 48.9ms\n",
      "image 458/490 E:\\University\\PythonProject\\UltralyticsPotholes\\potholes\\part3\\d373c5bi.jpg: 384x640 (no detections), 34.9ms\n",
      "image 459/490 E:\\University\\PythonProject\\UltralyticsPotholes\\potholes\\part3\\d3nb2yll.jpg: 384x640 8 potholess, 32.9ms\n",
      "image 460/490 E:\\University\\PythonProject\\UltralyticsPotholes\\potholes\\part3\\d3pkq3z4.jpg: 480x640 2 potholess, 37.9ms\n",
      "image 461/490 E:\\University\\PythonProject\\UltralyticsPotholes\\potholes\\part3\\d43tuw57.jpg: 480x640 1 potholes, 31.9ms\n",
      "image 462/490 E:\\University\\PythonProject\\UltralyticsPotholes\\potholes\\part3\\d46bizsm.jpg: 448x640 1 potholes, 28.9ms\n",
      "image 463/490 E:\\University\\PythonProject\\UltralyticsPotholes\\potholes\\part3\\d4hobhya.jpg: 384x640 5 potholess, 23.9ms\n",
      "image 464/490 E:\\University\\PythonProject\\UltralyticsPotholes\\potholes\\part3\\d4r49ca6.jpg: 320x640 (no detections), 18.9ms\n",
      "image 465/490 E:\\University\\PythonProject\\UltralyticsPotholes\\potholes\\part3\\d6kkl5tq.jpg: 640x640 (no detections), 27.9ms\n",
      "image 466/490 E:\\University\\PythonProject\\UltralyticsPotholes\\potholes\\part3\\d78z5bmb.jpg: 640x640 1 potholes, 26.9ms\n",
      "image 467/490 E:\\University\\PythonProject\\UltralyticsPotholes\\potholes\\part3\\d79asosl.jpg: 416x640 1 potholes, 24.9ms\n",
      "image 468/490 E:\\University\\PythonProject\\UltralyticsPotholes\\potholes\\part3\\d7bxr1gp.jpg: 480x640 2 potholess, 25.9ms\n",
      "image 469/490 E:\\University\\PythonProject\\UltralyticsPotholes\\potholes\\part3\\d7lo33po.jpg: 640x480 11 potholess, 24.9ms\n",
      "image 470/490 E:\\University\\PythonProject\\UltralyticsPotholes\\potholes\\part3\\d7zx1cqo.jpg: 640x640 (no detections), 26.9ms\n",
      "image 471/490 E:\\University\\PythonProject\\UltralyticsPotholes\\potholes\\part3\\d81a8kzb.jpg: 384x640 2 potholess, 18.9ms\n",
      "image 472/490 E:\\University\\PythonProject\\UltralyticsPotholes\\potholes\\part3\\d8d0bwaz.jpg: 384x640 (no detections), 18.0ms\n",
      "image 473/490 E:\\University\\PythonProject\\UltralyticsPotholes\\potholes\\part3\\d8fcednu.jpg: 320x640 1 potholes, 31.9ms\n",
      "image 474/490 E:\\University\\PythonProject\\UltralyticsPotholes\\potholes\\part3\\d9ehpspi.jpg: 480x640 4 potholess, 23.9ms\n",
      "image 475/490 E:\\University\\PythonProject\\UltralyticsPotholes\\potholes\\part3\\d9oxqkny.jpg: 416x640 2 potholess, 46.9ms\n",
      "image 476/490 E:\\University\\PythonProject\\UltralyticsPotholes\\potholes\\part3\\d9zpvkbb.jpg: 384x640 (no detections), 19.0ms\n",
      "image 477/490 E:\\University\\PythonProject\\UltralyticsPotholes\\potholes\\part3\\da51epbs.jpg: 384x640 1 potholes, 18.0ms\n",
      "image 478/490 E:\\University\\PythonProject\\UltralyticsPotholes\\potholes\\part3\\da5h1336.jpg: 448x640 6 potholess, 23.9ms\n",
      "image 479/490 E:\\University\\PythonProject\\UltralyticsPotholes\\potholes\\part3\\dajmp1db.jpg: 640x640 (no detections), 27.9ms\n",
      "image 480/490 E:\\University\\PythonProject\\UltralyticsPotholes\\potholes\\part3\\dane87mi.jpg: 448x640 1 potholes, 25.9ms\n",
      "image 481/490 E:\\University\\PythonProject\\UltralyticsPotholes\\potholes\\part3\\db05sy2u.jpg: 288x640 5 potholess, 16.0ms\n",
      "image 482/490 E:\\University\\PythonProject\\UltralyticsPotholes\\potholes\\part3\\db6r84rc.jpg: 480x640 2 potholess, 22.9ms\n",
      "image 483/490 E:\\University\\PythonProject\\UltralyticsPotholes\\potholes\\part3\\db7gfowu.jpg: 384x640 3 potholess, 20.9ms\n",
      "image 484/490 E:\\University\\PythonProject\\UltralyticsPotholes\\potholes\\part3\\dbm8sa5u.jpg: 480x640 5 potholess, 26.9ms\n",
      "image 485/490 E:\\University\\PythonProject\\UltralyticsPotholes\\potholes\\part3\\dc0f7rki.jpg: 448x640 (no detections), 21.9ms\n",
      "image 486/490 E:\\University\\PythonProject\\UltralyticsPotholes\\potholes\\part3\\dc43jxwg.jpg: 640x512 (no detections), 20.9ms\n",
      "image 487/490 E:\\University\\PythonProject\\UltralyticsPotholes\\potholes\\part3\\dcnitd7c.jpg: 384x640 (no detections), 17.0ms\n",
      "image 488/490 E:\\University\\PythonProject\\UltralyticsPotholes\\potholes\\part3\\ddhfbb9z.jpg: 640x640 3 potholess, 31.9ms\n",
      "image 489/490 E:\\University\\PythonProject\\UltralyticsPotholes\\potholes\\part3\\ddk00wnd.jpg: 384x640 4 potholess, 21.9ms\n",
      "image 490/490 E:\\University\\PythonProject\\UltralyticsPotholes\\potholes\\part3\\ddk5gu9i.jpg: 448x640 2 potholess, 24.9ms\n",
      "Speed: 4.1ms preprocess, 31.8ms inference, 3.6ms postprocess per image at shape (1, 3, 448, 640)\n",
      "Results saved to \u001b[1mruns\\segment\\predict\u001b[0m\n"
     ]
    }
   ],
   "source": [
    "resultThree = model('potholes\\\\part3',save=True)"
   ]
  },
  {
   "cell_type": "code",
   "execution_count": 3,
   "id": "64b2e3b68efcfd33",
   "metadata": {
    "ExecuteTime": {
     "end_time": "2023-12-11T06:20:09.689960200Z",
     "start_time": "2023-12-11T06:19:24.172833500Z"
    },
    "collapsed": false,
    "jupyter": {
     "outputs_hidden": false
    }
   },
   "outputs": [
    {
     "name": "stdout",
     "output_type": "stream",
     "text": [
      "image 1/504 E:\\University\\PythonProject\\UltralyticsPotholes\\potholes\\part4\\de0118xg.jpg: 640x384 (no detections), 69.8ms\n",
      "image 2/504 E:\\University\\PythonProject\\UltralyticsPotholes\\potholes\\part4\\dehqp7df.jpg: 480x640 2 potholess, 69.8ms\n",
      "image 3/504 E:\\University\\PythonProject\\UltralyticsPotholes\\potholes\\part4\\desvxrdm.jpg: 384x640 4 potholess, 65.8ms\n",
      "image 4/504 E:\\University\\PythonProject\\UltralyticsPotholes\\potholes\\part4\\df3mz3ba.jpg: 448x640 1 potholes, 92.8ms\n",
      "image 5/504 E:\\University\\PythonProject\\UltralyticsPotholes\\potholes\\part4\\df7szgtx.jpg: 480x640 3 potholess, 27.9ms\n",
      "image 6/504 E:\\University\\PythonProject\\UltralyticsPotholes\\potholes\\part4\\dfz5op5g.jpg: 416x640 2 potholess, 72.8ms\n",
      "image 7/504 E:\\University\\PythonProject\\UltralyticsPotholes\\potholes\\part4\\dfzcvb27.jpg: 448x640 7 potholess, 26.9ms\n",
      "image 8/504 E:\\University\\PythonProject\\UltralyticsPotholes\\potholes\\part4\\dg2egpng.jpg: 448x640 1 potholes, 25.9ms\n",
      "image 9/504 E:\\University\\PythonProject\\UltralyticsPotholes\\potholes\\part4\\dg5gthuf.jpg: 640x480 1 potholes, 76.8ms\n",
      "image 10/504 E:\\University\\PythonProject\\UltralyticsPotholes\\potholes\\part4\\dgeuuwdr.jpg: 448x640 2 potholess, 25.9ms\n",
      "image 11/504 E:\\University\\PythonProject\\UltralyticsPotholes\\potholes\\part4\\dh63c36f.jpg: 640x480 1 potholes, 29.9ms\n",
      "image 12/504 E:\\University\\PythonProject\\UltralyticsPotholes\\potholes\\part4\\dh6fiycx.jpg: 640x640 (no detections), 38.9ms\n",
      "image 13/504 E:\\University\\PythonProject\\UltralyticsPotholes\\potholes\\part4\\dhlqs01h.jpg: 640x448 1 potholes, 101.7ms\n",
      "image 14/504 E:\\University\\PythonProject\\UltralyticsPotholes\\potholes\\part4\\dhmegaed.jpg: 288x640 2 potholess, 74.8ms\n",
      "image 15/504 E:\\University\\PythonProject\\UltralyticsPotholes\\potholes\\part4\\di3bw22t.jpg: 640x512 1 potholes, 69.8ms\n",
      "image 16/504 E:\\University\\PythonProject\\UltralyticsPotholes\\potholes\\part4\\di7uvard.jpg: 640x640 2 potholess, 40.9ms\n",
      "image 17/504 E:\\University\\PythonProject\\UltralyticsPotholes\\potholes\\part4\\dis2k6z9.jpg: 640x480 8 potholess, 32.9ms\n",
      "image 18/504 E:\\University\\PythonProject\\UltralyticsPotholes\\potholes\\part4\\divn9nwk.jpg: 448x640 (no detections), 36.9ms\n",
      "image 19/504 E:\\University\\PythonProject\\UltralyticsPotholes\\potholes\\part4\\dj6wlia7.jpg: 448x640 (no detections), 37.9ms\n",
      "image 20/504 E:\\University\\PythonProject\\UltralyticsPotholes\\potholes\\part4\\dj7hwwvl.jpg: 448x640 (no detections), 38.9ms\n",
      "image 21/504 E:\\University\\PythonProject\\UltralyticsPotholes\\potholes\\part4\\djfgp5sp.jpg: 384x640 12 potholess, 29.9ms\n",
      "image 22/504 E:\\University\\PythonProject\\UltralyticsPotholes\\potholes\\part4\\dkp3qz3r.jpg: 288x640 (no detections), 27.9ms\n",
      "image 23/504 E:\\University\\PythonProject\\UltralyticsPotholes\\potholes\\part4\\dkxumsua.jpg: 640x640 (no detections), 36.9ms\n",
      "image 24/504 E:\\University\\PythonProject\\UltralyticsPotholes\\potholes\\part4\\dl3mmgg4.jpg: 640x480 1 potholes, 25.9ms\n",
      "image 25/504 E:\\University\\PythonProject\\UltralyticsPotholes\\potholes\\part4\\dl44bi9y.jpg: 640x640 1 potholes, 29.9ms\n",
      "image 26/504 E:\\University\\PythonProject\\UltralyticsPotholes\\potholes\\part4\\dl5rj6r0.jpg: 448x640 1 potholes, 26.9ms\n",
      "image 27/504 E:\\University\\PythonProject\\UltralyticsPotholes\\potholes\\part4\\dlovyhaj.jpg: 384x640 2 potholess, 18.0ms\n",
      "image 28/504 E:\\University\\PythonProject\\UltralyticsPotholes\\potholes\\part4\\dlrqgd1t.jpg: 480x640 3 potholess, 24.9ms\n",
      "image 29/504 E:\\University\\PythonProject\\UltralyticsPotholes\\potholes\\part4\\dmws4mmv.jpg: 640x480 3 potholess, 21.9ms\n",
      "image 30/504 E:\\University\\PythonProject\\UltralyticsPotholes\\potholes\\part4\\dmxtjww5.jpg: 640x480 1 potholes, 21.9ms\n",
      "image 31/504 E:\\University\\PythonProject\\UltralyticsPotholes\\potholes\\part4\\dn2ujra5.jpg: 448x640 1 potholes, 21.9ms\n",
      "image 32/504 E:\\University\\PythonProject\\UltralyticsPotholes\\potholes\\part4\\dn7klca9.jpg: 384x640 4 potholess, 17.0ms\n",
      "image 33/504 E:\\University\\PythonProject\\UltralyticsPotholes\\potholes\\part4\\dnpbobkh.jpg: 384x640 3 potholess, 16.0ms\n",
      "image 34/504 E:\\University\\PythonProject\\UltralyticsPotholes\\potholes\\part4\\do15oo58.jpg: 640x512 (no detections), 20.9ms\n",
      "image 35/504 E:\\University\\PythonProject\\UltralyticsPotholes\\potholes\\part4\\dpa5o6ca.jpg: 384x640 (no detections), 18.0ms\n",
      "image 36/504 E:\\University\\PythonProject\\UltralyticsPotholes\\potholes\\part4\\dq15wykg.jpg: 640x480 12 potholess, 19.9ms\n",
      "image 37/504 E:\\University\\PythonProject\\UltralyticsPotholes\\potholes\\part4\\dq1oqvxf.jpg: 480x640 3 potholess, 19.9ms\n",
      "image 38/504 E:\\University\\PythonProject\\UltralyticsPotholes\\potholes\\part4\\dq4286wo.jpg: 352x640 1 potholes, 76.8ms\n",
      "image 39/504 E:\\University\\PythonProject\\UltralyticsPotholes\\potholes\\part4\\dqsdsone.jpg: 480x640 1 potholes, 19.9ms\n",
      "image 40/504 E:\\University\\PythonProject\\UltralyticsPotholes\\potholes\\part4\\drf0rgcy.jpg: 448x640 (no detections), 20.9ms\n",
      "image 41/504 E:\\University\\PythonProject\\UltralyticsPotholes\\potholes\\part4\\dsfyne6o.jpg: 448x640 2 potholess, 22.5ms\n",
      "image 42/504 E:\\University\\PythonProject\\UltralyticsPotholes\\potholes\\part4\\dt1dk1e7.jpg: 640x384 2 potholess, 16.0ms\n",
      "image 43/504 E:\\University\\PythonProject\\UltralyticsPotholes\\potholes\\part4\\dtlwr459.jpg: 384x640 2 potholess, 16.0ms\n",
      "image 44/504 E:\\University\\PythonProject\\UltralyticsPotholes\\potholes\\part4\\dtq4opj8.jpg: 480x640 1 potholes, 20.9ms\n",
      "image 45/504 E:\\University\\PythonProject\\UltralyticsPotholes\\potholes\\part4\\dtwjhocl.jpg: 640x480 (no detections), 18.9ms\n",
      "image 46/504 E:\\University\\PythonProject\\UltralyticsPotholes\\potholes\\part4\\duhcaww2.jpg: 640x480 (no detections), 18.0ms\n",
      "image 47/504 E:\\University\\PythonProject\\UltralyticsPotholes\\potholes\\part4\\dul9kx4r.jpg: 448x640 2 potholess, 20.9ms\n",
      "image 48/504 E:\\University\\PythonProject\\UltralyticsPotholes\\potholes\\part4\\duppu2uh.jpg: 384x640 4 potholess, 17.0ms\n",
      "image 49/504 E:\\University\\PythonProject\\UltralyticsPotholes\\potholes\\part4\\duzahqi9.jpg: 480x640 2 potholess, 21.9ms\n",
      "image 50/504 E:\\University\\PythonProject\\UltralyticsPotholes\\potholes\\part4\\dv0t3r5g.jpg: 448x640 3 potholess, 20.9ms\n",
      "image 51/504 E:\\University\\PythonProject\\UltralyticsPotholes\\potholes\\part4\\dvcr1mh8.jpg: 384x640 1 potholes, 16.0ms\n",
      "image 52/504 E:\\University\\PythonProject\\UltralyticsPotholes\\potholes\\part4\\dw1n1oet.jpg: 640x640 (no detections), 22.9ms\n",
      "image 53/504 E:\\University\\PythonProject\\UltralyticsPotholes\\potholes\\part4\\dwjaw6o6.jpg: 448x640 9 potholess, 20.9ms\n",
      "image 54/504 E:\\University\\PythonProject\\UltralyticsPotholes\\potholes\\part4\\dwknywfk.jpg: 640x480 3 potholess, 18.9ms\n",
      "image 55/504 E:\\University\\PythonProject\\UltralyticsPotholes\\potholes\\part4\\dwnhcji4.jpg: 384x640 3 potholess, 17.0ms\n",
      "image 56/504 E:\\University\\PythonProject\\UltralyticsPotholes\\potholes\\part4\\dxabkzzy.jpg: 352x640 4 potholess, 16.0ms\n",
      "image 57/504 E:\\University\\PythonProject\\UltralyticsPotholes\\potholes\\part4\\dxbl3cjb.jpg: 640x640 1 potholes, 22.9ms\n",
      "image 58/504 E:\\University\\PythonProject\\UltralyticsPotholes\\potholes\\part4\\dxffquyl.jpg: 448x640 1 potholes, 21.9ms\n",
      "image 59/504 E:\\University\\PythonProject\\UltralyticsPotholes\\potholes\\part4\\dxh2foa0.jpg: 640x640 5 potholess, 24.9ms\n",
      "image 60/504 E:\\University\\PythonProject\\UltralyticsPotholes\\potholes\\part4\\dxtz01vj.jpg: 640x640 2 potholess, 22.9ms\n",
      "image 61/504 E:\\University\\PythonProject\\UltralyticsPotholes\\potholes\\part4\\dymfgp60.jpg: 384x640 (no detections), 17.0ms\n",
      "image 62/504 E:\\University\\PythonProject\\UltralyticsPotholes\\potholes\\part4\\dynp58oz.jpg: 480x640 4 potholess, 22.9ms\n",
      "image 63/504 E:\\University\\PythonProject\\UltralyticsPotholes\\potholes\\part4\\dyq5473h.jpg: 352x640 2 potholess, 17.0ms\n",
      "image 64/504 E:\\University\\PythonProject\\UltralyticsPotholes\\potholes\\part4\\dytg3up2.jpg: 448x640 16 potholess, 21.9ms\n",
      "image 65/504 E:\\University\\PythonProject\\UltralyticsPotholes\\potholes\\part4\\dz4w0xrz.jpg: 416x640 2 potholess, 20.9ms\n",
      "image 66/504 E:\\University\\PythonProject\\UltralyticsPotholes\\potholes\\part4\\dzaukjx9.jpg: 448x640 (no detections), 20.9ms\n",
      "image 67/504 E:\\University\\PythonProject\\UltralyticsPotholes\\potholes\\part4\\dzbm1zbr.jpg: 640x640 1 potholes, 23.9ms\n",
      "image 68/504 E:\\University\\PythonProject\\UltralyticsPotholes\\potholes\\part4\\dztludhw.jpg: 640x640 (no detections), 22.9ms\n",
      "image 69/504 E:\\University\\PythonProject\\UltralyticsPotholes\\potholes\\part4\\e0fuahgb.jpg: 640x640 (no detections), 22.9ms\n",
      "image 70/504 E:\\University\\PythonProject\\UltralyticsPotholes\\potholes\\part4\\e0ljpb7z.jpg: 416x640 5 potholess, 20.9ms\n",
      "image 71/504 E:\\University\\PythonProject\\UltralyticsPotholes\\potholes\\part4\\e12zmipv.jpg: 320x640 8 potholess, 72.8ms\n",
      "image 72/504 E:\\University\\PythonProject\\UltralyticsPotholes\\potholes\\part4\\e1xnz729.jpg: 320x640 1 potholes, 16.0ms\n",
      "image 73/504 E:\\University\\PythonProject\\UltralyticsPotholes\\potholes\\part4\\e27ruqf5.jpg: 448x640 1 potholes, 21.9ms\n",
      "image 74/504 E:\\University\\PythonProject\\UltralyticsPotholes\\potholes\\part4\\e2x9bp67.jpg: 640x480 1 potholes, 18.9ms\n",
      "image 75/504 E:\\University\\PythonProject\\UltralyticsPotholes\\potholes\\part4\\e2zbq7r8.jpg: 384x640 2 potholess, 17.0ms\n",
      "image 76/504 E:\\University\\PythonProject\\UltralyticsPotholes\\potholes\\part4\\e363gdsh.jpg: 544x640 9 potholess, 81.8ms\n",
      "image 77/504 E:\\University\\PythonProject\\UltralyticsPotholes\\potholes\\part4\\e3hqlwhm.jpg: 640x640 9 potholess, 23.9ms\n",
      "image 78/504 E:\\University\\PythonProject\\UltralyticsPotholes\\potholes\\part4\\e3kn5uga.jpg: 416x640 1 potholes, 19.9ms\n",
      "image 79/504 E:\\University\\PythonProject\\UltralyticsPotholes\\potholes\\part4\\e41pp70u.jpg: 384x640 3 potholess, 16.0ms\n",
      "image 80/504 E:\\University\\PythonProject\\UltralyticsPotholes\\potholes\\part4\\e4bp8020.jpg: 480x640 (no detections), 21.9ms\n",
      "image 81/504 E:\\University\\PythonProject\\UltralyticsPotholes\\potholes\\part4\\e4c0g80m.jpg: 480x640 3 potholess, 21.9ms\n",
      "image 82/504 E:\\University\\PythonProject\\UltralyticsPotholes\\potholes\\part4\\e4cj4l4u.jpg: 480x640 2 potholess, 19.9ms\n",
      "image 83/504 E:\\University\\PythonProject\\UltralyticsPotholes\\potholes\\part4\\e4lc2w23.jpg: 512x640 1 potholes, 87.8ms\n",
      "image 84/504 E:\\University\\PythonProject\\UltralyticsPotholes\\potholes\\part4\\e4xmz045.jpg: 480x640 4 potholess, 21.9ms\n",
      "image 85/504 E:\\University\\PythonProject\\UltralyticsPotholes\\potholes\\part4\\e53r6upu.jpg: 384x640 1 potholes, 17.0ms\n",
      "image 86/504 E:\\University\\PythonProject\\UltralyticsPotholes\\potholes\\part4\\e5hw57hi.jpg: 640x640 (no detections), 23.9ms\n",
      "image 87/504 E:\\University\\PythonProject\\UltralyticsPotholes\\potholes\\part4\\e5i45kcx.jpg: 640x480 1 potholes, 18.9ms\n",
      "image 88/504 E:\\University\\PythonProject\\UltralyticsPotholes\\potholes\\part4\\e5uiwn6d.jpg: 640x640 2 potholess, 25.9ms\n",
      "image 89/504 E:\\University\\PythonProject\\UltralyticsPotholes\\potholes\\part4\\e5xv7hw8.jpg: 384x640 7 potholess, 17.0ms\n",
      "image 90/504 E:\\University\\PythonProject\\UltralyticsPotholes\\potholes\\part4\\e61f8l8w.jpg: 640x640 1 potholes, 26.9ms\n",
      "image 91/504 E:\\University\\PythonProject\\UltralyticsPotholes\\potholes\\part4\\e6dip8oi.jpg: 384x640 (no detections), 18.9ms\n",
      "image 92/504 E:\\University\\PythonProject\\UltralyticsPotholes\\potholes\\part4\\e6qvaggv.jpg: 640x640 1 potholes, 28.9ms\n",
      "image 93/504 E:\\University\\PythonProject\\UltralyticsPotholes\\potholes\\part4\\e6sdcn4h.jpg: 448x640 2 potholess, 23.9ms\n",
      "image 94/504 E:\\University\\PythonProject\\UltralyticsPotholes\\potholes\\part4\\e7cfx3x6.jpg: 480x640 1 potholes, 22.9ms\n",
      "image 95/504 E:\\University\\PythonProject\\UltralyticsPotholes\\potholes\\part4\\e7d4tnv3.jpg: 352x640 2 potholess, 16.0ms\n",
      "image 96/504 E:\\University\\PythonProject\\UltralyticsPotholes\\potholes\\part4\\e7sjno0v.jpg: 640x640 1 potholes, 22.9ms\n",
      "image 97/504 E:\\University\\PythonProject\\UltralyticsPotholes\\potholes\\part4\\e7w46ubq.jpg: 640x640 2 potholess, 23.9ms\n",
      "image 98/504 E:\\University\\PythonProject\\UltralyticsPotholes\\potholes\\part4\\e7w599oo.jpg: 480x640 1 potholes, 21.9ms\n",
      "image 99/504 E:\\University\\PythonProject\\UltralyticsPotholes\\potholes\\part4\\e860a4v6.jpg: 384x640 2 potholess, 17.0ms\n",
      "image 100/504 E:\\University\\PythonProject\\UltralyticsPotholes\\potholes\\part4\\e8dqs06n.jpg: 448x640 3 potholess, 21.9ms\n",
      "image 101/504 E:\\University\\PythonProject\\UltralyticsPotholes\\potholes\\part4\\e9a35vdm.jpg: 448x640 5 potholess, 20.9ms\n",
      "image 102/504 E:\\University\\PythonProject\\UltralyticsPotholes\\potholes\\part4\\e9mwjqx0.jpg: 384x640 1 potholes, 17.0ms\n",
      "image 103/504 E:\\University\\PythonProject\\UltralyticsPotholes\\potholes\\part4\\ea92vsgu.jpg: 448x640 2 potholess, 20.9ms\n",
      "image 104/504 E:\\University\\PythonProject\\UltralyticsPotholes\\potholes\\part4\\eau2gcfj.jpg: 448x640 5 potholess, 20.9ms\n",
      "image 105/504 E:\\University\\PythonProject\\UltralyticsPotholes\\potholes\\part4\\eb0twbfa.jpg: 448x640 1 potholes, 20.9ms\n",
      "image 106/504 E:\\University\\PythonProject\\UltralyticsPotholes\\potholes\\part4\\eb41x4y6.jpg: 384x640 1 potholes, 17.0ms\n",
      "image 107/504 E:\\University\\PythonProject\\UltralyticsPotholes\\potholes\\part4\\ebb8ykp7.jpg: 640x640 (no detections), 24.9ms\n",
      "image 108/504 E:\\University\\PythonProject\\UltralyticsPotholes\\potholes\\part4\\ebbkwe7z.jpg: 640x640 1 potholes, 22.9ms\n",
      "image 109/504 E:\\University\\PythonProject\\UltralyticsPotholes\\potholes\\part4\\ebhzrd8m.jpg: 448x640 (no detections), 20.9ms\n",
      "image 110/504 E:\\University\\PythonProject\\UltralyticsPotholes\\potholes\\part4\\ebibjnmw.jpg: 640x480 1 potholes, 20.9ms\n",
      "image 111/504 E:\\University\\PythonProject\\UltralyticsPotholes\\potholes\\part4\\eci2pw0w.jpg: 320x640 1 potholes, 16.0ms\n",
      "image 112/504 E:\\University\\PythonProject\\UltralyticsPotholes\\potholes\\part4\\ecw9qo7n.jpg: 384x640 (no detections), 17.0ms\n",
      "image 113/504 E:\\University\\PythonProject\\UltralyticsPotholes\\potholes\\part4\\ed05ovuw.jpg: 448x640 2 potholess, 21.9ms\n",
      "image 114/504 E:\\University\\PythonProject\\UltralyticsPotholes\\potholes\\part4\\ee4gnfdv.jpg: 448x640 1 potholes, 19.9ms\n",
      "image 115/504 E:\\University\\PythonProject\\UltralyticsPotholes\\potholes\\part4\\eeqqk9ho.jpg: 448x640 3 potholess, 19.9ms\n",
      "image 116/504 E:\\University\\PythonProject\\UltralyticsPotholes\\potholes\\part4\\eetsd3qt.jpg: 448x640 4 potholess, 20.9ms\n",
      "image 117/504 E:\\University\\PythonProject\\UltralyticsPotholes\\potholes\\part4\\eewgr3zt.jpg: 544x640 2 potholess, 21.9ms\n",
      "image 118/504 E:\\University\\PythonProject\\UltralyticsPotholes\\potholes\\part4\\effx9w5x.jpg: 640x480 2 potholess, 19.0ms\n",
      "image 119/504 E:\\University\\PythonProject\\UltralyticsPotholes\\potholes\\part4\\eg0a58re.jpg: 480x640 1 potholes, 20.9ms\n",
      "image 120/504 E:\\University\\PythonProject\\UltralyticsPotholes\\potholes\\part4\\eg80yzn3.jpg: 384x640 (no detections), 15.0ms\n",
      "image 121/504 E:\\University\\PythonProject\\UltralyticsPotholes\\potholes\\part4\\eg9rigqv.jpg: 384x640 2 potholess, 15.0ms\n",
      "image 122/504 E:\\University\\PythonProject\\UltralyticsPotholes\\potholes\\part4\\eh0csd3q.jpg: 640x480 3 potholess, 19.9ms\n",
      "image 123/504 E:\\University\\PythonProject\\UltralyticsPotholes\\potholes\\part4\\eh5y31k2.jpg: 640x640 (no detections), 22.9ms\n",
      "image 124/504 E:\\University\\PythonProject\\UltralyticsPotholes\\potholes\\part4\\ehvsscaz.jpg: 640x640 3 potholess, 21.9ms\n",
      "image 125/504 E:\\University\\PythonProject\\UltralyticsPotholes\\potholes\\part4\\ehwbj73r.jpg: 448x640 1 potholes, 20.9ms\n",
      "image 126/504 E:\\University\\PythonProject\\UltralyticsPotholes\\potholes\\part4\\eic1y1j1.jpg: 384x640 5 potholess, 17.0ms\n",
      "image 127/504 E:\\University\\PythonProject\\UltralyticsPotholes\\potholes\\part4\\eino3kgo.jpg: 640x640 (no detections), 22.9ms\n",
      "image 128/504 E:\\University\\PythonProject\\UltralyticsPotholes\\potholes\\part4\\ej7fw3w6.jpg: 480x640 1 potholes, 20.9ms\n",
      "image 129/504 E:\\University\\PythonProject\\UltralyticsPotholes\\potholes\\part4\\ejol29il.jpg: 448x640 (no detections), 20.9ms\n",
      "image 130/504 E:\\University\\PythonProject\\UltralyticsPotholes\\potholes\\part4\\ek3n2wju.jpg: 320x640 1 potholes, 16.0ms\n",
      "image 131/504 E:\\University\\PythonProject\\UltralyticsPotholes\\potholes\\part4\\ek3x0kx7.jpg: 480x640 14 potholess, 22.9ms\n",
      "image 132/504 E:\\University\\PythonProject\\UltralyticsPotholes\\potholes\\part4\\ekjau8z1.jpg: 416x640 (no detections), 22.9ms\n",
      "image 133/504 E:\\University\\PythonProject\\UltralyticsPotholes\\potholes\\part4\\eluua9xr.jpg: 384x640 2 potholess, 16.0ms\n",
      "image 134/504 E:\\University\\PythonProject\\UltralyticsPotholes\\potholes\\part4\\em5acvux.jpg: 416x640 1 potholes, 19.9ms\n",
      "image 135/504 E:\\University\\PythonProject\\UltralyticsPotholes\\potholes\\part4\\emh8o6lo.jpg: 640x640 1 potholes, 25.9ms\n",
      "image 136/504 E:\\University\\PythonProject\\UltralyticsPotholes\\potholes\\part4\\emviqyxu.jpg: 448x640 2 potholess, 22.9ms\n",
      "image 137/504 E:\\University\\PythonProject\\UltralyticsPotholes\\potholes\\part4\\en2jkkha.jpg: 640x480 9 potholess, 18.9ms\n",
      "image 138/504 E:\\University\\PythonProject\\UltralyticsPotholes\\potholes\\part4\\enjivds0.jpg: 640x640 3 potholess, 22.9ms\n",
      "image 139/504 E:\\University\\PythonProject\\UltralyticsPotholes\\potholes\\part4\\enzp9qmt.jpg: 416x640 1 potholes, 20.9ms\n",
      "image 140/504 E:\\University\\PythonProject\\UltralyticsPotholes\\potholes\\part4\\eo2x7d60.jpg: 448x640 1 potholes, 19.9ms\n",
      "image 141/504 E:\\University\\PythonProject\\UltralyticsPotholes\\potholes\\part4\\eo61pq1o.jpg: 640x640 3 potholess, 24.9ms\n",
      "image 142/504 E:\\University\\PythonProject\\UltralyticsPotholes\\potholes\\part4\\eo7yrmdz.jpg: 448x640 4 potholess, 21.9ms\n",
      "image 143/504 E:\\University\\PythonProject\\UltralyticsPotholes\\potholes\\part4\\eosvvplh.jpg: 416x640 1 potholes, 20.9ms\n",
      "image 144/504 E:\\University\\PythonProject\\UltralyticsPotholes\\potholes\\part4\\epc10th9.jpg: 352x640 1 potholes, 17.0ms\n",
      "image 145/504 E:\\University\\PythonProject\\UltralyticsPotholes\\potholes\\part4\\eq6pa32u.jpg: 384x640 2 potholess, 17.0ms\n",
      "image 146/504 E:\\University\\PythonProject\\UltralyticsPotholes\\potholes\\part4\\eqsgsygd.jpg: 448x640 2 potholess, 19.9ms\n",
      "image 147/504 E:\\University\\PythonProject\\UltralyticsPotholes\\potholes\\part4\\er5fsxvr.jpg: 352x640 3 potholess, 16.0ms\n",
      "image 148/504 E:\\University\\PythonProject\\UltralyticsPotholes\\potholes\\part4\\era8d9fx.jpg: 480x640 (no detections), 21.9ms\n",
      "image 149/504 E:\\University\\PythonProject\\UltralyticsPotholes\\potholes\\part4\\eryjebj5.jpg: 448x640 2 potholess, 20.9ms\n",
      "image 150/504 E:\\University\\PythonProject\\UltralyticsPotholes\\potholes\\part4\\es10oqlg.jpg: 384x640 1 potholes, 17.0ms\n",
      "image 151/504 E:\\University\\PythonProject\\UltralyticsPotholes\\potholes\\part4\\es7368s9.jpg: 640x480 2 potholess, 19.9ms\n",
      "image 152/504 E:\\University\\PythonProject\\UltralyticsPotholes\\potholes\\part4\\eshq6udy.jpg: 640x640 2 potholess, 22.9ms\n",
      "image 153/504 E:\\University\\PythonProject\\UltralyticsPotholes\\potholes\\part4\\esihb21x.jpg: 416x640 (no detections), 20.9ms\n",
      "image 154/504 E:\\University\\PythonProject\\UltralyticsPotholes\\potholes\\part4\\etdgk6ss.jpg: 384x640 2 potholess, 17.0ms\n",
      "image 155/504 E:\\University\\PythonProject\\UltralyticsPotholes\\potholes\\part4\\etsim0tl.jpg: 352x640 2 potholess, 16.0ms\n",
      "image 156/504 E:\\University\\PythonProject\\UltralyticsPotholes\\potholes\\part4\\eu3up2dj.jpg: 448x640 2 potholess, 20.9ms\n",
      "image 157/504 E:\\University\\PythonProject\\UltralyticsPotholes\\potholes\\part4\\eu63ai8p.jpg: 384x640 1 potholes, 17.0ms\n",
      "image 158/504 E:\\University\\PythonProject\\UltralyticsPotholes\\potholes\\part4\\eu87og87.jpg: 384x640 8 potholess, 15.0ms\n",
      "image 159/504 E:\\University\\PythonProject\\UltralyticsPotholes\\potholes\\part4\\ev5jj7vw.jpg: 384x640 1 potholes, 17.0ms\n",
      "image 160/504 E:\\University\\PythonProject\\UltralyticsPotholes\\potholes\\part4\\ev5vw8ac.jpg: 480x640 3 potholess, 21.9ms\n",
      "image 161/504 E:\\University\\PythonProject\\UltralyticsPotholes\\potholes\\part4\\evckhgfp.jpg: 448x640 5 potholess, 20.9ms\n",
      "image 162/504 E:\\University\\PythonProject\\UltralyticsPotholes\\potholes\\part4\\evks9ese.jpg: 384x640 (no detections), 17.0ms\n",
      "image 163/504 E:\\University\\PythonProject\\UltralyticsPotholes\\potholes\\part4\\ew2tggva.jpg: 352x640 1 potholes, 17.0ms\n",
      "image 164/504 E:\\University\\PythonProject\\UltralyticsPotholes\\potholes\\part4\\ew6n1169.jpg: 640x384 1 potholes, 16.0ms\n",
      "image 165/504 E:\\University\\PythonProject\\UltralyticsPotholes\\potholes\\part4\\ewdxpk4m.jpg: 448x640 2 potholess, 19.9ms\n",
      "image 166/504 E:\\University\\PythonProject\\UltralyticsPotholes\\potholes\\part4\\ewmlcltr.jpg: 320x640 3 potholess, 16.0ms\n",
      "image 167/504 E:\\University\\PythonProject\\UltralyticsPotholes\\potholes\\part4\\ewohgtpe.jpg: 640x480 1 potholes, 20.9ms\n",
      "image 168/504 E:\\University\\PythonProject\\UltralyticsPotholes\\potholes\\part4\\ewpd11l7.jpg: 640x480 (no detections), 19.9ms\n",
      "image 169/504 E:\\University\\PythonProject\\UltralyticsPotholes\\potholes\\part4\\ewtvmay6.jpg: 480x640 1 potholes, 21.9ms\n",
      "image 170/504 E:\\University\\PythonProject\\UltralyticsPotholes\\potholes\\part4\\ewvt77nu.jpg: 448x640 1 potholes, 20.9ms\n",
      "image 171/504 E:\\University\\PythonProject\\UltralyticsPotholes\\potholes\\part4\\ex5dwuam.jpg: 480x640 1 potholes, 21.9ms\n",
      "image 172/504 E:\\University\\PythonProject\\UltralyticsPotholes\\potholes\\part4\\exe66vw6.jpg: 416x640 2 potholess, 19.9ms\n",
      "image 173/504 E:\\University\\PythonProject\\UltralyticsPotholes\\potholes\\part4\\ey0xe892.jpg: 384x640 1 potholes, 18.0ms\n",
      "image 174/504 E:\\University\\PythonProject\\UltralyticsPotholes\\potholes\\part4\\eyw90raq.jpg: 416x640 2 potholess, 21.9ms\n",
      "image 175/504 E:\\University\\PythonProject\\UltralyticsPotholes\\potholes\\part4\\ez02hd11.jpg: 512x640 (no detections), 20.9ms\n",
      "image 176/504 E:\\University\\PythonProject\\UltralyticsPotholes\\potholes\\part4\\ezxc0xby.jpg: 480x640 1 potholes, 21.9ms\n",
      "image 177/504 E:\\University\\PythonProject\\UltralyticsPotholes\\potholes\\part4\\f0w43vxw.jpg: 384x640 2 potholess, 16.0ms\n",
      "image 178/504 E:\\University\\PythonProject\\UltralyticsPotholes\\potholes\\part4\\f0yh5gky.jpg: 480x640 (no detections), 20.9ms\n",
      "image 179/504 E:\\University\\PythonProject\\UltralyticsPotholes\\potholes\\part4\\f1gs7c3p.jpg: 224x640 (no detections), 80.8ms\n",
      "image 180/504 E:\\University\\PythonProject\\UltralyticsPotholes\\potholes\\part4\\f1pic181.jpg: 640x512 1 potholes, 20.9ms\n",
      "image 181/504 E:\\University\\PythonProject\\UltralyticsPotholes\\potholes\\part4\\f1qokfxw.jpg: 480x640 1 potholes, 21.9ms\n",
      "image 182/504 E:\\University\\PythonProject\\UltralyticsPotholes\\potholes\\part4\\f1sd2c95.jpg: 480x640 3 potholess, 20.9ms\n",
      "image 183/504 E:\\University\\PythonProject\\UltralyticsPotholes\\potholes\\part4\\f1xnedwm.jpg: 640x480 5 potholess, 18.9ms\n",
      "image 184/504 E:\\University\\PythonProject\\UltralyticsPotholes\\potholes\\part4\\f1yrqnmb.jpg: 480x640 4 potholess, 20.9ms\n",
      "image 185/504 E:\\University\\PythonProject\\UltralyticsPotholes\\potholes\\part4\\f201mh1z.jpg: 640x640 1 potholes, 23.9ms\n",
      "image 186/504 E:\\University\\PythonProject\\UltralyticsPotholes\\potholes\\part4\\f2ql8w2o.jpg: 448x640 3 potholess, 21.9ms\n",
      "image 187/504 E:\\University\\PythonProject\\UltralyticsPotholes\\potholes\\part4\\f2t6up67.jpg: 384x640 2 potholess, 18.0ms\n",
      "image 188/504 E:\\University\\PythonProject\\UltralyticsPotholes\\potholes\\part4\\f2unvoo4.jpg: 448x640 10 potholess, 20.9ms\n",
      "image 189/504 E:\\University\\PythonProject\\UltralyticsPotholes\\potholes\\part4\\f3322gi7.jpg: 448x640 2 potholess, 18.9ms\n",
      "image 190/504 E:\\University\\PythonProject\\UltralyticsPotholes\\potholes\\part4\\f3uvwzkd.jpg: 480x640 1 potholes, 20.9ms\n",
      "image 191/504 E:\\University\\PythonProject\\UltralyticsPotholes\\potholes\\part4\\f4a4lbxf.jpg: 384x640 3 potholess, 17.0ms\n",
      "image 192/504 E:\\University\\PythonProject\\UltralyticsPotholes\\potholes\\part4\\f4t8uxcc.jpg: 480x640 (no detections), 22.9ms\n",
      "image 193/504 E:\\University\\PythonProject\\UltralyticsPotholes\\potholes\\part4\\f5y2fu3z.jpg: 480x640 3 potholess, 20.9ms\n",
      "image 194/504 E:\\University\\PythonProject\\UltralyticsPotholes\\potholes\\part4\\f6g83wcq.jpg: 544x640 2 potholess, 21.9ms\n",
      "image 195/504 E:\\University\\PythonProject\\UltralyticsPotholes\\potholes\\part4\\f6t10v2i.jpg: 640x480 1 potholes, 19.0ms\n",
      "image 196/504 E:\\University\\PythonProject\\UltralyticsPotholes\\potholes\\part4\\f7l5m944.jpg: 448x640 (no detections), 20.9ms\n",
      "image 197/504 E:\\University\\PythonProject\\UltralyticsPotholes\\potholes\\part4\\f7nfywro.jpg: 640x480 1 potholes, 19.9ms\n",
      "image 198/504 E:\\University\\PythonProject\\UltralyticsPotholes\\potholes\\part4\\f7og72qc.jpg: 640x480 2 potholess, 18.0ms\n",
      "image 199/504 E:\\University\\PythonProject\\UltralyticsPotholes\\potholes\\part4\\f7snfeb9.jpg: 384x640 2 potholess, 17.0ms\n",
      "image 200/504 E:\\University\\PythonProject\\UltralyticsPotholes\\potholes\\part4\\f86edep3.jpg: 480x640 4 potholess, 20.9ms\n",
      "image 201/504 E:\\University\\PythonProject\\UltralyticsPotholes\\potholes\\part4\\f87mhmj5.jpg: 480x640 1 potholes, 19.9ms\n",
      "image 202/504 E:\\University\\PythonProject\\UltralyticsPotholes\\potholes\\part4\\f8mc5jcr.jpg: 640x480 (no detections), 20.9ms\n",
      "image 203/504 E:\\University\\PythonProject\\UltralyticsPotholes\\potholes\\part4\\f8y9uqyq.jpg: 384x640 2 potholess, 17.0ms\n",
      "image 204/504 E:\\University\\PythonProject\\UltralyticsPotholes\\potholes\\part4\\f94ir0qq.jpg: 384x640 2 potholess, 17.0ms\n",
      "image 205/504 E:\\University\\PythonProject\\UltralyticsPotholes\\potholes\\part4\\f9av9eim.jpg: 480x640 2 potholess, 101.7ms\n",
      "image 206/504 E:\\University\\PythonProject\\UltralyticsPotholes\\potholes\\part4\\f9hl5y6k.jpg: 384x640 3 potholess, 16.0ms\n",
      "image 207/504 E:\\University\\PythonProject\\UltralyticsPotholes\\potholes\\part4\\f9ttag08.jpg: 416x640 3 potholess, 22.9ms\n",
      "image 208/504 E:\\University\\PythonProject\\UltralyticsPotholes\\potholes\\part4\\f9w8b1g1.jpg: 384x640 1 potholes, 17.0ms\n",
      "image 209/504 E:\\University\\PythonProject\\UltralyticsPotholes\\potholes\\part4\\fa2r1zhc.jpg: 416x640 2 potholess, 20.9ms\n",
      "image 210/504 E:\\University\\PythonProject\\UltralyticsPotholes\\potholes\\part4\\fa59zd2u.jpg: 384x640 2 potholess, 18.9ms\n",
      "image 211/504 E:\\University\\PythonProject\\UltralyticsPotholes\\potholes\\part4\\fadxsx48.jpg: 416x640 7 potholess, 20.9ms\n",
      "image 212/504 E:\\University\\PythonProject\\UltralyticsPotholes\\potholes\\part4\\fagbmyzv.jpg: 448x640 1 potholes, 20.9ms\n",
      "image 213/504 E:\\University\\PythonProject\\UltralyticsPotholes\\potholes\\part4\\faqp6xqw.jpg: 448x640 1 potholes, 19.9ms\n",
      "image 214/504 E:\\University\\PythonProject\\UltralyticsPotholes\\potholes\\part4\\fasuzwod.jpg: 384x640 1 potholes, 17.0ms\n",
      "image 215/504 E:\\University\\PythonProject\\UltralyticsPotholes\\potholes\\part4\\fb6414co.jpg: 384x640 (no detections), 16.0ms\n",
      "image 216/504 E:\\University\\PythonProject\\UltralyticsPotholes\\potholes\\part4\\fb7iasiz.jpg: 480x640 2 potholess, 20.9ms\n",
      "image 217/504 E:\\University\\PythonProject\\UltralyticsPotholes\\potholes\\part4\\fb8q9t4d.jpg: 352x640 8 potholess, 17.0ms\n",
      "image 218/504 E:\\University\\PythonProject\\UltralyticsPotholes\\potholes\\part4\\fbbxb7j2.jpg: 416x640 1 potholes, 20.9ms\n",
      "image 219/504 E:\\University\\PythonProject\\UltralyticsPotholes\\potholes\\part4\\fbgzkiez.jpg: 384x640 1 potholes, 16.0ms\n",
      "image 220/504 E:\\University\\PythonProject\\UltralyticsPotholes\\potholes\\part4\\fc6u1kla.jpg: 448x640 2 potholess, 20.9ms\n",
      "image 221/504 E:\\University\\PythonProject\\UltralyticsPotholes\\potholes\\part4\\fcfqj8v8.jpg: 640x544 (no detections), 72.8ms\n",
      "image 222/504 E:\\University\\PythonProject\\UltralyticsPotholes\\potholes\\part4\\fd2sdj4p.jpg: 640x640 (no detections), 23.9ms\n",
      "image 223/504 E:\\University\\PythonProject\\UltralyticsPotholes\\potholes\\part4\\fd54il85.jpg: 384x640 4 potholess, 17.0ms\n",
      "image 224/504 E:\\University\\PythonProject\\UltralyticsPotholes\\potholes\\part4\\fdkg44us.jpg: 352x640 1 potholes, 16.0ms\n",
      "image 225/504 E:\\University\\PythonProject\\UltralyticsPotholes\\potholes\\part4\\fdu0jpei.jpg: 640x640 2 potholess, 24.9ms\n",
      "image 226/504 E:\\University\\PythonProject\\UltralyticsPotholes\\potholes\\part4\\fdub886g.jpg: 640x480 4 potholess, 18.9ms\n",
      "image 227/504 E:\\University\\PythonProject\\UltralyticsPotholes\\potholes\\part4\\fe71o9rj.jpg: 352x640 1 potholes, 16.0ms\n",
      "image 228/504 E:\\University\\PythonProject\\UltralyticsPotholes\\potholes\\part4\\febi8f80.jpg: 384x640 1 potholes, 17.0ms\n",
      "image 229/504 E:\\University\\PythonProject\\UltralyticsPotholes\\potholes\\part4\\ffcba1f1.jpg: 480x640 1 potholes, 20.9ms\n",
      "image 230/504 E:\\University\\PythonProject\\UltralyticsPotholes\\potholes\\part4\\ffiskgmc.jpg: 448x640 2 potholess, 19.9ms\n",
      "image 231/504 E:\\University\\PythonProject\\UltralyticsPotholes\\potholes\\part4\\fg0sxsek.jpg: 448x640 1 potholes, 20.9ms\n",
      "image 232/504 E:\\University\\PythonProject\\UltralyticsPotholes\\potholes\\part4\\fg289rm7.jpg: 384x640 1 potholes, 17.0ms\n",
      "image 233/504 E:\\University\\PythonProject\\UltralyticsPotholes\\potholes\\part4\\fgxlwz4n.jpg: 384x640 1 potholes, 16.0ms\n",
      "image 234/504 E:\\University\\PythonProject\\UltralyticsPotholes\\potholes\\part4\\fh0uduau.jpg: 640x480 7 potholess, 19.9ms\n",
      "image 235/504 E:\\University\\PythonProject\\UltralyticsPotholes\\potholes\\part4\\fhg2ywli.jpg: 384x640 3 potholess, 17.0ms\n",
      "image 236/504 E:\\University\\PythonProject\\UltralyticsPotholes\\potholes\\part4\\fhg7ixk8.jpg: 640x640 (no detections), 24.9ms\n",
      "image 237/504 E:\\University\\PythonProject\\UltralyticsPotholes\\potholes\\part4\\fhsn843a.jpg: 384x640 (no detections), 17.9ms\n",
      "image 238/504 E:\\University\\PythonProject\\UltralyticsPotholes\\potholes\\part4\\fhxy2pc2.jpg: 480x640 3 potholess, 21.9ms\n",
      "image 239/504 E:\\University\\PythonProject\\UltralyticsPotholes\\potholes\\part4\\fi7haw50.jpg: 416x640 5 potholess, 19.9ms\n",
      "image 240/504 E:\\University\\PythonProject\\UltralyticsPotholes\\potholes\\part4\\fiixdu6x.jpg: 416x640 2 potholess, 18.9ms\n",
      "image 241/504 E:\\University\\PythonProject\\UltralyticsPotholes\\potholes\\part4\\fixp64e6.jpg: 416x640 1 potholes, 19.9ms\n",
      "image 242/504 E:\\University\\PythonProject\\UltralyticsPotholes\\potholes\\part4\\fjbtb1z8.jpg: 640x640 3 potholess, 22.9ms\n",
      "image 243/504 E:\\University\\PythonProject\\UltralyticsPotholes\\potholes\\part4\\fkn9awm8.jpg: 480x640 4 potholess, 21.9ms\n",
      "image 244/504 E:\\University\\PythonProject\\UltralyticsPotholes\\potholes\\part4\\fkqg7xf2.jpg: 384x640 1 potholes, 17.0ms\n",
      "image 245/504 E:\\University\\PythonProject\\UltralyticsPotholes\\potholes\\part4\\fl5msuyl.jpg: 320x640 2 potholess, 14.0ms\n",
      "image 246/504 E:\\University\\PythonProject\\UltralyticsPotholes\\potholes\\part4\\flbf4q70.jpg: 416x640 2 potholess, 27.9ms\n",
      "image 247/504 E:\\University\\PythonProject\\UltralyticsPotholes\\potholes\\part4\\flirlaru.jpg: 384x640 2 potholess, 17.0ms\n",
      "image 248/504 E:\\University\\PythonProject\\UltralyticsPotholes\\potholes\\part4\\flvt6znh.jpg: 448x640 2 potholess, 22.9ms\n",
      "image 249/504 E:\\University\\PythonProject\\UltralyticsPotholes\\potholes\\part4\\flzkzrl8.jpg: 480x640 2 potholess, 20.9ms\n",
      "image 250/504 E:\\University\\PythonProject\\UltralyticsPotholes\\potholes\\part4\\fm03k3oq.jpg: 384x640 2 potholess, 16.0ms\n",
      "image 251/504 E:\\University\\PythonProject\\UltralyticsPotholes\\potholes\\part4\\fmd7p0jx.jpg: 640x480 2 potholess, 19.9ms\n",
      "image 252/504 E:\\University\\PythonProject\\UltralyticsPotholes\\potholes\\part4\\fmj6vyey.jpg: 384x640 1 potholes, 16.0ms\n",
      "image 253/504 E:\\University\\PythonProject\\UltralyticsPotholes\\potholes\\part4\\fn49gvg6.jpg: 448x640 2 potholess, 20.9ms\n",
      "image 254/504 E:\\University\\PythonProject\\UltralyticsPotholes\\potholes\\part4\\fn63sbek.jpg: 384x640 2 potholess, 17.0ms\n",
      "image 255/504 E:\\University\\PythonProject\\UltralyticsPotholes\\potholes\\part4\\fnpril06.jpg: 640x640 1 potholes, 23.9ms\n",
      "image 256/504 E:\\University\\PythonProject\\UltralyticsPotholes\\potholes\\part4\\fnsp96ul.jpg: 448x640 2 potholess, 19.9ms\n",
      "image 257/504 E:\\University\\PythonProject\\UltralyticsPotholes\\potholes\\part4\\fozz9yv3.jpg: 480x640 (no detections), 20.9ms\n",
      "image 258/504 E:\\University\\PythonProject\\UltralyticsPotholes\\potholes\\part4\\fqd0dbqg.jpg: 640x480 1 potholes, 18.9ms\n",
      "image 259/504 E:\\University\\PythonProject\\UltralyticsPotholes\\potholes\\part4\\fqxqoeoi.jpg: 640x480 1 potholes, 24.9ms\n",
      "image 260/504 E:\\University\\PythonProject\\UltralyticsPotholes\\potholes\\part4\\fr6pnuqz.jpg: 448x640 2 potholess, 27.9ms\n",
      "image 261/504 E:\\University\\PythonProject\\UltralyticsPotholes\\potholes\\part4\\frfd7iiv.jpg: 448x640 (no detections), 30.9ms\n",
      "image 262/504 E:\\University\\PythonProject\\UltralyticsPotholes\\potholes\\part4\\frjjd77g.jpg: 448x640 1 potholes, 30.9ms\n",
      "image 263/504 E:\\University\\PythonProject\\UltralyticsPotholes\\potholes\\part4\\frq8swrc.jpg: 480x640 2 potholess, 34.9ms\n",
      "image 264/504 E:\\University\\PythonProject\\UltralyticsPotholes\\potholes\\part4\\frv03zxz.jpg: 640x640 (no detections), 38.9ms\n",
      "image 265/504 E:\\University\\PythonProject\\UltralyticsPotholes\\potholes\\part4\\fsligs1o.jpg: 384x640 2 potholess, 25.9ms\n",
      "image 266/504 E:\\University\\PythonProject\\UltralyticsPotholes\\potholes\\part4\\fsry97au.jpg: 448x640 2 potholess, 33.9ms\n",
      "image 267/504 E:\\University\\PythonProject\\UltralyticsPotholes\\potholes\\part4\\fsz1ntyp.jpg: 480x640 2 potholess, 21.9ms\n",
      "image 268/504 E:\\University\\PythonProject\\UltralyticsPotholes\\potholes\\part4\\fsz2qglv.jpg: 480x640 (no detections), 22.9ms\n",
      "image 269/504 E:\\University\\PythonProject\\UltralyticsPotholes\\potholes\\part4\\ft9bs84k.jpg: 640x480 1 potholes, 20.9ms\n",
      "image 270/504 E:\\University\\PythonProject\\UltralyticsPotholes\\potholes\\part4\\ftov9sd1.jpg: 640x640 1 potholes, 24.9ms\n",
      "image 271/504 E:\\University\\PythonProject\\UltralyticsPotholes\\potholes\\part4\\fttr6uxa.jpg: 416x640 3 potholess, 21.9ms\n",
      "image 272/504 E:\\University\\PythonProject\\UltralyticsPotholes\\potholes\\part4\\ftzxlz9w.jpg: 384x640 4 potholess, 17.0ms\n",
      "image 273/504 E:\\University\\PythonProject\\UltralyticsPotholes\\potholes\\part4\\fu27ggsm.jpg: 416x640 1 potholes, 21.9ms\n",
      "image 274/504 E:\\University\\PythonProject\\UltralyticsPotholes\\potholes\\part4\\fuc39mcv.jpg: 448x640 (no detections), 21.9ms\n",
      "image 275/504 E:\\University\\PythonProject\\UltralyticsPotholes\\potholes\\part4\\fuji0sll.jpg: 480x640 1 potholes, 22.9ms\n",
      "image 276/504 E:\\University\\PythonProject\\UltralyticsPotholes\\potholes\\part4\\fux1ao0g.jpg: 480x640 7 potholess, 21.9ms\n",
      "image 277/504 E:\\University\\PythonProject\\UltralyticsPotholes\\potholes\\part4\\fv24k3nw.jpg: 448x640 2 potholess, 21.9ms\n",
      "image 278/504 E:\\University\\PythonProject\\UltralyticsPotholes\\potholes\\part4\\fvc00qo7.jpg: 384x640 2 potholess, 18.0ms\n",
      "image 279/504 E:\\University\\PythonProject\\UltralyticsPotholes\\potholes\\part4\\fvebp1ok.jpg: 640x480 1 potholes, 19.9ms\n",
      "image 280/504 E:\\University\\PythonProject\\UltralyticsPotholes\\potholes\\part4\\fvrw515n.jpg: 448x640 1 potholes, 21.9ms\n",
      "image 281/504 E:\\University\\PythonProject\\UltralyticsPotholes\\potholes\\part4\\fw3foplm.jpg: 384x640 3 potholess, 18.9ms\n",
      "image 282/504 E:\\University\\PythonProject\\UltralyticsPotholes\\potholes\\part4\\fw9gbbn6.jpg: 640x480 1 potholes, 21.9ms\n",
      "image 283/504 E:\\University\\PythonProject\\UltralyticsPotholes\\potholes\\part4\\fwj2703d.jpg: 416x640 1 potholes, 20.9ms\n",
      "image 284/504 E:\\University\\PythonProject\\UltralyticsPotholes\\potholes\\part4\\fwtro2sb.jpg: 640x640 (no detections), 24.9ms\n",
      "image 285/504 E:\\University\\PythonProject\\UltralyticsPotholes\\potholes\\part4\\fxm5bf8v.jpg: 416x640 (no detections), 20.9ms\n",
      "image 286/504 E:\\University\\PythonProject\\UltralyticsPotholes\\potholes\\part4\\fxqk9qtf.jpg: 448x640 3 potholess, 20.9ms\n",
      "image 287/504 E:\\University\\PythonProject\\UltralyticsPotholes\\potholes\\part4\\fy1a4xi1.jpg: 480x640 2 potholess, 21.9ms\n",
      "image 288/504 E:\\University\\PythonProject\\UltralyticsPotholes\\potholes\\part4\\fy2kli9r.jpg: 448x640 (no detections), 20.9ms\n",
      "image 289/504 E:\\University\\PythonProject\\UltralyticsPotholes\\potholes\\part4\\fy8g5bld.jpg: 352x640 2 potholess, 17.0ms\n",
      "image 290/504 E:\\University\\PythonProject\\UltralyticsPotholes\\potholes\\part4\\fyantd2n.jpg: 512x640 2 potholess, 20.9ms\n",
      "image 291/504 E:\\University\\PythonProject\\UltralyticsPotholes\\potholes\\part4\\fyi4u17u.jpg: 384x640 5 potholess, 17.0ms\n",
      "image 292/504 E:\\University\\PythonProject\\UltralyticsPotholes\\potholes\\part4\\fylf9vwm.jpg: 384x640 4 potholess, 15.0ms\n",
      "image 293/504 E:\\University\\PythonProject\\UltralyticsPotholes\\potholes\\part4\\fywb18es.jpg: 288x640 4 potholess, 16.0ms\n",
      "image 294/504 E:\\University\\PythonProject\\UltralyticsPotholes\\potholes\\part4\\fywszgrp.jpg: 416x640 (no detections), 21.9ms\n",
      "image 295/504 E:\\University\\PythonProject\\UltralyticsPotholes\\potholes\\part4\\fzdpstii.jpg: 640x640 (no detections), 25.9ms\n",
      "image 296/504 E:\\University\\PythonProject\\UltralyticsPotholes\\potholes\\part4\\fztr4myx.jpg: 448x640 1 potholes, 21.9ms\n",
      "image 297/504 E:\\University\\PythonProject\\UltralyticsPotholes\\potholes\\part4\\fzw4lswn.jpg: 384x640 5 potholess, 16.0ms\n",
      "image 298/504 E:\\University\\PythonProject\\UltralyticsPotholes\\potholes\\part4\\g0ucq36r.jpg: 512x640 (no detections), 19.9ms\n",
      "image 299/504 E:\\University\\PythonProject\\UltralyticsPotholes\\potholes\\part4\\g15w0apd.jpg: 480x640 2 potholess, 21.9ms\n",
      "image 300/504 E:\\University\\PythonProject\\UltralyticsPotholes\\potholes\\part4\\g1a3luu1.jpg: 480x640 (no detections), 19.9ms\n",
      "image 301/504 E:\\University\\PythonProject\\UltralyticsPotholes\\potholes\\part4\\g2brkim1.jpg: 480x640 (no detections), 19.9ms\n",
      "image 302/504 E:\\University\\PythonProject\\UltralyticsPotholes\\potholes\\part4\\g2smxl40.jpg: 640x480 4 potholess, 19.9ms\n",
      "image 303/504 E:\\University\\PythonProject\\UltralyticsPotholes\\potholes\\part4\\g2sx76fu.jpg: 448x640 (no detections), 20.9ms\n",
      "image 304/504 E:\\University\\PythonProject\\UltralyticsPotholes\\potholes\\part4\\g3guzt32.jpg: 352x640 1 potholes, 16.0ms\n",
      "image 305/504 E:\\University\\PythonProject\\UltralyticsPotholes\\potholes\\part4\\g48z9eew.jpg: 448x640 2 potholess, 20.9ms\n",
      "image 306/504 E:\\University\\PythonProject\\UltralyticsPotholes\\potholes\\part4\\g4nsa840.jpg: 384x640 (no detections), 17.0ms\n",
      "image 307/504 E:\\University\\PythonProject\\UltralyticsPotholes\\potholes\\part4\\g4o0hjuy.jpg: 640x384 1 potholes, 16.0ms\n",
      "image 308/504 E:\\University\\PythonProject\\UltralyticsPotholes\\potholes\\part4\\g4vzlyx6.jpg: 640x640 1 potholes, 23.9ms\n",
      "image 309/504 E:\\University\\PythonProject\\UltralyticsPotholes\\potholes\\part4\\g54ofmc6.jpg: 640x640 5 potholess, 23.9ms\n",
      "image 310/504 E:\\University\\PythonProject\\UltralyticsPotholes\\potholes\\part4\\g5ccyuhw.jpg: 448x640 2 potholess, 19.9ms\n",
      "image 311/504 E:\\University\\PythonProject\\UltralyticsPotholes\\potholes\\part4\\g5j7fwfu.jpg: 448x640 2 potholess, 18.9ms\n",
      "image 312/504 E:\\University\\PythonProject\\UltralyticsPotholes\\potholes\\part4\\g5jqr07i.jpg: 640x480 7 potholess, 18.9ms\n",
      "image 313/504 E:\\University\\PythonProject\\UltralyticsPotholes\\potholes\\part4\\g5n7reu3.jpg: 384x640 3 potholess, 16.0ms\n",
      "image 314/504 E:\\University\\PythonProject\\UltralyticsPotholes\\potholes\\part4\\g5q0i468.jpg: 448x640 1 potholes, 23.9ms\n",
      "image 315/504 E:\\University\\PythonProject\\UltralyticsPotholes\\potholes\\part4\\g62y3mfm.jpg: 416x640 (no detections), 25.9ms\n",
      "image 316/504 E:\\University\\PythonProject\\UltralyticsPotholes\\potholes\\part4\\g6dsej9b.jpg: 640x640 3 potholess, 30.9ms\n",
      "image 317/504 E:\\University\\PythonProject\\UltralyticsPotholes\\potholes\\part4\\g6gufnyl.jpg: 480x640 (no detections), 27.9ms\n",
      "image 318/504 E:\\University\\PythonProject\\UltralyticsPotholes\\potholes\\part4\\g6h6v1iq.jpg: 640x640 (no detections), 32.9ms\n",
      "image 319/504 E:\\University\\PythonProject\\UltralyticsPotholes\\potholes\\part4\\g6j03aas.jpg: 448x640 1 potholes, 27.9ms\n",
      "image 320/504 E:\\University\\PythonProject\\UltralyticsPotholes\\potholes\\part4\\g7mqfea5.jpg: 448x640 2 potholess, 22.9ms\n",
      "image 321/504 E:\\University\\PythonProject\\UltralyticsPotholes\\potholes\\part4\\g81saalm.jpg: 448x640 1 potholes, 20.9ms\n",
      "image 322/504 E:\\University\\PythonProject\\UltralyticsPotholes\\potholes\\part4\\g87d59so.jpg: 448x640 1 potholes, 19.9ms\n",
      "image 323/504 E:\\University\\PythonProject\\UltralyticsPotholes\\potholes\\part4\\g8deqxbk.jpg: 416x640 1 potholes, 19.9ms\n",
      "image 324/504 E:\\University\\PythonProject\\UltralyticsPotholes\\potholes\\part4\\g8mzemnw.jpg: 352x640 2 potholess, 16.0ms\n",
      "image 325/504 E:\\University\\PythonProject\\UltralyticsPotholes\\potholes\\part4\\g8s8o0xi.jpg: 640x448 2 potholess, 19.9ms\n",
      "image 326/504 E:\\University\\PythonProject\\UltralyticsPotholes\\potholes\\part4\\g90ohpa4.jpg: 384x640 3 potholess, 17.0ms\n",
      "image 327/504 E:\\University\\PythonProject\\UltralyticsPotholes\\potholes\\part4\\g95lgdgs.jpg: 384x640 (no detections), 16.0ms\n",
      "image 328/504 E:\\University\\PythonProject\\UltralyticsPotholes\\potholes\\part4\\g96s2r7k.jpg: 640x640 2 potholess, 24.9ms\n",
      "image 329/504 E:\\University\\PythonProject\\UltralyticsPotholes\\potholes\\part4\\g9fefmrk.jpg: 448x640 2 potholess, 20.9ms\n",
      "image 330/504 E:\\University\\PythonProject\\UltralyticsPotholes\\potholes\\part4\\g9yvassv.jpg: 384x640 5 potholess, 16.0ms\n",
      "image 331/504 E:\\University\\PythonProject\\UltralyticsPotholes\\potholes\\part4\\ga3y39fu.jpg: 384x640 (no detections), 16.0ms\n",
      "image 332/504 E:\\University\\PythonProject\\UltralyticsPotholes\\potholes\\part4\\ga92u5uk.jpg: 480x640 1 potholes, 21.9ms\n",
      "image 333/504 E:\\University\\PythonProject\\UltralyticsPotholes\\potholes\\part4\\gat9q1fa.jpg: 384x640 (no detections), 17.0ms\n",
      "image 334/504 E:\\University\\PythonProject\\UltralyticsPotholes\\potholes\\part4\\gawx22yj.jpg: 448x640 2 potholess, 22.9ms\n",
      "image 335/504 E:\\University\\PythonProject\\UltralyticsPotholes\\potholes\\part4\\gbxo7k5a.jpg: 480x640 2 potholess, 22.9ms\n",
      "image 336/504 E:\\University\\PythonProject\\UltralyticsPotholes\\potholes\\part4\\gc7ahy4u.jpg: 416x640 1 potholes, 20.9ms\n",
      "image 337/504 E:\\University\\PythonProject\\UltralyticsPotholes\\potholes\\part4\\gcnt738f.jpg: 384x640 1 potholes, 17.0ms\n",
      "image 338/504 E:\\University\\PythonProject\\UltralyticsPotholes\\potholes\\part4\\gcq66a0l.jpg: 640x640 2 potholess, 24.9ms\n",
      "image 339/504 E:\\University\\PythonProject\\UltralyticsPotholes\\potholes\\part4\\gcto7w4f.jpg: 640x480 1 potholes, 19.9ms\n",
      "image 340/504 E:\\University\\PythonProject\\UltralyticsPotholes\\potholes\\part4\\gcyxmgs9.jpg: 640x480 1 potholes, 18.9ms\n",
      "image 341/504 E:\\University\\PythonProject\\UltralyticsPotholes\\potholes\\part4\\gd7jxcij.jpg: 640x480 2 potholess, 19.0ms\n",
      "image 342/504 E:\\University\\PythonProject\\UltralyticsPotholes\\potholes\\part4\\gdlo5c9o.jpg: 384x640 (no detections), 17.0ms\n",
      "image 343/504 E:\\University\\PythonProject\\UltralyticsPotholes\\potholes\\part4\\gdne6vl5.jpg: 384x640 1 potholes, 16.0ms\n",
      "image 344/504 E:\\University\\PythonProject\\UltralyticsPotholes\\potholes\\part4\\gdtf5uf1.jpg: 480x640 4 potholess, 30.9ms\n",
      "image 345/504 E:\\University\\PythonProject\\UltralyticsPotholes\\potholes\\part4\\geea8eue.jpg: 480x640 (no detections), 21.9ms\n",
      "image 346/504 E:\\University\\PythonProject\\UltralyticsPotholes\\potholes\\part4\\gej0q6xb.jpg: 448x640 6 potholess, 21.9ms\n",
      "image 347/504 E:\\University\\PythonProject\\UltralyticsPotholes\\potholes\\part4\\gergq0pp.jpg: 640x640 3 potholess, 23.9ms\n",
      "image 348/504 E:\\University\\PythonProject\\UltralyticsPotholes\\potholes\\part4\\gex8ul1u.jpg: 448x640 2 potholess, 20.9ms\n",
      "image 349/504 E:\\University\\PythonProject\\UltralyticsPotholes\\potholes\\part4\\gfbwn9a3.jpg: 480x640 1 potholes, 20.9ms\n",
      "image 350/504 E:\\University\\PythonProject\\UltralyticsPotholes\\potholes\\part4\\gfcnjitx.jpg: 640x576 1 potholes, 105.7ms\n",
      "image 351/504 E:\\University\\PythonProject\\UltralyticsPotholes\\potholes\\part4\\gg5dilcm.jpg: 640x640 (no detections), 24.9ms\n",
      "image 352/504 E:\\University\\PythonProject\\UltralyticsPotholes\\potholes\\part4\\gge7uk92.jpg: 352x640 4 potholess, 17.0ms\n",
      "image 353/504 E:\\University\\PythonProject\\UltralyticsPotholes\\potholes\\part4\\ggtv7s8k.jpg: 288x640 3 potholess, 16.0ms\n",
      "image 354/504 E:\\University\\PythonProject\\UltralyticsPotholes\\potholes\\part4\\ghawjr9n.jpg: 480x640 2 potholess, 22.9ms\n",
      "image 355/504 E:\\University\\PythonProject\\UltralyticsPotholes\\potholes\\part4\\ghm0aycb.jpg: 448x640 1 potholes, 21.9ms\n",
      "image 356/504 E:\\University\\PythonProject\\UltralyticsPotholes\\potholes\\part4\\gi023whv.jpg: 384x640 2 potholess, 18.0ms\n",
      "image 357/504 E:\\University\\PythonProject\\UltralyticsPotholes\\potholes\\part4\\gif9rkqz.jpg: 640x640 (no detections), 24.9ms\n",
      "image 358/504 E:\\University\\PythonProject\\UltralyticsPotholes\\potholes\\part4\\gihdnf81.jpg: 448x640 (no detections), 21.9ms\n",
      "image 359/504 E:\\University\\PythonProject\\UltralyticsPotholes\\potholes\\part4\\gilyf5k2.jpg: 448x640 1 potholes, 20.9ms\n",
      "image 360/504 E:\\University\\PythonProject\\UltralyticsPotholes\\potholes\\part4\\gipit5u6.jpg: 448x640 (no detections), 20.9ms\n",
      "image 361/504 E:\\University\\PythonProject\\UltralyticsPotholes\\potholes\\part4\\girfqz2b.jpg: 480x640 1 potholes, 21.9ms\n",
      "image 362/504 E:\\University\\PythonProject\\UltralyticsPotholes\\potholes\\part4\\gj6rfkyo.jpg: 384x640 6 potholess, 17.0ms\n",
      "image 363/504 E:\\University\\PythonProject\\UltralyticsPotholes\\potholes\\part4\\gj7ilafu.jpg: 448x640 5 potholess, 20.9ms\n",
      "image 364/504 E:\\University\\PythonProject\\UltralyticsPotholes\\potholes\\part4\\gj7k1qlu.jpg: 448x640 2 potholess, 19.0ms\n",
      "image 365/504 E:\\University\\PythonProject\\UltralyticsPotholes\\potholes\\part4\\gjy1pfjq.jpg: 416x640 3 potholess, 19.9ms\n",
      "image 366/504 E:\\University\\PythonProject\\UltralyticsPotholes\\potholes\\part4\\gjyozsj4.jpg: 640x640 1 potholes, 23.9ms\n",
      "image 367/504 E:\\University\\PythonProject\\UltralyticsPotholes\\potholes\\part4\\gk4pn3cx.jpg: 448x640 1 potholes, 20.9ms\n",
      "image 368/504 E:\\University\\PythonProject\\UltralyticsPotholes\\potholes\\part4\\gkbdl0mm.jpg: 640x480 4 potholess, 20.9ms\n",
      "image 369/504 E:\\University\\PythonProject\\UltralyticsPotholes\\potholes\\part4\\gkeex61q.jpg: 448x640 4 potholess, 20.9ms\n",
      "image 370/504 E:\\University\\PythonProject\\UltralyticsPotholes\\potholes\\part4\\gku7w1cv.jpg: 448x640 1 potholes, 19.9ms\n",
      "image 371/504 E:\\University\\PythonProject\\UltralyticsPotholes\\potholes\\part4\\gkw3h2z5.jpg: 384x640 9 potholess, 16.0ms\n",
      "image 372/504 E:\\University\\PythonProject\\UltralyticsPotholes\\potholes\\part4\\gkwsi8th.jpg: 352x640 1 potholes, 16.0ms\n",
      "image 373/504 E:\\University\\PythonProject\\UltralyticsPotholes\\potholes\\part4\\gl1cz84y.jpg: 448x640 2 potholess, 21.9ms\n",
      "image 374/504 E:\\University\\PythonProject\\UltralyticsPotholes\\potholes\\part4\\gl4hhlsf.jpg: 448x640 2 potholess, 19.9ms\n",
      "image 375/504 E:\\University\\PythonProject\\UltralyticsPotholes\\potholes\\part4\\glfzyvun.jpg: 384x640 (no detections), 17.0ms\n",
      "image 376/504 E:\\University\\PythonProject\\UltralyticsPotholes\\potholes\\part4\\glw94adm.jpg: 640x480 (no detections), 19.9ms\n",
      "image 377/504 E:\\University\\PythonProject\\UltralyticsPotholes\\potholes\\part4\\gmbxnc4k.jpg: 448x640 2 potholess, 20.9ms\n",
      "image 378/504 E:\\University\\PythonProject\\UltralyticsPotholes\\potholes\\part4\\gmxb8ari.jpg: 288x640 2 potholess, 14.0ms\n",
      "image 379/504 E:\\University\\PythonProject\\UltralyticsPotholes\\potholes\\part4\\gnfgykwk.jpg: 480x640 1 potholes, 21.9ms\n",
      "image 380/504 E:\\University\\PythonProject\\UltralyticsPotholes\\potholes\\part4\\gnnjfed2.jpg: 224x640 1 potholes, 14.0ms\n",
      "image 381/504 E:\\University\\PythonProject\\UltralyticsPotholes\\potholes\\part4\\gnomgoyh.jpg: 384x640 (no detections), 15.0ms\n",
      "image 382/504 E:\\University\\PythonProject\\UltralyticsPotholes\\potholes\\part4\\gocc38l0.jpg: 448x640 7 potholess, 19.9ms\n",
      "image 383/504 E:\\University\\PythonProject\\UltralyticsPotholes\\potholes\\part4\\gok9u1ui.jpg: 416x640 3 potholess, 18.9ms\n",
      "image 384/504 E:\\University\\PythonProject\\UltralyticsPotholes\\potholes\\part4\\gorrjt0n.jpg: 384x640 7 potholess, 17.0ms\n",
      "image 385/504 E:\\University\\PythonProject\\UltralyticsPotholes\\potholes\\part4\\gpl0qz9z.jpg: 448x640 1 potholes, 20.9ms\n",
      "image 386/504 E:\\University\\PythonProject\\UltralyticsPotholes\\potholes\\part4\\gqnpo6d1.jpg: 448x640 1 potholes, 19.9ms\n",
      "image 387/504 E:\\University\\PythonProject\\UltralyticsPotholes\\potholes\\part4\\gqotvshb.jpg: 320x640 2 potholess, 16.0ms\n",
      "image 388/504 E:\\University\\PythonProject\\UltralyticsPotholes\\potholes\\part4\\gquz5qrn.jpg: 640x640 1 potholes, 23.9ms\n",
      "image 389/504 E:\\University\\PythonProject\\UltralyticsPotholes\\potholes\\part4\\gqzfjd88.jpg: 640x448 1 potholes, 20.9ms\n",
      "image 390/504 E:\\University\\PythonProject\\UltralyticsPotholes\\potholes\\part4\\gr4rtnvp.jpg: 448x640 7 potholess, 20.9ms\n",
      "image 391/504 E:\\University\\PythonProject\\UltralyticsPotholes\\potholes\\part4\\grcqdj26.jpg: 416x640 (no detections), 20.9ms\n",
      "image 392/504 E:\\University\\PythonProject\\UltralyticsPotholes\\potholes\\part4\\grd0o4sc.jpg: 448x640 4 potholess, 21.9ms\n",
      "image 393/504 E:\\University\\PythonProject\\UltralyticsPotholes\\potholes\\part4\\grhexdqx.jpg: 480x640 5 potholess, 21.9ms\n",
      "image 394/504 E:\\University\\PythonProject\\UltralyticsPotholes\\potholes\\part4\\grho7pdl.jpg: 480x640 1 potholes, 20.9ms\n",
      "image 395/504 E:\\University\\PythonProject\\UltralyticsPotholes\\potholes\\part4\\grq13o89.jpg: 448x640 3 potholess, 20.9ms\n",
      "image 396/504 E:\\University\\PythonProject\\UltralyticsPotholes\\potholes\\part4\\grwkj40b.jpg: 384x640 8 potholess, 17.0ms\n",
      "image 397/504 E:\\University\\PythonProject\\UltralyticsPotholes\\potholes\\part4\\gs45g0f1.jpg: 384x640 (no detections), 15.0ms\n",
      "image 398/504 E:\\University\\PythonProject\\UltralyticsPotholes\\potholes\\part4\\gs9n8pij.jpg: 384x640 1 potholes, 16.0ms\n",
      "image 399/504 E:\\University\\PythonProject\\UltralyticsPotholes\\potholes\\part4\\gsajcq2t.jpg: 448x640 (no detections), 20.9ms\n",
      "image 400/504 E:\\University\\PythonProject\\UltralyticsPotholes\\potholes\\part4\\gspm8eej.jpg: 640x640 4 potholess, 23.9ms\n",
      "image 401/504 E:\\University\\PythonProject\\UltralyticsPotholes\\potholes\\part4\\gtw4i0lz.jpg: 384x640 (no detections), 18.0ms\n",
      "image 402/504 E:\\University\\PythonProject\\UltralyticsPotholes\\potholes\\part4\\gupfy6hq.jpg: 640x480 8 potholess, 20.9ms\n",
      "image 403/504 E:\\University\\PythonProject\\UltralyticsPotholes\\potholes\\part4\\guu2f7ho.jpg: 480x640 16 potholess, 21.9ms\n",
      "image 404/504 E:\\University\\PythonProject\\UltralyticsPotholes\\potholes\\part4\\guybhmou.jpg: 384x640 1 potholes, 17.0ms\n",
      "image 405/504 E:\\University\\PythonProject\\UltralyticsPotholes\\potholes\\part4\\gv1fftt5.jpg: 384x640 2 potholess, 15.0ms\n",
      "image 406/504 E:\\University\\PythonProject\\UltralyticsPotholes\\potholes\\part4\\gvlfnsdq.jpg: 448x640 2 potholess, 21.9ms\n",
      "image 407/504 E:\\University\\PythonProject\\UltralyticsPotholes\\potholes\\part4\\gvvnawua.jpg: 352x640 2 potholess, 15.0ms\n",
      "image 408/504 E:\\University\\PythonProject\\UltralyticsPotholes\\potholes\\part4\\gw08s75x.jpg: 384x640 (no detections), 17.0ms\n",
      "image 409/504 E:\\University\\PythonProject\\UltralyticsPotholes\\potholes\\part4\\gw2vub5q.jpg: 640x480 1 potholes, 20.9ms\n",
      "image 410/504 E:\\University\\PythonProject\\UltralyticsPotholes\\potholes\\part4\\gw3mq55j.jpg: 640x480 (no detections), 18.9ms\n",
      "image 411/504 E:\\University\\PythonProject\\UltralyticsPotholes\\potholes\\part4\\gwanaga7.jpg: 640x480 1 potholes, 18.9ms\n",
      "image 412/504 E:\\University\\PythonProject\\UltralyticsPotholes\\potholes\\part4\\gx2y83zf.jpg: 352x640 25 potholess, 16.0ms\n",
      "image 413/504 E:\\University\\PythonProject\\UltralyticsPotholes\\potholes\\part4\\gxwms9yc.jpg: 384x640 2 potholess, 16.0ms\n",
      "image 414/504 E:\\University\\PythonProject\\UltralyticsPotholes\\potholes\\part4\\gyn94y81.jpg: 288x640 2 potholess, 15.0ms\n",
      "image 415/504 E:\\University\\PythonProject\\UltralyticsPotholes\\potholes\\part4\\gyt7amgg.jpg: 384x640 (no detections), 17.0ms\n",
      "image 416/504 E:\\University\\PythonProject\\UltralyticsPotholes\\potholes\\part4\\gz7foq0x.jpg: 480x640 1 potholes, 20.9ms\n",
      "image 417/504 E:\\University\\PythonProject\\UltralyticsPotholes\\potholes\\part4\\h072oa13.jpg: 320x640 (no detections), 15.0ms\n",
      "image 418/504 E:\\University\\PythonProject\\UltralyticsPotholes\\potholes\\part4\\h0m4cyyo.jpg: 384x640 (no detections), 17.0ms\n",
      "image 419/504 E:\\University\\PythonProject\\UltralyticsPotholes\\potholes\\part4\\h19swkgn.jpg: 480x640 3 potholess, 21.9ms\n",
      "image 420/504 E:\\University\\PythonProject\\UltralyticsPotholes\\potholes\\part4\\h1ayb11f.jpg: 384x640 1 potholes, 18.0ms\n",
      "image 421/504 E:\\University\\PythonProject\\UltralyticsPotholes\\potholes\\part4\\h1mycc46.jpg: 640x480 (no detections), 19.9ms\n",
      "image 422/504 E:\\University\\PythonProject\\UltralyticsPotholes\\potholes\\part4\\h1o6v5m2.jpg: 448x640 1 potholes, 20.9ms\n",
      "image 423/504 E:\\University\\PythonProject\\UltralyticsPotholes\\potholes\\part4\\h1xr59z0.jpg: 480x640 (no detections), 21.9ms\n",
      "image 424/504 E:\\University\\PythonProject\\UltralyticsPotholes\\potholes\\part4\\h261f0ca.jpg: 480x640 1 potholes, 20.9ms\n",
      "image 425/504 E:\\University\\PythonProject\\UltralyticsPotholes\\potholes\\part4\\h2gz6xhe.jpg: 384x640 1 potholes, 18.0ms\n",
      "image 426/504 E:\\University\\PythonProject\\UltralyticsPotholes\\potholes\\part4\\h2h001ca.jpg: 448x640 1 potholes, 21.9ms\n",
      "image 427/504 E:\\University\\PythonProject\\UltralyticsPotholes\\potholes\\part4\\h2kmp3tl.jpg: 416x640 2 potholess, 20.9ms\n",
      "image 428/504 E:\\University\\PythonProject\\UltralyticsPotholes\\potholes\\part4\\h2uh1m2m.jpg: 640x640 1 potholes, 24.9ms\n",
      "image 429/504 E:\\University\\PythonProject\\UltralyticsPotholes\\potholes\\part4\\h36n2f5h.jpg: 384x640 2 potholess, 17.0ms\n",
      "image 430/504 E:\\University\\PythonProject\\UltralyticsPotholes\\potholes\\part4\\h3tpxds5.jpg: 480x640 3 potholess, 21.9ms\n",
      "image 431/504 E:\\University\\PythonProject\\UltralyticsPotholes\\potholes\\part4\\h44x9uk6.jpg: 384x640 6 potholess, 16.0ms\n",
      "image 432/504 E:\\University\\PythonProject\\UltralyticsPotholes\\potholes\\part4\\h4cr5kv7.jpg: 640x576 (no detections), 21.9ms\n",
      "image 433/504 E:\\University\\PythonProject\\UltralyticsPotholes\\potholes\\part4\\h4emwsbz.jpg: 448x640 3 potholess, 20.9ms\n",
      "image 434/504 E:\\University\\PythonProject\\UltralyticsPotholes\\potholes\\part4\\h4itt4d8.jpg: 640x640 2 potholess, 24.9ms\n",
      "image 435/504 E:\\University\\PythonProject\\UltralyticsPotholes\\potholes\\part4\\h5bswcp8.jpg: 416x640 1 potholes, 20.9ms\n",
      "image 436/504 E:\\University\\PythonProject\\UltralyticsPotholes\\potholes\\part4\\h6egytd6.jpg: 640x480 (no detections), 20.9ms\n",
      "image 437/504 E:\\University\\PythonProject\\UltralyticsPotholes\\potholes\\part4\\h6m8ieyb.jpg: 448x640 1 potholes, 20.9ms\n",
      "image 438/504 E:\\University\\PythonProject\\UltralyticsPotholes\\potholes\\part4\\h6srsl9p.jpg: 640x576 (no detections), 21.9ms\n",
      "image 439/504 E:\\University\\PythonProject\\UltralyticsPotholes\\potholes\\part4\\h7yoh6mm.jpg: 352x640 1 potholes, 16.0ms\n",
      "image 440/504 E:\\University\\PythonProject\\UltralyticsPotholes\\potholes\\part4\\h800r67f.jpg: 320x640 1 potholes, 15.0ms\n",
      "image 441/504 E:\\University\\PythonProject\\UltralyticsPotholes\\potholes\\part4\\h81lfu2z.jpg: 480x640 1 potholes, 20.9ms\n",
      "image 442/504 E:\\University\\PythonProject\\UltralyticsPotholes\\potholes\\part4\\h8i6d77a.jpg: 640x480 3 potholess, 18.9ms\n",
      "image 443/504 E:\\University\\PythonProject\\UltralyticsPotholes\\potholes\\part4\\h8woklih.jpg: 640x480 7 potholess, 18.0ms\n",
      "image 444/504 E:\\University\\PythonProject\\UltralyticsPotholes\\potholes\\part4\\h9fxc62g.jpg: 640x640 1 potholes, 22.9ms\n",
      "image 445/504 E:\\University\\PythonProject\\UltralyticsPotholes\\potholes\\part4\\h9zhdm71.jpg: 480x640 (no detections), 20.9ms\n",
      "image 446/504 E:\\University\\PythonProject\\UltralyticsPotholes\\potholes\\part4\\ha91ueel.jpg: 640x640 (no detections), 24.9ms\n",
      "image 447/504 E:\\University\\PythonProject\\UltralyticsPotholes\\potholes\\part4\\hb4ihpas.jpg: 640x640 2 potholess, 22.9ms\n",
      "image 448/504 E:\\University\\PythonProject\\UltralyticsPotholes\\potholes\\part4\\hb53c2v7.jpg: 640x640 (no detections), 23.9ms\n",
      "image 449/504 E:\\University\\PythonProject\\UltralyticsPotholes\\potholes\\part4\\hb7gzam8.jpg: 448x640 1 potholes, 20.9ms\n",
      "image 450/504 E:\\University\\PythonProject\\UltralyticsPotholes\\potholes\\part4\\hc140qc9.jpg: 640x480 3 potholess, 19.9ms\n",
      "image 451/504 E:\\University\\PythonProject\\UltralyticsPotholes\\potholes\\part4\\hc2aoxeh.jpg: 448x640 5 potholess, 21.9ms\n",
      "image 452/504 E:\\University\\PythonProject\\UltralyticsPotholes\\potholes\\part4\\hc52k2sx.jpg: 640x640 2 potholess, 24.9ms\n",
      "image 453/504 E:\\University\\PythonProject\\UltralyticsPotholes\\potholes\\part4\\hccd9d98.jpg: 640x640 1 potholes, 24.9ms\n",
      "image 454/504 E:\\University\\PythonProject\\UltralyticsPotholes\\potholes\\part4\\hdngms3i.jpg: 480x640 7 potholess, 22.9ms\n",
      "image 455/504 E:\\University\\PythonProject\\UltralyticsPotholes\\potholes\\part4\\heekibki.jpg: 480x640 27 potholess, 20.9ms\n",
      "image 456/504 E:\\University\\PythonProject\\UltralyticsPotholes\\potholes\\part4\\hekck9an.jpg: 640x640 1 potholes, 24.9ms\n",
      "image 457/504 E:\\University\\PythonProject\\UltralyticsPotholes\\potholes\\part4\\hem4ngdj.jpg: 448x640 6 potholess, 21.9ms\n",
      "image 458/504 E:\\University\\PythonProject\\UltralyticsPotholes\\potholes\\part4\\hf97evdl.jpg: 384x640 2 potholess, 17.0ms\n",
      "image 459/504 E:\\University\\PythonProject\\UltralyticsPotholes\\potholes\\part4\\hfx3qtid.jpg: 640x640 (no detections), 24.9ms\n",
      "image 460/504 E:\\University\\PythonProject\\UltralyticsPotholes\\potholes\\part4\\hfz34mm5.jpg: 480x640 (no detections), 21.9ms\n",
      "image 461/504 E:\\University\\PythonProject\\UltralyticsPotholes\\potholes\\part4\\hg3qhohx.jpg: 448x640 2 potholess, 20.9ms\n",
      "image 462/504 E:\\University\\PythonProject\\UltralyticsPotholes\\potholes\\part4\\hihts2hj.jpg: 640x480 1 potholes, 19.9ms\n",
      "image 463/504 E:\\University\\PythonProject\\UltralyticsPotholes\\potholes\\part4\\hin4ahp8.jpg: 448x640 3 potholess, 20.9ms\n",
      "image 464/504 E:\\University\\PythonProject\\UltralyticsPotholes\\potholes\\part4\\hj1gyqx5.jpg: 512x640 1 potholes, 19.9ms\n",
      "image 465/504 E:\\University\\PythonProject\\UltralyticsPotholes\\potholes\\part4\\hj7fg9dz.jpg: 384x640 2 potholess, 18.0ms\n",
      "image 466/504 E:\\University\\PythonProject\\UltralyticsPotholes\\potholes\\part4\\hjlaw6ig.jpg: 384x640 1 potholes, 17.0ms\n",
      "image 467/504 E:\\University\\PythonProject\\UltralyticsPotholes\\potholes\\part4\\hk1alrrt.jpg: 352x640 8 potholess, 17.0ms\n",
      "image 468/504 E:\\University\\PythonProject\\UltralyticsPotholes\\potholes\\part4\\hklerrlm.jpg: 384x640 2 potholess, 16.0ms\n",
      "image 469/504 E:\\University\\PythonProject\\UltralyticsPotholes\\potholes\\part4\\hl83kly0.jpg: 448x640 1 potholes, 20.9ms\n",
      "image 470/504 E:\\University\\PythonProject\\UltralyticsPotholes\\potholes\\part4\\hlafvfkt.jpg: 352x640 (no detections), 17.0ms\n",
      "image 471/504 E:\\University\\PythonProject\\UltralyticsPotholes\\potholes\\part4\\hlryskc9.jpg: 480x640 1 potholes, 19.9ms\n",
      "image 472/504 E:\\University\\PythonProject\\UltralyticsPotholes\\potholes\\part4\\hm27mkeu.jpg: 640x640 1 potholes, 23.9ms\n",
      "image 473/504 E:\\University\\PythonProject\\UltralyticsPotholes\\potholes\\part4\\hmgv8sm9.jpg: 416x640 1 potholes, 19.9ms\n",
      "image 474/504 E:\\University\\PythonProject\\UltralyticsPotholes\\potholes\\part4\\hmubezfu.jpg: 448x640 1 potholes, 21.9ms\n",
      "image 475/504 E:\\University\\PythonProject\\UltralyticsPotholes\\potholes\\part4\\hn0cdfnu.jpg: 320x640 3 potholess, 15.0ms\n",
      "image 476/504 E:\\University\\PythonProject\\UltralyticsPotholes\\potholes\\part4\\hn9v2mcv.jpg: 448x640 7 potholess, 20.9ms\n",
      "image 477/504 E:\\University\\PythonProject\\UltralyticsPotholes\\potholes\\part4\\hne5av5g.jpg: 640x544 2 potholess, 22.9ms\n",
      "image 478/504 E:\\University\\PythonProject\\UltralyticsPotholes\\potholes\\part4\\hnedv2en.jpg: 448x640 1 potholes, 20.9ms\n",
      "image 479/504 E:\\University\\PythonProject\\UltralyticsPotholes\\potholes\\part4\\hnvcge33.jpg: 448x640 1 potholes, 19.9ms\n",
      "image 480/504 E:\\University\\PythonProject\\UltralyticsPotholes\\potholes\\part4\\hoccz8l5.jpg: 448x640 2 potholess, 20.9ms\n",
      "image 481/504 E:\\University\\PythonProject\\UltralyticsPotholes\\potholes\\part4\\hphhc0u6.jpg: 384x640 1 potholes, 16.0ms\n",
      "image 482/504 E:\\University\\PythonProject\\UltralyticsPotholes\\potholes\\part4\\hq8vqgiq.jpg: 640x480 1 potholes, 19.0ms\n",
      "image 483/504 E:\\University\\PythonProject\\UltralyticsPotholes\\potholes\\part4\\hqojb57m.jpg: 352x640 4 potholess, 16.0ms\n",
      "image 484/504 E:\\University\\PythonProject\\UltralyticsPotholes\\potholes\\part4\\hr6uh355.jpg: 480x640 3 potholess, 20.9ms\n",
      "image 485/504 E:\\University\\PythonProject\\UltralyticsPotholes\\potholes\\part4\\hr7d9t6r.jpg: 640x480 (no detections), 18.9ms\n",
      "image 486/504 E:\\University\\PythonProject\\UltralyticsPotholes\\potholes\\part4\\hrgyuodd.jpg: 480x640 2 potholess, 20.9ms\n",
      "image 487/504 E:\\University\\PythonProject\\UltralyticsPotholes\\potholes\\part4\\hrhix5b8.jpg: 448x640 (no detections), 21.9ms\n",
      "image 488/504 E:\\University\\PythonProject\\UltralyticsPotholes\\potholes\\part4\\hrizp8b5.jpg: 416x640 1 potholes, 20.9ms\n",
      "image 489/504 E:\\University\\PythonProject\\UltralyticsPotholes\\potholes\\part4\\hsbaabfn.jpg: 640x640 (no detections), 25.9ms\n",
      "image 490/504 E:\\University\\PythonProject\\UltralyticsPotholes\\potholes\\part4\\hsjm7ue8.jpg: 416x640 2 potholess, 21.9ms\n",
      "image 491/504 E:\\University\\PythonProject\\UltralyticsPotholes\\potholes\\part4\\hskh4z4q.jpg: 384x640 3 potholess, 17.0ms\n",
      "image 492/504 E:\\University\\PythonProject\\UltralyticsPotholes\\potholes\\part4\\hspj1tf7.jpg: 384x640 3 potholess, 16.0ms\n",
      "image 493/504 E:\\University\\PythonProject\\UltralyticsPotholes\\potholes\\part4\\hst5ukq0.jpg: 384x640 1 potholes, 16.0ms\n",
      "image 494/504 E:\\University\\PythonProject\\UltralyticsPotholes\\potholes\\part4\\htmynyvk.jpg: 480x640 (no detections), 22.9ms\n",
      "image 495/504 E:\\University\\PythonProject\\UltralyticsPotholes\\potholes\\part4\\hto68q7q.jpg: 640x640 (no detections), 23.9ms\n",
      "image 496/504 E:\\University\\PythonProject\\UltralyticsPotholes\\potholes\\part4\\hu06xw38.jpg: 384x640 1 potholes, 18.0ms\n",
      "image 497/504 E:\\University\\PythonProject\\UltralyticsPotholes\\potholes\\part4\\huyn0n32.jpg: 640x640 (no detections), 23.9ms\n",
      "image 498/504 E:\\University\\PythonProject\\UltralyticsPotholes\\potholes\\part4\\hveazryq.jpg: 640x640 (no detections), 23.9ms\n",
      "image 499/504 E:\\University\\PythonProject\\UltralyticsPotholes\\potholes\\part4\\hvtnxqrt.jpg: 448x640 6 potholess, 21.9ms\n",
      "image 500/504 E:\\University\\PythonProject\\UltralyticsPotholes\\potholes\\part4\\hw3c9mhb.jpg: 448x640 5 potholess, 19.9ms\n",
      "image 501/504 E:\\University\\PythonProject\\UltralyticsPotholes\\potholes\\part4\\hwimwjog.jpg: 640x640 (no detections), 22.9ms\n",
      "image 502/504 E:\\University\\PythonProject\\UltralyticsPotholes\\potholes\\part4\\hx2leeoc.jpg: 448x640 1 potholes, 22.9ms\n",
      "image 503/504 E:\\University\\PythonProject\\UltralyticsPotholes\\potholes\\part4\\hxbky9uz.jpg: 448x640 2 potholess, 19.9ms\n",
      "image 504/504 E:\\University\\PythonProject\\UltralyticsPotholes\\potholes\\part4\\hxiv3p8k.jpg: 448x640 1 potholes, 19.9ms\n",
      "Speed: 2.3ms preprocess, 22.8ms inference, 2.0ms postprocess per image at shape (1, 3, 448, 640)\n",
      "Results saved to \u001b[1mruns\\segment\\predict2\u001b[0m\n"
     ]
    }
   ],
   "source": [
    "resultFour = model('potholes\\\\part4',save=True)"
   ]
  },
  {
   "cell_type": "code",
   "execution_count": 4,
   "id": "17da94f9f0ddc033",
   "metadata": {
    "ExecuteTime": {
     "end_time": "2023-12-11T06:21:44.882738500Z",
     "start_time": "2023-12-11T06:21:01.424133Z"
    },
    "collapsed": false,
    "jupyter": {
     "outputs_hidden": false
    }
   },
   "outputs": [
    {
     "name": "stdout",
     "output_type": "stream",
     "text": [
      "image 1/497 E:\\University\\PythonProject\\UltralyticsPotholes\\potholes\\part5\\hxnwa8sh.jpg: 384x640 11 potholess, 136.3ms\n",
      "image 2/497 E:\\University\\PythonProject\\UltralyticsPotholes\\potholes\\part5\\hxr07kdm.jpg: 640x480 2 potholess, 25.9ms\n",
      "image 3/497 E:\\University\\PythonProject\\UltralyticsPotholes\\potholes\\part5\\hxx1zfab.jpg: 640x640 12 potholess, 34.9ms\n",
      "image 4/497 E:\\University\\PythonProject\\UltralyticsPotholes\\potholes\\part5\\hygk51yu.jpg: 448x640 (no detections), 27.9ms\n",
      "image 5/497 E:\\University\\PythonProject\\UltralyticsPotholes\\potholes\\part5\\hyvnmb7k.jpg: 640x480 (no detections), 25.9ms\n",
      "image 6/497 E:\\University\\PythonProject\\UltralyticsPotholes\\potholes\\part5\\hz62da03.jpg: 320x640 7 potholess, 20.9ms\n",
      "image 7/497 E:\\University\\PythonProject\\UltralyticsPotholes\\potholes\\part5\\hz6qgx7t.jpg: 512x640 (no detections), 26.9ms\n",
      "image 8/497 E:\\University\\PythonProject\\UltralyticsPotholes\\potholes\\part5\\hzauycc4.jpg: 640x384 1 potholes, 22.9ms\n",
      "image 9/497 E:\\University\\PythonProject\\UltralyticsPotholes\\potholes\\part5\\hzgaliaq.jpg: 640x480 (no detections), 26.9ms\n",
      "image 10/497 E:\\University\\PythonProject\\UltralyticsPotholes\\potholes\\part5\\hzsb7d8h.jpg: 480x640 (no detections), 70.8ms\n",
      "image 11/497 E:\\University\\PythonProject\\UltralyticsPotholes\\potholes\\part5\\hzta8z83.jpg: 480x640 (no detections), 40.9ms\n",
      "image 12/497 E:\\University\\PythonProject\\UltralyticsPotholes\\potholes\\part5\\i03ktf4j.jpg: 352x640 2 potholess, 27.9ms\n",
      "image 13/497 E:\\University\\PythonProject\\UltralyticsPotholes\\potholes\\part5\\i04qurxl.jpg: 480x640 (no detections), 35.9ms\n",
      "image 14/497 E:\\University\\PythonProject\\UltralyticsPotholes\\potholes\\part5\\i0fq1psa.jpg: 384x640 2 potholess, 26.9ms\n",
      "image 15/497 E:\\University\\PythonProject\\UltralyticsPotholes\\potholes\\part5\\i1beqjs5.jpg: 640x640 (no detections), 75.8ms\n",
      "image 16/497 E:\\University\\PythonProject\\UltralyticsPotholes\\potholes\\part5\\i1hqnq2u.jpg: 384x640 9 potholess, 35.9ms\n",
      "image 17/497 E:\\University\\PythonProject\\UltralyticsPotholes\\potholes\\part5\\i29nuvlr.jpg: 480x640 1 potholes, 46.9ms\n",
      "image 18/497 E:\\University\\PythonProject\\UltralyticsPotholes\\potholes\\part5\\i2dslnxi.jpg: 384x640 3 potholess, 20.9ms\n",
      "image 19/497 E:\\University\\PythonProject\\UltralyticsPotholes\\potholes\\part5\\i2nsythi.jpg: 384x640 1 potholes, 18.9ms\n",
      "image 20/497 E:\\University\\PythonProject\\UltralyticsPotholes\\potholes\\part5\\i2r2at3t.jpg: 384x640 1 potholes, 25.9ms\n",
      "image 21/497 E:\\University\\PythonProject\\UltralyticsPotholes\\potholes\\part5\\i33o487f.jpg: 352x640 1 potholes, 21.9ms\n",
      "image 22/497 E:\\University\\PythonProject\\UltralyticsPotholes\\potholes\\part5\\i3hripfg.jpg: 384x640 (no detections), 21.9ms\n",
      "image 23/497 E:\\University\\PythonProject\\UltralyticsPotholes\\potholes\\part5\\i3niwlm4.jpg: 480x640 (no detections), 24.9ms\n",
      "image 24/497 E:\\University\\PythonProject\\UltralyticsPotholes\\potholes\\part5\\i3vhi08m.jpg: 640x480 1 potholes, 24.9ms\n",
      "image 25/497 E:\\University\\PythonProject\\UltralyticsPotholes\\potholes\\part5\\i3vk2b5g.jpg: 288x640 1 potholes, 18.0ms\n",
      "image 26/497 E:\\University\\PythonProject\\UltralyticsPotholes\\potholes\\part5\\i3xwvsj9.jpg: 448x640 1 potholes, 24.9ms\n",
      "image 27/497 E:\\University\\PythonProject\\UltralyticsPotholes\\potholes\\part5\\i4gtjdzf.jpg: 480x640 10 potholess, 28.9ms\n",
      "image 28/497 E:\\University\\PythonProject\\UltralyticsPotholes\\potholes\\part5\\i4prsbxz.jpg: 640x640 (no detections), 31.9ms\n",
      "image 29/497 E:\\University\\PythonProject\\UltralyticsPotholes\\potholes\\part5\\i5go6aak.jpg: 480x640 (no detections), 28.9ms\n",
      "image 30/497 E:\\University\\PythonProject\\UltralyticsPotholes\\potholes\\part5\\i5kflk1r.jpg: 480x640 (no detections), 26.9ms\n",
      "image 31/497 E:\\University\\PythonProject\\UltralyticsPotholes\\potholes\\part5\\i6g57o75.jpg: 448x640 3 potholess, 24.9ms\n",
      "image 32/497 E:\\University\\PythonProject\\UltralyticsPotholes\\potholes\\part5\\i6hiff38.jpg: 640x480 2 potholess, 19.9ms\n",
      "image 33/497 E:\\University\\PythonProject\\UltralyticsPotholes\\potholes\\part5\\i6hlx8e2.jpg: 448x640 14 potholess, 20.9ms\n",
      "image 34/497 E:\\University\\PythonProject\\UltralyticsPotholes\\potholes\\part5\\i6n28863.jpg: 448x640 3 potholess, 20.9ms\n",
      "image 35/497 E:\\University\\PythonProject\\UltralyticsPotholes\\potholes\\part5\\i79m78j9.jpg: 416x640 1 potholes, 20.9ms\n",
      "image 36/497 E:\\University\\PythonProject\\UltralyticsPotholes\\potholes\\part5\\i7b8w9lk.jpg: 480x640 (no detections), 21.9ms\n",
      "image 37/497 E:\\University\\PythonProject\\UltralyticsPotholes\\potholes\\part5\\i7r79svl.jpg: 480x640 1 potholes, 21.9ms\n",
      "image 38/497 E:\\University\\PythonProject\\UltralyticsPotholes\\potholes\\part5\\i84zscr0.jpg: 384x640 3 potholess, 17.0ms\n",
      "image 39/497 E:\\University\\PythonProject\\UltralyticsPotholes\\potholes\\part5\\i8cdwpyc.jpg: 384x640 1 potholes, 16.0ms\n",
      "image 40/497 E:\\University\\PythonProject\\UltralyticsPotholes\\potholes\\part5\\i8i45zbq.jpg: 448x640 1 potholes, 20.9ms\n",
      "image 41/497 E:\\University\\PythonProject\\UltralyticsPotholes\\potholes\\part5\\i8nlrpp3.jpg: 544x640 (no detections), 22.9ms\n",
      "image 42/497 E:\\University\\PythonProject\\UltralyticsPotholes\\potholes\\part5\\i8pi4i4w.jpg: 640x640 (no detections), 22.9ms\n",
      "image 43/497 E:\\University\\PythonProject\\UltralyticsPotholes\\potholes\\part5\\i8pk4vo4.jpg: 448x640 1 potholes, 21.9ms\n",
      "image 44/497 E:\\University\\PythonProject\\UltralyticsPotholes\\potholes\\part5\\i8v7hky1.jpg: 448x640 3 potholess, 20.9ms\n",
      "image 45/497 E:\\University\\PythonProject\\UltralyticsPotholes\\potholes\\part5\\i946ppti.jpg: 448x640 1 potholes, 19.9ms\n",
      "image 46/497 E:\\University\\PythonProject\\UltralyticsPotholes\\potholes\\part5\\i979lf71.jpg: 448x640 2 potholess, 19.9ms\n",
      "image 47/497 E:\\University\\PythonProject\\UltralyticsPotholes\\potholes\\part5\\i9rtno18.jpg: 640x640 1 potholes, 22.9ms\n",
      "image 48/497 E:\\University\\PythonProject\\UltralyticsPotholes\\potholes\\part5\\i9saheis.jpg: 544x640 2 potholess, 21.9ms\n",
      "image 49/497 E:\\University\\PythonProject\\UltralyticsPotholes\\potholes\\part5\\i9yhkx9x.jpg: 544x640 1 potholes, 20.9ms\n",
      "image 50/497 E:\\University\\PythonProject\\UltralyticsPotholes\\potholes\\part5\\ib8oc6ym.jpg: 480x640 1 potholes, 20.9ms\n",
      "image 51/497 E:\\University\\PythonProject\\UltralyticsPotholes\\potholes\\part5\\ibdrc48s.jpg: 384x640 (no detections), 17.0ms\n",
      "image 52/497 E:\\University\\PythonProject\\UltralyticsPotholes\\potholes\\part5\\ibjnqk3d.jpg: 640x640 1 potholes, 24.9ms\n",
      "image 53/497 E:\\University\\PythonProject\\UltralyticsPotholes\\potholes\\part5\\ibn0cuzs.jpg: 448x640 4 potholess, 21.9ms\n",
      "image 54/497 E:\\University\\PythonProject\\UltralyticsPotholes\\potholes\\part5\\ibs14q4c.jpg: 448x640 (no detections), 20.9ms\n",
      "image 55/497 E:\\University\\PythonProject\\UltralyticsPotholes\\potholes\\part5\\ic9x4bjf.jpg: 448x640 (no detections), 21.9ms\n",
      "image 56/497 E:\\University\\PythonProject\\UltralyticsPotholes\\potholes\\part5\\icjfzaka.jpg: 448x640 1 potholes, 26.9ms\n",
      "image 57/497 E:\\University\\PythonProject\\UltralyticsPotholes\\potholes\\part5\\icn4jf3b.jpg: 480x640 (no detections), 22.9ms\n",
      "image 58/497 E:\\University\\PythonProject\\UltralyticsPotholes\\potholes\\part5\\icptx3rw.jpg: 384x640 2 potholess, 18.0ms\n",
      "image 59/497 E:\\University\\PythonProject\\UltralyticsPotholes\\potholes\\part5\\id6eocma.jpg: 256x640 3 potholess, 112.7ms\n",
      "image 60/497 E:\\University\\PythonProject\\UltralyticsPotholes\\potholes\\part5\\idfntrhc.jpg: 320x640 (no detections), 16.0ms\n",
      "image 61/497 E:\\University\\PythonProject\\UltralyticsPotholes\\potholes\\part5\\ie5my4at.jpg: 448x640 2 potholess, 22.9ms\n",
      "image 62/497 E:\\University\\PythonProject\\UltralyticsPotholes\\potholes\\part5\\ie9k978p.jpg: 384x640 2 potholess, 17.0ms\n",
      "image 63/497 E:\\University\\PythonProject\\UltralyticsPotholes\\potholes\\part5\\iea2ljls.jpg: 384x640 4 potholess, 16.0ms\n",
      "image 64/497 E:\\University\\PythonProject\\UltralyticsPotholes\\potholes\\part5\\iekwtq0m.jpg: 384x640 1 potholes, 17.0ms\n",
      "image 65/497 E:\\University\\PythonProject\\UltralyticsPotholes\\potholes\\part5\\iex0h4uu.jpg: 448x640 2 potholess, 19.9ms\n",
      "image 66/497 E:\\University\\PythonProject\\UltralyticsPotholes\\potholes\\part5\\ifpx1ox2.jpg: 480x640 (no detections), 21.9ms\n",
      "image 67/497 E:\\University\\PythonProject\\UltralyticsPotholes\\potholes\\part5\\ihndva6k.jpg: 480x640 2 potholess, 20.9ms\n",
      "image 68/497 E:\\University\\PythonProject\\UltralyticsPotholes\\potholes\\part5\\ihqv016q.jpg: 384x640 2 potholess, 17.0ms\n",
      "image 69/497 E:\\University\\PythonProject\\UltralyticsPotholes\\potholes\\part5\\ihs0o3fl.jpg: 384x640 1 potholes, 16.0ms\n",
      "image 70/497 E:\\University\\PythonProject\\UltralyticsPotholes\\potholes\\part5\\iiexl925.jpg: 480x640 3 potholess, 21.9ms\n",
      "image 71/497 E:\\University\\PythonProject\\UltralyticsPotholes\\potholes\\part5\\iih2cjql.jpg: 448x640 6 potholess, 20.9ms\n",
      "image 72/497 E:\\University\\PythonProject\\UltralyticsPotholes\\potholes\\part5\\iipzt3rz.jpg: 416x640 1 potholes, 21.9ms\n",
      "image 73/497 E:\\University\\PythonProject\\UltralyticsPotholes\\potholes\\part5\\iiqccroq.jpg: 352x640 (no detections), 17.0ms\n",
      "image 74/497 E:\\University\\PythonProject\\UltralyticsPotholes\\potholes\\part5\\ij7q85hq.jpg: 384x640 1 potholes, 18.0ms\n",
      "image 75/497 E:\\University\\PythonProject\\UltralyticsPotholes\\potholes\\part5\\ijex5wao.jpg: 256x640 8 potholess, 18.0ms\n",
      "image 76/497 E:\\University\\PythonProject\\UltralyticsPotholes\\potholes\\part5\\ijiqb6li.jpg: 448x640 1 potholes, 20.9ms\n",
      "image 77/497 E:\\University\\PythonProject\\UltralyticsPotholes\\potholes\\part5\\ijppo0vy.jpg: 480x640 2 potholess, 22.9ms\n",
      "image 78/497 E:\\University\\PythonProject\\UltralyticsPotholes\\potholes\\part5\\ijzfz5lg.jpg: 640x640 1 potholes, 24.9ms\n",
      "image 79/497 E:\\University\\PythonProject\\UltralyticsPotholes\\potholes\\part5\\ik54ph1g.jpg: 480x640 4 potholess, 21.9ms\n",
      "image 80/497 E:\\University\\PythonProject\\UltralyticsPotholes\\potholes\\part5\\ik68uaf3.jpg: 480x640 4 potholess, 21.9ms\n",
      "image 81/497 E:\\University\\PythonProject\\UltralyticsPotholes\\potholes\\part5\\iklyd8um.jpg: 224x640 3 potholess, 13.0ms\n",
      "image 82/497 E:\\University\\PythonProject\\UltralyticsPotholes\\potholes\\part5\\ikt4c3hq.jpg: 640x384 1 potholes, 17.0ms\n",
      "image 83/497 E:\\University\\PythonProject\\UltralyticsPotholes\\potholes\\part5\\ikwiit0j.jpg: 640x512 5 potholess, 21.9ms\n",
      "image 84/497 E:\\University\\PythonProject\\UltralyticsPotholes\\potholes\\part5\\ikygygom.jpg: 448x640 1 potholes, 22.9ms\n",
      "image 85/497 E:\\University\\PythonProject\\UltralyticsPotholes\\potholes\\part5\\inhvcfwk.jpg: 640x640 1 potholes, 25.9ms\n",
      "image 86/497 E:\\University\\PythonProject\\UltralyticsPotholes\\potholes\\part5\\inqks6mi.jpg: 608x640 2 potholess, 117.7ms\n",
      "image 87/497 E:\\University\\PythonProject\\UltralyticsPotholes\\potholes\\part5\\io9mqci6.jpg: 416x640 3 potholess, 19.9ms\n",
      "image 88/497 E:\\University\\PythonProject\\UltralyticsPotholes\\potholes\\part5\\iodq9p47.jpg: 480x640 1 potholes, 22.9ms\n",
      "image 89/497 E:\\University\\PythonProject\\UltralyticsPotholes\\potholes\\part5\\iohg7d94.jpg: 384x640 3 potholess, 17.0ms\n",
      "image 90/497 E:\\University\\PythonProject\\UltralyticsPotholes\\potholes\\part5\\ipguekab.jpg: 448x640 1 potholes, 21.9ms\n",
      "image 91/497 E:\\University\\PythonProject\\UltralyticsPotholes\\potholes\\part5\\ipv60hh0.jpg: 448x640 (no detections), 20.9ms\n",
      "image 92/497 E:\\University\\PythonProject\\UltralyticsPotholes\\potholes\\part5\\iq0fq79h.jpg: 480x640 9 potholess, 22.9ms\n",
      "image 93/497 E:\\University\\PythonProject\\UltralyticsPotholes\\potholes\\part5\\iqno3562.jpg: 448x640 6 potholess, 21.9ms\n",
      "image 94/497 E:\\University\\PythonProject\\UltralyticsPotholes\\potholes\\part5\\ir3x33kw.jpg: 480x640 3 potholess, 23.9ms\n",
      "image 95/497 E:\\University\\PythonProject\\UltralyticsPotholes\\potholes\\part5\\irilin4l.jpg: 640x512 1 potholes, 22.9ms\n",
      "image 96/497 E:\\University\\PythonProject\\UltralyticsPotholes\\potholes\\part5\\irjd83wa.jpg: 384x640 1 potholes, 17.0ms\n",
      "image 97/497 E:\\University\\PythonProject\\UltralyticsPotholes\\potholes\\part5\\irkj9otj.jpg: 640x640 (no detections), 24.9ms\n",
      "image 98/497 E:\\University\\PythonProject\\UltralyticsPotholes\\potholes\\part5\\irsni775.jpg: 448x640 3 potholess, 22.9ms\n",
      "image 99/497 E:\\University\\PythonProject\\UltralyticsPotholes\\potholes\\part5\\is11c0tx.jpg: 352x640 4 potholess, 18.0ms\n",
      "image 100/497 E:\\University\\PythonProject\\UltralyticsPotholes\\potholes\\part5\\ishydddx.jpg: 448x640 2 potholess, 20.9ms\n",
      "image 101/497 E:\\University\\PythonProject\\UltralyticsPotholes\\potholes\\part5\\isl9hi19.jpg: 640x480 2 potholess, 21.9ms\n",
      "image 102/497 E:\\University\\PythonProject\\UltralyticsPotholes\\potholes\\part5\\it4m00s4.jpg: 640x640 1 potholes, 23.9ms\n",
      "image 103/497 E:\\University\\PythonProject\\UltralyticsPotholes\\potholes\\part5\\it5zzjfi.jpg: 640x480 2 potholess, 24.9ms\n",
      "image 104/497 E:\\University\\PythonProject\\UltralyticsPotholes\\potholes\\part5\\itjhypba.jpg: 384x640 1 potholes, 17.0ms\n",
      "image 105/497 E:\\University\\PythonProject\\UltralyticsPotholes\\potholes\\part5\\itqsn3gi.jpg: 640x640 (no detections), 24.9ms\n",
      "image 106/497 E:\\University\\PythonProject\\UltralyticsPotholes\\potholes\\part5\\itty8ga0.jpg: 640x640 2 potholess, 23.9ms\n",
      "image 107/497 E:\\University\\PythonProject\\UltralyticsPotholes\\potholes\\part5\\iu544m2z.jpg: 480x640 (no detections), 21.9ms\n",
      "image 108/497 E:\\University\\PythonProject\\UltralyticsPotholes\\potholes\\part5\\iuaa7iao.jpg: 640x640 2 potholess, 23.9ms\n",
      "image 109/497 E:\\University\\PythonProject\\UltralyticsPotholes\\potholes\\part5\\iuli02yt.jpg: 640x640 2 potholess, 22.9ms\n",
      "image 110/497 E:\\University\\PythonProject\\UltralyticsPotholes\\potholes\\part5\\iuu9h1di.jpg: 640x640 (no detections), 23.9ms\n",
      "image 111/497 E:\\University\\PythonProject\\UltralyticsPotholes\\potholes\\part5\\iuy8x4tm.jpg: 640x640 (no detections), 21.9ms\n",
      "image 112/497 E:\\University\\PythonProject\\UltralyticsPotholes\\potholes\\part5\\iv6g8xov.jpg: 480x640 2 potholess, 20.9ms\n",
      "image 113/497 E:\\University\\PythonProject\\UltralyticsPotholes\\potholes\\part5\\ivlb6ffc.jpg: 480x640 1 potholes, 19.9ms\n",
      "image 114/497 E:\\University\\PythonProject\\UltralyticsPotholes\\potholes\\part5\\ivt3aj7h.jpg: 384x640 2 potholess, 17.0ms\n",
      "image 115/497 E:\\University\\PythonProject\\UltralyticsPotholes\\potholes\\part5\\iwg7tuqj.jpg: 320x640 (no detections), 17.0ms\n",
      "image 116/497 E:\\University\\PythonProject\\UltralyticsPotholes\\potholes\\part5\\iwglg2l0.jpg: 640x640 2 potholess, 23.9ms\n",
      "image 117/497 E:\\University\\PythonProject\\UltralyticsPotholes\\potholes\\part5\\iwkzt1bk.jpg: 448x640 2 potholess, 20.9ms\n",
      "image 118/497 E:\\University\\PythonProject\\UltralyticsPotholes\\potholes\\part5\\ixtmq1sz.jpg: 640x640 (no detections), 25.9ms\n",
      "image 119/497 E:\\University\\PythonProject\\UltralyticsPotholes\\potholes\\part5\\ixzb5t11.jpg: 448x640 3 potholess, 19.9ms\n",
      "image 120/497 E:\\University\\PythonProject\\UltralyticsPotholes\\potholes\\part5\\iyjr2gcn.jpg: 384x640 (no detections), 17.0ms\n",
      "image 121/497 E:\\University\\PythonProject\\UltralyticsPotholes\\potholes\\part5\\iz2ycg28.jpg: 480x640 2 potholess, 20.9ms\n",
      "image 122/497 E:\\University\\PythonProject\\UltralyticsPotholes\\potholes\\part5\\izrxl2k4.jpg: 480x640 3 potholess, 20.9ms\n",
      "image 123/497 E:\\University\\PythonProject\\UltralyticsPotholes\\potholes\\part5\\izursy7i.jpg: 640x480 3 potholess, 18.9ms\n",
      "image 124/497 E:\\University\\PythonProject\\UltralyticsPotholes\\potholes\\part5\\izvvxui1.jpg: 480x640 1 potholes, 21.9ms\n",
      "image 125/497 E:\\University\\PythonProject\\UltralyticsPotholes\\potholes\\part5\\j034xz0g.jpg: 416x640 2 potholess, 19.9ms\n",
      "image 126/497 E:\\University\\PythonProject\\UltralyticsPotholes\\potholes\\part5\\j0cn5aih.jpg: 448x640 (no detections), 20.9ms\n",
      "image 127/497 E:\\University\\PythonProject\\UltralyticsPotholes\\potholes\\part5\\j0qk9y5s.jpg: 384x640 1 potholes, 18.0ms\n",
      "image 128/497 E:\\University\\PythonProject\\UltralyticsPotholes\\potholes\\part5\\j0w7p40m.jpg: 480x640 1 potholes, 22.9ms\n",
      "image 129/497 E:\\University\\PythonProject\\UltralyticsPotholes\\potholes\\part5\\j1814cml.jpg: 320x640 4 potholess, 16.0ms\n",
      "image 130/497 E:\\University\\PythonProject\\UltralyticsPotholes\\potholes\\part5\\j1ui7f3o.jpg: 448x640 1 potholes, 21.9ms\n",
      "image 131/497 E:\\University\\PythonProject\\UltralyticsPotholes\\potholes\\part5\\j23ta47s.jpg: 448x640 5 potholess, 20.9ms\n",
      "image 132/497 E:\\University\\PythonProject\\UltralyticsPotholes\\potholes\\part5\\j25ew29f.jpg: 384x640 7 potholess, 17.0ms\n",
      "image 133/497 E:\\University\\PythonProject\\UltralyticsPotholes\\potholes\\part5\\j2f3mt0y.jpg: 384x640 (no detections), 16.0ms\n",
      "image 134/497 E:\\University\\PythonProject\\UltralyticsPotholes\\potholes\\part5\\j2h49lrm.jpg: 480x640 3 potholess, 20.9ms\n",
      "image 135/497 E:\\University\\PythonProject\\UltralyticsPotholes\\potholes\\part5\\j2lcme94.jpg: 384x640 1 potholes, 17.0ms\n",
      "image 136/497 E:\\University\\PythonProject\\UltralyticsPotholes\\potholes\\part5\\j33kkv33.jpg: 640x640 1 potholes, 24.9ms\n",
      "image 137/497 E:\\University\\PythonProject\\UltralyticsPotholes\\potholes\\part5\\j3e2sa5m.jpg: 640x480 4 potholess, 20.9ms\n",
      "image 138/497 E:\\University\\PythonProject\\UltralyticsPotholes\\potholes\\part5\\j3o0o61z.jpg: 448x640 (no detections), 20.9ms\n",
      "image 139/497 E:\\University\\PythonProject\\UltralyticsPotholes\\potholes\\part5\\j3sx81ab.jpg: 640x480 7 potholess, 25.9ms\n",
      "image 140/497 E:\\University\\PythonProject\\UltralyticsPotholes\\potholes\\part5\\j3w0rczu.jpg: 416x640 (no detections), 21.9ms\n",
      "image 141/497 E:\\University\\PythonProject\\UltralyticsPotholes\\potholes\\part5\\j3wugihn.jpg: 448x640 2 potholess, 21.9ms\n",
      "image 142/497 E:\\University\\PythonProject\\UltralyticsPotholes\\potholes\\part5\\j3ytmzyn.jpg: 640x640 (no detections), 24.9ms\n",
      "image 143/497 E:\\University\\PythonProject\\UltralyticsPotholes\\potholes\\part5\\j416fct0.jpg: 352x640 3 potholess, 17.0ms\n",
      "image 144/497 E:\\University\\PythonProject\\UltralyticsPotholes\\potholes\\part5\\j4wmjwj4.jpg: 384x640 2 potholess, 17.0ms\n",
      "image 145/497 E:\\University\\PythonProject\\UltralyticsPotholes\\potholes\\part5\\j5ddhnyn.jpg: 384x640 (no detections), 17.0ms\n",
      "image 146/497 E:\\University\\PythonProject\\UltralyticsPotholes\\potholes\\part5\\j5n8lw1k.jpg: 640x640 (no detections), 23.9ms\n",
      "image 147/497 E:\\University\\PythonProject\\UltralyticsPotholes\\potholes\\part5\\j5oxre93.jpg: 448x640 2 potholess, 21.9ms\n",
      "image 148/497 E:\\University\\PythonProject\\UltralyticsPotholes\\potholes\\part5\\j5qug3v4.jpg: 448x640 2 potholess, 19.9ms\n",
      "image 149/497 E:\\University\\PythonProject\\UltralyticsPotholes\\potholes\\part5\\j6hn9pj3.jpg: 448x640 2 potholess, 20.9ms\n",
      "image 150/497 E:\\University\\PythonProject\\UltralyticsPotholes\\potholes\\part5\\j6li2wq2.jpg: 384x640 2 potholess, 18.0ms\n",
      "image 151/497 E:\\University\\PythonProject\\UltralyticsPotholes\\potholes\\part5\\j6lqipgr.jpg: 448x640 1 potholes, 21.9ms\n",
      "image 152/497 E:\\University\\PythonProject\\UltralyticsPotholes\\potholes\\part5\\j6oepjci.jpg: 448x640 1 potholes, 20.9ms\n",
      "image 153/497 E:\\University\\PythonProject\\UltralyticsPotholes\\potholes\\part5\\j7fed38v.jpg: 384x640 1 potholes, 24.9ms\n",
      "image 154/497 E:\\University\\PythonProject\\UltralyticsPotholes\\potholes\\part5\\j7u2tujv.jpg: 416x640 2 potholess, 20.9ms\n",
      "image 155/497 E:\\University\\PythonProject\\UltralyticsPotholes\\potholes\\part5\\j82y3cai.jpg: 480x640 2 potholess, 21.9ms\n",
      "image 156/497 E:\\University\\PythonProject\\UltralyticsPotholes\\potholes\\part5\\j8aut7xj.jpg: 384x640 5 potholess, 18.0ms\n",
      "image 157/497 E:\\University\\PythonProject\\UltralyticsPotholes\\potholes\\part5\\j8l24tji.jpg: 640x640 (no detections), 24.9ms\n",
      "image 158/497 E:\\University\\PythonProject\\UltralyticsPotholes\\potholes\\part5\\j8lqv4z7.jpg: 640x480 7 potholess, 18.9ms\n",
      "image 159/497 E:\\University\\PythonProject\\UltralyticsPotholes\\potholes\\part5\\j8sljcfw.jpg: 416x640 1 potholes, 21.9ms\n",
      "image 160/497 E:\\University\\PythonProject\\UltralyticsPotholes\\potholes\\part5\\j9dl7s8p.jpg: 576x640 7 potholess, 116.7ms\n",
      "image 161/497 E:\\University\\PythonProject\\UltralyticsPotholes\\potholes\\part5\\j9mfr9nr.jpg: 448x640 (no detections), 20.9ms\n",
      "image 162/497 E:\\University\\PythonProject\\UltralyticsPotholes\\potholes\\part5\\jap1p7ne.jpg: 384x640 1 potholes, 17.0ms\n",
      "image 163/497 E:\\University\\PythonProject\\UltralyticsPotholes\\potholes\\part5\\jb0h3ili.jpg: 480x640 2 potholess, 21.9ms\n",
      "image 164/497 E:\\University\\PythonProject\\UltralyticsPotholes\\potholes\\part5\\jba3dytk.jpg: 448x640 1 potholes, 22.9ms\n",
      "image 165/497 E:\\University\\PythonProject\\UltralyticsPotholes\\potholes\\part5\\jcglpxwm.jpg: 448x640 18 potholess, 20.9ms\n",
      "image 166/497 E:\\University\\PythonProject\\UltralyticsPotholes\\potholes\\part5\\jchlfye0.jpg: 512x640 1 potholes, 20.9ms\n",
      "image 167/497 E:\\University\\PythonProject\\UltralyticsPotholes\\potholes\\part5\\jcptob81.jpg: 416x640 (no detections), 20.9ms\n",
      "image 168/497 E:\\University\\PythonProject\\UltralyticsPotholes\\potholes\\part5\\jdbnxrvc.jpg: 384x640 1 potholes, 17.0ms\n",
      "image 169/497 E:\\University\\PythonProject\\UltralyticsPotholes\\potholes\\part5\\jdivhiqj.jpg: 480x640 2 potholess, 22.9ms\n",
      "image 170/497 E:\\University\\PythonProject\\UltralyticsPotholes\\potholes\\part5\\jecw17k4.jpg: 640x640 2 potholess, 23.9ms\n",
      "image 171/497 E:\\University\\PythonProject\\UltralyticsPotholes\\potholes\\part5\\jexd3kqh.jpg: 640x640 3 potholess, 22.9ms\n",
      "image 172/497 E:\\University\\PythonProject\\UltralyticsPotholes\\potholes\\part5\\jexoxg2d.jpg: 416x640 3 potholess, 20.9ms\n",
      "image 173/497 E:\\University\\PythonProject\\UltralyticsPotholes\\potholes\\part5\\jgbutshr.jpg: 640x480 3 potholess, 19.9ms\n",
      "image 174/497 E:\\University\\PythonProject\\UltralyticsPotholes\\potholes\\part5\\jgtwq6fg.jpg: 288x640 2 potholess, 15.0ms\n",
      "image 175/497 E:\\University\\PythonProject\\UltralyticsPotholes\\potholes\\part5\\jhwc5a2k.jpg: 416x640 2 potholess, 20.9ms\n",
      "image 176/497 E:\\University\\PythonProject\\UltralyticsPotholes\\potholes\\part5\\jhwo9fwh.jpg: 352x640 4 potholess, 16.0ms\n",
      "image 177/497 E:\\University\\PythonProject\\UltralyticsPotholes\\potholes\\part5\\jitajw8t.jpg: 480x640 (no detections), 20.9ms\n",
      "image 178/497 E:\\University\\PythonProject\\UltralyticsPotholes\\potholes\\part5\\jizgfew5.jpg: 384x640 (no detections), 16.0ms\n",
      "image 179/497 E:\\University\\PythonProject\\UltralyticsPotholes\\potholes\\part5\\jj1uykqq.jpg: 384x640 1 potholes, 18.0ms\n",
      "image 180/497 E:\\University\\PythonProject\\UltralyticsPotholes\\potholes\\part5\\jj8d15ni.jpg: 352x640 2 potholess, 17.0ms\n",
      "image 181/497 E:\\University\\PythonProject\\UltralyticsPotholes\\potholes\\part5\\jjmc3u4x.jpg: 640x640 1 potholes, 26.9ms\n",
      "image 182/497 E:\\University\\PythonProject\\UltralyticsPotholes\\potholes\\part5\\jkumt4ce.jpg: 448x640 3 potholess, 21.9ms\n",
      "image 183/497 E:\\University\\PythonProject\\UltralyticsPotholes\\potholes\\part5\\jkvgas1g.jpg: 448x640 1 potholes, 20.9ms\n",
      "image 184/497 E:\\University\\PythonProject\\UltralyticsPotholes\\potholes\\part5\\jl2oa4cy.jpg: 416x640 2 potholess, 29.9ms\n",
      "image 185/497 E:\\University\\PythonProject\\UltralyticsPotholes\\potholes\\part5\\jldpmjkl.jpg: 384x640 (no detections), 23.9ms\n",
      "image 186/497 E:\\University\\PythonProject\\UltralyticsPotholes\\potholes\\part5\\jlf1fxnd.jpg: 640x512 9 potholess, 28.9ms\n",
      "image 187/497 E:\\University\\PythonProject\\UltralyticsPotholes\\potholes\\part5\\jlpyuvf8.jpg: 448x640 3 potholess, 29.9ms\n",
      "image 188/497 E:\\University\\PythonProject\\UltralyticsPotholes\\potholes\\part5\\jlsugn0v.jpg: 640x480 4 potholess, 26.9ms\n",
      "image 189/497 E:\\University\\PythonProject\\UltralyticsPotholes\\potholes\\part5\\jlysvnuw.jpg: 544x640 1 potholes, 28.9ms\n",
      "image 190/497 E:\\University\\PythonProject\\UltralyticsPotholes\\potholes\\part5\\jmj7n34x.jpg: 384x640 (no detections), 23.9ms\n",
      "image 191/497 E:\\University\\PythonProject\\UltralyticsPotholes\\potholes\\part5\\jmlwft74.jpg: 640x640 (no detections), 32.9ms\n",
      "image 192/497 E:\\University\\PythonProject\\UltralyticsPotholes\\potholes\\part5\\jn7c5gni.jpg: 480x640 (no detections), 29.9ms\n",
      "image 193/497 E:\\University\\PythonProject\\UltralyticsPotholes\\potholes\\part5\\jni9xe3u.jpg: 640x352 4 potholess, 92.8ms\n",
      "image 194/497 E:\\University\\PythonProject\\UltralyticsPotholes\\potholes\\part5\\jnip9mhk.jpg: 480x640 (no detections), 25.9ms\n",
      "image 195/497 E:\\University\\PythonProject\\UltralyticsPotholes\\potholes\\part5\\jnmaf06t.jpg: 448x640 (no detections), 23.9ms\n",
      "image 196/497 E:\\University\\PythonProject\\UltralyticsPotholes\\potholes\\part5\\jnsk3nvc.jpg: 640x480 1 potholes, 25.9ms\n",
      "image 197/497 E:\\University\\PythonProject\\UltralyticsPotholes\\potholes\\part5\\jnzc4xaz.jpg: 640x640 (no detections), 31.9ms\n",
      "image 198/497 E:\\University\\PythonProject\\UltralyticsPotholes\\potholes\\part5\\jo2qxhgk.jpg: 416x640 2 potholess, 25.9ms\n",
      "image 199/497 E:\\University\\PythonProject\\UltralyticsPotholes\\potholes\\part5\\jon4pcl2.jpg: 640x640 1 potholes, 28.9ms\n",
      "image 200/497 E:\\University\\PythonProject\\UltralyticsPotholes\\potholes\\part5\\jp27c7ec.jpg: 640x640 (no detections), 25.9ms\n",
      "image 201/497 E:\\University\\PythonProject\\UltralyticsPotholes\\potholes\\part5\\jqbebhiw.jpg: 384x640 (no detections), 18.0ms\n",
      "image 202/497 E:\\University\\PythonProject\\UltralyticsPotholes\\potholes\\part5\\jr2nvjk9.jpg: 608x640 3 potholess, 23.9ms\n",
      "image 203/497 E:\\University\\PythonProject\\UltralyticsPotholes\\potholes\\part5\\jsh8aw1v.jpg: 320x640 1 potholes, 16.0ms\n",
      "image 204/497 E:\\University\\PythonProject\\UltralyticsPotholes\\potholes\\part5\\jsvr4cax.jpg: 256x640 1 potholes, 14.0ms\n",
      "image 205/497 E:\\University\\PythonProject\\UltralyticsPotholes\\potholes\\part5\\jtacxm2c.jpg: 448x640 2 potholess, 20.9ms\n",
      "image 206/497 E:\\University\\PythonProject\\UltralyticsPotholes\\potholes\\part5\\jtr2rvd8.jpg: 512x640 1 potholes, 21.9ms\n",
      "image 207/497 E:\\University\\PythonProject\\UltralyticsPotholes\\potholes\\part5\\jtwo5xws.jpg: 640x512 (no detections), 21.9ms\n",
      "image 208/497 E:\\University\\PythonProject\\UltralyticsPotholes\\potholes\\part5\\ju1zm41b.jpg: 640x544 1 potholes, 24.9ms\n",
      "image 209/497 E:\\University\\PythonProject\\UltralyticsPotholes\\potholes\\part5\\juqllkhk.jpg: 480x640 1 potholes, 22.9ms\n",
      "image 210/497 E:\\University\\PythonProject\\UltralyticsPotholes\\potholes\\part5\\jvuruf6c.jpg: 512x640 5 potholess, 19.9ms\n",
      "image 211/497 E:\\University\\PythonProject\\UltralyticsPotholes\\potholes\\part5\\jvwdsn4o.jpg: 384x640 (no detections), 17.0ms\n",
      "image 212/497 E:\\University\\PythonProject\\UltralyticsPotholes\\potholes\\part5\\jw4nnek7.jpg: 512x640 3 potholess, 20.9ms\n",
      "image 213/497 E:\\University\\PythonProject\\UltralyticsPotholes\\potholes\\part5\\jwq5p3fm.jpg: 480x640 1 potholes, 20.9ms\n",
      "image 214/497 E:\\University\\PythonProject\\UltralyticsPotholes\\potholes\\part5\\jwy1o91w.jpg: 320x640 1 potholes, 15.0ms\n",
      "image 215/497 E:\\University\\PythonProject\\UltralyticsPotholes\\potholes\\part5\\jxkybpe1.jpg: 480x640 (no detections), 22.9ms\n",
      "image 216/497 E:\\University\\PythonProject\\UltralyticsPotholes\\potholes\\part5\\jxrz2z6u.jpg: 480x640 (no detections), 21.9ms\n",
      "image 217/497 E:\\University\\PythonProject\\UltralyticsPotholes\\potholes\\part5\\jy3q25o5.jpg: 448x640 2 potholess, 21.9ms\n",
      "image 218/497 E:\\University\\PythonProject\\UltralyticsPotholes\\potholes\\part5\\jy68zsgs.jpg: 416x640 1 potholes, 20.9ms\n",
      "image 219/497 E:\\University\\PythonProject\\UltralyticsPotholes\\potholes\\part5\\jyhpruif.jpg: 448x640 14 potholess, 20.9ms\n",
      "image 220/497 E:\\University\\PythonProject\\UltralyticsPotholes\\potholes\\part5\\jyjv9av4.jpg: 448x640 4 potholess, 21.9ms\n",
      "image 221/497 E:\\University\\PythonProject\\UltralyticsPotholes\\potholes\\part5\\jyliy1sy.jpg: 480x640 2 potholess, 23.9ms\n",
      "image 222/497 E:\\University\\PythonProject\\UltralyticsPotholes\\potholes\\part5\\jyp8oh21.jpg: 448x640 2 potholess, 21.9ms\n",
      "image 223/497 E:\\University\\PythonProject\\UltralyticsPotholes\\potholes\\part5\\jz2je8n9.jpg: 640x480 1 potholes, 19.9ms\n",
      "image 224/497 E:\\University\\PythonProject\\UltralyticsPotholes\\potholes\\part5\\jz4g99li.jpg: 448x640 8 potholess, 20.9ms\n",
      "image 225/497 E:\\University\\PythonProject\\UltralyticsPotholes\\potholes\\part5\\jzgjrwf7.jpg: 320x640 4 potholess, 16.0ms\n",
      "image 226/497 E:\\University\\PythonProject\\UltralyticsPotholes\\potholes\\part5\\jzucjby1.jpg: 480x640 5 potholess, 27.9ms\n",
      "image 227/497 E:\\University\\PythonProject\\UltralyticsPotholes\\potholes\\part5\\jzx0b8xj.jpg: 480x640 1 potholes, 24.9ms\n",
      "image 228/497 E:\\University\\PythonProject\\UltralyticsPotholes\\potholes\\part5\\k0ejxpfd.jpg: 480x640 (no detections), 28.9ms\n",
      "image 229/497 E:\\University\\PythonProject\\UltralyticsPotholes\\potholes\\part5\\k0ny0m92.jpg: 480x640 1 potholes, 28.9ms\n",
      "image 230/497 E:\\University\\PythonProject\\UltralyticsPotholes\\potholes\\part5\\k1wotwuf.jpg: 384x640 1 potholes, 21.9ms\n",
      "image 231/497 E:\\University\\PythonProject\\UltralyticsPotholes\\potholes\\part5\\k279km3l.jpg: 448x640 (no detections), 27.9ms\n",
      "image 232/497 E:\\University\\PythonProject\\UltralyticsPotholes\\potholes\\part5\\k2dra7wc.jpg: 448x640 2 potholess, 25.9ms\n",
      "image 233/497 E:\\University\\PythonProject\\UltralyticsPotholes\\potholes\\part5\\k2umly51.jpg: 448x640 2 potholess, 26.9ms\n",
      "image 234/497 E:\\University\\PythonProject\\UltralyticsPotholes\\potholes\\part5\\k3cu39c3.jpg: 640x576 1 potholes, 29.9ms\n",
      "image 235/497 E:\\University\\PythonProject\\UltralyticsPotholes\\potholes\\part5\\k3ofts1l.jpg: 448x640 1 potholes, 28.9ms\n",
      "image 236/497 E:\\University\\PythonProject\\UltralyticsPotholes\\potholes\\part5\\k3qu4bgd.jpg: 416x640 2 potholess, 26.9ms\n",
      "image 237/497 E:\\University\\PythonProject\\UltralyticsPotholes\\potholes\\part5\\k3romsmd.jpg: 352x640 1 potholes, 20.9ms\n",
      "image 238/497 E:\\University\\PythonProject\\UltralyticsPotholes\\potholes\\part5\\k3u7zgru.jpg: 640x640 (no detections), 32.9ms\n",
      "image 239/497 E:\\University\\PythonProject\\UltralyticsPotholes\\potholes\\part5\\k4zymx5s.jpg: 384x640 1 potholes, 21.9ms\n",
      "image 240/497 E:\\University\\PythonProject\\UltralyticsPotholes\\potholes\\part5\\k5r1utvt.jpg: 480x640 1 potholes, 29.9ms\n",
      "image 241/497 E:\\University\\PythonProject\\UltralyticsPotholes\\potholes\\part5\\k6g0n5m8.jpg: 640x480 3 potholess, 26.9ms\n",
      "image 242/497 E:\\University\\PythonProject\\UltralyticsPotholes\\potholes\\part5\\k6kjgyb9.jpg: 640x480 (no detections), 24.9ms\n",
      "image 243/497 E:\\University\\PythonProject\\UltralyticsPotholes\\potholes\\part5\\k6xfa2ho.jpg: 640x480 1 potholes, 31.9ms\n",
      "image 244/497 E:\\University\\PythonProject\\UltralyticsPotholes\\potholes\\part5\\k76w7wr1.jpg: 480x640 1 potholes, 38.9ms\n",
      "image 245/497 E:\\University\\PythonProject\\UltralyticsPotholes\\potholes\\part5\\k7n1jt2w.jpg: 448x640 5 potholess, 39.9ms\n",
      "image 246/497 E:\\University\\PythonProject\\UltralyticsPotholes\\potholes\\part5\\k7w96n7e.jpg: 448x640 6 potholess, 37.9ms\n",
      "image 247/497 E:\\University\\PythonProject\\UltralyticsPotholes\\potholes\\part5\\k8hx6v0n.jpg: 640x640 1 potholes, 39.9ms\n",
      "image 248/497 E:\\University\\PythonProject\\UltralyticsPotholes\\potholes\\part5\\k8u64lot.jpg: 640x480 2 potholess, 24.9ms\n",
      "image 249/497 E:\\University\\PythonProject\\UltralyticsPotholes\\potholes\\part5\\k9c0w7mo.jpg: 480x640 26 potholess, 25.9ms\n",
      "image 250/497 E:\\University\\PythonProject\\UltralyticsPotholes\\potholes\\part5\\k9fn1b7a.jpg: 640x640 (no detections), 28.9ms\n",
      "image 251/497 E:\\University\\PythonProject\\UltralyticsPotholes\\potholes\\part5\\k9jysfrb.jpg: 448x640 1 potholes, 23.9ms\n",
      "image 252/497 E:\\University\\PythonProject\\UltralyticsPotholes\\potholes\\part5\\k9w333cr.jpg: 384x640 1 potholes, 18.9ms\n",
      "image 253/497 E:\\University\\PythonProject\\UltralyticsPotholes\\potholes\\part5\\k9xnrf58.jpg: 384x640 3 potholess, 18.9ms\n",
      "image 254/497 E:\\University\\PythonProject\\UltralyticsPotholes\\potholes\\part5\\ka5xyyz3.jpg: 640x640 (no detections), 26.9ms\n",
      "image 255/497 E:\\University\\PythonProject\\UltralyticsPotholes\\potholes\\part5\\kayep478.jpg: 448x640 1 potholes, 25.9ms\n",
      "image 256/497 E:\\University\\PythonProject\\UltralyticsPotholes\\potholes\\part5\\kbirbek7.jpg: 640x480 2 potholess, 22.9ms\n",
      "image 257/497 E:\\University\\PythonProject\\UltralyticsPotholes\\potholes\\part5\\kbirkckc.jpg: 544x640 4 potholess, 25.9ms\n",
      "image 258/497 E:\\University\\PythonProject\\UltralyticsPotholes\\potholes\\part5\\kbkduiux.jpg: 480x640 2 potholess, 25.9ms\n",
      "image 259/497 E:\\University\\PythonProject\\UltralyticsPotholes\\potholes\\part5\\kbkgtb3q.jpg: 480x640 1 potholes, 24.9ms\n",
      "image 260/497 E:\\University\\PythonProject\\UltralyticsPotholes\\potholes\\part5\\kblug4rf.jpg: 256x640 1 potholes, 17.9ms\n",
      "image 261/497 E:\\University\\PythonProject\\UltralyticsPotholes\\potholes\\part5\\kbolvuj3.jpg: 480x640 1 potholes, 25.9ms\n",
      "image 262/497 E:\\University\\PythonProject\\UltralyticsPotholes\\potholes\\part5\\kbspan5g.jpg: 416x640 4 potholess, 23.9ms\n",
      "image 263/497 E:\\University\\PythonProject\\UltralyticsPotholes\\potholes\\part5\\kbvjsqey.jpg: 448x640 1 potholes, 23.9ms\n",
      "image 264/497 E:\\University\\PythonProject\\UltralyticsPotholes\\potholes\\part5\\kbw9luw3.jpg: 384x640 1 potholes, 18.9ms\n",
      "image 265/497 E:\\University\\PythonProject\\UltralyticsPotholes\\potholes\\part5\\kc3r60ek.jpg: 448x640 2 potholess, 22.9ms\n",
      "image 266/497 E:\\University\\PythonProject\\UltralyticsPotholes\\potholes\\part5\\kcmivi64.jpg: 640x480 (no detections), 19.9ms\n",
      "image 267/497 E:\\University\\PythonProject\\UltralyticsPotholes\\potholes\\part5\\kcuth4v6.jpg: 384x640 (no detections), 17.0ms\n",
      "image 268/497 E:\\University\\PythonProject\\UltralyticsPotholes\\potholes\\part5\\kd7t2hmp.jpg: 352x640 1 potholes, 19.9ms\n",
      "image 269/497 E:\\University\\PythonProject\\UltralyticsPotholes\\potholes\\part5\\kdesrm5v.jpg: 352x640 3 potholess, 18.0ms\n",
      "image 270/497 E:\\University\\PythonProject\\UltralyticsPotholes\\potholes\\part5\\kdih0wt6.jpg: 448x640 2 potholess, 27.9ms\n",
      "image 271/497 E:\\University\\PythonProject\\UltralyticsPotholes\\potholes\\part5\\ke8p7xtq.jpg: 480x640 (no detections), 28.9ms\n",
      "image 272/497 E:\\University\\PythonProject\\UltralyticsPotholes\\potholes\\part5\\kebatdzn.jpg: 416x640 (no detections), 25.9ms\n",
      "image 273/497 E:\\University\\PythonProject\\UltralyticsPotholes\\potholes\\part5\\keh6yya4.jpg: 480x640 13 potholess, 27.9ms\n",
      "image 274/497 E:\\University\\PythonProject\\UltralyticsPotholes\\potholes\\part5\\kel77f1q.jpg: 448x640 1 potholes, 23.9ms\n",
      "image 275/497 E:\\University\\PythonProject\\UltralyticsPotholes\\potholes\\part5\\kesmy9lr.jpg: 448x640 (no detections), 24.9ms\n",
      "image 276/497 E:\\University\\PythonProject\\UltralyticsPotholes\\potholes\\part5\\kesu9kqw.jpg: 480x640 (no detections), 24.9ms\n",
      "image 277/497 E:\\University\\PythonProject\\UltralyticsPotholes\\potholes\\part5\\kf6k6lge.jpg: 416x640 2 potholess, 26.9ms\n",
      "image 278/497 E:\\University\\PythonProject\\UltralyticsPotholes\\potholes\\part5\\kfijrypp.jpg: 384x640 2 potholess, 19.9ms\n",
      "image 279/497 E:\\University\\PythonProject\\UltralyticsPotholes\\potholes\\part5\\kfx3m5c5.jpg: 640x640 2 potholess, 49.9ms\n",
      "image 280/497 E:\\University\\PythonProject\\UltralyticsPotholes\\potholes\\part5\\kg0vyj00.jpg: 416x640 1 potholes, 27.9ms\n",
      "image 281/497 E:\\University\\PythonProject\\UltralyticsPotholes\\potholes\\part5\\kg5vnlsu.jpg: 384x640 2 potholess, 20.9ms\n",
      "image 282/497 E:\\University\\PythonProject\\UltralyticsPotholes\\potholes\\part5\\kgaxmf48.jpg: 384x640 1 potholes, 18.9ms\n",
      "image 283/497 E:\\University\\PythonProject\\UltralyticsPotholes\\potholes\\part5\\kglkpl3z.jpg: 384x640 2 potholess, 20.9ms\n",
      "image 284/497 E:\\University\\PythonProject\\UltralyticsPotholes\\potholes\\part5\\kgsgexng.jpg: 480x640 (no detections), 26.9ms\n",
      "image 285/497 E:\\University\\PythonProject\\UltralyticsPotholes\\potholes\\part5\\khbjhghu.jpg: 480x640 3 potholess, 28.9ms\n",
      "image 286/497 E:\\University\\PythonProject\\UltralyticsPotholes\\potholes\\part5\\khc1llvh.jpg: 640x480 (no detections), 26.9ms\n",
      "image 287/497 E:\\University\\PythonProject\\UltralyticsPotholes\\potholes\\part5\\khmqkck1.jpg: 416x640 (no detections), 28.9ms\n",
      "image 288/497 E:\\University\\PythonProject\\UltralyticsPotholes\\potholes\\part5\\khpvc8p4.jpg: 448x640 2 potholess, 26.9ms\n",
      "image 289/497 E:\\University\\PythonProject\\UltralyticsPotholes\\potholes\\part5\\kic4hqnq.jpg: 448x640 1 potholes, 22.9ms\n",
      "image 290/497 E:\\University\\PythonProject\\UltralyticsPotholes\\potholes\\part5\\kiij5b85.jpg: 480x640 5 potholess, 29.9ms\n",
      "image 291/497 E:\\University\\PythonProject\\UltralyticsPotholes\\potholes\\part5\\kim2bhg2.jpg: 480x640 2 potholess, 26.9ms\n",
      "image 292/497 E:\\University\\PythonProject\\UltralyticsPotholes\\potholes\\part5\\kiqp1i6y.jpg: 480x640 1 potholes, 26.9ms\n",
      "image 293/497 E:\\University\\PythonProject\\UltralyticsPotholes\\potholes\\part5\\kiycobrv.jpg: 384x640 6 potholess, 20.9ms\n",
      "image 294/497 E:\\University\\PythonProject\\UltralyticsPotholes\\potholes\\part5\\kjjq2oy7.jpg: 448x640 2 potholess, 24.9ms\n",
      "image 295/497 E:\\University\\PythonProject\\UltralyticsPotholes\\potholes\\part5\\kjmot26j.jpg: 448x640 (no detections), 24.9ms\n",
      "image 296/497 E:\\University\\PythonProject\\UltralyticsPotholes\\potholes\\part5\\kjndnbjs.jpg: 640x640 (no detections), 29.9ms\n",
      "image 297/497 E:\\University\\PythonProject\\UltralyticsPotholes\\potholes\\part5\\klhk9oq9.jpg: 448x640 1 potholes, 28.9ms\n",
      "image 298/497 E:\\University\\PythonProject\\UltralyticsPotholes\\potholes\\part5\\kljvqezl.jpg: 384x640 4 potholess, 21.9ms\n",
      "image 299/497 E:\\University\\PythonProject\\UltralyticsPotholes\\potholes\\part5\\km3afamj.jpg: 640x640 (no detections), 28.9ms\n",
      "image 300/497 E:\\University\\PythonProject\\UltralyticsPotholes\\potholes\\part5\\kmbt9lnu.jpg: 480x640 2 potholess, 28.9ms\n",
      "image 301/497 E:\\University\\PythonProject\\UltralyticsPotholes\\potholes\\part5\\kmioqn06.jpg: 448x640 1 potholes, 24.9ms\n",
      "image 302/497 E:\\University\\PythonProject\\UltralyticsPotholes\\potholes\\part5\\kmy1sgz7.jpg: 448x640 1 potholes, 26.9ms\n",
      "image 303/497 E:\\University\\PythonProject\\UltralyticsPotholes\\potholes\\part5\\kncpdrga.jpg: 384x640 11 potholess, 19.9ms\n",
      "image 304/497 E:\\University\\PythonProject\\UltralyticsPotholes\\potholes\\part5\\knfkc6pj.jpg: 448x640 13 potholess, 27.9ms\n",
      "image 305/497 E:\\University\\PythonProject\\UltralyticsPotholes\\potholes\\part5\\knzgpxbi.jpg: 384x640 (no detections), 20.9ms\n",
      "image 306/497 E:\\University\\PythonProject\\UltralyticsPotholes\\potholes\\part5\\koatnnvq.jpg: 416x640 4 potholess, 24.9ms\n",
      "image 307/497 E:\\University\\PythonProject\\UltralyticsPotholes\\potholes\\part5\\kofmhv2e.jpg: 384x640 1 potholes, 19.9ms\n",
      "image 308/497 E:\\University\\PythonProject\\UltralyticsPotholes\\potholes\\part5\\kozsqmu1.jpg: 640x480 9 potholess, 24.9ms\n",
      "image 309/497 E:\\University\\PythonProject\\UltralyticsPotholes\\potholes\\part5\\kp7ilrz9.jpg: 512x640 9 potholess, 24.9ms\n",
      "image 310/497 E:\\University\\PythonProject\\UltralyticsPotholes\\potholes\\part5\\kqayz1kr.jpg: 480x640 2 potholess, 29.9ms\n",
      "image 311/497 E:\\University\\PythonProject\\UltralyticsPotholes\\potholes\\part5\\kqd90cl9.jpg: 448x640 1 potholes, 26.9ms\n",
      "image 312/497 E:\\University\\PythonProject\\UltralyticsPotholes\\potholes\\part5\\krbavo56.jpg: 448x640 1 potholes, 25.9ms\n",
      "image 313/497 E:\\University\\PythonProject\\UltralyticsPotholes\\potholes\\part5\\krvuzy5r.jpg: 448x640 2 potholess, 26.9ms\n",
      "image 314/497 E:\\University\\PythonProject\\UltralyticsPotholes\\potholes\\part5\\krza61vf.jpg: 480x640 4 potholess, 29.9ms\n",
      "image 315/497 E:\\University\\PythonProject\\UltralyticsPotholes\\potholes\\part5\\ks13utsj.jpg: 480x640 1 potholes, 27.9ms\n",
      "image 316/497 E:\\University\\PythonProject\\UltralyticsPotholes\\potholes\\part5\\ks2r9hvy.jpg: 384x640 2 potholess, 23.9ms\n",
      "image 317/497 E:\\University\\PythonProject\\UltralyticsPotholes\\potholes\\part5\\ksaddsne.jpg: 448x640 1 potholes, 27.9ms\n",
      "image 318/497 E:\\University\\PythonProject\\UltralyticsPotholes\\potholes\\part5\\ksh5bp7j.jpg: 448x640 2 potholess, 25.9ms\n",
      "image 319/497 E:\\University\\PythonProject\\UltralyticsPotholes\\potholes\\part5\\kshrr1j5.jpg: 448x640 1 potholes, 23.9ms\n",
      "image 320/497 E:\\University\\PythonProject\\UltralyticsPotholes\\potholes\\part5\\ksx20651.jpg: 640x512 4 potholess, 25.9ms\n",
      "image 321/497 E:\\University\\PythonProject\\UltralyticsPotholes\\potholes\\part5\\kszg11wa.jpg: 416x640 2 potholess, 25.9ms\n",
      "image 322/497 E:\\University\\PythonProject\\UltralyticsPotholes\\potholes\\part5\\kt420xkh.jpg: 448x640 5 potholess, 28.9ms\n",
      "image 323/497 E:\\University\\PythonProject\\UltralyticsPotholes\\potholes\\part5\\kt6vr0ji.jpg: 416x640 2 potholess, 26.9ms\n",
      "image 324/497 E:\\University\\PythonProject\\UltralyticsPotholes\\potholes\\part5\\ktjc2v5z.jpg: 416x640 (no detections), 23.9ms\n",
      "image 325/497 E:\\University\\PythonProject\\UltralyticsPotholes\\potholes\\part5\\ktk2uy9p.jpg: 384x640 4 potholess, 20.9ms\n",
      "image 326/497 E:\\University\\PythonProject\\UltralyticsPotholes\\potholes\\part5\\kuep77q3.jpg: 640x640 (no detections), 29.9ms\n",
      "image 327/497 E:\\University\\PythonProject\\UltralyticsPotholes\\potholes\\part5\\kvjuvgko.jpg: 384x640 2 potholess, 19.9ms\n",
      "image 328/497 E:\\University\\PythonProject\\UltralyticsPotholes\\potholes\\part5\\kvmeytmj.jpg: 384x640 1 potholes, 18.9ms\n",
      "image 329/497 E:\\University\\PythonProject\\UltralyticsPotholes\\potholes\\part5\\kvssu41a.jpg: 384x640 3 potholess, 18.9ms\n",
      "image 330/497 E:\\University\\PythonProject\\UltralyticsPotholes\\potholes\\part5\\kvtm027q.jpg: 640x640 1 potholes, 30.9ms\n",
      "image 331/497 E:\\University\\PythonProject\\UltralyticsPotholes\\potholes\\part5\\kvult60a.jpg: 384x640 (no detections), 22.9ms\n",
      "image 332/497 E:\\University\\PythonProject\\UltralyticsPotholes\\potholes\\part5\\kvzeizj4.jpg: 640x480 (no detections), 22.9ms\n",
      "image 333/497 E:\\University\\PythonProject\\UltralyticsPotholes\\potholes\\part5\\kw0cz1n0.jpg: 480x640 3 potholess, 24.9ms\n",
      "image 334/497 E:\\University\\PythonProject\\UltralyticsPotholes\\potholes\\part5\\kw33fl55.jpg: 352x640 (no detections), 22.9ms\n",
      "image 335/497 E:\\University\\PythonProject\\UltralyticsPotholes\\potholes\\part5\\kwb47fgw.jpg: 448x640 5 potholess, 29.9ms\n",
      "image 336/497 E:\\University\\PythonProject\\UltralyticsPotholes\\potholes\\part5\\kwb9yv0i.jpg: 384x640 11 potholess, 19.9ms\n",
      "image 337/497 E:\\University\\PythonProject\\UltralyticsPotholes\\potholes\\part5\\kwse60rk.jpg: 384x640 1 potholes, 18.9ms\n",
      "image 338/497 E:\\University\\PythonProject\\UltralyticsPotholes\\potholes\\part5\\kx9z7x14.jpg: 352x640 3 potholess, 20.9ms\n",
      "image 339/497 E:\\University\\PythonProject\\UltralyticsPotholes\\potholes\\part5\\kxaqlxxq.jpg: 640x640 1 potholes, 34.9ms\n",
      "image 340/497 E:\\University\\PythonProject\\UltralyticsPotholes\\potholes\\part5\\kybcrl7d.jpg: 352x640 2 potholess, 19.9ms\n",
      "image 341/497 E:\\University\\PythonProject\\UltralyticsPotholes\\potholes\\part5\\kyckhbdh.jpg: 448x640 3 potholess, 25.9ms\n",
      "image 342/497 E:\\University\\PythonProject\\UltralyticsPotholes\\potholes\\part5\\kyot0byx.jpg: 384x640 1 potholes, 19.9ms\n",
      "image 343/497 E:\\University\\PythonProject\\UltralyticsPotholes\\potholes\\part5\\kyq6lv2l.jpg: 416x640 1 potholes, 26.9ms\n",
      "image 344/497 E:\\University\\PythonProject\\UltralyticsPotholes\\potholes\\part5\\l00y27st.jpg: 448x640 (no detections), 28.9ms\n",
      "image 345/497 E:\\University\\PythonProject\\UltralyticsPotholes\\potholes\\part5\\l1y3h0zy.jpg: 480x640 2 potholess, 27.9ms\n",
      "image 346/497 E:\\University\\PythonProject\\UltralyticsPotholes\\potholes\\part5\\l2a436k0.jpg: 640x640 (no detections), 30.9ms\n",
      "image 347/497 E:\\University\\PythonProject\\UltralyticsPotholes\\potholes\\part5\\l2xhybu2.jpg: 640x640 3 potholess, 26.9ms\n",
      "image 348/497 E:\\University\\PythonProject\\UltralyticsPotholes\\potholes\\part5\\l3t9bh32.jpg: 416x640 2 potholess, 27.9ms\n",
      "image 349/497 E:\\University\\PythonProject\\UltralyticsPotholes\\potholes\\part5\\l3uy9tf4.jpg: 640x640 (no detections), 30.9ms\n",
      "image 350/497 E:\\University\\PythonProject\\UltralyticsPotholes\\potholes\\part5\\l4384oas.jpg: 544x640 1 potholes, 30.9ms\n",
      "image 351/497 E:\\University\\PythonProject\\UltralyticsPotholes\\potholes\\part5\\l46lpzww.jpg: 448x640 3 potholess, 26.9ms\n",
      "image 352/497 E:\\University\\PythonProject\\UltralyticsPotholes\\potholes\\part5\\l4bkz173.jpg: 480x640 2 potholess, 29.9ms\n",
      "image 353/497 E:\\University\\PythonProject\\UltralyticsPotholes\\potholes\\part5\\l4xpjafv.jpg: 640x480 2 potholess, 23.9ms\n",
      "image 354/497 E:\\University\\PythonProject\\UltralyticsPotholes\\potholes\\part5\\l51y8ykj.jpg: 544x640 1 potholes, 26.9ms\n",
      "image 355/497 E:\\University\\PythonProject\\UltralyticsPotholes\\potholes\\part5\\l57mbjx5.jpg: 448x640 2 potholess, 24.9ms\n",
      "image 356/497 E:\\University\\PythonProject\\UltralyticsPotholes\\potholes\\part5\\l597it8i.jpg: 448x640 2 potholess, 22.9ms\n",
      "image 357/497 E:\\University\\PythonProject\\UltralyticsPotholes\\potholes\\part5\\l5c8n6sq.jpg: 416x640 3 potholess, 25.9ms\n",
      "image 358/497 E:\\University\\PythonProject\\UltralyticsPotholes\\potholes\\part5\\l5kmeov5.jpg: 416x640 13 potholess, 23.9ms\n",
      "image 359/497 E:\\University\\PythonProject\\UltralyticsPotholes\\potholes\\part5\\l5nddj0g.jpg: 640x640 2 potholess, 30.9ms\n",
      "image 360/497 E:\\University\\PythonProject\\UltralyticsPotholes\\potholes\\part5\\l5ost6c2.jpg: 640x640 5 potholess, 30.9ms\n",
      "image 361/497 E:\\University\\PythonProject\\UltralyticsPotholes\\potholes\\part5\\l5v7t08g.jpg: 448x640 4 potholess, 25.9ms\n",
      "image 362/497 E:\\University\\PythonProject\\UltralyticsPotholes\\potholes\\part5\\l5yx2iro.jpg: 640x480 2 potholess, 22.9ms\n",
      "image 363/497 E:\\University\\PythonProject\\UltralyticsPotholes\\potholes\\part5\\l6oty60n.jpg: 448x640 2 potholess, 24.9ms\n",
      "image 364/497 E:\\University\\PythonProject\\UltralyticsPotholes\\potholes\\part5\\l70wtgd1.jpg: 416x640 (no detections), 26.9ms\n",
      "image 365/497 E:\\University\\PythonProject\\UltralyticsPotholes\\potholes\\part5\\l7kf91xz.jpg: 352x640 4 potholess, 19.9ms\n",
      "image 366/497 E:\\University\\PythonProject\\UltralyticsPotholes\\potholes\\part5\\l8bgl8eg.jpg: 480x640 5 potholess, 29.9ms\n",
      "image 367/497 E:\\University\\PythonProject\\UltralyticsPotholes\\potholes\\part5\\l8sywp7y.jpg: 352x640 4 potholess, 19.9ms\n",
      "image 368/497 E:\\University\\PythonProject\\UltralyticsPotholes\\potholes\\part5\\l8tmovms.jpg: 640x544 2 potholess, 27.9ms\n",
      "image 369/497 E:\\University\\PythonProject\\UltralyticsPotholes\\potholes\\part5\\l901s5w4.jpg: 448x640 1 potholes, 27.9ms\n",
      "image 370/497 E:\\University\\PythonProject\\UltralyticsPotholes\\potholes\\part5\\l95i2anx.jpg: 448x640 1 potholes, 23.9ms\n",
      "image 371/497 E:\\University\\PythonProject\\UltralyticsPotholes\\potholes\\part5\\l97d8ao8.jpg: 640x480 4 potholess, 24.9ms\n",
      "image 372/497 E:\\University\\PythonProject\\UltralyticsPotholes\\potholes\\part5\\l9vescwt.jpg: 384x640 3 potholess, 23.9ms\n",
      "image 373/497 E:\\University\\PythonProject\\UltralyticsPotholes\\potholes\\part5\\la5u8ds8.jpg: 384x640 6 potholess, 18.9ms\n",
      "image 374/497 E:\\University\\PythonProject\\UltralyticsPotholes\\potholes\\part5\\la8e8ukt.jpg: 448x640 7 potholess, 23.9ms\n",
      "image 375/497 E:\\University\\PythonProject\\UltralyticsPotholes\\potholes\\part5\\la9dp07x.jpg: 384x640 2 potholess, 20.9ms\n",
      "image 376/497 E:\\University\\PythonProject\\UltralyticsPotholes\\potholes\\part5\\laqg9yh9.jpg: 640x480 1 potholes, 23.9ms\n",
      "image 377/497 E:\\University\\PythonProject\\UltralyticsPotholes\\potholes\\part5\\lb61n7vk.jpg: 640x384 2 potholess, 22.9ms\n",
      "image 378/497 E:\\University\\PythonProject\\UltralyticsPotholes\\potholes\\part5\\lbfajqe5.jpg: 384x640 (no detections), 19.9ms\n",
      "image 379/497 E:\\University\\PythonProject\\UltralyticsPotholes\\potholes\\part5\\lbjgxpdi.jpg: 384x640 1 potholes, 19.9ms\n",
      "image 380/497 E:\\University\\PythonProject\\UltralyticsPotholes\\potholes\\part5\\lbjxuulm.jpg: 640x480 (no detections), 27.9ms\n",
      "image 381/497 E:\\University\\PythonProject\\UltralyticsPotholes\\potholes\\part5\\lblkalau.jpg: 640x480 1 potholes, 22.9ms\n",
      "image 382/497 E:\\University\\PythonProject\\UltralyticsPotholes\\potholes\\part5\\lbsr7gop.jpg: 640x640 (no detections), 26.9ms\n",
      "image 383/497 E:\\University\\PythonProject\\UltralyticsPotholes\\potholes\\part5\\lbzqyvwt.jpg: 480x640 3 potholess, 28.9ms\n",
      "image 384/497 E:\\University\\PythonProject\\UltralyticsPotholes\\potholes\\part5\\lcbo9kay.jpg: 448x640 7 potholess, 25.9ms\n",
      "image 385/497 E:\\University\\PythonProject\\UltralyticsPotholes\\potholes\\part5\\ld557bz7.jpg: 352x640 2 potholess, 19.9ms\n",
      "image 386/497 E:\\University\\PythonProject\\UltralyticsPotholes\\potholes\\part5\\ldpq3c1w.jpg: 352x640 (no detections), 22.9ms\n",
      "image 387/497 E:\\University\\PythonProject\\UltralyticsPotholes\\potholes\\part5\\lelyrf8r.jpg: 448x640 1 potholes, 24.9ms\n",
      "image 388/497 E:\\University\\PythonProject\\UltralyticsPotholes\\potholes\\part5\\les2wvh6.jpg: 480x640 1 potholes, 28.9ms\n",
      "image 389/497 E:\\University\\PythonProject\\UltralyticsPotholes\\potholes\\part5\\lfgm2kok.jpg: 448x640 2 potholess, 27.9ms\n",
      "image 390/497 E:\\University\\PythonProject\\UltralyticsPotholes\\potholes\\part5\\lg35k89d.jpg: 384x640 2 potholess, 19.0ms\n",
      "image 391/497 E:\\University\\PythonProject\\UltralyticsPotholes\\potholes\\part5\\lg54nan2.jpg: 640x512 3 potholess, 22.9ms\n",
      "image 392/497 E:\\University\\PythonProject\\UltralyticsPotholes\\potholes\\part5\\lg9im2o0.jpg: 480x640 1 potholes, 28.9ms\n",
      "image 393/497 E:\\University\\PythonProject\\UltralyticsPotholes\\potholes\\part5\\lgfbd3lx.jpg: 384x640 (no detections), 19.9ms\n",
      "image 394/497 E:\\University\\PythonProject\\UltralyticsPotholes\\potholes\\part5\\lgj2l7a1.jpg: 448x640 (no detections), 27.9ms\n",
      "image 395/497 E:\\University\\PythonProject\\UltralyticsPotholes\\potholes\\part5\\li9ws8hf.jpg: 448x640 2 potholess, 26.9ms\n",
      "image 396/497 E:\\University\\PythonProject\\UltralyticsPotholes\\potholes\\part5\\lijylxc7.jpg: 480x640 2 potholess, 26.9ms\n",
      "image 397/497 E:\\University\\PythonProject\\UltralyticsPotholes\\potholes\\part5\\lj1qib0l.jpg: 384x640 2 potholess, 22.9ms\n",
      "image 398/497 E:\\University\\PythonProject\\UltralyticsPotholes\\potholes\\part5\\lj8r81wr.jpg: 384x640 5 potholess, 21.9ms\n",
      "image 399/497 E:\\University\\PythonProject\\UltralyticsPotholes\\potholes\\part5\\ljwmfk21.jpg: 448x640 1 potholes, 24.9ms\n",
      "image 400/497 E:\\University\\PythonProject\\UltralyticsPotholes\\potholes\\part5\\lkga01db.jpg: 480x640 1 potholes, 28.9ms\n",
      "image 401/497 E:\\University\\PythonProject\\UltralyticsPotholes\\potholes\\part5\\lktayn5g.jpg: 384x640 1 potholes, 20.9ms\n",
      "image 402/497 E:\\University\\PythonProject\\UltralyticsPotholes\\potholes\\part5\\llxuwtm5.jpg: 416x640 (no detections), 23.9ms\n",
      "image 403/497 E:\\University\\PythonProject\\UltralyticsPotholes\\potholes\\part5\\lm921ykz.jpg: 448x640 2 potholess, 26.9ms\n",
      "image 404/497 E:\\University\\PythonProject\\UltralyticsPotholes\\potholes\\part5\\lnapcmoe.jpg: 416x640 (no detections), 27.9ms\n",
      "image 405/497 E:\\University\\PythonProject\\UltralyticsPotholes\\potholes\\part5\\lnbfbubz.jpg: 640x480 1 potholes, 22.9ms\n",
      "image 406/497 E:\\University\\PythonProject\\UltralyticsPotholes\\potholes\\part5\\lnsme8b2.jpg: 640x640 (no detections), 30.9ms\n",
      "image 407/497 E:\\University\\PythonProject\\UltralyticsPotholes\\potholes\\part5\\lnyb112j.jpg: 480x640 2 potholess, 29.9ms\n",
      "image 408/497 E:\\University\\PythonProject\\UltralyticsPotholes\\potholes\\part5\\lo9ml44w.jpg: 384x640 1 potholes, 19.9ms\n",
      "image 409/497 E:\\University\\PythonProject\\UltralyticsPotholes\\potholes\\part5\\loc77cgn.jpg: 512x640 2 potholess, 23.9ms\n",
      "image 410/497 E:\\University\\PythonProject\\UltralyticsPotholes\\potholes\\part5\\los9w3cr.jpg: 384x640 2 potholess, 23.9ms\n",
      "image 411/497 E:\\University\\PythonProject\\UltralyticsPotholes\\potholes\\part5\\lpeebz5y.jpg: 384x640 1 potholes, 18.9ms\n",
      "image 412/497 E:\\University\\PythonProject\\UltralyticsPotholes\\potholes\\part5\\lpt1b1od.jpg: 640x640 1 potholes, 31.9ms\n",
      "image 413/497 E:\\University\\PythonProject\\UltralyticsPotholes\\potholes\\part5\\lpu2iplk.jpg: 640x640 (no detections), 28.9ms\n",
      "image 414/497 E:\\University\\PythonProject\\UltralyticsPotholes\\potholes\\part5\\lq0l717b.jpg: 640x640 1 potholes, 28.9ms\n",
      "image 415/497 E:\\University\\PythonProject\\UltralyticsPotholes\\potholes\\part5\\lr5g2woz.jpg: 384x640 (no detections), 20.9ms\n",
      "image 416/497 E:\\University\\PythonProject\\UltralyticsPotholes\\potholes\\part5\\lrigjexv.jpg: 448x640 2 potholess, 27.9ms\n",
      "image 417/497 E:\\University\\PythonProject\\UltralyticsPotholes\\potholes\\part5\\lriiexrv.jpg: 480x640 2 potholess, 28.9ms\n",
      "image 418/497 E:\\University\\PythonProject\\UltralyticsPotholes\\potholes\\part5\\lrpqtuf4.jpg: 448x640 2 potholess, 26.9ms\n",
      "image 419/497 E:\\University\\PythonProject\\UltralyticsPotholes\\potholes\\part5\\lsakc3tz.jpg: 352x640 4 potholess, 20.9ms\n",
      "image 420/497 E:\\University\\PythonProject\\UltralyticsPotholes\\potholes\\part5\\lsrlmkla.jpg: 352x640 10 potholess, 18.9ms\n",
      "image 421/497 E:\\University\\PythonProject\\UltralyticsPotholes\\potholes\\part5\\lsvvrkwc.jpg: 640x480 1 potholes, 28.9ms\n",
      "image 422/497 E:\\University\\PythonProject\\UltralyticsPotholes\\potholes\\part5\\lt27ew44.jpg: 480x640 (no detections), 24.9ms\n",
      "image 423/497 E:\\University\\PythonProject\\UltralyticsPotholes\\potholes\\part5\\ltnu3lbc.jpg: 480x640 (no detections), 24.9ms\n",
      "image 424/497 E:\\University\\PythonProject\\UltralyticsPotholes\\potholes\\part5\\ltpsa3ac.jpg: 448x640 1 potholes, 27.9ms\n",
      "image 425/497 E:\\University\\PythonProject\\UltralyticsPotholes\\potholes\\part5\\ltrr83pn.jpg: 448x640 (no detections), 24.9ms\n",
      "image 426/497 E:\\University\\PythonProject\\UltralyticsPotholes\\potholes\\part5\\luk2gksp.jpg: 640x640 1 potholes, 29.9ms\n",
      "image 427/497 E:\\University\\PythonProject\\UltralyticsPotholes\\potholes\\part5\\lvs7bzvy.jpg: 448x640 2 potholess, 23.9ms\n",
      "image 428/497 E:\\University\\PythonProject\\UltralyticsPotholes\\potholes\\part5\\lvyx8rl8.jpg: 352x640 (no detections), 19.9ms\n",
      "image 429/497 E:\\University\\PythonProject\\UltralyticsPotholes\\potholes\\part5\\lw2q1cpw.jpg: 640x480 1 potholes, 25.9ms\n",
      "image 430/497 E:\\University\\PythonProject\\UltralyticsPotholes\\potholes\\part5\\lwbebwco.jpg: 640x640 (no detections), 30.9ms\n",
      "image 431/497 E:\\University\\PythonProject\\UltralyticsPotholes\\potholes\\part5\\lx176ywd.jpg: 640x640 (no detections), 28.9ms\n",
      "image 432/497 E:\\University\\PythonProject\\UltralyticsPotholes\\potholes\\part5\\lxhfdajm.jpg: 448x640 2 potholess, 27.9ms\n",
      "image 433/497 E:\\University\\PythonProject\\UltralyticsPotholes\\potholes\\part5\\lxhpz3sy.jpg: 416x640 (no detections), 27.9ms\n",
      "image 434/497 E:\\University\\PythonProject\\UltralyticsPotholes\\potholes\\part5\\lzayukv3.jpg: 640x640 (no detections), 28.9ms\n",
      "image 435/497 E:\\University\\PythonProject\\UltralyticsPotholes\\potholes\\part5\\m0aovght.jpg: 480x640 2 potholess, 29.9ms\n",
      "image 436/497 E:\\University\\PythonProject\\UltralyticsPotholes\\potholes\\part5\\m0kabskp.jpg: 480x640 2 potholess, 26.9ms\n",
      "image 437/497 E:\\University\\PythonProject\\UltralyticsPotholes\\potholes\\part5\\m10jkjtj.jpg: 448x640 5 potholess, 24.9ms\n",
      "image 438/497 E:\\University\\PythonProject\\UltralyticsPotholes\\potholes\\part5\\m15qpry8.jpg: 384x640 2 potholess, 24.9ms\n",
      "image 439/497 E:\\University\\PythonProject\\UltralyticsPotholes\\potholes\\part5\\m19knjpk.jpg: 480x640 1 potholes, 27.9ms\n",
      "image 440/497 E:\\University\\PythonProject\\UltralyticsPotholes\\potholes\\part5\\m1ce7h1t.jpg: 384x640 2 potholess, 19.9ms\n",
      "image 441/497 E:\\University\\PythonProject\\UltralyticsPotholes\\potholes\\part5\\m24xh9ld.jpg: 640x640 1 potholes, 28.9ms\n",
      "image 442/497 E:\\University\\PythonProject\\UltralyticsPotholes\\potholes\\part5\\m2bh3g0n.jpg: 448x640 1 potholes, 24.9ms\n",
      "image 443/497 E:\\University\\PythonProject\\UltralyticsPotholes\\potholes\\part5\\m2cjwm73.jpg: 640x640 2 potholess, 31.9ms\n",
      "image 444/497 E:\\University\\PythonProject\\UltralyticsPotholes\\potholes\\part5\\m2kso8ac.jpg: 448x640 1 potholes, 24.9ms\n",
      "image 445/497 E:\\University\\PythonProject\\UltralyticsPotholes\\potholes\\part5\\m2zy7nlq.jpg: 480x640 (no detections), 28.9ms\n",
      "image 446/497 E:\\University\\PythonProject\\UltralyticsPotholes\\potholes\\part5\\m3g1l2iz.jpg: 448x640 4 potholess, 29.9ms\n",
      "image 447/497 E:\\University\\PythonProject\\UltralyticsPotholes\\potholes\\part5\\m3u8lt1x.jpg: 448x640 2 potholess, 28.9ms\n",
      "image 448/497 E:\\University\\PythonProject\\UltralyticsPotholes\\potholes\\part5\\m432oqu0.jpg: 384x640 2 potholess, 24.9ms\n",
      "image 449/497 E:\\University\\PythonProject\\UltralyticsPotholes\\potholes\\part5\\m4ypy2jb.jpg: 384x640 3 potholess, 18.9ms\n",
      "image 450/497 E:\\University\\PythonProject\\UltralyticsPotholes\\potholes\\part5\\m5pmrda8.jpg: 384x640 (no detections), 21.9ms\n",
      "image 451/497 E:\\University\\PythonProject\\UltralyticsPotholes\\potholes\\part5\\m5ttn0bw.jpg: 480x640 1 potholes, 56.8ms\n",
      "image 452/497 E:\\University\\PythonProject\\UltralyticsPotholes\\potholes\\part5\\m5vionvw.jpg: 384x640 4 potholess, 27.9ms\n",
      "image 453/497 E:\\University\\PythonProject\\UltralyticsPotholes\\potholes\\part5\\m5word4e.jpg: 480x640 3 potholess, 26.9ms\n",
      "image 454/497 E:\\University\\PythonProject\\UltralyticsPotholes\\potholes\\part5\\m6aczgk9.jpg: 576x640 (no detections), 25.9ms\n",
      "image 455/497 E:\\University\\PythonProject\\UltralyticsPotholes\\potholes\\part5\\m6kgq7ka.jpg: 416x640 1 potholes, 23.9ms\n",
      "image 456/497 E:\\University\\PythonProject\\UltralyticsPotholes\\potholes\\part5\\m6tfejo5.jpg: 448x640 2 potholess, 32.9ms\n",
      "image 457/497 E:\\University\\PythonProject\\UltralyticsPotholes\\potholes\\part5\\m6zucikd.jpg: 480x640 2 potholess, 26.9ms\n",
      "image 458/497 E:\\University\\PythonProject\\UltralyticsPotholes\\potholes\\part5\\m78g94fs.jpg: 384x640 1 potholes, 22.9ms\n",
      "image 459/497 E:\\University\\PythonProject\\UltralyticsPotholes\\potholes\\part5\\m7k0a0x5.jpg: 224x640 1 potholes, 17.0ms\n",
      "image 460/497 E:\\University\\PythonProject\\UltralyticsPotholes\\potholes\\part5\\m841gc6m.jpg: 448x640 1 potholes, 23.9ms\n",
      "image 461/497 E:\\University\\PythonProject\\UltralyticsPotholes\\potholes\\part5\\m89q4x3d.jpg: 640x640 1 potholes, 31.9ms\n",
      "image 462/497 E:\\University\\PythonProject\\UltralyticsPotholes\\potholes\\part5\\m92z0yb8.jpg: 416x640 2 potholess, 31.9ms\n",
      "image 463/497 E:\\University\\PythonProject\\UltralyticsPotholes\\potholes\\part5\\m93o8h99.jpg: 640x480 2 potholess, 27.9ms\n",
      "image 464/497 E:\\University\\PythonProject\\UltralyticsPotholes\\potholes\\part5\\m94x05cd.jpg: 384x640 3 potholess, 19.9ms\n",
      "image 465/497 E:\\University\\PythonProject\\UltralyticsPotholes\\potholes\\part5\\m9brn2ur.jpg: 448x640 5 potholess, 20.9ms\n",
      "image 466/497 E:\\University\\PythonProject\\UltralyticsPotholes\\potholes\\part5\\m9h6gd0a.jpg: 448x640 2 potholess, 28.9ms\n",
      "image 467/497 E:\\University\\PythonProject\\UltralyticsPotholes\\potholes\\part5\\m9o1s9bf.jpg: 384x640 2 potholess, 20.9ms\n",
      "image 468/497 E:\\University\\PythonProject\\UltralyticsPotholes\\potholes\\part5\\m9tdh6fy.jpg: 480x640 2 potholess, 25.9ms\n",
      "image 469/497 E:\\University\\PythonProject\\UltralyticsPotholes\\potholes\\part5\\macghxt2.jpg: 640x480 3 potholess, 23.9ms\n",
      "image 470/497 E:\\University\\PythonProject\\UltralyticsPotholes\\potholes\\part5\\marjaqlp.jpg: 640x448 (no detections), 19.9ms\n",
      "image 471/497 E:\\University\\PythonProject\\UltralyticsPotholes\\potholes\\part5\\mb1u96p1.jpg: 384x640 1 potholes, 18.0ms\n",
      "image 472/497 E:\\University\\PythonProject\\UltralyticsPotholes\\potholes\\part5\\mbjzv4ol.jpg: 384x640 2 potholess, 17.0ms\n",
      "image 473/497 E:\\University\\PythonProject\\UltralyticsPotholes\\potholes\\part5\\mbnej5qg.jpg: 448x640 3 potholess, 21.9ms\n",
      "image 474/497 E:\\University\\PythonProject\\UltralyticsPotholes\\potholes\\part5\\mca5umcl.jpg: 640x640 1 potholes, 25.9ms\n",
      "image 475/497 E:\\University\\PythonProject\\UltralyticsPotholes\\potholes\\part5\\mcbdx488.jpg: 384x640 3 potholess, 17.0ms\n",
      "image 476/497 E:\\University\\PythonProject\\UltralyticsPotholes\\potholes\\part5\\mcu9tddh.jpg: 384x640 1 potholes, 17.0ms\n",
      "image 477/497 E:\\University\\PythonProject\\UltralyticsPotholes\\potholes\\part5\\mcw078u5.jpg: 352x640 1 potholes, 17.0ms\n",
      "image 478/497 E:\\University\\PythonProject\\UltralyticsPotholes\\potholes\\part5\\md0jthwp.jpg: 384x640 1 potholes, 18.9ms\n",
      "image 479/497 E:\\University\\PythonProject\\UltralyticsPotholes\\potholes\\part5\\mddu8avj.jpg: 384x640 4 potholess, 16.0ms\n",
      "image 480/497 E:\\University\\PythonProject\\UltralyticsPotholes\\potholes\\part5\\mdfiu96k.jpg: 480x640 2 potholess, 20.9ms\n",
      "image 481/497 E:\\University\\PythonProject\\UltralyticsPotholes\\potholes\\part5\\mdgs4dea.jpg: 640x480 2 potholess, 18.9ms\n",
      "image 482/497 E:\\University\\PythonProject\\UltralyticsPotholes\\potholes\\part5\\mdqh2duz.jpg: 640x640 (no detections), 25.9ms\n",
      "image 483/497 E:\\University\\PythonProject\\UltralyticsPotholes\\potholes\\part5\\mdvvzbst.jpg: 288x640 2 potholess, 18.0ms\n",
      "image 484/497 E:\\University\\PythonProject\\UltralyticsPotholes\\potholes\\part5\\me2k66zw.jpg: 640x640 1 potholes, 25.9ms\n",
      "image 485/497 E:\\University\\PythonProject\\UltralyticsPotholes\\potholes\\part5\\med0ws3s.jpg: 640x640 1 potholes, 21.9ms\n",
      "image 486/497 E:\\University\\PythonProject\\UltralyticsPotholes\\potholes\\part5\\mevlv8kl.jpg: 384x640 2 potholess, 18.0ms\n",
      "image 487/497 E:\\University\\PythonProject\\UltralyticsPotholes\\potholes\\part5\\mf5rcpy4.jpg: 384x640 1 potholes, 16.0ms\n",
      "image 488/497 E:\\University\\PythonProject\\UltralyticsPotholes\\potholes\\part5\\mfdglr4h.jpg: 320x640 3 potholess, 18.0ms\n",
      "image 489/497 E:\\University\\PythonProject\\UltralyticsPotholes\\potholes\\part5\\mfyw9b5o.jpg: 480x640 (no detections), 20.9ms\n",
      "image 490/497 E:\\University\\PythonProject\\UltralyticsPotholes\\potholes\\part5\\mgdm0cwa.jpg: 640x640 1 potholes, 24.9ms\n",
      "image 491/497 E:\\University\\PythonProject\\UltralyticsPotholes\\potholes\\part5\\mgtrmwss.jpg: 640x640 1 potholes, 22.9ms\n",
      "image 492/497 E:\\University\\PythonProject\\UltralyticsPotholes\\potholes\\part5\\mh25jdos.jpg: 448x640 1 potholes, 22.9ms\n",
      "image 493/497 E:\\University\\PythonProject\\UltralyticsPotholes\\potholes\\part5\\mh9t14ii.jpg: 512x640 6 potholess, 21.9ms\n",
      "image 494/497 E:\\University\\PythonProject\\UltralyticsPotholes\\potholes\\part5\\mhmewlz7.jpg: 384x640 7 potholess, 16.0ms\n",
      "image 495/497 E:\\University\\PythonProject\\UltralyticsPotholes\\potholes\\part5\\mhy5mrzk.jpg: 384x640 3 potholess, 17.0ms\n",
      "image 496/497 E:\\University\\PythonProject\\UltralyticsPotholes\\potholes\\part5\\mi2lq7uj.jpg: 640x480 9 potholess, 18.9ms\n",
      "image 497/497 E:\\University\\PythonProject\\UltralyticsPotholes\\potholes\\part5\\mibzrirp.jpg: 640x480 2 potholess, 18.9ms\n",
      "Speed: 2.7ms preprocess, 25.0ms inference, 2.4ms postprocess per image at shape (1, 3, 640, 480)\n",
      "Results saved to \u001b[1mruns\\segment\\predict2\u001b[0m\n"
     ]
    }
   ],
   "source": [
    "resultFive = model('potholes\\\\part5',save=True)"
   ]
  },
  {
   "cell_type": "code",
   "execution_count": 3,
   "id": "f616b2eaa3e995d4",
   "metadata": {
    "ExecuteTime": {
     "end_time": "2023-12-11T06:24:15.785118300Z",
     "start_time": "2023-12-11T06:23:31.812197Z"
    },
    "collapsed": false,
    "jupyter": {
     "outputs_hidden": false
    }
   },
   "outputs": [
    {
     "name": "stdout",
     "output_type": "stream",
     "text": [
      "image 1/504 E:\\University\\PythonProject\\UltralyticsPotholes\\potholes\\part6\\miofdeta.jpg: 448x640 (no detections), 70.8ms\n",
      "image 2/504 E:\\University\\PythonProject\\UltralyticsPotholes\\potholes\\part6\\mj9hrtt8.jpg: 384x640 2 potholess, 69.8ms\n",
      "image 3/504 E:\\University\\PythonProject\\UltralyticsPotholes\\potholes\\part6\\mjejhtb8.jpg: 384x640 (no detections), 19.9ms\n",
      "image 4/504 E:\\University\\PythonProject\\UltralyticsPotholes\\potholes\\part6\\mjqj9h3s.jpg: 448x640 2 potholess, 26.9ms\n",
      "image 5/504 E:\\University\\PythonProject\\UltralyticsPotholes\\potholes\\part6\\mjternun.jpg: 448x640 (no detections), 25.9ms\n",
      "image 6/504 E:\\University\\PythonProject\\UltralyticsPotholes\\potholes\\part6\\mjufmus5.jpg: 352x640 3 potholess, 77.8ms\n",
      "image 7/504 E:\\University\\PythonProject\\UltralyticsPotholes\\potholes\\part6\\mk7fc4xf.jpg: 640x640 3 potholess, 27.9ms\n",
      "image 8/504 E:\\University\\PythonProject\\UltralyticsPotholes\\potholes\\part6\\mk7ko5hg.jpg: 480x640 (no detections), 78.8ms\n",
      "image 9/504 E:\\University\\PythonProject\\UltralyticsPotholes\\potholes\\part6\\mkp4cph6.jpg: 480x640 1 potholes, 23.9ms\n",
      "image 10/504 E:\\University\\PythonProject\\UltralyticsPotholes\\potholes\\part6\\mkwdioys.jpg: 640x640 1 potholes, 28.9ms\n",
      "image 11/504 E:\\University\\PythonProject\\UltralyticsPotholes\\potholes\\part6\\mlvy3ieb.jpg: 480x640 2 potholess, 24.9ms\n",
      "image 12/504 E:\\University\\PythonProject\\UltralyticsPotholes\\potholes\\part6\\mmxsjnf6.jpg: 448x640 9 potholess, 24.9ms\n",
      "image 13/504 E:\\University\\PythonProject\\UltralyticsPotholes\\potholes\\part6\\mn2zofwg.jpg: 448x640 4 potholess, 23.9ms\n",
      "image 14/504 E:\\University\\PythonProject\\UltralyticsPotholes\\potholes\\part6\\mn48zatx.jpg: 448x640 5 potholess, 22.9ms\n",
      "image 15/504 E:\\University\\PythonProject\\UltralyticsPotholes\\potholes\\part6\\mn5q7b5l.jpg: 480x640 2 potholess, 23.9ms\n",
      "image 16/504 E:\\University\\PythonProject\\UltralyticsPotholes\\potholes\\part6\\mnt6lhuv.jpg: 448x640 1 potholes, 23.9ms\n",
      "image 17/504 E:\\University\\PythonProject\\UltralyticsPotholes\\potholes\\part6\\mnt7debg.jpg: 448x640 (no detections), 22.9ms\n",
      "image 18/504 E:\\University\\PythonProject\\UltralyticsPotholes\\potholes\\part6\\mo1b32xw.jpg: 480x640 1 potholes, 25.9ms\n",
      "image 19/504 E:\\University\\PythonProject\\UltralyticsPotholes\\potholes\\part6\\mo76j4i6.jpg: 224x640 2 potholess, 69.8ms\n",
      "image 20/504 E:\\University\\PythonProject\\UltralyticsPotholes\\potholes\\part6\\moa74b18.jpg: 640x640 1 potholes, 27.9ms\n",
      "image 21/504 E:\\University\\PythonProject\\UltralyticsPotholes\\potholes\\part6\\mobee686.jpg: 448x640 4 potholess, 23.9ms\n",
      "image 22/504 E:\\University\\PythonProject\\UltralyticsPotholes\\potholes\\part6\\moeax9hq.jpg: 352x640 (no detections), 18.0ms\n",
      "image 23/504 E:\\University\\PythonProject\\UltralyticsPotholes\\potholes\\part6\\momdoc6r.jpg: 640x640 (no detections), 27.9ms\n",
      "image 24/504 E:\\University\\PythonProject\\UltralyticsPotholes\\potholes\\part6\\mpsafe4t.jpg: 416x640 (no detections), 94.8ms\n",
      "image 25/504 E:\\University\\PythonProject\\UltralyticsPotholes\\potholes\\part6\\mpul2zti.jpg: 448x640 2 potholess, 24.9ms\n",
      "image 26/504 E:\\University\\PythonProject\\UltralyticsPotholes\\potholes\\part6\\mq0ywvq9.jpg: 512x640 2 potholess, 66.8ms\n",
      "image 27/504 E:\\University\\PythonProject\\UltralyticsPotholes\\potholes\\part6\\mqgyj7mg.jpg: 384x640 2 potholess, 19.9ms\n",
      "image 28/504 E:\\University\\PythonProject\\UltralyticsPotholes\\potholes\\part6\\mqq8hand.jpg: 384x640 2 potholess, 20.9ms\n",
      "image 29/504 E:\\University\\PythonProject\\UltralyticsPotholes\\potholes\\part6\\mr421afx.jpg: 352x640 1 potholes, 20.9ms\n",
      "image 30/504 E:\\University\\PythonProject\\UltralyticsPotholes\\potholes\\part6\\msdumg2q.jpg: 448x640 2 potholess, 27.9ms\n",
      "image 31/504 E:\\University\\PythonProject\\UltralyticsPotholes\\potholes\\part6\\msl5bziu.jpg: 384x640 3 potholess, 20.9ms\n",
      "image 32/504 E:\\University\\PythonProject\\UltralyticsPotholes\\potholes\\part6\\msqq9m4t.jpg: 384x640 (no detections), 20.9ms\n",
      "image 33/504 E:\\University\\PythonProject\\UltralyticsPotholes\\potholes\\part6\\mt0ahho4.jpg: 480x640 2 potholess, 24.9ms\n",
      "image 34/504 E:\\University\\PythonProject\\UltralyticsPotholes\\potholes\\part6\\mtulq18y.jpg: 448x640 (no detections), 21.9ms\n",
      "image 35/504 E:\\University\\PythonProject\\UltralyticsPotholes\\potholes\\part6\\mtzxxpoh.jpg: 640x640 1 potholes, 23.9ms\n",
      "image 36/504 E:\\University\\PythonProject\\UltralyticsPotholes\\potholes\\part6\\mu2c571q.jpg: 448x640 3 potholess, 21.9ms\n",
      "image 37/504 E:\\University\\PythonProject\\UltralyticsPotholes\\potholes\\part6\\mu7teng4.jpg: 480x640 1 potholes, 19.9ms\n",
      "image 38/504 E:\\University\\PythonProject\\UltralyticsPotholes\\potholes\\part6\\mv2mmz49.jpg: 480x640 1 potholes, 20.9ms\n",
      "image 39/504 E:\\University\\PythonProject\\UltralyticsPotholes\\potholes\\part6\\mv7fea2f.jpg: 384x640 2 potholess, 17.0ms\n",
      "image 40/504 E:\\University\\PythonProject\\UltralyticsPotholes\\potholes\\part6\\mvhbhft1.jpg: 640x640 4 potholess, 23.9ms\n",
      "image 41/504 E:\\University\\PythonProject\\UltralyticsPotholes\\potholes\\part6\\mvu54jxi.jpg: 352x640 2 potholess, 17.0ms\n",
      "image 42/504 E:\\University\\PythonProject\\UltralyticsPotholes\\potholes\\part6\\mw034uim.jpg: 320x640 3 potholess, 69.8ms\n",
      "image 43/504 E:\\University\\PythonProject\\UltralyticsPotholes\\potholes\\part6\\mw47s63r.jpg: 640x480 3 potholess, 70.8ms\n",
      "image 44/504 E:\\University\\PythonProject\\UltralyticsPotholes\\potholes\\part6\\mwu1qfah.jpg: 480x640 1 potholes, 20.9ms\n",
      "image 45/504 E:\\University\\PythonProject\\UltralyticsPotholes\\potholes\\part6\\mwum4fe9.jpg: 640x544 8 potholess, 72.8ms\n",
      "image 46/504 E:\\University\\PythonProject\\UltralyticsPotholes\\potholes\\part6\\mx7npz3e.jpg: 384x640 1 potholes, 17.0ms\n",
      "image 47/504 E:\\University\\PythonProject\\UltralyticsPotholes\\potholes\\part6\\mx9s71nf.jpg: 448x640 1 potholes, 20.9ms\n",
      "image 48/504 E:\\University\\PythonProject\\UltralyticsPotholes\\potholes\\part6\\my05g8c8.jpg: 640x544 1 potholes, 21.9ms\n",
      "image 49/504 E:\\University\\PythonProject\\UltralyticsPotholes\\potholes\\part6\\myncpvzc.jpg: 448x640 2 potholess, 20.9ms\n",
      "image 50/504 E:\\University\\PythonProject\\UltralyticsPotholes\\potholes\\part6\\mzmlx194.jpg: 480x640 2 potholess, 21.9ms\n",
      "image 51/504 E:\\University\\PythonProject\\UltralyticsPotholes\\potholes\\part6\\n0ifdzpt.jpg: 640x480 (no detections), 22.9ms\n",
      "image 52/504 E:\\University\\PythonProject\\UltralyticsPotholes\\potholes\\part6\\n0jw7yok.jpg: 640x640 2 potholess, 28.9ms\n",
      "image 53/504 E:\\University\\PythonProject\\UltralyticsPotholes\\potholes\\part6\\n0xsjdnk.jpg: 640x640 2 potholess, 26.9ms\n",
      "image 54/504 E:\\University\\PythonProject\\UltralyticsPotholes\\potholes\\part6\\n1kquyv1.jpg: 448x640 1 potholes, 23.9ms\n",
      "image 55/504 E:\\University\\PythonProject\\UltralyticsPotholes\\potholes\\part6\\n1tnomjf.jpg: 384x640 1 potholes, 18.9ms\n",
      "image 56/504 E:\\University\\PythonProject\\UltralyticsPotholes\\potholes\\part6\\n22og2mg.jpg: 448x640 8 potholess, 23.9ms\n",
      "image 57/504 E:\\University\\PythonProject\\UltralyticsPotholes\\potholes\\part6\\n24jyrzf.jpg: 480x640 (no detections), 23.9ms\n",
      "image 58/504 E:\\University\\PythonProject\\UltralyticsPotholes\\potholes\\part6\\n3ymbnyg.jpg: 640x480 2 potholess, 22.9ms\n",
      "image 59/504 E:\\University\\PythonProject\\UltralyticsPotholes\\potholes\\part6\\n4hbfbxr.jpg: 480x640 1 potholes, 24.9ms\n",
      "image 60/504 E:\\University\\PythonProject\\UltralyticsPotholes\\potholes\\part6\\n4vqyqup.jpg: 480x640 1 potholes, 23.9ms\n",
      "image 61/504 E:\\University\\PythonProject\\UltralyticsPotholes\\potholes\\part6\\n516dw87.jpg: 384x640 1 potholes, 18.9ms\n",
      "image 62/504 E:\\University\\PythonProject\\UltralyticsPotholes\\potholes\\part6\\n5gjhglo.jpg: 640x480 4 potholess, 22.9ms\n",
      "image 63/504 E:\\University\\PythonProject\\UltralyticsPotholes\\potholes\\part6\\n5oldwmy.jpg: 448x640 4 potholess, 23.9ms\n",
      "image 64/504 E:\\University\\PythonProject\\UltralyticsPotholes\\potholes\\part6\\n5uhrsg6.jpg: 448x640 2 potholess, 22.9ms\n",
      "image 65/504 E:\\University\\PythonProject\\UltralyticsPotholes\\potholes\\part6\\n61xvbq5.jpg: 416x640 3 potholess, 23.9ms\n",
      "image 66/504 E:\\University\\PythonProject\\UltralyticsPotholes\\potholes\\part6\\n63wt94w.jpg: 448x640 9 potholess, 24.9ms\n",
      "image 67/504 E:\\University\\PythonProject\\UltralyticsPotholes\\potholes\\part6\\n669rrvr.jpg: 640x480 (no detections), 23.9ms\n",
      "image 68/504 E:\\University\\PythonProject\\UltralyticsPotholes\\potholes\\part6\\n66qkxzl.jpg: 416x640 1 potholes, 22.9ms\n",
      "image 69/504 E:\\University\\PythonProject\\UltralyticsPotholes\\potholes\\part6\\n6suhjt9.jpg: 480x640 1 potholes, 23.9ms\n",
      "image 70/504 E:\\University\\PythonProject\\UltralyticsPotholes\\potholes\\part6\\n6x4wmne.jpg: 448x640 1 potholes, 22.9ms\n",
      "image 71/504 E:\\University\\PythonProject\\UltralyticsPotholes\\potholes\\part6\\n7jl3exa.jpg: 384x640 2 potholess, 19.9ms\n",
      "image 72/504 E:\\University\\PythonProject\\UltralyticsPotholes\\potholes\\part6\\n7js6004.jpg: 640x480 1 potholes, 22.9ms\n",
      "image 73/504 E:\\University\\PythonProject\\UltralyticsPotholes\\potholes\\part6\\n7yn1eke.jpg: 416x640 1 potholes, 20.9ms\n",
      "image 74/504 E:\\University\\PythonProject\\UltralyticsPotholes\\potholes\\part6\\n88upk3k.jpg: 448x640 (no detections), 20.9ms\n",
      "image 75/504 E:\\University\\PythonProject\\UltralyticsPotholes\\potholes\\part6\\n8uuic8j.jpg: 416x640 (no detections), 20.9ms\n",
      "image 76/504 E:\\University\\PythonProject\\UltralyticsPotholes\\potholes\\part6\\n96h47kq.jpg: 640x640 1 potholes, 23.9ms\n",
      "image 77/504 E:\\University\\PythonProject\\UltralyticsPotholes\\potholes\\part6\\n989v0qd.jpg: 384x640 3 potholess, 18.0ms\n",
      "image 78/504 E:\\University\\PythonProject\\UltralyticsPotholes\\potholes\\part6\\n9dt3jxb.jpg: 640x640 2 potholess, 22.9ms\n",
      "image 79/504 E:\\University\\PythonProject\\UltralyticsPotholes\\potholes\\part6\\n9hcucd4.jpg: 480x640 (no detections), 22.9ms\n",
      "image 80/504 E:\\University\\PythonProject\\UltralyticsPotholes\\potholes\\part6\\n9s22aex.jpg: 480x640 4 potholess, 22.1ms\n",
      "image 81/504 E:\\University\\PythonProject\\UltralyticsPotholes\\potholes\\part6\\nb49chve.jpg: 640x640 (no detections), 24.9ms\n",
      "image 82/504 E:\\University\\PythonProject\\UltralyticsPotholes\\potholes\\part6\\nb4qeob5.jpg: 448x640 4 potholess, 20.9ms\n",
      "image 83/504 E:\\University\\PythonProject\\UltralyticsPotholes\\potholes\\part6\\nb77oteo.jpg: 384x640 3 potholess, 17.0ms\n",
      "image 84/504 E:\\University\\PythonProject\\UltralyticsPotholes\\potholes\\part6\\nb8tsubz.jpg: 384x640 1 potholes, 15.0ms\n",
      "image 85/504 E:\\University\\PythonProject\\UltralyticsPotholes\\potholes\\part6\\nbgy9nl2.jpg: 448x640 3 potholess, 21.9ms\n",
      "image 86/504 E:\\University\\PythonProject\\UltralyticsPotholes\\potholes\\part6\\nbjtryy8.jpg: 640x480 1 potholes, 19.9ms\n",
      "image 87/504 E:\\University\\PythonProject\\UltralyticsPotholes\\potholes\\part6\\nbktuqg1.jpg: 640x640 2 potholess, 24.9ms\n",
      "image 88/504 E:\\University\\PythonProject\\UltralyticsPotholes\\potholes\\part6\\nbn9aiyf.jpg: 640x640 (no detections), 21.9ms\n",
      "image 89/504 E:\\University\\PythonProject\\UltralyticsPotholes\\potholes\\part6\\nbvryyxe.jpg: 448x640 1 potholes, 20.9ms\n",
      "image 90/504 E:\\University\\PythonProject\\UltralyticsPotholes\\potholes\\part6\\nca7hhre.jpg: 480x640 1 potholes, 20.9ms\n",
      "image 91/504 E:\\University\\PythonProject\\UltralyticsPotholes\\potholes\\part6\\ncluw13f.jpg: 384x640 (no detections), 17.0ms\n",
      "image 92/504 E:\\University\\PythonProject\\UltralyticsPotholes\\potholes\\part6\\ncmwfpdj.jpg: 384x640 (no detections), 16.0ms\n",
      "image 93/504 E:\\University\\PythonProject\\UltralyticsPotholes\\potholes\\part6\\ncsml0ey.jpg: 384x640 2 potholess, 16.9ms\n",
      "image 94/504 E:\\University\\PythonProject\\UltralyticsPotholes\\potholes\\part6\\ncw2fphj.jpg: 448x640 3 potholess, 20.9ms\n",
      "image 95/504 E:\\University\\PythonProject\\UltralyticsPotholes\\potholes\\part6\\nd0nzgbx.jpg: 480x640 6 potholess, 21.9ms\n",
      "image 96/504 E:\\University\\PythonProject\\UltralyticsPotholes\\potholes\\part6\\nenj4cs8.jpg: 480x640 1 potholes, 20.9ms\n",
      "image 97/504 E:\\University\\PythonProject\\UltralyticsPotholes\\potholes\\part6\\nevw99gc.jpg: 480x640 1 potholes, 20.9ms\n",
      "image 98/504 E:\\University\\PythonProject\\UltralyticsPotholes\\potholes\\part6\\nf5rwish.jpg: 448x640 1 potholes, 21.9ms\n",
      "image 99/504 E:\\University\\PythonProject\\UltralyticsPotholes\\potholes\\part6\\nfxd6ijn.jpg: 608x640 2 potholess, 79.8ms\n",
      "image 100/504 E:\\University\\PythonProject\\UltralyticsPotholes\\potholes\\part6\\ng69gtq4.jpg: 480x640 (no detections), 20.9ms\n",
      "image 101/504 E:\\University\\PythonProject\\UltralyticsPotholes\\potholes\\part6\\ngp3fdlp.jpg: 384x640 (no detections), 17.0ms\n",
      "image 102/504 E:\\University\\PythonProject\\UltralyticsPotholes\\potholes\\part6\\nho2j1xg.jpg: 352x640 (no detections), 17.0ms\n",
      "image 103/504 E:\\University\\PythonProject\\UltralyticsPotholes\\potholes\\part6\\nhsdoarn.jpg: 448x640 10 potholess, 20.9ms\n",
      "image 104/504 E:\\University\\PythonProject\\UltralyticsPotholes\\potholes\\part6\\nhz2utnx.jpg: 640x512 4 potholess, 65.8ms\n",
      "image 105/504 E:\\University\\PythonProject\\UltralyticsPotholes\\potholes\\part6\\nie7ivn0.jpg: 384x640 3 potholess, 16.0ms\n",
      "image 106/504 E:\\University\\PythonProject\\UltralyticsPotholes\\potholes\\part6\\nieqadtg.jpg: 480x640 3 potholess, 21.9ms\n",
      "image 107/504 E:\\University\\PythonProject\\UltralyticsPotholes\\potholes\\part6\\nif1636r.jpg: 640x640 2 potholess, 24.9ms\n",
      "image 108/504 E:\\University\\PythonProject\\UltralyticsPotholes\\potholes\\part6\\nilr2wnc.jpg: 384x640 2 potholess, 16.0ms\n",
      "image 109/504 E:\\University\\PythonProject\\UltralyticsPotholes\\potholes\\part6\\niy1hzn8.jpg: 352x640 5 potholess, 17.0ms\n",
      "image 110/504 E:\\University\\PythonProject\\UltralyticsPotholes\\potholes\\part6\\njialpif.jpg: 640x480 7 potholess, 19.0ms\n",
      "image 111/504 E:\\University\\PythonProject\\UltralyticsPotholes\\potholes\\part6\\njovkwml.jpg: 352x640 (no detections), 16.0ms\n",
      "image 112/504 E:\\University\\PythonProject\\UltralyticsPotholes\\potholes\\part6\\njrvcpje.jpg: 448x640 2 potholess, 20.9ms\n",
      "image 113/504 E:\\University\\PythonProject\\UltralyticsPotholes\\potholes\\part6\\njs2byoi.jpg: 480x640 1 potholes, 20.9ms\n",
      "image 114/504 E:\\University\\PythonProject\\UltralyticsPotholes\\potholes\\part6\\nk33nr3s.jpg: 640x640 1 potholes, 23.9ms\n",
      "image 115/504 E:\\University\\PythonProject\\UltralyticsPotholes\\potholes\\part6\\nk3tb4xr.jpg: 640x640 1 potholes, 22.9ms\n",
      "image 116/504 E:\\University\\PythonProject\\UltralyticsPotholes\\potholes\\part6\\nkffjur5.jpg: 640x480 (no detections), 19.9ms\n",
      "image 117/504 E:\\University\\PythonProject\\UltralyticsPotholes\\potholes\\part6\\nkft1paa.jpg: 640x640 4 potholess, 23.9ms\n",
      "image 118/504 E:\\University\\PythonProject\\UltralyticsPotholes\\potholes\\part6\\nl5q6hxl.jpg: 640x480 1 potholes, 20.9ms\n",
      "image 119/504 E:\\University\\PythonProject\\UltralyticsPotholes\\potholes\\part6\\nl7rs6wb.jpg: 640x640 1 potholes, 24.9ms\n",
      "image 120/504 E:\\University\\PythonProject\\UltralyticsPotholes\\potholes\\part6\\nlmvlm4u.jpg: 416x640 1 potholes, 21.9ms\n",
      "image 121/504 E:\\University\\PythonProject\\UltralyticsPotholes\\potholes\\part6\\nls94h7s.jpg: 384x640 1 potholes, 17.0ms\n",
      "image 122/504 E:\\University\\PythonProject\\UltralyticsPotholes\\potholes\\part6\\nlvo67u8.jpg: 640x480 1 potholes, 18.9ms\n",
      "image 123/504 E:\\University\\PythonProject\\UltralyticsPotholes\\potholes\\part6\\nm8588vt.jpg: 448x640 1 potholes, 21.9ms\n",
      "image 124/504 E:\\University\\PythonProject\\UltralyticsPotholes\\potholes\\part6\\nma0gvw6.jpg: 480x640 1 potholes, 20.9ms\n",
      "image 125/504 E:\\University\\PythonProject\\UltralyticsPotholes\\potholes\\part6\\nmfdjo87.jpg: 448x640 2 potholess, 21.9ms\n",
      "image 126/504 E:\\University\\PythonProject\\UltralyticsPotholes\\potholes\\part6\\nn3jrfnd.jpg: 448x640 4 potholess, 20.9ms\n",
      "image 127/504 E:\\University\\PythonProject\\UltralyticsPotholes\\potholes\\part6\\nnjn28xt.jpg: 448x640 1 potholes, 18.9ms\n",
      "image 128/504 E:\\University\\PythonProject\\UltralyticsPotholes\\potholes\\part6\\no0oge1z.jpg: 256x640 11 potholess, 77.8ms\n",
      "image 129/504 E:\\University\\PythonProject\\UltralyticsPotholes\\potholes\\part6\\no4b9957.jpg: 448x640 2 potholess, 18.9ms\n",
      "image 130/504 E:\\University\\PythonProject\\UltralyticsPotholes\\potholes\\part6\\no5npo09.jpg: 640x544 (no detections), 19.9ms\n",
      "image 131/504 E:\\University\\PythonProject\\UltralyticsPotholes\\potholes\\part6\\no6pc45v.jpg: 256x640 3 potholess, 13.0ms\n",
      "image 132/504 E:\\University\\PythonProject\\UltralyticsPotholes\\potholes\\part6\\nogexc19.jpg: 448x640 4 potholess, 20.9ms\n",
      "image 133/504 E:\\University\\PythonProject\\UltralyticsPotholes\\potholes\\part6\\nohaev5s.jpg: 640x480 5 potholess, 19.9ms\n",
      "image 134/504 E:\\University\\PythonProject\\UltralyticsPotholes\\potholes\\part6\\np66k3ui.jpg: 640x480 2 potholess, 18.0ms\n",
      "image 135/504 E:\\University\\PythonProject\\UltralyticsPotholes\\potholes\\part6\\npeq7ijo.jpg: 448x640 6 potholess, 20.9ms\n",
      "image 136/504 E:\\University\\PythonProject\\UltralyticsPotholes\\potholes\\part6\\nppn2bam.jpg: 416x640 (no detections), 21.9ms\n",
      "image 137/504 E:\\University\\PythonProject\\UltralyticsPotholes\\potholes\\part6\\nq10hpzu.jpg: 640x640 1 potholes, 24.9ms\n",
      "image 138/504 E:\\University\\PythonProject\\UltralyticsPotholes\\potholes\\part6\\nq4fwba4.jpg: 480x640 (no detections), 21.9ms\n",
      "image 139/504 E:\\University\\PythonProject\\UltralyticsPotholes\\potholes\\part6\\nq9vyhmg.jpg: 384x640 1 potholes, 17.0ms\n",
      "image 140/504 E:\\University\\PythonProject\\UltralyticsPotholes\\potholes\\part6\\nqgszfl6.jpg: 448x640 2 potholess, 21.9ms\n",
      "image 141/504 E:\\University\\PythonProject\\UltralyticsPotholes\\potholes\\part6\\nqkjhr3j.jpg: 480x640 (no detections), 19.9ms\n",
      "image 142/504 E:\\University\\PythonProject\\UltralyticsPotholes\\potholes\\part6\\nqooydcy.jpg: 320x640 9 potholess, 15.0ms\n",
      "image 143/504 E:\\University\\PythonProject\\UltralyticsPotholes\\potholes\\part6\\nqq38kd2.jpg: 448x640 1 potholes, 20.9ms\n",
      "image 144/504 E:\\University\\PythonProject\\UltralyticsPotholes\\potholes\\part6\\nr6x17gv.jpg: 448x640 6 potholess, 19.9ms\n",
      "image 145/504 E:\\University\\PythonProject\\UltralyticsPotholes\\potholes\\part6\\nrg35f4q.jpg: 448x640 19 potholess, 19.9ms\n",
      "image 146/504 E:\\University\\PythonProject\\UltralyticsPotholes\\potholes\\part6\\nrjkhwc3.jpg: 384x640 3 potholess, 16.0ms\n",
      "image 147/504 E:\\University\\PythonProject\\UltralyticsPotholes\\potholes\\part6\\nrpggi6q.jpg: 448x640 2 potholess, 21.9ms\n",
      "image 148/504 E:\\University\\PythonProject\\UltralyticsPotholes\\potholes\\part6\\ns0q68kt.jpg: 480x640 4 potholess, 20.9ms\n",
      "image 149/504 E:\\University\\PythonProject\\UltralyticsPotholes\\potholes\\part6\\nsmynxdi.jpg: 384x640 3 potholess, 17.0ms\n",
      "image 150/504 E:\\University\\PythonProject\\UltralyticsPotholes\\potholes\\part6\\nsqow5jj.jpg: 384x640 3 potholess, 16.0ms\n",
      "image 151/504 E:\\University\\PythonProject\\UltralyticsPotholes\\potholes\\part6\\ntc1lu8f.jpg: 448x640 (no detections), 21.9ms\n",
      "image 152/504 E:\\University\\PythonProject\\UltralyticsPotholes\\potholes\\part6\\nunf6eid.jpg: 480x640 4 potholess, 21.9ms\n",
      "image 153/504 E:\\University\\PythonProject\\UltralyticsPotholes\\potholes\\part6\\nveg7klg.jpg: 448x640 1 potholes, 20.9ms\n",
      "image 154/504 E:\\University\\PythonProject\\UltralyticsPotholes\\potholes\\part6\\nvgy45mq.jpg: 640x640 2 potholess, 23.9ms\n",
      "image 155/504 E:\\University\\PythonProject\\UltralyticsPotholes\\potholes\\part6\\nvgzb2gp.jpg: 448x640 5 potholess, 20.9ms\n",
      "image 156/504 E:\\University\\PythonProject\\UltralyticsPotholes\\potholes\\part6\\nvswuvw3.jpg: 352x640 1 potholes, 16.0ms\n",
      "image 157/504 E:\\University\\PythonProject\\UltralyticsPotholes\\potholes\\part6\\nw8h396m.jpg: 448x640 1 potholes, 20.9ms\n",
      "image 158/504 E:\\University\\PythonProject\\UltralyticsPotholes\\potholes\\part6\\nwc9rx97.jpg: 640x640 (no detections), 23.9ms\n",
      "image 159/504 E:\\University\\PythonProject\\UltralyticsPotholes\\potholes\\part6\\nwle4snl.jpg: 480x640 2 potholess, 21.9ms\n",
      "image 160/504 E:\\University\\PythonProject\\UltralyticsPotholes\\potholes\\part6\\nx1upda8.jpg: 640x640 3 potholess, 22.9ms\n",
      "image 161/504 E:\\University\\PythonProject\\UltralyticsPotholes\\potholes\\part6\\nx4r7kg5.jpg: 544x640 5 potholess, 68.8ms\n",
      "image 162/504 E:\\University\\PythonProject\\UltralyticsPotholes\\potholes\\part6\\nx7o7rai.jpg: 416x640 1 potholes, 19.9ms\n",
      "image 163/504 E:\\University\\PythonProject\\UltralyticsPotholes\\potholes\\part6\\nx9sgo6b.jpg: 640x480 (no detections), 19.9ms\n",
      "image 164/504 E:\\University\\PythonProject\\UltralyticsPotholes\\potholes\\part6\\nyf0qfue.jpg: 352x640 3 potholess, 15.0ms\n",
      "image 165/504 E:\\University\\PythonProject\\UltralyticsPotholes\\potholes\\part6\\nykci87t.jpg: 384x640 1 potholes, 16.0ms\n",
      "image 166/504 E:\\University\\PythonProject\\UltralyticsPotholes\\potholes\\part6\\nyof0baw.jpg: 448x640 (no detections), 21.9ms\n",
      "image 167/504 E:\\University\\PythonProject\\UltralyticsPotholes\\potholes\\part6\\nzij0tbb.jpg: 384x640 4 potholess, 17.0ms\n",
      "image 168/504 E:\\University\\PythonProject\\UltralyticsPotholes\\potholes\\part6\\o05sh3mr.jpg: 320x640 3 potholess, 16.0ms\n",
      "image 169/504 E:\\University\\PythonProject\\UltralyticsPotholes\\potholes\\part6\\o0hq9n5s.jpg: 480x640 1 potholes, 21.9ms\n",
      "image 170/504 E:\\University\\PythonProject\\UltralyticsPotholes\\potholes\\part6\\o1kkydt5.jpg: 448x640 4 potholess, 20.9ms\n",
      "image 171/504 E:\\University\\PythonProject\\UltralyticsPotholes\\potholes\\part6\\o1q2mt38.jpg: 448x640 1 potholes, 19.9ms\n",
      "image 172/504 E:\\University\\PythonProject\\UltralyticsPotholes\\potholes\\part6\\o1veiqbq.jpg: 384x640 (no detections), 16.0ms\n",
      "image 173/504 E:\\University\\PythonProject\\UltralyticsPotholes\\potholes\\part6\\o241otwu.jpg: 352x640 1 potholes, 16.9ms\n",
      "image 174/504 E:\\University\\PythonProject\\UltralyticsPotholes\\potholes\\part6\\o3doiyeu.jpg: 448x640 4 potholess, 20.9ms\n",
      "image 175/504 E:\\University\\PythonProject\\UltralyticsPotholes\\potholes\\part6\\o3frxtwf.jpg: 480x640 1 potholes, 22.9ms\n",
      "image 176/504 E:\\University\\PythonProject\\UltralyticsPotholes\\potholes\\part6\\o4erexbv.jpg: 640x480 1 potholes, 19.9ms\n",
      "image 177/504 E:\\University\\PythonProject\\UltralyticsPotholes\\potholes\\part6\\o5nmijpq.jpg: 384x640 2 potholess, 17.0ms\n",
      "image 178/504 E:\\University\\PythonProject\\UltralyticsPotholes\\potholes\\part6\\o5vejhzc.jpg: 384x640 2 potholess, 16.0ms\n",
      "image 179/504 E:\\University\\PythonProject\\UltralyticsPotholes\\potholes\\part6\\o67e69gd.jpg: 384x640 3 potholess, 17.0ms\n",
      "image 180/504 E:\\University\\PythonProject\\UltralyticsPotholes\\potholes\\part6\\o6dkys43.jpg: 448x640 2 potholess, 19.9ms\n",
      "image 181/504 E:\\University\\PythonProject\\UltralyticsPotholes\\potholes\\part6\\o8jf6iuq.jpg: 384x640 1 potholes, 16.0ms\n",
      "image 182/504 E:\\University\\PythonProject\\UltralyticsPotholes\\potholes\\part6\\o8ln3equ.jpg: 384x640 (no detections), 16.0ms\n",
      "image 183/504 E:\\University\\PythonProject\\UltralyticsPotholes\\potholes\\part6\\o8wo92ss.jpg: 480x640 3 potholess, 22.9ms\n",
      "image 184/504 E:\\University\\PythonProject\\UltralyticsPotholes\\potholes\\part6\\o922sjdo.jpg: 640x448 1 potholes, 81.8ms\n",
      "image 185/504 E:\\University\\PythonProject\\UltralyticsPotholes\\potholes\\part6\\oa9asnbj.jpg: 384x640 3 potholess, 17.0ms\n",
      "image 186/504 E:\\University\\PythonProject\\UltralyticsPotholes\\potholes\\part6\\oasfdiam.jpg: 416x640 1 potholes, 20.9ms\n",
      "image 187/504 E:\\University\\PythonProject\\UltralyticsPotholes\\potholes\\part6\\obd2s9o8.jpg: 512x640 (no detections), 20.9ms\n",
      "image 188/504 E:\\University\\PythonProject\\UltralyticsPotholes\\potholes\\part6\\objbbm7v.jpg: 448x640 (no detections), 19.9ms\n",
      "image 189/504 E:\\University\\PythonProject\\UltralyticsPotholes\\potholes\\part6\\ocbhu5ak.jpg: 384x640 10 potholess, 16.0ms\n",
      "image 190/504 E:\\University\\PythonProject\\UltralyticsPotholes\\potholes\\part6\\ocli2m41.jpg: 448x640 (no detections), 21.9ms\n",
      "image 191/504 E:\\University\\PythonProject\\UltralyticsPotholes\\potholes\\part6\\ocq54qq6.jpg: 480x640 1 potholes, 21.9ms\n",
      "image 192/504 E:\\University\\PythonProject\\UltralyticsPotholes\\potholes\\part6\\ocu3onk7.jpg: 448x640 (no detections), 21.9ms\n",
      "image 193/504 E:\\University\\PythonProject\\UltralyticsPotholes\\potholes\\part6\\ocxd6up4.jpg: 448x640 1 potholes, 21.9ms\n",
      "image 194/504 E:\\University\\PythonProject\\UltralyticsPotholes\\potholes\\part6\\od0hd4s9.jpg: 640x640 1 potholes, 23.9ms\n",
      "image 195/504 E:\\University\\PythonProject\\UltralyticsPotholes\\potholes\\part6\\odetgi49.jpg: 480x640 3 potholess, 20.9ms\n",
      "image 196/504 E:\\University\\PythonProject\\UltralyticsPotholes\\potholes\\part6\\odh2wqz8.jpg: 256x640 11 potholess, 13.0ms\n",
      "image 197/504 E:\\University\\PythonProject\\UltralyticsPotholes\\potholes\\part6\\odjnid1p.jpg: 512x640 1 potholes, 20.9ms\n",
      "image 198/504 E:\\University\\PythonProject\\UltralyticsPotholes\\potholes\\part6\\odq5n2my.jpg: 352x640 3 potholess, 17.0ms\n",
      "image 199/504 E:\\University\\PythonProject\\UltralyticsPotholes\\potholes\\part6\\odq93ehg.jpg: 448x640 3 potholess, 19.9ms\n",
      "image 200/504 E:\\University\\PythonProject\\UltralyticsPotholes\\potholes\\part6\\oe14zud1.jpg: 352x640 2 potholess, 17.0ms\n",
      "image 201/504 E:\\University\\PythonProject\\UltralyticsPotholes\\potholes\\part6\\oe4oue0k.jpg: 448x640 6 potholess, 21.9ms\n",
      "image 202/504 E:\\University\\PythonProject\\UltralyticsPotholes\\potholes\\part6\\oemslx2k.jpg: 384x640 (no detections), 17.0ms\n",
      "image 203/504 E:\\University\\PythonProject\\UltralyticsPotholes\\potholes\\part6\\oesxclc2.jpg: 448x640 (no detections), 20.9ms\n",
      "image 204/504 E:\\University\\PythonProject\\UltralyticsPotholes\\potholes\\part6\\of3sy75c.jpg: 480x640 7 potholess, 22.9ms\n",
      "image 205/504 E:\\University\\PythonProject\\UltralyticsPotholes\\potholes\\part6\\of8zc3cs.jpg: 352x640 3 potholess, 86.8ms\n",
      "image 206/504 E:\\University\\PythonProject\\UltralyticsPotholes\\potholes\\part6\\ofkqcv13.jpg: 640x480 2 potholess, 19.9ms\n",
      "image 207/504 E:\\University\\PythonProject\\UltralyticsPotholes\\potholes\\part6\\ofo1hbhc.jpg: 480x640 (no detections), 21.9ms\n",
      "image 208/504 E:\\University\\PythonProject\\UltralyticsPotholes\\potholes\\part6\\ofqchisn.jpg: 480x640 2 potholess, 20.9ms\n",
      "image 209/504 E:\\University\\PythonProject\\UltralyticsPotholes\\potholes\\part6\\og7axqi8.jpg: 448x640 1 potholes, 21.9ms\n",
      "image 210/504 E:\\University\\PythonProject\\UltralyticsPotholes\\potholes\\part6\\ogfccqrz.jpg: 640x640 (no detections), 23.9ms\n",
      "image 211/504 E:\\University\\PythonProject\\UltralyticsPotholes\\potholes\\part6\\ogowc2fc.jpg: 384x640 (no detections), 17.0ms\n",
      "image 212/504 E:\\University\\PythonProject\\UltralyticsPotholes\\potholes\\part6\\ogr2rlqu.jpg: 640x480 7 potholess, 19.9ms\n",
      "image 213/504 E:\\University\\PythonProject\\UltralyticsPotholes\\potholes\\part6\\ogsmumc3.jpg: 384x640 1 potholes, 16.0ms\n",
      "image 214/504 E:\\University\\PythonProject\\UltralyticsPotholes\\potholes\\part6\\ogwgioyt.jpg: 480x640 7 potholess, 21.9ms\n",
      "image 215/504 E:\\University\\PythonProject\\UltralyticsPotholes\\potholes\\part6\\ohbe5z93.jpg: 480x640 1 potholes, 21.9ms\n",
      "image 216/504 E:\\University\\PythonProject\\UltralyticsPotholes\\potholes\\part6\\ohjo1vld.jpg: 384x640 11 potholess, 16.0ms\n",
      "image 217/504 E:\\University\\PythonProject\\UltralyticsPotholes\\potholes\\part6\\ohy5y707.jpg: 640x480 1 potholes, 19.9ms\n",
      "image 218/504 E:\\University\\PythonProject\\UltralyticsPotholes\\potholes\\part6\\ohyyhrqd.jpg: 480x640 5 potholess, 20.9ms\n",
      "image 219/504 E:\\University\\PythonProject\\UltralyticsPotholes\\potholes\\part6\\oi3iwevb.jpg: 384x640 1 potholes, 16.0ms\n",
      "image 220/504 E:\\University\\PythonProject\\UltralyticsPotholes\\potholes\\part6\\oi4lw0pu.jpg: 640x480 (no detections), 19.9ms\n",
      "image 221/504 E:\\University\\PythonProject\\UltralyticsPotholes\\potholes\\part6\\oj0eiw8e.jpg: 480x640 1 potholes, 23.9ms\n",
      "image 222/504 E:\\University\\PythonProject\\UltralyticsPotholes\\potholes\\part6\\ojb19oce.jpg: 448x640 3 potholess, 21.9ms\n",
      "image 223/504 E:\\University\\PythonProject\\UltralyticsPotholes\\potholes\\part6\\ojeo9962.jpg: 384x640 2 potholess, 17.0ms\n",
      "image 224/504 E:\\University\\PythonProject\\UltralyticsPotholes\\potholes\\part6\\ojfw06uc.jpg: 384x640 (no detections), 16.0ms\n",
      "image 225/504 E:\\University\\PythonProject\\UltralyticsPotholes\\potholes\\part6\\ok1d4zge.jpg: 352x640 2 potholess, 17.0ms\n",
      "image 226/504 E:\\University\\PythonProject\\UltralyticsPotholes\\potholes\\part6\\ok7y41sj.jpg: 384x640 2 potholess, 16.0ms\n",
      "image 227/504 E:\\University\\PythonProject\\UltralyticsPotholes\\potholes\\part6\\oku1e9f5.jpg: 448x640 1 potholes, 19.9ms\n",
      "image 228/504 E:\\University\\PythonProject\\UltralyticsPotholes\\potholes\\part6\\okx63vkj.jpg: 640x640 (no detections), 24.9ms\n",
      "image 229/504 E:\\University\\PythonProject\\UltralyticsPotholes\\potholes\\part6\\okze17qd.jpg: 640x384 (no detections), 75.8ms\n",
      "image 230/504 E:\\University\\PythonProject\\UltralyticsPotholes\\potholes\\part6\\okzjhxl2.jpg: 384x640 1 potholes, 16.0ms\n",
      "image 231/504 E:\\University\\PythonProject\\UltralyticsPotholes\\potholes\\part6\\ol5asdgv.jpg: 640x640 1 potholes, 23.9ms\n",
      "image 232/504 E:\\University\\PythonProject\\UltralyticsPotholes\\potholes\\part6\\olgkxw8d.jpg: 416x640 (no detections), 21.9ms\n",
      "image 233/504 E:\\University\\PythonProject\\UltralyticsPotholes\\potholes\\part6\\om0b1721.jpg: 480x640 1 potholes, 22.9ms\n",
      "image 234/504 E:\\University\\PythonProject\\UltralyticsPotholes\\potholes\\part6\\om7my744.jpg: 448x640 2 potholess, 21.9ms\n",
      "image 235/504 E:\\University\\PythonProject\\UltralyticsPotholes\\potholes\\part6\\om8l2k2s.jpg: 640x576 (no detections), 71.8ms\n",
      "image 236/504 E:\\University\\PythonProject\\UltralyticsPotholes\\potholes\\part6\\omlviibe.jpg: 320x640 8 potholess, 14.0ms\n",
      "image 237/504 E:\\University\\PythonProject\\UltralyticsPotholes\\potholes\\part6\\on4bvwb0.jpg: 640x480 3 potholess, 19.9ms\n",
      "image 238/504 E:\\University\\PythonProject\\UltralyticsPotholes\\potholes\\part6\\onc7stsr.jpg: 640x640 1 potholes, 23.9ms\n",
      "image 239/504 E:\\University\\PythonProject\\UltralyticsPotholes\\potholes\\part6\\onnsggo8.jpg: 448x640 5 potholess, 20.9ms\n",
      "image 240/504 E:\\University\\PythonProject\\UltralyticsPotholes\\potholes\\part6\\onxb0e8i.jpg: 352x640 4 potholess, 17.0ms\n",
      "image 241/504 E:\\University\\PythonProject\\UltralyticsPotholes\\potholes\\part6\\ony405na.jpg: 384x640 1 potholes, 17.0ms\n",
      "image 242/504 E:\\University\\PythonProject\\UltralyticsPotholes\\potholes\\part6\\oo0e4a88.jpg: 480x640 1 potholes, 20.9ms\n",
      "image 243/504 E:\\University\\PythonProject\\UltralyticsPotholes\\potholes\\part6\\ooobrtyu.jpg: 384x640 1 potholes, 15.0ms\n",
      "image 244/504 E:\\University\\PythonProject\\UltralyticsPotholes\\potholes\\part6\\ooou315z.jpg: 384x640 (no detections), 16.0ms\n",
      "image 245/504 E:\\University\\PythonProject\\UltralyticsPotholes\\potholes\\part6\\oor2n4h9.jpg: 384x640 (no detections), 15.0ms\n",
      "image 246/504 E:\\University\\PythonProject\\UltralyticsPotholes\\potholes\\part6\\oor9edde.jpg: 448x640 1 potholes, 20.9ms\n",
      "image 247/504 E:\\University\\PythonProject\\UltralyticsPotholes\\potholes\\part6\\op29otyq.jpg: 448x640 3 potholess, 19.9ms\n",
      "image 248/504 E:\\University\\PythonProject\\UltralyticsPotholes\\potholes\\part6\\opjh6j0s.jpg: 480x640 3 potholess, 21.9ms\n",
      "image 249/504 E:\\University\\PythonProject\\UltralyticsPotholes\\potholes\\part6\\opn0dho5.jpg: 640x480 (no detections), 18.9ms\n",
      "image 250/504 E:\\University\\PythonProject\\UltralyticsPotholes\\potholes\\part6\\opqzqv38.jpg: 384x640 3 potholess, 17.0ms\n",
      "image 251/504 E:\\University\\PythonProject\\UltralyticsPotholes\\potholes\\part6\\oqbi3lgd.jpg: 640x640 1 potholes, 24.9ms\n",
      "image 252/504 E:\\University\\PythonProject\\UltralyticsPotholes\\potholes\\part6\\oqh5qe99.jpg: 640x480 1 potholes, 18.9ms\n",
      "image 253/504 E:\\University\\PythonProject\\UltralyticsPotholes\\potholes\\part6\\oqvu6hc9.jpg: 480x640 3 potholess, 21.9ms\n",
      "image 254/504 E:\\University\\PythonProject\\UltralyticsPotholes\\potholes\\part6\\or94msre.jpg: 448x640 5 potholess, 20.9ms\n",
      "image 255/504 E:\\University\\PythonProject\\UltralyticsPotholes\\potholes\\part6\\ore1fke4.jpg: 448x640 1 potholes, 20.9ms\n",
      "image 256/504 E:\\University\\PythonProject\\UltralyticsPotholes\\potholes\\part6\\orj0h3dt.jpg: 480x640 1 potholes, 21.9ms\n",
      "image 257/504 E:\\University\\PythonProject\\UltralyticsPotholes\\potholes\\part6\\orqps8o4.jpg: 640x640 2 potholess, 23.9ms\n",
      "image 258/504 E:\\University\\PythonProject\\UltralyticsPotholes\\potholes\\part6\\ors2bty5.jpg: 448x640 1 potholes, 19.9ms\n",
      "image 259/504 E:\\University\\PythonProject\\UltralyticsPotholes\\potholes\\part6\\orsztmtq.jpg: 480x640 2 potholess, 22.9ms\n",
      "image 260/504 E:\\University\\PythonProject\\UltralyticsPotholes\\potholes\\part6\\osecdvjk.jpg: 416x640 1 potholes, 21.9ms\n",
      "image 261/504 E:\\University\\PythonProject\\UltralyticsPotholes\\potholes\\part6\\osw4wh11.jpg: 448x640 3 potholess, 21.9ms\n",
      "image 262/504 E:\\University\\PythonProject\\UltralyticsPotholes\\potholes\\part6\\oszfjvg6.jpg: 640x640 1 potholes, 23.9ms\n",
      "image 263/504 E:\\University\\PythonProject\\UltralyticsPotholes\\potholes\\part6\\ot5fivkg.jpg: 480x640 (no detections), 21.9ms\n",
      "image 264/504 E:\\University\\PythonProject\\UltralyticsPotholes\\potholes\\part6\\ot6tsvc9.jpg: 384x640 1 potholes, 17.0ms\n",
      "image 265/504 E:\\University\\PythonProject\\UltralyticsPotholes\\potholes\\part6\\ot872fb5.jpg: 480x640 (no detections), 20.9ms\n",
      "image 266/504 E:\\University\\PythonProject\\UltralyticsPotholes\\potholes\\part6\\ot8t8sak.jpg: 352x640 (no detections), 16.0ms\n",
      "image 267/504 E:\\University\\PythonProject\\UltralyticsPotholes\\potholes\\part6\\otbtkk4w.jpg: 352x640 19 potholess, 16.0ms\n",
      "image 268/504 E:\\University\\PythonProject\\UltralyticsPotholes\\potholes\\part6\\otkm34v4.jpg: 448x640 (no detections), 21.9ms\n",
      "image 269/504 E:\\University\\PythonProject\\UltralyticsPotholes\\potholes\\part6\\otm6vzgq.jpg: 384x640 1 potholes, 16.0ms\n",
      "image 270/504 E:\\University\\PythonProject\\UltralyticsPotholes\\potholes\\part6\\ou1gdmze.jpg: 448x640 3 potholess, 19.9ms\n",
      "image 271/504 E:\\University\\PythonProject\\UltralyticsPotholes\\potholes\\part6\\ou8epq0y.jpg: 480x640 3 potholess, 20.9ms\n",
      "image 272/504 E:\\University\\PythonProject\\UltralyticsPotholes\\potholes\\part6\\oubhb4fp.jpg: 384x640 (no detections), 18.0ms\n",
      "image 273/504 E:\\University\\PythonProject\\UltralyticsPotholes\\potholes\\part6\\oudzoda6.jpg: 384x640 11 potholess, 16.0ms\n",
      "image 274/504 E:\\University\\PythonProject\\UltralyticsPotholes\\potholes\\part6\\ouexjxjw.jpg: 480x640 1 potholes, 21.9ms\n",
      "image 275/504 E:\\University\\PythonProject\\UltralyticsPotholes\\potholes\\part6\\ouz6q9mo.jpg: 352x640 5 potholess, 16.0ms\n",
      "image 276/504 E:\\University\\PythonProject\\UltralyticsPotholes\\potholes\\part6\\ov1t7y01.jpg: 640x640 1 potholes, 22.9ms\n",
      "image 277/504 E:\\University\\PythonProject\\UltralyticsPotholes\\potholes\\part6\\ovac70ix.jpg: 384x640 1 potholes, 17.0ms\n",
      "image 278/504 E:\\University\\PythonProject\\UltralyticsPotholes\\potholes\\part6\\ovbi0eld.jpg: 384x640 5 potholess, 16.0ms\n",
      "image 279/504 E:\\University\\PythonProject\\UltralyticsPotholes\\potholes\\part6\\ovbzxa60.jpg: 448x640 3 potholess, 19.9ms\n",
      "image 280/504 E:\\University\\PythonProject\\UltralyticsPotholes\\potholes\\part6\\ovce6xxm.jpg: 384x640 6 potholess, 17.0ms\n",
      "image 281/504 E:\\University\\PythonProject\\UltralyticsPotholes\\potholes\\part6\\owlh17ez.jpg: 384x640 1 potholes, 15.0ms\n",
      "image 282/504 E:\\University\\PythonProject\\UltralyticsPotholes\\potholes\\part6\\ownaprka.jpg: 448x640 (no detections), 19.9ms\n",
      "image 283/504 E:\\University\\PythonProject\\UltralyticsPotholes\\potholes\\part6\\oxdjb0ie.jpg: 448x640 1 potholes, 20.9ms\n",
      "image 284/504 E:\\University\\PythonProject\\UltralyticsPotholes\\potholes\\part6\\oy89penr.jpg: 448x640 2 potholess, 19.9ms\n",
      "image 285/504 E:\\University\\PythonProject\\UltralyticsPotholes\\potholes\\part6\\oz3196og.jpg: 480x640 3 potholess, 22.9ms\n",
      "image 286/504 E:\\University\\PythonProject\\UltralyticsPotholes\\potholes\\part6\\oz4ztmck.jpg: 640x384 (no detections), 16.0ms\n",
      "image 287/504 E:\\University\\PythonProject\\UltralyticsPotholes\\potholes\\part6\\oz5f1q1f.jpg: 448x640 2 potholess, 21.9ms\n",
      "image 288/504 E:\\University\\PythonProject\\UltralyticsPotholes\\potholes\\part6\\ozma5fn3.jpg: 384x640 2 potholess, 18.0ms\n",
      "image 289/504 E:\\University\\PythonProject\\UltralyticsPotholes\\potholes\\part6\\ozyorkia.jpg: 416x640 (no detections), 20.9ms\n",
      "image 290/504 E:\\University\\PythonProject\\UltralyticsPotholes\\potholes\\part6\\p0ce3t4j.jpg: 448x640 (no detections), 20.9ms\n",
      "image 291/504 E:\\University\\PythonProject\\UltralyticsPotholes\\potholes\\part6\\p0fy9ex3.jpg: 384x640 1 potholes, 17.0ms\n",
      "image 292/504 E:\\University\\PythonProject\\UltralyticsPotholes\\potholes\\part6\\p0g5kplc.jpg: 352x640 2 potholess, 16.0ms\n",
      "image 293/504 E:\\University\\PythonProject\\UltralyticsPotholes\\potholes\\part6\\p0rly1ap.jpg: 448x640 3 potholess, 20.0ms\n",
      "image 294/504 E:\\University\\PythonProject\\UltralyticsPotholes\\potholes\\part6\\p1bsn9ra.jpg: 448x640 7 potholess, 19.9ms\n",
      "image 295/504 E:\\University\\PythonProject\\UltralyticsPotholes\\potholes\\part6\\p1tamqkm.jpg: 640x640 3 potholess, 24.9ms\n",
      "image 296/504 E:\\University\\PythonProject\\UltralyticsPotholes\\potholes\\part6\\p1xykqxz.jpg: 352x640 5 potholess, 17.0ms\n",
      "image 297/504 E:\\University\\PythonProject\\UltralyticsPotholes\\potholes\\part6\\p2c94akc.jpg: 448x640 1 potholes, 20.9ms\n",
      "image 298/504 E:\\University\\PythonProject\\UltralyticsPotholes\\potholes\\part6\\p2d7i4ak.jpg: 640x640 3 potholess, 22.9ms\n",
      "image 299/504 E:\\University\\PythonProject\\UltralyticsPotholes\\potholes\\part6\\p2kom5m8.jpg: 640x480 1 potholes, 19.0ms\n",
      "image 300/504 E:\\University\\PythonProject\\UltralyticsPotholes\\potholes\\part6\\p2udihz4.jpg: 352x640 (no detections), 15.0ms\n",
      "image 301/504 E:\\University\\PythonProject\\UltralyticsPotholes\\potholes\\part6\\p38lg2x7.jpg: 640x512 6 potholess, 19.9ms\n",
      "image 302/504 E:\\University\\PythonProject\\UltralyticsPotholes\\potholes\\part6\\p3vdvr5x.jpg: 448x640 2 potholess, 20.9ms\n",
      "image 303/504 E:\\University\\PythonProject\\UltralyticsPotholes\\potholes\\part6\\p4046n1e.jpg: 352x640 (no detections), 18.0ms\n",
      "image 304/504 E:\\University\\PythonProject\\UltralyticsPotholes\\potholes\\part6\\p492marf.jpg: 640x512 (no detections), 20.9ms\n",
      "image 305/504 E:\\University\\PythonProject\\UltralyticsPotholes\\potholes\\part6\\p4xiomrk.jpg: 320x640 9 potholess, 16.0ms\n",
      "image 306/504 E:\\University\\PythonProject\\UltralyticsPotholes\\potholes\\part6\\p55fqkwb.jpg: 448x640 6 potholess, 20.9ms\n",
      "image 307/504 E:\\University\\PythonProject\\UltralyticsPotholes\\potholes\\part6\\p5x2g3uw.jpg: 384x640 (no detections), 16.0ms\n",
      "image 308/504 E:\\University\\PythonProject\\UltralyticsPotholes\\potholes\\part6\\p67gt097.jpg: 640x512 1 potholes, 19.9ms\n",
      "image 309/504 E:\\University\\PythonProject\\UltralyticsPotholes\\potholes\\part6\\p6p1pkja.jpg: 384x640 (no detections), 17.0ms\n",
      "image 310/504 E:\\University\\PythonProject\\UltralyticsPotholes\\potholes\\part6\\p7hkinbn.jpg: 384x640 2 potholess, 16.0ms\n",
      "image 311/504 E:\\University\\PythonProject\\UltralyticsPotholes\\potholes\\part6\\p8gxsvy4.jpg: 640x512 4 potholess, 20.9ms\n",
      "image 312/504 E:\\University\\PythonProject\\UltralyticsPotholes\\potholes\\part6\\p8j7hbob.jpg: 640x640 1 potholes, 22.9ms\n",
      "image 313/504 E:\\University\\PythonProject\\UltralyticsPotholes\\potholes\\part6\\p9c8u6pa.jpg: 448x640 1 potholes, 21.9ms\n",
      "image 314/504 E:\\University\\PythonProject\\UltralyticsPotholes\\potholes\\part6\\p9enf7hb.jpg: 416x640 (no detections), 20.9ms\n",
      "image 315/504 E:\\University\\PythonProject\\UltralyticsPotholes\\potholes\\part6\\p9ni665m.jpg: 480x640 3 potholess, 22.9ms\n",
      "image 316/504 E:\\University\\PythonProject\\UltralyticsPotholes\\potholes\\part6\\p9ytpe7r.jpg: 480x640 2 potholess, 21.9ms\n",
      "image 317/504 E:\\University\\PythonProject\\UltralyticsPotholes\\potholes\\part6\\pa6f8805.jpg: 320x640 1 potholes, 16.0ms\n",
      "image 318/504 E:\\University\\PythonProject\\UltralyticsPotholes\\potholes\\part6\\pa8y8wkg.jpg: 384x640 4 potholess, 17.0ms\n",
      "image 319/504 E:\\University\\PythonProject\\UltralyticsPotholes\\potholes\\part6\\paqmu489.jpg: 480x640 (no detections), 20.9ms\n",
      "image 320/504 E:\\University\\PythonProject\\UltralyticsPotholes\\potholes\\part6\\pb7t6uq0.jpg: 384x640 3 potholess, 16.9ms\n",
      "image 321/504 E:\\University\\PythonProject\\UltralyticsPotholes\\potholes\\part6\\pbgqegd5.jpg: 384x640 1 potholes, 16.0ms\n",
      "image 322/504 E:\\University\\PythonProject\\UltralyticsPotholes\\potholes\\part6\\pbim1pwd.jpg: 448x640 1 potholes, 20.9ms\n",
      "image 323/504 E:\\University\\PythonProject\\UltralyticsPotholes\\potholes\\part6\\pbqirl5l.jpg: 448x640 (no detections), 18.9ms\n",
      "image 324/504 E:\\University\\PythonProject\\UltralyticsPotholes\\potholes\\part6\\pbwrgm38.jpg: 384x640 1 potholes, 17.0ms\n",
      "image 325/504 E:\\University\\PythonProject\\UltralyticsPotholes\\potholes\\part6\\pbyctoh7.jpg: 352x640 1 potholes, 18.0ms\n",
      "image 326/504 E:\\University\\PythonProject\\UltralyticsPotholes\\potholes\\part6\\pcajvkpq.jpg: 384x640 2 potholess, 18.0ms\n",
      "image 327/504 E:\\University\\PythonProject\\UltralyticsPotholes\\potholes\\part6\\pcfllliw.jpg: 416x640 2 potholess, 20.9ms\n",
      "image 328/504 E:\\University\\PythonProject\\UltralyticsPotholes\\potholes\\part6\\pcyd90ze.jpg: 480x640 2 potholess, 22.9ms\n",
      "image 329/504 E:\\University\\PythonProject\\UltralyticsPotholes\\potholes\\part6\\pd1d1vhz.jpg: 640x480 2 potholess, 19.9ms\n",
      "image 330/504 E:\\University\\PythonProject\\UltralyticsPotholes\\potholes\\part6\\pd4pejku.jpg: 480x640 1 potholes, 21.9ms\n",
      "image 331/504 E:\\University\\PythonProject\\UltralyticsPotholes\\potholes\\part6\\pdfhdof1.jpg: 448x640 3 potholess, 20.9ms\n",
      "image 332/504 E:\\University\\PythonProject\\UltralyticsPotholes\\potholes\\part6\\pdg9ycqo.jpg: 480x640 (no detections), 21.9ms\n",
      "image 333/504 E:\\University\\PythonProject\\UltralyticsPotholes\\potholes\\part6\\pduujo79.jpg: 384x640 (no detections), 17.0ms\n",
      "image 334/504 E:\\University\\PythonProject\\UltralyticsPotholes\\potholes\\part6\\pfy7way2.jpg: 448x640 4 potholess, 19.9ms\n",
      "image 335/504 E:\\University\\PythonProject\\UltralyticsPotholes\\potholes\\part6\\pg0jptk2.jpg: 640x640 1 potholes, 22.9ms\n",
      "image 336/504 E:\\University\\PythonProject\\UltralyticsPotholes\\potholes\\part6\\pghxff6a.jpg: 416x640 (no detections), 19.9ms\n",
      "image 337/504 E:\\University\\PythonProject\\UltralyticsPotholes\\potholes\\part6\\pgy5xgax.jpg: 640x480 7 potholess, 19.0ms\n",
      "image 338/504 E:\\University\\PythonProject\\UltralyticsPotholes\\potholes\\part6\\pichqz0y.jpg: 480x640 5 potholess, 22.9ms\n",
      "image 339/504 E:\\University\\PythonProject\\UltralyticsPotholes\\potholes\\part6\\pio8kdnr.jpg: 480x640 1 potholes, 20.9ms\n",
      "image 340/504 E:\\University\\PythonProject\\UltralyticsPotholes\\potholes\\part6\\pivt3gzq.jpg: 480x640 2 potholess, 34.9ms\n",
      "image 341/504 E:\\University\\PythonProject\\UltralyticsPotholes\\potholes\\part6\\pj4xlkvz.jpg: 448x640 4 potholess, 39.9ms\n",
      "image 342/504 E:\\University\\PythonProject\\UltralyticsPotholes\\potholes\\part6\\pjiu5j40.jpg: 640x640 1 potholes, 47.9ms\n",
      "image 343/504 E:\\University\\PythonProject\\UltralyticsPotholes\\potholes\\part6\\pjv4pavz.jpg: 448x640 3 potholess, 33.9ms\n",
      "image 344/504 E:\\University\\PythonProject\\UltralyticsPotholes\\potholes\\part6\\pkc9po6t.jpg: 640x480 9 potholess, 32.9ms\n",
      "image 345/504 E:\\University\\PythonProject\\UltralyticsPotholes\\potholes\\part6\\pki51s55.jpg: 640x640 1 potholes, 41.9ms\n",
      "image 346/504 E:\\University\\PythonProject\\UltralyticsPotholes\\potholes\\part6\\pkjcdntq.jpg: 480x640 1 potholes, 37.9ms\n",
      "image 347/504 E:\\University\\PythonProject\\UltralyticsPotholes\\potholes\\part6\\pkodf351.jpg: 640x640 1 potholes, 39.9ms\n",
      "image 348/504 E:\\University\\PythonProject\\UltralyticsPotholes\\potholes\\part6\\pkrate04.jpg: 480x640 4 potholess, 26.9ms\n",
      "image 349/504 E:\\University\\PythonProject\\UltralyticsPotholes\\potholes\\part6\\plh7tfjd.jpg: 480x640 1 potholes, 25.9ms\n",
      "image 350/504 E:\\University\\PythonProject\\UltralyticsPotholes\\potholes\\part6\\pljkrd44.jpg: 384x640 3 potholess, 19.9ms\n",
      "image 351/504 E:\\University\\PythonProject\\UltralyticsPotholes\\potholes\\part6\\pllkzt21.jpg: 480x640 (no detections), 25.9ms\n",
      "image 352/504 E:\\University\\PythonProject\\UltralyticsPotholes\\potholes\\part6\\plwl2jbc.jpg: 480x640 1 potholes, 24.9ms\n",
      "image 353/504 E:\\University\\PythonProject\\UltralyticsPotholes\\potholes\\part6\\pm003fmy.jpg: 384x640 1 potholes, 19.9ms\n",
      "image 354/504 E:\\University\\PythonProject\\UltralyticsPotholes\\potholes\\part6\\pm7s3ne0.jpg: 448x640 1 potholes, 25.9ms\n",
      "image 355/504 E:\\University\\PythonProject\\UltralyticsPotholes\\potholes\\part6\\pmpisp2w.jpg: 384x640 1 potholes, 20.9ms\n",
      "image 356/504 E:\\University\\PythonProject\\UltralyticsPotholes\\potholes\\part6\\pn2moavz.jpg: 640x480 2 potholess, 23.9ms\n",
      "image 357/504 E:\\University\\PythonProject\\UltralyticsPotholes\\potholes\\part6\\pnv59gaz.jpg: 416x640 (no detections), 25.9ms\n",
      "image 358/504 E:\\University\\PythonProject\\UltralyticsPotholes\\potholes\\part6\\pnxxa03m.jpg: 640x640 (no detections), 29.9ms\n",
      "image 359/504 E:\\University\\PythonProject\\UltralyticsPotholes\\potholes\\part6\\poy3enbs.jpg: 448x640 4 potholess, 25.9ms\n",
      "image 360/504 E:\\University\\PythonProject\\UltralyticsPotholes\\potholes\\part6\\pp3eauz9.jpg: 480x640 3 potholess, 25.9ms\n",
      "image 361/504 E:\\University\\PythonProject\\UltralyticsPotholes\\potholes\\part6\\pp8lljp4.jpg: 640x640 2 potholess, 29.9ms\n",
      "image 362/504 E:\\University\\PythonProject\\UltralyticsPotholes\\potholes\\part6\\ppfajs4g.jpg: 480x640 2 potholess, 26.9ms\n",
      "image 363/504 E:\\University\\PythonProject\\UltralyticsPotholes\\potholes\\part6\\ppmx1uoo.jpg: 640x640 (no detections), 28.9ms\n",
      "image 364/504 E:\\University\\PythonProject\\UltralyticsPotholes\\potholes\\part6\\ppoe4gdx.jpg: 384x640 3 potholess, 17.0ms\n",
      "image 365/504 E:\\University\\PythonProject\\UltralyticsPotholes\\potholes\\part6\\pqfsafdx.jpg: 448x640 (no detections), 20.9ms\n",
      "image 366/504 E:\\University\\PythonProject\\UltralyticsPotholes\\potholes\\part6\\pqh2cdji.jpg: 384x640 1 potholes, 16.0ms\n",
      "image 367/504 E:\\University\\PythonProject\\UltralyticsPotholes\\potholes\\part6\\pqr1bgve.jpg: 640x640 3 potholess, 23.9ms\n",
      "image 368/504 E:\\University\\PythonProject\\UltralyticsPotholes\\potholes\\part6\\pr1rfadr.jpg: 480x640 1 potholes, 19.9ms\n",
      "image 369/504 E:\\University\\PythonProject\\UltralyticsPotholes\\potholes\\part6\\pr2qkary.jpg: 384x640 5 potholess, 17.0ms\n",
      "image 370/504 E:\\University\\PythonProject\\UltralyticsPotholes\\potholes\\part6\\pr3665q0.jpg: 480x640 1 potholes, 20.9ms\n",
      "image 371/504 E:\\University\\PythonProject\\UltralyticsPotholes\\potholes\\part6\\prf4ygfs.jpg: 384x640 (no detections), 16.0ms\n",
      "image 372/504 E:\\University\\PythonProject\\UltralyticsPotholes\\potholes\\part6\\prg0kx50.jpg: 448x640 1 potholes, 20.9ms\n",
      "image 373/504 E:\\University\\PythonProject\\UltralyticsPotholes\\potholes\\part6\\prgfoxo9.jpg: 480x640 1 potholes, 22.9ms\n",
      "image 374/504 E:\\University\\PythonProject\\UltralyticsPotholes\\potholes\\part6\\prwzmih4.jpg: 416x640 2 potholess, 21.9ms\n",
      "image 375/504 E:\\University\\PythonProject\\UltralyticsPotholes\\potholes\\part6\\ps0phcny.jpg: 384x640 1 potholes, 18.0ms\n",
      "image 376/504 E:\\University\\PythonProject\\UltralyticsPotholes\\potholes\\part6\\psptnmxv.jpg: 416x640 4 potholess, 20.9ms\n",
      "image 377/504 E:\\University\\PythonProject\\UltralyticsPotholes\\potholes\\part6\\psuhw6f2.jpg: 448x640 (no detections), 22.9ms\n",
      "image 378/504 E:\\University\\PythonProject\\UltralyticsPotholes\\potholes\\part6\\psw4z5rf.jpg: 448x640 3 potholess, 20.9ms\n",
      "image 379/504 E:\\University\\PythonProject\\UltralyticsPotholes\\potholes\\part6\\psztiazv.jpg: 384x640 2 potholess, 16.0ms\n",
      "image 380/504 E:\\University\\PythonProject\\UltralyticsPotholes\\potholes\\part6\\ptfjmwqz.jpg: 640x480 (no detections), 18.9ms\n",
      "image 381/504 E:\\University\\PythonProject\\UltralyticsPotholes\\potholes\\part6\\ptve0cgx.jpg: 320x640 3 potholess, 15.0ms\n",
      "image 382/504 E:\\University\\PythonProject\\UltralyticsPotholes\\potholes\\part6\\ptyiquo9.jpg: 480x640 (no detections), 21.9ms\n",
      "image 383/504 E:\\University\\PythonProject\\UltralyticsPotholes\\potholes\\part6\\pua0qrxn.jpg: 640x640 5 potholess, 25.9ms\n",
      "image 384/504 E:\\University\\PythonProject\\UltralyticsPotholes\\potholes\\part6\\puewlkl4.jpg: 640x640 3 potholess, 22.9ms\n",
      "image 385/504 E:\\University\\PythonProject\\UltralyticsPotholes\\potholes\\part6\\purrkt4a.jpg: 480x640 3 potholess, 21.9ms\n",
      "image 386/504 E:\\University\\PythonProject\\UltralyticsPotholes\\potholes\\part6\\pvcb7kna.jpg: 384x640 (no detections), 18.0ms\n",
      "image 387/504 E:\\University\\PythonProject\\UltralyticsPotholes\\potholes\\part6\\pvg9jcwz.jpg: 544x640 1 potholes, 21.9ms\n",
      "image 388/504 E:\\University\\PythonProject\\UltralyticsPotholes\\potholes\\part6\\pvi7fhiz.jpg: 640x384 (no detections), 16.0ms\n",
      "image 389/504 E:\\University\\PythonProject\\UltralyticsPotholes\\potholes\\part6\\pvvng8qe.jpg: 384x640 2 potholess, 17.0ms\n",
      "image 390/504 E:\\University\\PythonProject\\UltralyticsPotholes\\potholes\\part6\\pwd68ses.jpg: 480x640 1 potholes, 21.9ms\n",
      "image 391/504 E:\\University\\PythonProject\\UltralyticsPotholes\\potholes\\part6\\pwdunppu.jpg: 640x640 2 potholess, 22.9ms\n",
      "image 392/504 E:\\University\\PythonProject\\UltralyticsPotholes\\potholes\\part6\\pwrmd3qf.jpg: 480x640 2 potholess, 19.9ms\n",
      "image 393/504 E:\\University\\PythonProject\\UltralyticsPotholes\\potholes\\part6\\px0ktovx.jpg: 384x640 3 potholess, 16.0ms\n",
      "image 394/504 E:\\University\\PythonProject\\UltralyticsPotholes\\potholes\\part6\\pxv0th3l.jpg: 448x640 (no detections), 20.9ms\n",
      "image 395/504 E:\\University\\PythonProject\\UltralyticsPotholes\\potholes\\part6\\pxyvfqxq.jpg: 480x640 1 potholes, 21.9ms\n",
      "image 396/504 E:\\University\\PythonProject\\UltralyticsPotholes\\potholes\\part6\\py1ner8x.jpg: 640x640 3 potholess, 22.9ms\n",
      "image 397/504 E:\\University\\PythonProject\\UltralyticsPotholes\\potholes\\part6\\py2etngj.jpg: 448x640 (no detections), 19.9ms\n",
      "image 398/504 E:\\University\\PythonProject\\UltralyticsPotholes\\potholes\\part6\\pyopec3k.jpg: 640x640 (no detections), 23.9ms\n",
      "image 399/504 E:\\University\\PythonProject\\UltralyticsPotholes\\potholes\\part6\\pyqwox9f.jpg: 640x480 1 potholes, 19.9ms\n",
      "image 400/504 E:\\University\\PythonProject\\UltralyticsPotholes\\potholes\\part6\\pyw3vprp.jpg: 416x640 (no detections), 18.9ms\n",
      "image 401/504 E:\\University\\PythonProject\\UltralyticsPotholes\\potholes\\part6\\pyyxbjt9.jpg: 640x640 2 potholess, 24.9ms\n",
      "image 402/504 E:\\University\\PythonProject\\UltralyticsPotholes\\potholes\\part6\\pz4k18sy.jpg: 480x640 3 potholess, 20.9ms\n",
      "image 403/504 E:\\University\\PythonProject\\UltralyticsPotholes\\potholes\\part6\\pzdmb8y6.jpg: 288x640 (no detections), 76.8ms\n",
      "image 404/504 E:\\University\\PythonProject\\UltralyticsPotholes\\potholes\\part6\\pzj78gv6.jpg: 384x640 1 potholes, 16.0ms\n",
      "image 405/504 E:\\University\\PythonProject\\UltralyticsPotholes\\potholes\\part6\\pzpg0rgb.jpg: 480x640 1 potholes, 25.9ms\n",
      "image 406/504 E:\\University\\PythonProject\\UltralyticsPotholes\\potholes\\part6\\pztsm5ej.jpg: 384x640 (no detections), 18.9ms\n",
      "image 407/504 E:\\University\\PythonProject\\UltralyticsPotholes\\potholes\\part6\\pztunklz.jpg: 448x640 2 potholess, 23.9ms\n",
      "image 408/504 E:\\University\\PythonProject\\UltralyticsPotholes\\potholes\\part6\\q016fw4a.jpg: 320x640 4 potholess, 19.9ms\n",
      "image 409/504 E:\\University\\PythonProject\\UltralyticsPotholes\\potholes\\part6\\q053zd4w.jpg: 448x640 (no detections), 24.9ms\n",
      "image 410/504 E:\\University\\PythonProject\\UltralyticsPotholes\\potholes\\part6\\q075jgtc.jpg: 448x640 1 potholes, 22.9ms\n",
      "image 411/504 E:\\University\\PythonProject\\UltralyticsPotholes\\potholes\\part6\\q07xyecg.jpg: 384x640 6 potholess, 18.9ms\n",
      "image 412/504 E:\\University\\PythonProject\\UltralyticsPotholes\\potholes\\part6\\q0kdy026.jpg: 480x640 3 potholess, 24.9ms\n",
      "image 413/504 E:\\University\\PythonProject\\UltralyticsPotholes\\potholes\\part6\\q0kvvyii.jpg: 384x640 1 potholes, 18.9ms\n",
      "image 414/504 E:\\University\\PythonProject\\UltralyticsPotholes\\potholes\\part6\\q1f3n9o6.jpg: 640x640 1 potholes, 25.9ms\n",
      "image 415/504 E:\\University\\PythonProject\\UltralyticsPotholes\\potholes\\part6\\q2f8rywl.jpg: 640x640 (no detections), 25.9ms\n",
      "image 416/504 E:\\University\\PythonProject\\UltralyticsPotholes\\potholes\\part6\\q2pjk3mf.jpg: 640x512 (no detections), 21.9ms\n",
      "image 417/504 E:\\University\\PythonProject\\UltralyticsPotholes\\potholes\\part6\\q2u15k9h.jpg: 384x640 2 potholess, 17.0ms\n",
      "image 418/504 E:\\University\\PythonProject\\UltralyticsPotholes\\potholes\\part6\\q336geoj.jpg: 448x640 (no detections), 23.9ms\n",
      "image 419/504 E:\\University\\PythonProject\\UltralyticsPotholes\\potholes\\part6\\q3km3lib.jpg: 448x640 2 potholess, 21.9ms\n",
      "image 420/504 E:\\University\\PythonProject\\UltralyticsPotholes\\potholes\\part6\\q45gyxoe.jpg: 640x512 1 potholes, 21.9ms\n",
      "image 421/504 E:\\University\\PythonProject\\UltralyticsPotholes\\potholes\\part6\\q48bidyl.jpg: 352x640 2 potholess, 17.9ms\n",
      "image 422/504 E:\\University\\PythonProject\\UltralyticsPotholes\\potholes\\part6\\q4c5u82x.jpg: 384x640 (no detections), 17.0ms\n",
      "image 423/504 E:\\University\\PythonProject\\UltralyticsPotholes\\potholes\\part6\\q4c9v0wb.jpg: 448x640 1 potholes, 21.9ms\n",
      "image 424/504 E:\\University\\PythonProject\\UltralyticsPotholes\\potholes\\part6\\q4glcyu9.jpg: 384x640 (no detections), 18.9ms\n",
      "image 425/504 E:\\University\\PythonProject\\UltralyticsPotholes\\potholes\\part6\\q4nfmqzx.jpg: 384x640 (no detections), 17.0ms\n",
      "image 426/504 E:\\University\\PythonProject\\UltralyticsPotholes\\potholes\\part6\\q5byqlne.jpg: 384x640 3 potholess, 17.0ms\n",
      "image 427/504 E:\\University\\PythonProject\\UltralyticsPotholes\\potholes\\part6\\q63fjjfx.jpg: 448x640 (no detections), 21.9ms\n",
      "image 428/504 E:\\University\\PythonProject\\UltralyticsPotholes\\potholes\\part6\\q65x03v5.jpg: 640x640 1 potholes, 25.9ms\n",
      "image 429/504 E:\\University\\PythonProject\\UltralyticsPotholes\\potholes\\part6\\q6h57n8t.jpg: 480x640 1 potholes, 21.9ms\n",
      "image 430/504 E:\\University\\PythonProject\\UltralyticsPotholes\\potholes\\part6\\q6hgmz3z.jpg: 352x640 (no detections), 16.0ms\n",
      "image 431/504 E:\\University\\PythonProject\\UltralyticsPotholes\\potholes\\part6\\q7871ibl.jpg: 640x640 1 potholes, 22.9ms\n",
      "image 432/504 E:\\University\\PythonProject\\UltralyticsPotholes\\potholes\\part6\\q7r4no7a.jpg: 640x480 1 potholes, 19.9ms\n",
      "image 433/504 E:\\University\\PythonProject\\UltralyticsPotholes\\potholes\\part6\\q7zsyz28.jpg: 640x640 1 potholes, 23.9ms\n",
      "image 434/504 E:\\University\\PythonProject\\UltralyticsPotholes\\potholes\\part6\\q8ao09lo.jpg: 256x640 2 potholess, 14.0ms\n",
      "image 435/504 E:\\University\\PythonProject\\UltralyticsPotholes\\potholes\\part6\\q8s3ax2f.jpg: 448x640 2 potholess, 20.9ms\n",
      "image 436/504 E:\\University\\PythonProject\\UltralyticsPotholes\\potholes\\part6\\q8yi83m7.jpg: 448x640 1 potholes, 19.9ms\n",
      "image 437/504 E:\\University\\PythonProject\\UltralyticsPotholes\\potholes\\part6\\qa3p4hpc.jpg: 384x640 3 potholess, 18.0ms\n",
      "image 438/504 E:\\University\\PythonProject\\UltralyticsPotholes\\potholes\\part6\\qau7r55c.jpg: 480x640 2 potholess, 21.9ms\n",
      "image 439/504 E:\\University\\PythonProject\\UltralyticsPotholes\\potholes\\part6\\qb04k52a.jpg: 384x640 1 potholes, 18.0ms\n",
      "image 440/504 E:\\University\\PythonProject\\UltralyticsPotholes\\potholes\\part6\\qb69lo0u.jpg: 384x640 1 potholes, 16.0ms\n",
      "image 441/504 E:\\University\\PythonProject\\UltralyticsPotholes\\potholes\\part6\\qb6asyii.jpg: 320x640 2 potholess, 16.0ms\n",
      "image 442/504 E:\\University\\PythonProject\\UltralyticsPotholes\\potholes\\part6\\qbb5zrf4.jpg: 640x512 3 potholess, 20.9ms\n",
      "image 443/504 E:\\University\\PythonProject\\UltralyticsPotholes\\potholes\\part6\\qbkmxlgi.jpg: 480x640 1 potholes, 19.9ms\n",
      "image 444/504 E:\\University\\PythonProject\\UltralyticsPotholes\\potholes\\part6\\qc5fkjfd.jpg: 480x640 2 potholess, 19.9ms\n",
      "image 445/504 E:\\University\\PythonProject\\UltralyticsPotholes\\potholes\\part6\\qcmdwnty.jpg: 640x480 2 potholess, 19.9ms\n",
      "image 446/504 E:\\University\\PythonProject\\UltralyticsPotholes\\potholes\\part6\\qco3rmqn.jpg: 640x512 1 potholes, 18.9ms\n",
      "image 447/504 E:\\University\\PythonProject\\UltralyticsPotholes\\potholes\\part6\\qcuhx9dx.jpg: 384x640 1 potholes, 16.0ms\n",
      "image 448/504 E:\\University\\PythonProject\\UltralyticsPotholes\\potholes\\part6\\qekma0b2.jpg: 384x640 1 potholes, 16.0ms\n",
      "image 449/504 E:\\University\\PythonProject\\UltralyticsPotholes\\potholes\\part6\\qf0zpxus.jpg: 544x640 1 potholes, 22.9ms\n",
      "image 450/504 E:\\University\\PythonProject\\UltralyticsPotholes\\potholes\\part6\\qf2xlhuu.jpg: 448x640 1 potholes, 20.9ms\n",
      "image 451/504 E:\\University\\PythonProject\\UltralyticsPotholes\\potholes\\part6\\qf52pgbl.jpg: 384x640 (no detections), 17.0ms\n",
      "image 452/504 E:\\University\\PythonProject\\UltralyticsPotholes\\potholes\\part6\\qf5jaiyv.jpg: 384x640 1 potholes, 14.0ms\n",
      "image 453/504 E:\\University\\PythonProject\\UltralyticsPotholes\\potholes\\part6\\qfjdib2j.jpg: 480x640 (no detections), 21.9ms\n",
      "image 454/504 E:\\University\\PythonProject\\UltralyticsPotholes\\potholes\\part6\\qfs3ej59.jpg: 352x640 2 potholess, 17.0ms\n",
      "image 455/504 E:\\University\\PythonProject\\UltralyticsPotholes\\potholes\\part6\\qgki6i8o.jpg: 480x640 (no detections), 20.9ms\n",
      "image 456/504 E:\\University\\PythonProject\\UltralyticsPotholes\\potholes\\part6\\qgqm50p9.jpg: 480x640 4 potholess, 19.9ms\n",
      "image 457/504 E:\\University\\PythonProject\\UltralyticsPotholes\\potholes\\part6\\qiauo3df.jpg: 640x640 1 potholes, 23.9ms\n",
      "image 458/504 E:\\University\\PythonProject\\UltralyticsPotholes\\potholes\\part6\\qix136jp.jpg: 448x640 4 potholess, 21.9ms\n",
      "image 459/504 E:\\University\\PythonProject\\UltralyticsPotholes\\potholes\\part6\\qjny1cu9.jpg: 384x640 3 potholess, 17.0ms\n",
      "image 460/504 E:\\University\\PythonProject\\UltralyticsPotholes\\potholes\\part6\\qjqwad0o.jpg: 640x640 (no detections), 24.9ms\n",
      "image 461/504 E:\\University\\PythonProject\\UltralyticsPotholes\\potholes\\part6\\qju5klwn.jpg: 480x640 3 potholess, 23.9ms\n",
      "image 462/504 E:\\University\\PythonProject\\UltralyticsPotholes\\potholes\\part6\\qn9gj0mx.jpg: 480x640 (no detections), 19.9ms\n",
      "image 463/504 E:\\University\\PythonProject\\UltralyticsPotholes\\potholes\\part6\\qnprg86m.jpg: 384x640 15 potholess, 16.0ms\n",
      "image 464/504 E:\\University\\PythonProject\\UltralyticsPotholes\\potholes\\part6\\qo36a2a3.jpg: 448x640 5 potholess, 20.9ms\n",
      "image 465/504 E:\\University\\PythonProject\\UltralyticsPotholes\\potholes\\part6\\qo4yejj9.jpg: 480x640 (no detections), 21.9ms\n",
      "image 466/504 E:\\University\\PythonProject\\UltralyticsPotholes\\potholes\\part6\\qo7634yj.jpg: 544x640 1 potholes, 21.9ms\n",
      "image 467/504 E:\\University\\PythonProject\\UltralyticsPotholes\\potholes\\part6\\qob463fc.jpg: 480x640 1 potholes, 22.9ms\n",
      "image 468/504 E:\\University\\PythonProject\\UltralyticsPotholes\\potholes\\part6\\qojbtxtg.jpg: 640x480 1 potholes, 20.9ms\n",
      "image 469/504 E:\\University\\PythonProject\\UltralyticsPotholes\\potholes\\part6\\qovuvjou.jpg: 480x640 1 potholes, 19.9ms\n",
      "image 470/504 E:\\University\\PythonProject\\UltralyticsPotholes\\potholes\\part6\\qowcvo2v.jpg: 448x640 1 potholes, 20.9ms\n",
      "image 471/504 E:\\University\\PythonProject\\UltralyticsPotholes\\potholes\\part6\\qp3n5c6c.jpg: 448x640 12 potholess, 21.9ms\n",
      "image 472/504 E:\\University\\PythonProject\\UltralyticsPotholes\\potholes\\part6\\qp7ce5nc.jpg: 640x384 1 potholes, 17.0ms\n",
      "image 473/504 E:\\University\\PythonProject\\UltralyticsPotholes\\potholes\\part6\\qqll846k.jpg: 352x640 2 potholess, 16.0ms\n",
      "image 474/504 E:\\University\\PythonProject\\UltralyticsPotholes\\potholes\\part6\\qqnqxd0k.jpg: 480x640 2 potholess, 21.9ms\n",
      "image 475/504 E:\\University\\PythonProject\\UltralyticsPotholes\\potholes\\part6\\qqvxeiwq.jpg: 384x640 1 potholes, 17.0ms\n",
      "image 476/504 E:\\University\\PythonProject\\UltralyticsPotholes\\potholes\\part6\\qqxrml9m.jpg: 640x480 3 potholess, 19.9ms\n",
      "image 477/504 E:\\University\\PythonProject\\UltralyticsPotholes\\potholes\\part6\\qr4eb1ov.jpg: 384x640 (no detections), 16.0ms\n",
      "image 478/504 E:\\University\\PythonProject\\UltralyticsPotholes\\potholes\\part6\\qrbcnhog.jpg: 640x480 3 potholess, 18.9ms\n",
      "image 479/504 E:\\University\\PythonProject\\UltralyticsPotholes\\potholes\\part6\\qrd73lit.jpg: 640x640 4 potholess, 22.9ms\n",
      "image 480/504 E:\\University\\PythonProject\\UltralyticsPotholes\\potholes\\part6\\qrfole8s.jpg: 448x640 5 potholess, 20.9ms\n",
      "image 481/504 E:\\University\\PythonProject\\UltralyticsPotholes\\potholes\\part6\\qrguntxk.jpg: 384x640 13 potholess, 16.0ms\n",
      "image 482/504 E:\\University\\PythonProject\\UltralyticsPotholes\\potholes\\part6\\qrobpu9d.jpg: 384x640 2 potholess, 18.9ms\n",
      "image 483/504 E:\\University\\PythonProject\\UltralyticsPotholes\\potholes\\part6\\qsi7wipr.jpg: 384x640 2 potholess, 17.0ms\n",
      "image 484/504 E:\\University\\PythonProject\\UltralyticsPotholes\\potholes\\part6\\qsu311ag.jpg: 320x640 3 potholess, 17.0ms\n",
      "image 485/504 E:\\University\\PythonProject\\UltralyticsPotholes\\potholes\\part6\\qswj5cvk.jpg: 448x640 (no detections), 24.9ms\n",
      "image 486/504 E:\\University\\PythonProject\\UltralyticsPotholes\\potholes\\part6\\qsy7ceta.jpg: 640x640 1 potholes, 26.9ms\n",
      "image 487/504 E:\\University\\PythonProject\\UltralyticsPotholes\\potholes\\part6\\qt16h914.jpg: 480x640 1 potholes, 24.9ms\n",
      "image 488/504 E:\\University\\PythonProject\\UltralyticsPotholes\\potholes\\part6\\qtiix208.jpg: 448x640 1 potholes, 23.9ms\n",
      "image 489/504 E:\\University\\PythonProject\\UltralyticsPotholes\\potholes\\part6\\qtqe17fv.jpg: 384x640 (no detections), 18.0ms\n",
      "image 490/504 E:\\University\\PythonProject\\UltralyticsPotholes\\potholes\\part6\\qu07f1p0.jpg: 384x640 (no detections), 17.0ms\n",
      "image 491/504 E:\\University\\PythonProject\\UltralyticsPotholes\\potholes\\part6\\quo33xlr.jpg: 640x480 6 potholess, 20.9ms\n",
      "image 492/504 E:\\University\\PythonProject\\UltralyticsPotholes\\potholes\\part6\\qvd6rzrr.jpg: 384x640 2 potholess, 16.0ms\n",
      "image 493/504 E:\\University\\PythonProject\\UltralyticsPotholes\\potholes\\part6\\qwe41nky.jpg: 640x640 (no detections), 24.9ms\n",
      "image 494/504 E:\\University\\PythonProject\\UltralyticsPotholes\\potholes\\part6\\qxbn5yv1.jpg: 480x640 2 potholess, 21.9ms\n",
      "image 495/504 E:\\University\\PythonProject\\UltralyticsPotholes\\potholes\\part6\\qy1dsn6b.jpg: 224x640 (no detections), 13.0ms\n",
      "image 496/504 E:\\University\\PythonProject\\UltralyticsPotholes\\potholes\\part6\\qy4f55zi.jpg: 480x640 1 potholes, 21.9ms\n",
      "image 497/504 E:\\University\\PythonProject\\UltralyticsPotholes\\potholes\\part6\\qytsrbk1.jpg: 352x640 2 potholess, 17.0ms\n",
      "image 498/504 E:\\University\\PythonProject\\UltralyticsPotholes\\potholes\\part6\\qyuvdzxr.jpg: 448x640 2 potholess, 19.9ms\n",
      "image 499/504 E:\\University\\PythonProject\\UltralyticsPotholes\\potholes\\part6\\qyxy6fsj.jpg: 448x640 2 potholess, 19.9ms\n",
      "image 500/504 E:\\University\\PythonProject\\UltralyticsPotholes\\potholes\\part6\\qyy44tpp.jpg: 352x640 (no detections), 15.0ms\n",
      "image 501/504 E:\\University\\PythonProject\\UltralyticsPotholes\\potholes\\part6\\qz6kphyc.jpg: 384x640 1 potholes, 17.0ms\n",
      "image 502/504 E:\\University\\PythonProject\\UltralyticsPotholes\\potholes\\part6\\qz8lqu7x.jpg: 480x640 2 potholess, 20.9ms\n",
      "image 503/504 E:\\University\\PythonProject\\UltralyticsPotholes\\potholes\\part6\\qz9094b1.jpg: 384x640 (no detections), 17.0ms\n",
      "image 504/504 E:\\University\\PythonProject\\UltralyticsPotholes\\potholes\\part6\\qzp0ecxb.jpg: 352x640 (no detections), 17.0ms\n",
      "Speed: 2.2ms preprocess, 22.9ms inference, 2.0ms postprocess per image at shape (1, 3, 352, 640)\n",
      "Results saved to \u001b[1mruns\\segment\\predict3\u001b[0m\n"
     ]
    }
   ],
   "source": [
    "resultSix = model('potholes\\\\part6',save=True)"
   ]
  },
  {
   "cell_type": "code",
   "execution_count": 4,
   "id": "98985dd5c8ba5368",
   "metadata": {
    "ExecuteTime": {
     "end_time": "2023-12-11T06:25:14.575467500Z",
     "start_time": "2023-12-11T06:24:34.714058400Z"
    },
    "collapsed": false,
    "jupyter": {
     "outputs_hidden": false
    }
   },
   "outputs": [
    {
     "name": "stdout",
     "output_type": "stream",
     "text": [
      "image 1/504 E:\\University\\PythonProject\\UltralyticsPotholes\\potholes\\part7\\r02y796f.jpg: 640x480 6 potholess, 180.5ms\n",
      "image 2/504 E:\\University\\PythonProject\\UltralyticsPotholes\\potholes\\part7\\r06dqzmc.jpg: 640x640 4 potholess, 29.9ms\n",
      "image 3/504 E:\\University\\PythonProject\\UltralyticsPotholes\\potholes\\part7\\r08ebhf0.jpg: 512x640 (no detections), 25.9ms\n",
      "image 4/504 E:\\University\\PythonProject\\UltralyticsPotholes\\potholes\\part7\\r0bvl744.jpg: 448x640 5 potholess, 27.9ms\n",
      "image 5/504 E:\\University\\PythonProject\\UltralyticsPotholes\\potholes\\part7\\r0twoll5.jpg: 448x640 1 potholes, 26.9ms\n",
      "image 6/504 E:\\University\\PythonProject\\UltralyticsPotholes\\potholes\\part7\\r1h43ryl.jpg: 480x640 5 potholess, 28.9ms\n",
      "image 7/504 E:\\University\\PythonProject\\UltralyticsPotholes\\potholes\\part7\\r1hqx6j2.jpg: 384x640 1 potholes, 19.9ms\n",
      "image 8/504 E:\\University\\PythonProject\\UltralyticsPotholes\\potholes\\part7\\r2l64kru.jpg: 384x640 1 potholes, 17.0ms\n",
      "image 9/504 E:\\University\\PythonProject\\UltralyticsPotholes\\potholes\\part7\\r2rhjo8u.jpg: 480x640 2 potholess, 24.9ms\n",
      "image 10/504 E:\\University\\PythonProject\\UltralyticsPotholes\\potholes\\part7\\r2rvi6j0.jpg: 448x640 (no detections), 23.9ms\n",
      "image 11/504 E:\\University\\PythonProject\\UltralyticsPotholes\\potholes\\part7\\r2uvaxup.jpg: 640x640 4 potholess, 27.9ms\n",
      "image 12/504 E:\\University\\PythonProject\\UltralyticsPotholes\\potholes\\part7\\r35xjgyx.jpg: 448x640 2 potholess, 20.9ms\n",
      "image 13/504 E:\\University\\PythonProject\\UltralyticsPotholes\\potholes\\part7\\r3fscte9.jpg: 448x640 1 potholes, 19.9ms\n",
      "image 14/504 E:\\University\\PythonProject\\UltralyticsPotholes\\potholes\\part7\\r3nc208z.jpg: 384x640 1 potholes, 17.0ms\n",
      "image 15/504 E:\\University\\PythonProject\\UltralyticsPotholes\\potholes\\part7\\r3y93pa6.jpg: 640x480 1 potholes, 20.9ms\n",
      "image 16/504 E:\\University\\PythonProject\\UltralyticsPotholes\\potholes\\part7\\r4cyuanb.jpg: 352x640 2 potholess, 16.0ms\n",
      "image 17/504 E:\\University\\PythonProject\\UltralyticsPotholes\\potholes\\part7\\r4d1uqcg.jpg: 640x640 1 potholes, 22.9ms\n",
      "image 18/504 E:\\University\\PythonProject\\UltralyticsPotholes\\potholes\\part7\\r4yyappa.jpg: 448x640 1 potholes, 21.9ms\n",
      "image 19/504 E:\\University\\PythonProject\\UltralyticsPotholes\\potholes\\part7\\r4z4ukql.jpg: 512x640 3 potholess, 20.9ms\n",
      "image 20/504 E:\\University\\PythonProject\\UltralyticsPotholes\\potholes\\part7\\r507bill.jpg: 640x480 1 potholes, 18.9ms\n",
      "image 21/504 E:\\University\\PythonProject\\UltralyticsPotholes\\potholes\\part7\\r5c37kuy.jpg: 512x640 (no detections), 20.9ms\n",
      "image 22/504 E:\\University\\PythonProject\\UltralyticsPotholes\\potholes\\part7\\r5ndcls4.jpg: 640x480 1 potholes, 20.9ms\n",
      "image 23/504 E:\\University\\PythonProject\\UltralyticsPotholes\\potholes\\part7\\r68m7sbk.jpg: 320x640 2 potholess, 15.0ms\n",
      "image 24/504 E:\\University\\PythonProject\\UltralyticsPotholes\\potholes\\part7\\r6glfkhm.jpg: 480x640 (no detections), 21.9ms\n",
      "image 25/504 E:\\University\\PythonProject\\UltralyticsPotholes\\potholes\\part7\\r73udoe3.jpg: 640x640 2 potholess, 24.9ms\n",
      "image 26/504 E:\\University\\PythonProject\\UltralyticsPotholes\\potholes\\part7\\r7cgsqjt.jpg: 480x640 1 potholes, 23.9ms\n",
      "image 27/504 E:\\University\\PythonProject\\UltralyticsPotholes\\potholes\\part7\\r7eb1sdm.jpg: 384x640 2 potholess, 18.0ms\n",
      "image 28/504 E:\\University\\PythonProject\\UltralyticsPotholes\\potholes\\part7\\r82neyhy.jpg: 512x640 1 potholes, 20.9ms\n",
      "image 29/504 E:\\University\\PythonProject\\UltralyticsPotholes\\potholes\\part7\\r8alk78z.jpg: 384x640 (no detections), 17.0ms\n",
      "image 30/504 E:\\University\\PythonProject\\UltralyticsPotholes\\potholes\\part7\\r8y6myoi.jpg: 480x640 (no detections), 20.9ms\n",
      "image 31/504 E:\\University\\PythonProject\\UltralyticsPotholes\\potholes\\part7\\r8z6xjbl.jpg: 480x640 (no detections), 20.9ms\n",
      "image 32/504 E:\\University\\PythonProject\\UltralyticsPotholes\\potholes\\part7\\r9233nda.jpg: 480x640 (no detections), 20.9ms\n",
      "image 33/504 E:\\University\\PythonProject\\UltralyticsPotholes\\potholes\\part7\\r95h5zom.jpg: 352x640 2 potholess, 16.0ms\n",
      "image 34/504 E:\\University\\PythonProject\\UltralyticsPotholes\\potholes\\part7\\r9al95vb.jpg: 416x640 1 potholes, 20.9ms\n",
      "image 35/504 E:\\University\\PythonProject\\UltralyticsPotholes\\potholes\\part7\\r9hs3p5y.jpg: 640x640 (no detections), 24.9ms\n",
      "image 36/504 E:\\University\\PythonProject\\UltralyticsPotholes\\potholes\\part7\\r9rq07sw.jpg: 448x640 3 potholess, 20.9ms\n",
      "image 37/504 E:\\University\\PythonProject\\UltralyticsPotholes\\potholes\\part7\\r9wjfbc3.jpg: 512x640 2 potholess, 19.9ms\n",
      "image 38/504 E:\\University\\PythonProject\\UltralyticsPotholes\\potholes\\part7\\ra2nhgg7.jpg: 448x640 3 potholess, 20.9ms\n",
      "image 39/504 E:\\University\\PythonProject\\UltralyticsPotholes\\potholes\\part7\\rahgte9q.jpg: 448x640 1 potholes, 20.9ms\n",
      "image 40/504 E:\\University\\PythonProject\\UltralyticsPotholes\\potholes\\part7\\raosjh89.jpg: 384x640 (no detections), 17.0ms\n",
      "image 41/504 E:\\University\\PythonProject\\UltralyticsPotholes\\potholes\\part7\\rasjodjk.jpg: 448x640 (no detections), 21.9ms\n",
      "image 42/504 E:\\University\\PythonProject\\UltralyticsPotholes\\potholes\\part7\\rayuz5nz.jpg: 512x640 (no detections), 20.9ms\n",
      "image 43/504 E:\\University\\PythonProject\\UltralyticsPotholes\\potholes\\part7\\rb3b42zy.jpg: 640x640 (no detections), 24.9ms\n",
      "image 44/504 E:\\University\\PythonProject\\UltralyticsPotholes\\potholes\\part7\\rb7zle3a.jpg: 640x480 2 potholess, 19.9ms\n",
      "image 45/504 E:\\University\\PythonProject\\UltralyticsPotholes\\potholes\\part7\\rbf7x3ly.jpg: 416x640 2 potholess, 21.9ms\n",
      "image 46/504 E:\\University\\PythonProject\\UltralyticsPotholes\\potholes\\part7\\rbjg8pb4.jpg: 384x640 (no detections), 17.0ms\n",
      "image 47/504 E:\\University\\PythonProject\\UltralyticsPotholes\\potholes\\part7\\rc4xwac3.jpg: 640x480 2 potholess, 19.9ms\n",
      "image 48/504 E:\\University\\PythonProject\\UltralyticsPotholes\\potholes\\part7\\rcg7dm3p.jpg: 448x640 5 potholess, 20.9ms\n",
      "image 49/504 E:\\University\\PythonProject\\UltralyticsPotholes\\potholes\\part7\\rchap57e.jpg: 640x512 (no detections), 19.9ms\n",
      "image 50/504 E:\\University\\PythonProject\\UltralyticsPotholes\\potholes\\part7\\rcilxqn7.jpg: 384x640 2 potholess, 17.0ms\n",
      "image 51/504 E:\\University\\PythonProject\\UltralyticsPotholes\\potholes\\part7\\rclku9ck.jpg: 448x640 1 potholes, 20.9ms\n",
      "image 52/504 E:\\University\\PythonProject\\UltralyticsPotholes\\potholes\\part7\\rcvndww9.jpg: 640x640 1 potholes, 24.9ms\n",
      "image 53/504 E:\\University\\PythonProject\\UltralyticsPotholes\\potholes\\part7\\rd4ui1ol.jpg: 640x640 2 potholess, 24.9ms\n",
      "image 54/504 E:\\University\\PythonProject\\UltralyticsPotholes\\potholes\\part7\\re0if1vg.jpg: 416x640 2 potholess, 19.9ms\n",
      "image 55/504 E:\\University\\PythonProject\\UltralyticsPotholes\\potholes\\part7\\re1uy1ch.jpg: 640x480 7 potholess, 19.9ms\n",
      "image 56/504 E:\\University\\PythonProject\\UltralyticsPotholes\\potholes\\part7\\re2y9oag.jpg: 480x640 1 potholes, 21.9ms\n",
      "image 57/504 E:\\University\\PythonProject\\UltralyticsPotholes\\potholes\\part7\\re6s0gjb.jpg: 480x640 1 potholes, 20.9ms\n",
      "image 58/504 E:\\University\\PythonProject\\UltralyticsPotholes\\potholes\\part7\\ree3bmc1.jpg: 640x640 4 potholess, 23.9ms\n",
      "image 59/504 E:\\University\\PythonProject\\UltralyticsPotholes\\potholes\\part7\\rf1w46qk.jpg: 640x640 1 potholes, 23.9ms\n",
      "image 60/504 E:\\University\\PythonProject\\UltralyticsPotholes\\potholes\\part7\\rfbvlfqc.jpg: 384x640 3 potholess, 17.0ms\n",
      "image 61/504 E:\\University\\PythonProject\\UltralyticsPotholes\\potholes\\part7\\rfilcy1h.jpg: 640x544 1 potholes, 22.9ms\n",
      "image 62/504 E:\\University\\PythonProject\\UltralyticsPotholes\\potholes\\part7\\rfkkyejd.jpg: 448x640 1 potholes, 20.9ms\n",
      "image 63/504 E:\\University\\PythonProject\\UltralyticsPotholes\\potholes\\part7\\rgqef0s5.jpg: 448x640 3 potholess, 20.9ms\n",
      "image 64/504 E:\\University\\PythonProject\\UltralyticsPotholes\\potholes\\part7\\rgy6fse2.jpg: 416x640 (no detections), 21.9ms\n",
      "image 65/504 E:\\University\\PythonProject\\UltralyticsPotholes\\potholes\\part7\\rgy9ydbg.jpg: 448x640 2 potholess, 21.9ms\n",
      "image 66/504 E:\\University\\PythonProject\\UltralyticsPotholes\\potholes\\part7\\rgyalrfr.jpg: 448x640 3 potholess, 19.9ms\n",
      "image 67/504 E:\\University\\PythonProject\\UltralyticsPotholes\\potholes\\part7\\rh8pn8ht.jpg: 416x640 (no detections), 21.9ms\n",
      "image 68/504 E:\\University\\PythonProject\\UltralyticsPotholes\\potholes\\part7\\rhiwahi0.jpg: 448x640 (no detections), 20.9ms\n",
      "image 69/504 E:\\University\\PythonProject\\UltralyticsPotholes\\potholes\\part7\\rhpheyji.jpg: 640x480 (no detections), 20.9ms\n",
      "image 70/504 E:\\University\\PythonProject\\UltralyticsPotholes\\potholes\\part7\\rhtz9ndx.jpg: 640x640 (no detections), 24.9ms\n",
      "image 71/504 E:\\University\\PythonProject\\UltralyticsPotholes\\potholes\\part7\\rhu1ruyj.jpg: 448x640 1 potholes, 19.9ms\n",
      "image 72/504 E:\\University\\PythonProject\\UltralyticsPotholes\\potholes\\part7\\ri2xkuo9.jpg: 384x640 (no detections), 17.0ms\n",
      "image 73/504 E:\\University\\PythonProject\\UltralyticsPotholes\\potholes\\part7\\ri9i3rgr.jpg: 384x640 1 potholes, 16.0ms\n",
      "image 74/504 E:\\University\\PythonProject\\UltralyticsPotholes\\potholes\\part7\\riaramzo.jpg: 640x480 3 potholess, 18.9ms\n",
      "image 75/504 E:\\University\\PythonProject\\UltralyticsPotholes\\potholes\\part7\\ricgey51.jpg: 416x640 1 potholes, 20.9ms\n",
      "image 76/504 E:\\University\\PythonProject\\UltralyticsPotholes\\potholes\\part7\\rij47hr5.jpg: 416x640 1 potholes, 19.9ms\n",
      "image 77/504 E:\\University\\PythonProject\\UltralyticsPotholes\\potholes\\part7\\riuuhuat.jpg: 640x640 (no detections), 24.9ms\n",
      "image 78/504 E:\\University\\PythonProject\\UltralyticsPotholes\\potholes\\part7\\riw3iprx.jpg: 640x480 1 potholes, 18.9ms\n",
      "image 79/504 E:\\University\\PythonProject\\UltralyticsPotholes\\potholes\\part7\\rjan48sq.jpg: 384x640 1 potholes, 17.0ms\n",
      "image 80/504 E:\\University\\PythonProject\\UltralyticsPotholes\\potholes\\part7\\rjs2rfv4.jpg: 640x640 (no detections), 25.9ms\n",
      "image 81/504 E:\\University\\PythonProject\\UltralyticsPotholes\\potholes\\part7\\rkai7nyg.jpg: 384x640 2 potholess, 17.0ms\n",
      "image 82/504 E:\\University\\PythonProject\\UltralyticsPotholes\\potholes\\part7\\rkiz5gdc.jpg: 640x640 9 potholess, 29.9ms\n",
      "image 83/504 E:\\University\\PythonProject\\UltralyticsPotholes\\potholes\\part7\\rkmg6elv.jpg: 640x384 1 potholes, 19.0ms\n",
      "image 84/504 E:\\University\\PythonProject\\UltralyticsPotholes\\potholes\\part7\\rkn17ffi.jpg: 640x640 5 potholess, 28.9ms\n",
      "image 85/504 E:\\University\\PythonProject\\UltralyticsPotholes\\potholes\\part7\\rkqob3gn.jpg: 448x640 (no detections), 24.9ms\n",
      "image 86/504 E:\\University\\PythonProject\\UltralyticsPotholes\\potholes\\part7\\rkqv19wc.jpg: 448x640 21 potholess, 24.9ms\n",
      "image 87/504 E:\\University\\PythonProject\\UltralyticsPotholes\\potholes\\part7\\rkugf4jj.jpg: 448x640 1 potholes, 22.9ms\n",
      "image 88/504 E:\\University\\PythonProject\\UltralyticsPotholes\\potholes\\part7\\rl9x9szw.jpg: 640x640 3 potholess, 26.9ms\n",
      "image 89/504 E:\\University\\PythonProject\\UltralyticsPotholes\\potholes\\part7\\rlcwq5xp.jpg: 640x576 1 potholes, 24.9ms\n",
      "image 90/504 E:\\University\\PythonProject\\UltralyticsPotholes\\potholes\\part7\\rlhla3gx.jpg: 640x640 (no detections), 25.9ms\n",
      "image 91/504 E:\\University\\PythonProject\\UltralyticsPotholes\\potholes\\part7\\rllgfum1.jpg: 448x640 4 potholess, 22.9ms\n",
      "image 92/504 E:\\University\\PythonProject\\UltralyticsPotholes\\potholes\\part7\\rlpf4gkh.jpg: 320x640 1 potholes, 17.0ms\n",
      "image 93/504 E:\\University\\PythonProject\\UltralyticsPotholes\\potholes\\part7\\rlrdcls4.jpg: 384x640 1 potholes, 17.0ms\n",
      "image 94/504 E:\\University\\PythonProject\\UltralyticsPotholes\\potholes\\part7\\rlx5qypw.jpg: 640x480 3 potholess, 19.9ms\n",
      "image 95/504 E:\\University\\PythonProject\\UltralyticsPotholes\\potholes\\part7\\rlyak531.jpg: 384x640 7 potholess, 16.0ms\n",
      "image 96/504 E:\\University\\PythonProject\\UltralyticsPotholes\\potholes\\part7\\rm5t2r18.jpg: 640x512 3 potholess, 20.9ms\n",
      "image 97/504 E:\\University\\PythonProject\\UltralyticsPotholes\\potholes\\part7\\rm6w1yxi.jpg: 384x640 1 potholes, 16.0ms\n",
      "image 98/504 E:\\University\\PythonProject\\UltralyticsPotholes\\potholes\\part7\\rm85rx0a.jpg: 640x512 1 potholes, 20.9ms\n",
      "image 99/504 E:\\University\\PythonProject\\UltralyticsPotholes\\potholes\\part7\\rmscngoj.jpg: 480x640 3 potholess, 22.9ms\n",
      "image 100/504 E:\\University\\PythonProject\\UltralyticsPotholes\\potholes\\part7\\rmzxyt55.jpg: 480x640 2 potholess, 21.9ms\n",
      "image 101/504 E:\\University\\PythonProject\\UltralyticsPotholes\\potholes\\part7\\rnlp9d9u.jpg: 448x640 (no detections), 23.9ms\n",
      "image 102/504 E:\\University\\PythonProject\\UltralyticsPotholes\\potholes\\part7\\rnwt4g6r.jpg: 480x640 1 potholes, 22.9ms\n",
      "image 103/504 E:\\University\\PythonProject\\UltralyticsPotholes\\potholes\\part7\\rnxyrqzv.jpg: 640x480 5 potholess, 18.9ms\n",
      "image 104/504 E:\\University\\PythonProject\\UltralyticsPotholes\\potholes\\part7\\ro8fsqba.jpg: 480x640 1 potholes, 21.9ms\n",
      "image 105/504 E:\\University\\PythonProject\\UltralyticsPotholes\\potholes\\part7\\roerucxt.jpg: 640x640 (no detections), 24.9ms\n",
      "image 106/504 E:\\University\\PythonProject\\UltralyticsPotholes\\potholes\\part7\\rofufv98.jpg: 480x640 1 potholes, 23.9ms\n",
      "image 107/504 E:\\University\\PythonProject\\UltralyticsPotholes\\potholes\\part7\\rpomcyp7.jpg: 448x640 (no detections), 21.9ms\n",
      "image 108/504 E:\\University\\PythonProject\\UltralyticsPotholes\\potholes\\part7\\rq7zo7dp.jpg: 384x640 1 potholes, 17.0ms\n",
      "image 109/504 E:\\University\\PythonProject\\UltralyticsPotholes\\potholes\\part7\\rqfvbxzj.jpg: 640x640 (no detections), 24.9ms\n",
      "image 110/504 E:\\University\\PythonProject\\UltralyticsPotholes\\potholes\\part7\\rrdy7n22.jpg: 480x640 1 potholes, 20.9ms\n",
      "image 111/504 E:\\University\\PythonProject\\UltralyticsPotholes\\potholes\\part7\\rrg305x0.jpg: 352x640 1 potholes, 16.0ms\n",
      "image 112/504 E:\\University\\PythonProject\\UltralyticsPotholes\\potholes\\part7\\rt4ooy3e.jpg: 480x640 (no detections), 21.9ms\n",
      "image 113/504 E:\\University\\PythonProject\\UltralyticsPotholes\\potholes\\part7\\rt9uwb2a.jpg: 480x640 (no detections), 21.9ms\n",
      "image 114/504 E:\\University\\PythonProject\\UltralyticsPotholes\\potholes\\part7\\rtcd3tma.jpg: 448x640 4 potholess, 22.9ms\n",
      "image 115/504 E:\\University\\PythonProject\\UltralyticsPotholes\\potholes\\part7\\rupmen9v.jpg: 480x640 (no detections), 22.9ms\n",
      "image 116/504 E:\\University\\PythonProject\\UltralyticsPotholes\\potholes\\part7\\rv5ihk3f.jpg: 384x640 8 potholess, 16.0ms\n",
      "image 117/504 E:\\University\\PythonProject\\UltralyticsPotholes\\potholes\\part7\\rv9toc4b.jpg: 384x640 1 potholes, 16.0ms\n",
      "image 118/504 E:\\University\\PythonProject\\UltralyticsPotholes\\potholes\\part7\\rw6kfw4m.jpg: 480x640 (no detections), 22.9ms\n",
      "image 119/504 E:\\University\\PythonProject\\UltralyticsPotholes\\potholes\\part7\\rwm6o4zk.jpg: 640x640 (no detections), 25.9ms\n",
      "image 120/504 E:\\University\\PythonProject\\UltralyticsPotholes\\potholes\\part7\\rx7wkiwx.jpg: 480x640 27 potholess, 21.9ms\n",
      "image 121/504 E:\\University\\PythonProject\\UltralyticsPotholes\\potholes\\part7\\ry0ynddg.jpg: 384x640 (no detections), 17.0ms\n",
      "image 122/504 E:\\University\\PythonProject\\UltralyticsPotholes\\potholes\\part7\\ryloy09h.jpg: 640x512 1 potholes, 20.9ms\n",
      "image 123/504 E:\\University\\PythonProject\\UltralyticsPotholes\\potholes\\part7\\ryqa27ey.jpg: 384x640 2 potholess, 18.0ms\n",
      "image 124/504 E:\\University\\PythonProject\\UltralyticsPotholes\\potholes\\part7\\ryt153tw.jpg: 448x640 1 potholes, 20.9ms\n",
      "image 125/504 E:\\University\\PythonProject\\UltralyticsPotholes\\potholes\\part7\\rz0pvf0p.jpg: 640x480 6 potholess, 19.9ms\n",
      "image 126/504 E:\\University\\PythonProject\\UltralyticsPotholes\\potholes\\part7\\rzafupdv.jpg: 384x640 (no detections), 17.0ms\n",
      "image 127/504 E:\\University\\PythonProject\\UltralyticsPotholes\\potholes\\part7\\rzarbmui.jpg: 640x512 8 potholess, 19.9ms\n",
      "image 128/504 E:\\University\\PythonProject\\UltralyticsPotholes\\potholes\\part7\\rzdww4at.jpg: 384x640 3 potholess, 17.0ms\n",
      "image 129/504 E:\\University\\PythonProject\\UltralyticsPotholes\\potholes\\part7\\rzeb68pr.jpg: 384x640 4 potholess, 16.0ms\n",
      "image 130/504 E:\\University\\PythonProject\\UltralyticsPotholes\\potholes\\part7\\s0412rwc.jpg: 512x640 2 potholess, 19.9ms\n",
      "image 131/504 E:\\University\\PythonProject\\UltralyticsPotholes\\potholes\\part7\\s04ecz30.jpg: 640x480 1 potholes, 20.9ms\n",
      "image 132/504 E:\\University\\PythonProject\\UltralyticsPotholes\\potholes\\part7\\s04j66dy.jpg: 640x640 (no detections), 24.9ms\n",
      "image 133/504 E:\\University\\PythonProject\\UltralyticsPotholes\\potholes\\part7\\s0hoh72b.jpg: 384x640 1 potholes, 18.0ms\n",
      "image 134/504 E:\\University\\PythonProject\\UltralyticsPotholes\\potholes\\part7\\s0s0zcrr.jpg: 640x512 1 potholes, 20.9ms\n",
      "image 135/504 E:\\University\\PythonProject\\UltralyticsPotholes\\potholes\\part7\\s0un6brf.jpg: 288x640 2 potholess, 16.0ms\n",
      "image 136/504 E:\\University\\PythonProject\\UltralyticsPotholes\\potholes\\part7\\s1a39k15.jpg: 384x640 3 potholess, 17.0ms\n",
      "image 137/504 E:\\University\\PythonProject\\UltralyticsPotholes\\potholes\\part7\\s1ldycqq.jpg: 384x640 1 potholes, 17.0ms\n",
      "image 138/504 E:\\University\\PythonProject\\UltralyticsPotholes\\potholes\\part7\\s2a345ne.jpg: 320x640 2 potholess, 16.0ms\n",
      "image 139/504 E:\\University\\PythonProject\\UltralyticsPotholes\\potholes\\part7\\s2wnc9r0.jpg: 640x480 3 potholess, 20.9ms\n",
      "image 140/504 E:\\University\\PythonProject\\UltralyticsPotholes\\potholes\\part7\\s33gd95e.jpg: 416x640 1 potholes, 21.9ms\n",
      "image 141/504 E:\\University\\PythonProject\\UltralyticsPotholes\\potholes\\part7\\s38n3enn.jpg: 448x640 3 potholess, 21.9ms\n",
      "image 142/504 E:\\University\\PythonProject\\UltralyticsPotholes\\potholes\\part7\\s3mbgaj7.jpg: 384x640 12 potholess, 18.0ms\n",
      "image 143/504 E:\\University\\PythonProject\\UltralyticsPotholes\\potholes\\part7\\s3ujia4s.jpg: 384x640 2 potholess, 17.0ms\n",
      "image 144/504 E:\\University\\PythonProject\\UltralyticsPotholes\\potholes\\part7\\s4bt39j7.jpg: 480x640 (no detections), 20.9ms\n",
      "image 145/504 E:\\University\\PythonProject\\UltralyticsPotholes\\potholes\\part7\\s4uhq9l3.jpg: 384x640 1 potholes, 16.0ms\n",
      "image 146/504 E:\\University\\PythonProject\\UltralyticsPotholes\\potholes\\part7\\s4vtq7xr.jpg: 416x640 1 potholes, 21.9ms\n",
      "image 147/504 E:\\University\\PythonProject\\UltralyticsPotholes\\potholes\\part7\\s50196xa.jpg: 224x640 (no detections), 14.0ms\n",
      "image 148/504 E:\\University\\PythonProject\\UltralyticsPotholes\\potholes\\part7\\s5ershhl.jpg: 640x640 1 potholes, 23.9ms\n",
      "image 149/504 E:\\University\\PythonProject\\UltralyticsPotholes\\potholes\\part7\\s5fgnvz3.jpg: 544x640 2 potholess, 21.9ms\n",
      "image 150/504 E:\\University\\PythonProject\\UltralyticsPotholes\\potholes\\part7\\s6bgocd5.jpg: 448x640 10 potholess, 19.9ms\n",
      "image 151/504 E:\\University\\PythonProject\\UltralyticsPotholes\\potholes\\part7\\s6d4ju5c.jpg: 448x640 3 potholess, 19.9ms\n",
      "image 152/504 E:\\University\\PythonProject\\UltralyticsPotholes\\potholes\\part7\\s6k2x3x4.jpg: 384x640 2 potholess, 18.0ms\n",
      "image 153/504 E:\\University\\PythonProject\\UltralyticsPotholes\\potholes\\part7\\s72gox2m.jpg: 640x640 (no detections), 24.9ms\n",
      "image 154/504 E:\\University\\PythonProject\\UltralyticsPotholes\\potholes\\part7\\s83g5ukx.jpg: 640x640 (no detections), 23.9ms\n",
      "image 155/504 E:\\University\\PythonProject\\UltralyticsPotholes\\potholes\\part7\\s84yozwf.jpg: 480x640 6 potholess, 21.9ms\n",
      "image 156/504 E:\\University\\PythonProject\\UltralyticsPotholes\\potholes\\part7\\s94pvju1.jpg: 640x480 (no detections), 20.9ms\n",
      "image 157/504 E:\\University\\PythonProject\\UltralyticsPotholes\\potholes\\part7\\s9aek7lb.jpg: 448x640 6 potholess, 21.9ms\n",
      "image 158/504 E:\\University\\PythonProject\\UltralyticsPotholes\\potholes\\part7\\s9ytq7ql.jpg: 480x640 2 potholess, 21.9ms\n",
      "image 159/504 E:\\University\\PythonProject\\UltralyticsPotholes\\potholes\\part7\\saozyz5w.jpg: 480x640 1 potholes, 20.9ms\n",
      "image 160/504 E:\\University\\PythonProject\\UltralyticsPotholes\\potholes\\part7\\saz7hspt.jpg: 480x640 1 potholes, 20.9ms\n",
      "image 161/504 E:\\University\\PythonProject\\UltralyticsPotholes\\potholes\\part7\\sbgs31ji.jpg: 448x640 10 potholess, 20.9ms\n",
      "image 162/504 E:\\University\\PythonProject\\UltralyticsPotholes\\potholes\\part7\\sbmsjjto.jpg: 448x640 7 potholess, 20.9ms\n",
      "image 163/504 E:\\University\\PythonProject\\UltralyticsPotholes\\potholes\\part7\\sbsdwnc4.jpg: 480x640 3 potholess, 22.9ms\n",
      "image 164/504 E:\\University\\PythonProject\\UltralyticsPotholes\\potholes\\part7\\sc8lpthj.jpg: 448x640 7 potholess, 20.9ms\n",
      "image 165/504 E:\\University\\PythonProject\\UltralyticsPotholes\\potholes\\part7\\scd30eo9.jpg: 480x640 21 potholess, 21.9ms\n",
      "image 166/504 E:\\University\\PythonProject\\UltralyticsPotholes\\potholes\\part7\\scho879w.jpg: 640x480 3 potholess, 19.9ms\n",
      "image 167/504 E:\\University\\PythonProject\\UltralyticsPotholes\\potholes\\part7\\sciie88b.jpg: 384x640 2 potholess, 17.0ms\n",
      "image 168/504 E:\\University\\PythonProject\\UltralyticsPotholes\\potholes\\part7\\scz2y9lo.jpg: 640x480 4 potholess, 19.9ms\n",
      "image 169/504 E:\\University\\PythonProject\\UltralyticsPotholes\\potholes\\part7\\sdblu2ri.jpg: 384x640 3 potholess, 17.0ms\n",
      "image 170/504 E:\\University\\PythonProject\\UltralyticsPotholes\\potholes\\part7\\se47xd3u.jpg: 384x640 1 potholes, 17.0ms\n",
      "image 171/504 E:\\University\\PythonProject\\UltralyticsPotholes\\potholes\\part7\\se6buv1p.jpg: 480x640 1 potholes, 28.9ms\n",
      "image 172/504 E:\\University\\PythonProject\\UltralyticsPotholes\\potholes\\part7\\sfbybxzv.jpg: 480x640 3 potholess, 21.9ms\n",
      "image 173/504 E:\\University\\PythonProject\\UltralyticsPotholes\\potholes\\part7\\sfu2cvo3.jpg: 320x640 3 potholess, 16.0ms\n",
      "image 174/504 E:\\University\\PythonProject\\UltralyticsPotholes\\potholes\\part7\\sfvo9cyj.jpg: 384x640 1 potholes, 16.0ms\n",
      "image 175/504 E:\\University\\PythonProject\\UltralyticsPotholes\\potholes\\part7\\sfxeqmme.jpg: 384x640 1 potholes, 16.0ms\n",
      "image 176/504 E:\\University\\PythonProject\\UltralyticsPotholes\\potholes\\part7\\sgdb7mhw.jpg: 448x640 1 potholes, 20.9ms\n",
      "image 177/504 E:\\University\\PythonProject\\UltralyticsPotholes\\potholes\\part7\\sgyo60ix.jpg: 640x640 3 potholess, 23.9ms\n",
      "image 178/504 E:\\University\\PythonProject\\UltralyticsPotholes\\potholes\\part7\\sh8232oz.jpg: 448x640 4 potholess, 21.9ms\n",
      "image 179/504 E:\\University\\PythonProject\\UltralyticsPotholes\\potholes\\part7\\shkwhebh.jpg: 640x640 (no detections), 24.9ms\n",
      "image 180/504 E:\\University\\PythonProject\\UltralyticsPotholes\\potholes\\part7\\sidbcwrd.jpg: 448x640 1 potholes, 21.9ms\n",
      "image 181/504 E:\\University\\PythonProject\\UltralyticsPotholes\\potholes\\part7\\sit7qukr.jpg: 640x480 6 potholess, 19.9ms\n",
      "image 182/504 E:\\University\\PythonProject\\UltralyticsPotholes\\potholes\\part7\\siut1bid.jpg: 640x480 2 potholess, 19.9ms\n",
      "image 183/504 E:\\University\\PythonProject\\UltralyticsPotholes\\potholes\\part7\\sj1em3kb.jpg: 384x640 4 potholess, 17.0ms\n",
      "image 184/504 E:\\University\\PythonProject\\UltralyticsPotholes\\potholes\\part7\\sj2vzkce.jpg: 512x640 4 potholess, 20.9ms\n",
      "image 185/504 E:\\University\\PythonProject\\UltralyticsPotholes\\potholes\\part7\\sjg4w41o.jpg: 480x640 2 potholess, 21.9ms\n",
      "image 186/504 E:\\University\\PythonProject\\UltralyticsPotholes\\potholes\\part7\\sjjdstq6.jpg: 480x640 4 potholess, 21.9ms\n",
      "image 187/504 E:\\University\\PythonProject\\UltralyticsPotholes\\potholes\\part7\\sjk1lutx.jpg: 640x640 2 potholess, 23.9ms\n",
      "image 188/504 E:\\University\\PythonProject\\UltralyticsPotholes\\potholes\\part7\\sjqyzmsp.jpg: 448x640 1 potholes, 20.9ms\n",
      "image 189/504 E:\\University\\PythonProject\\UltralyticsPotholes\\potholes\\part7\\sk3jtseo.jpg: 480x640 1 potholes, 23.9ms\n",
      "image 190/504 E:\\University\\PythonProject\\UltralyticsPotholes\\potholes\\part7\\sk5cpw7p.jpg: 384x640 4 potholess, 18.0ms\n",
      "image 191/504 E:\\University\\PythonProject\\UltralyticsPotholes\\potholes\\part7\\sk7q6dji.jpg: 448x640 (no detections), 22.9ms\n",
      "image 192/504 E:\\University\\PythonProject\\UltralyticsPotholes\\potholes\\part7\\skc1mm49.jpg: 352x640 1 potholes, 17.0ms\n",
      "image 193/504 E:\\University\\PythonProject\\UltralyticsPotholes\\potholes\\part7\\skk9bite.jpg: 640x512 1 potholes, 21.9ms\n",
      "image 194/504 E:\\University\\PythonProject\\UltralyticsPotholes\\potholes\\part7\\skpmsg2e.jpg: 480x640 4 potholess, 21.9ms\n",
      "image 195/504 E:\\University\\PythonProject\\UltralyticsPotholes\\potholes\\part7\\skrhr1ui.jpg: 448x640 4 potholess, 21.9ms\n",
      "image 196/504 E:\\University\\PythonProject\\UltralyticsPotholes\\potholes\\part7\\slifadb6.jpg: 384x640 19 potholess, 16.0ms\n",
      "image 197/504 E:\\University\\PythonProject\\UltralyticsPotholes\\potholes\\part7\\slvybxux.jpg: 384x640 4 potholess, 17.0ms\n",
      "image 198/504 E:\\University\\PythonProject\\UltralyticsPotholes\\potholes\\part7\\sm4qli26.jpg: 640x480 (no detections), 18.9ms\n",
      "image 199/504 E:\\University\\PythonProject\\UltralyticsPotholes\\potholes\\part7\\sn4arphf.jpg: 384x640 3 potholess, 16.0ms\n",
      "image 200/504 E:\\University\\PythonProject\\UltralyticsPotholes\\potholes\\part7\\sngrk0ql.jpg: 640x480 (no detections), 19.9ms\n",
      "image 201/504 E:\\University\\PythonProject\\UltralyticsPotholes\\potholes\\part7\\snp0i90d.jpg: 448x640 (no detections), 21.9ms\n",
      "image 202/504 E:\\University\\PythonProject\\UltralyticsPotholes\\potholes\\part7\\so8g698d.jpg: 448x640 1 potholes, 19.9ms\n",
      "image 203/504 E:\\University\\PythonProject\\UltralyticsPotholes\\potholes\\part7\\sovig1uw.jpg: 352x640 2 potholess, 15.0ms\n",
      "image 204/504 E:\\University\\PythonProject\\UltralyticsPotholes\\potholes\\part7\\sox83ri2.jpg: 384x640 1 potholes, 17.0ms\n",
      "image 205/504 E:\\University\\PythonProject\\UltralyticsPotholes\\potholes\\part7\\sp643o3z.jpg: 480x640 (no detections), 21.9ms\n",
      "image 206/504 E:\\University\\PythonProject\\UltralyticsPotholes\\potholes\\part7\\spfbjddl.jpg: 640x640 4 potholess, 24.9ms\n",
      "image 207/504 E:\\University\\PythonProject\\UltralyticsPotholes\\potholes\\part7\\spun3w5b.jpg: 384x640 2 potholess, 18.0ms\n",
      "image 208/504 E:\\University\\PythonProject\\UltralyticsPotholes\\potholes\\part7\\sq5m4wa8.jpg: 448x640 2 potholess, 22.9ms\n",
      "image 209/504 E:\\University\\PythonProject\\UltralyticsPotholes\\potholes\\part7\\sq8yv1xh.jpg: 448x640 (no detections), 19.9ms\n",
      "image 210/504 E:\\University\\PythonProject\\UltralyticsPotholes\\potholes\\part7\\sqe4s8ar.jpg: 448x640 3 potholess, 21.9ms\n",
      "image 211/504 E:\\University\\PythonProject\\UltralyticsPotholes\\potholes\\part7\\sqiyrdgh.jpg: 640x640 3 potholess, 23.9ms\n",
      "image 212/504 E:\\University\\PythonProject\\UltralyticsPotholes\\potholes\\part7\\sr1rrjkl.jpg: 480x640 1 potholes, 22.9ms\n",
      "image 213/504 E:\\University\\PythonProject\\UltralyticsPotholes\\potholes\\part7\\sr6gdod8.jpg: 384x640 (no detections), 17.0ms\n",
      "image 214/504 E:\\University\\PythonProject\\UltralyticsPotholes\\potholes\\part7\\sre0i4cb.jpg: 640x640 (no detections), 24.9ms\n",
      "image 215/504 E:\\University\\PythonProject\\UltralyticsPotholes\\potholes\\part7\\srj280ao.jpg: 448x640 1 potholes, 21.9ms\n",
      "image 216/504 E:\\University\\PythonProject\\UltralyticsPotholes\\potholes\\part7\\sruk8wee.jpg: 384x640 1 potholes, 17.0ms\n",
      "image 217/504 E:\\University\\PythonProject\\UltralyticsPotholes\\potholes\\part7\\ss411cjd.jpg: 448x640 2 potholess, 20.9ms\n",
      "image 218/504 E:\\University\\PythonProject\\UltralyticsPotholes\\potholes\\part7\\ss4baisi.jpg: 640x640 3 potholess, 24.9ms\n",
      "image 219/504 E:\\University\\PythonProject\\UltralyticsPotholes\\potholes\\part7\\ss5mr29n.jpg: 416x640 (no detections), 20.9ms\n",
      "image 220/504 E:\\University\\PythonProject\\UltralyticsPotholes\\potholes\\part7\\ssmx4twm.jpg: 480x640 (no detections), 21.9ms\n",
      "image 221/504 E:\\University\\PythonProject\\UltralyticsPotholes\\potholes\\part7\\st70yqj5.jpg: 448x640 1 potholes, 21.9ms\n",
      "image 222/504 E:\\University\\PythonProject\\UltralyticsPotholes\\potholes\\part7\\std0n9t8.jpg: 480x640 3 potholess, 21.9ms\n",
      "image 223/504 E:\\University\\PythonProject\\UltralyticsPotholes\\potholes\\part7\\stx0jbdc.jpg: 640x480 6 potholess, 18.9ms\n",
      "image 224/504 E:\\University\\PythonProject\\UltralyticsPotholes\\potholes\\part7\\su0pxzri.jpg: 480x640 2 potholess, 22.9ms\n",
      "image 225/504 E:\\University\\PythonProject\\UltralyticsPotholes\\potholes\\part7\\sudsmk94.jpg: 448x640 4 potholess, 20.9ms\n",
      "image 226/504 E:\\University\\PythonProject\\UltralyticsPotholes\\potholes\\part7\\suitg178.jpg: 384x640 (no detections), 17.0ms\n",
      "image 227/504 E:\\University\\PythonProject\\UltralyticsPotholes\\potholes\\part7\\suq1co17.jpg: 640x480 2 potholess, 19.9ms\n",
      "image 228/504 E:\\University\\PythonProject\\UltralyticsPotholes\\potholes\\part7\\sv8cgvp5.jpg: 416x640 11 potholess, 20.9ms\n",
      "image 229/504 E:\\University\\PythonProject\\UltralyticsPotholes\\potholes\\part7\\sviu1sfp.jpg: 480x640 1 potholes, 22.9ms\n",
      "image 230/504 E:\\University\\PythonProject\\UltralyticsPotholes\\potholes\\part7\\svv3v91g.jpg: 640x640 (no detections), 24.9ms\n",
      "image 231/504 E:\\University\\PythonProject\\UltralyticsPotholes\\potholes\\part7\\swc9swlh.jpg: 384x640 1 potholes, 18.0ms\n",
      "image 232/504 E:\\University\\PythonProject\\UltralyticsPotholes\\potholes\\part7\\swly9udw.jpg: 448x640 6 potholess, 20.9ms\n",
      "image 233/504 E:\\University\\PythonProject\\UltralyticsPotholes\\potholes\\part7\\swze9my3.jpg: 640x480 (no detections), 20.9ms\n",
      "image 234/504 E:\\University\\PythonProject\\UltralyticsPotholes\\potholes\\part7\\sxc3q02o.jpg: 480x640 3 potholess, 22.9ms\n",
      "image 235/504 E:\\University\\PythonProject\\UltralyticsPotholes\\potholes\\part7\\sy3nsxrl.jpg: 640x416 4 potholess, 83.8ms\n",
      "image 236/504 E:\\University\\PythonProject\\UltralyticsPotholes\\potholes\\part7\\sycucfrc.jpg: 640x640 1 potholes, 23.9ms\n",
      "image 237/504 E:\\University\\PythonProject\\UltralyticsPotholes\\potholes\\part7\\syzb555e.jpg: 480x640 2 potholess, 21.9ms\n",
      "image 238/504 E:\\University\\PythonProject\\UltralyticsPotholes\\potholes\\part7\\sz9rhy3j.jpg: 640x480 3 potholess, 19.9ms\n",
      "image 239/504 E:\\University\\PythonProject\\UltralyticsPotholes\\potholes\\part7\\szgp75c1.jpg: 480x640 4 potholess, 20.9ms\n",
      "image 240/504 E:\\University\\PythonProject\\UltralyticsPotholes\\potholes\\part7\\szjhklb0.jpg: 480x640 2 potholess, 19.9ms\n",
      "image 241/504 E:\\University\\PythonProject\\UltralyticsPotholes\\potholes\\part7\\szl9uaoo.jpg: 416x640 (no detections), 19.9ms\n",
      "image 242/504 E:\\University\\PythonProject\\UltralyticsPotholes\\potholes\\part7\\szwzvl6y.jpg: 448x640 5 potholess, 20.9ms\n",
      "image 243/504 E:\\University\\PythonProject\\UltralyticsPotholes\\potholes\\part7\\t01eozrq.jpg: 448x640 1 potholes, 20.9ms\n",
      "image 244/504 E:\\University\\PythonProject\\UltralyticsPotholes\\potholes\\part7\\t03k70uz.jpg: 384x640 2 potholess, 18.0ms\n",
      "image 245/504 E:\\University\\PythonProject\\UltralyticsPotholes\\potholes\\part7\\t04zweyd.jpg: 352x640 5 potholess, 17.0ms\n",
      "image 246/504 E:\\University\\PythonProject\\UltralyticsPotholes\\potholes\\part7\\t0bgz7ax.jpg: 448x640 2 potholess, 19.9ms\n",
      "image 247/504 E:\\University\\PythonProject\\UltralyticsPotholes\\potholes\\part7\\t0p2tmvs.jpg: 384x640 1 potholes, 17.0ms\n",
      "image 248/504 E:\\University\\PythonProject\\UltralyticsPotholes\\potholes\\part7\\t158i4in.jpg: 384x640 1 potholes, 15.0ms\n",
      "image 249/504 E:\\University\\PythonProject\\UltralyticsPotholes\\potholes\\part7\\t2yg2ewc.jpg: 480x640 2 potholess, 20.9ms\n",
      "image 250/504 E:\\University\\PythonProject\\UltralyticsPotholes\\potholes\\part7\\t328qq0e.jpg: 448x640 2 potholess, 22.9ms\n",
      "image 251/504 E:\\University\\PythonProject\\UltralyticsPotholes\\potholes\\part7\\t49z4u8o.jpg: 384x640 1 potholes, 18.0ms\n",
      "image 252/504 E:\\University\\PythonProject\\UltralyticsPotholes\\potholes\\part7\\t53kzfgz.jpg: 640x480 1 potholes, 21.9ms\n",
      "image 253/504 E:\\University\\PythonProject\\UltralyticsPotholes\\potholes\\part7\\t61goflx.jpg: 448x640 3 potholess, 25.9ms\n",
      "image 254/504 E:\\University\\PythonProject\\UltralyticsPotholes\\potholes\\part7\\t6hc6zst.jpg: 480x640 4 potholess, 31.9ms\n",
      "image 255/504 E:\\University\\PythonProject\\UltralyticsPotholes\\potholes\\part7\\t6ky1akc.jpg: 416x640 2 potholess, 32.9ms\n",
      "image 256/504 E:\\University\\PythonProject\\UltralyticsPotholes\\potholes\\part7\\t6lgjio3.jpg: 384x640 3 potholess, 25.9ms\n",
      "image 257/504 E:\\University\\PythonProject\\UltralyticsPotholes\\potholes\\part7\\t744lxom.jpg: 384x640 4 potholess, 23.9ms\n",
      "image 258/504 E:\\University\\PythonProject\\UltralyticsPotholes\\potholes\\part7\\t7qhybqt.jpg: 480x640 2 potholess, 32.9ms\n",
      "image 259/504 E:\\University\\PythonProject\\UltralyticsPotholes\\potholes\\part7\\t7vnz98o.jpg: 640x640 (no detections), 26.9ms\n",
      "image 260/504 E:\\University\\PythonProject\\UltralyticsPotholes\\potholes\\part7\\t8cse8ck.jpg: 640x544 (no detections), 24.9ms\n",
      "image 261/504 E:\\University\\PythonProject\\UltralyticsPotholes\\potholes\\part7\\t8qtgzmh.jpg: 640x480 1 potholes, 21.9ms\n",
      "image 262/504 E:\\University\\PythonProject\\UltralyticsPotholes\\potholes\\part7\\t9mermfl.jpg: 448x640 1 potholes, 23.9ms\n",
      "image 263/504 E:\\University\\PythonProject\\UltralyticsPotholes\\potholes\\part7\\t9p7ecl4.jpg: 416x640 1 potholes, 20.9ms\n",
      "image 264/504 E:\\University\\PythonProject\\UltralyticsPotholes\\potholes\\part7\\ta1ifk1h.jpg: 352x640 2 potholess, 16.0ms\n",
      "image 265/504 E:\\University\\PythonProject\\UltralyticsPotholes\\potholes\\part7\\tam35hde.jpg: 640x480 1 potholes, 19.9ms\n",
      "image 266/504 E:\\University\\PythonProject\\UltralyticsPotholes\\potholes\\part7\\tamn2mmz.jpg: 448x640 (no detections), 20.9ms\n",
      "image 267/504 E:\\University\\PythonProject\\UltralyticsPotholes\\potholes\\part7\\tau5ujcd.jpg: 480x640 (no detections), 20.9ms\n",
      "image 268/504 E:\\University\\PythonProject\\UltralyticsPotholes\\potholes\\part7\\tax1cdgl.jpg: 480x640 1 potholes, 20.9ms\n",
      "image 269/504 E:\\University\\PythonProject\\UltralyticsPotholes\\potholes\\part7\\tb6s29zi.jpg: 448x640 (no detections), 20.9ms\n",
      "image 270/504 E:\\University\\PythonProject\\UltralyticsPotholes\\potholes\\part7\\tb8xajrl.jpg: 384x640 (no detections), 17.0ms\n",
      "image 271/504 E:\\University\\PythonProject\\UltralyticsPotholes\\potholes\\part7\\tbdux0xb.jpg: 640x640 (no detections), 25.9ms\n",
      "image 272/504 E:\\University\\PythonProject\\UltralyticsPotholes\\potholes\\part7\\tbzr6zsr.jpg: 448x640 (no detections), 21.9ms\n",
      "image 273/504 E:\\University\\PythonProject\\UltralyticsPotholes\\potholes\\part7\\tc3robyh.jpg: 480x640 (no detections), 21.9ms\n",
      "image 274/504 E:\\University\\PythonProject\\UltralyticsPotholes\\potholes\\part7\\tc8vp879.jpg: 384x640 1 potholes, 16.0ms\n",
      "image 275/504 E:\\University\\PythonProject\\UltralyticsPotholes\\potholes\\part7\\tcv1rkeg.jpg: 640x640 (no detections), 23.9ms\n",
      "image 276/504 E:\\University\\PythonProject\\UltralyticsPotholes\\potholes\\part7\\tdj7ay37.jpg: 416x640 1 potholes, 21.9ms\n",
      "image 277/504 E:\\University\\PythonProject\\UltralyticsPotholes\\potholes\\part7\\tdmite1q.jpg: 448x640 2 potholess, 20.9ms\n",
      "image 278/504 E:\\University\\PythonProject\\UltralyticsPotholes\\potholes\\part7\\tdp2oacx.jpg: 448x640 (no detections), 20.9ms\n",
      "image 279/504 E:\\University\\PythonProject\\UltralyticsPotholes\\potholes\\part7\\telh9555.jpg: 640x448 2 potholess, 19.9ms\n",
      "image 280/504 E:\\University\\PythonProject\\UltralyticsPotholes\\potholes\\part7\\temv12zh.jpg: 448x640 2 potholess, 19.9ms\n",
      "image 281/504 E:\\University\\PythonProject\\UltralyticsPotholes\\potholes\\part7\\tenwuntm.jpg: 640x480 2 potholess, 18.9ms\n",
      "image 282/504 E:\\University\\PythonProject\\UltralyticsPotholes\\potholes\\part7\\tf3n8sni.jpg: 640x640 1 potholes, 24.9ms\n",
      "image 283/504 E:\\University\\PythonProject\\UltralyticsPotholes\\potholes\\part7\\tfkebvqy.jpg: 640x640 2 potholess, 23.9ms\n",
      "image 284/504 E:\\University\\PythonProject\\UltralyticsPotholes\\potholes\\part7\\tg1939jy.jpg: 384x640 1 potholes, 16.0ms\n",
      "image 285/504 E:\\University\\PythonProject\\UltralyticsPotholes\\potholes\\part7\\tgb1tdfo.jpg: 384x640 6 potholess, 16.0ms\n",
      "image 286/504 E:\\University\\PythonProject\\UltralyticsPotholes\\potholes\\part7\\tgppaqxx.jpg: 544x640 4 potholess, 21.9ms\n",
      "image 287/504 E:\\University\\PythonProject\\UltralyticsPotholes\\potholes\\part7\\tgt0aq1s.jpg: 480x640 1 potholes, 21.9ms\n",
      "image 288/504 E:\\University\\PythonProject\\UltralyticsPotholes\\potholes\\part7\\tgwvlzgk.jpg: 448x640 1 potholes, 20.9ms\n",
      "image 289/504 E:\\University\\PythonProject\\UltralyticsPotholes\\potholes\\part7\\th9nlmob.jpg: 640x576 (no detections), 20.9ms\n",
      "image 290/504 E:\\University\\PythonProject\\UltralyticsPotholes\\potholes\\part7\\thcibmqp.jpg: 448x640 2 potholess, 22.9ms\n",
      "image 291/504 E:\\University\\PythonProject\\UltralyticsPotholes\\potholes\\part7\\thgo564n.jpg: 640x640 1 potholes, 23.9ms\n",
      "image 292/504 E:\\University\\PythonProject\\UltralyticsPotholes\\potholes\\part7\\thsun6bx.jpg: 320x640 5 potholess, 16.0ms\n",
      "image 293/504 E:\\University\\PythonProject\\UltralyticsPotholes\\potholes\\part7\\ti9qdzld.jpg: 384x640 1 potholes, 16.0ms\n",
      "image 294/504 E:\\University\\PythonProject\\UltralyticsPotholes\\potholes\\part7\\ti9t0gy4.jpg: 640x480 1 potholes, 20.9ms\n",
      "image 295/504 E:\\University\\PythonProject\\UltralyticsPotholes\\potholes\\part7\\tibl6dwn.jpg: 640x576 (no detections), 22.9ms\n",
      "image 296/504 E:\\University\\PythonProject\\UltralyticsPotholes\\potholes\\part7\\tibs2ylo.jpg: 640x480 2 potholess, 19.9ms\n",
      "image 297/504 E:\\University\\PythonProject\\UltralyticsPotholes\\potholes\\part7\\tibvoh82.jpg: 448x640 3 potholess, 19.9ms\n",
      "image 298/504 E:\\University\\PythonProject\\UltralyticsPotholes\\potholes\\part7\\tieguf3c.jpg: 480x640 2 potholess, 22.9ms\n",
      "image 299/504 E:\\University\\PythonProject\\UltralyticsPotholes\\potholes\\part7\\tieopsyj.jpg: 480x640 (no detections), 21.9ms\n",
      "image 300/504 E:\\University\\PythonProject\\UltralyticsPotholes\\potholes\\part7\\tilplzny.jpg: 384x640 3 potholess, 17.0ms\n",
      "image 301/504 E:\\University\\PythonProject\\UltralyticsPotholes\\potholes\\part7\\tjck8gy6.jpg: 640x480 1 potholes, 19.0ms\n",
      "image 302/504 E:\\University\\PythonProject\\UltralyticsPotholes\\potholes\\part7\\tk5xf5kc.jpg: 640x512 1 potholes, 19.9ms\n",
      "image 303/504 E:\\University\\PythonProject\\UltralyticsPotholes\\potholes\\part7\\tka18fwe.jpg: 448x640 8 potholess, 20.9ms\n",
      "image 304/504 E:\\University\\PythonProject\\UltralyticsPotholes\\potholes\\part7\\tkd7i52d.jpg: 384x640 2 potholess, 16.0ms\n",
      "image 305/504 E:\\University\\PythonProject\\UltralyticsPotholes\\potholes\\part7\\tkmcp8ib.jpg: 640x480 1 potholes, 19.9ms\n",
      "image 306/504 E:\\University\\PythonProject\\UltralyticsPotholes\\potholes\\part7\\tl5omqcd.jpg: 640x480 3 potholess, 18.0ms\n",
      "image 307/504 E:\\University\\PythonProject\\UltralyticsPotholes\\potholes\\part7\\tl7xsf5j.jpg: 544x640 2 potholess, 21.9ms\n",
      "image 308/504 E:\\University\\PythonProject\\UltralyticsPotholes\\potholes\\part7\\tlb5zo9o.jpg: 640x480 2 potholess, 20.9ms\n",
      "image 309/504 E:\\University\\PythonProject\\UltralyticsPotholes\\potholes\\part7\\tluo1cy3.jpg: 448x640 1 potholes, 20.9ms\n",
      "image 310/504 E:\\University\\PythonProject\\UltralyticsPotholes\\potholes\\part7\\tm2blkvk.jpg: 384x640 2 potholess, 17.0ms\n",
      "image 311/504 E:\\University\\PythonProject\\UltralyticsPotholes\\potholes\\part7\\tm3pn0b3.jpg: 480x640 1 potholes, 21.9ms\n",
      "image 312/504 E:\\University\\PythonProject\\UltralyticsPotholes\\potholes\\part7\\tmf39h0u.jpg: 416x640 (no detections), 22.9ms\n",
      "image 313/504 E:\\University\\PythonProject\\UltralyticsPotholes\\potholes\\part7\\tnqrz3e8.jpg: 288x640 (no detections), 15.0ms\n",
      "image 314/504 E:\\University\\PythonProject\\UltralyticsPotholes\\potholes\\part7\\tnxyih7p.jpg: 480x640 2 potholess, 21.9ms\n",
      "image 315/504 E:\\University\\PythonProject\\UltralyticsPotholes\\potholes\\part7\\too6yng6.jpg: 480x640 2 potholess, 20.9ms\n",
      "image 316/504 E:\\University\\PythonProject\\UltralyticsPotholes\\potholes\\part7\\toy5wsey.jpg: 288x640 (no detections), 15.0ms\n",
      "image 317/504 E:\\University\\PythonProject\\UltralyticsPotholes\\potholes\\part7\\tph8qaiq.jpg: 512x640 5 potholess, 20.9ms\n",
      "image 318/504 E:\\University\\PythonProject\\UltralyticsPotholes\\potholes\\part7\\tr6we624.jpg: 448x640 1 potholes, 21.9ms\n",
      "image 319/504 E:\\University\\PythonProject\\UltralyticsPotholes\\potholes\\part7\\tr9h11l9.jpg: 448x640 4 potholess, 19.9ms\n",
      "image 320/504 E:\\University\\PythonProject\\UltralyticsPotholes\\potholes\\part7\\ts2ozr6p.jpg: 640x480 1 potholes, 21.9ms\n",
      "image 321/504 E:\\University\\PythonProject\\UltralyticsPotholes\\potholes\\part7\\ts9fmazf.jpg: 480x640 1 potholes, 22.9ms\n",
      "image 322/504 E:\\University\\PythonProject\\UltralyticsPotholes\\potholes\\part7\\tsbnkmka.jpg: 480x640 1 potholes, 20.9ms\n",
      "image 323/504 E:\\University\\PythonProject\\UltralyticsPotholes\\potholes\\part7\\tsferm2e.jpg: 448x640 4 potholess, 19.9ms\n",
      "image 324/504 E:\\University\\PythonProject\\UltralyticsPotholes\\potholes\\part7\\tslqvktp.jpg: 640x544 2 potholess, 21.9ms\n",
      "image 325/504 E:\\University\\PythonProject\\UltralyticsPotholes\\potholes\\part7\\tssybe8d.jpg: 384x640 (no detections), 17.0ms\n",
      "image 326/504 E:\\University\\PythonProject\\UltralyticsPotholes\\potholes\\part7\\tt9vbjts.jpg: 448x640 (no detections), 20.9ms\n",
      "image 327/504 E:\\University\\PythonProject\\UltralyticsPotholes\\potholes\\part7\\ttc96587.jpg: 480x640 1 potholes, 21.9ms\n",
      "image 328/504 E:\\University\\PythonProject\\UltralyticsPotholes\\potholes\\part7\\ttlvprjg.jpg: 448x640 1 potholes, 20.9ms\n",
      "image 329/504 E:\\University\\PythonProject\\UltralyticsPotholes\\potholes\\part7\\ttqod7ww.jpg: 480x640 1 potholes, 22.9ms\n",
      "image 330/504 E:\\University\\PythonProject\\UltralyticsPotholes\\potholes\\part7\\ttzl3wen.jpg: 384x640 2 potholess, 17.0ms\n",
      "image 331/504 E:\\University\\PythonProject\\UltralyticsPotholes\\potholes\\part7\\tu0pe2xi.jpg: 384x640 1 potholes, 16.0ms\n",
      "image 332/504 E:\\University\\PythonProject\\UltralyticsPotholes\\potholes\\part7\\tu2o1441.jpg: 640x480 4 potholess, 18.9ms\n",
      "image 333/504 E:\\University\\PythonProject\\UltralyticsPotholes\\potholes\\part7\\tugrv6ka.jpg: 480x640 2 potholess, 21.9ms\n",
      "image 334/504 E:\\University\\PythonProject\\UltralyticsPotholes\\potholes\\part7\\tv74n7ua.jpg: 448x640 4 potholess, 20.9ms\n",
      "image 335/504 E:\\University\\PythonProject\\UltralyticsPotholes\\potholes\\part7\\tx6q4ub2.jpg: 640x640 (no detections), 24.9ms\n",
      "image 336/504 E:\\University\\PythonProject\\UltralyticsPotholes\\potholes\\part7\\txbim736.jpg: 448x640 3 potholess, 20.9ms\n",
      "image 337/504 E:\\University\\PythonProject\\UltralyticsPotholes\\potholes\\part7\\txssjtf2.jpg: 576x640 (no detections), 74.8ms\n",
      "image 338/504 E:\\University\\PythonProject\\UltralyticsPotholes\\potholes\\part7\\txynphmx.jpg: 480x640 4 potholess, 22.9ms\n",
      "image 339/504 E:\\University\\PythonProject\\UltralyticsPotholes\\potholes\\part7\\ty1bsqxg.jpg: 448x640 2 potholess, 20.9ms\n",
      "image 340/504 E:\\University\\PythonProject\\UltralyticsPotholes\\potholes\\part7\\tydw5hua.jpg: 352x640 (no detections), 16.0ms\n",
      "image 341/504 E:\\University\\PythonProject\\UltralyticsPotholes\\potholes\\part7\\tyxa5gzd.jpg: 640x640 1 potholes, 23.9ms\n",
      "image 342/504 E:\\University\\PythonProject\\UltralyticsPotholes\\potholes\\part7\\tz1fgzzz.jpg: 384x640 1 potholes, 17.0ms\n",
      "image 343/504 E:\\University\\PythonProject\\UltralyticsPotholes\\potholes\\part7\\tz1uml1k.jpg: 480x640 1 potholes, 22.9ms\n",
      "image 344/504 E:\\University\\PythonProject\\UltralyticsPotholes\\potholes\\part7\\tztrgrpu.jpg: 288x640 (no detections), 15.0ms\n",
      "image 345/504 E:\\University\\PythonProject\\UltralyticsPotholes\\potholes\\part7\\tzyk48fn.jpg: 480x640 (no detections), 22.9ms\n",
      "image 346/504 E:\\University\\PythonProject\\UltralyticsPotholes\\potholes\\part7\\u07w0x0y.jpg: 384x640 (no detections), 18.0ms\n",
      "image 347/504 E:\\University\\PythonProject\\UltralyticsPotholes\\potholes\\part7\\u0882elt.jpg: 448x640 1 potholes, 21.9ms\n",
      "image 348/504 E:\\University\\PythonProject\\UltralyticsPotholes\\potholes\\part7\\u0m8zdqu.jpg: 352x640 14 potholess, 17.0ms\n",
      "image 349/504 E:\\University\\PythonProject\\UltralyticsPotholes\\potholes\\part7\\u0q22ytz.jpg: 416x640 2 potholess, 21.9ms\n",
      "image 350/504 E:\\University\\PythonProject\\UltralyticsPotholes\\potholes\\part7\\u0r7d0qd.jpg: 384x640 12 potholess, 17.0ms\n",
      "image 351/504 E:\\University\\PythonProject\\UltralyticsPotholes\\potholes\\part7\\u17dznzt.jpg: 384x640 3 potholess, 16.0ms\n",
      "image 352/504 E:\\University\\PythonProject\\UltralyticsPotholes\\potholes\\part7\\u1hlyr3p.jpg: 384x640 4 potholess, 16.0ms\n",
      "image 353/504 E:\\University\\PythonProject\\UltralyticsPotholes\\potholes\\part7\\u1ighbwk.jpg: 352x640 2 potholess, 16.0ms\n",
      "image 354/504 E:\\University\\PythonProject\\UltralyticsPotholes\\potholes\\part7\\u1lm5i1s.jpg: 352x640 1 potholes, 16.0ms\n",
      "image 355/504 E:\\University\\PythonProject\\UltralyticsPotholes\\potholes\\part7\\u1m3bkfr.jpg: 448x640 (no detections), 20.9ms\n",
      "image 356/504 E:\\University\\PythonProject\\UltralyticsPotholes\\potholes\\part7\\u1t97m2e.jpg: 640x480 2 potholess, 20.9ms\n",
      "image 357/504 E:\\University\\PythonProject\\UltralyticsPotholes\\potholes\\part7\\u20xlc5s.jpg: 416x640 3 potholess, 20.9ms\n",
      "image 358/504 E:\\University\\PythonProject\\UltralyticsPotholes\\potholes\\part7\\u2aw980w.jpg: 480x640 2 potholess, 22.9ms\n",
      "image 359/504 E:\\University\\PythonProject\\UltralyticsPotholes\\potholes\\part7\\u2dlv0ka.jpg: 640x640 4 potholess, 24.9ms\n",
      "image 360/504 E:\\University\\PythonProject\\UltralyticsPotholes\\potholes\\part7\\u2f06lnv.jpg: 448x640 1 potholes, 20.9ms\n",
      "image 361/504 E:\\University\\PythonProject\\UltralyticsPotholes\\potholes\\part7\\u2jisxe1.jpg: 448x640 (no detections), 19.9ms\n",
      "image 362/504 E:\\University\\PythonProject\\UltralyticsPotholes\\potholes\\part7\\u31hlrpt.jpg: 640x640 4 potholess, 24.9ms\n",
      "image 363/504 E:\\University\\PythonProject\\UltralyticsPotholes\\potholes\\part7\\u34e5enl.jpg: 384x640 5 potholess, 17.0ms\n",
      "image 364/504 E:\\University\\PythonProject\\UltralyticsPotholes\\potholes\\part7\\u3bfzev9.jpg: 448x640 3 potholess, 20.9ms\n",
      "image 365/504 E:\\University\\PythonProject\\UltralyticsPotholes\\potholes\\part7\\u3v1nvw1.jpg: 352x640 2 potholess, 16.0ms\n",
      "image 366/504 E:\\University\\PythonProject\\UltralyticsPotholes\\potholes\\part7\\u51rwrye.jpg: 416x640 1 potholes, 20.9ms\n",
      "image 367/504 E:\\University\\PythonProject\\UltralyticsPotholes\\potholes\\part7\\u5d3y1cc.jpg: 384x640 3 potholess, 16.0ms\n",
      "image 368/504 E:\\University\\PythonProject\\UltralyticsPotholes\\potholes\\part7\\u5h2nupv.jpg: 352x640 2 potholess, 17.0ms\n",
      "image 369/504 E:\\University\\PythonProject\\UltralyticsPotholes\\potholes\\part7\\u649boxc.jpg: 384x640 (no detections), 17.0ms\n",
      "image 370/504 E:\\University\\PythonProject\\UltralyticsPotholes\\potholes\\part7\\u6ms1pbv.jpg: 576x640 2 potholess, 21.9ms\n",
      "image 371/504 E:\\University\\PythonProject\\UltralyticsPotholes\\potholes\\part7\\u6tqqozv.jpg: 480x640 (no detections), 23.9ms\n",
      "image 372/504 E:\\University\\PythonProject\\UltralyticsPotholes\\potholes\\part7\\u7uvwuqs.jpg: 512x640 3 potholess, 21.9ms\n",
      "image 373/504 E:\\University\\PythonProject\\UltralyticsPotholes\\potholes\\part7\\u84fc2ct.jpg: 640x480 2 potholess, 20.9ms\n",
      "image 374/504 E:\\University\\PythonProject\\UltralyticsPotholes\\potholes\\part7\\u8clswv8.jpg: 384x640 (no detections), 17.0ms\n",
      "image 375/504 E:\\University\\PythonProject\\UltralyticsPotholes\\potholes\\part7\\u8vedc0c.jpg: 640x640 1 potholes, 23.9ms\n",
      "image 376/504 E:\\University\\PythonProject\\UltralyticsPotholes\\potholes\\part7\\u8w5i6s8.jpg: 448x640 3 potholess, 20.9ms\n",
      "image 377/504 E:\\University\\PythonProject\\UltralyticsPotholes\\potholes\\part7\\u8yfo8ut.jpg: 640x640 (no detections), 25.9ms\n",
      "image 378/504 E:\\University\\PythonProject\\UltralyticsPotholes\\potholes\\part7\\u9bcp1sl.jpg: 448x640 7 potholess, 22.9ms\n",
      "image 379/504 E:\\University\\PythonProject\\UltralyticsPotholes\\potholes\\part7\\u9ju7vjn.jpg: 448x640 2 potholess, 19.9ms\n",
      "image 380/504 E:\\University\\PythonProject\\UltralyticsPotholes\\potholes\\part7\\u9tm719t.jpg: 448x640 20 potholess, 19.9ms\n",
      "image 381/504 E:\\University\\PythonProject\\UltralyticsPotholes\\potholes\\part7\\uan1458k.jpg: 448x640 5 potholess, 19.9ms\n",
      "image 382/504 E:\\University\\PythonProject\\UltralyticsPotholes\\potholes\\part7\\uao2xdac.jpg: 448x640 12 potholess, 20.9ms\n",
      "image 383/504 E:\\University\\PythonProject\\UltralyticsPotholes\\potholes\\part7\\ub0g5v96.jpg: 480x640 (no detections), 21.9ms\n",
      "image 384/504 E:\\University\\PythonProject\\UltralyticsPotholes\\potholes\\part7\\ub7vpoxl.jpg: 640x480 5 potholess, 20.9ms\n",
      "image 385/504 E:\\University\\PythonProject\\UltralyticsPotholes\\potholes\\part7\\uc5lwaif.jpg: 448x640 2 potholess, 20.9ms\n",
      "image 386/504 E:\\University\\PythonProject\\UltralyticsPotholes\\potholes\\part7\\ucbo0gqy.jpg: 320x640 (no detections), 16.0ms\n",
      "image 387/504 E:\\University\\PythonProject\\UltralyticsPotholes\\potholes\\part7\\ucgpcwnf.jpg: 512x640 2 potholess, 21.9ms\n",
      "image 388/504 E:\\University\\PythonProject\\UltralyticsPotholes\\potholes\\part7\\ucs0d3ov.jpg: 448x640 4 potholess, 37.9ms\n",
      "image 389/504 E:\\University\\PythonProject\\UltralyticsPotholes\\potholes\\part7\\ud4gcqli.jpg: 480x640 1 potholes, 20.9ms\n",
      "image 390/504 E:\\University\\PythonProject\\UltralyticsPotholes\\potholes\\part7\\udg7k776.jpg: 448x640 3 potholess, 20.9ms\n",
      "image 391/504 E:\\University\\PythonProject\\UltralyticsPotholes\\potholes\\part7\\udyv80qo.jpg: 448x640 2 potholess, 20.9ms\n",
      "image 392/504 E:\\University\\PythonProject\\UltralyticsPotholes\\potholes\\part7\\ue9flroy.jpg: 384x640 4 potholess, 17.0ms\n",
      "image 393/504 E:\\University\\PythonProject\\UltralyticsPotholes\\potholes\\part7\\uef4p2zp.jpg: 640x640 (no detections), 22.9ms\n",
      "image 394/504 E:\\University\\PythonProject\\UltralyticsPotholes\\potholes\\part7\\uekg6vo3.jpg: 480x640 5 potholess, 21.9ms\n",
      "image 395/504 E:\\University\\PythonProject\\UltralyticsPotholes\\potholes\\part7\\uenxbnt5.jpg: 352x640 2 potholess, 17.0ms\n",
      "image 396/504 E:\\University\\PythonProject\\UltralyticsPotholes\\potholes\\part7\\uf1f68wg.jpg: 288x640 (no detections), 14.0ms\n",
      "image 397/504 E:\\University\\PythonProject\\UltralyticsPotholes\\potholes\\part7\\uf9alhlt.jpg: 640x480 (no detections), 19.9ms\n",
      "image 398/504 E:\\University\\PythonProject\\UltralyticsPotholes\\potholes\\part7\\ufcaxl52.jpg: 448x640 1 potholes, 21.9ms\n",
      "image 399/504 E:\\University\\PythonProject\\UltralyticsPotholes\\potholes\\part7\\uffmn0id.jpg: 448x640 1 potholes, 20.9ms\n",
      "image 400/504 E:\\University\\PythonProject\\UltralyticsPotholes\\potholes\\part7\\ufkzsf18.jpg: 480x640 3 potholess, 21.9ms\n",
      "image 401/504 E:\\University\\PythonProject\\UltralyticsPotholes\\potholes\\part7\\uflwb88j.jpg: 448x640 3 potholess, 20.9ms\n",
      "image 402/504 E:\\University\\PythonProject\\UltralyticsPotholes\\potholes\\part7\\ufrwhg97.jpg: 640x640 1 potholes, 25.0ms\n",
      "image 403/504 E:\\University\\PythonProject\\UltralyticsPotholes\\potholes\\part7\\ufts51do.jpg: 448x640 2 potholess, 21.9ms\n",
      "image 404/504 E:\\University\\PythonProject\\UltralyticsPotholes\\potholes\\part7\\ug6vlyky.jpg: 384x640 1 potholes, 17.0ms\n",
      "image 405/504 E:\\University\\PythonProject\\UltralyticsPotholes\\potholes\\part7\\ugauq0xh.jpg: 640x640 (no detections), 23.9ms\n",
      "image 406/504 E:\\University\\PythonProject\\UltralyticsPotholes\\potholes\\part7\\ugd099lx.jpg: 640x640 2 potholess, 23.9ms\n",
      "image 407/504 E:\\University\\PythonProject\\UltralyticsPotholes\\potholes\\part7\\ugkozzkk.jpg: 448x640 1 potholes, 20.9ms\n",
      "image 408/504 E:\\University\\PythonProject\\UltralyticsPotholes\\potholes\\part7\\ugmclezd.jpg: 448x640 1 potholes, 21.5ms\n",
      "image 409/504 E:\\University\\PythonProject\\UltralyticsPotholes\\potholes\\part7\\uhxk0ekh.jpg: 384x640 8 potholess, 17.0ms\n",
      "image 410/504 E:\\University\\PythonProject\\UltralyticsPotholes\\potholes\\part7\\ui7xqxo3.jpg: 640x480 2 potholess, 21.9ms\n",
      "image 411/504 E:\\University\\PythonProject\\UltralyticsPotholes\\potholes\\part7\\uiw3uiim.jpg: 448x640 1 potholes, 20.9ms\n",
      "image 412/504 E:\\University\\PythonProject\\UltralyticsPotholes\\potholes\\part7\\uizp7gmh.jpg: 448x640 2 potholess, 20.9ms\n",
      "image 413/504 E:\\University\\PythonProject\\UltralyticsPotholes\\potholes\\part7\\ujqw66um.jpg: 448x640 2 potholess, 19.9ms\n",
      "image 414/504 E:\\University\\PythonProject\\UltralyticsPotholes\\potholes\\part7\\ukihs2n1.jpg: 448x640 3 potholess, 19.0ms\n",
      "image 415/504 E:\\University\\PythonProject\\UltralyticsPotholes\\potholes\\part7\\ukol3tuc.jpg: 640x640 (no detections), 23.9ms\n",
      "image 416/504 E:\\University\\PythonProject\\UltralyticsPotholes\\potholes\\part7\\ul5zij59.jpg: 384x640 1 potholes, 17.0ms\n",
      "image 417/504 E:\\University\\PythonProject\\UltralyticsPotholes\\potholes\\part7\\ulxfs1vx.jpg: 640x640 1 potholes, 23.9ms\n",
      "image 418/504 E:\\University\\PythonProject\\UltralyticsPotholes\\potholes\\part7\\um694w89.jpg: 448x640 3 potholess, 21.9ms\n",
      "image 419/504 E:\\University\\PythonProject\\UltralyticsPotholes\\potholes\\part7\\ump5c9k7.jpg: 416x640 1 potholes, 20.9ms\n",
      "image 420/504 E:\\University\\PythonProject\\UltralyticsPotholes\\potholes\\part7\\umuem6ck.jpg: 384x640 (no detections), 17.0ms\n",
      "image 421/504 E:\\University\\PythonProject\\UltralyticsPotholes\\potholes\\part7\\unbsj8b5.jpg: 448x640 2 potholess, 21.9ms\n",
      "image 422/504 E:\\University\\PythonProject\\UltralyticsPotholes\\potholes\\part7\\unrmltnn.jpg: 384x640 1 potholes, 18.0ms\n",
      "image 423/504 E:\\University\\PythonProject\\UltralyticsPotholes\\potholes\\part7\\uo0b39vv.jpg: 416x640 1 potholes, 21.9ms\n",
      "image 424/504 E:\\University\\PythonProject\\UltralyticsPotholes\\potholes\\part7\\uob7hlvy.jpg: 640x640 3 potholess, 23.9ms\n",
      "image 425/504 E:\\University\\PythonProject\\UltralyticsPotholes\\potholes\\part7\\upd9cbrj.jpg: 640x480 4 potholess, 19.9ms\n",
      "image 426/504 E:\\University\\PythonProject\\UltralyticsPotholes\\potholes\\part7\\uq7k9km9.jpg: 448x640 5 potholess, 20.9ms\n",
      "image 427/504 E:\\University\\PythonProject\\UltralyticsPotholes\\potholes\\part7\\uqex16rf.jpg: 480x640 1 potholes, 22.9ms\n",
      "image 428/504 E:\\University\\PythonProject\\UltralyticsPotholes\\potholes\\part7\\uqlze5ld.jpg: 448x640 (no detections), 21.9ms\n",
      "image 429/504 E:\\University\\PythonProject\\UltralyticsPotholes\\potholes\\part7\\uqm6vp4s.jpg: 640x640 3 potholess, 23.9ms\n",
      "image 430/504 E:\\University\\PythonProject\\UltralyticsPotholes\\potholes\\part7\\ur6osibw.jpg: 448x640 1 potholes, 20.9ms\n",
      "image 431/504 E:\\University\\PythonProject\\UltralyticsPotholes\\potholes\\part7\\urbg7amy.jpg: 480x640 (no detections), 20.9ms\n",
      "image 432/504 E:\\University\\PythonProject\\UltralyticsPotholes\\potholes\\part7\\urm84ddx.jpg: 480x640 1 potholes, 19.9ms\n",
      "image 433/504 E:\\University\\PythonProject\\UltralyticsPotholes\\potholes\\part7\\us93p9h4.jpg: 448x640 1 potholes, 21.9ms\n",
      "image 434/504 E:\\University\\PythonProject\\UltralyticsPotholes\\potholes\\part7\\usarkx2m.jpg: 416x640 (no detections), 20.9ms\n",
      "image 435/504 E:\\University\\PythonProject\\UltralyticsPotholes\\potholes\\part7\\usay4qin.jpg: 384x640 3 potholess, 17.0ms\n",
      "image 436/504 E:\\University\\PythonProject\\UltralyticsPotholes\\potholes\\part7\\usjqp6hv.jpg: 640x640 (no detections), 24.9ms\n",
      "image 437/504 E:\\University\\PythonProject\\UltralyticsPotholes\\potholes\\part7\\usju4xo8.jpg: 480x640 2 potholess, 21.9ms\n",
      "image 438/504 E:\\University\\PythonProject\\UltralyticsPotholes\\potholes\\part7\\usqkmk7u.jpg: 640x640 (no detections), 25.9ms\n",
      "image 439/504 E:\\University\\PythonProject\\UltralyticsPotholes\\potholes\\part7\\ut0sn65j.jpg: 448x640 2 potholess, 21.9ms\n",
      "image 440/504 E:\\University\\PythonProject\\UltralyticsPotholes\\potholes\\part7\\utqyn6tl.jpg: 480x640 4 potholess, 27.9ms\n",
      "image 441/504 E:\\University\\PythonProject\\UltralyticsPotholes\\potholes\\part7\\utsrh7nf.jpg: 640x480 4 potholess, 23.9ms\n",
      "image 442/504 E:\\University\\PythonProject\\UltralyticsPotholes\\potholes\\part7\\uu9mnzu8.jpg: 448x640 1 potholes, 33.9ms\n",
      "image 443/504 E:\\University\\PythonProject\\UltralyticsPotholes\\potholes\\part7\\uupuvtjz.jpg: 640x640 (no detections), 36.9ms\n",
      "image 444/504 E:\\University\\PythonProject\\UltralyticsPotholes\\potholes\\part7\\uurvfcxb.jpg: 448x640 1 potholes, 29.9ms\n",
      "image 445/504 E:\\University\\PythonProject\\UltralyticsPotholes\\potholes\\part7\\uv3pj59s.jpg: 448x640 (no detections), 25.9ms\n",
      "image 446/504 E:\\University\\PythonProject\\UltralyticsPotholes\\potholes\\part7\\uv5culml.jpg: 448x640 3 potholess, 27.9ms\n",
      "image 447/504 E:\\University\\PythonProject\\UltralyticsPotholes\\potholes\\part7\\uvhm705u.jpg: 640x640 (no detections), 27.9ms\n",
      "image 448/504 E:\\University\\PythonProject\\UltralyticsPotholes\\potholes\\part7\\uvwa7xqd.jpg: 640x640 (no detections), 26.9ms\n",
      "image 449/504 E:\\University\\PythonProject\\UltralyticsPotholes\\potholes\\part7\\uw7bre58.jpg: 384x640 2 potholess, 20.9ms\n",
      "image 450/504 E:\\University\\PythonProject\\UltralyticsPotholes\\potholes\\part7\\uw87n3wq.jpg: 640x640 2 potholess, 29.9ms\n",
      "image 451/504 E:\\University\\PythonProject\\UltralyticsPotholes\\potholes\\part7\\uw8cchwm.jpg: 640x480 3 potholess, 22.9ms\n",
      "image 452/504 E:\\University\\PythonProject\\UltralyticsPotholes\\potholes\\part7\\uwjue3u5.jpg: 640x480 4 potholess, 22.9ms\n",
      "image 453/504 E:\\University\\PythonProject\\UltralyticsPotholes\\potholes\\part7\\uwu4roah.jpg: 384x640 1 potholes, 18.9ms\n",
      "image 454/504 E:\\University\\PythonProject\\UltralyticsPotholes\\potholes\\part7\\uyokvtdm.jpg: 448x640 1 potholes, 23.9ms\n",
      "image 455/504 E:\\University\\PythonProject\\UltralyticsPotholes\\potholes\\part7\\uz0wt35y.jpg: 352x640 1 potholes, 18.9ms\n",
      "image 456/504 E:\\University\\PythonProject\\UltralyticsPotholes\\potholes\\part7\\uzfiy8po.jpg: 448x640 2 potholess, 24.9ms\n",
      "image 457/504 E:\\University\\PythonProject\\UltralyticsPotholes\\potholes\\part7\\v00f3px2.jpg: 384x640 3 potholess, 20.9ms\n",
      "image 458/504 E:\\University\\PythonProject\\UltralyticsPotholes\\potholes\\part7\\v0xh643w.jpg: 480x640 (no detections), 24.9ms\n",
      "image 459/504 E:\\University\\PythonProject\\UltralyticsPotholes\\potholes\\part7\\v1i0qbbq.jpg: 384x640 1 potholes, 17.0ms\n",
      "image 460/504 E:\\University\\PythonProject\\UltralyticsPotholes\\potholes\\part7\\v1jgl2co.jpg: 480x640 2 potholess, 23.9ms\n",
      "image 461/504 E:\\University\\PythonProject\\UltralyticsPotholes\\potholes\\part7\\v255ga1q.jpg: 640x480 4 potholess, 20.9ms\n",
      "image 462/504 E:\\University\\PythonProject\\UltralyticsPotholes\\potholes\\part7\\v27en4gd.jpg: 384x640 1 potholes, 18.9ms\n",
      "image 463/504 E:\\University\\PythonProject\\UltralyticsPotholes\\potholes\\part7\\v28q6zt1.jpg: 512x640 3 potholess, 21.9ms\n",
      "image 464/504 E:\\University\\PythonProject\\UltralyticsPotholes\\potholes\\part7\\v2iucysm.jpg: 448x640 2 potholess, 22.9ms\n",
      "image 465/504 E:\\University\\PythonProject\\UltralyticsPotholes\\potholes\\part7\\v2sav3yg.jpg: 640x480 3 potholess, 21.9ms\n",
      "image 466/504 E:\\University\\PythonProject\\UltralyticsPotholes\\potholes\\part7\\v2t00xu9.jpg: 384x640 1 potholes, 18.0ms\n",
      "image 467/504 E:\\University\\PythonProject\\UltralyticsPotholes\\potholes\\part7\\v2x7l6ev.jpg: 480x640 1 potholes, 22.9ms\n",
      "image 468/504 E:\\University\\PythonProject\\UltralyticsPotholes\\potholes\\part7\\v2xivj07.jpg: 448x640 3 potholess, 23.9ms\n",
      "image 469/504 E:\\University\\PythonProject\\UltralyticsPotholes\\potholes\\part7\\v2xv2ni9.jpg: 640x480 1 potholes, 23.9ms\n",
      "image 470/504 E:\\University\\PythonProject\\UltralyticsPotholes\\potholes\\part7\\v36x9oc2.jpg: 448x640 1 potholes, 23.9ms\n",
      "image 471/504 E:\\University\\PythonProject\\UltralyticsPotholes\\potholes\\part7\\v3b2aqht.jpg: 640x480 (no detections), 23.9ms\n",
      "image 472/504 E:\\University\\PythonProject\\UltralyticsPotholes\\potholes\\part7\\v3d0btbw.jpg: 640x448 1 potholes, 20.9ms\n",
      "image 473/504 E:\\University\\PythonProject\\UltralyticsPotholes\\potholes\\part7\\v3qceo7p.jpg: 448x640 1 potholes, 23.9ms\n",
      "image 474/504 E:\\University\\PythonProject\\UltralyticsPotholes\\potholes\\part7\\v4ggzmhe.jpg: 640x416 3 potholess, 22.9ms\n",
      "image 475/504 E:\\University\\PythonProject\\UltralyticsPotholes\\potholes\\part7\\v4j4akuw.jpg: 448x640 3 potholess, 20.9ms\n",
      "image 476/504 E:\\University\\PythonProject\\UltralyticsPotholes\\potholes\\part7\\v4t0i4f2.jpg: 416x640 1 potholes, 22.9ms\n",
      "image 477/504 E:\\University\\PythonProject\\UltralyticsPotholes\\potholes\\part7\\v5i0x3va.jpg: 448x640 (no detections), 21.9ms\n",
      "image 478/504 E:\\University\\PythonProject\\UltralyticsPotholes\\potholes\\part7\\v5sax7yw.jpg: 480x640 2 potholess, 24.9ms\n",
      "image 479/504 E:\\University\\PythonProject\\UltralyticsPotholes\\potholes\\part7\\v6c76gb6.jpg: 480x640 3 potholess, 21.9ms\n",
      "image 480/504 E:\\University\\PythonProject\\UltralyticsPotholes\\potholes\\part7\\v6ls4d39.jpg: 480x640 (no detections), 20.9ms\n",
      "image 481/504 E:\\University\\PythonProject\\UltralyticsPotholes\\potholes\\part7\\v78uhtsh.jpg: 448x640 2 potholess, 30.9ms\n",
      "image 482/504 E:\\University\\PythonProject\\UltralyticsPotholes\\potholes\\part7\\v7hb7vdg.jpg: 640x640 3 potholess, 23.9ms\n",
      "image 483/504 E:\\University\\PythonProject\\UltralyticsPotholes\\potholes\\part7\\v7l22jav.jpg: 640x480 1 potholes, 20.9ms\n",
      "image 484/504 E:\\University\\PythonProject\\UltralyticsPotholes\\potholes\\part7\\v7zh9szn.jpg: 640x640 2 potholess, 24.9ms\n",
      "image 485/504 E:\\University\\PythonProject\\UltralyticsPotholes\\potholes\\part7\\v81hnz7b.jpg: 384x640 3 potholess, 18.0ms\n",
      "image 486/504 E:\\University\\PythonProject\\UltralyticsPotholes\\potholes\\part7\\v825gxtc.jpg: 384x640 4 potholess, 78.8ms\n",
      "image 487/504 E:\\University\\PythonProject\\UltralyticsPotholes\\potholes\\part7\\v8x0yisb.jpg: 640x480 (no detections), 21.9ms\n",
      "image 488/504 E:\\University\\PythonProject\\UltralyticsPotholes\\potholes\\part7\\v9hs6wuv.jpg: 640x480 1 potholes, 19.9ms\n",
      "image 489/504 E:\\University\\PythonProject\\UltralyticsPotholes\\potholes\\part7\\va11hgdk.jpg: 640x640 (no detections), 25.9ms\n",
      "image 490/504 E:\\University\\PythonProject\\UltralyticsPotholes\\potholes\\part7\\vaaa95js.jpg: 448x640 1 potholes, 22.9ms\n",
      "image 491/504 E:\\University\\PythonProject\\UltralyticsPotholes\\potholes\\part7\\vabq9l42.jpg: 480x640 5 potholess, 25.9ms\n",
      "image 492/504 E:\\University\\PythonProject\\UltralyticsPotholes\\potholes\\part7\\valczrui.jpg: 480x640 (no detections), 21.9ms\n",
      "image 493/504 E:\\University\\PythonProject\\UltralyticsPotholes\\potholes\\part7\\vap1utzz.jpg: 448x640 1 potholes, 22.9ms\n",
      "image 494/504 E:\\University\\PythonProject\\UltralyticsPotholes\\potholes\\part7\\vaq5mdgq.jpg: 480x640 2 potholess, 23.9ms\n",
      "image 495/504 E:\\University\\PythonProject\\UltralyticsPotholes\\potholes\\part7\\vb2snp4p.jpg: 448x640 2 potholess, 37.9ms\n",
      "image 496/504 E:\\University\\PythonProject\\UltralyticsPotholes\\potholes\\part7\\vb95g5xm.jpg: 640x640 2 potholess, 24.9ms\n",
      "image 497/504 E:\\University\\PythonProject\\UltralyticsPotholes\\potholes\\part7\\vbcjbs95.jpg: 448x640 4 potholess, 21.9ms\n",
      "image 498/504 E:\\University\\PythonProject\\UltralyticsPotholes\\potholes\\part7\\vbnmhhg2.jpg: 416x640 6 potholess, 20.9ms\n",
      "image 499/504 E:\\University\\PythonProject\\UltralyticsPotholes\\potholes\\part7\\vc8m27ci.jpg: 448x640 7 potholess, 21.9ms\n",
      "image 500/504 E:\\University\\PythonProject\\UltralyticsPotholes\\potholes\\part7\\vcfmglso.jpg: 640x512 1 potholes, 20.9ms\n",
      "image 501/504 E:\\University\\PythonProject\\UltralyticsPotholes\\potholes\\part7\\vcmnue89.jpg: 640x640 (no detections), 24.9ms\n",
      "image 502/504 E:\\University\\PythonProject\\UltralyticsPotholes\\potholes\\part7\\vcwte7rc.jpg: 384x640 2 potholess, 18.0ms\n",
      "image 503/504 E:\\University\\PythonProject\\UltralyticsPotholes\\potholes\\part7\\vczp7d5x.jpg: 640x480 2 potholess, 19.9ms\n",
      "image 504/504 E:\\University\\PythonProject\\UltralyticsPotholes\\potholes\\part7\\vefyjlxk.jpg: 480x640 1 potholes, 21.9ms\n",
      "Speed: 2.5ms preprocess, 21.9ms inference, 2.1ms postprocess per image at shape (1, 3, 480, 640)\n",
      "Results saved to \u001b[1mruns\\segment\\predict3\u001b[0m\n"
     ]
    }
   ],
   "source": [
    "resultSeven = model('potholes\\\\part7',save=True)"
   ]
  },
  {
   "cell_type": "code",
   "execution_count": 3,
   "id": "e74085b4966aafbc",
   "metadata": {
    "ExecuteTime": {
     "end_time": "2023-12-11T06:28:04.624420800Z",
     "start_time": "2023-12-11T06:27:17.256087400Z"
    },
    "collapsed": false,
    "jupyter": {
     "outputs_hidden": false
    }
   },
   "outputs": [
    {
     "name": "stdout",
     "output_type": "stream",
     "text": [
      "image 1/494 E:\\University\\PythonProject\\UltralyticsPotholes\\potholes\\part8\\vei16iuk.jpg: 448x640 1 potholes, 78.8ms\n",
      "image 2/494 E:\\University\\PythonProject\\UltralyticsPotholes\\potholes\\part8\\ves8f2lu.jpg: 384x640 13 potholess, 78.8ms\n",
      "image 3/494 E:\\University\\PythonProject\\UltralyticsPotholes\\potholes\\part8\\vfa1j6c7.jpg: 384x640 (no detections), 19.9ms\n",
      "image 4/494 E:\\University\\PythonProject\\UltralyticsPotholes\\potholes\\part8\\vfjcxrnl.jpg: 384x640 (no detections), 21.9ms\n",
      "image 5/494 E:\\University\\PythonProject\\UltralyticsPotholes\\potholes\\part8\\vglgfzlw.jpg: 640x640 1 potholes, 32.9ms\n",
      "image 6/494 E:\\University\\PythonProject\\UltralyticsPotholes\\potholes\\part8\\vguc6tfo.jpg: 480x640 2 potholess, 72.8ms\n",
      "image 7/494 E:\\University\\PythonProject\\UltralyticsPotholes\\potholes\\part8\\vh0cvkot.jpg: 640x480 (no detections), 82.8ms\n",
      "image 8/494 E:\\University\\PythonProject\\UltralyticsPotholes\\potholes\\part8\\vh5hijv0.jpg: 320x640 1 potholes, 78.8ms\n",
      "image 9/494 E:\\University\\PythonProject\\UltralyticsPotholes\\potholes\\part8\\vh71oqbt.jpg: 448x640 9 potholess, 26.9ms\n",
      "image 10/494 E:\\University\\PythonProject\\UltralyticsPotholes\\potholes\\part8\\vhxyzte1.jpg: 416x640 1 potholes, 142.6ms\n",
      "image 11/494 E:\\University\\PythonProject\\UltralyticsPotholes\\potholes\\part8\\vifyk5v5.jpg: 384x640 1 potholes, 21.9ms\n",
      "image 12/494 E:\\University\\PythonProject\\UltralyticsPotholes\\potholes\\part8\\vine1t89.jpg: 448x640 1 potholes, 25.9ms\n",
      "image 13/494 E:\\University\\PythonProject\\UltralyticsPotholes\\potholes\\part8\\viyux8zh.jpg: 640x640 (no detections), 28.9ms\n",
      "image 14/494 E:\\University\\PythonProject\\UltralyticsPotholes\\potholes\\part8\\vj4tektp.jpg: 448x640 1 potholes, 25.9ms\n",
      "image 15/494 E:\\University\\PythonProject\\UltralyticsPotholes\\potholes\\part8\\vj59j54e.jpg: 640x640 6 potholess, 26.9ms\n",
      "image 16/494 E:\\University\\PythonProject\\UltralyticsPotholes\\potholes\\part8\\vjj3v84f.jpg: 384x640 2 potholess, 18.0ms\n",
      "image 17/494 E:\\University\\PythonProject\\UltralyticsPotholes\\potholes\\part8\\vjjxul6p.jpg: 352x640 (no detections), 74.8ms\n",
      "image 18/494 E:\\University\\PythonProject\\UltralyticsPotholes\\potholes\\part8\\vkarhmue.jpg: 352x640 2 potholess, 17.0ms\n",
      "image 19/494 E:\\University\\PythonProject\\UltralyticsPotholes\\potholes\\part8\\vklwbbie.jpg: 480x640 1 potholes, 24.9ms\n",
      "image 20/494 E:\\University\\PythonProject\\UltralyticsPotholes\\potholes\\part8\\vko7snch.jpg: 576x640 13 potholess, 75.8ms\n",
      "image 21/494 E:\\University\\PythonProject\\UltralyticsPotholes\\potholes\\part8\\vl2y71f9.jpg: 384x640 3 potholess, 18.9ms\n",
      "image 22/494 E:\\University\\PythonProject\\UltralyticsPotholes\\potholes\\part8\\vl3a0a7z.jpg: 512x640 3 potholess, 73.8ms\n",
      "image 23/494 E:\\University\\PythonProject\\UltralyticsPotholes\\potholes\\part8\\vl42xucx.jpg: 352x640 2 potholess, 18.9ms\n",
      "image 24/494 E:\\University\\PythonProject\\UltralyticsPotholes\\potholes\\part8\\vl9l2mnt.jpg: 640x480 1 potholes, 24.9ms\n",
      "image 25/494 E:\\University\\PythonProject\\UltralyticsPotholes\\potholes\\part8\\vldhm21q.jpg: 448x640 2 potholess, 24.9ms\n",
      "image 26/494 E:\\University\\PythonProject\\UltralyticsPotholes\\potholes\\part8\\vm4b7qfh.jpg: 384x640 2 potholess, 19.9ms\n",
      "image 27/494 E:\\University\\PythonProject\\UltralyticsPotholes\\potholes\\part8\\vm72s92a.jpg: 384x640 6 potholess, 18.9ms\n",
      "image 28/494 E:\\University\\PythonProject\\UltralyticsPotholes\\potholes\\part8\\vmdi7d1q.jpg: 384x640 2 potholess, 18.9ms\n",
      "image 29/494 E:\\University\\PythonProject\\UltralyticsPotholes\\potholes\\part8\\vmokxa27.jpg: 448x640 3 potholess, 26.9ms\n",
      "image 30/494 E:\\University\\PythonProject\\UltralyticsPotholes\\potholes\\part8\\voa9uc4y.jpg: 640x384 2 potholess, 125.7ms\n",
      "image 31/494 E:\\University\\PythonProject\\UltralyticsPotholes\\potholes\\part8\\vohv4zla.jpg: 640x640 (no detections), 26.9ms\n",
      "image 32/494 E:\\University\\PythonProject\\UltralyticsPotholes\\potholes\\part8\\vomdnkid.jpg: 640x640 (no detections), 25.9ms\n",
      "image 33/494 E:\\University\\PythonProject\\UltralyticsPotholes\\potholes\\part8\\vosg4f30.jpg: 640x480 5 potholess, 21.9ms\n",
      "image 34/494 E:\\University\\PythonProject\\UltralyticsPotholes\\potholes\\part8\\vouk6apc.jpg: 448x640 10 potholess, 22.9ms\n",
      "image 35/494 E:\\University\\PythonProject\\UltralyticsPotholes\\potholes\\part8\\vp0uhbze.jpg: 640x640 1 potholes, 26.9ms\n",
      "image 36/494 E:\\University\\PythonProject\\UltralyticsPotholes\\potholes\\part8\\vpfnfadv.jpg: 448x640 3 potholess, 22.9ms\n",
      "image 37/494 E:\\University\\PythonProject\\UltralyticsPotholes\\potholes\\part8\\vpgbj3mj.jpg: 384x640 1 potholes, 18.0ms\n",
      "image 38/494 E:\\University\\PythonProject\\UltralyticsPotholes\\potholes\\part8\\vpne5n0r.jpg: 640x480 3 potholess, 20.9ms\n",
      "image 39/494 E:\\University\\PythonProject\\UltralyticsPotholes\\potholes\\part8\\vpwmr4gd.jpg: 480x640 2 potholess, 22.9ms\n",
      "image 40/494 E:\\University\\PythonProject\\UltralyticsPotholes\\potholes\\part8\\vq60mgrc.jpg: 384x640 13 potholess, 18.0ms\n",
      "image 41/494 E:\\University\\PythonProject\\UltralyticsPotholes\\potholes\\part8\\vqka8t8q.jpg: 640x480 2 potholess, 22.9ms\n",
      "image 42/494 E:\\University\\PythonProject\\UltralyticsPotholes\\potholes\\part8\\vqnag19x.jpg: 448x640 2 potholess, 25.9ms\n",
      "image 43/494 E:\\University\\PythonProject\\UltralyticsPotholes\\potholes\\part8\\vqpdzmup.jpg: 480x640 2 potholess, 24.9ms\n",
      "image 44/494 E:\\University\\PythonProject\\UltralyticsPotholes\\potholes\\part8\\vqs48jgy.jpg: 640x640 1 potholes, 30.9ms\n",
      "image 45/494 E:\\University\\PythonProject\\UltralyticsPotholes\\potholes\\part8\\vrlbvn9w.jpg: 384x640 4 potholess, 20.9ms\n",
      "image 46/494 E:\\University\\PythonProject\\UltralyticsPotholes\\potholes\\part8\\vrplty7l.jpg: 448x640 3 potholess, 25.9ms\n",
      "image 47/494 E:\\University\\PythonProject\\UltralyticsPotholes\\potholes\\part8\\vs1f2py0.jpg: 384x640 (no detections), 21.9ms\n",
      "image 48/494 E:\\University\\PythonProject\\UltralyticsPotholes\\potholes\\part8\\vs5ir56o.jpg: 480x640 2 potholess, 26.9ms\n",
      "image 49/494 E:\\University\\PythonProject\\UltralyticsPotholes\\potholes\\part8\\vs7cm4ix.jpg: 640x384 (no detections), 21.9ms\n",
      "image 50/494 E:\\University\\PythonProject\\UltralyticsPotholes\\potholes\\part8\\vsclyvg5.jpg: 640x640 2 potholess, 27.9ms\n",
      "image 51/494 E:\\University\\PythonProject\\UltralyticsPotholes\\potholes\\part8\\vsqgct8y.jpg: 448x640 12 potholess, 26.9ms\n",
      "image 52/494 E:\\University\\PythonProject\\UltralyticsPotholes\\potholes\\part8\\vt9wsfjp.jpg: 320x640 3 potholess, 18.0ms\n",
      "image 53/494 E:\\University\\PythonProject\\UltralyticsPotholes\\potholes\\part8\\vtbtfq4p.jpg: 352x640 4 potholess, 18.9ms\n",
      "image 54/494 E:\\University\\PythonProject\\UltralyticsPotholes\\potholes\\part8\\vu0rv4lp.jpg: 480x640 5 potholess, 26.9ms\n",
      "image 55/494 E:\\University\\PythonProject\\UltralyticsPotholes\\potholes\\part8\\vufd754s.jpg: 384x640 1 potholes, 21.9ms\n",
      "image 56/494 E:\\University\\PythonProject\\UltralyticsPotholes\\potholes\\part8\\vvbgg0k3.jpg: 384x640 1 potholes, 21.9ms\n",
      "image 57/494 E:\\University\\PythonProject\\UltralyticsPotholes\\potholes\\part8\\vvlnlde1.jpg: 384x640 3 potholess, 21.9ms\n",
      "image 58/494 E:\\University\\PythonProject\\UltralyticsPotholes\\potholes\\part8\\vvn6iw8h.jpg: 448x640 (no detections), 31.9ms\n",
      "image 59/494 E:\\University\\PythonProject\\UltralyticsPotholes\\potholes\\part8\\vvqiakuy.jpg: 448x640 2 potholess, 29.9ms\n",
      "image 60/494 E:\\University\\PythonProject\\UltralyticsPotholes\\potholes\\part8\\vvyejxwe.jpg: 640x640 1 potholes, 30.9ms\n",
      "image 61/494 E:\\University\\PythonProject\\UltralyticsPotholes\\potholes\\part8\\vwapkshq.jpg: 384x640 1 potholes, 22.9ms\n",
      "image 62/494 E:\\University\\PythonProject\\UltralyticsPotholes\\potholes\\part8\\vx5lwnxq.jpg: 416x640 1 potholes, 28.9ms\n",
      "image 63/494 E:\\University\\PythonProject\\UltralyticsPotholes\\potholes\\part8\\vx72pyt9.jpg: 352x640 (no detections), 20.9ms\n",
      "image 64/494 E:\\University\\PythonProject\\UltralyticsPotholes\\potholes\\part8\\vxlwcgw7.jpg: 448x640 2 potholess, 27.9ms\n",
      "image 65/494 E:\\University\\PythonProject\\UltralyticsPotholes\\potholes\\part8\\vxurt2ws.jpg: 448x640 1 potholes, 22.9ms\n",
      "image 66/494 E:\\University\\PythonProject\\UltralyticsPotholes\\potholes\\part8\\vxwrcj4t.jpg: 384x640 (no detections), 22.9ms\n",
      "image 67/494 E:\\University\\PythonProject\\UltralyticsPotholes\\potholes\\part8\\vzyla8p0.jpg: 480x640 (no detections), 26.9ms\n",
      "image 68/494 E:\\University\\PythonProject\\UltralyticsPotholes\\potholes\\part8\\vzzupjti.jpg: 352x640 3 potholess, 16.0ms\n",
      "image 69/494 E:\\University\\PythonProject\\UltralyticsPotholes\\potholes\\part8\\w0t4feop.jpg: 384x640 2 potholess, 17.0ms\n",
      "image 70/494 E:\\University\\PythonProject\\UltralyticsPotholes\\potholes\\part8\\w1ch168r.jpg: 640x480 8 potholess, 19.9ms\n",
      "image 71/494 E:\\University\\PythonProject\\UltralyticsPotholes\\potholes\\part8\\w1im5vg7.jpg: 480x640 3 potholess, 21.9ms\n",
      "image 72/494 E:\\University\\PythonProject\\UltralyticsPotholes\\potholes\\part8\\w27tehut.jpg: 448x640 1 potholes, 21.9ms\n",
      "image 73/494 E:\\University\\PythonProject\\UltralyticsPotholes\\potholes\\part8\\w2kck67b.jpg: 448x640 4 potholess, 18.9ms\n",
      "image 74/494 E:\\University\\PythonProject\\UltralyticsPotholes\\potholes\\part8\\w2npp1vj.jpg: 448x640 2 potholess, 19.9ms\n",
      "image 75/494 E:\\University\\PythonProject\\UltralyticsPotholes\\potholes\\part8\\w2p5119g.jpg: 384x640 5 potholess, 16.0ms\n",
      "image 76/494 E:\\University\\PythonProject\\UltralyticsPotholes\\potholes\\part8\\w2s6350f.jpg: 384x640 (no detections), 17.0ms\n",
      "image 77/494 E:\\University\\PythonProject\\UltralyticsPotholes\\potholes\\part8\\w326e10b.jpg: 480x640 (no detections), 20.9ms\n",
      "image 78/494 E:\\University\\PythonProject\\UltralyticsPotholes\\potholes\\part8\\w3rc7xsb.jpg: 448x640 1 potholes, 20.9ms\n",
      "image 79/494 E:\\University\\PythonProject\\UltralyticsPotholes\\potholes\\part8\\w3t7b0tc.jpg: 384x640 3 potholess, 17.0ms\n",
      "image 80/494 E:\\University\\PythonProject\\UltralyticsPotholes\\potholes\\part8\\w3tl9esg.jpg: 448x640 3 potholess, 21.9ms\n",
      "image 81/494 E:\\University\\PythonProject\\UltralyticsPotholes\\potholes\\part8\\w4ftx6jo.jpg: 640x640 2 potholess, 23.9ms\n",
      "image 82/494 E:\\University\\PythonProject\\UltralyticsPotholes\\potholes\\part8\\w4jhjfgi.jpg: 480x640 5 potholess, 20.9ms\n",
      "image 83/494 E:\\University\\PythonProject\\UltralyticsPotholes\\potholes\\part8\\w4jkne7o.jpg: 480x640 1 potholes, 19.9ms\n",
      "image 84/494 E:\\University\\PythonProject\\UltralyticsPotholes\\potholes\\part8\\w5asftxf.jpg: 480x640 3 potholess, 20.9ms\n",
      "image 85/494 E:\\University\\PythonProject\\UltralyticsPotholes\\potholes\\part8\\w5cuikp7.jpg: 640x640 2 potholess, 23.9ms\n",
      "image 86/494 E:\\University\\PythonProject\\UltralyticsPotholes\\potholes\\part8\\w5ixk2j6.jpg: 384x640 3 potholess, 17.0ms\n",
      "image 87/494 E:\\University\\PythonProject\\UltralyticsPotholes\\potholes\\part8\\w5k9bsc5.jpg: 640x640 1 potholes, 23.9ms\n",
      "image 88/494 E:\\University\\PythonProject\\UltralyticsPotholes\\potholes\\part8\\w688bvh0.jpg: 480x640 2 potholess, 21.9ms\n",
      "image 89/494 E:\\University\\PythonProject\\UltralyticsPotholes\\potholes\\part8\\w68grpsb.jpg: 640x512 (no detections), 79.8ms\n",
      "image 90/494 E:\\University\\PythonProject\\UltralyticsPotholes\\potholes\\part8\\w6gxm73m.jpg: 480x640 3 potholess, 20.9ms\n",
      "image 91/494 E:\\University\\PythonProject\\UltralyticsPotholes\\potholes\\part8\\w6qnr5k3.jpg: 480x640 1 potholes, 20.9ms\n",
      "image 92/494 E:\\University\\PythonProject\\UltralyticsPotholes\\potholes\\part8\\w6ygmqfh.jpg: 640x480 1 potholes, 19.0ms\n",
      "image 93/494 E:\\University\\PythonProject\\UltralyticsPotholes\\potholes\\part8\\w7nuhwzw.jpg: 640x640 (no detections), 23.9ms\n",
      "image 94/494 E:\\University\\PythonProject\\UltralyticsPotholes\\potholes\\part8\\w839o4k0.jpg: 448x640 1 potholes, 20.9ms\n",
      "image 95/494 E:\\University\\PythonProject\\UltralyticsPotholes\\potholes\\part8\\w8cl1v3h.jpg: 448x640 2 potholess, 19.0ms\n",
      "image 96/494 E:\\University\\PythonProject\\UltralyticsPotholes\\potholes\\part8\\w8lpdza4.jpg: 448x640 3 potholess, 19.9ms\n",
      "image 97/494 E:\\University\\PythonProject\\UltralyticsPotholes\\potholes\\part8\\w8ohd402.jpg: 448x640 2 potholess, 18.9ms\n",
      "image 98/494 E:\\University\\PythonProject\\UltralyticsPotholes\\potholes\\part8\\w8s6fu3y.jpg: 480x640 2 potholess, 21.9ms\n",
      "image 99/494 E:\\University\\PythonProject\\UltralyticsPotholes\\potholes\\part8\\w92bx16q.jpg: 384x640 1 potholes, 16.0ms\n",
      "image 100/494 E:\\University\\PythonProject\\UltralyticsPotholes\\potholes\\part8\\w9ta99az.jpg: 352x640 (no detections), 17.0ms\n",
      "image 101/494 E:\\University\\PythonProject\\UltralyticsPotholes\\potholes\\part8\\w9upya5a.jpg: 288x640 1 potholes, 67.8ms\n",
      "image 102/494 E:\\University\\PythonProject\\UltralyticsPotholes\\potholes\\part8\\wa3jczz6.jpg: 416x640 2 potholess, 29.9ms\n",
      "image 103/494 E:\\University\\PythonProject\\UltralyticsPotholes\\potholes\\part8\\was99vgm.jpg: 384x640 1 potholes, 22.9ms\n",
      "image 104/494 E:\\University\\PythonProject\\UltralyticsPotholes\\potholes\\part8\\wave69te.jpg: 448x640 3 potholess, 29.9ms\n",
      "image 105/494 E:\\University\\PythonProject\\UltralyticsPotholes\\potholes\\part8\\wb3ubf3b.jpg: 384x640 3 potholess, 23.9ms\n",
      "image 106/494 E:\\University\\PythonProject\\UltralyticsPotholes\\potholes\\part8\\wbtm9lr7.jpg: 640x640 1 potholes, 34.9ms\n",
      "image 107/494 E:\\University\\PythonProject\\UltralyticsPotholes\\potholes\\part8\\wc3332vp.jpg: 480x640 4 potholess, 30.9ms\n",
      "image 108/494 E:\\University\\PythonProject\\UltralyticsPotholes\\potholes\\part8\\wc97as3w.jpg: 640x512 3 potholess, 20.9ms\n",
      "image 109/494 E:\\University\\PythonProject\\UltralyticsPotholes\\potholes\\part8\\wcedvs2x.jpg: 384x640 2 potholess, 17.0ms\n",
      "image 110/494 E:\\University\\PythonProject\\UltralyticsPotholes\\potholes\\part8\\wdc3nohz.jpg: 384x640 (no detections), 16.0ms\n",
      "image 111/494 E:\\University\\PythonProject\\UltralyticsPotholes\\potholes\\part8\\wdq8q8l9.jpg: 640x480 2 potholess, 20.9ms\n",
      "image 112/494 E:\\University\\PythonProject\\UltralyticsPotholes\\potholes\\part8\\we4tmjyn.jpg: 640x640 (no detections), 24.9ms\n",
      "image 113/494 E:\\University\\PythonProject\\UltralyticsPotholes\\potholes\\part8\\wehv3gns.jpg: 448x640 2 potholess, 20.9ms\n",
      "image 114/494 E:\\University\\PythonProject\\UltralyticsPotholes\\potholes\\part8\\wer4y9pz.jpg: 480x640 2 potholess, 20.9ms\n",
      "image 115/494 E:\\University\\PythonProject\\UltralyticsPotholes\\potholes\\part8\\wev3zubu.jpg: 448x640 11 potholess, 21.9ms\n",
      "image 116/494 E:\\University\\PythonProject\\UltralyticsPotholes\\potholes\\part8\\wf24m6vu.jpg: 384x640 5 potholess, 17.0ms\n",
      "image 117/494 E:\\University\\PythonProject\\UltralyticsPotholes\\potholes\\part8\\wfa4sbvl.jpg: 448x640 4 potholess, 21.9ms\n",
      "image 118/494 E:\\University\\PythonProject\\UltralyticsPotholes\\potholes\\part8\\wfqe8nc8.jpg: 384x640 1 potholes, 17.0ms\n",
      "image 119/494 E:\\University\\PythonProject\\UltralyticsPotholes\\potholes\\part8\\wgdyf37r.jpg: 480x640 (no detections), 22.9ms\n",
      "image 120/494 E:\\University\\PythonProject\\UltralyticsPotholes\\potholes\\part8\\wgwqgrpo.jpg: 384x640 2 potholess, 17.0ms\n",
      "image 121/494 E:\\University\\PythonProject\\UltralyticsPotholes\\potholes\\part8\\whegywu6.jpg: 480x640 1 potholes, 22.9ms\n",
      "image 122/494 E:\\University\\PythonProject\\UltralyticsPotholes\\potholes\\part8\\whjh1mqi.jpg: 480x640 21 potholess, 20.9ms\n",
      "image 123/494 E:\\University\\PythonProject\\UltralyticsPotholes\\potholes\\part8\\wj9ju3ls.jpg: 480x640 (no detections), 19.9ms\n",
      "image 124/494 E:\\University\\PythonProject\\UltralyticsPotholes\\potholes\\part8\\wja6w90e.jpg: 640x640 (no detections), 24.9ms\n",
      "image 125/494 E:\\University\\PythonProject\\UltralyticsPotholes\\potholes\\part8\\wjiktqe2.jpg: 448x640 6 potholess, 20.9ms\n",
      "image 126/494 E:\\University\\PythonProject\\UltralyticsPotholes\\potholes\\part8\\wjksd5cx.jpg: 416x640 2 potholess, 21.9ms\n",
      "image 127/494 E:\\University\\PythonProject\\UltralyticsPotholes\\potholes\\part8\\wjo30txn.jpg: 384x640 3 potholess, 17.0ms\n",
      "image 128/494 E:\\University\\PythonProject\\UltralyticsPotholes\\potholes\\part8\\wjs9duyj.jpg: 640x640 2 potholess, 24.9ms\n",
      "image 129/494 E:\\University\\PythonProject\\UltralyticsPotholes\\potholes\\part8\\wjzg3nus.jpg: 480x640 2 potholess, 21.9ms\n",
      "image 130/494 E:\\University\\PythonProject\\UltralyticsPotholes\\potholes\\part8\\wk2p2not.jpg: 352x640 (no detections), 18.0ms\n",
      "image 131/494 E:\\University\\PythonProject\\UltralyticsPotholes\\potholes\\part8\\wk9yjdli.jpg: 640x640 1 potholes, 23.9ms\n",
      "image 132/494 E:\\University\\PythonProject\\UltralyticsPotholes\\potholes\\part8\\wkin4rsn.jpg: 352x640 1 potholes, 17.9ms\n",
      "image 133/494 E:\\University\\PythonProject\\UltralyticsPotholes\\potholes\\part8\\wksjd39a.jpg: 384x640 2 potholess, 18.0ms\n",
      "image 134/494 E:\\University\\PythonProject\\UltralyticsPotholes\\potholes\\part8\\wl9oszcm.jpg: 640x640 2 potholess, 23.9ms\n",
      "image 135/494 E:\\University\\PythonProject\\UltralyticsPotholes\\potholes\\part8\\wla1cdy5.jpg: 448x640 2 potholess, 21.9ms\n",
      "image 136/494 E:\\University\\PythonProject\\UltralyticsPotholes\\potholes\\part8\\wlpgiavr.jpg: 352x640 2 potholess, 16.0ms\n",
      "image 137/494 E:\\University\\PythonProject\\UltralyticsPotholes\\potholes\\part8\\wm8c0fk6.jpg: 416x640 (no detections), 21.0ms\n",
      "image 138/494 E:\\University\\PythonProject\\UltralyticsPotholes\\potholes\\part8\\wn4s93fl.jpg: 640x480 2 potholess, 20.9ms\n",
      "image 139/494 E:\\University\\PythonProject\\UltralyticsPotholes\\potholes\\part8\\wndh9i7a.jpg: 384x640 1 potholes, 17.0ms\n",
      "image 140/494 E:\\University\\PythonProject\\UltralyticsPotholes\\potholes\\part8\\wngubsjw.jpg: 480x640 3 potholess, 22.9ms\n",
      "image 141/494 E:\\University\\PythonProject\\UltralyticsPotholes\\potholes\\part8\\wnmff1ol.jpg: 640x640 2 potholess, 24.9ms\n",
      "image 142/494 E:\\University\\PythonProject\\UltralyticsPotholes\\potholes\\part8\\wnylfn24.jpg: 480x640 1 potholes, 20.9ms\n",
      "image 143/494 E:\\University\\PythonProject\\UltralyticsPotholes\\potholes\\part8\\wo5u9nwn.jpg: 384x640 (no detections), 16.0ms\n",
      "image 144/494 E:\\University\\PythonProject\\UltralyticsPotholes\\potholes\\part8\\wo9embyi.jpg: 480x640 5 potholess, 22.9ms\n",
      "image 145/494 E:\\University\\PythonProject\\UltralyticsPotholes\\potholes\\part8\\wp3ac9ss.jpg: 448x640 (no detections), 21.9ms\n",
      "image 146/494 E:\\University\\PythonProject\\UltralyticsPotholes\\potholes\\part8\\wpurtfzf.jpg: 640x480 5 potholess, 18.9ms\n",
      "image 147/494 E:\\University\\PythonProject\\UltralyticsPotholes\\potholes\\part8\\wq7joi37.jpg: 384x640 1 potholes, 17.0ms\n",
      "image 148/494 E:\\University\\PythonProject\\UltralyticsPotholes\\potholes\\part8\\wqbci5bd.jpg: 480x640 1 potholes, 22.9ms\n",
      "image 149/494 E:\\University\\PythonProject\\UltralyticsPotholes\\potholes\\part8\\wqhy299a.jpg: 480x640 3 potholess, 21.9ms\n",
      "image 150/494 E:\\University\\PythonProject\\UltralyticsPotholes\\potholes\\part8\\wqzgbypq.jpg: 384x640 2 potholess, 18.0ms\n",
      "image 151/494 E:\\University\\PythonProject\\UltralyticsPotholes\\potholes\\part8\\wr8l90r8.jpg: 448x640 1 potholes, 21.9ms\n",
      "image 152/494 E:\\University\\PythonProject\\UltralyticsPotholes\\potholes\\part8\\wrht0fpa.jpg: 384x640 (no detections), 16.9ms\n",
      "image 153/494 E:\\University\\PythonProject\\UltralyticsPotholes\\potholes\\part8\\wrn0wqsg.jpg: 480x640 2 potholess, 22.9ms\n",
      "image 154/494 E:\\University\\PythonProject\\UltralyticsPotholes\\potholes\\part8\\wuh8n5a3.jpg: 416x640 1 potholes, 20.9ms\n",
      "image 155/494 E:\\University\\PythonProject\\UltralyticsPotholes\\potholes\\part8\\wuyyst2j.jpg: 448x640 2 potholess, 20.9ms\n",
      "image 156/494 E:\\University\\PythonProject\\UltralyticsPotholes\\potholes\\part8\\wv0o5zmn.jpg: 448x640 1 potholes, 20.9ms\n",
      "image 157/494 E:\\University\\PythonProject\\UltralyticsPotholes\\potholes\\part8\\wv91gr8e.jpg: 448x640 1 potholes, 19.9ms\n",
      "image 158/494 E:\\University\\PythonProject\\UltralyticsPotholes\\potholes\\part8\\wvihfncg.jpg: 640x512 1 potholes, 20.9ms\n",
      "image 159/494 E:\\University\\PythonProject\\UltralyticsPotholes\\potholes\\part8\\wvlnrbbr.jpg: 384x640 (no detections), 16.0ms\n",
      "image 160/494 E:\\University\\PythonProject\\UltralyticsPotholes\\potholes\\part8\\wvmuj51g.jpg: 640x640 2 potholess, 24.9ms\n",
      "image 161/494 E:\\University\\PythonProject\\UltralyticsPotholes\\potholes\\part8\\wwavzx8g.jpg: 480x640 (no detections), 21.9ms\n",
      "image 162/494 E:\\University\\PythonProject\\UltralyticsPotholes\\potholes\\part8\\wwezmt6z.jpg: 448x640 2 potholess, 20.9ms\n",
      "image 163/494 E:\\University\\PythonProject\\UltralyticsPotholes\\potholes\\part8\\wxnb9ub5.jpg: 640x480 (no detections), 20.9ms\n",
      "image 164/494 E:\\University\\PythonProject\\UltralyticsPotholes\\potholes\\part8\\wxtu8p4t.jpg: 448x640 3 potholess, 20.9ms\n",
      "image 165/494 E:\\University\\PythonProject\\UltralyticsPotholes\\potholes\\part8\\wxu9xchl.jpg: 384x640 1 potholes, 18.0ms\n",
      "image 166/494 E:\\University\\PythonProject\\UltralyticsPotholes\\potholes\\part8\\wxup994v.jpg: 640x640 (no detections), 24.9ms\n",
      "image 167/494 E:\\University\\PythonProject\\UltralyticsPotholes\\potholes\\part8\\wy8gp3y1.jpg: 480x640 (no detections), 22.9ms\n",
      "image 168/494 E:\\University\\PythonProject\\UltralyticsPotholes\\potholes\\part8\\wyddno76.jpg: 480x640 4 potholess, 19.9ms\n",
      "image 169/494 E:\\University\\PythonProject\\UltralyticsPotholes\\potholes\\part8\\wypu4up6.jpg: 416x640 1 potholes, 19.9ms\n",
      "image 170/494 E:\\University\\PythonProject\\UltralyticsPotholes\\potholes\\part8\\wzcxhlgp.jpg: 640x480 2 potholess, 18.9ms\n",
      "image 171/494 E:\\University\\PythonProject\\UltralyticsPotholes\\potholes\\part8\\wzwvl5mo.jpg: 480x640 1 potholes, 19.9ms\n",
      "image 172/494 E:\\University\\PythonProject\\UltralyticsPotholes\\potholes\\part8\\x00nkqlf.jpg: 320x640 4 potholess, 24.9ms\n",
      "image 173/494 E:\\University\\PythonProject\\UltralyticsPotholes\\potholes\\part8\\x01iou8s.jpg: 416x640 2 potholess, 19.9ms\n",
      "image 174/494 E:\\University\\PythonProject\\UltralyticsPotholes\\potholes\\part8\\x02odclu.jpg: 384x640 2 potholess, 16.0ms\n",
      "image 175/494 E:\\University\\PythonProject\\UltralyticsPotholes\\potholes\\part8\\x0n7pkpb.jpg: 448x640 1 potholes, 21.9ms\n",
      "image 176/494 E:\\University\\PythonProject\\UltralyticsPotholes\\potholes\\part8\\x1r1qxpk.jpg: 448x640 4 potholess, 20.9ms\n",
      "image 177/494 E:\\University\\PythonProject\\UltralyticsPotholes\\potholes\\part8\\x1xmm79v.jpg: 480x640 4 potholess, 22.9ms\n",
      "image 178/494 E:\\University\\PythonProject\\UltralyticsPotholes\\potholes\\part8\\x1z2s6w4.jpg: 640x480 2 potholess, 18.9ms\n",
      "image 179/494 E:\\University\\PythonProject\\UltralyticsPotholes\\potholes\\part8\\x22r6j78.jpg: 640x640 3 potholess, 23.9ms\n",
      "image 180/494 E:\\University\\PythonProject\\UltralyticsPotholes\\potholes\\part8\\x2jezls4.jpg: 640x640 3 potholess, 22.9ms\n",
      "image 181/494 E:\\University\\PythonProject\\UltralyticsPotholes\\potholes\\part8\\x2pndip8.jpg: 288x640 1 potholes, 15.0ms\n",
      "image 182/494 E:\\University\\PythonProject\\UltralyticsPotholes\\potholes\\part8\\x35tovgf.jpg: 640x640 1 potholes, 24.9ms\n",
      "image 183/494 E:\\University\\PythonProject\\UltralyticsPotholes\\potholes\\part8\\x3sof3ei.jpg: 640x480 9 potholess, 20.9ms\n",
      "image 184/494 E:\\University\\PythonProject\\UltralyticsPotholes\\potholes\\part8\\x4i9mp7u.jpg: 352x640 (no detections), 18.9ms\n",
      "image 185/494 E:\\University\\PythonProject\\UltralyticsPotholes\\potholes\\part8\\x4t4oicc.jpg: 448x640 4 potholess, 24.9ms\n",
      "image 186/494 E:\\University\\PythonProject\\UltralyticsPotholes\\potholes\\part8\\x4znvc7g.jpg: 640x640 (no detections), 29.9ms\n",
      "image 187/494 E:\\University\\PythonProject\\UltralyticsPotholes\\potholes\\part8\\x5kodxpn.jpg: 448x640 4 potholess, 25.9ms\n",
      "image 188/494 E:\\University\\PythonProject\\UltralyticsPotholes\\potholes\\part8\\x5rb4cso.jpg: 384x640 1 potholes, 19.9ms\n",
      "image 189/494 E:\\University\\PythonProject\\UltralyticsPotholes\\potholes\\part8\\x647gg6e.jpg: 640x480 2 potholess, 23.9ms\n",
      "image 190/494 E:\\University\\PythonProject\\UltralyticsPotholes\\potholes\\part8\\x64o4vyf.jpg: 448x640 3 potholess, 26.9ms\n",
      "image 191/494 E:\\University\\PythonProject\\UltralyticsPotholes\\potholes\\part8\\x6n22xb2.jpg: 416x640 1 potholes, 26.9ms\n",
      "image 192/494 E:\\University\\PythonProject\\UltralyticsPotholes\\potholes\\part8\\x74v65w2.jpg: 448x640 2 potholess, 26.9ms\n",
      "image 193/494 E:\\University\\PythonProject\\UltralyticsPotholes\\potholes\\part8\\x7bvnp58.jpg: 480x640 4 potholess, 27.9ms\n",
      "image 194/494 E:\\University\\PythonProject\\UltralyticsPotholes\\potholes\\part8\\x7d676yg.jpg: 384x640 1 potholes, 21.9ms\n",
      "image 195/494 E:\\University\\PythonProject\\UltralyticsPotholes\\potholes\\part8\\x7kwxfk3.jpg: 448x640 1 potholes, 29.4ms\n",
      "image 196/494 E:\\University\\PythonProject\\UltralyticsPotholes\\potholes\\part8\\x7uvdidj.jpg: 320x640 1 potholes, 20.9ms\n",
      "image 197/494 E:\\University\\PythonProject\\UltralyticsPotholes\\potholes\\part8\\x888c9gl.jpg: 640x640 (no detections), 32.9ms\n",
      "image 198/494 E:\\University\\PythonProject\\UltralyticsPotholes\\potholes\\part8\\x8fruva3.jpg: 480x640 2 potholess, 25.9ms\n",
      "image 199/494 E:\\University\\PythonProject\\UltralyticsPotholes\\potholes\\part8\\x8hmf1gr.jpg: 480x640 (no detections), 22.9ms\n",
      "image 200/494 E:\\University\\PythonProject\\UltralyticsPotholes\\potholes\\part8\\x8i52wn2.jpg: 384x640 1 potholes, 17.0ms\n",
      "image 201/494 E:\\University\\PythonProject\\UltralyticsPotholes\\potholes\\part8\\x8o38g7e.jpg: 384x640 2 potholess, 17.0ms\n",
      "image 202/494 E:\\University\\PythonProject\\UltralyticsPotholes\\potholes\\part8\\x957eafz.jpg: 448x640 2 potholess, 21.9ms\n",
      "image 203/494 E:\\University\\PythonProject\\UltralyticsPotholes\\potholes\\part8\\x96egi6s.jpg: 384x640 1 potholes, 92.8ms\n",
      "image 204/494 E:\\University\\PythonProject\\UltralyticsPotholes\\potholes\\part8\\x9b52nrn.jpg: 640x480 5 potholess, 20.9ms\n",
      "image 205/494 E:\\University\\PythonProject\\UltralyticsPotholes\\potholes\\part8\\x9hlm451.jpg: 480x640 1 potholes, 22.9ms\n",
      "image 206/494 E:\\University\\PythonProject\\UltralyticsPotholes\\potholes\\part8\\xae8ygkp.jpg: 640x640 (no detections), 24.9ms\n",
      "image 207/494 E:\\University\\PythonProject\\UltralyticsPotholes\\potholes\\part8\\xapvqg1w.jpg: 448x640 1 potholes, 24.9ms\n",
      "image 208/494 E:\\University\\PythonProject\\UltralyticsPotholes\\potholes\\part8\\xc7qqcd6.jpg: 480x640 1 potholes, 22.9ms\n",
      "image 209/494 E:\\University\\PythonProject\\UltralyticsPotholes\\potholes\\part8\\xcxfhfq6.jpg: 448x640 1 potholes, 21.9ms\n",
      "image 210/494 E:\\University\\PythonProject\\UltralyticsPotholes\\potholes\\part8\\xd26rq1o.jpg: 320x640 (no detections), 16.0ms\n",
      "image 211/494 E:\\University\\PythonProject\\UltralyticsPotholes\\potholes\\part8\\xd5jj75u.jpg: 384x640 2 potholess, 18.0ms\n",
      "image 212/494 E:\\University\\PythonProject\\UltralyticsPotholes\\potholes\\part8\\xdawd3is.jpg: 480x640 3 potholess, 23.9ms\n",
      "image 213/494 E:\\University\\PythonProject\\UltralyticsPotholes\\potholes\\part8\\xdncq3tm.jpg: 640x640 (no detections), 23.9ms\n",
      "image 214/494 E:\\University\\PythonProject\\UltralyticsPotholes\\potholes\\part8\\xdu8saix.jpg: 448x640 (no detections), 22.9ms\n",
      "image 215/494 E:\\University\\PythonProject\\UltralyticsPotholes\\potholes\\part8\\xdzgkbv5.jpg: 416x640 2 potholess, 21.9ms\n",
      "image 216/494 E:\\University\\PythonProject\\UltralyticsPotholes\\potholes\\part8\\xdzre0qw.jpg: 448x640 4 potholess, 20.9ms\n",
      "image 217/494 E:\\University\\PythonProject\\UltralyticsPotholes\\potholes\\part8\\xec8gyfh.jpg: 384x640 1 potholes, 17.0ms\n",
      "image 218/494 E:\\University\\PythonProject\\UltralyticsPotholes\\potholes\\part8\\xepdx5ez.jpg: 384x640 1 potholes, 16.0ms\n",
      "image 219/494 E:\\University\\PythonProject\\UltralyticsPotholes\\potholes\\part8\\xf4f9sox.jpg: 480x640 6 potholess, 23.9ms\n",
      "image 220/494 E:\\University\\PythonProject\\UltralyticsPotholes\\potholes\\part8\\xf7nkf8b.jpg: 480x640 3 potholess, 21.9ms\n",
      "image 221/494 E:\\University\\PythonProject\\UltralyticsPotholes\\potholes\\part8\\xfbp4fmb.jpg: 448x640 2 potholess, 21.9ms\n",
      "image 222/494 E:\\University\\PythonProject\\UltralyticsPotholes\\potholes\\part8\\xfd4n5gh.jpg: 640x640 (no detections), 23.9ms\n",
      "image 223/494 E:\\University\\PythonProject\\UltralyticsPotholes\\potholes\\part8\\xftzonzg.jpg: 480x640 6 potholess, 21.9ms\n",
      "image 224/494 E:\\University\\PythonProject\\UltralyticsPotholes\\potholes\\part8\\xfwvxsu0.jpg: 384x640 2 potholess, 16.0ms\n",
      "image 225/494 E:\\University\\PythonProject\\UltralyticsPotholes\\potholes\\part8\\xg0is0g7.jpg: 640x576 3 potholess, 72.8ms\n",
      "image 226/494 E:\\University\\PythonProject\\UltralyticsPotholes\\potholes\\part8\\xhowqr7f.jpg: 448x640 15 potholess, 20.9ms\n",
      "image 227/494 E:\\University\\PythonProject\\UltralyticsPotholes\\potholes\\part8\\xia4s55p.jpg: 352x640 (no detections), 16.0ms\n",
      "image 228/494 E:\\University\\PythonProject\\UltralyticsPotholes\\potholes\\part8\\xieg2gmt.jpg: 640x480 3 potholess, 18.9ms\n",
      "image 229/494 E:\\University\\PythonProject\\UltralyticsPotholes\\potholes\\part8\\xilxq8rh.jpg: 384x640 1 potholes, 18.0ms\n",
      "image 230/494 E:\\University\\PythonProject\\UltralyticsPotholes\\potholes\\part8\\xitjcwb6.jpg: 384x640 3 potholess, 16.0ms\n",
      "image 231/494 E:\\University\\PythonProject\\UltralyticsPotholes\\potholes\\part8\\xk3s4w4i.jpg: 384x640 4 potholess, 15.0ms\n",
      "image 232/494 E:\\University\\PythonProject\\UltralyticsPotholes\\potholes\\part8\\xkuwkhtv.jpg: 480x640 3 potholess, 21.9ms\n",
      "image 233/494 E:\\University\\PythonProject\\UltralyticsPotholes\\potholes\\part8\\xl04lsvd.jpg: 640x640 (no detections), 25.9ms\n",
      "image 234/494 E:\\University\\PythonProject\\UltralyticsPotholes\\potholes\\part8\\xlmfe121.jpg: 640x480 4 potholess, 20.9ms\n",
      "image 235/494 E:\\University\\PythonProject\\UltralyticsPotholes\\potholes\\part8\\xluoufmt.jpg: 480x640 5 potholess, 22.9ms\n",
      "image 236/494 E:\\University\\PythonProject\\UltralyticsPotholes\\potholes\\part8\\xlv0n63e.jpg: 448x640 1 potholes, 21.9ms\n",
      "image 237/494 E:\\University\\PythonProject\\UltralyticsPotholes\\potholes\\part8\\xlwusrbs.jpg: 640x480 2 potholess, 19.9ms\n",
      "image 238/494 E:\\University\\PythonProject\\UltralyticsPotholes\\potholes\\part8\\xly7mr82.jpg: 384x640 (no detections), 16.0ms\n",
      "image 239/494 E:\\University\\PythonProject\\UltralyticsPotholes\\potholes\\part8\\xmj2aib1.jpg: 640x480 (no detections), 20.9ms\n",
      "image 240/494 E:\\University\\PythonProject\\UltralyticsPotholes\\potholes\\part8\\xmlhbmob.jpg: 512x640 1 potholes, 20.9ms\n",
      "image 241/494 E:\\University\\PythonProject\\UltralyticsPotholes\\potholes\\part8\\xmqak1e7.jpg: 480x640 3 potholess, 22.9ms\n",
      "image 242/494 E:\\University\\PythonProject\\UltralyticsPotholes\\potholes\\part8\\xno38f3w.jpg: 640x384 1 potholes, 15.0ms\n",
      "image 243/494 E:\\University\\PythonProject\\UltralyticsPotholes\\potholes\\part8\\xns9w5a1.jpg: 480x640 2 potholess, 20.9ms\n",
      "image 244/494 E:\\University\\PythonProject\\UltralyticsPotholes\\potholes\\part8\\xnutauxd.jpg: 480x640 2 potholess, 20.9ms\n",
      "image 245/494 E:\\University\\PythonProject\\UltralyticsPotholes\\potholes\\part8\\xobmn4fz.jpg: 320x640 (no detections), 17.0ms\n",
      "image 246/494 E:\\University\\PythonProject\\UltralyticsPotholes\\potholes\\part8\\xohipee3.jpg: 512x640 2 potholess, 20.9ms\n",
      "image 247/494 E:\\University\\PythonProject\\UltralyticsPotholes\\potholes\\part8\\xohiunjf.jpg: 640x480 5 potholess, 20.9ms\n",
      "image 248/494 E:\\University\\PythonProject\\UltralyticsPotholes\\potholes\\part8\\xok4yl0g.jpg: 640x480 1 potholes, 18.9ms\n",
      "image 249/494 E:\\University\\PythonProject\\UltralyticsPotholes\\potholes\\part8\\xpfy0xvc.jpg: 352x640 (no detections), 16.0ms\n",
      "image 250/494 E:\\University\\PythonProject\\UltralyticsPotholes\\potholes\\part8\\xporycfn.jpg: 384x640 2 potholess, 17.0ms\n",
      "image 251/494 E:\\University\\PythonProject\\UltralyticsPotholes\\potholes\\part8\\xq23mqz0.jpg: 384x640 1 potholes, 15.0ms\n",
      "image 252/494 E:\\University\\PythonProject\\UltralyticsPotholes\\potholes\\part8\\xq83cq7i.jpg: 416x640 (no detections), 20.9ms\n",
      "image 253/494 E:\\University\\PythonProject\\UltralyticsPotholes\\potholes\\part8\\xqfnl9ki.jpg: 448x640 1 potholes, 20.9ms\n",
      "image 254/494 E:\\University\\PythonProject\\UltralyticsPotholes\\potholes\\part8\\xqvklz1k.jpg: 640x640 1 potholes, 24.9ms\n",
      "image 255/494 E:\\University\\PythonProject\\UltralyticsPotholes\\potholes\\part8\\xqw0g7sl.jpg: 448x640 3 potholess, 20.9ms\n",
      "image 256/494 E:\\University\\PythonProject\\UltralyticsPotholes\\potholes\\part8\\xqwanxvf.jpg: 640x480 1 potholes, 19.9ms\n",
      "image 257/494 E:\\University\\PythonProject\\UltralyticsPotholes\\potholes\\part8\\xqx4bksc.jpg: 480x640 1 potholes, 21.9ms\n",
      "image 258/494 E:\\University\\PythonProject\\UltralyticsPotholes\\potholes\\part8\\xra2o4c8.jpg: 384x640 (no detections), 18.0ms\n",
      "image 259/494 E:\\University\\PythonProject\\UltralyticsPotholes\\potholes\\part8\\xrvniv1e.jpg: 640x640 1 potholes, 24.9ms\n",
      "image 260/494 E:\\University\\PythonProject\\UltralyticsPotholes\\potholes\\part8\\xsoexlen.jpg: 480x640 (no detections), 21.9ms\n",
      "image 261/494 E:\\University\\PythonProject\\UltralyticsPotholes\\potholes\\part8\\xswq1765.jpg: 640x480 3 potholess, 18.9ms\n",
      "image 262/494 E:\\University\\PythonProject\\UltralyticsPotholes\\potholes\\part8\\xt67olbc.jpg: 320x640 (no detections), 14.0ms\n",
      "image 263/494 E:\\University\\PythonProject\\UltralyticsPotholes\\potholes\\part8\\xt8i6p47.jpg: 384x640 4 potholess, 18.0ms\n",
      "image 264/494 E:\\University\\PythonProject\\UltralyticsPotholes\\potholes\\part8\\xv57wy4n.jpg: 480x640 2 potholess, 23.9ms\n",
      "image 265/494 E:\\University\\PythonProject\\UltralyticsPotholes\\potholes\\part8\\xv6dx5c5.jpg: 384x640 15 potholess, 17.0ms\n",
      "image 266/494 E:\\University\\PythonProject\\UltralyticsPotholes\\potholes\\part8\\xvlg10dk.jpg: 416x640 4 potholess, 20.9ms\n",
      "image 267/494 E:\\University\\PythonProject\\UltralyticsPotholes\\potholes\\part8\\xvso6167.jpg: 384x640 1 potholes, 17.0ms\n",
      "image 268/494 E:\\University\\PythonProject\\UltralyticsPotholes\\potholes\\part8\\xvynm305.jpg: 640x480 (no detections), 20.9ms\n",
      "image 269/494 E:\\University\\PythonProject\\UltralyticsPotholes\\potholes\\part8\\xw4mc8s8.jpg: 352x640 2 potholess, 17.0ms\n",
      "image 270/494 E:\\University\\PythonProject\\UltralyticsPotholes\\potholes\\part8\\xwwmypcb.jpg: 480x640 (no detections), 21.9ms\n",
      "image 271/494 E:\\University\\PythonProject\\UltralyticsPotholes\\potholes\\part8\\xxh4w97l.jpg: 384x640 3 potholess, 18.9ms\n",
      "image 272/494 E:\\University\\PythonProject\\UltralyticsPotholes\\potholes\\part8\\xxnzxlwd.jpg: 384x640 15 potholess, 17.0ms\n",
      "image 273/494 E:\\University\\PythonProject\\UltralyticsPotholes\\potholes\\part8\\xyhwf6rq.jpg: 448x640 (no detections), 21.9ms\n",
      "image 274/494 E:\\University\\PythonProject\\UltralyticsPotholes\\potholes\\part8\\xzfrx6fn.jpg: 640x640 (no detections), 24.9ms\n",
      "image 275/494 E:\\University\\PythonProject\\UltralyticsPotholes\\potholes\\part8\\xzoju624.jpg: 384x640 5 potholess, 17.0ms\n",
      "image 276/494 E:\\University\\PythonProject\\UltralyticsPotholes\\potholes\\part8\\y029k569.jpg: 480x640 1 potholes, 21.9ms\n",
      "image 277/494 E:\\University\\PythonProject\\UltralyticsPotholes\\potholes\\part8\\y07l0xks.jpg: 480x640 1 potholes, 26.9ms\n",
      "image 278/494 E:\\University\\PythonProject\\UltralyticsPotholes\\potholes\\part8\\y0kic7b3.jpg: 640x640 4 potholess, 29.9ms\n",
      "image 279/494 E:\\University\\PythonProject\\UltralyticsPotholes\\potholes\\part8\\y0v7cb9s.jpg: 448x640 4 potholess, 26.9ms\n",
      "image 280/494 E:\\University\\PythonProject\\UltralyticsPotholes\\potholes\\part8\\y122yj72.jpg: 352x640 (no detections), 19.9ms\n",
      "image 281/494 E:\\University\\PythonProject\\UltralyticsPotholes\\potholes\\part8\\y1nxcqff.jpg: 288x640 1 potholes, 18.0ms\n",
      "image 282/494 E:\\University\\PythonProject\\UltralyticsPotholes\\potholes\\part8\\y212tgb9.jpg: 480x640 3 potholess, 28.9ms\n",
      "image 283/494 E:\\University\\PythonProject\\UltralyticsPotholes\\potholes\\part8\\y2hjlhm2.jpg: 352x640 5 potholess, 17.0ms\n",
      "image 284/494 E:\\University\\PythonProject\\UltralyticsPotholes\\potholes\\part8\\y3cx5216.jpg: 480x640 5 potholess, 22.9ms\n",
      "image 285/494 E:\\University\\PythonProject\\UltralyticsPotholes\\potholes\\part8\\y3gze0s3.jpg: 640x640 (no detections), 25.9ms\n",
      "image 286/494 E:\\University\\PythonProject\\UltralyticsPotholes\\potholes\\part8\\y3skr1q3.jpg: 448x640 2 potholess, 23.9ms\n",
      "image 287/494 E:\\University\\PythonProject\\UltralyticsPotholes\\potholes\\part8\\y490rpam.jpg: 448x640 6 potholess, 19.9ms\n",
      "image 288/494 E:\\University\\PythonProject\\UltralyticsPotholes\\potholes\\part8\\y4urrb0z.jpg: 384x640 6 potholess, 17.0ms\n",
      "image 289/494 E:\\University\\PythonProject\\UltralyticsPotholes\\potholes\\part8\\y5tmcpn0.jpg: 416x640 4 potholess, 21.9ms\n",
      "image 290/494 E:\\University\\PythonProject\\UltralyticsPotholes\\potholes\\part8\\y5vwvlva.jpg: 384x640 6 potholess, 17.0ms\n",
      "image 291/494 E:\\University\\PythonProject\\UltralyticsPotholes\\potholes\\part8\\y5yu3uzk.jpg: 352x640 4 potholess, 16.0ms\n",
      "image 292/494 E:\\University\\PythonProject\\UltralyticsPotholes\\potholes\\part8\\y6j7bo7u.jpg: 480x640 1 potholes, 22.9ms\n",
      "image 293/494 E:\\University\\PythonProject\\UltralyticsPotholes\\potholes\\part8\\y7a3t7fo.jpg: 384x640 1 potholes, 18.0ms\n",
      "image 294/494 E:\\University\\PythonProject\\UltralyticsPotholes\\potholes\\part8\\y99v6lov.jpg: 480x640 5 potholess, 22.9ms\n",
      "image 295/494 E:\\University\\PythonProject\\UltralyticsPotholes\\potholes\\part8\\y9hrw7rt.jpg: 640x480 3 potholess, 23.9ms\n",
      "image 296/494 E:\\University\\PythonProject\\UltralyticsPotholes\\potholes\\part8\\y9k3h3e6.jpg: 640x640 (no detections), 23.9ms\n",
      "image 297/494 E:\\University\\PythonProject\\UltralyticsPotholes\\potholes\\part8\\ya0npa0i.jpg: 448x640 1 potholes, 20.9ms\n",
      "image 298/494 E:\\University\\PythonProject\\UltralyticsPotholes\\potholes\\part8\\ya1kz6y0.jpg: 448x640 1 potholes, 19.9ms\n",
      "image 299/494 E:\\University\\PythonProject\\UltralyticsPotholes\\potholes\\part8\\ya5ba8se.jpg: 448x640 2 potholess, 19.9ms\n",
      "image 300/494 E:\\University\\PythonProject\\UltralyticsPotholes\\potholes\\part8\\ybkv02in.jpg: 640x480 1 potholes, 19.9ms\n",
      "image 301/494 E:\\University\\PythonProject\\UltralyticsPotholes\\potholes\\part8\\ybna77ef.jpg: 480x640 1 potholes, 21.9ms\n",
      "image 302/494 E:\\University\\PythonProject\\UltralyticsPotholes\\potholes\\part8\\ybw4m428.jpg: 448x640 2 potholess, 20.9ms\n",
      "image 303/494 E:\\University\\PythonProject\\UltralyticsPotholes\\potholes\\part8\\ybxaosw0.jpg: 352x640 1 potholes, 17.0ms\n",
      "image 304/494 E:\\University\\PythonProject\\UltralyticsPotholes\\potholes\\part8\\yc8m2sqc.jpg: 448x640 1 potholes, 20.9ms\n",
      "image 305/494 E:\\University\\PythonProject\\UltralyticsPotholes\\potholes\\part8\\ycr8tmy7.jpg: 640x640 1 potholes, 25.9ms\n",
      "image 306/494 E:\\University\\PythonProject\\UltralyticsPotholes\\potholes\\part8\\yctbly23.jpg: 448x640 1 potholes, 20.9ms\n",
      "image 307/494 E:\\University\\PythonProject\\UltralyticsPotholes\\potholes\\part8\\ycv41tu8.jpg: 480x640 1 potholes, 20.9ms\n",
      "image 308/494 E:\\University\\PythonProject\\UltralyticsPotholes\\potholes\\part8\\yd7j3t1r.jpg: 640x640 1 potholes, 24.9ms\n",
      "image 309/494 E:\\University\\PythonProject\\UltralyticsPotholes\\potholes\\part8\\yd9s7qbq.jpg: 416x640 1 potholes, 20.9ms\n",
      "image 310/494 E:\\University\\PythonProject\\UltralyticsPotholes\\potholes\\part8\\ydj61zeu.jpg: 640x480 2 potholess, 19.9ms\n",
      "image 311/494 E:\\University\\PythonProject\\UltralyticsPotholes\\potholes\\part8\\ydudehyx.jpg: 384x640 (no detections), 17.0ms\n",
      "image 312/494 E:\\University\\PythonProject\\UltralyticsPotholes\\potholes\\part8\\ydy880vf.jpg: 480x640 2 potholess, 21.9ms\n",
      "image 313/494 E:\\University\\PythonProject\\UltralyticsPotholes\\potholes\\part8\\yec12i2x.jpg: 480x640 (no detections), 20.9ms\n",
      "image 314/494 E:\\University\\PythonProject\\UltralyticsPotholes\\potholes\\part8\\yexvwwqu.jpg: 448x640 7 potholess, 20.9ms\n",
      "image 315/494 E:\\University\\PythonProject\\UltralyticsPotholes\\potholes\\part8\\yf5q0jvm.jpg: 384x640 1 potholes, 17.0ms\n",
      "image 316/494 E:\\University\\PythonProject\\UltralyticsPotholes\\potholes\\part8\\yf7gfj1y.jpg: 448x640 1 potholes, 21.9ms\n",
      "image 317/494 E:\\University\\PythonProject\\UltralyticsPotholes\\potholes\\part8\\yfdkkkgy.jpg: 640x640 1 potholes, 24.9ms\n",
      "image 318/494 E:\\University\\PythonProject\\UltralyticsPotholes\\potholes\\part8\\yfhhc20s.jpg: 448x640 (no detections), 22.9ms\n",
      "image 319/494 E:\\University\\PythonProject\\UltralyticsPotholes\\potholes\\part8\\yfjiu1cd.jpg: 448x640 2 potholess, 20.9ms\n",
      "image 320/494 E:\\University\\PythonProject\\UltralyticsPotholes\\potholes\\part8\\yfsgc8by.jpg: 320x640 1 potholes, 16.0ms\n",
      "image 321/494 E:\\University\\PythonProject\\UltralyticsPotholes\\potholes\\part8\\ygh4892q.jpg: 384x640 1 potholes, 39.9ms\n",
      "image 322/494 E:\\University\\PythonProject\\UltralyticsPotholes\\potholes\\part8\\yhb6atyt.jpg: 448x640 4 potholess, 21.9ms\n",
      "image 323/494 E:\\University\\PythonProject\\UltralyticsPotholes\\potholes\\part8\\yhmz7fki.jpg: 384x640 3 potholess, 17.9ms\n",
      "image 324/494 E:\\University\\PythonProject\\UltralyticsPotholes\\potholes\\part8\\yhqgqbs9.jpg: 640x480 (no detections), 21.9ms\n",
      "image 325/494 E:\\University\\PythonProject\\UltralyticsPotholes\\potholes\\part8\\yhzm0gwe.jpg: 480x640 1 potholes, 23.9ms\n",
      "image 326/494 E:\\University\\PythonProject\\UltralyticsPotholes\\potholes\\part8\\yi3riudj.jpg: 352x640 2 potholess, 18.0ms\n",
      "image 327/494 E:\\University\\PythonProject\\UltralyticsPotholes\\potholes\\part8\\yi9a5goj.jpg: 640x384 1 potholes, 16.0ms\n",
      "image 328/494 E:\\University\\PythonProject\\UltralyticsPotholes\\potholes\\part8\\yilkawva.jpg: 640x480 4 potholess, 19.9ms\n",
      "image 329/494 E:\\University\\PythonProject\\UltralyticsPotholes\\potholes\\part8\\yj4t7l8w.jpg: 320x640 1 potholes, 21.9ms\n",
      "image 330/494 E:\\University\\PythonProject\\UltralyticsPotholes\\potholes\\part8\\yjo8tjrm.jpg: 480x640 (no detections), 29.9ms\n",
      "image 331/494 E:\\University\\PythonProject\\UltralyticsPotholes\\potholes\\part8\\yjq7g0j7.jpg: 640x512 3 potholess, 27.9ms\n",
      "image 332/494 E:\\University\\PythonProject\\UltralyticsPotholes\\potholes\\part8\\ykmztk6v.jpg: 448x640 1 potholes, 29.9ms\n",
      "image 333/494 E:\\University\\PythonProject\\UltralyticsPotholes\\potholes\\part8\\ykr0u5fz.jpg: 448x640 3 potholess, 27.9ms\n",
      "image 334/494 E:\\University\\PythonProject\\UltralyticsPotholes\\potholes\\part8\\yl24okhz.jpg: 640x640 1 potholes, 31.9ms\n",
      "image 335/494 E:\\University\\PythonProject\\UltralyticsPotholes\\potholes\\part8\\yl2owaq2.jpg: 640x480 5 potholess, 23.9ms\n",
      "image 336/494 E:\\University\\PythonProject\\UltralyticsPotholes\\potholes\\part8\\ylbbd5hr.jpg: 480x640 (no detections), 25.9ms\n",
      "image 337/494 E:\\University\\PythonProject\\UltralyticsPotholes\\potholes\\part8\\ylfu7kfy.jpg: 480x640 2 potholess, 24.9ms\n",
      "image 338/494 E:\\University\\PythonProject\\UltralyticsPotholes\\potholes\\part8\\ylgdb37b.jpg: 448x640 6 potholess, 23.9ms\n",
      "image 339/494 E:\\University\\PythonProject\\UltralyticsPotholes\\potholes\\part8\\yln74o72.jpg: 640x480 1 potholes, 22.9ms\n",
      "image 340/494 E:\\University\\PythonProject\\UltralyticsPotholes\\potholes\\part8\\ymaeokpd.jpg: 384x640 1 potholes, 18.0ms\n",
      "image 341/494 E:\\University\\PythonProject\\UltralyticsPotholes\\potholes\\part8\\yn8oi7s3.jpg: 480x640 4 potholess, 24.9ms\n",
      "image 342/494 E:\\University\\PythonProject\\UltralyticsPotholes\\potholes\\part8\\ynwbgrjl.jpg: 544x640 1 potholes, 101.7ms\n",
      "image 343/494 E:\\University\\PythonProject\\UltralyticsPotholes\\potholes\\part8\\ynwsp2gj.jpg: 480x640 1 potholes, 24.9ms\n",
      "image 344/494 E:\\University\\PythonProject\\UltralyticsPotholes\\potholes\\part8\\yojmrn2v.jpg: 480x640 2 potholess, 24.9ms\n",
      "image 345/494 E:\\University\\PythonProject\\UltralyticsPotholes\\potholes\\part8\\yojwm40c.jpg: 640x480 4 potholess, 22.9ms\n",
      "image 346/494 E:\\University\\PythonProject\\UltralyticsPotholes\\potholes\\part8\\yop6sdoe.jpg: 384x640 1 potholes, 18.9ms\n",
      "image 347/494 E:\\University\\PythonProject\\UltralyticsPotholes\\potholes\\part8\\yoy38ltg.jpg: 480x640 1 potholes, 24.9ms\n",
      "image 348/494 E:\\University\\PythonProject\\UltralyticsPotholes\\potholes\\part8\\yp09t0or.jpg: 640x480 (no detections), 22.9ms\n",
      "image 349/494 E:\\University\\PythonProject\\UltralyticsPotholes\\potholes\\part8\\yp93ppv3.jpg: 416x640 1 potholes, 22.9ms\n",
      "image 350/494 E:\\University\\PythonProject\\UltralyticsPotholes\\potholes\\part8\\yp9fv36n.jpg: 480x640 1 potholes, 23.9ms\n",
      "image 351/494 E:\\University\\PythonProject\\UltralyticsPotholes\\potholes\\part8\\ypdvcsbj.jpg: 352x640 1 potholes, 20.9ms\n",
      "image 352/494 E:\\University\\PythonProject\\UltralyticsPotholes\\potholes\\part8\\yq79f4li.jpg: 480x640 3 potholess, 30.9ms\n",
      "image 353/494 E:\\University\\PythonProject\\UltralyticsPotholes\\potholes\\part8\\yq8o324j.jpg: 448x640 4 potholess, 28.9ms\n",
      "image 354/494 E:\\University\\PythonProject\\UltralyticsPotholes\\potholes\\part8\\yqmk0knh.jpg: 640x640 1 potholes, 32.9ms\n",
      "image 355/494 E:\\University\\PythonProject\\UltralyticsPotholes\\potholes\\part8\\yqx192dp.jpg: 640x640 1 potholes, 23.9ms\n",
      "image 356/494 E:\\University\\PythonProject\\UltralyticsPotholes\\potholes\\part8\\yra5n9qc.jpg: 384x640 1 potholes, 18.0ms\n",
      "image 357/494 E:\\University\\PythonProject\\UltralyticsPotholes\\potholes\\part8\\ys1mcfai.jpg: 480x640 3 potholess, 22.9ms\n",
      "image 358/494 E:\\University\\PythonProject\\UltralyticsPotholes\\potholes\\part8\\ysdewee9.jpg: 416x640 3 potholess, 30.9ms\n",
      "image 359/494 E:\\University\\PythonProject\\UltralyticsPotholes\\potholes\\part8\\ysicuh9z.jpg: 480x640 1 potholes, 22.9ms\n",
      "image 360/494 E:\\University\\PythonProject\\UltralyticsPotholes\\potholes\\part8\\ysix1zqi.jpg: 640x640 4 potholess, 24.9ms\n",
      "image 361/494 E:\\University\\PythonProject\\UltralyticsPotholes\\potholes\\part8\\ysjhxhen.jpg: 448x640 1 potholes, 21.9ms\n",
      "image 362/494 E:\\University\\PythonProject\\UltralyticsPotholes\\potholes\\part8\\yt0dpe8r.jpg: 384x640 (no detections), 17.0ms\n",
      "image 363/494 E:\\University\\PythonProject\\UltralyticsPotholes\\potholes\\part8\\yt96yhsq.jpg: 448x640 2 potholess, 21.9ms\n",
      "image 364/494 E:\\University\\PythonProject\\UltralyticsPotholes\\potholes\\part8\\ytbnobz4.jpg: 640x640 1 potholes, 24.9ms\n",
      "image 365/494 E:\\University\\PythonProject\\UltralyticsPotholes\\potholes\\part8\\ytjzs4y0.jpg: 448x640 3 potholess, 21.9ms\n",
      "image 366/494 E:\\University\\PythonProject\\UltralyticsPotholes\\potholes\\part8\\ytzurdnj.jpg: 384x640 1 potholes, 18.0ms\n",
      "image 367/494 E:\\University\\PythonProject\\UltralyticsPotholes\\potholes\\part8\\yu1mh4ia.jpg: 448x640 2 potholess, 21.9ms\n",
      "image 368/494 E:\\University\\PythonProject\\UltralyticsPotholes\\potholes\\part8\\yucaezxc.jpg: 384x640 1 potholes, 18.0ms\n",
      "image 369/494 E:\\University\\PythonProject\\UltralyticsPotholes\\potholes\\part8\\yuiir2v3.jpg: 448x640 2 potholess, 21.9ms\n",
      "image 370/494 E:\\University\\PythonProject\\UltralyticsPotholes\\potholes\\part8\\yvf7wrbe.jpg: 416x640 (no detections), 22.9ms\n",
      "image 371/494 E:\\University\\PythonProject\\UltralyticsPotholes\\potholes\\part8\\yvja6cag.jpg: 448x640 9 potholess, 21.9ms\n",
      "image 372/494 E:\\University\\PythonProject\\UltralyticsPotholes\\potholes\\part8\\yvjkacfl.jpg: 480x640 1 potholes, 21.9ms\n",
      "image 373/494 E:\\University\\PythonProject\\UltralyticsPotholes\\potholes\\part8\\yvoyz73u.jpg: 448x640 4 potholess, 24.9ms\n",
      "image 374/494 E:\\University\\PythonProject\\UltralyticsPotholes\\potholes\\part8\\yvppzcso.jpg: 448x640 4 potholess, 23.9ms\n",
      "image 375/494 E:\\University\\PythonProject\\UltralyticsPotholes\\potholes\\part8\\yvxwevlh.jpg: 640x480 (no detections), 27.9ms\n",
      "image 376/494 E:\\University\\PythonProject\\UltralyticsPotholes\\potholes\\part8\\ywebgr2c.jpg: 384x640 10 potholess, 22.9ms\n",
      "image 377/494 E:\\University\\PythonProject\\UltralyticsPotholes\\potholes\\part8\\ywfd5b1i.jpg: 480x640 (no detections), 31.9ms\n",
      "image 378/494 E:\\University\\PythonProject\\UltralyticsPotholes\\potholes\\part8\\ywj936qa.jpg: 448x640 4 potholess, 29.9ms\n",
      "image 379/494 E:\\University\\PythonProject\\UltralyticsPotholes\\potholes\\part8\\ywludi1p.jpg: 640x480 1 potholes, 24.9ms\n",
      "image 380/494 E:\\University\\PythonProject\\UltralyticsPotholes\\potholes\\part8\\ywwbsvqg.jpg: 384x640 13 potholess, 20.9ms\n",
      "image 381/494 E:\\University\\PythonProject\\UltralyticsPotholes\\potholes\\part8\\yx2pkron.jpg: 352x640 1 potholes, 19.9ms\n",
      "image 382/494 E:\\University\\PythonProject\\UltralyticsPotholes\\potholes\\part8\\yxaay3ke.jpg: 640x640 1 potholes, 30.9ms\n",
      "image 383/494 E:\\University\\PythonProject\\UltralyticsPotholes\\potholes\\part8\\yxc09j0y.jpg: 384x640 2 potholess, 20.9ms\n",
      "image 384/494 E:\\University\\PythonProject\\UltralyticsPotholes\\potholes\\part8\\yydcsbc3.jpg: 384x640 (no detections), 18.9ms\n",
      "image 385/494 E:\\University\\PythonProject\\UltralyticsPotholes\\potholes\\part8\\yz88036g.jpg: 480x640 1 potholes, 22.9ms\n",
      "image 386/494 E:\\University\\PythonProject\\UltralyticsPotholes\\potholes\\part8\\z04v9e5m.jpg: 512x640 1 potholes, 22.9ms\n",
      "image 387/494 E:\\University\\PythonProject\\UltralyticsPotholes\\potholes\\part8\\z052w59m.jpg: 448x640 3 potholess, 21.9ms\n",
      "image 388/494 E:\\University\\PythonProject\\UltralyticsPotholes\\potholes\\part8\\z0g1p1uj.jpg: 448x640 3 potholess, 19.9ms\n",
      "image 389/494 E:\\University\\PythonProject\\UltralyticsPotholes\\potholes\\part8\\z0uzozoq.jpg: 640x480 1 potholes, 20.9ms\n",
      "image 390/494 E:\\University\\PythonProject\\UltralyticsPotholes\\potholes\\part8\\z1710wy4.jpg: 352x640 2 potholess, 16.0ms\n",
      "image 391/494 E:\\University\\PythonProject\\UltralyticsPotholes\\potholes\\part8\\z171qhne.jpg: 640x640 1 potholes, 26.9ms\n",
      "image 392/494 E:\\University\\PythonProject\\UltralyticsPotholes\\potholes\\part8\\z1kekr72.jpg: 640x576 1 potholes, 23.9ms\n",
      "image 393/494 E:\\University\\PythonProject\\UltralyticsPotholes\\potholes\\part8\\z1s7uxs7.jpg: 640x480 1 potholes, 21.9ms\n",
      "image 394/494 E:\\University\\PythonProject\\UltralyticsPotholes\\potholes\\part8\\z1sslkfj.jpg: 448x640 1 potholes, 21.9ms\n",
      "image 395/494 E:\\University\\PythonProject\\UltralyticsPotholes\\potholes\\part8\\z269zd4q.jpg: 448x640 1 potholes, 19.9ms\n",
      "image 396/494 E:\\University\\PythonProject\\UltralyticsPotholes\\potholes\\part8\\z2aq8n0r.jpg: 384x640 5 potholess, 17.0ms\n",
      "image 397/494 E:\\University\\PythonProject\\UltralyticsPotholes\\potholes\\part8\\z2pqabp9.jpg: 384x640 1 potholes, 16.0ms\n",
      "image 398/494 E:\\University\\PythonProject\\UltralyticsPotholes\\potholes\\part8\\z2yp250l.jpg: 640x448 10 potholess, 89.8ms\n",
      "image 399/494 E:\\University\\PythonProject\\UltralyticsPotholes\\potholes\\part8\\z3qckr23.jpg: 352x640 2 potholess, 16.0ms\n",
      "image 400/494 E:\\University\\PythonProject\\UltralyticsPotholes\\potholes\\part8\\z42fo5pr.jpg: 640x480 3 potholess, 20.9ms\n",
      "image 401/494 E:\\University\\PythonProject\\UltralyticsPotholes\\potholes\\part8\\z4soi263.jpg: 640x480 (no detections), 19.9ms\n",
      "image 402/494 E:\\University\\PythonProject\\UltralyticsPotholes\\potholes\\part8\\z5bl6106.jpg: 448x640 1 potholes, 21.9ms\n",
      "image 403/494 E:\\University\\PythonProject\\UltralyticsPotholes\\potholes\\part8\\z5nnvbno.jpg: 640x576 2 potholess, 21.9ms\n",
      "image 404/494 E:\\University\\PythonProject\\UltralyticsPotholes\\potholes\\part8\\z5r0wtk3.jpg: 384x640 (no detections), 17.9ms\n",
      "image 405/494 E:\\University\\PythonProject\\UltralyticsPotholes\\potholes\\part8\\z64sd7gx.jpg: 320x640 2 potholess, 16.0ms\n",
      "image 406/494 E:\\University\\PythonProject\\UltralyticsPotholes\\potholes\\part8\\z6c50uhu.jpg: 384x640 1 potholes, 18.0ms\n",
      "image 407/494 E:\\University\\PythonProject\\UltralyticsPotholes\\potholes\\part8\\z6gmw682.jpg: 384x640 2 potholess, 17.0ms\n",
      "image 408/494 E:\\University\\PythonProject\\UltralyticsPotholes\\potholes\\part8\\z73iaup6.jpg: 448x640 1 potholes, 21.9ms\n",
      "image 409/494 E:\\University\\PythonProject\\UltralyticsPotholes\\potholes\\part8\\z74rx1i5.jpg: 352x640 (no detections), 18.0ms\n",
      "image 410/494 E:\\University\\PythonProject\\UltralyticsPotholes\\potholes\\part8\\z7vbyreu.jpg: 448x640 1 potholes, 19.9ms\n",
      "image 411/494 E:\\University\\PythonProject\\UltralyticsPotholes\\potholes\\part8\\z8cdxbkz.jpg: 288x640 3 potholess, 15.0ms\n",
      "image 412/494 E:\\University\\PythonProject\\UltralyticsPotholes\\potholes\\part8\\z8po92x9.jpg: 480x640 3 potholess, 20.9ms\n",
      "image 413/494 E:\\University\\PythonProject\\UltralyticsPotholes\\potholes\\part8\\z97qu4zg.jpg: 576x640 (no detections), 21.9ms\n",
      "image 414/494 E:\\University\\PythonProject\\UltralyticsPotholes\\potholes\\part8\\za7psr1q.jpg: 640x480 (no detections), 19.9ms\n",
      "image 415/494 E:\\University\\PythonProject\\UltralyticsPotholes\\potholes\\part8\\zafww4i3.jpg: 288x640 (no detections), 16.0ms\n",
      "image 416/494 E:\\University\\PythonProject\\UltralyticsPotholes\\potholes\\part8\\zahumhqv.jpg: 640x640 (no detections), 24.9ms\n",
      "image 417/494 E:\\University\\PythonProject\\UltralyticsPotholes\\potholes\\part8\\zatc3kc2.jpg: 640x480 4 potholess, 19.9ms\n",
      "image 418/494 E:\\University\\PythonProject\\UltralyticsPotholes\\potholes\\part8\\zayzsoog.jpg: 640x480 2 potholess, 21.9ms\n",
      "image 419/494 E:\\University\\PythonProject\\UltralyticsPotholes\\potholes\\part8\\zd95vmkd.jpg: 416x640 2 potholess, 23.9ms\n",
      "image 420/494 E:\\University\\PythonProject\\UltralyticsPotholes\\potholes\\part8\\zd9qep6k.jpg: 640x640 3 potholess, 26.9ms\n",
      "image 421/494 E:\\University\\PythonProject\\UltralyticsPotholes\\potholes\\part8\\zdcfzkpv.jpg: 480x640 9 potholess, 24.9ms\n",
      "image 422/494 E:\\University\\PythonProject\\UltralyticsPotholes\\potholes\\part8\\zde5qd67.jpg: 640x448 1 potholes, 21.9ms\n",
      "image 423/494 E:\\University\\PythonProject\\UltralyticsPotholes\\potholes\\part8\\zejckeqz.jpg: 448x640 2 potholess, 23.9ms\n",
      "image 424/494 E:\\University\\PythonProject\\UltralyticsPotholes\\potholes\\part8\\zf5fjwn9.jpg: 448x640 (no detections), 22.9ms\n",
      "image 425/494 E:\\University\\PythonProject\\UltralyticsPotholes\\potholes\\part8\\zfj99ohy.jpg: 448x640 1 potholes, 22.9ms\n",
      "image 426/494 E:\\University\\PythonProject\\UltralyticsPotholes\\potholes\\part8\\zfnokukm.jpg: 448x640 1 potholes, 22.9ms\n",
      "image 427/494 E:\\University\\PythonProject\\UltralyticsPotholes\\potholes\\part8\\zft1qkqx.jpg: 384x640 4 potholess, 19.9ms\n",
      "image 428/494 E:\\University\\PythonProject\\UltralyticsPotholes\\potholes\\part8\\zfwmlous.jpg: 448x640 1 potholes, 25.9ms\n",
      "image 429/494 E:\\University\\PythonProject\\UltralyticsPotholes\\potholes\\part8\\zfxrzgez.jpg: 384x640 1 potholes, 21.9ms\n",
      "image 430/494 E:\\University\\PythonProject\\UltralyticsPotholes\\potholes\\part8\\zg2s3pcp.jpg: 416x640 1 potholes, 22.9ms\n",
      "image 431/494 E:\\University\\PythonProject\\UltralyticsPotholes\\potholes\\part8\\zg3i3dkp.jpg: 448x640 (no detections), 22.9ms\n",
      "image 432/494 E:\\University\\PythonProject\\UltralyticsPotholes\\potholes\\part8\\zg8p5mol.jpg: 448x640 (no detections), 21.9ms\n",
      "image 433/494 E:\\University\\PythonProject\\UltralyticsPotholes\\potholes\\part8\\zhci70pq.jpg: 448x640 2 potholess, 20.9ms\n",
      "image 434/494 E:\\University\\PythonProject\\UltralyticsPotholes\\potholes\\part8\\zhhwh8ea.jpg: 448x640 2 potholess, 21.9ms\n",
      "image 435/494 E:\\University\\PythonProject\\UltralyticsPotholes\\potholes\\part8\\zhiz915h.jpg: 384x640 2 potholess, 18.0ms\n",
      "image 436/494 E:\\University\\PythonProject\\UltralyticsPotholes\\potholes\\part8\\zi0bojj8.jpg: 384x640 1 potholes, 16.0ms\n",
      "image 437/494 E:\\University\\PythonProject\\UltralyticsPotholes\\potholes\\part8\\zi37yztj.jpg: 640x640 (no detections), 24.9ms\n",
      "image 438/494 E:\\University\\PythonProject\\UltralyticsPotholes\\potholes\\part8\\zicuapaz.jpg: 480x640 3 potholess, 23.9ms\n",
      "image 439/494 E:\\University\\PythonProject\\UltralyticsPotholes\\potholes\\part8\\zil5ej0o.jpg: 448x640 1 potholes, 20.9ms\n",
      "image 440/494 E:\\University\\PythonProject\\UltralyticsPotholes\\potholes\\part8\\ziv2uyas.jpg: 640x416 3 potholess, 88.8ms\n",
      "image 441/494 E:\\University\\PythonProject\\UltralyticsPotholes\\potholes\\part8\\zj2bjzwh.jpg: 640x640 1 potholes, 23.9ms\n",
      "image 442/494 E:\\University\\PythonProject\\UltralyticsPotholes\\potholes\\part8\\zj6ue9g0.jpg: 384x640 1 potholes, 17.0ms\n",
      "image 443/494 E:\\University\\PythonProject\\UltralyticsPotholes\\potholes\\part8\\zjdhar6e.jpg: 448x640 3 potholess, 20.9ms\n",
      "image 444/494 E:\\University\\PythonProject\\UltralyticsPotholes\\potholes\\part8\\zk1bxkqu.jpg: 448x640 2 potholess, 20.9ms\n",
      "image 445/494 E:\\University\\PythonProject\\UltralyticsPotholes\\potholes\\part8\\zkfs7j7b.jpg: 640x640 5 potholess, 23.9ms\n",
      "image 446/494 E:\\University\\PythonProject\\UltralyticsPotholes\\potholes\\part8\\zlbx1qpf.jpg: 448x640 3 potholess, 20.9ms\n",
      "image 447/494 E:\\University\\PythonProject\\UltralyticsPotholes\\potholes\\part8\\zm0ahs3t.jpg: 480x640 4 potholess, 22.9ms\n",
      "image 448/494 E:\\University\\PythonProject\\UltralyticsPotholes\\potholes\\part8\\zm5cv1x7.jpg: 352x640 1 potholes, 17.0ms\n",
      "image 449/494 E:\\University\\PythonProject\\UltralyticsPotholes\\potholes\\part8\\zmsviwjq.jpg: 448x640 1 potholes, 20.9ms\n",
      "image 450/494 E:\\University\\PythonProject\\UltralyticsPotholes\\potholes\\part8\\zmy5e9ab.jpg: 448x640 1 potholes, 19.9ms\n",
      "image 451/494 E:\\University\\PythonProject\\UltralyticsPotholes\\potholes\\part8\\zn1x7fih.jpg: 640x640 (no detections), 23.9ms\n",
      "image 452/494 E:\\University\\PythonProject\\UltralyticsPotholes\\potholes\\part8\\zn2at6fv.jpg: 640x640 1 potholes, 22.9ms\n",
      "image 453/494 E:\\University\\PythonProject\\UltralyticsPotholes\\potholes\\part8\\zn9cyc9r.jpg: 640x640 1 potholes, 23.9ms\n",
      "image 454/494 E:\\University\\PythonProject\\UltralyticsPotholes\\potholes\\part8\\zneowz3n.jpg: 448x640 1 potholes, 20.9ms\n",
      "image 455/494 E:\\University\\PythonProject\\UltralyticsPotholes\\potholes\\part8\\znxey300.jpg: 640x512 3 potholess, 20.9ms\n",
      "image 456/494 E:\\University\\PythonProject\\UltralyticsPotholes\\potholes\\part8\\zobvcmpf.jpg: 416x640 2 potholess, 23.9ms\n",
      "image 457/494 E:\\University\\PythonProject\\UltralyticsPotholes\\potholes\\part8\\zocb1sd3.jpg: 640x640 1 potholes, 24.9ms\n",
      "image 458/494 E:\\University\\PythonProject\\UltralyticsPotholes\\potholes\\part8\\zom5lce4.jpg: 384x640 (no detections), 17.0ms\n",
      "image 459/494 E:\\University\\PythonProject\\UltralyticsPotholes\\potholes\\part8\\zomed9vy.jpg: 512x640 2 potholess, 20.9ms\n",
      "image 460/494 E:\\University\\PythonProject\\UltralyticsPotholes\\potholes\\part8\\zoqjahpa.jpg: 384x640 2 potholess, 18.0ms\n",
      "image 461/494 E:\\University\\PythonProject\\UltralyticsPotholes\\potholes\\part8\\zoxsnuya.jpg: 448x640 10 potholess, 20.9ms\n",
      "image 462/494 E:\\University\\PythonProject\\UltralyticsPotholes\\potholes\\part8\\zoytyzn9.jpg: 512x640 4 potholess, 19.9ms\n",
      "image 463/494 E:\\University\\PythonProject\\UltralyticsPotholes\\potholes\\part8\\zp3ua31t.jpg: 352x640 2 potholess, 16.0ms\n",
      "image 464/494 E:\\University\\PythonProject\\UltralyticsPotholes\\potholes\\part8\\zpyr3gta.jpg: 384x640 6 potholess, 18.0ms\n",
      "image 465/494 E:\\University\\PythonProject\\UltralyticsPotholes\\potholes\\part8\\zqhqv2gw.jpg: 640x480 1 potholes, 19.9ms\n",
      "image 466/494 E:\\University\\PythonProject\\UltralyticsPotholes\\potholes\\part8\\zqj1pb0a.jpg: 640x640 1 potholes, 22.9ms\n",
      "image 467/494 E:\\University\\PythonProject\\UltralyticsPotholes\\potholes\\part8\\zqwvmpmh.jpg: 640x480 (no detections), 20.9ms\n",
      "image 468/494 E:\\University\\PythonProject\\UltralyticsPotholes\\potholes\\part8\\zr3hnf2u.jpg: 416x640 (no detections), 20.9ms\n",
      "image 469/494 E:\\University\\PythonProject\\UltralyticsPotholes\\potholes\\part8\\zr4j8sed.jpg: 448x640 1 potholes, 21.9ms\n",
      "image 470/494 E:\\University\\PythonProject\\UltralyticsPotholes\\potholes\\part8\\zrt6vazh.jpg: 448x640 6 potholess, 21.9ms\n",
      "image 471/494 E:\\University\\PythonProject\\UltralyticsPotholes\\potholes\\part8\\zs0o0dpd.jpg: 448x640 1 potholes, 20.9ms\n",
      "image 472/494 E:\\University\\PythonProject\\UltralyticsPotholes\\potholes\\part8\\zs8ou3hh.jpg: 640x384 (no detections), 17.0ms\n",
      "image 473/494 E:\\University\\PythonProject\\UltralyticsPotholes\\potholes\\part8\\zswqqerf.jpg: 640x640 1 potholes, 22.9ms\n",
      "image 474/494 E:\\University\\PythonProject\\UltralyticsPotholes\\potholes\\part8\\zt2aqmi3.jpg: 640x480 2 potholess, 19.0ms\n",
      "image 475/494 E:\\University\\PythonProject\\UltralyticsPotholes\\potholes\\part8\\zthdz4vf.jpg: 384x640 (no detections), 17.0ms\n",
      "image 476/494 E:\\University\\PythonProject\\UltralyticsPotholes\\potholes\\part8\\ztp6ql3i.jpg: 384x640 (no detections), 15.0ms\n",
      "image 477/494 E:\\University\\PythonProject\\UltralyticsPotholes\\potholes\\part8\\ztw4o38k.jpg: 640x576 (no detections), 21.9ms\n",
      "image 478/494 E:\\University\\PythonProject\\UltralyticsPotholes\\potholes\\part8\\zu01ek14.jpg: 352x640 3 potholess, 16.0ms\n",
      "image 479/494 E:\\University\\PythonProject\\UltralyticsPotholes\\potholes\\part8\\zu1rpj6a.jpg: 480x640 3 potholess, 27.9ms\n",
      "image 480/494 E:\\University\\PythonProject\\UltralyticsPotholes\\potholes\\part8\\zuyrcjmx.jpg: 640x640 1 potholes, 30.9ms\n",
      "image 481/494 E:\\University\\PythonProject\\UltralyticsPotholes\\potholes\\part8\\zwnxixju.jpg: 640x640 (no detections), 30.9ms\n",
      "image 482/494 E:\\University\\PythonProject\\UltralyticsPotholes\\potholes\\part8\\zwochj66.jpg: 480x640 4 potholess, 30.9ms\n",
      "image 483/494 E:\\University\\PythonProject\\UltralyticsPotholes\\potholes\\part8\\zwp02kas.jpg: 352x640 1 potholes, 21.9ms\n",
      "image 484/494 E:\\University\\PythonProject\\UltralyticsPotholes\\potholes\\part8\\zwwhum6v.jpg: 384x640 (no detections), 21.9ms\n",
      "image 485/494 E:\\University\\PythonProject\\UltralyticsPotholes\\potholes\\part8\\zx0bqkmx.jpg: 384x640 (no detections), 21.9ms\n",
      "image 486/494 E:\\University\\PythonProject\\UltralyticsPotholes\\potholes\\part8\\zx48xvxs.jpg: 640x640 (no detections), 28.9ms\n",
      "image 487/494 E:\\University\\PythonProject\\UltralyticsPotholes\\potholes\\part8\\zx9exkdw.jpg: 448x640 4 potholess, 24.9ms\n",
      "image 488/494 E:\\University\\PythonProject\\UltralyticsPotholes\\potholes\\part8\\zxfhwbki.jpg: 416x640 1 potholes, 24.9ms\n",
      "image 489/494 E:\\University\\PythonProject\\UltralyticsPotholes\\potholes\\part8\\zy7m9c8x.jpg: 640x640 (no detections), 26.9ms\n",
      "image 490/494 E:\\University\\PythonProject\\UltralyticsPotholes\\potholes\\part8\\zynixpux.jpg: 416x640 (no detections), 23.9ms\n",
      "image 491/494 E:\\University\\PythonProject\\UltralyticsPotholes\\potholes\\part8\\zyylqfs0.jpg: 448x640 2 potholess, 24.9ms\n",
      "image 492/494 E:\\University\\PythonProject\\UltralyticsPotholes\\potholes\\part8\\zzhe6767.jpg: 384x640 (no detections), 19.9ms\n",
      "image 493/494 E:\\University\\PythonProject\\UltralyticsPotholes\\potholes\\part8\\zzipq9zn.jpg: 416x640 1 potholes, 21.9ms\n",
      "image 494/494 E:\\University\\PythonProject\\UltralyticsPotholes\\potholes\\part8\\zzvom0ax.jpg: 448x640 1 potholes, 21.9ms\n",
      "Speed: 2.6ms preprocess, 24.1ms inference, 2.6ms postprocess per image at shape (1, 3, 448, 640)\n",
      "Results saved to \u001b[1mruns\\segment\\predict4\u001b[0m\n"
     ]
    }
   ],
   "source": [
    "resultEight = model('potholes\\\\part8',save=True)"
   ]
  }
 ],
 "metadata": {
  "kernelspec": {
   "display_name": "Python 3 (ipykernel)",
   "language": "python",
   "name": "python3"
  },
  "language_info": {
   "codemirror_mode": {
    "name": "ipython",
    "version": 3
   },
   "file_extension": ".py",
   "mimetype": "text/x-python",
   "name": "python",
   "nbconvert_exporter": "python",
   "pygments_lexer": "ipython3",
   "version": "3.10.4"
  }
 },
 "nbformat": 4,
 "nbformat_minor": 5
}
